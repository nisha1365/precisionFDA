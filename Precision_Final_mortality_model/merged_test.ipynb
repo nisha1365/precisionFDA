{
  "cells": [
    {
      "cell_type": "code",
      "source": [
        "import pandas as pd\r\n",
        "import numpy as np"
      ],
      "outputs": [],
      "execution_count": 9,
      "metadata": {
        "gather": {
          "logged": 1689675788436
        }
      }
    },
    {
      "cell_type": "code",
      "source": [
        "conditions = pd.read_csv('/mnt/batch/tasks/shared/LS_root/mounts/clusters/nisha-gpu3/code/Users/900379/Output_files_test/Potential_files_test/df_conditions_test.csv')\r\n",
        "conditions"
      ],
      "outputs": [
        {
          "output_type": "execute_result",
          "execution_count": 10,
          "data": {
            "text/plain": "       Unnamed: 0  Internalpatientid   \n0               0                  6  \\\n1               1                  7   \n2               2                  9   \n3               3                 12   \n4               4                 17   \n...           ...                ...   \n34481       34481             169037   \n34482       34482             169045   \n34483       34483             169058   \n34484       34484             169059   \n34485       34485             169065   \n\n                        Condition_code_icd10_subcategory  \n0                          88_Other specified counseling  \n1                     74_Dental caries on smooth surface  \n2      52_Hypertensive heart disease with heart failu...  \n3      74_Polyosteoarthritis, unspecified ; Osteoarth...  \n4      82_Encounter for other specified aftercare,82_...  \n...                                                  ...  \n34481  88_Other forms of chronic ischemic heart disea...  \n34482  98_Tinnitus,98_Sensorineural hearing loss, bil...  \n34483  79_Malignant neoplasm of upper lobe, bronchus ...  \n34484  91_Problem related to unspecified psychosocial...  \n34485  53_Encounter for administrative examinations, ...  \n\n[34486 rows x 3 columns]",
            "text/html": "<div>\n<style scoped>\n    .dataframe tbody tr th:only-of-type {\n        vertical-align: middle;\n    }\n\n    .dataframe tbody tr th {\n        vertical-align: top;\n    }\n\n    .dataframe thead th {\n        text-align: right;\n    }\n</style>\n<table border=\"1\" class=\"dataframe\">\n  <thead>\n    <tr style=\"text-align: right;\">\n      <th></th>\n      <th>Unnamed: 0</th>\n      <th>Internalpatientid</th>\n      <th>Condition_code_icd10_subcategory</th>\n    </tr>\n  </thead>\n  <tbody>\n    <tr>\n      <th>0</th>\n      <td>0</td>\n      <td>6</td>\n      <td>88_Other specified counseling</td>\n    </tr>\n    <tr>\n      <th>1</th>\n      <td>1</td>\n      <td>7</td>\n      <td>74_Dental caries on smooth surface</td>\n    </tr>\n    <tr>\n      <th>2</th>\n      <td>2</td>\n      <td>9</td>\n      <td>52_Hypertensive heart disease with heart failu...</td>\n    </tr>\n    <tr>\n      <th>3</th>\n      <td>3</td>\n      <td>12</td>\n      <td>74_Polyosteoarthritis, unspecified ; Osteoarth...</td>\n    </tr>\n    <tr>\n      <th>4</th>\n      <td>4</td>\n      <td>17</td>\n      <td>82_Encounter for other specified aftercare,82_...</td>\n    </tr>\n    <tr>\n      <th>...</th>\n      <td>...</td>\n      <td>...</td>\n      <td>...</td>\n    </tr>\n    <tr>\n      <th>34481</th>\n      <td>34481</td>\n      <td>169037</td>\n      <td>88_Other forms of chronic ischemic heart disea...</td>\n    </tr>\n    <tr>\n      <th>34482</th>\n      <td>34482</td>\n      <td>169045</td>\n      <td>98_Tinnitus,98_Sensorineural hearing loss, bil...</td>\n    </tr>\n    <tr>\n      <th>34483</th>\n      <td>34483</td>\n      <td>169058</td>\n      <td>79_Malignant neoplasm of upper lobe, bronchus ...</td>\n    </tr>\n    <tr>\n      <th>34484</th>\n      <td>34484</td>\n      <td>169059</td>\n      <td>91_Problem related to unspecified psychosocial...</td>\n    </tr>\n    <tr>\n      <th>34485</th>\n      <td>34485</td>\n      <td>169065</td>\n      <td>53_Encounter for administrative examinations, ...</td>\n    </tr>\n  </tbody>\n</table>\n<p>34486 rows × 3 columns</p>\n</div>"
          },
          "metadata": {}
        }
      ],
      "execution_count": 10,
      "metadata": {
        "jupyter": {
          "source_hidden": false,
          "outputs_hidden": false
        },
        "nteract": {
          "transient": {
            "deleting": false
          }
        },
        "gather": {
          "logged": 1689675801838
        }
      }
    },
    {
      "cell_type": "code",
      "source": [
        "conditions.drop('Unnamed: 0', axis = 1, inplace = True)\r\n",
        "conditions"
      ],
      "outputs": [
        {
          "output_type": "execute_result",
          "execution_count": 11,
          "data": {
            "text/plain": "       Internalpatientid                   Condition_code_icd10_subcategory\n0                      6                      88_Other specified counseling\n1                      7                 74_Dental caries on smooth surface\n2                      9  52_Hypertensive heart disease with heart failu...\n3                     12  74_Polyosteoarthritis, unspecified ; Osteoarth...\n4                     17  82_Encounter for other specified aftercare,82_...\n...                  ...                                                ...\n34481             169037  88_Other forms of chronic ischemic heart disea...\n34482             169045  98_Tinnitus,98_Sensorineural hearing loss, bil...\n34483             169058  79_Malignant neoplasm of upper lobe, bronchus ...\n34484             169059  91_Problem related to unspecified psychosocial...\n34485             169065  53_Encounter for administrative examinations, ...\n\n[34486 rows x 2 columns]",
            "text/html": "<div>\n<style scoped>\n    .dataframe tbody tr th:only-of-type {\n        vertical-align: middle;\n    }\n\n    .dataframe tbody tr th {\n        vertical-align: top;\n    }\n\n    .dataframe thead th {\n        text-align: right;\n    }\n</style>\n<table border=\"1\" class=\"dataframe\">\n  <thead>\n    <tr style=\"text-align: right;\">\n      <th></th>\n      <th>Internalpatientid</th>\n      <th>Condition_code_icd10_subcategory</th>\n    </tr>\n  </thead>\n  <tbody>\n    <tr>\n      <th>0</th>\n      <td>6</td>\n      <td>88_Other specified counseling</td>\n    </tr>\n    <tr>\n      <th>1</th>\n      <td>7</td>\n      <td>74_Dental caries on smooth surface</td>\n    </tr>\n    <tr>\n      <th>2</th>\n      <td>9</td>\n      <td>52_Hypertensive heart disease with heart failu...</td>\n    </tr>\n    <tr>\n      <th>3</th>\n      <td>12</td>\n      <td>74_Polyosteoarthritis, unspecified ; Osteoarth...</td>\n    </tr>\n    <tr>\n      <th>4</th>\n      <td>17</td>\n      <td>82_Encounter for other specified aftercare,82_...</td>\n    </tr>\n    <tr>\n      <th>...</th>\n      <td>...</td>\n      <td>...</td>\n    </tr>\n    <tr>\n      <th>34481</th>\n      <td>169037</td>\n      <td>88_Other forms of chronic ischemic heart disea...</td>\n    </tr>\n    <tr>\n      <th>34482</th>\n      <td>169045</td>\n      <td>98_Tinnitus,98_Sensorineural hearing loss, bil...</td>\n    </tr>\n    <tr>\n      <th>34483</th>\n      <td>169058</td>\n      <td>79_Malignant neoplasm of upper lobe, bronchus ...</td>\n    </tr>\n    <tr>\n      <th>34484</th>\n      <td>169059</td>\n      <td>91_Problem related to unspecified psychosocial...</td>\n    </tr>\n    <tr>\n      <th>34485</th>\n      <td>169065</td>\n      <td>53_Encounter for administrative examinations, ...</td>\n    </tr>\n  </tbody>\n</table>\n<p>34486 rows × 2 columns</p>\n</div>"
          },
          "metadata": {}
        }
      ],
      "execution_count": 11,
      "metadata": {
        "jupyter": {
          "source_hidden": false,
          "outputs_hidden": false
        },
        "nteract": {
          "transient": {
            "deleting": false
          }
        },
        "gather": {
          "logged": 1689675805100
        }
      }
    },
    {
      "cell_type": "code",
      "source": [
        "immunization = pd.read_csv('/mnt/batch/tasks/shared/LS_root/mounts/clusters/nisha-gpu3/code/Users/900379/Output_files_test/Potential_files_test/df_immunizations_test.csv')\r\n",
        "immunization"
      ],
      "outputs": [
        {
          "output_type": "execute_result",
          "execution_count": 12,
          "data": {
            "text/plain": "       Unnamed: 0  Internalpatientid   \n0               0                  6  \\\n1               1                  7   \n2               2                 12   \n3               3                 17   \n4               4                 22   \n...           ...                ...   \n32779       32779             169024   \n32780       32780             169037   \n32781       32781             169045   \n32782       32782             169059   \n32783       32783             169065   \n\n                                            immunization  \n0                              88_FLU,3 YRS (HISTORICAL)  \n1      73_INFLUENZA, INJECTABLE, QUADRIVALENT, PRESER...  \n2                              71_FLU,3 YRS (HISTORICAL)  \n3          82_INFLUENZA (HISTORICAL),82_INFLUENZA, WHOLE  \n4               55_PNEUMOCOCCAL, UNSPECIFIED FORMULATION  \n...                                                  ...  \n32779                          71_INFLUENZA (HISTORICAL)  \n32780                              87_ZOSTER RECOMBINANT  \n32781  97_COVID-19 (PFIZER), MRNA, LNP-S, PF, 30 MCG/...  \n32782              90_INFLUENZA, UNSPECIFIED FORMULATION  \n32783              53_INFLUENZA, UNSPECIFIED FORMULATION  \n\n[32784 rows x 3 columns]",
            "text/html": "<div>\n<style scoped>\n    .dataframe tbody tr th:only-of-type {\n        vertical-align: middle;\n    }\n\n    .dataframe tbody tr th {\n        vertical-align: top;\n    }\n\n    .dataframe thead th {\n        text-align: right;\n    }\n</style>\n<table border=\"1\" class=\"dataframe\">\n  <thead>\n    <tr style=\"text-align: right;\">\n      <th></th>\n      <th>Unnamed: 0</th>\n      <th>Internalpatientid</th>\n      <th>immunization</th>\n    </tr>\n  </thead>\n  <tbody>\n    <tr>\n      <th>0</th>\n      <td>0</td>\n      <td>6</td>\n      <td>88_FLU,3 YRS (HISTORICAL)</td>\n    </tr>\n    <tr>\n      <th>1</th>\n      <td>1</td>\n      <td>7</td>\n      <td>73_INFLUENZA, INJECTABLE, QUADRIVALENT, PRESER...</td>\n    </tr>\n    <tr>\n      <th>2</th>\n      <td>2</td>\n      <td>12</td>\n      <td>71_FLU,3 YRS (HISTORICAL)</td>\n    </tr>\n    <tr>\n      <th>3</th>\n      <td>3</td>\n      <td>17</td>\n      <td>82_INFLUENZA (HISTORICAL),82_INFLUENZA, WHOLE</td>\n    </tr>\n    <tr>\n      <th>4</th>\n      <td>4</td>\n      <td>22</td>\n      <td>55_PNEUMOCOCCAL, UNSPECIFIED FORMULATION</td>\n    </tr>\n    <tr>\n      <th>...</th>\n      <td>...</td>\n      <td>...</td>\n      <td>...</td>\n    </tr>\n    <tr>\n      <th>32779</th>\n      <td>32779</td>\n      <td>169024</td>\n      <td>71_INFLUENZA (HISTORICAL)</td>\n    </tr>\n    <tr>\n      <th>32780</th>\n      <td>32780</td>\n      <td>169037</td>\n      <td>87_ZOSTER RECOMBINANT</td>\n    </tr>\n    <tr>\n      <th>32781</th>\n      <td>32781</td>\n      <td>169045</td>\n      <td>97_COVID-19 (PFIZER), MRNA, LNP-S, PF, 30 MCG/...</td>\n    </tr>\n    <tr>\n      <th>32782</th>\n      <td>32782</td>\n      <td>169059</td>\n      <td>90_INFLUENZA, UNSPECIFIED FORMULATION</td>\n    </tr>\n    <tr>\n      <th>32783</th>\n      <td>32783</td>\n      <td>169065</td>\n      <td>53_INFLUENZA, UNSPECIFIED FORMULATION</td>\n    </tr>\n  </tbody>\n</table>\n<p>32784 rows × 3 columns</p>\n</div>"
          },
          "metadata": {}
        }
      ],
      "execution_count": 12,
      "metadata": {
        "jupyter": {
          "source_hidden": false,
          "outputs_hidden": false
        },
        "nteract": {
          "transient": {
            "deleting": false
          }
        },
        "gather": {
          "logged": 1689675812198
        }
      }
    },
    {
      "cell_type": "code",
      "source": [
        "immunization.drop('Unnamed: 0', axis = 1, inplace = True)\r\n",
        "immunization"
      ],
      "outputs": [
        {
          "output_type": "execute_result",
          "execution_count": 13,
          "data": {
            "text/plain": "       Internalpatientid                                       immunization\n0                      6                          88_FLU,3 YRS (HISTORICAL)\n1                      7  73_INFLUENZA, INJECTABLE, QUADRIVALENT, PRESER...\n2                     12                          71_FLU,3 YRS (HISTORICAL)\n3                     17      82_INFLUENZA (HISTORICAL),82_INFLUENZA, WHOLE\n4                     22           55_PNEUMOCOCCAL, UNSPECIFIED FORMULATION\n...                  ...                                                ...\n32779             169024                          71_INFLUENZA (HISTORICAL)\n32780             169037                              87_ZOSTER RECOMBINANT\n32781             169045  97_COVID-19 (PFIZER), MRNA, LNP-S, PF, 30 MCG/...\n32782             169059              90_INFLUENZA, UNSPECIFIED FORMULATION\n32783             169065              53_INFLUENZA, UNSPECIFIED FORMULATION\n\n[32784 rows x 2 columns]",
            "text/html": "<div>\n<style scoped>\n    .dataframe tbody tr th:only-of-type {\n        vertical-align: middle;\n    }\n\n    .dataframe tbody tr th {\n        vertical-align: top;\n    }\n\n    .dataframe thead th {\n        text-align: right;\n    }\n</style>\n<table border=\"1\" class=\"dataframe\">\n  <thead>\n    <tr style=\"text-align: right;\">\n      <th></th>\n      <th>Internalpatientid</th>\n      <th>immunization</th>\n    </tr>\n  </thead>\n  <tbody>\n    <tr>\n      <th>0</th>\n      <td>6</td>\n      <td>88_FLU,3 YRS (HISTORICAL)</td>\n    </tr>\n    <tr>\n      <th>1</th>\n      <td>7</td>\n      <td>73_INFLUENZA, INJECTABLE, QUADRIVALENT, PRESER...</td>\n    </tr>\n    <tr>\n      <th>2</th>\n      <td>12</td>\n      <td>71_FLU,3 YRS (HISTORICAL)</td>\n    </tr>\n    <tr>\n      <th>3</th>\n      <td>17</td>\n      <td>82_INFLUENZA (HISTORICAL),82_INFLUENZA, WHOLE</td>\n    </tr>\n    <tr>\n      <th>4</th>\n      <td>22</td>\n      <td>55_PNEUMOCOCCAL, UNSPECIFIED FORMULATION</td>\n    </tr>\n    <tr>\n      <th>...</th>\n      <td>...</td>\n      <td>...</td>\n    </tr>\n    <tr>\n      <th>32779</th>\n      <td>169024</td>\n      <td>71_INFLUENZA (HISTORICAL)</td>\n    </tr>\n    <tr>\n      <th>32780</th>\n      <td>169037</td>\n      <td>87_ZOSTER RECOMBINANT</td>\n    </tr>\n    <tr>\n      <th>32781</th>\n      <td>169045</td>\n      <td>97_COVID-19 (PFIZER), MRNA, LNP-S, PF, 30 MCG/...</td>\n    </tr>\n    <tr>\n      <th>32782</th>\n      <td>169059</td>\n      <td>90_INFLUENZA, UNSPECIFIED FORMULATION</td>\n    </tr>\n    <tr>\n      <th>32783</th>\n      <td>169065</td>\n      <td>53_INFLUENZA, UNSPECIFIED FORMULATION</td>\n    </tr>\n  </tbody>\n</table>\n<p>32784 rows × 2 columns</p>\n</div>"
          },
          "metadata": {}
        }
      ],
      "execution_count": 13,
      "metadata": {
        "jupyter": {
          "source_hidden": false,
          "outputs_hidden": false
        },
        "nteract": {
          "transient": {
            "deleting": false
          }
        },
        "gather": {
          "logged": 1689675815332
        }
      }
    },
    {
      "cell_type": "code",
      "source": [
        "lab_results = pd.read_csv('/mnt/batch/tasks/shared/LS_root/mounts/clusters/nisha-gpu3/code/Users/900379/Output_files_test/Potential_files_test/df_lab_results_test_with_age_v1.csv')\r\n",
        "lab_results"
      ],
      "outputs": [
        {
          "output_type": "execute_result",
          "execution_count": 14,
          "data": {
            "text/plain": "       Unnamed: 0  Internalpatientid   \n0               0                  6  \\\n1               1                  7   \n2               2                  9   \n3               3                 12   \n4               4                 17   \n...           ...                ...   \n33629       33629             169037   \n33630       33630             169045   \n33631       33631             169058   \n33632       33632             169059   \n33633       33633             169065   \n\n                             Lab_test_description_Result  \n0      88_FINGERSTICK INR (COAGUCHEK)_2.57,88_FINGERS...  \n1      74_RBC_4.79,74_ABS MONOCYTE_0.71,74_BASOPHIL %...  \n2      52_Bands_3.0,52_RDW_21.2*,52_ZZZAUTO ANISO_++,...  \n3      74_LDL-CHOL CALCULATION_69.74,74_SODIUM (blood...  \n4      82_HCO3-_12.0,82_ICTERUS INDEX_2.0,82_SODIUM_1...  \n...                                                  ...  \n33629  88_Mch_30.38,88_RBC_4.2,88_WBC_6.91,88_RDW-CV_...  \n33630  86_UREA NITROGEN_28.0,86_NON HDL CHOLESTEROL_1...  \n33631  79_GLUCOSE,BLOOD-poct  (STL)_151.0,79_GLUCOSE,...  \n33632  91_SODIUM_133.0,91_LDL CALCULATION_106.0,91_AL...  \n33633  53_CALCIUM, IONIZED (RAPIDLAB)_1.32,53_pO2(T) ...  \n\n[33634 rows x 3 columns]",
            "text/html": "<div>\n<style scoped>\n    .dataframe tbody tr th:only-of-type {\n        vertical-align: middle;\n    }\n\n    .dataframe tbody tr th {\n        vertical-align: top;\n    }\n\n    .dataframe thead th {\n        text-align: right;\n    }\n</style>\n<table border=\"1\" class=\"dataframe\">\n  <thead>\n    <tr style=\"text-align: right;\">\n      <th></th>\n      <th>Unnamed: 0</th>\n      <th>Internalpatientid</th>\n      <th>Lab_test_description_Result</th>\n    </tr>\n  </thead>\n  <tbody>\n    <tr>\n      <th>0</th>\n      <td>0</td>\n      <td>6</td>\n      <td>88_FINGERSTICK INR (COAGUCHEK)_2.57,88_FINGERS...</td>\n    </tr>\n    <tr>\n      <th>1</th>\n      <td>1</td>\n      <td>7</td>\n      <td>74_RBC_4.79,74_ABS MONOCYTE_0.71,74_BASOPHIL %...</td>\n    </tr>\n    <tr>\n      <th>2</th>\n      <td>2</td>\n      <td>9</td>\n      <td>52_Bands_3.0,52_RDW_21.2*,52_ZZZAUTO ANISO_++,...</td>\n    </tr>\n    <tr>\n      <th>3</th>\n      <td>3</td>\n      <td>12</td>\n      <td>74_LDL-CHOL CALCULATION_69.74,74_SODIUM (blood...</td>\n    </tr>\n    <tr>\n      <th>4</th>\n      <td>4</td>\n      <td>17</td>\n      <td>82_HCO3-_12.0,82_ICTERUS INDEX_2.0,82_SODIUM_1...</td>\n    </tr>\n    <tr>\n      <th>...</th>\n      <td>...</td>\n      <td>...</td>\n      <td>...</td>\n    </tr>\n    <tr>\n      <th>33629</th>\n      <td>33629</td>\n      <td>169037</td>\n      <td>88_Mch_30.38,88_RBC_4.2,88_WBC_6.91,88_RDW-CV_...</td>\n    </tr>\n    <tr>\n      <th>33630</th>\n      <td>33630</td>\n      <td>169045</td>\n      <td>86_UREA NITROGEN_28.0,86_NON HDL CHOLESTEROL_1...</td>\n    </tr>\n    <tr>\n      <th>33631</th>\n      <td>33631</td>\n      <td>169058</td>\n      <td>79_GLUCOSE,BLOOD-poct  (STL)_151.0,79_GLUCOSE,...</td>\n    </tr>\n    <tr>\n      <th>33632</th>\n      <td>33632</td>\n      <td>169059</td>\n      <td>91_SODIUM_133.0,91_LDL CALCULATION_106.0,91_AL...</td>\n    </tr>\n    <tr>\n      <th>33633</th>\n      <td>33633</td>\n      <td>169065</td>\n      <td>53_CALCIUM, IONIZED (RAPIDLAB)_1.32,53_pO2(T) ...</td>\n    </tr>\n  </tbody>\n</table>\n<p>33634 rows × 3 columns</p>\n</div>"
          },
          "metadata": {}
        }
      ],
      "execution_count": 14,
      "metadata": {
        "jupyter": {
          "source_hidden": false,
          "outputs_hidden": false
        },
        "nteract": {
          "transient": {
            "deleting": false
          }
        },
        "gather": {
          "logged": 1689675847967
        }
      }
    },
    {
      "cell_type": "code",
      "source": [
        "lab_results.drop('Unnamed: 0', axis = 1, inplace = True)\r\n",
        "lab_results"
      ],
      "outputs": [
        {
          "output_type": "execute_result",
          "execution_count": 15,
          "data": {
            "text/plain": "       Internalpatientid                        Lab_test_description_Result\n0                      6  88_FINGERSTICK INR (COAGUCHEK)_2.57,88_FINGERS...\n1                      7  74_RBC_4.79,74_ABS MONOCYTE_0.71,74_BASOPHIL %...\n2                      9  52_Bands_3.0,52_RDW_21.2*,52_ZZZAUTO ANISO_++,...\n3                     12  74_LDL-CHOL CALCULATION_69.74,74_SODIUM (blood...\n4                     17  82_HCO3-_12.0,82_ICTERUS INDEX_2.0,82_SODIUM_1...\n...                  ...                                                ...\n33629             169037  88_Mch_30.38,88_RBC_4.2,88_WBC_6.91,88_RDW-CV_...\n33630             169045  86_UREA NITROGEN_28.0,86_NON HDL CHOLESTEROL_1...\n33631             169058  79_GLUCOSE,BLOOD-poct  (STL)_151.0,79_GLUCOSE,...\n33632             169059  91_SODIUM_133.0,91_LDL CALCULATION_106.0,91_AL...\n33633             169065  53_CALCIUM, IONIZED (RAPIDLAB)_1.32,53_pO2(T) ...\n\n[33634 rows x 2 columns]",
            "text/html": "<div>\n<style scoped>\n    .dataframe tbody tr th:only-of-type {\n        vertical-align: middle;\n    }\n\n    .dataframe tbody tr th {\n        vertical-align: top;\n    }\n\n    .dataframe thead th {\n        text-align: right;\n    }\n</style>\n<table border=\"1\" class=\"dataframe\">\n  <thead>\n    <tr style=\"text-align: right;\">\n      <th></th>\n      <th>Internalpatientid</th>\n      <th>Lab_test_description_Result</th>\n    </tr>\n  </thead>\n  <tbody>\n    <tr>\n      <th>0</th>\n      <td>6</td>\n      <td>88_FINGERSTICK INR (COAGUCHEK)_2.57,88_FINGERS...</td>\n    </tr>\n    <tr>\n      <th>1</th>\n      <td>7</td>\n      <td>74_RBC_4.79,74_ABS MONOCYTE_0.71,74_BASOPHIL %...</td>\n    </tr>\n    <tr>\n      <th>2</th>\n      <td>9</td>\n      <td>52_Bands_3.0,52_RDW_21.2*,52_ZZZAUTO ANISO_++,...</td>\n    </tr>\n    <tr>\n      <th>3</th>\n      <td>12</td>\n      <td>74_LDL-CHOL CALCULATION_69.74,74_SODIUM (blood...</td>\n    </tr>\n    <tr>\n      <th>4</th>\n      <td>17</td>\n      <td>82_HCO3-_12.0,82_ICTERUS INDEX_2.0,82_SODIUM_1...</td>\n    </tr>\n    <tr>\n      <th>...</th>\n      <td>...</td>\n      <td>...</td>\n    </tr>\n    <tr>\n      <th>33629</th>\n      <td>169037</td>\n      <td>88_Mch_30.38,88_RBC_4.2,88_WBC_6.91,88_RDW-CV_...</td>\n    </tr>\n    <tr>\n      <th>33630</th>\n      <td>169045</td>\n      <td>86_UREA NITROGEN_28.0,86_NON HDL CHOLESTEROL_1...</td>\n    </tr>\n    <tr>\n      <th>33631</th>\n      <td>169058</td>\n      <td>79_GLUCOSE,BLOOD-poct  (STL)_151.0,79_GLUCOSE,...</td>\n    </tr>\n    <tr>\n      <th>33632</th>\n      <td>169059</td>\n      <td>91_SODIUM_133.0,91_LDL CALCULATION_106.0,91_AL...</td>\n    </tr>\n    <tr>\n      <th>33633</th>\n      <td>169065</td>\n      <td>53_CALCIUM, IONIZED (RAPIDLAB)_1.32,53_pO2(T) ...</td>\n    </tr>\n  </tbody>\n</table>\n<p>33634 rows × 2 columns</p>\n</div>"
          },
          "metadata": {}
        }
      ],
      "execution_count": 15,
      "metadata": {
        "jupyter": {
          "source_hidden": false,
          "outputs_hidden": false
        },
        "nteract": {
          "transient": {
            "deleting": false
          }
        },
        "gather": {
          "logged": 1689675852092
        }
      }
    },
    {
      "cell_type": "code",
      "source": [
        "measurement_bp = pd.read_csv('/mnt/batch/tasks/shared/LS_root/mounts/clusters/nisha-gpu3/code/Users/900379/Output_files_test/Potential_files_test/df_measurement_blood_pressure_test_v1.csv')\r\n",
        "measurement_bp"
      ],
      "outputs": [
        {
          "output_type": "execute_result",
          "execution_count": 16,
          "data": {
            "text/plain": "       Unnamed: 0  Internalpatientid  Diastolic bp  Systolic bp\n0               0             100021          93.0        152.0\n1               1              10008          63.0        155.0\n2               2             100093          71.0        136.0\n3               3             100169          75.0        170.0\n4               4             100133          63.0        105.0\n...           ...                ...           ...          ...\n34506       34506              99716          54.0         88.0\n34507       34507              99795          59.0        114.0\n34508       34508              99860          62.0        109.0\n34509       34509              99951          68.0        107.0\n34510       34510              99997          58.0        123.0\n\n[34511 rows x 4 columns]",
            "text/html": "<div>\n<style scoped>\n    .dataframe tbody tr th:only-of-type {\n        vertical-align: middle;\n    }\n\n    .dataframe tbody tr th {\n        vertical-align: top;\n    }\n\n    .dataframe thead th {\n        text-align: right;\n    }\n</style>\n<table border=\"1\" class=\"dataframe\">\n  <thead>\n    <tr style=\"text-align: right;\">\n      <th></th>\n      <th>Unnamed: 0</th>\n      <th>Internalpatientid</th>\n      <th>Diastolic bp</th>\n      <th>Systolic bp</th>\n    </tr>\n  </thead>\n  <tbody>\n    <tr>\n      <th>0</th>\n      <td>0</td>\n      <td>100021</td>\n      <td>93.0</td>\n      <td>152.0</td>\n    </tr>\n    <tr>\n      <th>1</th>\n      <td>1</td>\n      <td>10008</td>\n      <td>63.0</td>\n      <td>155.0</td>\n    </tr>\n    <tr>\n      <th>2</th>\n      <td>2</td>\n      <td>100093</td>\n      <td>71.0</td>\n      <td>136.0</td>\n    </tr>\n    <tr>\n      <th>3</th>\n      <td>3</td>\n      <td>100169</td>\n      <td>75.0</td>\n      <td>170.0</td>\n    </tr>\n    <tr>\n      <th>4</th>\n      <td>4</td>\n      <td>100133</td>\n      <td>63.0</td>\n      <td>105.0</td>\n    </tr>\n    <tr>\n      <th>...</th>\n      <td>...</td>\n      <td>...</td>\n      <td>...</td>\n      <td>...</td>\n    </tr>\n    <tr>\n      <th>34506</th>\n      <td>34506</td>\n      <td>99716</td>\n      <td>54.0</td>\n      <td>88.0</td>\n    </tr>\n    <tr>\n      <th>34507</th>\n      <td>34507</td>\n      <td>99795</td>\n      <td>59.0</td>\n      <td>114.0</td>\n    </tr>\n    <tr>\n      <th>34508</th>\n      <td>34508</td>\n      <td>99860</td>\n      <td>62.0</td>\n      <td>109.0</td>\n    </tr>\n    <tr>\n      <th>34509</th>\n      <td>34509</td>\n      <td>99951</td>\n      <td>68.0</td>\n      <td>107.0</td>\n    </tr>\n    <tr>\n      <th>34510</th>\n      <td>34510</td>\n      <td>99997</td>\n      <td>58.0</td>\n      <td>123.0</td>\n    </tr>\n  </tbody>\n</table>\n<p>34511 rows × 4 columns</p>\n</div>"
          },
          "metadata": {}
        }
      ],
      "execution_count": 16,
      "metadata": {
        "jupyter": {
          "source_hidden": false,
          "outputs_hidden": false
        },
        "nteract": {
          "transient": {
            "deleting": false
          }
        },
        "gather": {
          "logged": 1689675864574
        }
      }
    },
    {
      "cell_type": "code",
      "source": [
        "measurements = pd.read_csv('/mnt/batch/tasks/shared/LS_root/mounts/clusters/nisha-gpu3/code/Users/900379/Output_files_test/Potential_files_test/df_measurements_pivot_test_v1.csv')\r\n",
        "measurements.head()"
      ],
      "outputs": [
        {
          "output_type": "execute_result",
          "execution_count": 18,
          "data": {
            "text/plain": "   Internalpatientid  Pain  Pulse  Respiratory rate  Temperature\n0                  6   0.0   51.0              16.0    97.030389\n1                  7   0.0   67.0              19.0    97.567325\n2                  9   0.0   91.0              21.0    98.600910\n3                 12   3.0   64.0              24.0    97.693046\n4                 17   0.0   63.0              25.0   101.122904",
            "text/html": "<div>\n<style scoped>\n    .dataframe tbody tr th:only-of-type {\n        vertical-align: middle;\n    }\n\n    .dataframe tbody tr th {\n        vertical-align: top;\n    }\n\n    .dataframe thead th {\n        text-align: right;\n    }\n</style>\n<table border=\"1\" class=\"dataframe\">\n  <thead>\n    <tr style=\"text-align: right;\">\n      <th></th>\n      <th>Internalpatientid</th>\n      <th>Pain</th>\n      <th>Pulse</th>\n      <th>Respiratory rate</th>\n      <th>Temperature</th>\n    </tr>\n  </thead>\n  <tbody>\n    <tr>\n      <th>0</th>\n      <td>6</td>\n      <td>0.0</td>\n      <td>51.0</td>\n      <td>16.0</td>\n      <td>97.030389</td>\n    </tr>\n    <tr>\n      <th>1</th>\n      <td>7</td>\n      <td>0.0</td>\n      <td>67.0</td>\n      <td>19.0</td>\n      <td>97.567325</td>\n    </tr>\n    <tr>\n      <th>2</th>\n      <td>9</td>\n      <td>0.0</td>\n      <td>91.0</td>\n      <td>21.0</td>\n      <td>98.600910</td>\n    </tr>\n    <tr>\n      <th>3</th>\n      <td>12</td>\n      <td>3.0</td>\n      <td>64.0</td>\n      <td>24.0</td>\n      <td>97.693046</td>\n    </tr>\n    <tr>\n      <th>4</th>\n      <td>17</td>\n      <td>0.0</td>\n      <td>63.0</td>\n      <td>25.0</td>\n      <td>101.122904</td>\n    </tr>\n  </tbody>\n</table>\n</div>"
          },
          "metadata": {}
        }
      ],
      "execution_count": 18,
      "metadata": {
        "jupyter": {
          "source_hidden": false,
          "outputs_hidden": false
        },
        "nteract": {
          "transient": {
            "deleting": false
          }
        },
        "gather": {
          "logged": 1689675888380
        }
      }
    },
    {
      "cell_type": "code",
      "source": [
        "death_test = pd.read_csv('/mnt/batch/tasks/shared/LS_root/mounts/clusters/nisha-gpu3/code/Users/900379/Output_files_test/Potential_files_test/df_death_test.csv')\r\n",
        "death_test"
      ],
      "outputs": [
        {
          "output_type": "execute_result",
          "execution_count": 20,
          "data": {
            "text/plain": "       Unnamed: 0  Internalpatientid  death\n0               0             100115      1\n1               1             100116      1\n2               2             100133      1\n3               3             100218      1\n4               4             100345      1\n...           ...                ...    ...\n25323       25323              99853      1\n25324       25324              99895      1\n25325       25325              99958      1\n25326       25326              99985      1\n25327       25327              99997      1\n\n[25328 rows x 3 columns]",
            "text/html": "<div>\n<style scoped>\n    .dataframe tbody tr th:only-of-type {\n        vertical-align: middle;\n    }\n\n    .dataframe tbody tr th {\n        vertical-align: top;\n    }\n\n    .dataframe thead th {\n        text-align: right;\n    }\n</style>\n<table border=\"1\" class=\"dataframe\">\n  <thead>\n    <tr style=\"text-align: right;\">\n      <th></th>\n      <th>Unnamed: 0</th>\n      <th>Internalpatientid</th>\n      <th>death</th>\n    </tr>\n  </thead>\n  <tbody>\n    <tr>\n      <th>0</th>\n      <td>0</td>\n      <td>100115</td>\n      <td>1</td>\n    </tr>\n    <tr>\n      <th>1</th>\n      <td>1</td>\n      <td>100116</td>\n      <td>1</td>\n    </tr>\n    <tr>\n      <th>2</th>\n      <td>2</td>\n      <td>100133</td>\n      <td>1</td>\n    </tr>\n    <tr>\n      <th>3</th>\n      <td>3</td>\n      <td>100218</td>\n      <td>1</td>\n    </tr>\n    <tr>\n      <th>4</th>\n      <td>4</td>\n      <td>100345</td>\n      <td>1</td>\n    </tr>\n    <tr>\n      <th>...</th>\n      <td>...</td>\n      <td>...</td>\n      <td>...</td>\n    </tr>\n    <tr>\n      <th>25323</th>\n      <td>25323</td>\n      <td>99853</td>\n      <td>1</td>\n    </tr>\n    <tr>\n      <th>25324</th>\n      <td>25324</td>\n      <td>99895</td>\n      <td>1</td>\n    </tr>\n    <tr>\n      <th>25325</th>\n      <td>25325</td>\n      <td>99958</td>\n      <td>1</td>\n    </tr>\n    <tr>\n      <th>25326</th>\n      <td>25326</td>\n      <td>99985</td>\n      <td>1</td>\n    </tr>\n    <tr>\n      <th>25327</th>\n      <td>25327</td>\n      <td>99997</td>\n      <td>1</td>\n    </tr>\n  </tbody>\n</table>\n<p>25328 rows × 3 columns</p>\n</div>"
          },
          "metadata": {}
        }
      ],
      "execution_count": 20,
      "metadata": {
        "jupyter": {
          "source_hidden": false,
          "outputs_hidden": false
        },
        "nteract": {
          "transient": {
            "deleting": false
          }
        },
        "gather": {
          "logged": 1689675976970
        }
      }
    },
    {
      "cell_type": "code",
      "source": [
        "death_test.drop('Unnamed: 0', axis = 1, inplace = True)\r\n",
        "death_test"
      ],
      "outputs": [
        {
          "output_type": "execute_result",
          "execution_count": 21,
          "data": {
            "text/plain": "       Internalpatientid  death\n0                 100115      1\n1                 100116      1\n2                 100133      1\n3                 100218      1\n4                 100345      1\n...                  ...    ...\n25323              99853      1\n25324              99895      1\n25325              99958      1\n25326              99985      1\n25327              99997      1\n\n[25328 rows x 2 columns]",
            "text/html": "<div>\n<style scoped>\n    .dataframe tbody tr th:only-of-type {\n        vertical-align: middle;\n    }\n\n    .dataframe tbody tr th {\n        vertical-align: top;\n    }\n\n    .dataframe thead th {\n        text-align: right;\n    }\n</style>\n<table border=\"1\" class=\"dataframe\">\n  <thead>\n    <tr style=\"text-align: right;\">\n      <th></th>\n      <th>Internalpatientid</th>\n      <th>death</th>\n    </tr>\n  </thead>\n  <tbody>\n    <tr>\n      <th>0</th>\n      <td>100115</td>\n      <td>1</td>\n    </tr>\n    <tr>\n      <th>1</th>\n      <td>100116</td>\n      <td>1</td>\n    </tr>\n    <tr>\n      <th>2</th>\n      <td>100133</td>\n      <td>1</td>\n    </tr>\n    <tr>\n      <th>3</th>\n      <td>100218</td>\n      <td>1</td>\n    </tr>\n    <tr>\n      <th>4</th>\n      <td>100345</td>\n      <td>1</td>\n    </tr>\n    <tr>\n      <th>...</th>\n      <td>...</td>\n      <td>...</td>\n    </tr>\n    <tr>\n      <th>25323</th>\n      <td>99853</td>\n      <td>1</td>\n    </tr>\n    <tr>\n      <th>25324</th>\n      <td>99895</td>\n      <td>1</td>\n    </tr>\n    <tr>\n      <th>25325</th>\n      <td>99958</td>\n      <td>1</td>\n    </tr>\n    <tr>\n      <th>25326</th>\n      <td>99985</td>\n      <td>1</td>\n    </tr>\n    <tr>\n      <th>25327</th>\n      <td>99997</td>\n      <td>1</td>\n    </tr>\n  </tbody>\n</table>\n<p>25328 rows × 2 columns</p>\n</div>"
          },
          "metadata": {}
        }
      ],
      "execution_count": 21,
      "metadata": {
        "jupyter": {
          "source_hidden": false,
          "outputs_hidden": false
        },
        "nteract": {
          "transient": {
            "deleting": false
          }
        },
        "gather": {
          "logged": 1689676029405
        }
      }
    },
    {
      "cell_type": "code",
      "source": [
        "# List of files names in desired sequence\r\n",
        "\r\n",
        "dataframe_sequence = ['conditions','immunization','lab_results','measurement_bp','measurements','death_test']\r\n",
        "\r\n",
        "# Initialize merged_df with the first dataframe in the sequence\r\n",
        "merged_df_test = globals()[dataframe_sequence[0]]\r\n",
        "\r\n",
        "# Loop through the remaining dataframe names in the desired seq\r\n",
        "\r\n",
        "for df_name in dataframe_sequence[1:]:\r\n",
        "\r\n",
        "    merged_df_test = merged_df_test.merge(globals()[df_name], on = 'Internalpatientid',how= 'outer')\r\n",
        "\r\n",
        "print(merged_df_test)\r\n"
      ],
      "outputs": [
        {
          "output_type": "stream",
          "name": "stdout",
          "text": "       Internalpatientid                   Condition_code_icd10_subcategory   \n0                      6                      88_Other specified counseling  \\\n1                      7                 74_Dental caries on smooth surface   \n2                      9  52_Hypertensive heart disease with heart failu...   \n3                     12  74_Polyosteoarthritis, unspecified ; Osteoarth...   \n4                     17  82_Encounter for other specified aftercare,82_...   \n...                  ...                                                ...   \n34808              64432                                                NaN   \n34809             106205                                                NaN   \n34810             138129                                                NaN   \n34811             145401                                                NaN   \n34812             163322                                                NaN   \n\n                                            immunization   \n0                              88_FLU,3 YRS (HISTORICAL)  \\\n1      73_INFLUENZA, INJECTABLE, QUADRIVALENT, PRESER...   \n2                                                    NaN   \n3                              71_FLU,3 YRS (HISTORICAL)   \n4          82_INFLUENZA (HISTORICAL),82_INFLUENZA, WHOLE   \n...                                                  ...   \n34808                                                NaN   \n34809                                                NaN   \n34810                                                NaN   \n34811                                                NaN   \n34812                                                NaN   \n\n                             Lab_test_description_Result  Unnamed: 0   \n0      88_FINGERSTICK INR (COAGUCHEK)_2.57,88_FINGERS...     21412.0  \\\n1      74_RBC_4.79,74_ABS MONOCYTE_0.71,74_BASOPHIL %...     23192.0   \n2      52_Bands_3.0,52_RDW_21.2*,52_ZZZAUTO ANISO_++,...     27136.0   \n3      74_LDL-CHOL CALCULATION_69.74,74_SODIUM (blood...      8238.0   \n4      82_HCO3-_12.0,82_ICTERUS INDEX_2.0,82_SODIUM_1...     13198.0   \n...                                                  ...         ...   \n34808  71_CK/CPK_25.0,71_IONIZED CALCIUM (dc'd 022321...     22528.0   \n34809  79_B2 GLYCOPROTEIN I (IGM)AB_3.72,79_B2 GLYCOP...      3442.0   \n34810  54_PROCALCITONIN (PCT)_7.08,54_LDH_9582.0,54_L...      7095.0   \n34811                  75_MRSA SURVL NARES AGAR_Negative      8655.0   \n34812  62_BUN/CREATININE RATIO_19.0,62_eGFR (DC'd 2/1...     24357.0   \n\n       Diastolic bp  Systolic bp  Pain  Pulse  Respiratory rate  Temperature   \n0              67.0        126.0   0.0   51.0              16.0    97.030389  \\\n1              72.0        116.0   0.0   67.0              19.0    97.567325   \n2              52.0        105.0   0.0   91.0              21.0    98.600910   \n3              67.0        104.0   3.0   64.0              24.0    97.693046   \n4              61.0         86.0   0.0   63.0              25.0   101.122904   \n...             ...          ...   ...    ...               ...          ...   \n34808          50.0        132.0   0.0   41.0              25.0    99.396176   \n34809          69.0        132.0   0.0  114.0              23.0   102.395419   \n34810          64.0         84.0   0.0   94.0              29.0    93.109955   \n34811          56.0        103.0   4.0   77.0              20.0   100.525257   \n34812          65.0        102.0   0.0  123.0              22.0    97.000000   \n\n       death  \n0        1.0  \n1        NaN  \n2        1.0  \n3        1.0  \n4        1.0  \n...      ...  \n34808    1.0  \n34809    1.0  \n34810    1.0  \n34811    1.0  \n34812    1.0  \n\n[34813 rows x 12 columns]\n"
        }
      ],
      "execution_count": 22,
      "metadata": {
        "jupyter": {
          "source_hidden": false,
          "outputs_hidden": false
        },
        "nteract": {
          "transient": {
            "deleting": false
          }
        },
        "gather": {
          "logged": 1689676036412
        }
      }
    },
    {
      "cell_type": "code",
      "source": [
        "merged_df_test"
      ],
      "outputs": [
        {
          "output_type": "execute_result",
          "execution_count": 23,
          "data": {
            "text/plain": "       Internalpatientid                   Condition_code_icd10_subcategory   \n0                      6                      88_Other specified counseling  \\\n1                      7                 74_Dental caries on smooth surface   \n2                      9  52_Hypertensive heart disease with heart failu...   \n3                     12  74_Polyosteoarthritis, unspecified ; Osteoarth...   \n4                     17  82_Encounter for other specified aftercare,82_...   \n...                  ...                                                ...   \n34808              64432                                                NaN   \n34809             106205                                                NaN   \n34810             138129                                                NaN   \n34811             145401                                                NaN   \n34812             163322                                                NaN   \n\n                                            immunization   \n0                              88_FLU,3 YRS (HISTORICAL)  \\\n1      73_INFLUENZA, INJECTABLE, QUADRIVALENT, PRESER...   \n2                                                    NaN   \n3                              71_FLU,3 YRS (HISTORICAL)   \n4          82_INFLUENZA (HISTORICAL),82_INFLUENZA, WHOLE   \n...                                                  ...   \n34808                                                NaN   \n34809                                                NaN   \n34810                                                NaN   \n34811                                                NaN   \n34812                                                NaN   \n\n                             Lab_test_description_Result  Unnamed: 0   \n0      88_FINGERSTICK INR (COAGUCHEK)_2.57,88_FINGERS...     21412.0  \\\n1      74_RBC_4.79,74_ABS MONOCYTE_0.71,74_BASOPHIL %...     23192.0   \n2      52_Bands_3.0,52_RDW_21.2*,52_ZZZAUTO ANISO_++,...     27136.0   \n3      74_LDL-CHOL CALCULATION_69.74,74_SODIUM (blood...      8238.0   \n4      82_HCO3-_12.0,82_ICTERUS INDEX_2.0,82_SODIUM_1...     13198.0   \n...                                                  ...         ...   \n34808  71_CK/CPK_25.0,71_IONIZED CALCIUM (dc'd 022321...     22528.0   \n34809  79_B2 GLYCOPROTEIN I (IGM)AB_3.72,79_B2 GLYCOP...      3442.0   \n34810  54_PROCALCITONIN (PCT)_7.08,54_LDH_9582.0,54_L...      7095.0   \n34811                  75_MRSA SURVL NARES AGAR_Negative      8655.0   \n34812  62_BUN/CREATININE RATIO_19.0,62_eGFR (DC'd 2/1...     24357.0   \n\n       Diastolic bp  Systolic bp  Pain  Pulse  Respiratory rate  Temperature   \n0              67.0        126.0   0.0   51.0              16.0    97.030389  \\\n1              72.0        116.0   0.0   67.0              19.0    97.567325   \n2              52.0        105.0   0.0   91.0              21.0    98.600910   \n3              67.0        104.0   3.0   64.0              24.0    97.693046   \n4              61.0         86.0   0.0   63.0              25.0   101.122904   \n...             ...          ...   ...    ...               ...          ...   \n34808          50.0        132.0   0.0   41.0              25.0    99.396176   \n34809          69.0        132.0   0.0  114.0              23.0   102.395419   \n34810          64.0         84.0   0.0   94.0              29.0    93.109955   \n34811          56.0        103.0   4.0   77.0              20.0   100.525257   \n34812          65.0        102.0   0.0  123.0              22.0    97.000000   \n\n       death  \n0        1.0  \n1        NaN  \n2        1.0  \n3        1.0  \n4        1.0  \n...      ...  \n34808    1.0  \n34809    1.0  \n34810    1.0  \n34811    1.0  \n34812    1.0  \n\n[34813 rows x 12 columns]",
            "text/html": "<div>\n<style scoped>\n    .dataframe tbody tr th:only-of-type {\n        vertical-align: middle;\n    }\n\n    .dataframe tbody tr th {\n        vertical-align: top;\n    }\n\n    .dataframe thead th {\n        text-align: right;\n    }\n</style>\n<table border=\"1\" class=\"dataframe\">\n  <thead>\n    <tr style=\"text-align: right;\">\n      <th></th>\n      <th>Internalpatientid</th>\n      <th>Condition_code_icd10_subcategory</th>\n      <th>immunization</th>\n      <th>Lab_test_description_Result</th>\n      <th>Unnamed: 0</th>\n      <th>Diastolic bp</th>\n      <th>Systolic bp</th>\n      <th>Pain</th>\n      <th>Pulse</th>\n      <th>Respiratory rate</th>\n      <th>Temperature</th>\n      <th>death</th>\n    </tr>\n  </thead>\n  <tbody>\n    <tr>\n      <th>0</th>\n      <td>6</td>\n      <td>88_Other specified counseling</td>\n      <td>88_FLU,3 YRS (HISTORICAL)</td>\n      <td>88_FINGERSTICK INR (COAGUCHEK)_2.57,88_FINGERS...</td>\n      <td>21412.0</td>\n      <td>67.0</td>\n      <td>126.0</td>\n      <td>0.0</td>\n      <td>51.0</td>\n      <td>16.0</td>\n      <td>97.030389</td>\n      <td>1.0</td>\n    </tr>\n    <tr>\n      <th>1</th>\n      <td>7</td>\n      <td>74_Dental caries on smooth surface</td>\n      <td>73_INFLUENZA, INJECTABLE, QUADRIVALENT, PRESER...</td>\n      <td>74_RBC_4.79,74_ABS MONOCYTE_0.71,74_BASOPHIL %...</td>\n      <td>23192.0</td>\n      <td>72.0</td>\n      <td>116.0</td>\n      <td>0.0</td>\n      <td>67.0</td>\n      <td>19.0</td>\n      <td>97.567325</td>\n      <td>NaN</td>\n    </tr>\n    <tr>\n      <th>2</th>\n      <td>9</td>\n      <td>52_Hypertensive heart disease with heart failu...</td>\n      <td>NaN</td>\n      <td>52_Bands_3.0,52_RDW_21.2*,52_ZZZAUTO ANISO_++,...</td>\n      <td>27136.0</td>\n      <td>52.0</td>\n      <td>105.0</td>\n      <td>0.0</td>\n      <td>91.0</td>\n      <td>21.0</td>\n      <td>98.600910</td>\n      <td>1.0</td>\n    </tr>\n    <tr>\n      <th>3</th>\n      <td>12</td>\n      <td>74_Polyosteoarthritis, unspecified ; Osteoarth...</td>\n      <td>71_FLU,3 YRS (HISTORICAL)</td>\n      <td>74_LDL-CHOL CALCULATION_69.74,74_SODIUM (blood...</td>\n      <td>8238.0</td>\n      <td>67.0</td>\n      <td>104.0</td>\n      <td>3.0</td>\n      <td>64.0</td>\n      <td>24.0</td>\n      <td>97.693046</td>\n      <td>1.0</td>\n    </tr>\n    <tr>\n      <th>4</th>\n      <td>17</td>\n      <td>82_Encounter for other specified aftercare,82_...</td>\n      <td>82_INFLUENZA (HISTORICAL),82_INFLUENZA, WHOLE</td>\n      <td>82_HCO3-_12.0,82_ICTERUS INDEX_2.0,82_SODIUM_1...</td>\n      <td>13198.0</td>\n      <td>61.0</td>\n      <td>86.0</td>\n      <td>0.0</td>\n      <td>63.0</td>\n      <td>25.0</td>\n      <td>101.122904</td>\n      <td>1.0</td>\n    </tr>\n    <tr>\n      <th>...</th>\n      <td>...</td>\n      <td>...</td>\n      <td>...</td>\n      <td>...</td>\n      <td>...</td>\n      <td>...</td>\n      <td>...</td>\n      <td>...</td>\n      <td>...</td>\n      <td>...</td>\n      <td>...</td>\n      <td>...</td>\n    </tr>\n    <tr>\n      <th>34808</th>\n      <td>64432</td>\n      <td>NaN</td>\n      <td>NaN</td>\n      <td>71_CK/CPK_25.0,71_IONIZED CALCIUM (dc'd 022321...</td>\n      <td>22528.0</td>\n      <td>50.0</td>\n      <td>132.0</td>\n      <td>0.0</td>\n      <td>41.0</td>\n      <td>25.0</td>\n      <td>99.396176</td>\n      <td>1.0</td>\n    </tr>\n    <tr>\n      <th>34809</th>\n      <td>106205</td>\n      <td>NaN</td>\n      <td>NaN</td>\n      <td>79_B2 GLYCOPROTEIN I (IGM)AB_3.72,79_B2 GLYCOP...</td>\n      <td>3442.0</td>\n      <td>69.0</td>\n      <td>132.0</td>\n      <td>0.0</td>\n      <td>114.0</td>\n      <td>23.0</td>\n      <td>102.395419</td>\n      <td>1.0</td>\n    </tr>\n    <tr>\n      <th>34810</th>\n      <td>138129</td>\n      <td>NaN</td>\n      <td>NaN</td>\n      <td>54_PROCALCITONIN (PCT)_7.08,54_LDH_9582.0,54_L...</td>\n      <td>7095.0</td>\n      <td>64.0</td>\n      <td>84.0</td>\n      <td>0.0</td>\n      <td>94.0</td>\n      <td>29.0</td>\n      <td>93.109955</td>\n      <td>1.0</td>\n    </tr>\n    <tr>\n      <th>34811</th>\n      <td>145401</td>\n      <td>NaN</td>\n      <td>NaN</td>\n      <td>75_MRSA SURVL NARES AGAR_Negative</td>\n      <td>8655.0</td>\n      <td>56.0</td>\n      <td>103.0</td>\n      <td>4.0</td>\n      <td>77.0</td>\n      <td>20.0</td>\n      <td>100.525257</td>\n      <td>1.0</td>\n    </tr>\n    <tr>\n      <th>34812</th>\n      <td>163322</td>\n      <td>NaN</td>\n      <td>NaN</td>\n      <td>62_BUN/CREATININE RATIO_19.0,62_eGFR (DC'd 2/1...</td>\n      <td>24357.0</td>\n      <td>65.0</td>\n      <td>102.0</td>\n      <td>0.0</td>\n      <td>123.0</td>\n      <td>22.0</td>\n      <td>97.000000</td>\n      <td>1.0</td>\n    </tr>\n  </tbody>\n</table>\n<p>34813 rows × 12 columns</p>\n</div>"
          },
          "metadata": {}
        }
      ],
      "execution_count": 23,
      "metadata": {
        "jupyter": {
          "source_hidden": false,
          "outputs_hidden": false
        },
        "nteract": {
          "transient": {
            "deleting": false
          }
        },
        "gather": {
          "logged": 1689676040143
        }
      }
    },
    {
      "cell_type": "code",
      "source": [
        "merged_df_test.isnull().sum()"
      ],
      "outputs": [
        {
          "output_type": "execute_result",
          "execution_count": 24,
          "data": {
            "text/plain": "Internalpatientid                      0\nCondition_code_icd10_subcategory     327\nimmunization                        2029\nLab_test_description_Result         1179\nUnnamed: 0                           302\nDiastolic bp                         302\nSystolic bp                          302\nPain                                 836\nPulse                                836\nRespiratory rate                     836\nTemperature                          836\ndeath                               9485\ndtype: int64"
          },
          "metadata": {}
        }
      ],
      "execution_count": 24,
      "metadata": {
        "jupyter": {
          "source_hidden": false,
          "outputs_hidden": false
        },
        "nteract": {
          "transient": {
            "deleting": false
          }
        },
        "gather": {
          "logged": 1689676044053
        }
      }
    },
    {
      "cell_type": "code",
      "source": [
        "missing_perecentage = merged_df_test.isnull().sum() / len(merged_df_test) * 100\r\n",
        "print(missing_perecentage)"
      ],
      "outputs": [
        {
          "output_type": "stream",
          "name": "stdout",
          "text": "Internalpatientid                    0.000000\nCondition_code_icd10_subcategory     0.939304\nimmunization                         5.828283\nLab_test_description_Result          3.386666\nUnnamed: 0                           0.867492\nDiastolic bp                         0.867492\nSystolic bp                          0.867492\nPain                                 2.401402\nPulse                                2.401402\nRespiratory rate                     2.401402\nTemperature                          2.401402\ndeath                               27.245569\ndtype: float64\n"
        }
      ],
      "execution_count": 25,
      "metadata": {
        "jupyter": {
          "source_hidden": false,
          "outputs_hidden": false
        },
        "nteract": {
          "transient": {
            "deleting": false
          }
        },
        "gather": {
          "logged": 1689676046787
        }
      }
    },
    {
      "cell_type": "code",
      "source": [
        "merged_df_test.info()"
      ],
      "outputs": [
        {
          "output_type": "stream",
          "name": "stdout",
          "text": "<class 'pandas.core.frame.DataFrame'>\nRangeIndex: 34813 entries, 0 to 34812\nData columns (total 12 columns):\n #   Column                            Non-Null Count  Dtype  \n---  ------                            --------------  -----  \n 0   Internalpatientid                 34813 non-null  int64  \n 1   Condition_code_icd10_subcategory  34486 non-null  object \n 2   immunization                      32784 non-null  object \n 3   Lab_test_description_Result       33634 non-null  object \n 4   Unnamed: 0                        34511 non-null  float64\n 5   Diastolic bp                      34511 non-null  float64\n 6   Systolic bp                       34511 non-null  float64\n 7   Pain                              33977 non-null  float64\n 8   Pulse                             33977 non-null  float64\n 9   Respiratory rate                  33977 non-null  float64\n 10  Temperature                       33977 non-null  float64\n 11  death                             25328 non-null  float64\ndtypes: float64(8), int64(1), object(3)\nmemory usage: 3.2+ MB\n"
        }
      ],
      "execution_count": 26,
      "metadata": {
        "jupyter": {
          "source_hidden": false,
          "outputs_hidden": false
        },
        "nteract": {
          "transient": {
            "deleting": false
          }
        },
        "gather": {
          "logged": 1689676050329
        }
      }
    },
    {
      "cell_type": "code",
      "source": [
        "merged_df_test.shape"
      ],
      "outputs": [
        {
          "output_type": "execute_result",
          "execution_count": 27,
          "data": {
            "text/plain": "(34813, 12)"
          },
          "metadata": {}
        }
      ],
      "execution_count": 27,
      "metadata": {
        "jupyter": {
          "source_hidden": false,
          "outputs_hidden": false
        },
        "nteract": {
          "transient": {
            "deleting": false
          }
        },
        "gather": {
          "logged": 1689676053875
        }
      }
    },
    {
      "cell_type": "code",
      "source": [
        "merged_df_test['death'] = merged_df_test['death'].fillna(0.0)\r\n",
        "\r\n",
        "merged_df_test.head()"
      ],
      "outputs": [
        {
          "output_type": "execute_result",
          "execution_count": 28,
          "data": {
            "text/plain": "   Internalpatientid                   Condition_code_icd10_subcategory   \n0                  6                      88_Other specified counseling  \\\n1                  7                 74_Dental caries on smooth surface   \n2                  9  52_Hypertensive heart disease with heart failu...   \n3                 12  74_Polyosteoarthritis, unspecified ; Osteoarth...   \n4                 17  82_Encounter for other specified aftercare,82_...   \n\n                                        immunization   \n0                          88_FLU,3 YRS (HISTORICAL)  \\\n1  73_INFLUENZA, INJECTABLE, QUADRIVALENT, PRESER...   \n2                                                NaN   \n3                          71_FLU,3 YRS (HISTORICAL)   \n4      82_INFLUENZA (HISTORICAL),82_INFLUENZA, WHOLE   \n\n                         Lab_test_description_Result  Unnamed: 0   \n0  88_FINGERSTICK INR (COAGUCHEK)_2.57,88_FINGERS...     21412.0  \\\n1  74_RBC_4.79,74_ABS MONOCYTE_0.71,74_BASOPHIL %...     23192.0   \n2  52_Bands_3.0,52_RDW_21.2*,52_ZZZAUTO ANISO_++,...     27136.0   \n3  74_LDL-CHOL CALCULATION_69.74,74_SODIUM (blood...      8238.0   \n4  82_HCO3-_12.0,82_ICTERUS INDEX_2.0,82_SODIUM_1...     13198.0   \n\n   Diastolic bp  Systolic bp  Pain  Pulse  Respiratory rate  Temperature   \n0          67.0        126.0   0.0   51.0              16.0    97.030389  \\\n1          72.0        116.0   0.0   67.0              19.0    97.567325   \n2          52.0        105.0   0.0   91.0              21.0    98.600910   \n3          67.0        104.0   3.0   64.0              24.0    97.693046   \n4          61.0         86.0   0.0   63.0              25.0   101.122904   \n\n   death  \n0    1.0  \n1    0.0  \n2    1.0  \n3    1.0  \n4    1.0  ",
            "text/html": "<div>\n<style scoped>\n    .dataframe tbody tr th:only-of-type {\n        vertical-align: middle;\n    }\n\n    .dataframe tbody tr th {\n        vertical-align: top;\n    }\n\n    .dataframe thead th {\n        text-align: right;\n    }\n</style>\n<table border=\"1\" class=\"dataframe\">\n  <thead>\n    <tr style=\"text-align: right;\">\n      <th></th>\n      <th>Internalpatientid</th>\n      <th>Condition_code_icd10_subcategory</th>\n      <th>immunization</th>\n      <th>Lab_test_description_Result</th>\n      <th>Unnamed: 0</th>\n      <th>Diastolic bp</th>\n      <th>Systolic bp</th>\n      <th>Pain</th>\n      <th>Pulse</th>\n      <th>Respiratory rate</th>\n      <th>Temperature</th>\n      <th>death</th>\n    </tr>\n  </thead>\n  <tbody>\n    <tr>\n      <th>0</th>\n      <td>6</td>\n      <td>88_Other specified counseling</td>\n      <td>88_FLU,3 YRS (HISTORICAL)</td>\n      <td>88_FINGERSTICK INR (COAGUCHEK)_2.57,88_FINGERS...</td>\n      <td>21412.0</td>\n      <td>67.0</td>\n      <td>126.0</td>\n      <td>0.0</td>\n      <td>51.0</td>\n      <td>16.0</td>\n      <td>97.030389</td>\n      <td>1.0</td>\n    </tr>\n    <tr>\n      <th>1</th>\n      <td>7</td>\n      <td>74_Dental caries on smooth surface</td>\n      <td>73_INFLUENZA, INJECTABLE, QUADRIVALENT, PRESER...</td>\n      <td>74_RBC_4.79,74_ABS MONOCYTE_0.71,74_BASOPHIL %...</td>\n      <td>23192.0</td>\n      <td>72.0</td>\n      <td>116.0</td>\n      <td>0.0</td>\n      <td>67.0</td>\n      <td>19.0</td>\n      <td>97.567325</td>\n      <td>0.0</td>\n    </tr>\n    <tr>\n      <th>2</th>\n      <td>9</td>\n      <td>52_Hypertensive heart disease with heart failu...</td>\n      <td>NaN</td>\n      <td>52_Bands_3.0,52_RDW_21.2*,52_ZZZAUTO ANISO_++,...</td>\n      <td>27136.0</td>\n      <td>52.0</td>\n      <td>105.0</td>\n      <td>0.0</td>\n      <td>91.0</td>\n      <td>21.0</td>\n      <td>98.600910</td>\n      <td>1.0</td>\n    </tr>\n    <tr>\n      <th>3</th>\n      <td>12</td>\n      <td>74_Polyosteoarthritis, unspecified ; Osteoarth...</td>\n      <td>71_FLU,3 YRS (HISTORICAL)</td>\n      <td>74_LDL-CHOL CALCULATION_69.74,74_SODIUM (blood...</td>\n      <td>8238.0</td>\n      <td>67.0</td>\n      <td>104.0</td>\n      <td>3.0</td>\n      <td>64.0</td>\n      <td>24.0</td>\n      <td>97.693046</td>\n      <td>1.0</td>\n    </tr>\n    <tr>\n      <th>4</th>\n      <td>17</td>\n      <td>82_Encounter for other specified aftercare,82_...</td>\n      <td>82_INFLUENZA (HISTORICAL),82_INFLUENZA, WHOLE</td>\n      <td>82_HCO3-_12.0,82_ICTERUS INDEX_2.0,82_SODIUM_1...</td>\n      <td>13198.0</td>\n      <td>61.0</td>\n      <td>86.0</td>\n      <td>0.0</td>\n      <td>63.0</td>\n      <td>25.0</td>\n      <td>101.122904</td>\n      <td>1.0</td>\n    </tr>\n  </tbody>\n</table>\n</div>"
          },
          "metadata": {}
        }
      ],
      "execution_count": 28,
      "metadata": {
        "jupyter": {
          "source_hidden": false,
          "outputs_hidden": false
        },
        "nteract": {
          "transient": {
            "deleting": false
          }
        },
        "gather": {
          "logged": 1689676056095
        }
      }
    },
    {
      "cell_type": "code",
      "source": [
        "columns_to_impute = ['Condition_code_icd10_subcategory','immunization','Lab_test_description_Result']\r\n",
        "\r\n",
        "merged_df_test[columns_to_impute] = merged_df_test[columns_to_impute].fillna(\"positive/negative\")"
      ],
      "outputs": [],
      "execution_count": 29,
      "metadata": {
        "jupyter": {
          "source_hidden": false,
          "outputs_hidden": false
        },
        "nteract": {
          "transient": {
            "deleting": false
          }
        },
        "gather": {
          "logged": 1689676058837
        }
      }
    },
    {
      "cell_type": "code",
      "source": [
        "float_columns_to_impute = ['Diastolic bp','Systolic bp','Pain','Pulse','Respiratory rate','Temperature']\r\n",
        "\r\n",
        "merged_df_test[float_columns_to_impute] = merged_df_test[float_columns_to_impute].fillna(1)"
      ],
      "outputs": [],
      "execution_count": 30,
      "metadata": {
        "jupyter": {
          "source_hidden": false,
          "outputs_hidden": false
        },
        "nteract": {
          "transient": {
            "deleting": false
          }
        },
        "gather": {
          "logged": 1689676061550
        }
      }
    },
    {
      "cell_type": "code",
      "source": [
        "merged_df_test.isnull().sum()"
      ],
      "outputs": [
        {
          "output_type": "execute_result",
          "execution_count": 31,
          "data": {
            "text/plain": "Internalpatientid                     0\nCondition_code_icd10_subcategory      0\nimmunization                          0\nLab_test_description_Result           0\nUnnamed: 0                          302\nDiastolic bp                          0\nSystolic bp                           0\nPain                                  0\nPulse                                 0\nRespiratory rate                      0\nTemperature                           0\ndeath                                 0\ndtype: int64"
          },
          "metadata": {}
        }
      ],
      "execution_count": 31,
      "metadata": {
        "jupyter": {
          "source_hidden": false,
          "outputs_hidden": false
        },
        "nteract": {
          "transient": {
            "deleting": false
          }
        },
        "gather": {
          "logged": 1689676063937
        }
      }
    },
    {
      "cell_type": "code",
      "source": [
        "merged_df_test.drop('Unnamed: 0', axis = 1, inplace=True)\r\n",
        "merged_df_test"
      ],
      "outputs": [
        {
          "output_type": "execute_result",
          "execution_count": 32,
          "data": {
            "text/plain": "       Internalpatientid                   Condition_code_icd10_subcategory   \n0                      6                      88_Other specified counseling  \\\n1                      7                 74_Dental caries on smooth surface   \n2                      9  52_Hypertensive heart disease with heart failu...   \n3                     12  74_Polyosteoarthritis, unspecified ; Osteoarth...   \n4                     17  82_Encounter for other specified aftercare,82_...   \n...                  ...                                                ...   \n34808              64432                                  positive/negative   \n34809             106205                                  positive/negative   \n34810             138129                                  positive/negative   \n34811             145401                                  positive/negative   \n34812             163322                                  positive/negative   \n\n                                            immunization   \n0                              88_FLU,3 YRS (HISTORICAL)  \\\n1      73_INFLUENZA, INJECTABLE, QUADRIVALENT, PRESER...   \n2                                      positive/negative   \n3                              71_FLU,3 YRS (HISTORICAL)   \n4          82_INFLUENZA (HISTORICAL),82_INFLUENZA, WHOLE   \n...                                                  ...   \n34808                                  positive/negative   \n34809                                  positive/negative   \n34810                                  positive/negative   \n34811                                  positive/negative   \n34812                                  positive/negative   \n\n                             Lab_test_description_Result  Diastolic bp   \n0      88_FINGERSTICK INR (COAGUCHEK)_2.57,88_FINGERS...          67.0  \\\n1      74_RBC_4.79,74_ABS MONOCYTE_0.71,74_BASOPHIL %...          72.0   \n2      52_Bands_3.0,52_RDW_21.2*,52_ZZZAUTO ANISO_++,...          52.0   \n3      74_LDL-CHOL CALCULATION_69.74,74_SODIUM (blood...          67.0   \n4      82_HCO3-_12.0,82_ICTERUS INDEX_2.0,82_SODIUM_1...          61.0   \n...                                                  ...           ...   \n34808  71_CK/CPK_25.0,71_IONIZED CALCIUM (dc'd 022321...          50.0   \n34809  79_B2 GLYCOPROTEIN I (IGM)AB_3.72,79_B2 GLYCOP...          69.0   \n34810  54_PROCALCITONIN (PCT)_7.08,54_LDH_9582.0,54_L...          64.0   \n34811                  75_MRSA SURVL NARES AGAR_Negative          56.0   \n34812  62_BUN/CREATININE RATIO_19.0,62_eGFR (DC'd 2/1...          65.0   \n\n       Systolic bp  Pain  Pulse  Respiratory rate  Temperature  death  \n0            126.0   0.0   51.0              16.0    97.030389    1.0  \n1            116.0   0.0   67.0              19.0    97.567325    0.0  \n2            105.0   0.0   91.0              21.0    98.600910    1.0  \n3            104.0   3.0   64.0              24.0    97.693046    1.0  \n4             86.0   0.0   63.0              25.0   101.122904    1.0  \n...            ...   ...    ...               ...          ...    ...  \n34808        132.0   0.0   41.0              25.0    99.396176    1.0  \n34809        132.0   0.0  114.0              23.0   102.395419    1.0  \n34810         84.0   0.0   94.0              29.0    93.109955    1.0  \n34811        103.0   4.0   77.0              20.0   100.525257    1.0  \n34812        102.0   0.0  123.0              22.0    97.000000    1.0  \n\n[34813 rows x 11 columns]",
            "text/html": "<div>\n<style scoped>\n    .dataframe tbody tr th:only-of-type {\n        vertical-align: middle;\n    }\n\n    .dataframe tbody tr th {\n        vertical-align: top;\n    }\n\n    .dataframe thead th {\n        text-align: right;\n    }\n</style>\n<table border=\"1\" class=\"dataframe\">\n  <thead>\n    <tr style=\"text-align: right;\">\n      <th></th>\n      <th>Internalpatientid</th>\n      <th>Condition_code_icd10_subcategory</th>\n      <th>immunization</th>\n      <th>Lab_test_description_Result</th>\n      <th>Diastolic bp</th>\n      <th>Systolic bp</th>\n      <th>Pain</th>\n      <th>Pulse</th>\n      <th>Respiratory rate</th>\n      <th>Temperature</th>\n      <th>death</th>\n    </tr>\n  </thead>\n  <tbody>\n    <tr>\n      <th>0</th>\n      <td>6</td>\n      <td>88_Other specified counseling</td>\n      <td>88_FLU,3 YRS (HISTORICAL)</td>\n      <td>88_FINGERSTICK INR (COAGUCHEK)_2.57,88_FINGERS...</td>\n      <td>67.0</td>\n      <td>126.0</td>\n      <td>0.0</td>\n      <td>51.0</td>\n      <td>16.0</td>\n      <td>97.030389</td>\n      <td>1.0</td>\n    </tr>\n    <tr>\n      <th>1</th>\n      <td>7</td>\n      <td>74_Dental caries on smooth surface</td>\n      <td>73_INFLUENZA, INJECTABLE, QUADRIVALENT, PRESER...</td>\n      <td>74_RBC_4.79,74_ABS MONOCYTE_0.71,74_BASOPHIL %...</td>\n      <td>72.0</td>\n      <td>116.0</td>\n      <td>0.0</td>\n      <td>67.0</td>\n      <td>19.0</td>\n      <td>97.567325</td>\n      <td>0.0</td>\n    </tr>\n    <tr>\n      <th>2</th>\n      <td>9</td>\n      <td>52_Hypertensive heart disease with heart failu...</td>\n      <td>positive/negative</td>\n      <td>52_Bands_3.0,52_RDW_21.2*,52_ZZZAUTO ANISO_++,...</td>\n      <td>52.0</td>\n      <td>105.0</td>\n      <td>0.0</td>\n      <td>91.0</td>\n      <td>21.0</td>\n      <td>98.600910</td>\n      <td>1.0</td>\n    </tr>\n    <tr>\n      <th>3</th>\n      <td>12</td>\n      <td>74_Polyosteoarthritis, unspecified ; Osteoarth...</td>\n      <td>71_FLU,3 YRS (HISTORICAL)</td>\n      <td>74_LDL-CHOL CALCULATION_69.74,74_SODIUM (blood...</td>\n      <td>67.0</td>\n      <td>104.0</td>\n      <td>3.0</td>\n      <td>64.0</td>\n      <td>24.0</td>\n      <td>97.693046</td>\n      <td>1.0</td>\n    </tr>\n    <tr>\n      <th>4</th>\n      <td>17</td>\n      <td>82_Encounter for other specified aftercare,82_...</td>\n      <td>82_INFLUENZA (HISTORICAL),82_INFLUENZA, WHOLE</td>\n      <td>82_HCO3-_12.0,82_ICTERUS INDEX_2.0,82_SODIUM_1...</td>\n      <td>61.0</td>\n      <td>86.0</td>\n      <td>0.0</td>\n      <td>63.0</td>\n      <td>25.0</td>\n      <td>101.122904</td>\n      <td>1.0</td>\n    </tr>\n    <tr>\n      <th>...</th>\n      <td>...</td>\n      <td>...</td>\n      <td>...</td>\n      <td>...</td>\n      <td>...</td>\n      <td>...</td>\n      <td>...</td>\n      <td>...</td>\n      <td>...</td>\n      <td>...</td>\n      <td>...</td>\n    </tr>\n    <tr>\n      <th>34808</th>\n      <td>64432</td>\n      <td>positive/negative</td>\n      <td>positive/negative</td>\n      <td>71_CK/CPK_25.0,71_IONIZED CALCIUM (dc'd 022321...</td>\n      <td>50.0</td>\n      <td>132.0</td>\n      <td>0.0</td>\n      <td>41.0</td>\n      <td>25.0</td>\n      <td>99.396176</td>\n      <td>1.0</td>\n    </tr>\n    <tr>\n      <th>34809</th>\n      <td>106205</td>\n      <td>positive/negative</td>\n      <td>positive/negative</td>\n      <td>79_B2 GLYCOPROTEIN I (IGM)AB_3.72,79_B2 GLYCOP...</td>\n      <td>69.0</td>\n      <td>132.0</td>\n      <td>0.0</td>\n      <td>114.0</td>\n      <td>23.0</td>\n      <td>102.395419</td>\n      <td>1.0</td>\n    </tr>\n    <tr>\n      <th>34810</th>\n      <td>138129</td>\n      <td>positive/negative</td>\n      <td>positive/negative</td>\n      <td>54_PROCALCITONIN (PCT)_7.08,54_LDH_9582.0,54_L...</td>\n      <td>64.0</td>\n      <td>84.0</td>\n      <td>0.0</td>\n      <td>94.0</td>\n      <td>29.0</td>\n      <td>93.109955</td>\n      <td>1.0</td>\n    </tr>\n    <tr>\n      <th>34811</th>\n      <td>145401</td>\n      <td>positive/negative</td>\n      <td>positive/negative</td>\n      <td>75_MRSA SURVL NARES AGAR_Negative</td>\n      <td>56.0</td>\n      <td>103.0</td>\n      <td>4.0</td>\n      <td>77.0</td>\n      <td>20.0</td>\n      <td>100.525257</td>\n      <td>1.0</td>\n    </tr>\n    <tr>\n      <th>34812</th>\n      <td>163322</td>\n      <td>positive/negative</td>\n      <td>positive/negative</td>\n      <td>62_BUN/CREATININE RATIO_19.0,62_eGFR (DC'd 2/1...</td>\n      <td>65.0</td>\n      <td>102.0</td>\n      <td>0.0</td>\n      <td>123.0</td>\n      <td>22.0</td>\n      <td>97.000000</td>\n      <td>1.0</td>\n    </tr>\n  </tbody>\n</table>\n<p>34813 rows × 11 columns</p>\n</div>"
          },
          "metadata": {}
        }
      ],
      "execution_count": 32,
      "metadata": {
        "jupyter": {
          "source_hidden": false,
          "outputs_hidden": false
        },
        "nteract": {
          "transient": {
            "deleting": false
          }
        },
        "gather": {
          "logged": 1689676070020
        }
      }
    },
    {
      "cell_type": "code",
      "source": [
        "merged_df_test.to_csv('/mnt/batch/tasks/shared/LS_root/mounts/clusters/nisha-gpu3/code/Users/900379/Final_data_frames/Whole_df_test.csv')"
      ],
      "outputs": [],
      "execution_count": 33,
      "metadata": {
        "jupyter": {
          "source_hidden": false,
          "outputs_hidden": false
        },
        "nteract": {
          "transient": {
            "deleting": false
          }
        },
        "gather": {
          "logged": 1689676089410
        }
      }
    },
    {
      "cell_type": "code",
      "source": [],
      "outputs": [],
      "execution_count": null,
      "metadata": {
        "jupyter": {
          "source_hidden": false,
          "outputs_hidden": false
        },
        "nteract": {
          "transient": {
            "deleting": false
          }
        }
      }
    }
  ],
  "metadata": {
    "kernelspec": {
      "name": "python310-sdkv2",
      "language": "python",
      "display_name": "Python 3.10 - SDK v2"
    },
    "language_info": {
      "name": "python",
      "version": "3.10.10",
      "mimetype": "text/x-python",
      "codemirror_mode": {
        "name": "ipython",
        "version": 3
      },
      "pygments_lexer": "ipython3",
      "nbconvert_exporter": "python",
      "file_extension": ".py"
    },
    "microsoft": {
      "ms_spell_check": {
        "ms_spell_check_language": "en"
      },
      "host": {
        "AzureML": {
          "notebookHasBeenCompleted": true
        }
      }
    },
    "kernel_info": {
      "name": "python310-sdkv2"
    },
    "nteract": {
      "version": "nteract-front-end@1.0.0"
    }
  },
  "nbformat": 4,
  "nbformat_minor": 2
}