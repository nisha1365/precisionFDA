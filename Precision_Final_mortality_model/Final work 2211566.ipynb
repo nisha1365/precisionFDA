{
  "cells": [
    {
      "cell_type": "code",
      "source": [
        "import pandas as pd\r\n",
        "import numpy as np"
      ],
      "outputs": [],
      "execution_count": 1,
      "metadata": {
        "jupyter": {
          "source_hidden": false,
          "outputs_hidden": false
        },
        "nteract": {
          "transient": {
            "deleting": false
          }
        },
        "gather": {
          "logged": 1689696186951
        }
      }
    },
    {
      "cell_type": "markdown",
      "source": [
        "##### **1. Conditions**"
      ],
      "metadata": {
        "nteract": {
          "transient": {
            "deleting": false
          }
        }
      }
    },
    {
      "cell_type": "code",
      "source": [
        "conditions = pd.read_csv('/mnt/batch/tasks/shared/LS_root/mounts/clusters/nisha-gpu3/code/Users/900379/Output_files_train/Potential_files_train/df_conditions_train.csv')\r\n",
        "conditions"
      ],
      "outputs": [
        {
          "output_type": "execute_result",
          "execution_count": 2,
          "data": {
            "text/plain": "        Unnamed: 0  Internalpatientid   \n0                0                  1  \\\n1                1                  2   \n2                2                  3   \n3                3                  4   \n4                4                  5   \n...            ...                ...   \n132064      132064             169060   \n132065      132065             169061   \n132066      132066             169062   \n132067      132067             169063   \n132068      132068             169064   \n\n                         Condition_code_icd10_subcategory  \n0       80_Hyperlipidemia, unspecified,80_Other and un...  \n1                  70_Not specified,70_Fracture of coccyx  \n2       82_Acquired absence of leg below knee,82_Encou...  \n3       84_Unspecified abdominal pain,84_Systolic (con...  \n4       77_Encounter for screening for infectious and ...  \n...                                                   ...  \n132064         72_Encounter for other specified aftercare  \n132065                      81_Other specified counseling  \n132066  74_Heart failure, unspecified,74_Heart failure...  \n132067                                   78_Not specified  \n132068                88_Essential (primary) hypertension  \n\n[132069 rows x 3 columns]",
            "text/html": "<div>\n<style scoped>\n    .dataframe tbody tr th:only-of-type {\n        vertical-align: middle;\n    }\n\n    .dataframe tbody tr th {\n        vertical-align: top;\n    }\n\n    .dataframe thead th {\n        text-align: right;\n    }\n</style>\n<table border=\"1\" class=\"dataframe\">\n  <thead>\n    <tr style=\"text-align: right;\">\n      <th></th>\n      <th>Unnamed: 0</th>\n      <th>Internalpatientid</th>\n      <th>Condition_code_icd10_subcategory</th>\n    </tr>\n  </thead>\n  <tbody>\n    <tr>\n      <th>0</th>\n      <td>0</td>\n      <td>1</td>\n      <td>80_Hyperlipidemia, unspecified,80_Other and un...</td>\n    </tr>\n    <tr>\n      <th>1</th>\n      <td>1</td>\n      <td>2</td>\n      <td>70_Not specified,70_Fracture of coccyx</td>\n    </tr>\n    <tr>\n      <th>2</th>\n      <td>2</td>\n      <td>3</td>\n      <td>82_Acquired absence of leg below knee,82_Encou...</td>\n    </tr>\n    <tr>\n      <th>3</th>\n      <td>3</td>\n      <td>4</td>\n      <td>84_Unspecified abdominal pain,84_Systolic (con...</td>\n    </tr>\n    <tr>\n      <th>4</th>\n      <td>4</td>\n      <td>5</td>\n      <td>77_Encounter for screening for infectious and ...</td>\n    </tr>\n    <tr>\n      <th>...</th>\n      <td>...</td>\n      <td>...</td>\n      <td>...</td>\n    </tr>\n    <tr>\n      <th>132064</th>\n      <td>132064</td>\n      <td>169060</td>\n      <td>72_Encounter for other specified aftercare</td>\n    </tr>\n    <tr>\n      <th>132065</th>\n      <td>132065</td>\n      <td>169061</td>\n      <td>81_Other specified counseling</td>\n    </tr>\n    <tr>\n      <th>132066</th>\n      <td>132066</td>\n      <td>169062</td>\n      <td>74_Heart failure, unspecified,74_Heart failure...</td>\n    </tr>\n    <tr>\n      <th>132067</th>\n      <td>132067</td>\n      <td>169063</td>\n      <td>78_Not specified</td>\n    </tr>\n    <tr>\n      <th>132068</th>\n      <td>132068</td>\n      <td>169064</td>\n      <td>88_Essential (primary) hypertension</td>\n    </tr>\n  </tbody>\n</table>\n<p>132069 rows × 3 columns</p>\n</div>"
          },
          "metadata": {}
        }
      ],
      "execution_count": 2,
      "metadata": {
        "jupyter": {
          "source_hidden": false,
          "outputs_hidden": false
        },
        "nteract": {
          "transient": {
            "deleting": false
          }
        },
        "gather": {
          "logged": 1689696194330
        }
      }
    },
    {
      "cell_type": "code",
      "source": [
        "conditions.drop('Unnamed: 0', axis = 1, inplace = True)\r\n",
        "conditions"
      ],
      "outputs": [
        {
          "output_type": "execute_result",
          "execution_count": 3,
          "data": {
            "text/plain": "        Internalpatientid                   Condition_code_icd10_subcategory\n0                       1  80_Hyperlipidemia, unspecified,80_Other and un...\n1                       2             70_Not specified,70_Fracture of coccyx\n2                       3  82_Acquired absence of leg below knee,82_Encou...\n3                       4  84_Unspecified abdominal pain,84_Systolic (con...\n4                       5  77_Encounter for screening for infectious and ...\n...                   ...                                                ...\n132064             169060         72_Encounter for other specified aftercare\n132065             169061                      81_Other specified counseling\n132066             169062  74_Heart failure, unspecified,74_Heart failure...\n132067             169063                                   78_Not specified\n132068             169064                88_Essential (primary) hypertension\n\n[132069 rows x 2 columns]",
            "text/html": "<div>\n<style scoped>\n    .dataframe tbody tr th:only-of-type {\n        vertical-align: middle;\n    }\n\n    .dataframe tbody tr th {\n        vertical-align: top;\n    }\n\n    .dataframe thead th {\n        text-align: right;\n    }\n</style>\n<table border=\"1\" class=\"dataframe\">\n  <thead>\n    <tr style=\"text-align: right;\">\n      <th></th>\n      <th>Internalpatientid</th>\n      <th>Condition_code_icd10_subcategory</th>\n    </tr>\n  </thead>\n  <tbody>\n    <tr>\n      <th>0</th>\n      <td>1</td>\n      <td>80_Hyperlipidemia, unspecified,80_Other and un...</td>\n    </tr>\n    <tr>\n      <th>1</th>\n      <td>2</td>\n      <td>70_Not specified,70_Fracture of coccyx</td>\n    </tr>\n    <tr>\n      <th>2</th>\n      <td>3</td>\n      <td>82_Acquired absence of leg below knee,82_Encou...</td>\n    </tr>\n    <tr>\n      <th>3</th>\n      <td>4</td>\n      <td>84_Unspecified abdominal pain,84_Systolic (con...</td>\n    </tr>\n    <tr>\n      <th>4</th>\n      <td>5</td>\n      <td>77_Encounter for screening for infectious and ...</td>\n    </tr>\n    <tr>\n      <th>...</th>\n      <td>...</td>\n      <td>...</td>\n    </tr>\n    <tr>\n      <th>132064</th>\n      <td>169060</td>\n      <td>72_Encounter for other specified aftercare</td>\n    </tr>\n    <tr>\n      <th>132065</th>\n      <td>169061</td>\n      <td>81_Other specified counseling</td>\n    </tr>\n    <tr>\n      <th>132066</th>\n      <td>169062</td>\n      <td>74_Heart failure, unspecified,74_Heart failure...</td>\n    </tr>\n    <tr>\n      <th>132067</th>\n      <td>169063</td>\n      <td>78_Not specified</td>\n    </tr>\n    <tr>\n      <th>132068</th>\n      <td>169064</td>\n      <td>88_Essential (primary) hypertension</td>\n    </tr>\n  </tbody>\n</table>\n<p>132069 rows × 2 columns</p>\n</div>"
          },
          "metadata": {}
        }
      ],
      "execution_count": 3,
      "metadata": {
        "jupyter": {
          "source_hidden": false,
          "outputs_hidden": false
        },
        "nteract": {
          "transient": {
            "deleting": false
          }
        },
        "gather": {
          "logged": 1689696198129
        }
      }
    },
    {
      "cell_type": "markdown",
      "source": [
        "##### **2. Immunization **"
      ],
      "metadata": {
        "nteract": {
          "transient": {
            "deleting": false
          }
        }
      }
    },
    {
      "cell_type": "code",
      "source": [
        "immunization = pd.read_csv('/mnt/batch/tasks/shared/LS_root/mounts/clusters/nisha-gpu3/code/Users/900379/Output_files_train/Potential_files_train/df_immunizations_train.csv')\r\n",
        "immunization.head()"
      ],
      "outputs": [
        {
          "output_type": "execute_result",
          "execution_count": 4,
          "data": {
            "text/plain": "   Unnamed: 0  Internalpatientid   \n0           0                  1  \\\n1           1                  2   \n2           2                  3   \n3           3                  4   \n4           4                  5   \n\n                                        immunization  \n0     80_INFLUENZA VACCINE, QUADRIVALENT, ADJUVANTED  \n1  69_INFLUENZA, UNSPECIFIED FORMULATION,69_INFLU...  \n2              82_INFLUENZA, UNSPECIFIED FORMULATION  \n3  84_FLU,3 YRS (HISTORICAL),84_INFLUENZA, SEASON...  \n4                          76_FLU,3 YRS (HISTORICAL)  ",
            "text/html": "<div>\n<style scoped>\n    .dataframe tbody tr th:only-of-type {\n        vertical-align: middle;\n    }\n\n    .dataframe tbody tr th {\n        vertical-align: top;\n    }\n\n    .dataframe thead th {\n        text-align: right;\n    }\n</style>\n<table border=\"1\" class=\"dataframe\">\n  <thead>\n    <tr style=\"text-align: right;\">\n      <th></th>\n      <th>Unnamed: 0</th>\n      <th>Internalpatientid</th>\n      <th>immunization</th>\n    </tr>\n  </thead>\n  <tbody>\n    <tr>\n      <th>0</th>\n      <td>0</td>\n      <td>1</td>\n      <td>80_INFLUENZA VACCINE, QUADRIVALENT, ADJUVANTED</td>\n    </tr>\n    <tr>\n      <th>1</th>\n      <td>1</td>\n      <td>2</td>\n      <td>69_INFLUENZA, UNSPECIFIED FORMULATION,69_INFLU...</td>\n    </tr>\n    <tr>\n      <th>2</th>\n      <td>2</td>\n      <td>3</td>\n      <td>82_INFLUENZA, UNSPECIFIED FORMULATION</td>\n    </tr>\n    <tr>\n      <th>3</th>\n      <td>3</td>\n      <td>4</td>\n      <td>84_FLU,3 YRS (HISTORICAL),84_INFLUENZA, SEASON...</td>\n    </tr>\n    <tr>\n      <th>4</th>\n      <td>4</td>\n      <td>5</td>\n      <td>76_FLU,3 YRS (HISTORICAL)</td>\n    </tr>\n  </tbody>\n</table>\n</div>"
          },
          "metadata": {}
        }
      ],
      "execution_count": 4,
      "metadata": {
        "jupyter": {
          "source_hidden": false,
          "outputs_hidden": false
        },
        "nteract": {
          "transient": {
            "deleting": false
          }
        },
        "gather": {
          "logged": 1689696204914
        }
      }
    },
    {
      "cell_type": "code",
      "source": [
        "immunization.drop('Unnamed: 0', axis = 1, inplace = True)\r\n",
        "immunization"
      ],
      "outputs": [
        {
          "output_type": "execute_result",
          "execution_count": 5,
          "data": {
            "text/plain": "        Internalpatientid                                       immunization\n0                       1     80_INFLUENZA VACCINE, QUADRIVALENT, ADJUVANTED\n1                       2  69_INFLUENZA, UNSPECIFIED FORMULATION,69_INFLU...\n2                       3              82_INFLUENZA, UNSPECIFIED FORMULATION\n3                       4  84_FLU,3 YRS (HISTORICAL),84_INFLUENZA, SEASON...\n4                       5                          76_FLU,3 YRS (HISTORICAL)\n...                   ...                                                ...\n125154             169057  86_COVID-19 (PFIZER), MRNA, LNP-S, PF, 30 MCG/...\n125155             169061  80_INFLUENZA, INJECTABLE, QUADRIVALENT, PRESER...\n125156             169062                       72_PNEUMOCOCCAL (HISTORICAL)\n125157             169063                          76_FLU,3 YRS (HISTORICAL)\n125158             169064              88_INFLUENZA, UNSPECIFIED FORMULATION\n\n[125159 rows x 2 columns]",
            "text/html": "<div>\n<style scoped>\n    .dataframe tbody tr th:only-of-type {\n        vertical-align: middle;\n    }\n\n    .dataframe tbody tr th {\n        vertical-align: top;\n    }\n\n    .dataframe thead th {\n        text-align: right;\n    }\n</style>\n<table border=\"1\" class=\"dataframe\">\n  <thead>\n    <tr style=\"text-align: right;\">\n      <th></th>\n      <th>Internalpatientid</th>\n      <th>immunization</th>\n    </tr>\n  </thead>\n  <tbody>\n    <tr>\n      <th>0</th>\n      <td>1</td>\n      <td>80_INFLUENZA VACCINE, QUADRIVALENT, ADJUVANTED</td>\n    </tr>\n    <tr>\n      <th>1</th>\n      <td>2</td>\n      <td>69_INFLUENZA, UNSPECIFIED FORMULATION,69_INFLU...</td>\n    </tr>\n    <tr>\n      <th>2</th>\n      <td>3</td>\n      <td>82_INFLUENZA, UNSPECIFIED FORMULATION</td>\n    </tr>\n    <tr>\n      <th>3</th>\n      <td>4</td>\n      <td>84_FLU,3 YRS (HISTORICAL),84_INFLUENZA, SEASON...</td>\n    </tr>\n    <tr>\n      <th>4</th>\n      <td>5</td>\n      <td>76_FLU,3 YRS (HISTORICAL)</td>\n    </tr>\n    <tr>\n      <th>...</th>\n      <td>...</td>\n      <td>...</td>\n    </tr>\n    <tr>\n      <th>125154</th>\n      <td>169057</td>\n      <td>86_COVID-19 (PFIZER), MRNA, LNP-S, PF, 30 MCG/...</td>\n    </tr>\n    <tr>\n      <th>125155</th>\n      <td>169061</td>\n      <td>80_INFLUENZA, INJECTABLE, QUADRIVALENT, PRESER...</td>\n    </tr>\n    <tr>\n      <th>125156</th>\n      <td>169062</td>\n      <td>72_PNEUMOCOCCAL (HISTORICAL)</td>\n    </tr>\n    <tr>\n      <th>125157</th>\n      <td>169063</td>\n      <td>76_FLU,3 YRS (HISTORICAL)</td>\n    </tr>\n    <tr>\n      <th>125158</th>\n      <td>169064</td>\n      <td>88_INFLUENZA, UNSPECIFIED FORMULATION</td>\n    </tr>\n  </tbody>\n</table>\n<p>125159 rows × 2 columns</p>\n</div>"
          },
          "metadata": {}
        }
      ],
      "execution_count": 5,
      "metadata": {
        "jupyter": {
          "source_hidden": false,
          "outputs_hidden": false
        },
        "nteract": {
          "transient": {
            "deleting": false
          }
        },
        "gather": {
          "logged": 1689696208727
        }
      }
    },
    {
      "cell_type": "markdown",
      "source": [
        "##### **3. Lab Results**"
      ],
      "metadata": {
        "nteract": {
          "transient": {
            "deleting": false
          }
        }
      }
    },
    {
      "cell_type": "code",
      "source": [
        "lab_results = pd.read_csv('/mnt/batch/tasks/shared/LS_root/mounts/clusters/nisha-gpu3/code/Users/900379/Output_files_train/Potential_files_train/df_lab_results_train_with_age_v1.csv')\r\n",
        "lab_results.head()"
      ],
      "outputs": [
        {
          "output_type": "execute_result",
          "execution_count": 6,
          "data": {
            "text/plain": "   Unnamed: 0  Internalpatientid   \n0           0                  1  \\\n1           1                  2   \n2           2                  3   \n3           3                  4   \n4           4                  5   \n\n                         Lab_test_description_Result  \n0  80_Alpha Fetoprotein_3.0,80_INR -TOP_1.68,80_P...  \n1  70_GLOBULIN, CALC._3.0,70_OSMOLALITY, CALC._30...  \n2                       82_WHOLE BLOOD GLUCOSE_123.0  \n3  84_MRSA SURVL NARES AGAR_NEGATIVE,84_ANCILLARY...  \n4  77_PROTEIN, TOTAL_5.13,77_eGFR_49.0,77_POTASSI...  ",
            "text/html": "<div>\n<style scoped>\n    .dataframe tbody tr th:only-of-type {\n        vertical-align: middle;\n    }\n\n    .dataframe tbody tr th {\n        vertical-align: top;\n    }\n\n    .dataframe thead th {\n        text-align: right;\n    }\n</style>\n<table border=\"1\" class=\"dataframe\">\n  <thead>\n    <tr style=\"text-align: right;\">\n      <th></th>\n      <th>Unnamed: 0</th>\n      <th>Internalpatientid</th>\n      <th>Lab_test_description_Result</th>\n    </tr>\n  </thead>\n  <tbody>\n    <tr>\n      <th>0</th>\n      <td>0</td>\n      <td>1</td>\n      <td>80_Alpha Fetoprotein_3.0,80_INR -TOP_1.68,80_P...</td>\n    </tr>\n    <tr>\n      <th>1</th>\n      <td>1</td>\n      <td>2</td>\n      <td>70_GLOBULIN, CALC._3.0,70_OSMOLALITY, CALC._30...</td>\n    </tr>\n    <tr>\n      <th>2</th>\n      <td>2</td>\n      <td>3</td>\n      <td>82_WHOLE BLOOD GLUCOSE_123.0</td>\n    </tr>\n    <tr>\n      <th>3</th>\n      <td>3</td>\n      <td>4</td>\n      <td>84_MRSA SURVL NARES AGAR_NEGATIVE,84_ANCILLARY...</td>\n    </tr>\n    <tr>\n      <th>4</th>\n      <td>4</td>\n      <td>5</td>\n      <td>77_PROTEIN, TOTAL_5.13,77_eGFR_49.0,77_POTASSI...</td>\n    </tr>\n  </tbody>\n</table>\n</div>"
          },
          "metadata": {}
        }
      ],
      "execution_count": 6,
      "metadata": {
        "jupyter": {
          "source_hidden": false,
          "outputs_hidden": false
        },
        "nteract": {
          "transient": {
            "deleting": false
          }
        },
        "gather": {
          "logged": 1689696218921
        }
      }
    },
    {
      "cell_type": "code",
      "source": [
        "lab_results.drop('Unnamed: 0', axis = 1, inplace = True)\r\n",
        "lab_results"
      ],
      "outputs": [
        {
          "output_type": "execute_result",
          "execution_count": 7,
          "data": {
            "text/plain": "        Internalpatientid                        Lab_test_description_Result\n0                       1  80_Alpha Fetoprotein_3.0,80_INR -TOP_1.68,80_P...\n1                       2  70_GLOBULIN, CALC._3.0,70_OSMOLALITY, CALC._30...\n2                       3                       82_WHOLE BLOOD GLUCOSE_123.0\n3                       4  84_MRSA SURVL NARES AGAR_NEGATIVE,84_ANCILLARY...\n4                       5  77_PROTEIN, TOTAL_5.13,77_eGFR_49.0,77_POTASSI...\n...                   ...                                                ...\n128833             169057  86_POTASSIUM_3.77,86_UREA NITROGEN_32.0,86_SOD...\n128834             169060  72_BILIRUBIN, DIRECT_0.7,72_SGPT_13.0,72_SODIU...\n128835             169062  74_URINE WBC/HPF_36.0,74_URINE BLOOD_TR,74_URI...\n128836             169063  76_PLT (V2)_140.0,76_HGB (V2)_10.31,76_MPV (V2...\n128837             169064  88_zBETA GLOBULIN_39.0,88_PROTEIN,TOTAL(SENDOU...\n\n[128838 rows x 2 columns]",
            "text/html": "<div>\n<style scoped>\n    .dataframe tbody tr th:only-of-type {\n        vertical-align: middle;\n    }\n\n    .dataframe tbody tr th {\n        vertical-align: top;\n    }\n\n    .dataframe thead th {\n        text-align: right;\n    }\n</style>\n<table border=\"1\" class=\"dataframe\">\n  <thead>\n    <tr style=\"text-align: right;\">\n      <th></th>\n      <th>Internalpatientid</th>\n      <th>Lab_test_description_Result</th>\n    </tr>\n  </thead>\n  <tbody>\n    <tr>\n      <th>0</th>\n      <td>1</td>\n      <td>80_Alpha Fetoprotein_3.0,80_INR -TOP_1.68,80_P...</td>\n    </tr>\n    <tr>\n      <th>1</th>\n      <td>2</td>\n      <td>70_GLOBULIN, CALC._3.0,70_OSMOLALITY, CALC._30...</td>\n    </tr>\n    <tr>\n      <th>2</th>\n      <td>3</td>\n      <td>82_WHOLE BLOOD GLUCOSE_123.0</td>\n    </tr>\n    <tr>\n      <th>3</th>\n      <td>4</td>\n      <td>84_MRSA SURVL NARES AGAR_NEGATIVE,84_ANCILLARY...</td>\n    </tr>\n    <tr>\n      <th>4</th>\n      <td>5</td>\n      <td>77_PROTEIN, TOTAL_5.13,77_eGFR_49.0,77_POTASSI...</td>\n    </tr>\n    <tr>\n      <th>...</th>\n      <td>...</td>\n      <td>...</td>\n    </tr>\n    <tr>\n      <th>128833</th>\n      <td>169057</td>\n      <td>86_POTASSIUM_3.77,86_UREA NITROGEN_32.0,86_SOD...</td>\n    </tr>\n    <tr>\n      <th>128834</th>\n      <td>169060</td>\n      <td>72_BILIRUBIN, DIRECT_0.7,72_SGPT_13.0,72_SODIU...</td>\n    </tr>\n    <tr>\n      <th>128835</th>\n      <td>169062</td>\n      <td>74_URINE WBC/HPF_36.0,74_URINE BLOOD_TR,74_URI...</td>\n    </tr>\n    <tr>\n      <th>128836</th>\n      <td>169063</td>\n      <td>76_PLT (V2)_140.0,76_HGB (V2)_10.31,76_MPV (V2...</td>\n    </tr>\n    <tr>\n      <th>128837</th>\n      <td>169064</td>\n      <td>88_zBETA GLOBULIN_39.0,88_PROTEIN,TOTAL(SENDOU...</td>\n    </tr>\n  </tbody>\n</table>\n<p>128838 rows × 2 columns</p>\n</div>"
          },
          "metadata": {}
        }
      ],
      "execution_count": 7,
      "metadata": {
        "jupyter": {
          "source_hidden": false,
          "outputs_hidden": false
        },
        "nteract": {
          "transient": {
            "deleting": false
          }
        },
        "gather": {
          "logged": 1689696221841
        }
      }
    },
    {
      "cell_type": "markdown",
      "source": [
        "##### **4. Measurement blood pressure**"
      ],
      "metadata": {
        "nteract": {
          "transient": {
            "deleting": false
          }
        }
      }
    },
    {
      "cell_type": "code",
      "source": [
        "measurement_bp = pd.read_csv('/mnt/batch/tasks/shared/LS_root/mounts/clusters/nisha-gpu3/code/Users/900379/Output_files_train/Potential_files_train/df_measurements_blood_pressure_train_v1.csv')\r\n",
        "measurement_bp.head()"
      ],
      "outputs": [
        {
          "output_type": "execute_result",
          "execution_count": 8,
          "data": {
            "text/plain": "   Unnamed: 0  Internalpatientid  Diastolic bp  Systolic bp\n0           0             100000          90.0        152.0\n1           1             100060          73.0        112.0\n2           2             100062          61.0        108.0\n3           3             100079          60.0        111.0\n4           4             100081          62.0        119.0",
            "text/html": "<div>\n<style scoped>\n    .dataframe tbody tr th:only-of-type {\n        vertical-align: middle;\n    }\n\n    .dataframe tbody tr th {\n        vertical-align: top;\n    }\n\n    .dataframe thead th {\n        text-align: right;\n    }\n</style>\n<table border=\"1\" class=\"dataframe\">\n  <thead>\n    <tr style=\"text-align: right;\">\n      <th></th>\n      <th>Unnamed: 0</th>\n      <th>Internalpatientid</th>\n      <th>Diastolic bp</th>\n      <th>Systolic bp</th>\n    </tr>\n  </thead>\n  <tbody>\n    <tr>\n      <th>0</th>\n      <td>0</td>\n      <td>100000</td>\n      <td>90.0</td>\n      <td>152.0</td>\n    </tr>\n    <tr>\n      <th>1</th>\n      <td>1</td>\n      <td>100060</td>\n      <td>73.0</td>\n      <td>112.0</td>\n    </tr>\n    <tr>\n      <th>2</th>\n      <td>2</td>\n      <td>100062</td>\n      <td>61.0</td>\n      <td>108.0</td>\n    </tr>\n    <tr>\n      <th>3</th>\n      <td>3</td>\n      <td>100079</td>\n      <td>60.0</td>\n      <td>111.0</td>\n    </tr>\n    <tr>\n      <th>4</th>\n      <td>4</td>\n      <td>100081</td>\n      <td>62.0</td>\n      <td>119.0</td>\n    </tr>\n  </tbody>\n</table>\n</div>"
          },
          "metadata": {}
        }
      ],
      "execution_count": 8,
      "metadata": {
        "jupyter": {
          "source_hidden": false,
          "outputs_hidden": false
        },
        "nteract": {
          "transient": {
            "deleting": false
          }
        },
        "gather": {
          "logged": 1689696230049
        }
      }
    },
    {
      "cell_type": "code",
      "source": [
        "measurement_bp.drop('Unnamed: 0', axis=1, inplace=True)\r\n",
        "measurement_bp"
      ],
      "outputs": [
        {
          "output_type": "execute_result",
          "execution_count": 9,
          "data": {
            "text/plain": "        Internalpatientid  Diastolic bp  Systolic bp\n0                  100000          90.0        152.0\n1                  100060          73.0        112.0\n2                  100062          61.0        108.0\n3                  100079          60.0        111.0\n4                  100081          62.0        119.0\n...                   ...           ...          ...\n132027              99928          60.0        130.0\n132028              99954          62.0        113.0\n132029              99960          71.0        128.0\n132030              99977          83.0        127.0\n132031              99987          55.0        138.0\n\n[132032 rows x 3 columns]",
            "text/html": "<div>\n<style scoped>\n    .dataframe tbody tr th:only-of-type {\n        vertical-align: middle;\n    }\n\n    .dataframe tbody tr th {\n        vertical-align: top;\n    }\n\n    .dataframe thead th {\n        text-align: right;\n    }\n</style>\n<table border=\"1\" class=\"dataframe\">\n  <thead>\n    <tr style=\"text-align: right;\">\n      <th></th>\n      <th>Internalpatientid</th>\n      <th>Diastolic bp</th>\n      <th>Systolic bp</th>\n    </tr>\n  </thead>\n  <tbody>\n    <tr>\n      <th>0</th>\n      <td>100000</td>\n      <td>90.0</td>\n      <td>152.0</td>\n    </tr>\n    <tr>\n      <th>1</th>\n      <td>100060</td>\n      <td>73.0</td>\n      <td>112.0</td>\n    </tr>\n    <tr>\n      <th>2</th>\n      <td>100062</td>\n      <td>61.0</td>\n      <td>108.0</td>\n    </tr>\n    <tr>\n      <th>3</th>\n      <td>100079</td>\n      <td>60.0</td>\n      <td>111.0</td>\n    </tr>\n    <tr>\n      <th>4</th>\n      <td>100081</td>\n      <td>62.0</td>\n      <td>119.0</td>\n    </tr>\n    <tr>\n      <th>...</th>\n      <td>...</td>\n      <td>...</td>\n      <td>...</td>\n    </tr>\n    <tr>\n      <th>132027</th>\n      <td>99928</td>\n      <td>60.0</td>\n      <td>130.0</td>\n    </tr>\n    <tr>\n      <th>132028</th>\n      <td>99954</td>\n      <td>62.0</td>\n      <td>113.0</td>\n    </tr>\n    <tr>\n      <th>132029</th>\n      <td>99960</td>\n      <td>71.0</td>\n      <td>128.0</td>\n    </tr>\n    <tr>\n      <th>132030</th>\n      <td>99977</td>\n      <td>83.0</td>\n      <td>127.0</td>\n    </tr>\n    <tr>\n      <th>132031</th>\n      <td>99987</td>\n      <td>55.0</td>\n      <td>138.0</td>\n    </tr>\n  </tbody>\n</table>\n<p>132032 rows × 3 columns</p>\n</div>"
          },
          "metadata": {}
        }
      ],
      "execution_count": 9,
      "metadata": {
        "jupyter": {
          "source_hidden": false,
          "outputs_hidden": false
        },
        "nteract": {
          "transient": {
            "deleting": false
          }
        },
        "gather": {
          "logged": 1689696234010
        }
      }
    },
    {
      "cell_type": "markdown",
      "source": [
        "##### **5. Measurements**"
      ],
      "metadata": {
        "nteract": {
          "transient": {
            "deleting": false
          }
        }
      }
    },
    {
      "cell_type": "code",
      "source": [
        "measurements = pd.read_csv('/mnt/batch/tasks/shared/LS_root/mounts/clusters/nisha-gpu3/code/Users/900379/Output_files_train/Potential_files_train/df_measurements_pivot_train_v1.csv')\r\n",
        "measurements.head()"
      ],
      "outputs": [
        {
          "output_type": "execute_result",
          "execution_count": 10,
          "data": {
            "text/plain": "   Internalpatientid  Pain  Pulse  Respiratory rate  Temperature\n0                  1   0.0   61.0              17.0   102.765598\n1                  2   0.0   91.0              19.0    92.922517\n2                  3   0.0   52.0              19.0    93.886986\n3                  4   0.0   69.0              20.0    94.900520\n4                  5   0.0  100.0              28.0   100.819041",
            "text/html": "<div>\n<style scoped>\n    .dataframe tbody tr th:only-of-type {\n        vertical-align: middle;\n    }\n\n    .dataframe tbody tr th {\n        vertical-align: top;\n    }\n\n    .dataframe thead th {\n        text-align: right;\n    }\n</style>\n<table border=\"1\" class=\"dataframe\">\n  <thead>\n    <tr style=\"text-align: right;\">\n      <th></th>\n      <th>Internalpatientid</th>\n      <th>Pain</th>\n      <th>Pulse</th>\n      <th>Respiratory rate</th>\n      <th>Temperature</th>\n    </tr>\n  </thead>\n  <tbody>\n    <tr>\n      <th>0</th>\n      <td>1</td>\n      <td>0.0</td>\n      <td>61.0</td>\n      <td>17.0</td>\n      <td>102.765598</td>\n    </tr>\n    <tr>\n      <th>1</th>\n      <td>2</td>\n      <td>0.0</td>\n      <td>91.0</td>\n      <td>19.0</td>\n      <td>92.922517</td>\n    </tr>\n    <tr>\n      <th>2</th>\n      <td>3</td>\n      <td>0.0</td>\n      <td>52.0</td>\n      <td>19.0</td>\n      <td>93.886986</td>\n    </tr>\n    <tr>\n      <th>3</th>\n      <td>4</td>\n      <td>0.0</td>\n      <td>69.0</td>\n      <td>20.0</td>\n      <td>94.900520</td>\n    </tr>\n    <tr>\n      <th>4</th>\n      <td>5</td>\n      <td>0.0</td>\n      <td>100.0</td>\n      <td>28.0</td>\n      <td>100.819041</td>\n    </tr>\n  </tbody>\n</table>\n</div>"
          },
          "metadata": {}
        }
      ],
      "execution_count": 10,
      "metadata": {
        "jupyter": {
          "source_hidden": false,
          "outputs_hidden": false
        },
        "nteract": {
          "transient": {
            "deleting": false
          }
        },
        "gather": {
          "logged": 1689696242852
        }
      }
    },
    {
      "cell_type": "code",
      "source": [
        "measurements"
      ],
      "outputs": [
        {
          "output_type": "execute_result",
          "execution_count": 11,
          "data": {
            "text/plain": "        Internalpatientid  Pain  Pulse  Respiratory rate  Temperature\n0                       1   0.0   61.0              17.0   102.765598\n1                       2   0.0   91.0              19.0    92.922517\n2                       3   0.0   52.0              19.0    93.886986\n3                       4   0.0   69.0              20.0    94.900520\n4                       5   0.0  100.0              28.0   100.819041\n...                   ...   ...    ...               ...          ...\n129900             169060   0.0   76.0              17.0    99.637162\n129901             169061   0.0   51.0              17.0    97.737097\n129902             169062   0.0   86.0              21.0    96.000000\n129903             169063   0.0   69.0              19.0    97.026778\n129904             169064   5.0   81.0              21.0   102.000000\n\n[129905 rows x 5 columns]",
            "text/html": "<div>\n<style scoped>\n    .dataframe tbody tr th:only-of-type {\n        vertical-align: middle;\n    }\n\n    .dataframe tbody tr th {\n        vertical-align: top;\n    }\n\n    .dataframe thead th {\n        text-align: right;\n    }\n</style>\n<table border=\"1\" class=\"dataframe\">\n  <thead>\n    <tr style=\"text-align: right;\">\n      <th></th>\n      <th>Internalpatientid</th>\n      <th>Pain</th>\n      <th>Pulse</th>\n      <th>Respiratory rate</th>\n      <th>Temperature</th>\n    </tr>\n  </thead>\n  <tbody>\n    <tr>\n      <th>0</th>\n      <td>1</td>\n      <td>0.0</td>\n      <td>61.0</td>\n      <td>17.0</td>\n      <td>102.765598</td>\n    </tr>\n    <tr>\n      <th>1</th>\n      <td>2</td>\n      <td>0.0</td>\n      <td>91.0</td>\n      <td>19.0</td>\n      <td>92.922517</td>\n    </tr>\n    <tr>\n      <th>2</th>\n      <td>3</td>\n      <td>0.0</td>\n      <td>52.0</td>\n      <td>19.0</td>\n      <td>93.886986</td>\n    </tr>\n    <tr>\n      <th>3</th>\n      <td>4</td>\n      <td>0.0</td>\n      <td>69.0</td>\n      <td>20.0</td>\n      <td>94.900520</td>\n    </tr>\n    <tr>\n      <th>4</th>\n      <td>5</td>\n      <td>0.0</td>\n      <td>100.0</td>\n      <td>28.0</td>\n      <td>100.819041</td>\n    </tr>\n    <tr>\n      <th>...</th>\n      <td>...</td>\n      <td>...</td>\n      <td>...</td>\n      <td>...</td>\n      <td>...</td>\n    </tr>\n    <tr>\n      <th>129900</th>\n      <td>169060</td>\n      <td>0.0</td>\n      <td>76.0</td>\n      <td>17.0</td>\n      <td>99.637162</td>\n    </tr>\n    <tr>\n      <th>129901</th>\n      <td>169061</td>\n      <td>0.0</td>\n      <td>51.0</td>\n      <td>17.0</td>\n      <td>97.737097</td>\n    </tr>\n    <tr>\n      <th>129902</th>\n      <td>169062</td>\n      <td>0.0</td>\n      <td>86.0</td>\n      <td>21.0</td>\n      <td>96.000000</td>\n    </tr>\n    <tr>\n      <th>129903</th>\n      <td>169063</td>\n      <td>0.0</td>\n      <td>69.0</td>\n      <td>19.0</td>\n      <td>97.026778</td>\n    </tr>\n    <tr>\n      <th>129904</th>\n      <td>169064</td>\n      <td>5.0</td>\n      <td>81.0</td>\n      <td>21.0</td>\n      <td>102.000000</td>\n    </tr>\n  </tbody>\n</table>\n<p>129905 rows × 5 columns</p>\n</div>"
          },
          "metadata": {}
        }
      ],
      "execution_count": 11,
      "metadata": {
        "jupyter": {
          "source_hidden": false,
          "outputs_hidden": false
        },
        "nteract": {
          "transient": {
            "deleting": false
          }
        },
        "gather": {
          "logged": 1689675480576
        }
      }
    },
    {
      "cell_type": "code",
      "source": [
        "death_train = pd.read_csv('/mnt/batch/tasks/shared/LS_root/mounts/clusters/nisha-gpu3/code/Users/900379/Output_files_train/Potential_files_train/df_death_train.csv')\r\n",
        "death_train.head()"
      ],
      "outputs": [
        {
          "output_type": "execute_result",
          "execution_count": 11,
          "data": {
            "text/plain": "   Unnamed: 0  Internalpatientid  death\n0           0             100036      1\n1           1             100037      1\n2           2             100045      1\n3           3             100095      1\n4           4              10013      1",
            "text/html": "<div>\n<style scoped>\n    .dataframe tbody tr th:only-of-type {\n        vertical-align: middle;\n    }\n\n    .dataframe tbody tr th {\n        vertical-align: top;\n    }\n\n    .dataframe thead th {\n        text-align: right;\n    }\n</style>\n<table border=\"1\" class=\"dataframe\">\n  <thead>\n    <tr style=\"text-align: right;\">\n      <th></th>\n      <th>Unnamed: 0</th>\n      <th>Internalpatientid</th>\n      <th>death</th>\n    </tr>\n  </thead>\n  <tbody>\n    <tr>\n      <th>0</th>\n      <td>0</td>\n      <td>100036</td>\n      <td>1</td>\n    </tr>\n    <tr>\n      <th>1</th>\n      <td>1</td>\n      <td>100037</td>\n      <td>1</td>\n    </tr>\n    <tr>\n      <th>2</th>\n      <td>2</td>\n      <td>100045</td>\n      <td>1</td>\n    </tr>\n    <tr>\n      <th>3</th>\n      <td>3</td>\n      <td>100095</td>\n      <td>1</td>\n    </tr>\n    <tr>\n      <th>4</th>\n      <td>4</td>\n      <td>10013</td>\n      <td>1</td>\n    </tr>\n  </tbody>\n</table>\n</div>"
          },
          "metadata": {}
        }
      ],
      "execution_count": 11,
      "metadata": {
        "jupyter": {
          "source_hidden": false,
          "outputs_hidden": false
        },
        "nteract": {
          "transient": {
            "deleting": false
          }
        },
        "gather": {
          "logged": 1689696248858
        }
      }
    },
    {
      "cell_type": "code",
      "source": [
        "death_train.drop('Unnamed: 0', axis = 1, inplace = True)\r\n",
        "death_train"
      ],
      "outputs": [
        {
          "output_type": "execute_result",
          "execution_count": 12,
          "data": {
            "text/plain": "       Internalpatientid  death\n0                 100036      1\n1                 100037      1\n2                 100045      1\n3                 100095      1\n4                  10013      1\n...                  ...    ...\n97279              99827      1\n97280              99842      1\n97281              99847      1\n97282              99872      1\n97283              99999      1\n\n[97284 rows x 2 columns]",
            "text/html": "<div>\n<style scoped>\n    .dataframe tbody tr th:only-of-type {\n        vertical-align: middle;\n    }\n\n    .dataframe tbody tr th {\n        vertical-align: top;\n    }\n\n    .dataframe thead th {\n        text-align: right;\n    }\n</style>\n<table border=\"1\" class=\"dataframe\">\n  <thead>\n    <tr style=\"text-align: right;\">\n      <th></th>\n      <th>Internalpatientid</th>\n      <th>death</th>\n    </tr>\n  </thead>\n  <tbody>\n    <tr>\n      <th>0</th>\n      <td>100036</td>\n      <td>1</td>\n    </tr>\n    <tr>\n      <th>1</th>\n      <td>100037</td>\n      <td>1</td>\n    </tr>\n    <tr>\n      <th>2</th>\n      <td>100045</td>\n      <td>1</td>\n    </tr>\n    <tr>\n      <th>3</th>\n      <td>100095</td>\n      <td>1</td>\n    </tr>\n    <tr>\n      <th>4</th>\n      <td>10013</td>\n      <td>1</td>\n    </tr>\n    <tr>\n      <th>...</th>\n      <td>...</td>\n      <td>...</td>\n    </tr>\n    <tr>\n      <th>97279</th>\n      <td>99827</td>\n      <td>1</td>\n    </tr>\n    <tr>\n      <th>97280</th>\n      <td>99842</td>\n      <td>1</td>\n    </tr>\n    <tr>\n      <th>97281</th>\n      <td>99847</td>\n      <td>1</td>\n    </tr>\n    <tr>\n      <th>97282</th>\n      <td>99872</td>\n      <td>1</td>\n    </tr>\n    <tr>\n      <th>97283</th>\n      <td>99999</td>\n      <td>1</td>\n    </tr>\n  </tbody>\n</table>\n<p>97284 rows × 2 columns</p>\n</div>"
          },
          "metadata": {}
        }
      ],
      "execution_count": 12,
      "metadata": {
        "jupyter": {
          "source_hidden": false,
          "outputs_hidden": false
        },
        "nteract": {
          "transient": {
            "deleting": false
          }
        },
        "gather": {
          "logged": 1689696252024
        }
      }
    },
    {
      "cell_type": "code",
      "source": [
        "# List of files names in desired sequence\r\n",
        "\r\n",
        "dataframe_sequence = ['conditions','immunization','lab_results','measurement_bp','measurements','death_train']\r\n",
        "\r\n",
        "# Initialize merged_df with the first dataframe in the sequence\r\n",
        "merged_df = globals()[dataframe_sequence[0]]\r\n",
        "\r\n",
        "# Loop through the remaining dataframe names in the desired seq\r\n",
        "\r\n",
        "for df_name in dataframe_sequence[1:]:\r\n",
        "\r\n",
        "    merged_df = merged_df.merge(globals()[df_name], on = 'Internalpatientid',how= 'outer')\r\n",
        "\r\n",
        "print(merged_df)\r\n"
      ],
      "outputs": [
        {
          "output_type": "stream",
          "name": "stdout",
          "text": "        Internalpatientid                   Condition_code_icd10_subcategory   \n0                       1  80_Hyperlipidemia, unspecified,80_Other and un...  \\\n1                       2             70_Not specified,70_Fracture of coccyx   \n2                       3  82_Acquired absence of leg below knee,82_Encou...   \n3                       4  84_Unspecified abdominal pain,84_Systolic (con...   \n4                       5  77_Encounter for screening for infectious and ...   \n...                   ...                                                ...   \n133247             150797                                                NaN   \n133248             151250                                                NaN   \n133249             164944                                                NaN   \n133250             111299                                                NaN   \n133251              73689                                                NaN   \n\n                                             immunization   \n0          80_INFLUENZA VACCINE, QUADRIVALENT, ADJUVANTED  \\\n1       69_INFLUENZA, UNSPECIFIED FORMULATION,69_INFLU...   \n2                   82_INFLUENZA, UNSPECIFIED FORMULATION   \n3       84_FLU,3 YRS (HISTORICAL),84_INFLUENZA, SEASON...   \n4                               76_FLU,3 YRS (HISTORICAL)   \n...                                                   ...   \n133247                                                NaN   \n133248                                                NaN   \n133249                                                NaN   \n133250                                                NaN   \n133251                                                NaN   \n\n                              Lab_test_description_Result  Diastolic bp   \n0       80_Alpha Fetoprotein_3.0,80_INR -TOP_1.68,80_P...          72.0  \\\n1       70_GLOBULIN, CALC._3.0,70_OSMOLALITY, CALC._30...          65.0   \n2                            82_WHOLE BLOOD GLUCOSE_123.0          59.0   \n3       84_MRSA SURVL NARES AGAR_NEGATIVE,84_ANCILLARY...          70.0   \n4       77_PROTEIN, TOTAL_5.13,77_eGFR_49.0,77_POTASSI...          91.0   \n...                                                   ...           ...   \n133247                   87_MRSA SURVL NARES DNA_Negative          75.0   \n133248  92_PROTIME*ne_12.98,92_INR*ne_1.17,92_RBC_2.63...          72.0   \n133249  72_WHOLE BLOOD GLUCOSE_226.0,72_POTASSIUM_4.27...          83.0   \n133250                                                NaN          61.0   \n133251                                                NaN          87.0   \n\n        Systolic bp  Pain  Pulse  Respiratory rate  Temperature  death  \n0             123.0   0.0   61.0              17.0   102.765598    NaN  \n1             111.0   0.0   91.0              19.0    92.922517    NaN  \n2             118.0   0.0   52.0              19.0    93.886986    1.0  \n3             146.0   0.0   69.0              20.0    94.900520    1.0  \n4             158.0   0.0  100.0              28.0   100.819041    1.0  \n...             ...   ...    ...               ...          ...    ...  \n133247        102.0   1.0   49.0              24.0    97.854060    1.0  \n133248        128.0   0.0  131.0              13.0    99.279432    1.0  \n133249        145.0   0.0   99.0              28.0    95.265067    1.0  \n133250         85.0   0.0   76.0              26.0    98.717113    1.0  \n133251        131.0   0.0   87.0              28.0    93.973136    1.0  \n\n[133252 rows x 11 columns]\n"
        }
      ],
      "execution_count": 13,
      "metadata": {
        "jupyter": {
          "source_hidden": false,
          "outputs_hidden": false
        },
        "nteract": {
          "transient": {
            "deleting": false
          }
        },
        "gather": {
          "logged": 1689696255115
        }
      }
    },
    {
      "cell_type": "code",
      "source": [
        "merged_df"
      ],
      "outputs": [
        {
          "output_type": "execute_result",
          "execution_count": 14,
          "data": {
            "text/plain": "        Internalpatientid                   Condition_code_icd10_subcategory   \n0                       1  80_Hyperlipidemia, unspecified,80_Other and un...  \\\n1                       2             70_Not specified,70_Fracture of coccyx   \n2                       3  82_Acquired absence of leg below knee,82_Encou...   \n3                       4  84_Unspecified abdominal pain,84_Systolic (con...   \n4                       5  77_Encounter for screening for infectious and ...   \n...                   ...                                                ...   \n133247             150797                                                NaN   \n133248             151250                                                NaN   \n133249             164944                                                NaN   \n133250             111299                                                NaN   \n133251              73689                                                NaN   \n\n                                             immunization   \n0          80_INFLUENZA VACCINE, QUADRIVALENT, ADJUVANTED  \\\n1       69_INFLUENZA, UNSPECIFIED FORMULATION,69_INFLU...   \n2                   82_INFLUENZA, UNSPECIFIED FORMULATION   \n3       84_FLU,3 YRS (HISTORICAL),84_INFLUENZA, SEASON...   \n4                               76_FLU,3 YRS (HISTORICAL)   \n...                                                   ...   \n133247                                                NaN   \n133248                                                NaN   \n133249                                                NaN   \n133250                                                NaN   \n133251                                                NaN   \n\n                              Lab_test_description_Result  Diastolic bp   \n0       80_Alpha Fetoprotein_3.0,80_INR -TOP_1.68,80_P...          72.0  \\\n1       70_GLOBULIN, CALC._3.0,70_OSMOLALITY, CALC._30...          65.0   \n2                            82_WHOLE BLOOD GLUCOSE_123.0          59.0   \n3       84_MRSA SURVL NARES AGAR_NEGATIVE,84_ANCILLARY...          70.0   \n4       77_PROTEIN, TOTAL_5.13,77_eGFR_49.0,77_POTASSI...          91.0   \n...                                                   ...           ...   \n133247                   87_MRSA SURVL NARES DNA_Negative          75.0   \n133248  92_PROTIME*ne_12.98,92_INR*ne_1.17,92_RBC_2.63...          72.0   \n133249  72_WHOLE BLOOD GLUCOSE_226.0,72_POTASSIUM_4.27...          83.0   \n133250                                                NaN          61.0   \n133251                                                NaN          87.0   \n\n        Systolic bp  Pain  Pulse  Respiratory rate  Temperature  death  \n0             123.0   0.0   61.0              17.0   102.765598    NaN  \n1             111.0   0.0   91.0              19.0    92.922517    NaN  \n2             118.0   0.0   52.0              19.0    93.886986    1.0  \n3             146.0   0.0   69.0              20.0    94.900520    1.0  \n4             158.0   0.0  100.0              28.0   100.819041    1.0  \n...             ...   ...    ...               ...          ...    ...  \n133247        102.0   1.0   49.0              24.0    97.854060    1.0  \n133248        128.0   0.0  131.0              13.0    99.279432    1.0  \n133249        145.0   0.0   99.0              28.0    95.265067    1.0  \n133250         85.0   0.0   76.0              26.0    98.717113    1.0  \n133251        131.0   0.0   87.0              28.0    93.973136    1.0  \n\n[133252 rows x 11 columns]",
            "text/html": "<div>\n<style scoped>\n    .dataframe tbody tr th:only-of-type {\n        vertical-align: middle;\n    }\n\n    .dataframe tbody tr th {\n        vertical-align: top;\n    }\n\n    .dataframe thead th {\n        text-align: right;\n    }\n</style>\n<table border=\"1\" class=\"dataframe\">\n  <thead>\n    <tr style=\"text-align: right;\">\n      <th></th>\n      <th>Internalpatientid</th>\n      <th>Condition_code_icd10_subcategory</th>\n      <th>immunization</th>\n      <th>Lab_test_description_Result</th>\n      <th>Diastolic bp</th>\n      <th>Systolic bp</th>\n      <th>Pain</th>\n      <th>Pulse</th>\n      <th>Respiratory rate</th>\n      <th>Temperature</th>\n      <th>death</th>\n    </tr>\n  </thead>\n  <tbody>\n    <tr>\n      <th>0</th>\n      <td>1</td>\n      <td>80_Hyperlipidemia, unspecified,80_Other and un...</td>\n      <td>80_INFLUENZA VACCINE, QUADRIVALENT, ADJUVANTED</td>\n      <td>80_Alpha Fetoprotein_3.0,80_INR -TOP_1.68,80_P...</td>\n      <td>72.0</td>\n      <td>123.0</td>\n      <td>0.0</td>\n      <td>61.0</td>\n      <td>17.0</td>\n      <td>102.765598</td>\n      <td>NaN</td>\n    </tr>\n    <tr>\n      <th>1</th>\n      <td>2</td>\n      <td>70_Not specified,70_Fracture of coccyx</td>\n      <td>69_INFLUENZA, UNSPECIFIED FORMULATION,69_INFLU...</td>\n      <td>70_GLOBULIN, CALC._3.0,70_OSMOLALITY, CALC._30...</td>\n      <td>65.0</td>\n      <td>111.0</td>\n      <td>0.0</td>\n      <td>91.0</td>\n      <td>19.0</td>\n      <td>92.922517</td>\n      <td>NaN</td>\n    </tr>\n    <tr>\n      <th>2</th>\n      <td>3</td>\n      <td>82_Acquired absence of leg below knee,82_Encou...</td>\n      <td>82_INFLUENZA, UNSPECIFIED FORMULATION</td>\n      <td>82_WHOLE BLOOD GLUCOSE_123.0</td>\n      <td>59.0</td>\n      <td>118.0</td>\n      <td>0.0</td>\n      <td>52.0</td>\n      <td>19.0</td>\n      <td>93.886986</td>\n      <td>1.0</td>\n    </tr>\n    <tr>\n      <th>3</th>\n      <td>4</td>\n      <td>84_Unspecified abdominal pain,84_Systolic (con...</td>\n      <td>84_FLU,3 YRS (HISTORICAL),84_INFLUENZA, SEASON...</td>\n      <td>84_MRSA SURVL NARES AGAR_NEGATIVE,84_ANCILLARY...</td>\n      <td>70.0</td>\n      <td>146.0</td>\n      <td>0.0</td>\n      <td>69.0</td>\n      <td>20.0</td>\n      <td>94.900520</td>\n      <td>1.0</td>\n    </tr>\n    <tr>\n      <th>4</th>\n      <td>5</td>\n      <td>77_Encounter for screening for infectious and ...</td>\n      <td>76_FLU,3 YRS (HISTORICAL)</td>\n      <td>77_PROTEIN, TOTAL_5.13,77_eGFR_49.0,77_POTASSI...</td>\n      <td>91.0</td>\n      <td>158.0</td>\n      <td>0.0</td>\n      <td>100.0</td>\n      <td>28.0</td>\n      <td>100.819041</td>\n      <td>1.0</td>\n    </tr>\n    <tr>\n      <th>...</th>\n      <td>...</td>\n      <td>...</td>\n      <td>...</td>\n      <td>...</td>\n      <td>...</td>\n      <td>...</td>\n      <td>...</td>\n      <td>...</td>\n      <td>...</td>\n      <td>...</td>\n      <td>...</td>\n    </tr>\n    <tr>\n      <th>133247</th>\n      <td>150797</td>\n      <td>NaN</td>\n      <td>NaN</td>\n      <td>87_MRSA SURVL NARES DNA_Negative</td>\n      <td>75.0</td>\n      <td>102.0</td>\n      <td>1.0</td>\n      <td>49.0</td>\n      <td>24.0</td>\n      <td>97.854060</td>\n      <td>1.0</td>\n    </tr>\n    <tr>\n      <th>133248</th>\n      <td>151250</td>\n      <td>NaN</td>\n      <td>NaN</td>\n      <td>92_PROTIME*ne_12.98,92_INR*ne_1.17,92_RBC_2.63...</td>\n      <td>72.0</td>\n      <td>128.0</td>\n      <td>0.0</td>\n      <td>131.0</td>\n      <td>13.0</td>\n      <td>99.279432</td>\n      <td>1.0</td>\n    </tr>\n    <tr>\n      <th>133249</th>\n      <td>164944</td>\n      <td>NaN</td>\n      <td>NaN</td>\n      <td>72_WHOLE BLOOD GLUCOSE_226.0,72_POTASSIUM_4.27...</td>\n      <td>83.0</td>\n      <td>145.0</td>\n      <td>0.0</td>\n      <td>99.0</td>\n      <td>28.0</td>\n      <td>95.265067</td>\n      <td>1.0</td>\n    </tr>\n    <tr>\n      <th>133250</th>\n      <td>111299</td>\n      <td>NaN</td>\n      <td>NaN</td>\n      <td>NaN</td>\n      <td>61.0</td>\n      <td>85.0</td>\n      <td>0.0</td>\n      <td>76.0</td>\n      <td>26.0</td>\n      <td>98.717113</td>\n      <td>1.0</td>\n    </tr>\n    <tr>\n      <th>133251</th>\n      <td>73689</td>\n      <td>NaN</td>\n      <td>NaN</td>\n      <td>NaN</td>\n      <td>87.0</td>\n      <td>131.0</td>\n      <td>0.0</td>\n      <td>87.0</td>\n      <td>28.0</td>\n      <td>93.973136</td>\n      <td>1.0</td>\n    </tr>\n  </tbody>\n</table>\n<p>133252 rows × 11 columns</p>\n</div>"
          },
          "metadata": {}
        }
      ],
      "execution_count": 14,
      "metadata": {
        "jupyter": {
          "source_hidden": false,
          "outputs_hidden": false
        },
        "nteract": {
          "transient": {
            "deleting": false
          }
        },
        "gather": {
          "logged": 1689696259427
        }
      }
    },
    {
      "cell_type": "code",
      "source": [
        "merged_df.shape"
      ],
      "outputs": [
        {
          "output_type": "execute_result",
          "execution_count": 15,
          "data": {
            "text/plain": "(133252, 11)"
          },
          "metadata": {}
        }
      ],
      "execution_count": 15,
      "metadata": {
        "jupyter": {
          "source_hidden": false,
          "outputs_hidden": false
        },
        "nteract": {
          "transient": {
            "deleting": false
          }
        },
        "gather": {
          "logged": 1689696263200
        }
      }
    },
    {
      "cell_type": "code",
      "source": [
        "merged_df['death'] = merged_df['death'].fillna(0.0)\r\n",
        "\r\n",
        "merged_df.head()\r\n"
      ],
      "outputs": [
        {
          "output_type": "execute_result",
          "execution_count": 16,
          "data": {
            "text/plain": "   Internalpatientid                   Condition_code_icd10_subcategory   \n0                  1  80_Hyperlipidemia, unspecified,80_Other and un...  \\\n1                  2             70_Not specified,70_Fracture of coccyx   \n2                  3  82_Acquired absence of leg below knee,82_Encou...   \n3                  4  84_Unspecified abdominal pain,84_Systolic (con...   \n4                  5  77_Encounter for screening for infectious and ...   \n\n                                        immunization   \n0     80_INFLUENZA VACCINE, QUADRIVALENT, ADJUVANTED  \\\n1  69_INFLUENZA, UNSPECIFIED FORMULATION,69_INFLU...   \n2              82_INFLUENZA, UNSPECIFIED FORMULATION   \n3  84_FLU,3 YRS (HISTORICAL),84_INFLUENZA, SEASON...   \n4                          76_FLU,3 YRS (HISTORICAL)   \n\n                         Lab_test_description_Result  Diastolic bp   \n0  80_Alpha Fetoprotein_3.0,80_INR -TOP_1.68,80_P...          72.0  \\\n1  70_GLOBULIN, CALC._3.0,70_OSMOLALITY, CALC._30...          65.0   \n2                       82_WHOLE BLOOD GLUCOSE_123.0          59.0   \n3  84_MRSA SURVL NARES AGAR_NEGATIVE,84_ANCILLARY...          70.0   \n4  77_PROTEIN, TOTAL_5.13,77_eGFR_49.0,77_POTASSI...          91.0   \n\n   Systolic bp  Pain  Pulse  Respiratory rate  Temperature  death  \n0        123.0   0.0   61.0              17.0   102.765598    0.0  \n1        111.0   0.0   91.0              19.0    92.922517    0.0  \n2        118.0   0.0   52.0              19.0    93.886986    1.0  \n3        146.0   0.0   69.0              20.0    94.900520    1.0  \n4        158.0   0.0  100.0              28.0   100.819041    1.0  ",
            "text/html": "<div>\n<style scoped>\n    .dataframe tbody tr th:only-of-type {\n        vertical-align: middle;\n    }\n\n    .dataframe tbody tr th {\n        vertical-align: top;\n    }\n\n    .dataframe thead th {\n        text-align: right;\n    }\n</style>\n<table border=\"1\" class=\"dataframe\">\n  <thead>\n    <tr style=\"text-align: right;\">\n      <th></th>\n      <th>Internalpatientid</th>\n      <th>Condition_code_icd10_subcategory</th>\n      <th>immunization</th>\n      <th>Lab_test_description_Result</th>\n      <th>Diastolic bp</th>\n      <th>Systolic bp</th>\n      <th>Pain</th>\n      <th>Pulse</th>\n      <th>Respiratory rate</th>\n      <th>Temperature</th>\n      <th>death</th>\n    </tr>\n  </thead>\n  <tbody>\n    <tr>\n      <th>0</th>\n      <td>1</td>\n      <td>80_Hyperlipidemia, unspecified,80_Other and un...</td>\n      <td>80_INFLUENZA VACCINE, QUADRIVALENT, ADJUVANTED</td>\n      <td>80_Alpha Fetoprotein_3.0,80_INR -TOP_1.68,80_P...</td>\n      <td>72.0</td>\n      <td>123.0</td>\n      <td>0.0</td>\n      <td>61.0</td>\n      <td>17.0</td>\n      <td>102.765598</td>\n      <td>0.0</td>\n    </tr>\n    <tr>\n      <th>1</th>\n      <td>2</td>\n      <td>70_Not specified,70_Fracture of coccyx</td>\n      <td>69_INFLUENZA, UNSPECIFIED FORMULATION,69_INFLU...</td>\n      <td>70_GLOBULIN, CALC._3.0,70_OSMOLALITY, CALC._30...</td>\n      <td>65.0</td>\n      <td>111.0</td>\n      <td>0.0</td>\n      <td>91.0</td>\n      <td>19.0</td>\n      <td>92.922517</td>\n      <td>0.0</td>\n    </tr>\n    <tr>\n      <th>2</th>\n      <td>3</td>\n      <td>82_Acquired absence of leg below knee,82_Encou...</td>\n      <td>82_INFLUENZA, UNSPECIFIED FORMULATION</td>\n      <td>82_WHOLE BLOOD GLUCOSE_123.0</td>\n      <td>59.0</td>\n      <td>118.0</td>\n      <td>0.0</td>\n      <td>52.0</td>\n      <td>19.0</td>\n      <td>93.886986</td>\n      <td>1.0</td>\n    </tr>\n    <tr>\n      <th>3</th>\n      <td>4</td>\n      <td>84_Unspecified abdominal pain,84_Systolic (con...</td>\n      <td>84_FLU,3 YRS (HISTORICAL),84_INFLUENZA, SEASON...</td>\n      <td>84_MRSA SURVL NARES AGAR_NEGATIVE,84_ANCILLARY...</td>\n      <td>70.0</td>\n      <td>146.0</td>\n      <td>0.0</td>\n      <td>69.0</td>\n      <td>20.0</td>\n      <td>94.900520</td>\n      <td>1.0</td>\n    </tr>\n    <tr>\n      <th>4</th>\n      <td>5</td>\n      <td>77_Encounter for screening for infectious and ...</td>\n      <td>76_FLU,3 YRS (HISTORICAL)</td>\n      <td>77_PROTEIN, TOTAL_5.13,77_eGFR_49.0,77_POTASSI...</td>\n      <td>91.0</td>\n      <td>158.0</td>\n      <td>0.0</td>\n      <td>100.0</td>\n      <td>28.0</td>\n      <td>100.819041</td>\n      <td>1.0</td>\n    </tr>\n  </tbody>\n</table>\n</div>"
          },
          "metadata": {}
        }
      ],
      "execution_count": 16,
      "metadata": {
        "jupyter": {
          "source_hidden": false,
          "outputs_hidden": false
        },
        "nteract": {
          "transient": {
            "deleting": false
          }
        },
        "gather": {
          "logged": 1689696265352
        }
      }
    },
    {
      "cell_type": "code",
      "source": [
        "merged_df.isnull().sum()"
      ],
      "outputs": [
        {
          "output_type": "execute_result",
          "execution_count": 17,
          "data": {
            "text/plain": "Internalpatientid                      0\nCondition_code_icd10_subcategory    1183\nimmunization                        8093\nLab_test_description_Result         4414\nDiastolic bp                        1220\nSystolic bp                         1220\nPain                                3347\nPulse                               3347\nRespiratory rate                    3347\nTemperature                         3347\ndeath                                  0\ndtype: int64"
          },
          "metadata": {}
        }
      ],
      "execution_count": 17,
      "metadata": {
        "jupyter": {
          "source_hidden": false,
          "outputs_hidden": false
        },
        "nteract": {
          "transient": {
            "deleting": false
          }
        },
        "gather": {
          "logged": 1689696268244
        }
      }
    },
    {
      "cell_type": "code",
      "source": [
        "missing_perecentage = merged_df.isnull().sum() / len(merged_df) * 100\r\n",
        "print(missing_perecentage)"
      ],
      "outputs": [
        {
          "output_type": "stream",
          "name": "stdout",
          "text": "Internalpatientid                   0.000000\nCondition_code_icd10_subcategory    0.887792\nimmunization                        6.073455\nLab_test_description_Result         3.312521\nDiastolic bp                        0.915558\nSystolic bp                         0.915558\nPain                                2.511782\nPulse                               2.511782\nRespiratory rate                    2.511782\nTemperature                         2.511782\ndeath                               0.000000\ndtype: float64\n"
        }
      ],
      "execution_count": 18,
      "metadata": {
        "jupyter": {
          "source_hidden": false,
          "outputs_hidden": false
        },
        "nteract": {
          "transient": {
            "deleting": false
          }
        },
        "gather": {
          "logged": 1689696270967
        }
      }
    },
    {
      "cell_type": "code",
      "source": [
        "merged_df.info()"
      ],
      "outputs": [
        {
          "output_type": "stream",
          "name": "stdout",
          "text": "<class 'pandas.core.frame.DataFrame'>\nRangeIndex: 133252 entries, 0 to 133251\nData columns (total 11 columns):\n #   Column                            Non-Null Count   Dtype  \n---  ------                            --------------   -----  \n 0   Internalpatientid                 133252 non-null  int64  \n 1   Condition_code_icd10_subcategory  132069 non-null  object \n 2   immunization                      125159 non-null  object \n 3   Lab_test_description_Result       128838 non-null  object \n 4   Diastolic bp                      132032 non-null  float64\n 5   Systolic bp                       132032 non-null  float64\n 6   Pain                              129905 non-null  float64\n 7   Pulse                             129905 non-null  float64\n 8   Respiratory rate                  129905 non-null  float64\n 9   Temperature                       129905 non-null  float64\n 10  death                             133252 non-null  float64\ndtypes: float64(7), int64(1), object(3)\nmemory usage: 11.2+ MB\n"
        }
      ],
      "execution_count": 19,
      "metadata": {
        "jupyter": {
          "source_hidden": false,
          "outputs_hidden": false
        },
        "nteract": {
          "transient": {
            "deleting": false
          }
        },
        "gather": {
          "logged": 1689696273903
        }
      }
    },
    {
      "cell_type": "code",
      "source": [
        "columns_to_impute = ['Condition_code_icd10_subcategory','immunization','Lab_test_description_Result']\r\n",
        "\r\n",
        "merged_df[columns_to_impute] = merged_df[columns_to_impute].fillna(\"positive/negative\")"
      ],
      "outputs": [],
      "execution_count": 20,
      "metadata": {
        "jupyter": {
          "source_hidden": false,
          "outputs_hidden": false
        },
        "nteract": {
          "transient": {
            "deleting": false
          }
        },
        "gather": {
          "logged": 1689696277788
        }
      }
    },
    {
      "cell_type": "code",
      "source": [
        "float_columns_to_impute = ['Diastolic bp','Systolic bp','Pain','Pulse','Respiratory rate','Temperature']\r\n",
        "\r\n",
        "merged_df[float_columns_to_impute] = merged_df[float_columns_to_impute].fillna(1)"
      ],
      "outputs": [],
      "execution_count": 21,
      "metadata": {
        "jupyter": {
          "source_hidden": false,
          "outputs_hidden": false
        },
        "nteract": {
          "transient": {
            "deleting": false
          }
        },
        "gather": {
          "logged": 1689696279926
        }
      }
    },
    {
      "cell_type": "code",
      "source": [
        "merged_df.isnull().sum()"
      ],
      "outputs": [
        {
          "output_type": "execute_result",
          "execution_count": 22,
          "data": {
            "text/plain": "Internalpatientid                   0\nCondition_code_icd10_subcategory    0\nimmunization                        0\nLab_test_description_Result         0\nDiastolic bp                        0\nSystolic bp                         0\nPain                                0\nPulse                               0\nRespiratory rate                    0\nTemperature                         0\ndeath                               0\ndtype: int64"
          },
          "metadata": {}
        }
      ],
      "execution_count": 22,
      "metadata": {
        "jupyter": {
          "source_hidden": false,
          "outputs_hidden": false
        },
        "nteract": {
          "transient": {
            "deleting": false
          }
        },
        "gather": {
          "logged": 1689696282676
        }
      }
    },
    {
      "cell_type": "code",
      "source": [
        "merged_df['death'] = merged_df['death'].astype(int)"
      ],
      "outputs": [],
      "execution_count": 23,
      "metadata": {
        "jupyter": {
          "source_hidden": false,
          "outputs_hidden": false
        },
        "nteract": {
          "transient": {
            "deleting": false
          }
        },
        "gather": {
          "logged": 1689696285996
        }
      }
    },
    {
      "cell_type": "code",
      "source": [
        "merged_df"
      ],
      "outputs": [
        {
          "output_type": "execute_result",
          "execution_count": 24,
          "data": {
            "text/plain": "        Internalpatientid                   Condition_code_icd10_subcategory   \n0                       1  80_Hyperlipidemia, unspecified,80_Other and un...  \\\n1                       2             70_Not specified,70_Fracture of coccyx   \n2                       3  82_Acquired absence of leg below knee,82_Encou...   \n3                       4  84_Unspecified abdominal pain,84_Systolic (con...   \n4                       5  77_Encounter for screening for infectious and ...   \n...                   ...                                                ...   \n133247             150797                                  positive/negative   \n133248             151250                                  positive/negative   \n133249             164944                                  positive/negative   \n133250             111299                                  positive/negative   \n133251              73689                                  positive/negative   \n\n                                             immunization   \n0          80_INFLUENZA VACCINE, QUADRIVALENT, ADJUVANTED  \\\n1       69_INFLUENZA, UNSPECIFIED FORMULATION,69_INFLU...   \n2                   82_INFLUENZA, UNSPECIFIED FORMULATION   \n3       84_FLU,3 YRS (HISTORICAL),84_INFLUENZA, SEASON...   \n4                               76_FLU,3 YRS (HISTORICAL)   \n...                                                   ...   \n133247                                  positive/negative   \n133248                                  positive/negative   \n133249                                  positive/negative   \n133250                                  positive/negative   \n133251                                  positive/negative   \n\n                              Lab_test_description_Result  Diastolic bp   \n0       80_Alpha Fetoprotein_3.0,80_INR -TOP_1.68,80_P...          72.0  \\\n1       70_GLOBULIN, CALC._3.0,70_OSMOLALITY, CALC._30...          65.0   \n2                            82_WHOLE BLOOD GLUCOSE_123.0          59.0   \n3       84_MRSA SURVL NARES AGAR_NEGATIVE,84_ANCILLARY...          70.0   \n4       77_PROTEIN, TOTAL_5.13,77_eGFR_49.0,77_POTASSI...          91.0   \n...                                                   ...           ...   \n133247                   87_MRSA SURVL NARES DNA_Negative          75.0   \n133248  92_PROTIME*ne_12.98,92_INR*ne_1.17,92_RBC_2.63...          72.0   \n133249  72_WHOLE BLOOD GLUCOSE_226.0,72_POTASSIUM_4.27...          83.0   \n133250                                  positive/negative          61.0   \n133251                                  positive/negative          87.0   \n\n        Systolic bp  Pain  Pulse  Respiratory rate  Temperature  death  \n0             123.0   0.0   61.0              17.0   102.765598      0  \n1             111.0   0.0   91.0              19.0    92.922517      0  \n2             118.0   0.0   52.0              19.0    93.886986      1  \n3             146.0   0.0   69.0              20.0    94.900520      1  \n4             158.0   0.0  100.0              28.0   100.819041      1  \n...             ...   ...    ...               ...          ...    ...  \n133247        102.0   1.0   49.0              24.0    97.854060      1  \n133248        128.0   0.0  131.0              13.0    99.279432      1  \n133249        145.0   0.0   99.0              28.0    95.265067      1  \n133250         85.0   0.0   76.0              26.0    98.717113      1  \n133251        131.0   0.0   87.0              28.0    93.973136      1  \n\n[133252 rows x 11 columns]",
            "text/html": "<div>\n<style scoped>\n    .dataframe tbody tr th:only-of-type {\n        vertical-align: middle;\n    }\n\n    .dataframe tbody tr th {\n        vertical-align: top;\n    }\n\n    .dataframe thead th {\n        text-align: right;\n    }\n</style>\n<table border=\"1\" class=\"dataframe\">\n  <thead>\n    <tr style=\"text-align: right;\">\n      <th></th>\n      <th>Internalpatientid</th>\n      <th>Condition_code_icd10_subcategory</th>\n      <th>immunization</th>\n      <th>Lab_test_description_Result</th>\n      <th>Diastolic bp</th>\n      <th>Systolic bp</th>\n      <th>Pain</th>\n      <th>Pulse</th>\n      <th>Respiratory rate</th>\n      <th>Temperature</th>\n      <th>death</th>\n    </tr>\n  </thead>\n  <tbody>\n    <tr>\n      <th>0</th>\n      <td>1</td>\n      <td>80_Hyperlipidemia, unspecified,80_Other and un...</td>\n      <td>80_INFLUENZA VACCINE, QUADRIVALENT, ADJUVANTED</td>\n      <td>80_Alpha Fetoprotein_3.0,80_INR -TOP_1.68,80_P...</td>\n      <td>72.0</td>\n      <td>123.0</td>\n      <td>0.0</td>\n      <td>61.0</td>\n      <td>17.0</td>\n      <td>102.765598</td>\n      <td>0</td>\n    </tr>\n    <tr>\n      <th>1</th>\n      <td>2</td>\n      <td>70_Not specified,70_Fracture of coccyx</td>\n      <td>69_INFLUENZA, UNSPECIFIED FORMULATION,69_INFLU...</td>\n      <td>70_GLOBULIN, CALC._3.0,70_OSMOLALITY, CALC._30...</td>\n      <td>65.0</td>\n      <td>111.0</td>\n      <td>0.0</td>\n      <td>91.0</td>\n      <td>19.0</td>\n      <td>92.922517</td>\n      <td>0</td>\n    </tr>\n    <tr>\n      <th>2</th>\n      <td>3</td>\n      <td>82_Acquired absence of leg below knee,82_Encou...</td>\n      <td>82_INFLUENZA, UNSPECIFIED FORMULATION</td>\n      <td>82_WHOLE BLOOD GLUCOSE_123.0</td>\n      <td>59.0</td>\n      <td>118.0</td>\n      <td>0.0</td>\n      <td>52.0</td>\n      <td>19.0</td>\n      <td>93.886986</td>\n      <td>1</td>\n    </tr>\n    <tr>\n      <th>3</th>\n      <td>4</td>\n      <td>84_Unspecified abdominal pain,84_Systolic (con...</td>\n      <td>84_FLU,3 YRS (HISTORICAL),84_INFLUENZA, SEASON...</td>\n      <td>84_MRSA SURVL NARES AGAR_NEGATIVE,84_ANCILLARY...</td>\n      <td>70.0</td>\n      <td>146.0</td>\n      <td>0.0</td>\n      <td>69.0</td>\n      <td>20.0</td>\n      <td>94.900520</td>\n      <td>1</td>\n    </tr>\n    <tr>\n      <th>4</th>\n      <td>5</td>\n      <td>77_Encounter for screening for infectious and ...</td>\n      <td>76_FLU,3 YRS (HISTORICAL)</td>\n      <td>77_PROTEIN, TOTAL_5.13,77_eGFR_49.0,77_POTASSI...</td>\n      <td>91.0</td>\n      <td>158.0</td>\n      <td>0.0</td>\n      <td>100.0</td>\n      <td>28.0</td>\n      <td>100.819041</td>\n      <td>1</td>\n    </tr>\n    <tr>\n      <th>...</th>\n      <td>...</td>\n      <td>...</td>\n      <td>...</td>\n      <td>...</td>\n      <td>...</td>\n      <td>...</td>\n      <td>...</td>\n      <td>...</td>\n      <td>...</td>\n      <td>...</td>\n      <td>...</td>\n    </tr>\n    <tr>\n      <th>133247</th>\n      <td>150797</td>\n      <td>positive/negative</td>\n      <td>positive/negative</td>\n      <td>87_MRSA SURVL NARES DNA_Negative</td>\n      <td>75.0</td>\n      <td>102.0</td>\n      <td>1.0</td>\n      <td>49.0</td>\n      <td>24.0</td>\n      <td>97.854060</td>\n      <td>1</td>\n    </tr>\n    <tr>\n      <th>133248</th>\n      <td>151250</td>\n      <td>positive/negative</td>\n      <td>positive/negative</td>\n      <td>92_PROTIME*ne_12.98,92_INR*ne_1.17,92_RBC_2.63...</td>\n      <td>72.0</td>\n      <td>128.0</td>\n      <td>0.0</td>\n      <td>131.0</td>\n      <td>13.0</td>\n      <td>99.279432</td>\n      <td>1</td>\n    </tr>\n    <tr>\n      <th>133249</th>\n      <td>164944</td>\n      <td>positive/negative</td>\n      <td>positive/negative</td>\n      <td>72_WHOLE BLOOD GLUCOSE_226.0,72_POTASSIUM_4.27...</td>\n      <td>83.0</td>\n      <td>145.0</td>\n      <td>0.0</td>\n      <td>99.0</td>\n      <td>28.0</td>\n      <td>95.265067</td>\n      <td>1</td>\n    </tr>\n    <tr>\n      <th>133250</th>\n      <td>111299</td>\n      <td>positive/negative</td>\n      <td>positive/negative</td>\n      <td>positive/negative</td>\n      <td>61.0</td>\n      <td>85.0</td>\n      <td>0.0</td>\n      <td>76.0</td>\n      <td>26.0</td>\n      <td>98.717113</td>\n      <td>1</td>\n    </tr>\n    <tr>\n      <th>133251</th>\n      <td>73689</td>\n      <td>positive/negative</td>\n      <td>positive/negative</td>\n      <td>positive/negative</td>\n      <td>87.0</td>\n      <td>131.0</td>\n      <td>0.0</td>\n      <td>87.0</td>\n      <td>28.0</td>\n      <td>93.973136</td>\n      <td>1</td>\n    </tr>\n  </tbody>\n</table>\n<p>133252 rows × 11 columns</p>\n</div>"
          },
          "metadata": {}
        }
      ],
      "execution_count": 24,
      "metadata": {
        "jupyter": {
          "source_hidden": false,
          "outputs_hidden": false
        },
        "nteract": {
          "transient": {
            "deleting": false
          }
        },
        "gather": {
          "logged": 1689696318236
        }
      }
    },
    {
      "cell_type": "code",
      "source": [
        "merged_df.to_csv('/mnt/batch/tasks/shared/LS_root/mounts/clusters/nisha-gpu3/code/Users/900379/Final_data_frames/Merged_Final_Train.csv')"
      ],
      "outputs": [],
      "execution_count": 25,
      "metadata": {
        "jupyter": {
          "source_hidden": false,
          "outputs_hidden": false
        },
        "nteract": {
          "transient": {
            "deleting": false
          }
        },
        "gather": {
          "logged": 1689696346498
        }
      }
    },
    {
      "cell_type": "code",
      "source": [
        "merged_df['death'].value_counts()"
      ],
      "outputs": [
        {
          "output_type": "execute_result",
          "execution_count": 26,
          "data": {
            "text/plain": "death\n1    97284\n0    35968\nName: count, dtype: int64"
          },
          "metadata": {}
        }
      ],
      "execution_count": 26,
      "metadata": {
        "jupyter": {
          "source_hidden": false,
          "outputs_hidden": false
        },
        "nteract": {
          "transient": {
            "deleting": false
          }
        },
        "gather": {
          "logged": 1689696348613
        }
      }
    },
    {
      "cell_type": "code",
      "source": [
        "import pandas as pd"
      ],
      "outputs": [],
      "execution_count": 27,
      "metadata": {
        "jupyter": {
          "source_hidden": false,
          "outputs_hidden": false
        },
        "nteract": {
          "transient": {
            "deleting": false
          }
        },
        "gather": {
          "logged": 1689696352081
        }
      }
    },
    {
      "cell_type": "code",
      "source": [
        "merged_df.drop('Unnamed: 0', axis = 1, inplace = True)\r\n",
        "merged_df"
      ],
      "outputs": [
        {
          "output_type": "execute_result",
          "execution_count": 35,
          "data": {
            "text/plain": "        Internalpatientid                   Condition_code_icd10_subcategory   \n0                       1  80_Hyperlipidemia, unspecified,80_Other and un...  \\\n1                       2             70_Not specified,70_Fracture of coccyx   \n2                       3  82_Acquired absence of leg below knee,82_Encou...   \n3                       4  84_Unspecified abdominal pain,84_Systolic (con...   \n4                       5  77_Encounter for screening for infectious and ...   \n...                   ...                                                ...   \n133247             150797                                  positive/negative   \n133248             151250                                  positive/negative   \n133249             164944                                  positive/negative   \n133250             111299                                  positive/negative   \n133251              73689                                  positive/negative   \n\n                                             immunization   \n0          80_INFLUENZA VACCINE, QUADRIVALENT, ADJUVANTED  \\\n1       69_INFLUENZA, UNSPECIFIED FORMULATION,69_INFLU...   \n2                   82_INFLUENZA, UNSPECIFIED FORMULATION   \n3       84_FLU,3 YRS (HISTORICAL),84_INFLUENZA, SEASON...   \n4                               76_FLU,3 YRS (HISTORICAL)   \n...                                                   ...   \n133247                                  positive/negative   \n133248                                  positive/negative   \n133249                                  positive/negative   \n133250                                  positive/negative   \n133251                                  positive/negative   \n\n                              Lab_test_description_Result  Diastolic bp   \n0       80_Alpha Fetoprotein_3.0,80_INR -TOP_1.68,80_P...          72.0  \\\n1       70_GLOBULIN, CALC._3.0,70_OSMOLALITY, CALC._30...          65.0   \n2                            82_WHOLE BLOOD GLUCOSE_123.0          59.0   \n3       84_MRSA SURVL NARES AGAR_NEGATIVE,84_ANCILLARY...          70.0   \n4       77_PROTEIN, TOTAL_5.13,77_eGFR_49.0,77_POTASSI...          91.0   \n...                                                   ...           ...   \n133247                   87_MRSA SURVL NARES DNA_Negative          75.0   \n133248  92_PROTIME*ne_12.98,92_INR*ne_1.17,92_RBC_2.63...          72.0   \n133249  72_WHOLE BLOOD GLUCOSE_226.0,72_POTASSIUM_4.27...          83.0   \n133250                                  positive/negative          61.0   \n133251                                  positive/negative          87.0   \n\n        Systolic bp  Pain  Pulse  Respiratory rate  Temperature  death  \n0             123.0   0.0   61.0              17.0   102.765598      0  \n1             111.0   0.0   91.0              19.0    92.922517      0  \n2             118.0   0.0   52.0              19.0    93.886986      1  \n3             146.0   0.0   69.0              20.0    94.900520      1  \n4             158.0   0.0  100.0              28.0   100.819041      1  \n...             ...   ...    ...               ...          ...    ...  \n133247        102.0   1.0   49.0              24.0    97.854060      1  \n133248        128.0   0.0  131.0              13.0    99.279432      1  \n133249        145.0   0.0   99.0              28.0    95.265067      1  \n133250         85.0   0.0   76.0              26.0    98.717113      1  \n133251        131.0   0.0   87.0              28.0    93.973136      1  \n\n[133252 rows x 11 columns]",
            "text/html": "<div>\n<style scoped>\n    .dataframe tbody tr th:only-of-type {\n        vertical-align: middle;\n    }\n\n    .dataframe tbody tr th {\n        vertical-align: top;\n    }\n\n    .dataframe thead th {\n        text-align: right;\n    }\n</style>\n<table border=\"1\" class=\"dataframe\">\n  <thead>\n    <tr style=\"text-align: right;\">\n      <th></th>\n      <th>Internalpatientid</th>\n      <th>Condition_code_icd10_subcategory</th>\n      <th>immunization</th>\n      <th>Lab_test_description_Result</th>\n      <th>Diastolic bp</th>\n      <th>Systolic bp</th>\n      <th>Pain</th>\n      <th>Pulse</th>\n      <th>Respiratory rate</th>\n      <th>Temperature</th>\n      <th>death</th>\n    </tr>\n  </thead>\n  <tbody>\n    <tr>\n      <th>0</th>\n      <td>1</td>\n      <td>80_Hyperlipidemia, unspecified,80_Other and un...</td>\n      <td>80_INFLUENZA VACCINE, QUADRIVALENT, ADJUVANTED</td>\n      <td>80_Alpha Fetoprotein_3.0,80_INR -TOP_1.68,80_P...</td>\n      <td>72.0</td>\n      <td>123.0</td>\n      <td>0.0</td>\n      <td>61.0</td>\n      <td>17.0</td>\n      <td>102.765598</td>\n      <td>0</td>\n    </tr>\n    <tr>\n      <th>1</th>\n      <td>2</td>\n      <td>70_Not specified,70_Fracture of coccyx</td>\n      <td>69_INFLUENZA, UNSPECIFIED FORMULATION,69_INFLU...</td>\n      <td>70_GLOBULIN, CALC._3.0,70_OSMOLALITY, CALC._30...</td>\n      <td>65.0</td>\n      <td>111.0</td>\n      <td>0.0</td>\n      <td>91.0</td>\n      <td>19.0</td>\n      <td>92.922517</td>\n      <td>0</td>\n    </tr>\n    <tr>\n      <th>2</th>\n      <td>3</td>\n      <td>82_Acquired absence of leg below knee,82_Encou...</td>\n      <td>82_INFLUENZA, UNSPECIFIED FORMULATION</td>\n      <td>82_WHOLE BLOOD GLUCOSE_123.0</td>\n      <td>59.0</td>\n      <td>118.0</td>\n      <td>0.0</td>\n      <td>52.0</td>\n      <td>19.0</td>\n      <td>93.886986</td>\n      <td>1</td>\n    </tr>\n    <tr>\n      <th>3</th>\n      <td>4</td>\n      <td>84_Unspecified abdominal pain,84_Systolic (con...</td>\n      <td>84_FLU,3 YRS (HISTORICAL),84_INFLUENZA, SEASON...</td>\n      <td>84_MRSA SURVL NARES AGAR_NEGATIVE,84_ANCILLARY...</td>\n      <td>70.0</td>\n      <td>146.0</td>\n      <td>0.0</td>\n      <td>69.0</td>\n      <td>20.0</td>\n      <td>94.900520</td>\n      <td>1</td>\n    </tr>\n    <tr>\n      <th>4</th>\n      <td>5</td>\n      <td>77_Encounter for screening for infectious and ...</td>\n      <td>76_FLU,3 YRS (HISTORICAL)</td>\n      <td>77_PROTEIN, TOTAL_5.13,77_eGFR_49.0,77_POTASSI...</td>\n      <td>91.0</td>\n      <td>158.0</td>\n      <td>0.0</td>\n      <td>100.0</td>\n      <td>28.0</td>\n      <td>100.819041</td>\n      <td>1</td>\n    </tr>\n    <tr>\n      <th>...</th>\n      <td>...</td>\n      <td>...</td>\n      <td>...</td>\n      <td>...</td>\n      <td>...</td>\n      <td>...</td>\n      <td>...</td>\n      <td>...</td>\n      <td>...</td>\n      <td>...</td>\n      <td>...</td>\n    </tr>\n    <tr>\n      <th>133247</th>\n      <td>150797</td>\n      <td>positive/negative</td>\n      <td>positive/negative</td>\n      <td>87_MRSA SURVL NARES DNA_Negative</td>\n      <td>75.0</td>\n      <td>102.0</td>\n      <td>1.0</td>\n      <td>49.0</td>\n      <td>24.0</td>\n      <td>97.854060</td>\n      <td>1</td>\n    </tr>\n    <tr>\n      <th>133248</th>\n      <td>151250</td>\n      <td>positive/negative</td>\n      <td>positive/negative</td>\n      <td>92_PROTIME*ne_12.98,92_INR*ne_1.17,92_RBC_2.63...</td>\n      <td>72.0</td>\n      <td>128.0</td>\n      <td>0.0</td>\n      <td>131.0</td>\n      <td>13.0</td>\n      <td>99.279432</td>\n      <td>1</td>\n    </tr>\n    <tr>\n      <th>133249</th>\n      <td>164944</td>\n      <td>positive/negative</td>\n      <td>positive/negative</td>\n      <td>72_WHOLE BLOOD GLUCOSE_226.0,72_POTASSIUM_4.27...</td>\n      <td>83.0</td>\n      <td>145.0</td>\n      <td>0.0</td>\n      <td>99.0</td>\n      <td>28.0</td>\n      <td>95.265067</td>\n      <td>1</td>\n    </tr>\n    <tr>\n      <th>133250</th>\n      <td>111299</td>\n      <td>positive/negative</td>\n      <td>positive/negative</td>\n      <td>positive/negative</td>\n      <td>61.0</td>\n      <td>85.0</td>\n      <td>0.0</td>\n      <td>76.0</td>\n      <td>26.0</td>\n      <td>98.717113</td>\n      <td>1</td>\n    </tr>\n    <tr>\n      <th>133251</th>\n      <td>73689</td>\n      <td>positive/negative</td>\n      <td>positive/negative</td>\n      <td>positive/negative</td>\n      <td>87.0</td>\n      <td>131.0</td>\n      <td>0.0</td>\n      <td>87.0</td>\n      <td>28.0</td>\n      <td>93.973136</td>\n      <td>1</td>\n    </tr>\n  </tbody>\n</table>\n<p>133252 rows × 11 columns</p>\n</div>"
          },
          "metadata": {}
        }
      ],
      "execution_count": 35,
      "metadata": {
        "jupyter": {
          "source_hidden": false,
          "outputs_hidden": false
        },
        "nteract": {
          "transient": {
            "deleting": false
          }
        },
        "gather": {
          "logged": 1689676578420
        }
      }
    },
    {
      "cell_type": "code",
      "source": [
        "sample_size = 30000\r\n",
        "sample_df = merged_df.sample(n = sample_size, random_state = 42)"
      ],
      "outputs": [],
      "execution_count": 28,
      "metadata": {
        "jupyter": {
          "source_hidden": false,
          "outputs_hidden": false
        },
        "nteract": {
          "transient": {
            "deleting": false
          }
        },
        "gather": {
          "logged": 1689696366275
        }
      }
    },
    {
      "cell_type": "code",
      "source": [
        "sample_df"
      ],
      "outputs": [
        {
          "output_type": "execute_result",
          "execution_count": 37,
          "data": {
            "text/plain": "        Internalpatientid                   Condition_code_icd10_subcategory   \n112422             143813  69_Dental caries on smooth surface,69_Dental c...  \\\n37897               48430  76_Low back pain,76_Cervicalgia,76_Other stres...   \n17169               21949  85_Problem related to unspecified psychosocial...   \n71014               90695  74_Type 2 diabetes mellitus with neurological ...   \n108915             139292  93_Sleep apnea,93_Presence of cardiac pacemake...   \n...                   ...                                                ...   \n111856             143087  69_Long term (current) use of anticoagulants a...   \n65325               83441                      85_Other specified counseling   \n128669             164680  58_Alcohol dependence,58_Alcohol dependence,58...   \n13864               17711                      65_Encounter for immunization   \n104231             133230  82_Encounter for immunization,82_Hematuria, un...   \n\n                                             immunization   \n112422  68_TD (ADULT), 2 LF TETANUS TOXOID, PRESERVATI...  \\\n37897   75_COVID-19 (PFIZER), MRNA, LNP-S, PF, 30 MCG/...   \n17169   84_INFLUENZA, INJECTABLE, QUADRIVALENT, PRESER...   \n71014   71_FLU,3 YRS (HISTORICAL),71_INFLUENZA, UNSPEC...   \n108915                   92_INFLUENZA, HIGH DOSE SEASONAL   \n...                                                   ...   \n111856  68_INFLUENZA, UNSPECIFIED FORMULATION,68_INFLU...   \n65325               85_INFLUENZA, UNSPECIFIED FORMULATION   \n128669              57_INFLUENZA, UNSPECIFIED FORMULATION   \n13864   65_COVID-19 (MODERNA), MRNA, LNP-S, PF, 100 MC...   \n104231  82_INFLUENZA, HIGH DOSE SEASONAL,82_PNEUMOCOCC...   \n\n                              Lab_test_description_Result  Diastolic bp   \n112422  69_WBC_9.69,69_Hct_36.51,69_MPV_8.67,69_PLT_19...          69.0  \\\n37897   75_A1c_8.24,75_AST_12.0,75_A/G RATIO_1.0,75_PO...          63.0   \n17169   84_Mcv_88.08,84_CBC COMPLETED_Y,84_NUCLEATED R...          75.0   \n71014   73_LDL (CALC.)_27.0,73_SODIUM (LAB USE ONLY)_1...          79.0   \n108915  93_ABSOLUTE LYMPHOCYTE COUNT_1.7,93_RDW_15.27,...          79.0   \n...                                                   ...           ...   \n111856                                        69_INR_1.03          74.0   \n65325   85_CHLORIDE (FV)_86.0,85_TOTAL BILIRUBIN (FV)_...          62.0   \n128669  57_TOTAL PROTEIN (URINE)*_7.82,57_ALBUMIN *_4....          99.0   \n13864   63_HEPATITIS B SURFACE ANTIBODY, QUANT_6.63,63...          81.0   \n104231  82_URINE BILIRUBIN_NEG,82_AUTOMATED MICROSCOPI...          60.0   \n\n        Systolic bp  Pain  Pulse  Respiratory rate  Temperature  death  \n112422        120.0   7.0   86.0              18.0    93.482373      1  \n37897          89.0   9.0   95.0              21.0    99.936185      0  \n17169         154.0   0.0   78.0              16.0    99.815148      1  \n71014         112.0   1.0    1.0               1.0     1.000000      1  \n108915        134.0   0.0   61.0              16.0    98.868134      1  \n...             ...   ...    ...               ...          ...    ...  \n111856        113.0   0.0   93.0              20.0    92.916039      1  \n65325         140.0   3.0   66.0              20.0   100.179957      1  \n128669        170.0   0.0  107.0              21.0    96.000000      1  \n13864         160.0   0.0   77.0              18.0   101.672149      1  \n104231        191.0   2.0   67.0              21.0    94.704138      1  \n\n[30000 rows x 11 columns]",
            "text/html": "<div>\n<style scoped>\n    .dataframe tbody tr th:only-of-type {\n        vertical-align: middle;\n    }\n\n    .dataframe tbody tr th {\n        vertical-align: top;\n    }\n\n    .dataframe thead th {\n        text-align: right;\n    }\n</style>\n<table border=\"1\" class=\"dataframe\">\n  <thead>\n    <tr style=\"text-align: right;\">\n      <th></th>\n      <th>Internalpatientid</th>\n      <th>Condition_code_icd10_subcategory</th>\n      <th>immunization</th>\n      <th>Lab_test_description_Result</th>\n      <th>Diastolic bp</th>\n      <th>Systolic bp</th>\n      <th>Pain</th>\n      <th>Pulse</th>\n      <th>Respiratory rate</th>\n      <th>Temperature</th>\n      <th>death</th>\n    </tr>\n  </thead>\n  <tbody>\n    <tr>\n      <th>112422</th>\n      <td>143813</td>\n      <td>69_Dental caries on smooth surface,69_Dental c...</td>\n      <td>68_TD (ADULT), 2 LF TETANUS TOXOID, PRESERVATI...</td>\n      <td>69_WBC_9.69,69_Hct_36.51,69_MPV_8.67,69_PLT_19...</td>\n      <td>69.0</td>\n      <td>120.0</td>\n      <td>7.0</td>\n      <td>86.0</td>\n      <td>18.0</td>\n      <td>93.482373</td>\n      <td>1</td>\n    </tr>\n    <tr>\n      <th>37897</th>\n      <td>48430</td>\n      <td>76_Low back pain,76_Cervicalgia,76_Other stres...</td>\n      <td>75_COVID-19 (PFIZER), MRNA, LNP-S, PF, 30 MCG/...</td>\n      <td>75_A1c_8.24,75_AST_12.0,75_A/G RATIO_1.0,75_PO...</td>\n      <td>63.0</td>\n      <td>89.0</td>\n      <td>9.0</td>\n      <td>95.0</td>\n      <td>21.0</td>\n      <td>99.936185</td>\n      <td>0</td>\n    </tr>\n    <tr>\n      <th>17169</th>\n      <td>21949</td>\n      <td>85_Problem related to unspecified psychosocial...</td>\n      <td>84_INFLUENZA, INJECTABLE, QUADRIVALENT, PRESER...</td>\n      <td>84_Mcv_88.08,84_CBC COMPLETED_Y,84_NUCLEATED R...</td>\n      <td>75.0</td>\n      <td>154.0</td>\n      <td>0.0</td>\n      <td>78.0</td>\n      <td>16.0</td>\n      <td>99.815148</td>\n      <td>1</td>\n    </tr>\n    <tr>\n      <th>71014</th>\n      <td>90695</td>\n      <td>74_Type 2 diabetes mellitus with neurological ...</td>\n      <td>71_FLU,3 YRS (HISTORICAL),71_INFLUENZA, UNSPEC...</td>\n      <td>73_LDL (CALC.)_27.0,73_SODIUM (LAB USE ONLY)_1...</td>\n      <td>79.0</td>\n      <td>112.0</td>\n      <td>1.0</td>\n      <td>1.0</td>\n      <td>1.0</td>\n      <td>1.000000</td>\n      <td>1</td>\n    </tr>\n    <tr>\n      <th>108915</th>\n      <td>139292</td>\n      <td>93_Sleep apnea,93_Presence of cardiac pacemake...</td>\n      <td>92_INFLUENZA, HIGH DOSE SEASONAL</td>\n      <td>93_ABSOLUTE LYMPHOCYTE COUNT_1.7,93_RDW_15.27,...</td>\n      <td>79.0</td>\n      <td>134.0</td>\n      <td>0.0</td>\n      <td>61.0</td>\n      <td>16.0</td>\n      <td>98.868134</td>\n      <td>1</td>\n    </tr>\n    <tr>\n      <th>...</th>\n      <td>...</td>\n      <td>...</td>\n      <td>...</td>\n      <td>...</td>\n      <td>...</td>\n      <td>...</td>\n      <td>...</td>\n      <td>...</td>\n      <td>...</td>\n      <td>...</td>\n      <td>...</td>\n    </tr>\n    <tr>\n      <th>111856</th>\n      <td>143087</td>\n      <td>69_Long term (current) use of anticoagulants a...</td>\n      <td>68_INFLUENZA, UNSPECIFIED FORMULATION,68_INFLU...</td>\n      <td>69_INR_1.03</td>\n      <td>74.0</td>\n      <td>113.0</td>\n      <td>0.0</td>\n      <td>93.0</td>\n      <td>20.0</td>\n      <td>92.916039</td>\n      <td>1</td>\n    </tr>\n    <tr>\n      <th>65325</th>\n      <td>83441</td>\n      <td>85_Other specified counseling</td>\n      <td>85_INFLUENZA, UNSPECIFIED FORMULATION</td>\n      <td>85_CHLORIDE (FV)_86.0,85_TOTAL BILIRUBIN (FV)_...</td>\n      <td>62.0</td>\n      <td>140.0</td>\n      <td>3.0</td>\n      <td>66.0</td>\n      <td>20.0</td>\n      <td>100.179957</td>\n      <td>1</td>\n    </tr>\n    <tr>\n      <th>128669</th>\n      <td>164680</td>\n      <td>58_Alcohol dependence,58_Alcohol dependence,58...</td>\n      <td>57_INFLUENZA, UNSPECIFIED FORMULATION</td>\n      <td>57_TOTAL PROTEIN (URINE)*_7.82,57_ALBUMIN *_4....</td>\n      <td>99.0</td>\n      <td>170.0</td>\n      <td>0.0</td>\n      <td>107.0</td>\n      <td>21.0</td>\n      <td>96.000000</td>\n      <td>1</td>\n    </tr>\n    <tr>\n      <th>13864</th>\n      <td>17711</td>\n      <td>65_Encounter for immunization</td>\n      <td>65_COVID-19 (MODERNA), MRNA, LNP-S, PF, 100 MC...</td>\n      <td>63_HEPATITIS B SURFACE ANTIBODY, QUANT_6.63,63...</td>\n      <td>81.0</td>\n      <td>160.0</td>\n      <td>0.0</td>\n      <td>77.0</td>\n      <td>18.0</td>\n      <td>101.672149</td>\n      <td>1</td>\n    </tr>\n    <tr>\n      <th>104231</th>\n      <td>133230</td>\n      <td>82_Encounter for immunization,82_Hematuria, un...</td>\n      <td>82_INFLUENZA, HIGH DOSE SEASONAL,82_PNEUMOCOCC...</td>\n      <td>82_URINE BILIRUBIN_NEG,82_AUTOMATED MICROSCOPI...</td>\n      <td>60.0</td>\n      <td>191.0</td>\n      <td>2.0</td>\n      <td>67.0</td>\n      <td>21.0</td>\n      <td>94.704138</td>\n      <td>1</td>\n    </tr>\n  </tbody>\n</table>\n<p>30000 rows × 11 columns</p>\n</div>"
          },
          "metadata": {}
        }
      ],
      "execution_count": 37,
      "metadata": {
        "jupyter": {
          "source_hidden": false,
          "outputs_hidden": false
        },
        "nteract": {
          "transient": {
            "deleting": false
          }
        },
        "gather": {
          "logged": 1689676584173
        }
      }
    },
    {
      "cell_type": "code",
      "source": [
        "sample_df['death'].value_counts()"
      ],
      "outputs": [
        {
          "output_type": "execute_result",
          "execution_count": 32,
          "data": {
            "text/plain": "death\n1    21984\n0     8016\nName: count, dtype: int64"
          },
          "metadata": {}
        }
      ],
      "execution_count": 32,
      "metadata": {
        "jupyter": {
          "source_hidden": false,
          "outputs_hidden": false
        },
        "nteract": {
          "transient": {
            "deleting": false
          }
        },
        "gather": {
          "logged": 1689605675180
        }
      }
    },
    {
      "cell_type": "code",
      "source": [
        "sample_df.to_csv('/mnt/batch/tasks/shared/LS_root/mounts/clusters/nisha-gpu3/code/Users/900379/Final_data_frames/Sample_final_train.csv')"
      ],
      "outputs": [],
      "execution_count": 41,
      "metadata": {
        "jupyter": {
          "source_hidden": false,
          "outputs_hidden": false
        },
        "nteract": {
          "transient": {
            "deleting": false
          }
        },
        "gather": {
          "logged": 1689676821911
        }
      }
    },
    {
      "cell_type": "code",
      "source": [
        "sample_df = pd.read_csv('/mnt/batch/tasks/shared/LS_root/mounts/clusters/nisha-gpu3/code/Users/900379/Final_data_frames/sample_df_train.csv')"
      ],
      "outputs": [],
      "execution_count": 42,
      "metadata": {
        "jupyter": {
          "source_hidden": false,
          "outputs_hidden": false
        },
        "nteract": {
          "transient": {
            "deleting": false
          }
        },
        "gather": {
          "logged": 1689677003485
        }
      }
    },
    {
      "cell_type": "code",
      "source": [
        "sample_df"
      ],
      "outputs": [
        {
          "output_type": "execute_result",
          "execution_count": 43,
          "data": {
            "text/plain": "       Unnamed: 0  Internalpatientid   \n0          112422             143813  \\\n1           37897              48430   \n2           17169              21949   \n3           71014              90695   \n4          108915             139292   \n...           ...                ...   \n29995      111856             143087   \n29996       65325              83441   \n29997      128669             164680   \n29998       13864              17711   \n29999      104231             133230   \n\n                        Condition_code_icd10_subcategory   \n0      69_Dental caries on smooth surface,69_Dental c...  \\\n1      76_Low back pain,76_Cervicalgia,76_Other stres...   \n2      85_Problem related to unspecified psychosocial...   \n3      74_Type 2 diabetes mellitus with neurological ...   \n4      93_Sleep apnea,93_Presence of cardiac pacemake...   \n...                                                  ...   \n29995  69_Long term (current) use of anticoagulants a...   \n29996                      85_Other specified counseling   \n29997  58_Alcohol dependence,58_Alcohol dependence,58...   \n29998                      65_Encounter for immunization   \n29999  82_Encounter for immunization,82_Hematuria, un...   \n\n                                            immunization   \n0      68_TD (ADULT), 2 LF TETANUS TOXOID, PRESERVATI...  \\\n1      75_COVID-19 (PFIZER), MRNA, LNP-S, PF, 30 MCG/...   \n2      84_INFLUENZA, INJECTABLE, QUADRIVALENT, PRESER...   \n3      71_FLU,3 YRS (HISTORICAL),71_INFLUENZA, UNSPEC...   \n4                       92_INFLUENZA, HIGH DOSE SEASONAL   \n...                                                  ...   \n29995  68_INFLUENZA, UNSPECIFIED FORMULATION,68_INFLU...   \n29996              85_INFLUENZA, UNSPECIFIED FORMULATION   \n29997              57_INFLUENZA, UNSPECIFIED FORMULATION   \n29998  65_COVID-19 (MODERNA), MRNA, LNP-S, PF, 100 MC...   \n29999  82_INFLUENZA, HIGH DOSE SEASONAL,82_PNEUMOCOCC...   \n\n                             Lab_test_description_Result  Diastolic bp   \n0      25 OH VITAMIN D_34.09355501418554,A BASO #_0.0...          69.0  \\\n1      A/G RATIO_1.0,A1c_8.236032038989142,ACTIVATED ...          63.0   \n2      ABSOLUTE BASOPHIL COUNT (AUTO)_0.0287499219743...          75.0   \n3      ALT_10.0,APPEARANCE_CLEAR,AST_16.0,BASO%_0.800...          79.0   \n4      ABSOLUTE BASOPHIL COUNT_0.019025756232656503,A...          79.0   \n...                                                  ...           ...   \n29995  ABSOLUTE BASOPHIL COUNT_0.02997330786973093,AB...          74.0   \n29996  ALBUMIN (FV)_3.7726733832125037,ALBUMIN (MV)*I...          62.0   \n29997  (OLD) HEPATITIS C ANTIBODY DC'd 32119_Nonreact...          99.0   \n29998  ABSOLUTE BASOPHIL COUNT (AUTO)_0.0504705456736...          81.0   \n29999  % IRON SATURATION_29.758886512847123,1,25-DI-O...          60.0   \n\n       Systolic bp  Pain  Pulse  Respiratory rate  Temperature  death  \n0            120.0   7.0   86.0              18.0    93.482373      1  \n1             89.0   9.0   95.0              21.0    99.936185      0  \n2            154.0   0.0   78.0              16.0    99.815148      1  \n3            112.0   1.0    1.0               1.0     1.000000      1  \n4            134.0   0.0   61.0              16.0    98.868134      1  \n...            ...   ...    ...               ...          ...    ...  \n29995        113.0   0.0   93.0              20.0    92.916039      1  \n29996        140.0   3.0   66.0              20.0   100.179957      1  \n29997        170.0   0.0  107.0              21.0    96.000000      1  \n29998        160.0   0.0   77.0              18.0   101.672149      1  \n29999        191.0   2.0   67.0              21.0    94.704138      1  \n\n[30000 rows x 12 columns]",
            "text/html": "<div>\n<style scoped>\n    .dataframe tbody tr th:only-of-type {\n        vertical-align: middle;\n    }\n\n    .dataframe tbody tr th {\n        vertical-align: top;\n    }\n\n    .dataframe thead th {\n        text-align: right;\n    }\n</style>\n<table border=\"1\" class=\"dataframe\">\n  <thead>\n    <tr style=\"text-align: right;\">\n      <th></th>\n      <th>Unnamed: 0</th>\n      <th>Internalpatientid</th>\n      <th>Condition_code_icd10_subcategory</th>\n      <th>immunization</th>\n      <th>Lab_test_description_Result</th>\n      <th>Diastolic bp</th>\n      <th>Systolic bp</th>\n      <th>Pain</th>\n      <th>Pulse</th>\n      <th>Respiratory rate</th>\n      <th>Temperature</th>\n      <th>death</th>\n    </tr>\n  </thead>\n  <tbody>\n    <tr>\n      <th>0</th>\n      <td>112422</td>\n      <td>143813</td>\n      <td>69_Dental caries on smooth surface,69_Dental c...</td>\n      <td>68_TD (ADULT), 2 LF TETANUS TOXOID, PRESERVATI...</td>\n      <td>25 OH VITAMIN D_34.09355501418554,A BASO #_0.0...</td>\n      <td>69.0</td>\n      <td>120.0</td>\n      <td>7.0</td>\n      <td>86.0</td>\n      <td>18.0</td>\n      <td>93.482373</td>\n      <td>1</td>\n    </tr>\n    <tr>\n      <th>1</th>\n      <td>37897</td>\n      <td>48430</td>\n      <td>76_Low back pain,76_Cervicalgia,76_Other stres...</td>\n      <td>75_COVID-19 (PFIZER), MRNA, LNP-S, PF, 30 MCG/...</td>\n      <td>A/G RATIO_1.0,A1c_8.236032038989142,ACTIVATED ...</td>\n      <td>63.0</td>\n      <td>89.0</td>\n      <td>9.0</td>\n      <td>95.0</td>\n      <td>21.0</td>\n      <td>99.936185</td>\n      <td>0</td>\n    </tr>\n    <tr>\n      <th>2</th>\n      <td>17169</td>\n      <td>21949</td>\n      <td>85_Problem related to unspecified psychosocial...</td>\n      <td>84_INFLUENZA, INJECTABLE, QUADRIVALENT, PRESER...</td>\n      <td>ABSOLUTE BASOPHIL COUNT (AUTO)_0.0287499219743...</td>\n      <td>75.0</td>\n      <td>154.0</td>\n      <td>0.0</td>\n      <td>78.0</td>\n      <td>16.0</td>\n      <td>99.815148</td>\n      <td>1</td>\n    </tr>\n    <tr>\n      <th>3</th>\n      <td>71014</td>\n      <td>90695</td>\n      <td>74_Type 2 diabetes mellitus with neurological ...</td>\n      <td>71_FLU,3 YRS (HISTORICAL),71_INFLUENZA, UNSPEC...</td>\n      <td>ALT_10.0,APPEARANCE_CLEAR,AST_16.0,BASO%_0.800...</td>\n      <td>79.0</td>\n      <td>112.0</td>\n      <td>1.0</td>\n      <td>1.0</td>\n      <td>1.0</td>\n      <td>1.000000</td>\n      <td>1</td>\n    </tr>\n    <tr>\n      <th>4</th>\n      <td>108915</td>\n      <td>139292</td>\n      <td>93_Sleep apnea,93_Presence of cardiac pacemake...</td>\n      <td>92_INFLUENZA, HIGH DOSE SEASONAL</td>\n      <td>ABSOLUTE BASOPHIL COUNT_0.019025756232656503,A...</td>\n      <td>79.0</td>\n      <td>134.0</td>\n      <td>0.0</td>\n      <td>61.0</td>\n      <td>16.0</td>\n      <td>98.868134</td>\n      <td>1</td>\n    </tr>\n    <tr>\n      <th>...</th>\n      <td>...</td>\n      <td>...</td>\n      <td>...</td>\n      <td>...</td>\n      <td>...</td>\n      <td>...</td>\n      <td>...</td>\n      <td>...</td>\n      <td>...</td>\n      <td>...</td>\n      <td>...</td>\n      <td>...</td>\n    </tr>\n    <tr>\n      <th>29995</th>\n      <td>111856</td>\n      <td>143087</td>\n      <td>69_Long term (current) use of anticoagulants a...</td>\n      <td>68_INFLUENZA, UNSPECIFIED FORMULATION,68_INFLU...</td>\n      <td>ABSOLUTE BASOPHIL COUNT_0.02997330786973093,AB...</td>\n      <td>74.0</td>\n      <td>113.0</td>\n      <td>0.0</td>\n      <td>93.0</td>\n      <td>20.0</td>\n      <td>92.916039</td>\n      <td>1</td>\n    </tr>\n    <tr>\n      <th>29996</th>\n      <td>65325</td>\n      <td>83441</td>\n      <td>85_Other specified counseling</td>\n      <td>85_INFLUENZA, UNSPECIFIED FORMULATION</td>\n      <td>ALBUMIN (FV)_3.7726733832125037,ALBUMIN (MV)*I...</td>\n      <td>62.0</td>\n      <td>140.0</td>\n      <td>3.0</td>\n      <td>66.0</td>\n      <td>20.0</td>\n      <td>100.179957</td>\n      <td>1</td>\n    </tr>\n    <tr>\n      <th>29997</th>\n      <td>128669</td>\n      <td>164680</td>\n      <td>58_Alcohol dependence,58_Alcohol dependence,58...</td>\n      <td>57_INFLUENZA, UNSPECIFIED FORMULATION</td>\n      <td>(OLD) HEPATITIS C ANTIBODY DC'd 32119_Nonreact...</td>\n      <td>99.0</td>\n      <td>170.0</td>\n      <td>0.0</td>\n      <td>107.0</td>\n      <td>21.0</td>\n      <td>96.000000</td>\n      <td>1</td>\n    </tr>\n    <tr>\n      <th>29998</th>\n      <td>13864</td>\n      <td>17711</td>\n      <td>65_Encounter for immunization</td>\n      <td>65_COVID-19 (MODERNA), MRNA, LNP-S, PF, 100 MC...</td>\n      <td>ABSOLUTE BASOPHIL COUNT (AUTO)_0.0504705456736...</td>\n      <td>81.0</td>\n      <td>160.0</td>\n      <td>0.0</td>\n      <td>77.0</td>\n      <td>18.0</td>\n      <td>101.672149</td>\n      <td>1</td>\n    </tr>\n    <tr>\n      <th>29999</th>\n      <td>104231</td>\n      <td>133230</td>\n      <td>82_Encounter for immunization,82_Hematuria, un...</td>\n      <td>82_INFLUENZA, HIGH DOSE SEASONAL,82_PNEUMOCOCC...</td>\n      <td>% IRON SATURATION_29.758886512847123,1,25-DI-O...</td>\n      <td>60.0</td>\n      <td>191.0</td>\n      <td>2.0</td>\n      <td>67.0</td>\n      <td>21.0</td>\n      <td>94.704138</td>\n      <td>1</td>\n    </tr>\n  </tbody>\n</table>\n<p>30000 rows × 12 columns</p>\n</div>"
          },
          "metadata": {}
        }
      ],
      "execution_count": 43,
      "metadata": {
        "jupyter": {
          "source_hidden": false,
          "outputs_hidden": false
        },
        "nteract": {
          "transient": {
            "deleting": false
          }
        },
        "gather": {
          "logged": 1689677006095
        }
      }
    },
    {
      "cell_type": "code",
      "source": [
        "sample_df.drop('Unnamed: 0', axis = 1, inplace = True)\r\n",
        "sample_df.head()"
      ],
      "outputs": [
        {
          "output_type": "execute_result",
          "execution_count": 39,
          "data": {
            "text/plain": "   Internalpatientid                   Condition_code_icd10_subcategory   \n0             143813  69_Dental caries on smooth surface,69_Dental c...  \\\n1              48430  76_Low back pain,76_Cervicalgia,76_Other stres...   \n2              21949  85_Problem related to unspecified psychosocial...   \n3              90695  74_Type 2 diabetes mellitus with neurological ...   \n4             139292  93_Sleep apnea,93_Presence of cardiac pacemake...   \n\n                                        immunization   \n0  68_TD (ADULT), 2 LF TETANUS TOXOID, PRESERVATI...  \\\n1  75_COVID-19 (PFIZER), MRNA, LNP-S, PF, 30 MCG/...   \n2  84_INFLUENZA, INJECTABLE, QUADRIVALENT, PRESER...   \n3  71_FLU,3 YRS (HISTORICAL),71_INFLUENZA, UNSPEC...   \n4                   92_INFLUENZA, HIGH DOSE SEASONAL   \n\n                         Lab_test_description_Result  Diastolic bp   \n0  25 OH VITAMIN D_34.09355501418554,A BASO #_0.0...          69.0  \\\n1  A/G RATIO_1.0,A1c_8.236032038989142,ACTIVATED ...          63.0   \n2  ABSOLUTE BASOPHIL COUNT (AUTO)_0.0287499219743...          75.0   \n3  ALT_10.0,APPEARANCE_CLEAR,AST_16.0,BASO%_0.800...          79.0   \n4  ABSOLUTE BASOPHIL COUNT_0.019025756232656503,A...          79.0   \n\n   Systolic bp  Pain  Pulse  Respiratory rate  Temperature  death  \n0        120.0   7.0   86.0              18.0    93.482373      1  \n1         89.0   9.0   95.0              21.0    99.936185      0  \n2        154.0   0.0   78.0              16.0    99.815148      1  \n3        112.0   1.0    1.0               1.0     1.000000      1  \n4        134.0   0.0   61.0              16.0    98.868134      1  ",
            "text/html": "<div>\n<style scoped>\n    .dataframe tbody tr th:only-of-type {\n        vertical-align: middle;\n    }\n\n    .dataframe tbody tr th {\n        vertical-align: top;\n    }\n\n    .dataframe thead th {\n        text-align: right;\n    }\n</style>\n<table border=\"1\" class=\"dataframe\">\n  <thead>\n    <tr style=\"text-align: right;\">\n      <th></th>\n      <th>Internalpatientid</th>\n      <th>Condition_code_icd10_subcategory</th>\n      <th>immunization</th>\n      <th>Lab_test_description_Result</th>\n      <th>Diastolic bp</th>\n      <th>Systolic bp</th>\n      <th>Pain</th>\n      <th>Pulse</th>\n      <th>Respiratory rate</th>\n      <th>Temperature</th>\n      <th>death</th>\n    </tr>\n  </thead>\n  <tbody>\n    <tr>\n      <th>0</th>\n      <td>143813</td>\n      <td>69_Dental caries on smooth surface,69_Dental c...</td>\n      <td>68_TD (ADULT), 2 LF TETANUS TOXOID, PRESERVATI...</td>\n      <td>25 OH VITAMIN D_34.09355501418554,A BASO #_0.0...</td>\n      <td>69.0</td>\n      <td>120.0</td>\n      <td>7.0</td>\n      <td>86.0</td>\n      <td>18.0</td>\n      <td>93.482373</td>\n      <td>1</td>\n    </tr>\n    <tr>\n      <th>1</th>\n      <td>48430</td>\n      <td>76_Low back pain,76_Cervicalgia,76_Other stres...</td>\n      <td>75_COVID-19 (PFIZER), MRNA, LNP-S, PF, 30 MCG/...</td>\n      <td>A/G RATIO_1.0,A1c_8.236032038989142,ACTIVATED ...</td>\n      <td>63.0</td>\n      <td>89.0</td>\n      <td>9.0</td>\n      <td>95.0</td>\n      <td>21.0</td>\n      <td>99.936185</td>\n      <td>0</td>\n    </tr>\n    <tr>\n      <th>2</th>\n      <td>21949</td>\n      <td>85_Problem related to unspecified psychosocial...</td>\n      <td>84_INFLUENZA, INJECTABLE, QUADRIVALENT, PRESER...</td>\n      <td>ABSOLUTE BASOPHIL COUNT (AUTO)_0.0287499219743...</td>\n      <td>75.0</td>\n      <td>154.0</td>\n      <td>0.0</td>\n      <td>78.0</td>\n      <td>16.0</td>\n      <td>99.815148</td>\n      <td>1</td>\n    </tr>\n    <tr>\n      <th>3</th>\n      <td>90695</td>\n      <td>74_Type 2 diabetes mellitus with neurological ...</td>\n      <td>71_FLU,3 YRS (HISTORICAL),71_INFLUENZA, UNSPEC...</td>\n      <td>ALT_10.0,APPEARANCE_CLEAR,AST_16.0,BASO%_0.800...</td>\n      <td>79.0</td>\n      <td>112.0</td>\n      <td>1.0</td>\n      <td>1.0</td>\n      <td>1.0</td>\n      <td>1.000000</td>\n      <td>1</td>\n    </tr>\n    <tr>\n      <th>4</th>\n      <td>139292</td>\n      <td>93_Sleep apnea,93_Presence of cardiac pacemake...</td>\n      <td>92_INFLUENZA, HIGH DOSE SEASONAL</td>\n      <td>ABSOLUTE BASOPHIL COUNT_0.019025756232656503,A...</td>\n      <td>79.0</td>\n      <td>134.0</td>\n      <td>0.0</td>\n      <td>61.0</td>\n      <td>16.0</td>\n      <td>98.868134</td>\n      <td>1</td>\n    </tr>\n  </tbody>\n</table>\n</div>"
          },
          "metadata": {}
        }
      ],
      "execution_count": 39,
      "metadata": {
        "jupyter": {
          "source_hidden": false,
          "outputs_hidden": false
        },
        "nteract": {
          "transient": {
            "deleting": false
          }
        },
        "gather": {
          "logged": 1689232342164
        }
      }
    },
    {
      "cell_type": "code",
      "source": [
        "from sklearn.preprocessing import StandardScaler\r\n",
        "\r\n",
        "scaler = StandardScaler()\r\n",
        "\r\n",
        "columns_to_scale = ['Diastolic bp','Systolic bp','Pain','Pulse','Respiratory rate','Temperature']\r\n",
        "\r\n",
        "sample_df[columns_to_scale] = scaler.fit_transform(sample_df[columns_to_scale])"
      ],
      "outputs": [],
      "execution_count": 40,
      "metadata": {
        "jupyter": {
          "source_hidden": false,
          "outputs_hidden": false
        },
        "nteract": {
          "transient": {
            "deleting": false
          }
        },
        "gather": {
          "logged": 1689232418680
        }
      }
    },
    {
      "cell_type": "code",
      "source": [
        "#sample_df.to_csv('/mnt/batch/tasks/shared/LS_root/mounts/clusters/nisha-gpu3/code/Users/900379/Final_data_frames/sample_df.csv')"
      ],
      "outputs": [],
      "execution_count": 10,
      "metadata": {
        "jupyter": {
          "source_hidden": false,
          "outputs_hidden": false
        },
        "nteract": {
          "transient": {
            "deleting": false
          }
        },
        "gather": {
          "logged": 1689180391040
        }
      }
    },
    {
      "cell_type": "code",
      "source": [
        "from sklearn.feature_extraction.text import TfidfVectorizer\r\n",
        "\r\n",
        "vectorizer = TfidfVectorizer()\r\n",
        "\r\n",
        "# Select columns to encode \r\n",
        "columns_to_encode = ['Condition_code_icd10_subcategory']\r\n",
        "\r\n",
        "for column in columns_to_encode:\r\n",
        "    sample_df[column] = vectorizer.fit_transform(sample_df[column]).toarray()\r\n",
        "\r\n"
      ],
      "outputs": [],
      "execution_count": 21,
      "metadata": {
        "jupyter": {
          "source_hidden": false,
          "outputs_hidden": false
        },
        "nteract": {
          "transient": {
            "deleting": false
          }
        },
        "gather": {
          "logged": 1689179969038
        }
      }
    },
    {
      "cell_type": "code",
      "source": [
        "!pip install gensim"
      ],
      "outputs": [
        {
          "output_type": "stream",
          "name": "stdout",
          "text": "Requirement already satisfied: gensim in /anaconda/envs/azureml_py38/lib/python3.8/site-packages (3.8.3)\r\nRequirement already satisfied: scipy>=0.18.1 in /anaconda/envs/azureml_py38/lib/python3.8/site-packages (from gensim) (1.5.3)\r\nRequirement already satisfied: six>=1.5.0 in /anaconda/envs/azureml_py38/lib/python3.8/site-packages (from gensim) (1.16.0)\r\nRequirement already satisfied: smart-open>=1.8.1 in /anaconda/envs/azureml_py38/lib/python3.8/site-packages (from gensim) (1.9.0)\r\nRequirement already satisfied: numpy>=1.11.3 in /anaconda/envs/azureml_py38/lib/python3.8/site-packages (from gensim) (1.21.6)\r\nRequirement already satisfied: boto>=2.32 in /anaconda/envs/azureml_py38/lib/python3.8/site-packages (from smart-open>=1.8.1->gensim) (2.49.0)\r\nRequirement already satisfied: boto3 in /anaconda/envs/azureml_py38/lib/python3.8/site-packages (from smart-open>=1.8.1->gensim) (1.20.19)\r\nRequirement already satisfied: requests in /anaconda/envs/azureml_py38/lib/python3.8/site-packages (from smart-open>=1.8.1->gensim) (2.28.2)\r\nRequirement already satisfied: jmespath<1.0.0,>=0.7.1 in /anaconda/envs/azureml_py38/lib/python3.8/site-packages (from boto3->smart-open>=1.8.1->gensim) (0.10.0)\r\nRequirement already satisfied: s3transfer<0.6.0,>=0.5.0 in /anaconda/envs/azureml_py38/lib/python3.8/site-packages (from boto3->smart-open>=1.8.1->gensim) (0.5.2)\r\nRequirement already satisfied: botocore<1.24.0,>=1.23.19 in /anaconda/envs/azureml_py38/lib/python3.8/site-packages (from boto3->smart-open>=1.8.1->gensim) (1.23.19)\r\nRequirement already satisfied: idna<4,>=2.5 in /anaconda/envs/azureml_py38/lib/python3.8/site-packages (from requests->smart-open>=1.8.1->gensim) (3.4)\r\nRequirement already satisfied: charset-normalizer<4,>=2 in /anaconda/envs/azureml_py38/lib/python3.8/site-packages (from requests->smart-open>=1.8.1->gensim) (3.0.1)\r\nRequirement already satisfied: urllib3<1.27,>=1.21.1 in /anaconda/envs/azureml_py38/lib/python3.8/site-packages (from requests->smart-open>=1.8.1->gensim) (1.26.14)\r\nRequirement already satisfied: certifi>=2017.4.17 in /anaconda/envs/azureml_py38/lib/python3.8/site-packages (from requests->smart-open>=1.8.1->gensim) (2022.9.24)\r\nRequirement already satisfied: python-dateutil<3.0.0,>=2.1 in /anaconda/envs/azureml_py38/lib/python3.8/site-packages (from botocore<1.24.0,>=1.23.19->boto3->smart-open>=1.8.1->gensim) (2.8.2)\r\n"
        }
      ],
      "execution_count": 41,
      "metadata": {
        "jupyter": {
          "source_hidden": false,
          "outputs_hidden": false
        },
        "nteract": {
          "transient": {
            "deleting": false
          }
        }
      }
    },
    {
      "cell_type": "code",
      "source": [],
      "outputs": [],
      "execution_count": null,
      "metadata": {
        "jupyter": {
          "source_hidden": false,
          "outputs_hidden": false
        },
        "nteract": {
          "transient": {
            "deleting": false
          }
        },
        "gather": {
          "logged": 1689232468340
        }
      }
    },
    {
      "cell_type": "code",
      "source": [
        "from sklearn.feature_extraction.text import TfidfVectorizer\r\n",
        "\r\n",
        "vectorizer = TfidfVectorizer()\r\n",
        "\r\n",
        "# Select columns to encode \r\n",
        "columns_to_encode = ['immunization']\r\n",
        "\r\n",
        "for column in columns_to_encode:\r\n",
        "    sample_df[column] = vectorizer.fit_transform(sample_df[column]).toarray()"
      ],
      "outputs": [],
      "execution_count": 22,
      "metadata": {
        "jupyter": {
          "source_hidden": false,
          "outputs_hidden": false
        },
        "nteract": {
          "transient": {
            "deleting": false
          }
        },
        "gather": {
          "logged": 1689179972050
        }
      }
    },
    {
      "cell_type": "code",
      "source": [
        "from sklearn.feature_extraction.text import TfidfVectorizer\r\n",
        "\r\n",
        "vectorizer = TfidfVectorizer()\r\n",
        "\r\n",
        "# Select columns to encode \r\n",
        "columns_to_encode = ['Lab_test_description_Result']\r\n",
        "\r\n",
        "for column in columns_to_encode:\r\n",
        "    sample_df[column] = vectorizer.fit_transform(sample_df[column]).toarray()"
      ],
      "outputs": [],
      "execution_count": 23,
      "metadata": {
        "jupyter": {
          "source_hidden": false,
          "outputs_hidden": false
        },
        "nteract": {
          "transient": {
            "deleting": false
          }
        },
        "gather": {
          "logged": 1689179989098
        }
      }
    },
    {
      "cell_type": "code",
      "source": [
        "sample_df"
      ],
      "outputs": [
        {
          "output_type": "execute_result",
          "execution_count": 24,
          "data": {
            "text/plain": "        Internalpatientid  Condition_code_icd10_subcategory  immunization   \n112422             143813                               0.0           0.0  \\\n37897               48430                               0.0           0.0   \n17169               21949                               0.0           0.0   \n71014               90695                               0.0           0.0   \n108915             139292                               0.0           0.0   \n...                   ...                               ...           ...   \n109829             140487                               0.0           0.0   \n21324               27262                               0.0           0.0   \n132540              68250                               0.0           0.0   \n1332                 1706                               0.0           0.0   \n26024               33270                               0.0           0.0   \n\n        Lab_test_description_Result  Diastolic bp  Systolic bp      Pain   \n112422                     0.014037      0.033444    -0.146388  0.099130  \\\n37897                      0.000000     -0.383853    -1.391612  0.208526   \n17169                      0.014613      0.450741     1.219342 -0.283753   \n71014                      0.000000      0.728939    -0.467736 -0.229055   \n108915                     0.000000      0.728939     0.415971 -0.283753   \n...                             ...           ...          ...       ...   \n109829                     0.011580     -0.592502    -0.989927  0.153828   \n21324                      0.000000      0.520290     1.460353 -0.119660   \n132540                     0.000000     -0.175205    -0.628410 -0.283753   \n1332                       0.000000      0.102993    -0.387399 -0.283753   \n26024                      0.000000     -1.148898    -0.949758 -0.229055   \n\n           Pulse  Respiratory rate  Temperature  death  \n112422  0.489870         -0.012911    -0.093352      1  \n37897   0.918730         -0.012911     0.306261      0  \n17169   0.108661         -0.012911     0.298767      1  \n71014  -3.560479         -0.012911    -5.819760      1  \n108915 -0.701409         -0.012911     0.240128      1  \n...          ...               ...          ...    ...  \n109829  0.775777         -0.012911    -0.065049      0  \n21324   0.251614         -0.012911     0.174286      0  \n132540  0.918730         -0.012911     0.349586      1  \n1332    0.156312         -0.012911     0.464399      1  \n26024  -3.560479         -0.012911    -5.819760      1  \n\n[6000 rows x 11 columns]",
            "text/html": "<div>\n<style scoped>\n    .dataframe tbody tr th:only-of-type {\n        vertical-align: middle;\n    }\n\n    .dataframe tbody tr th {\n        vertical-align: top;\n    }\n\n    .dataframe thead th {\n        text-align: right;\n    }\n</style>\n<table border=\"1\" class=\"dataframe\">\n  <thead>\n    <tr style=\"text-align: right;\">\n      <th></th>\n      <th>Internalpatientid</th>\n      <th>Condition_code_icd10_subcategory</th>\n      <th>immunization</th>\n      <th>Lab_test_description_Result</th>\n      <th>Diastolic bp</th>\n      <th>Systolic bp</th>\n      <th>Pain</th>\n      <th>Pulse</th>\n      <th>Respiratory rate</th>\n      <th>Temperature</th>\n      <th>death</th>\n    </tr>\n  </thead>\n  <tbody>\n    <tr>\n      <th>112422</th>\n      <td>143813</td>\n      <td>0.0</td>\n      <td>0.0</td>\n      <td>0.014037</td>\n      <td>0.033444</td>\n      <td>-0.146388</td>\n      <td>0.099130</td>\n      <td>0.489870</td>\n      <td>-0.012911</td>\n      <td>-0.093352</td>\n      <td>1</td>\n    </tr>\n    <tr>\n      <th>37897</th>\n      <td>48430</td>\n      <td>0.0</td>\n      <td>0.0</td>\n      <td>0.000000</td>\n      <td>-0.383853</td>\n      <td>-1.391612</td>\n      <td>0.208526</td>\n      <td>0.918730</td>\n      <td>-0.012911</td>\n      <td>0.306261</td>\n      <td>0</td>\n    </tr>\n    <tr>\n      <th>17169</th>\n      <td>21949</td>\n      <td>0.0</td>\n      <td>0.0</td>\n      <td>0.014613</td>\n      <td>0.450741</td>\n      <td>1.219342</td>\n      <td>-0.283753</td>\n      <td>0.108661</td>\n      <td>-0.012911</td>\n      <td>0.298767</td>\n      <td>1</td>\n    </tr>\n    <tr>\n      <th>71014</th>\n      <td>90695</td>\n      <td>0.0</td>\n      <td>0.0</td>\n      <td>0.000000</td>\n      <td>0.728939</td>\n      <td>-0.467736</td>\n      <td>-0.229055</td>\n      <td>-3.560479</td>\n      <td>-0.012911</td>\n      <td>-5.819760</td>\n      <td>1</td>\n    </tr>\n    <tr>\n      <th>108915</th>\n      <td>139292</td>\n      <td>0.0</td>\n      <td>0.0</td>\n      <td>0.000000</td>\n      <td>0.728939</td>\n      <td>0.415971</td>\n      <td>-0.283753</td>\n      <td>-0.701409</td>\n      <td>-0.012911</td>\n      <td>0.240128</td>\n      <td>1</td>\n    </tr>\n    <tr>\n      <th>...</th>\n      <td>...</td>\n      <td>...</td>\n      <td>...</td>\n      <td>...</td>\n      <td>...</td>\n      <td>...</td>\n      <td>...</td>\n      <td>...</td>\n      <td>...</td>\n      <td>...</td>\n      <td>...</td>\n    </tr>\n    <tr>\n      <th>109829</th>\n      <td>140487</td>\n      <td>0.0</td>\n      <td>0.0</td>\n      <td>0.011580</td>\n      <td>-0.592502</td>\n      <td>-0.989927</td>\n      <td>0.153828</td>\n      <td>0.775777</td>\n      <td>-0.012911</td>\n      <td>-0.065049</td>\n      <td>0</td>\n    </tr>\n    <tr>\n      <th>21324</th>\n      <td>27262</td>\n      <td>0.0</td>\n      <td>0.0</td>\n      <td>0.000000</td>\n      <td>0.520290</td>\n      <td>1.460353</td>\n      <td>-0.119660</td>\n      <td>0.251614</td>\n      <td>-0.012911</td>\n      <td>0.174286</td>\n      <td>0</td>\n    </tr>\n    <tr>\n      <th>132540</th>\n      <td>68250</td>\n      <td>0.0</td>\n      <td>0.0</td>\n      <td>0.000000</td>\n      <td>-0.175205</td>\n      <td>-0.628410</td>\n      <td>-0.283753</td>\n      <td>0.918730</td>\n      <td>-0.012911</td>\n      <td>0.349586</td>\n      <td>1</td>\n    </tr>\n    <tr>\n      <th>1332</th>\n      <td>1706</td>\n      <td>0.0</td>\n      <td>0.0</td>\n      <td>0.000000</td>\n      <td>0.102993</td>\n      <td>-0.387399</td>\n      <td>-0.283753</td>\n      <td>0.156312</td>\n      <td>-0.012911</td>\n      <td>0.464399</td>\n      <td>1</td>\n    </tr>\n    <tr>\n      <th>26024</th>\n      <td>33270</td>\n      <td>0.0</td>\n      <td>0.0</td>\n      <td>0.000000</td>\n      <td>-1.148898</td>\n      <td>-0.949758</td>\n      <td>-0.229055</td>\n      <td>-3.560479</td>\n      <td>-0.012911</td>\n      <td>-5.819760</td>\n      <td>1</td>\n    </tr>\n  </tbody>\n</table>\n<p>6000 rows × 11 columns</p>\n</div>"
          },
          "metadata": {}
        }
      ],
      "execution_count": 24,
      "metadata": {
        "jupyter": {
          "source_hidden": false,
          "outputs_hidden": false
        },
        "nteract": {
          "transient": {
            "deleting": false
          }
        },
        "gather": {
          "logged": 1689179991971
        }
      }
    },
    {
      "cell_type": "code",
      "source": [
        "sample_df.to_csv('/mnt/batch/tasks/shared/LS_root/mounts/clusters/team3-nishagpu2/code/Users/900379/Final_data_frames/sample_df.csv')"
      ],
      "outputs": [
        {
          "output_type": "error",
          "ename": "MemoryError",
          "evalue": "Unable to allocate 303. GiB for an array with shape (423681, 6000) and data type <U32",
          "traceback": [
            "\u001b[0;31m---------------------------------------------------------------------------\u001b[0m",
            "\u001b[0;31mMemoryError\u001b[0m                               Traceback (most recent call last)",
            "Cell \u001b[0;32mIn[25], line 1\u001b[0m\n\u001b[0;32m----> 1\u001b[0m \u001b[43msample_df\u001b[49m\u001b[38;5;241;43m.\u001b[39;49m\u001b[43mto_csv\u001b[49m\u001b[43m(\u001b[49m\u001b[38;5;124;43m'\u001b[39;49m\u001b[38;5;124;43m/mnt/batch/tasks/shared/LS_root/mounts/clusters/team3-nishagpu2/code/Users/900379/Final_data_frames/sample_df.csv\u001b[39;49m\u001b[38;5;124;43m'\u001b[39;49m\u001b[43m)\u001b[49m\n",
            "File \u001b[0;32m/anaconda/envs/azureml_py38_PT_TF/lib/python3.8/site-packages/pandas/core/generic.py:3772\u001b[0m, in \u001b[0;36mNDFrame.to_csv\u001b[0;34m(self, path_or_buf, sep, na_rep, float_format, columns, header, index, index_label, mode, encoding, compression, quoting, quotechar, lineterminator, chunksize, date_format, doublequote, escapechar, decimal, errors, storage_options)\u001b[0m\n\u001b[1;32m   3761\u001b[0m df \u001b[38;5;241m=\u001b[39m \u001b[38;5;28mself\u001b[39m \u001b[38;5;28;01mif\u001b[39;00m \u001b[38;5;28misinstance\u001b[39m(\u001b[38;5;28mself\u001b[39m, ABCDataFrame) \u001b[38;5;28;01melse\u001b[39;00m \u001b[38;5;28mself\u001b[39m\u001b[38;5;241m.\u001b[39mto_frame()\n\u001b[1;32m   3763\u001b[0m formatter \u001b[38;5;241m=\u001b[39m DataFrameFormatter(\n\u001b[1;32m   3764\u001b[0m     frame\u001b[38;5;241m=\u001b[39mdf,\n\u001b[1;32m   3765\u001b[0m     header\u001b[38;5;241m=\u001b[39mheader,\n\u001b[0;32m   (...)\u001b[0m\n\u001b[1;32m   3769\u001b[0m     decimal\u001b[38;5;241m=\u001b[39mdecimal,\n\u001b[1;32m   3770\u001b[0m )\n\u001b[0;32m-> 3772\u001b[0m \u001b[38;5;28;01mreturn\u001b[39;00m \u001b[43mDataFrameRenderer\u001b[49m\u001b[43m(\u001b[49m\u001b[43mformatter\u001b[49m\u001b[43m)\u001b[49m\u001b[38;5;241;43m.\u001b[39;49m\u001b[43mto_csv\u001b[49m\u001b[43m(\u001b[49m\n\u001b[1;32m   3773\u001b[0m \u001b[43m    \u001b[49m\u001b[43mpath_or_buf\u001b[49m\u001b[43m,\u001b[49m\n\u001b[1;32m   3774\u001b[0m \u001b[43m    \u001b[49m\u001b[43mlineterminator\u001b[49m\u001b[38;5;241;43m=\u001b[39;49m\u001b[43mlineterminator\u001b[49m\u001b[43m,\u001b[49m\n\u001b[1;32m   3775\u001b[0m \u001b[43m    \u001b[49m\u001b[43msep\u001b[49m\u001b[38;5;241;43m=\u001b[39;49m\u001b[43msep\u001b[49m\u001b[43m,\u001b[49m\n\u001b[1;32m   3776\u001b[0m \u001b[43m    \u001b[49m\u001b[43mencoding\u001b[49m\u001b[38;5;241;43m=\u001b[39;49m\u001b[43mencoding\u001b[49m\u001b[43m,\u001b[49m\n\u001b[1;32m   3777\u001b[0m \u001b[43m    \u001b[49m\u001b[43merrors\u001b[49m\u001b[38;5;241;43m=\u001b[39;49m\u001b[43merrors\u001b[49m\u001b[43m,\u001b[49m\n\u001b[1;32m   3778\u001b[0m \u001b[43m    \u001b[49m\u001b[43mcompression\u001b[49m\u001b[38;5;241;43m=\u001b[39;49m\u001b[43mcompression\u001b[49m\u001b[43m,\u001b[49m\n\u001b[1;32m   3779\u001b[0m \u001b[43m    \u001b[49m\u001b[43mquoting\u001b[49m\u001b[38;5;241;43m=\u001b[39;49m\u001b[43mquoting\u001b[49m\u001b[43m,\u001b[49m\n\u001b[1;32m   3780\u001b[0m \u001b[43m    \u001b[49m\u001b[43mcolumns\u001b[49m\u001b[38;5;241;43m=\u001b[39;49m\u001b[43mcolumns\u001b[49m\u001b[43m,\u001b[49m\n\u001b[1;32m   3781\u001b[0m \u001b[43m    \u001b[49m\u001b[43mindex_label\u001b[49m\u001b[38;5;241;43m=\u001b[39;49m\u001b[43mindex_label\u001b[49m\u001b[43m,\u001b[49m\n\u001b[1;32m   3782\u001b[0m \u001b[43m    \u001b[49m\u001b[43mmode\u001b[49m\u001b[38;5;241;43m=\u001b[39;49m\u001b[43mmode\u001b[49m\u001b[43m,\u001b[49m\n\u001b[1;32m   3783\u001b[0m \u001b[43m    \u001b[49m\u001b[43mchunksize\u001b[49m\u001b[38;5;241;43m=\u001b[39;49m\u001b[43mchunksize\u001b[49m\u001b[43m,\u001b[49m\n\u001b[1;32m   3784\u001b[0m \u001b[43m    \u001b[49m\u001b[43mquotechar\u001b[49m\u001b[38;5;241;43m=\u001b[39;49m\u001b[43mquotechar\u001b[49m\u001b[43m,\u001b[49m\n\u001b[1;32m   3785\u001b[0m \u001b[43m    \u001b[49m\u001b[43mdate_format\u001b[49m\u001b[38;5;241;43m=\u001b[39;49m\u001b[43mdate_format\u001b[49m\u001b[43m,\u001b[49m\n\u001b[1;32m   3786\u001b[0m \u001b[43m    \u001b[49m\u001b[43mdoublequote\u001b[49m\u001b[38;5;241;43m=\u001b[39;49m\u001b[43mdoublequote\u001b[49m\u001b[43m,\u001b[49m\n\u001b[1;32m   3787\u001b[0m \u001b[43m    \u001b[49m\u001b[43mescapechar\u001b[49m\u001b[38;5;241;43m=\u001b[39;49m\u001b[43mescapechar\u001b[49m\u001b[43m,\u001b[49m\n\u001b[1;32m   3788\u001b[0m \u001b[43m    \u001b[49m\u001b[43mstorage_options\u001b[49m\u001b[38;5;241;43m=\u001b[39;49m\u001b[43mstorage_options\u001b[49m\u001b[43m,\u001b[49m\n\u001b[1;32m   3789\u001b[0m \u001b[43m\u001b[49m\u001b[43m)\u001b[49m\n",
            "File \u001b[0;32m/anaconda/envs/azureml_py38_PT_TF/lib/python3.8/site-packages/pandas/io/formats/format.py:1186\u001b[0m, in \u001b[0;36mDataFrameRenderer.to_csv\u001b[0;34m(self, path_or_buf, encoding, sep, columns, index_label, mode, compression, quoting, quotechar, lineterminator, chunksize, date_format, doublequote, escapechar, errors, storage_options)\u001b[0m\n\u001b[1;32m   1165\u001b[0m     created_buffer \u001b[38;5;241m=\u001b[39m \u001b[38;5;28;01mFalse\u001b[39;00m\n\u001b[1;32m   1167\u001b[0m csv_formatter \u001b[38;5;241m=\u001b[39m CSVFormatter(\n\u001b[1;32m   1168\u001b[0m     path_or_buf\u001b[38;5;241m=\u001b[39mpath_or_buf,\n\u001b[1;32m   1169\u001b[0m     lineterminator\u001b[38;5;241m=\u001b[39mlineterminator,\n\u001b[0;32m   (...)\u001b[0m\n\u001b[1;32m   1184\u001b[0m     formatter\u001b[38;5;241m=\u001b[39m\u001b[38;5;28mself\u001b[39m\u001b[38;5;241m.\u001b[39mfmt,\n\u001b[1;32m   1185\u001b[0m )\n\u001b[0;32m-> 1186\u001b[0m \u001b[43mcsv_formatter\u001b[49m\u001b[38;5;241;43m.\u001b[39;49m\u001b[43msave\u001b[49m\u001b[43m(\u001b[49m\u001b[43m)\u001b[49m\n\u001b[1;32m   1188\u001b[0m \u001b[38;5;28;01mif\u001b[39;00m created_buffer:\n\u001b[1;32m   1189\u001b[0m     \u001b[38;5;28;01massert\u001b[39;00m \u001b[38;5;28misinstance\u001b[39m(path_or_buf, StringIO)\n",
            "File \u001b[0;32m/anaconda/envs/azureml_py38_PT_TF/lib/python3.8/site-packages/pandas/io/formats/csvs.py:259\u001b[0m, in \u001b[0;36mCSVFormatter.save\u001b[0;34m(self)\u001b[0m\n\u001b[1;32m    240\u001b[0m \u001b[38;5;28;01mwith\u001b[39;00m get_handle(\n\u001b[1;32m    241\u001b[0m     \u001b[38;5;28mself\u001b[39m\u001b[38;5;241m.\u001b[39mfilepath_or_buffer,\n\u001b[1;32m    242\u001b[0m     \u001b[38;5;28mself\u001b[39m\u001b[38;5;241m.\u001b[39mmode,\n\u001b[0;32m   (...)\u001b[0m\n\u001b[1;32m    247\u001b[0m ) \u001b[38;5;28;01mas\u001b[39;00m handles:\n\u001b[1;32m    248\u001b[0m     \u001b[38;5;66;03m# Note: self.encoding is irrelevant here\u001b[39;00m\n\u001b[1;32m    249\u001b[0m     \u001b[38;5;28mself\u001b[39m\u001b[38;5;241m.\u001b[39mwriter \u001b[38;5;241m=\u001b[39m csvlib\u001b[38;5;241m.\u001b[39mwriter(\n\u001b[1;32m    250\u001b[0m         handles\u001b[38;5;241m.\u001b[39mhandle,\n\u001b[1;32m    251\u001b[0m         lineterminator\u001b[38;5;241m=\u001b[39m\u001b[38;5;28mself\u001b[39m\u001b[38;5;241m.\u001b[39mlineterminator,\n\u001b[0;32m   (...)\u001b[0m\n\u001b[1;32m    256\u001b[0m         quotechar\u001b[38;5;241m=\u001b[39m\u001b[38;5;28mself\u001b[39m\u001b[38;5;241m.\u001b[39mquotechar,\n\u001b[1;32m    257\u001b[0m     )\n\u001b[0;32m--> 259\u001b[0m     \u001b[38;5;28;43mself\u001b[39;49m\u001b[38;5;241;43m.\u001b[39;49m\u001b[43m_save\u001b[49m\u001b[43m(\u001b[49m\u001b[43m)\u001b[49m\n",
            "File \u001b[0;32m/anaconda/envs/azureml_py38_PT_TF/lib/python3.8/site-packages/pandas/io/formats/csvs.py:264\u001b[0m, in \u001b[0;36mCSVFormatter._save\u001b[0;34m(self)\u001b[0m\n\u001b[1;32m    262\u001b[0m \u001b[38;5;28;01mif\u001b[39;00m \u001b[38;5;28mself\u001b[39m\u001b[38;5;241m.\u001b[39m_need_to_save_header:\n\u001b[1;32m    263\u001b[0m     \u001b[38;5;28mself\u001b[39m\u001b[38;5;241m.\u001b[39m_save_header()\n\u001b[0;32m--> 264\u001b[0m \u001b[38;5;28;43mself\u001b[39;49m\u001b[38;5;241;43m.\u001b[39;49m\u001b[43m_save_body\u001b[49m\u001b[43m(\u001b[49m\u001b[43m)\u001b[49m\n",
            "File \u001b[0;32m/anaconda/envs/azureml_py38_PT_TF/lib/python3.8/site-packages/pandas/io/formats/csvs.py:302\u001b[0m, in \u001b[0;36mCSVFormatter._save_body\u001b[0;34m(self)\u001b[0m\n\u001b[1;32m    300\u001b[0m \u001b[38;5;28;01mif\u001b[39;00m start_i \u001b[38;5;241m>\u001b[39m\u001b[38;5;241m=\u001b[39m end_i:\n\u001b[1;32m    301\u001b[0m     \u001b[38;5;28;01mbreak\u001b[39;00m\n\u001b[0;32m--> 302\u001b[0m \u001b[38;5;28;43mself\u001b[39;49m\u001b[38;5;241;43m.\u001b[39;49m\u001b[43m_save_chunk\u001b[49m\u001b[43m(\u001b[49m\u001b[43mstart_i\u001b[49m\u001b[43m,\u001b[49m\u001b[43m \u001b[49m\u001b[43mend_i\u001b[49m\u001b[43m)\u001b[49m\n",
            "File \u001b[0;32m/anaconda/envs/azureml_py38_PT_TF/lib/python3.8/site-packages/pandas/io/formats/csvs.py:309\u001b[0m, in \u001b[0;36mCSVFormatter._save_chunk\u001b[0;34m(self, start_i, end_i)\u001b[0m\n\u001b[1;32m    306\u001b[0m slicer \u001b[38;5;241m=\u001b[39m \u001b[38;5;28mslice\u001b[39m(start_i, end_i)\n\u001b[1;32m    307\u001b[0m df \u001b[38;5;241m=\u001b[39m \u001b[38;5;28mself\u001b[39m\u001b[38;5;241m.\u001b[39mobj\u001b[38;5;241m.\u001b[39miloc[slicer]\n\u001b[0;32m--> 309\u001b[0m res \u001b[38;5;241m=\u001b[39m \u001b[43mdf\u001b[49m\u001b[38;5;241;43m.\u001b[39;49m\u001b[43m_mgr\u001b[49m\u001b[38;5;241;43m.\u001b[39;49m\u001b[43mto_native_types\u001b[49m\u001b[43m(\u001b[49m\u001b[38;5;241;43m*\u001b[39;49m\u001b[38;5;241;43m*\u001b[39;49m\u001b[38;5;28;43mself\u001b[39;49m\u001b[38;5;241;43m.\u001b[39;49m\u001b[43m_number_format\u001b[49m\u001b[43m)\u001b[49m\n\u001b[1;32m    310\u001b[0m data \u001b[38;5;241m=\u001b[39m [res\u001b[38;5;241m.\u001b[39miget_values(i) \u001b[38;5;28;01mfor\u001b[39;00m i \u001b[38;5;129;01min\u001b[39;00m \u001b[38;5;28mrange\u001b[39m(\u001b[38;5;28mlen\u001b[39m(res\u001b[38;5;241m.\u001b[39mitems))]\n\u001b[1;32m    312\u001b[0m ix \u001b[38;5;241m=\u001b[39m \u001b[38;5;28mself\u001b[39m\u001b[38;5;241m.\u001b[39mdata_index[slicer]\u001b[38;5;241m.\u001b[39m_format_native_types(\u001b[38;5;241m*\u001b[39m\u001b[38;5;241m*\u001b[39m\u001b[38;5;28mself\u001b[39m\u001b[38;5;241m.\u001b[39m_number_format)\n",
            "File \u001b[0;32m/anaconda/envs/azureml_py38_PT_TF/lib/python3.8/site-packages/pandas/core/internals/managers.py:512\u001b[0m, in \u001b[0;36mBaseBlockManager.to_native_types\u001b[0;34m(self, **kwargs)\u001b[0m\n\u001b[1;32m    507\u001b[0m \u001b[38;5;28;01mdef\u001b[39;00m \u001b[38;5;21mto_native_types\u001b[39m(\u001b[38;5;28mself\u001b[39m: T, \u001b[38;5;241m*\u001b[39m\u001b[38;5;241m*\u001b[39mkwargs) \u001b[38;5;241m-\u001b[39m\u001b[38;5;241m>\u001b[39m T:\n\u001b[1;32m    508\u001b[0m     \u001b[38;5;124;03m\"\"\"\u001b[39;00m\n\u001b[1;32m    509\u001b[0m \u001b[38;5;124;03m    Convert values to native types (strings / python objects) that are used\u001b[39;00m\n\u001b[1;32m    510\u001b[0m \u001b[38;5;124;03m    in formatting (repr / csv).\u001b[39;00m\n\u001b[1;32m    511\u001b[0m \u001b[38;5;124;03m    \"\"\"\u001b[39;00m\n\u001b[0;32m--> 512\u001b[0m     \u001b[38;5;28;01mreturn\u001b[39;00m \u001b[38;5;28;43mself\u001b[39;49m\u001b[38;5;241;43m.\u001b[39;49m\u001b[43mapply\u001b[49m\u001b[43m(\u001b[49m\u001b[38;5;124;43m\"\u001b[39;49m\u001b[38;5;124;43mto_native_types\u001b[39;49m\u001b[38;5;124;43m\"\u001b[39;49m\u001b[43m,\u001b[49m\u001b[43m \u001b[49m\u001b[38;5;241;43m*\u001b[39;49m\u001b[38;5;241;43m*\u001b[39;49m\u001b[43mkwargs\u001b[49m\u001b[43m)\u001b[49m\n",
            "File \u001b[0;32m/anaconda/envs/azureml_py38_PT_TF/lib/python3.8/site-packages/pandas/core/internals/managers.py:352\u001b[0m, in \u001b[0;36mBaseBlockManager.apply\u001b[0;34m(self, f, align_keys, **kwargs)\u001b[0m\n\u001b[1;32m    350\u001b[0m         applied \u001b[38;5;241m=\u001b[39m b\u001b[38;5;241m.\u001b[39mapply(f, \u001b[38;5;241m*\u001b[39m\u001b[38;5;241m*\u001b[39mkwargs)\n\u001b[1;32m    351\u001b[0m     \u001b[38;5;28;01melse\u001b[39;00m:\n\u001b[0;32m--> 352\u001b[0m         applied \u001b[38;5;241m=\u001b[39m \u001b[38;5;28;43mgetattr\u001b[39;49m\u001b[43m(\u001b[49m\u001b[43mb\u001b[49m\u001b[43m,\u001b[49m\u001b[43m \u001b[49m\u001b[43mf\u001b[49m\u001b[43m)\u001b[49m\u001b[43m(\u001b[49m\u001b[38;5;241;43m*\u001b[39;49m\u001b[38;5;241;43m*\u001b[39;49m\u001b[43mkwargs\u001b[49m\u001b[43m)\u001b[49m\n\u001b[1;32m    353\u001b[0m     result_blocks \u001b[38;5;241m=\u001b[39m extend_blocks(applied, result_blocks)\n\u001b[1;32m    355\u001b[0m out \u001b[38;5;241m=\u001b[39m \u001b[38;5;28mtype\u001b[39m(\u001b[38;5;28mself\u001b[39m)\u001b[38;5;241m.\u001b[39mfrom_blocks(result_blocks, \u001b[38;5;28mself\u001b[39m\u001b[38;5;241m.\u001b[39maxes)\n",
            "File \u001b[0;32m/anaconda/envs/azureml_py38_PT_TF/lib/python3.8/site-packages/pandas/core/internals/blocks.py:531\u001b[0m, in \u001b[0;36mBlock.to_native_types\u001b[0;34m(self, na_rep, quoting, **kwargs)\u001b[0m\n\u001b[1;32m    528\u001b[0m \u001b[38;5;129m@final\u001b[39m\n\u001b[1;32m    529\u001b[0m \u001b[38;5;28;01mdef\u001b[39;00m \u001b[38;5;21mto_native_types\u001b[39m(\u001b[38;5;28mself\u001b[39m, na_rep: \u001b[38;5;28mstr\u001b[39m \u001b[38;5;241m=\u001b[39m \u001b[38;5;124m\"\u001b[39m\u001b[38;5;124mnan\u001b[39m\u001b[38;5;124m\"\u001b[39m, quoting\u001b[38;5;241m=\u001b[39m\u001b[38;5;28;01mNone\u001b[39;00m, \u001b[38;5;241m*\u001b[39m\u001b[38;5;241m*\u001b[39mkwargs) \u001b[38;5;241m-\u001b[39m\u001b[38;5;241m>\u001b[39m Block:\n\u001b[1;32m    530\u001b[0m     \u001b[38;5;124;03m\"\"\"convert to our native types format\"\"\"\u001b[39;00m\n\u001b[0;32m--> 531\u001b[0m     result \u001b[38;5;241m=\u001b[39m \u001b[43mto_native_types\u001b[49m\u001b[43m(\u001b[49m\u001b[38;5;28;43mself\u001b[39;49m\u001b[38;5;241;43m.\u001b[39;49m\u001b[43mvalues\u001b[49m\u001b[43m,\u001b[49m\u001b[43m \u001b[49m\u001b[43mna_rep\u001b[49m\u001b[38;5;241;43m=\u001b[39;49m\u001b[43mna_rep\u001b[49m\u001b[43m,\u001b[49m\u001b[43m \u001b[49m\u001b[43mquoting\u001b[49m\u001b[38;5;241;43m=\u001b[39;49m\u001b[43mquoting\u001b[49m\u001b[43m,\u001b[49m\u001b[43m \u001b[49m\u001b[38;5;241;43m*\u001b[39;49m\u001b[38;5;241;43m*\u001b[39;49m\u001b[43mkwargs\u001b[49m\u001b[43m)\u001b[49m\n\u001b[1;32m    532\u001b[0m     \u001b[38;5;28;01mreturn\u001b[39;00m \u001b[38;5;28mself\u001b[39m\u001b[38;5;241m.\u001b[39mmake_block(result)\n",
            "File \u001b[0;32m/anaconda/envs/azureml_py38_PT_TF/lib/python3.8/site-packages/pandas/core/internals/blocks.py:2536\u001b[0m, in \u001b[0;36mto_native_types\u001b[0;34m(values, na_rep, quoting, float_format, decimal, **kwargs)\u001b[0m\n\u001b[1;32m   2533\u001b[0m mask \u001b[38;5;241m=\u001b[39m isna(values)\n\u001b[1;32m   2535\u001b[0m \u001b[38;5;28;01mif\u001b[39;00m \u001b[38;5;129;01mnot\u001b[39;00m quoting:\n\u001b[0;32m-> 2536\u001b[0m     values \u001b[38;5;241m=\u001b[39m \u001b[43mvalues\u001b[49m\u001b[38;5;241;43m.\u001b[39;49m\u001b[43mastype\u001b[49m\u001b[43m(\u001b[49m\u001b[38;5;28;43mstr\u001b[39;49m\u001b[43m)\u001b[49m\n\u001b[1;32m   2537\u001b[0m \u001b[38;5;28;01melse\u001b[39;00m:\n\u001b[1;32m   2538\u001b[0m     values \u001b[38;5;241m=\u001b[39m np\u001b[38;5;241m.\u001b[39marray(values, dtype\u001b[38;5;241m=\u001b[39m\u001b[38;5;124m\"\u001b[39m\u001b[38;5;124mobject\u001b[39m\u001b[38;5;124m\"\u001b[39m)\n",
            "\u001b[0;31mMemoryError\u001b[0m: Unable to allocate 303. GiB for an array with shape (423681, 6000) and data type <U32"
          ]
        }
      ],
      "execution_count": 25,
      "metadata": {
        "jupyter": {
          "source_hidden": false,
          "outputs_hidden": false
        },
        "nteract": {
          "transient": {
            "deleting": false
          }
        },
        "gather": {
          "logged": 1689179999680
        }
      }
    },
    {
      "cell_type": "code",
      "source": [
        "import pandas as pd\r\n",
        "from sklearn.model_selection import train_test_split\r\n",
        "from sklearn.linear_model import LogisticRegression\r\n",
        "from sklearn.preprocessing import LabelEncoder\r\n",
        "from sklearn.metrics import accuracy_score\r\n",
        "from sklearn.ensemble import RandomForestClassifier\r\n",
        "from sklearn.experimental import enable_hist_gradient_boosting\r\n",
        "from sklearn.ensemble import HistGradientBoostingClassifier"
      ],
      "outputs": [
        {
          "output_type": "stream",
          "name": "stderr",
          "text": "/anaconda/envs/azureml_py38_PT_TF/lib/python3.8/site-packages/sklearn/experimental/enable_hist_gradient_boosting.py:16: UserWarning: Since version 1.0, it is not needed to import enable_hist_gradient_boosting anymore. HistGradientBoostingClassifier and HistGradientBoostingRegressor are now stable and can be normally imported from sklearn.ensemble.\n  warnings.warn(\n"
        }
      ],
      "execution_count": 28,
      "metadata": {
        "jupyter": {
          "source_hidden": false,
          "outputs_hidden": false
        },
        "nteract": {
          "transient": {
            "deleting": false
          }
        },
        "gather": {
          "logged": 1689177435488
        }
      }
    },
    {
      "cell_type": "code",
      "source": [
        "!pip install imblearn"
      ],
      "outputs": [
        {
          "output_type": "stream",
          "name": "stdout",
          "text": "Requirement already satisfied: imblearn in /anaconda/envs/azureml_py38/lib/python3.8/site-packages (0.0)\r\nRequirement already satisfied: imbalanced-learn in /anaconda/envs/azureml_py38/lib/python3.8/site-packages (from imblearn) (0.11.0)\r\nRequirement already satisfied: joblib>=1.1.1 in /anaconda/envs/azureml_py38/lib/python3.8/site-packages (from imbalanced-learn->imblearn) (1.3.1)\r\nRequirement already satisfied: scipy>=1.5.0 in /anaconda/envs/azureml_py38/lib/python3.8/site-packages (from imbalanced-learn->imblearn) (1.5.3)\r\nRequirement already satisfied: scikit-learn>=1.0.2 in /anaconda/envs/azureml_py38/lib/python3.8/site-packages (from imbalanced-learn->imblearn) (1.3.0)\r\nRequirement already satisfied: threadpoolctl>=2.0.0 in /anaconda/envs/azureml_py38/lib/python3.8/site-packages (from imbalanced-learn->imblearn) (2.2.0)\r\nRequirement already satisfied: numpy>=1.17.3 in /anaconda/envs/azureml_py38/lib/python3.8/site-packages (from imbalanced-learn->imblearn) (1.21.6)\r\n"
        }
      ],
      "execution_count": 29,
      "metadata": {
        "jupyter": {
          "source_hidden": false,
          "outputs_hidden": false
        },
        "nteract": {
          "transient": {
            "deleting": false
          }
        }
      }
    },
    {
      "cell_type": "code",
      "source": [
        "#!conda install -c conda-forge imbalanced-learn"
      ],
      "outputs": [],
      "execution_count": 3,
      "metadata": {
        "jupyter": {
          "source_hidden": false,
          "outputs_hidden": false
        },
        "nteract": {
          "transient": {
            "deleting": false
          }
        },
        "gather": {
          "logged": 1689177161510
        }
      }
    },
    {
      "cell_type": "code",
      "source": [
        "#!conda install imbalanced-learn -y"
      ],
      "outputs": [],
      "execution_count": 6,
      "metadata": {
        "jupyter": {
          "source_hidden": false,
          "outputs_hidden": false
        },
        "nteract": {
          "transient": {
            "deleting": false
          }
        },
        "gather": {
          "logged": 1689177185913
        }
      }
    },
    {
      "cell_type": "code",
      "source": [
        "#from imblearn.over_sampling import SMOTE\r\n",
        "#from sklearn.utils import class_weight\r\n"
      ],
      "outputs": [],
      "execution_count": 5,
      "metadata": {
        "jupyter": {
          "source_hidden": false,
          "outputs_hidden": false
        },
        "nteract": {
          "transient": {
            "deleting": false
          }
        },
        "gather": {
          "logged": 1689177175502
        }
      }
    },
    {
      "cell_type": "code",
      "source": [
        "# Separate features (X) and target variable (y)\r\n",
        "X = sample_df.drop('death', axis=1)\r\n",
        "y = sample_df['death']\r\n"
      ],
      "outputs": [],
      "execution_count": 29,
      "metadata": {
        "jupyter": {
          "source_hidden": false,
          "outputs_hidden": false
        },
        "nteract": {
          "transient": {
            "deleting": false
          }
        },
        "gather": {
          "logged": 1689177473112
        }
      }
    },
    {
      "cell_type": "code",
      "source": [
        "!conda install seaborn -y"
      ],
      "outputs": [
        {
          "output_type": "stream",
          "name": "stdout",
          "text": "Collecting package metadata (current_repodata.json): - \b\b\\ \b\b| \b\b/ \b\b- \b\b\\ \b\b| \b\b/ \b\b- \b\b\\ \b\b| \b\b/ \b\b- \b\b\\ \b\b| \b\b/ \b\b- \b\b\\ \b\b| \b\b/ \b\b- \b\b\\ \b\b| \b\b/ \b\b- \b\b\\ \b\b| \b\bdone\nSolving environment: - \b\b\\ \b\b| \b\b/ \b\b- \b\b\\ \b\b| \b\b/ \b\b- \b\b\\ \b\b| \b\b/ \b\b- \b\b\\ \b\b| \b\b/ \b\b- \b\b\\ \b\b| \b\b/ \b\b- \b\b\\ \b\b| \b\bdone\n\n# All requested packages already installed.\n\n"
        }
      ],
      "execution_count": 35,
      "metadata": {
        "jupyter": {
          "source_hidden": false,
          "outputs_hidden": false
        },
        "nteract": {
          "transient": {
            "deleting": false
          }
        }
      }
    },
    {
      "cell_type": "code",
      "source": [
        "from sklearn.model_selection import train_test_split\r\n",
        "# Split the data into training and testing sets\r\n",
        "X_train, X_test, y_train, y_test = train_test_split(X, y, test_size=0.2, random_state=42)\r\n",
        "\r\n",
        "# Print the shapes of the training and testing sets\r\n",
        "print(\"X_train shape:\", X_train.shape)\r\n",
        "print(\"y_train shape:\", y_train.shape)\r\n",
        "print(\"X_test shape:\", X_test.shape)\r\n",
        "print(\"y_test shape:\", y_test.shape)\r\n"
      ],
      "outputs": [
        {
          "output_type": "stream",
          "name": "stdout",
          "text": "X_train shape: (4800, 10)\ny_train shape: (4800,)\nX_test shape: (1200, 10)\ny_test shape: (1200,)\n"
        }
      ],
      "execution_count": 30,
      "metadata": {
        "jupyter": {
          "source_hidden": false,
          "outputs_hidden": false
        },
        "nteract": {
          "transient": {
            "deleting": false
          }
        },
        "gather": {
          "logged": 1689177477500
        }
      }
    },
    {
      "cell_type": "code",
      "source": [
        "!pip install xgboost"
      ],
      "outputs": [
        {
          "output_type": "stream",
          "name": "stdout",
          "text": "Requirement already satisfied: xgboost in /anaconda/envs/azureml_py38/lib/python3.8/site-packages (1.3.3)\r\nRequirement already satisfied: numpy in /anaconda/envs/azureml_py38/lib/python3.8/site-packages (from xgboost) (1.21.6)\r\nRequirement already satisfied: scipy in /anaconda/envs/azureml_py38/lib/python3.8/site-packages (from xgboost) (1.5.3)\r\n"
        }
      ],
      "execution_count": 33,
      "metadata": {
        "jupyter": {
          "source_hidden": false,
          "outputs_hidden": false
        },
        "nteract": {
          "transient": {
            "deleting": false
          }
        }
      }
    },
    {
      "cell_type": "code",
      "source": [
        "import xgboost as xgb\r\n",
        "# Initialize the XGBoost classifier\r\n",
        "xgb_classifier = xgb.XGBClassifier(scale_pos_weight=class_weights[1])"
      ],
      "outputs": [
        {
          "output_type": "error",
          "ename": "ModuleNotFoundError",
          "evalue": "No module named 'xgboost'",
          "traceback": [
            "\u001b[0;31m---------------------------------------------------------------------------\u001b[0m",
            "\u001b[0;31mModuleNotFoundError\u001b[0m                       Traceback (most recent call last)",
            "Cell \u001b[0;32mIn[34], line 1\u001b[0m\n\u001b[0;32m----> 1\u001b[0m \u001b[38;5;28;01mimport\u001b[39;00m \u001b[38;5;21;01mxgboost\u001b[39;00m \u001b[38;5;28;01mas\u001b[39;00m \u001b[38;5;21;01mxgb\u001b[39;00m\n\u001b[1;32m      2\u001b[0m \u001b[38;5;66;03m# Initialize the XGBoost classifier\u001b[39;00m\n\u001b[1;32m      3\u001b[0m xgb_classifier \u001b[38;5;241m=\u001b[39m xgb\u001b[38;5;241m.\u001b[39mXGBClassifier(scale_pos_weight\u001b[38;5;241m=\u001b[39mclass_weights[\u001b[38;5;241m1\u001b[39m])\n",
            "\u001b[0;31mModuleNotFoundError\u001b[0m: No module named 'xgboost'"
          ]
        }
      ],
      "execution_count": 34,
      "metadata": {
        "jupyter": {
          "source_hidden": false,
          "outputs_hidden": false
        },
        "nteract": {
          "transient": {
            "deleting": false
          }
        },
        "gather": {
          "logged": 1689177571321
        }
      }
    },
    {
      "cell_type": "code",
      "source": [
        "# Train the HistGradientBoostingClassifier model\r\n",
        "model = HistGradientBoostingClassifier()\r\n",
        "model.fit(X_train, y_train)"
      ],
      "outputs": [
        {
          "output_type": "execute_result",
          "execution_count": 22,
          "data": {
            "text/plain": "HistGradientBoostingClassifier()",
            "text/html": "<style>#sk-container-id-1 {color: black;background-color: white;}#sk-container-id-1 pre{padding: 0;}#sk-container-id-1 div.sk-toggleable {background-color: white;}#sk-container-id-1 label.sk-toggleable__label {cursor: pointer;display: block;width: 100%;margin-bottom: 0;padding: 0.3em;box-sizing: border-box;text-align: center;}#sk-container-id-1 label.sk-toggleable__label-arrow:before {content: \"▸\";float: left;margin-right: 0.25em;color: #696969;}#sk-container-id-1 label.sk-toggleable__label-arrow:hover:before {color: black;}#sk-container-id-1 div.sk-estimator:hover label.sk-toggleable__label-arrow:before {color: black;}#sk-container-id-1 div.sk-toggleable__content {max-height: 0;max-width: 0;overflow: hidden;text-align: left;background-color: #f0f8ff;}#sk-container-id-1 div.sk-toggleable__content pre {margin: 0.2em;color: black;border-radius: 0.25em;background-color: #f0f8ff;}#sk-container-id-1 input.sk-toggleable__control:checked~div.sk-toggleable__content {max-height: 200px;max-width: 100%;overflow: auto;}#sk-container-id-1 input.sk-toggleable__control:checked~label.sk-toggleable__label-arrow:before {content: \"▾\";}#sk-container-id-1 div.sk-estimator input.sk-toggleable__control:checked~label.sk-toggleable__label {background-color: #d4ebff;}#sk-container-id-1 div.sk-label input.sk-toggleable__control:checked~label.sk-toggleable__label {background-color: #d4ebff;}#sk-container-id-1 input.sk-hidden--visually {border: 0;clip: rect(1px 1px 1px 1px);clip: rect(1px, 1px, 1px, 1px);height: 1px;margin: -1px;overflow: hidden;padding: 0;position: absolute;width: 1px;}#sk-container-id-1 div.sk-estimator {font-family: monospace;background-color: #f0f8ff;border: 1px dotted black;border-radius: 0.25em;box-sizing: border-box;margin-bottom: 0.5em;}#sk-container-id-1 div.sk-estimator:hover {background-color: #d4ebff;}#sk-container-id-1 div.sk-parallel-item::after {content: \"\";width: 100%;border-bottom: 1px solid gray;flex-grow: 1;}#sk-container-id-1 div.sk-label:hover label.sk-toggleable__label {background-color: #d4ebff;}#sk-container-id-1 div.sk-serial::before {content: \"\";position: absolute;border-left: 1px solid gray;box-sizing: border-box;top: 0;bottom: 0;left: 50%;z-index: 0;}#sk-container-id-1 div.sk-serial {display: flex;flex-direction: column;align-items: center;background-color: white;padding-right: 0.2em;padding-left: 0.2em;position: relative;}#sk-container-id-1 div.sk-item {position: relative;z-index: 1;}#sk-container-id-1 div.sk-parallel {display: flex;align-items: stretch;justify-content: center;background-color: white;position: relative;}#sk-container-id-1 div.sk-item::before, #sk-container-id-1 div.sk-parallel-item::before {content: \"\";position: absolute;border-left: 1px solid gray;box-sizing: border-box;top: 0;bottom: 0;left: 50%;z-index: -1;}#sk-container-id-1 div.sk-parallel-item {display: flex;flex-direction: column;z-index: 1;position: relative;background-color: white;}#sk-container-id-1 div.sk-parallel-item:first-child::after {align-self: flex-end;width: 50%;}#sk-container-id-1 div.sk-parallel-item:last-child::after {align-self: flex-start;width: 50%;}#sk-container-id-1 div.sk-parallel-item:only-child::after {width: 0;}#sk-container-id-1 div.sk-dashed-wrapped {border: 1px dashed gray;margin: 0 0.4em 0.5em 0.4em;box-sizing: border-box;padding-bottom: 0.4em;background-color: white;}#sk-container-id-1 div.sk-label label {font-family: monospace;font-weight: bold;display: inline-block;line-height: 1.2em;}#sk-container-id-1 div.sk-label-container {text-align: center;}#sk-container-id-1 div.sk-container {/* jupyter's `normalize.less` sets `[hidden] { display: none; }` but bootstrap.min.css set `[hidden] { display: none !important; }` so we also need the `!important` here to be able to override the default hidden behavior on the sphinx rendered scikit-learn.org. See: https://github.com/scikit-learn/scikit-learn/issues/21755 */display: inline-block !important;position: relative;}#sk-container-id-1 div.sk-text-repr-fallback {display: none;}</style><div id=\"sk-container-id-1\" class=\"sk-top-container\"><div class=\"sk-text-repr-fallback\"><pre>HistGradientBoostingClassifier()</pre><b>In a Jupyter environment, please rerun this cell to show the HTML representation or trust the notebook. <br />On GitHub, the HTML representation is unable to render, please try loading this page with nbviewer.org.</b></div><div class=\"sk-container\" hidden><div class=\"sk-item\"><div class=\"sk-estimator sk-toggleable\"><input class=\"sk-toggleable__control sk-hidden--visually\" id=\"sk-estimator-id-1\" type=\"checkbox\" checked><label for=\"sk-estimator-id-1\" class=\"sk-toggleable__label sk-toggleable__label-arrow\">HistGradientBoostingClassifier</label><div class=\"sk-toggleable__content\"><pre>HistGradientBoostingClassifier()</pre></div></div></div></div></div>"
          },
          "metadata": {}
        }
      ],
      "execution_count": 22,
      "metadata": {
        "jupyter": {
          "source_hidden": false,
          "outputs_hidden": false
        },
        "nteract": {
          "transient": {
            "deleting": false
          }
        },
        "gather": {
          "logged": 1689175396947
        }
      }
    },
    {
      "cell_type": "code",
      "source": [
        "\r\n",
        "train_accuracy = model.score(X_train, y_train)\r\n",
        "print(\"Training Accuracy:\", train_accuracy)"
      ],
      "outputs": [
        {
          "output_type": "stream",
          "name": "stdout",
          "text": "Training Accuracy: 0.8804166666666666\n"
        }
      ],
      "execution_count": 23,
      "metadata": {
        "jupyter": {
          "source_hidden": false,
          "outputs_hidden": false
        },
        "nteract": {
          "transient": {
            "deleting": false
          }
        },
        "gather": {
          "logged": 1689175408836
        }
      }
    },
    {
      "cell_type": "code",
      "source": [
        "y_pred = model.predict(X_test)"
      ],
      "outputs": [],
      "execution_count": 24,
      "metadata": {
        "jupyter": {
          "source_hidden": false,
          "outputs_hidden": false
        },
        "nteract": {
          "transient": {
            "deleting": false
          }
        },
        "gather": {
          "logged": 1689175529476
        }
      }
    },
    {
      "cell_type": "code",
      "source": [
        "from sklearn.metrics import classification_report, confusion_matrix"
      ],
      "outputs": [],
      "execution_count": 25,
      "metadata": {
        "jupyter": {
          "source_hidden": false,
          "outputs_hidden": false
        },
        "nteract": {
          "transient": {
            "deleting": false
          }
        },
        "gather": {
          "logged": 1689175640160
        }
      }
    },
    {
      "cell_type": "code",
      "source": [
        "print(\"Classification Report: \")\r\n",
        "print(classification_report(y_test,y_pred))"
      ],
      "outputs": [
        {
          "output_type": "stream",
          "name": "stdout",
          "text": "Classification Report: \n              precision    recall  f1-score   support\n\n           0       0.51      0.27      0.35       333\n           1       0.76      0.90      0.83       867\n\n    accuracy                           0.73      1200\n   macro avg       0.64      0.59      0.59      1200\nweighted avg       0.69      0.73      0.69      1200\n\n"
        }
      ],
      "execution_count": 26,
      "metadata": {
        "jupyter": {
          "source_hidden": false,
          "outputs_hidden": false
        },
        "nteract": {
          "transient": {
            "deleting": false
          }
        },
        "gather": {
          "logged": 1689175643507
        }
      }
    },
    {
      "cell_type": "code",
      "source": [
        "print(\"Confusion Matrix: \")\r\n",
        "print(confusion_matrix(y_test, y_pred))"
      ],
      "outputs": [
        {
          "output_type": "stream",
          "name": "stdout",
          "text": "Confusion Matrix: \n[[ 89 244]\n [ 84 783]]\n"
        }
      ],
      "execution_count": 27,
      "metadata": {
        "jupyter": {
          "source_hidden": false,
          "outputs_hidden": false
        },
        "nteract": {
          "transient": {
            "deleting": false
          }
        },
        "gather": {
          "logged": 1689175691245
        }
      }
    },
    {
      "cell_type": "code",
      "source": [
        "#merged_df.to_csv('/mnt/batch/tasks/shared/LS_root/mounts/clusters/team3-nishagpu2/code/Users/900379/Final_data_frames/nisha_Finaldf_train.csv')"
      ],
      "outputs": [],
      "execution_count": 3,
      "metadata": {
        "jupyter": {
          "source_hidden": false,
          "outputs_hidden": false
        },
        "nteract": {
          "transient": {
            "deleting": false
          }
        },
        "gather": {
          "logged": 1688983453598
        }
      }
    },
    {
      "cell_type": "code",
      "source": [
        "#merged_df = pd.read_csv('/mnt/batch/tasks/shared/LS_root/mounts/clusters/team3-nishagpu2/code/Users/900379/Final_data_frames/nisha_Finaldf_train.csv')\r\n",
        "#merged_df"
      ],
      "outputs": [],
      "execution_count": 1,
      "metadata": {
        "jupyter": {
          "source_hidden": false,
          "outputs_hidden": false
        },
        "nteract": {
          "transient": {
            "deleting": false
          }
        },
        "gather": {
          "logged": 1689170110690
        }
      }
    },
    {
      "cell_type": "code",
      "source": [
        "merged_df.shape"
      ],
      "outputs": [
        {
          "output_type": "execute_result",
          "execution_count": 7,
          "data": {
            "text/plain": "(133252, 19)"
          },
          "metadata": {}
        }
      ],
      "execution_count": 7,
      "metadata": {
        "jupyter": {
          "source_hidden": false,
          "outputs_hidden": false
        },
        "nteract": {
          "transient": {
            "deleting": false
          }
        },
        "gather": {
          "logged": 1689058314076
        }
      }
    }
  ],
  "metadata": {
    "kernelspec": {
      "name": "python38-azureml-pt-tf",
      "language": "python",
      "display_name": "Python 3.8 - Pytorch and Tensorflow"
    },
    "language_info": {
      "name": "python",
      "version": "3.8.5",
      "mimetype": "text/x-python",
      "codemirror_mode": {
        "name": "ipython",
        "version": 3
      },
      "pygments_lexer": "ipython3",
      "nbconvert_exporter": "python",
      "file_extension": ".py"
    },
    "microsoft": {
      "ms_spell_check": {
        "ms_spell_check_language": "en"
      },
      "host": {
        "AzureML": {
          "notebookHasBeenCompleted": true
        }
      }
    },
    "kernel_info": {
      "name": "python38-azureml-pt-tf"
    },
    "nteract": {
      "version": "nteract-front-end@1.0.0"
    }
  },
  "nbformat": 4,
  "nbformat_minor": 2
}