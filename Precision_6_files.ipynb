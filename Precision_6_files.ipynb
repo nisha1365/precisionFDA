{
  "nbformat": 4,
  "nbformat_minor": 0,
  "metadata": {
    "colab": {
      "provenance": [],
      "authorship_tag": "ABX9TyPoUjx1qVgQ2HuGfNupeVa1",
      "include_colab_link": true
    },
    "kernelspec": {
      "name": "python3",
      "display_name": "Python 3"
    },
    "language_info": {
      "name": "python"
    }
  },
  "cells": [
    {
      "cell_type": "markdown",
      "metadata": {
        "id": "view-in-github",
        "colab_type": "text"
      },
      "source": [
        "<a href=\"https://colab.research.google.com/github/nisha1365/precisionFDA/blob/main/Precision_6_files.ipynb\" target=\"_parent\"><img src=\"https://colab.research.google.com/assets/colab-badge.svg\" alt=\"Open In Colab\"/></a>"
      ]
    },
    {
      "cell_type": "code",
      "execution_count": 45,
      "metadata": {
        "id": "xWCD9IP4GSBv"
      },
      "outputs": [],
      "source": [
        "\n",
        "import pandas as pd\n",
        "import numpy as np\n",
        "import matplotlib.pyplot as plt\n",
        "import seaborn as sns"
      ]
    },
    {
      "cell_type": "markdown",
      "source": [
        "df1 = demographic event\n",
        "\n",
        "df2 = demograhic static\n",
        "\n",
        "df3 = ed visits\n",
        "\n",
        "df4 = medications ordered\n",
        "\n",
        "df5 = medications administered\n",
        "\n",
        "df6 = death train"
      ],
      "metadata": {
        "id": "f2jf-I_UHRXn"
      }
    },
    {
      "cell_type": "markdown",
      "source": [
        "## **DEMOGRAPHIC EVENT**"
      ],
      "metadata": {
        "id": "RnshTrGLTfST"
      }
    },
    {
      "cell_type": "code",
      "source": [
        "df1 = pd.read_csv('/content/demographics_event_qual.csv')\n",
        "df2 = pd.read_csv('/content/demographics_static_qual.csv')\n",
        "df3 = pd.read_csv('/content/ed_visits_qual.csv')\n",
        "df4 = pd.read_csv('/content/medications_ordered_qual.csv')\n",
        "df5 = pd.read_csv('/content/medications_administered_qual.csv')\n",
        "df6 = pd.read_csv('/content/death_train.csv')"
      ],
      "metadata": {
        "id": "TIWsLhYyHgrX"
      },
      "execution_count": 46,
      "outputs": []
    },
    {
      "cell_type": "code",
      "source": [
        "df1.head()"
      ],
      "metadata": {
        "colab": {
          "base_uri": "https://localhost:8080/",
          "height": 206
        },
        "id": "p1sEA7R2OSSe",
        "outputId": "97a60906-0f2b-4ffa-f3c1-7b3f45c52221"
      },
      "execution_count": 47,
      "outputs": [
        {
          "output_type": "execute_result",
          "data": {
            "text/plain": [
              "   Unnamed: 0  Internalpatientid  Age at update             Event date  \\\n",
              "0         111             101984      64.882403  2020-07-30 12:26:07.0   \n",
              "1         156             102905      79.456365  2022-05-06 07:13:46.0   \n",
              "2         177             103133     100.560119  2017-08-28 17:22:05.0   \n",
              "3         195              10351      92.317781  2018-04-11 03:34:37.0   \n",
              "4         312             105402      85.572665  2021-08-09 19:25:16.0   \n",
              "\n",
              "  Marital status Ruca category  \n",
              "0        Married         Urban  \n",
              "1        Married         Urban  \n",
              "2        Married         Urban  \n",
              "3        Married         Rural  \n",
              "4      Separated         Urban  "
            ],
            "text/html": [
              "\n",
              "  <div id=\"df-d4c85f50-9a8f-4c6b-ac19-93b9765b74aa\">\n",
              "    <div class=\"colab-df-container\">\n",
              "      <div>\n",
              "<style scoped>\n",
              "    .dataframe tbody tr th:only-of-type {\n",
              "        vertical-align: middle;\n",
              "    }\n",
              "\n",
              "    .dataframe tbody tr th {\n",
              "        vertical-align: top;\n",
              "    }\n",
              "\n",
              "    .dataframe thead th {\n",
              "        text-align: right;\n",
              "    }\n",
              "</style>\n",
              "<table border=\"1\" class=\"dataframe\">\n",
              "  <thead>\n",
              "    <tr style=\"text-align: right;\">\n",
              "      <th></th>\n",
              "      <th>Unnamed: 0</th>\n",
              "      <th>Internalpatientid</th>\n",
              "      <th>Age at update</th>\n",
              "      <th>Event date</th>\n",
              "      <th>Marital status</th>\n",
              "      <th>Ruca category</th>\n",
              "    </tr>\n",
              "  </thead>\n",
              "  <tbody>\n",
              "    <tr>\n",
              "      <th>0</th>\n",
              "      <td>111</td>\n",
              "      <td>101984</td>\n",
              "      <td>64.882403</td>\n",
              "      <td>2020-07-30 12:26:07.0</td>\n",
              "      <td>Married</td>\n",
              "      <td>Urban</td>\n",
              "    </tr>\n",
              "    <tr>\n",
              "      <th>1</th>\n",
              "      <td>156</td>\n",
              "      <td>102905</td>\n",
              "      <td>79.456365</td>\n",
              "      <td>2022-05-06 07:13:46.0</td>\n",
              "      <td>Married</td>\n",
              "      <td>Urban</td>\n",
              "    </tr>\n",
              "    <tr>\n",
              "      <th>2</th>\n",
              "      <td>177</td>\n",
              "      <td>103133</td>\n",
              "      <td>100.560119</td>\n",
              "      <td>2017-08-28 17:22:05.0</td>\n",
              "      <td>Married</td>\n",
              "      <td>Urban</td>\n",
              "    </tr>\n",
              "    <tr>\n",
              "      <th>3</th>\n",
              "      <td>195</td>\n",
              "      <td>10351</td>\n",
              "      <td>92.317781</td>\n",
              "      <td>2018-04-11 03:34:37.0</td>\n",
              "      <td>Married</td>\n",
              "      <td>Rural</td>\n",
              "    </tr>\n",
              "    <tr>\n",
              "      <th>4</th>\n",
              "      <td>312</td>\n",
              "      <td>105402</td>\n",
              "      <td>85.572665</td>\n",
              "      <td>2021-08-09 19:25:16.0</td>\n",
              "      <td>Separated</td>\n",
              "      <td>Urban</td>\n",
              "    </tr>\n",
              "  </tbody>\n",
              "</table>\n",
              "</div>\n",
              "      <button class=\"colab-df-convert\" onclick=\"convertToInteractive('df-d4c85f50-9a8f-4c6b-ac19-93b9765b74aa')\"\n",
              "              title=\"Convert this dataframe to an interactive table.\"\n",
              "              style=\"display:none;\">\n",
              "        \n",
              "  <svg xmlns=\"http://www.w3.org/2000/svg\" height=\"24px\"viewBox=\"0 0 24 24\"\n",
              "       width=\"24px\">\n",
              "    <path d=\"M0 0h24v24H0V0z\" fill=\"none\"/>\n",
              "    <path d=\"M18.56 5.44l.94 2.06.94-2.06 2.06-.94-2.06-.94-.94-2.06-.94 2.06-2.06.94zm-11 1L8.5 8.5l.94-2.06 2.06-.94-2.06-.94L8.5 2.5l-.94 2.06-2.06.94zm10 10l.94 2.06.94-2.06 2.06-.94-2.06-.94-.94-2.06-.94 2.06-2.06.94z\"/><path d=\"M17.41 7.96l-1.37-1.37c-.4-.4-.92-.59-1.43-.59-.52 0-1.04.2-1.43.59L10.3 9.45l-7.72 7.72c-.78.78-.78 2.05 0 2.83L4 21.41c.39.39.9.59 1.41.59.51 0 1.02-.2 1.41-.59l7.78-7.78 2.81-2.81c.8-.78.8-2.07 0-2.86zM5.41 20L4 18.59l7.72-7.72 1.47 1.35L5.41 20z\"/>\n",
              "  </svg>\n",
              "      </button>\n",
              "      \n",
              "  <style>\n",
              "    .colab-df-container {\n",
              "      display:flex;\n",
              "      flex-wrap:wrap;\n",
              "      gap: 12px;\n",
              "    }\n",
              "\n",
              "    .colab-df-convert {\n",
              "      background-color: #E8F0FE;\n",
              "      border: none;\n",
              "      border-radius: 50%;\n",
              "      cursor: pointer;\n",
              "      display: none;\n",
              "      fill: #1967D2;\n",
              "      height: 32px;\n",
              "      padding: 0 0 0 0;\n",
              "      width: 32px;\n",
              "    }\n",
              "\n",
              "    .colab-df-convert:hover {\n",
              "      background-color: #E2EBFA;\n",
              "      box-shadow: 0px 1px 2px rgba(60, 64, 67, 0.3), 0px 1px 3px 1px rgba(60, 64, 67, 0.15);\n",
              "      fill: #174EA6;\n",
              "    }\n",
              "\n",
              "    [theme=dark] .colab-df-convert {\n",
              "      background-color: #3B4455;\n",
              "      fill: #D2E3FC;\n",
              "    }\n",
              "\n",
              "    [theme=dark] .colab-df-convert:hover {\n",
              "      background-color: #434B5C;\n",
              "      box-shadow: 0px 1px 3px 1px rgba(0, 0, 0, 0.15);\n",
              "      filter: drop-shadow(0px 1px 2px rgba(0, 0, 0, 0.3));\n",
              "      fill: #FFFFFF;\n",
              "    }\n",
              "  </style>\n",
              "\n",
              "      <script>\n",
              "        const buttonEl =\n",
              "          document.querySelector('#df-d4c85f50-9a8f-4c6b-ac19-93b9765b74aa button.colab-df-convert');\n",
              "        buttonEl.style.display =\n",
              "          google.colab.kernel.accessAllowed ? 'block' : 'none';\n",
              "\n",
              "        async function convertToInteractive(key) {\n",
              "          const element = document.querySelector('#df-d4c85f50-9a8f-4c6b-ac19-93b9765b74aa');\n",
              "          const dataTable =\n",
              "            await google.colab.kernel.invokeFunction('convertToInteractive',\n",
              "                                                     [key], {});\n",
              "          if (!dataTable) return;\n",
              "\n",
              "          const docLinkHtml = 'Like what you see? Visit the ' +\n",
              "            '<a target=\"_blank\" href=https://colab.research.google.com/notebooks/data_table.ipynb>data table notebook</a>'\n",
              "            + ' to learn more about interactive tables.';\n",
              "          element.innerHTML = '';\n",
              "          dataTable['output_type'] = 'display_data';\n",
              "          await google.colab.output.renderOutput(dataTable, element);\n",
              "          const docLink = document.createElement('div');\n",
              "          docLink.innerHTML = docLinkHtml;\n",
              "          element.appendChild(docLink);\n",
              "        }\n",
              "      </script>\n",
              "    </div>\n",
              "  </div>\n",
              "  "
            ]
          },
          "metadata": {},
          "execution_count": 47
        }
      ]
    },
    {
      "cell_type": "code",
      "source": [
        "\n",
        "df1.drop('Unnamed: 0',axis = 1,inplace = True)\n",
        "df2.drop('Unnamed: 0',axis = 1,inplace = True)\n",
        "df3.drop('Unnamed: 0',axis = 1,inplace = True)\n",
        "df4.drop('Unnamed: 0',axis = 1,inplace = True)\n",
        "df5.drop('Unnamed: 0',axis = 1,inplace = True)"
      ],
      "metadata": {
        "id": "Y3PRkgMePLtM"
      },
      "execution_count": 48,
      "outputs": []
    },
    {
      "cell_type": "code",
      "source": [
        "df1.head()"
      ],
      "metadata": {
        "colab": {
          "base_uri": "https://localhost:8080/",
          "height": 206
        },
        "id": "uhWd_eJzPWz5",
        "outputId": "92503575-5506-43fb-efba-150e74a703e6"
      },
      "execution_count": 49,
      "outputs": [
        {
          "output_type": "execute_result",
          "data": {
            "text/plain": [
              "   Internalpatientid  Age at update             Event date Marital status  \\\n",
              "0             101984      64.882403  2020-07-30 12:26:07.0        Married   \n",
              "1             102905      79.456365  2022-05-06 07:13:46.0        Married   \n",
              "2             103133     100.560119  2017-08-28 17:22:05.0        Married   \n",
              "3              10351      92.317781  2018-04-11 03:34:37.0        Married   \n",
              "4             105402      85.572665  2021-08-09 19:25:16.0      Separated   \n",
              "\n",
              "  Ruca category  \n",
              "0         Urban  \n",
              "1         Urban  \n",
              "2         Urban  \n",
              "3         Rural  \n",
              "4         Urban  "
            ],
            "text/html": [
              "\n",
              "  <div id=\"df-1b55888e-9646-4e1d-b95e-61b495158da2\">\n",
              "    <div class=\"colab-df-container\">\n",
              "      <div>\n",
              "<style scoped>\n",
              "    .dataframe tbody tr th:only-of-type {\n",
              "        vertical-align: middle;\n",
              "    }\n",
              "\n",
              "    .dataframe tbody tr th {\n",
              "        vertical-align: top;\n",
              "    }\n",
              "\n",
              "    .dataframe thead th {\n",
              "        text-align: right;\n",
              "    }\n",
              "</style>\n",
              "<table border=\"1\" class=\"dataframe\">\n",
              "  <thead>\n",
              "    <tr style=\"text-align: right;\">\n",
              "      <th></th>\n",
              "      <th>Internalpatientid</th>\n",
              "      <th>Age at update</th>\n",
              "      <th>Event date</th>\n",
              "      <th>Marital status</th>\n",
              "      <th>Ruca category</th>\n",
              "    </tr>\n",
              "  </thead>\n",
              "  <tbody>\n",
              "    <tr>\n",
              "      <th>0</th>\n",
              "      <td>101984</td>\n",
              "      <td>64.882403</td>\n",
              "      <td>2020-07-30 12:26:07.0</td>\n",
              "      <td>Married</td>\n",
              "      <td>Urban</td>\n",
              "    </tr>\n",
              "    <tr>\n",
              "      <th>1</th>\n",
              "      <td>102905</td>\n",
              "      <td>79.456365</td>\n",
              "      <td>2022-05-06 07:13:46.0</td>\n",
              "      <td>Married</td>\n",
              "      <td>Urban</td>\n",
              "    </tr>\n",
              "    <tr>\n",
              "      <th>2</th>\n",
              "      <td>103133</td>\n",
              "      <td>100.560119</td>\n",
              "      <td>2017-08-28 17:22:05.0</td>\n",
              "      <td>Married</td>\n",
              "      <td>Urban</td>\n",
              "    </tr>\n",
              "    <tr>\n",
              "      <th>3</th>\n",
              "      <td>10351</td>\n",
              "      <td>92.317781</td>\n",
              "      <td>2018-04-11 03:34:37.0</td>\n",
              "      <td>Married</td>\n",
              "      <td>Rural</td>\n",
              "    </tr>\n",
              "    <tr>\n",
              "      <th>4</th>\n",
              "      <td>105402</td>\n",
              "      <td>85.572665</td>\n",
              "      <td>2021-08-09 19:25:16.0</td>\n",
              "      <td>Separated</td>\n",
              "      <td>Urban</td>\n",
              "    </tr>\n",
              "  </tbody>\n",
              "</table>\n",
              "</div>\n",
              "      <button class=\"colab-df-convert\" onclick=\"convertToInteractive('df-1b55888e-9646-4e1d-b95e-61b495158da2')\"\n",
              "              title=\"Convert this dataframe to an interactive table.\"\n",
              "              style=\"display:none;\">\n",
              "        \n",
              "  <svg xmlns=\"http://www.w3.org/2000/svg\" height=\"24px\"viewBox=\"0 0 24 24\"\n",
              "       width=\"24px\">\n",
              "    <path d=\"M0 0h24v24H0V0z\" fill=\"none\"/>\n",
              "    <path d=\"M18.56 5.44l.94 2.06.94-2.06 2.06-.94-2.06-.94-.94-2.06-.94 2.06-2.06.94zm-11 1L8.5 8.5l.94-2.06 2.06-.94-2.06-.94L8.5 2.5l-.94 2.06-2.06.94zm10 10l.94 2.06.94-2.06 2.06-.94-2.06-.94-.94-2.06-.94 2.06-2.06.94z\"/><path d=\"M17.41 7.96l-1.37-1.37c-.4-.4-.92-.59-1.43-.59-.52 0-1.04.2-1.43.59L10.3 9.45l-7.72 7.72c-.78.78-.78 2.05 0 2.83L4 21.41c.39.39.9.59 1.41.59.51 0 1.02-.2 1.41-.59l7.78-7.78 2.81-2.81c.8-.78.8-2.07 0-2.86zM5.41 20L4 18.59l7.72-7.72 1.47 1.35L5.41 20z\"/>\n",
              "  </svg>\n",
              "      </button>\n",
              "      \n",
              "  <style>\n",
              "    .colab-df-container {\n",
              "      display:flex;\n",
              "      flex-wrap:wrap;\n",
              "      gap: 12px;\n",
              "    }\n",
              "\n",
              "    .colab-df-convert {\n",
              "      background-color: #E8F0FE;\n",
              "      border: none;\n",
              "      border-radius: 50%;\n",
              "      cursor: pointer;\n",
              "      display: none;\n",
              "      fill: #1967D2;\n",
              "      height: 32px;\n",
              "      padding: 0 0 0 0;\n",
              "      width: 32px;\n",
              "    }\n",
              "\n",
              "    .colab-df-convert:hover {\n",
              "      background-color: #E2EBFA;\n",
              "      box-shadow: 0px 1px 2px rgba(60, 64, 67, 0.3), 0px 1px 3px 1px rgba(60, 64, 67, 0.15);\n",
              "      fill: #174EA6;\n",
              "    }\n",
              "\n",
              "    [theme=dark] .colab-df-convert {\n",
              "      background-color: #3B4455;\n",
              "      fill: #D2E3FC;\n",
              "    }\n",
              "\n",
              "    [theme=dark] .colab-df-convert:hover {\n",
              "      background-color: #434B5C;\n",
              "      box-shadow: 0px 1px 3px 1px rgba(0, 0, 0, 0.15);\n",
              "      filter: drop-shadow(0px 1px 2px rgba(0, 0, 0, 0.3));\n",
              "      fill: #FFFFFF;\n",
              "    }\n",
              "  </style>\n",
              "\n",
              "      <script>\n",
              "        const buttonEl =\n",
              "          document.querySelector('#df-1b55888e-9646-4e1d-b95e-61b495158da2 button.colab-df-convert');\n",
              "        buttonEl.style.display =\n",
              "          google.colab.kernel.accessAllowed ? 'block' : 'none';\n",
              "\n",
              "        async function convertToInteractive(key) {\n",
              "          const element = document.querySelector('#df-1b55888e-9646-4e1d-b95e-61b495158da2');\n",
              "          const dataTable =\n",
              "            await google.colab.kernel.invokeFunction('convertToInteractive',\n",
              "                                                     [key], {});\n",
              "          if (!dataTable) return;\n",
              "\n",
              "          const docLinkHtml = 'Like what you see? Visit the ' +\n",
              "            '<a target=\"_blank\" href=https://colab.research.google.com/notebooks/data_table.ipynb>data table notebook</a>'\n",
              "            + ' to learn more about interactive tables.';\n",
              "          element.innerHTML = '';\n",
              "          dataTable['output_type'] = 'display_data';\n",
              "          await google.colab.output.renderOutput(dataTable, element);\n",
              "          const docLink = document.createElement('div');\n",
              "          docLink.innerHTML = docLinkHtml;\n",
              "          element.appendChild(docLink);\n",
              "        }\n",
              "      </script>\n",
              "    </div>\n",
              "  </div>\n",
              "  "
            ]
          },
          "metadata": {},
          "execution_count": 49
        }
      ]
    },
    {
      "cell_type": "code",
      "source": [
        "df1.info()"
      ],
      "metadata": {
        "colab": {
          "base_uri": "https://localhost:8080/"
        },
        "id": "5KJfjbL1Pbd-",
        "outputId": "3a5872ea-a9c2-4d4d-a7c4-67940d36d492"
      },
      "execution_count": 50,
      "outputs": [
        {
          "output_type": "stream",
          "name": "stdout",
          "text": [
            "<class 'pandas.core.frame.DataFrame'>\n",
            "RangeIndex: 1000 entries, 0 to 999\n",
            "Data columns (total 5 columns):\n",
            " #   Column             Non-Null Count  Dtype  \n",
            "---  ------             --------------  -----  \n",
            " 0   Internalpatientid  1000 non-null   int64  \n",
            " 1   Age at update      1000 non-null   float64\n",
            " 2   Event date         1000 non-null   object \n",
            " 3   Marital status     1000 non-null   object \n",
            " 4   Ruca category      1000 non-null   object \n",
            "dtypes: float64(1), int64(1), object(3)\n",
            "memory usage: 39.2+ KB\n"
          ]
        }
      ]
    },
    {
      "cell_type": "code",
      "source": [
        "df1.isnull().sum()"
      ],
      "metadata": {
        "colab": {
          "base_uri": "https://localhost:8080/"
        },
        "id": "nlPu5aLCPgiZ",
        "outputId": "cc288d41-a6b6-41dc-a4f2-4419829549de"
      },
      "execution_count": 51,
      "outputs": [
        {
          "output_type": "execute_result",
          "data": {
            "text/plain": [
              "Internalpatientid    0\n",
              "Age at update        0\n",
              "Event date           0\n",
              "Marital status       0\n",
              "Ruca category        0\n",
              "dtype: int64"
            ]
          },
          "metadata": {},
          "execution_count": 51
        }
      ]
    },
    {
      "cell_type": "code",
      "source": [
        "\n",
        "# split the DateTime column into separate Date and Time columns\n",
        "df1[['Date', 'Time']] = df1['Event date'].str.split(' ', expand=True)\n",
        "     "
      ],
      "metadata": {
        "id": "LgoOfRWTPlaz"
      },
      "execution_count": 52,
      "outputs": []
    },
    {
      "cell_type": "code",
      "source": [
        "\n",
        "df1.drop('Event date',axis = 1,inplace = True)\n",
        "df1.head()"
      ],
      "metadata": {
        "colab": {
          "base_uri": "https://localhost:8080/",
          "height": 206
        },
        "id": "UtJZB1hDPo44",
        "outputId": "d5ef95f6-e621-4807-aebe-7c76cda662c3"
      },
      "execution_count": 53,
      "outputs": [
        {
          "output_type": "execute_result",
          "data": {
            "text/plain": [
              "   Internalpatientid  Age at update Marital status Ruca category        Date  \\\n",
              "0             101984      64.882403        Married         Urban  2020-07-30   \n",
              "1             102905      79.456365        Married         Urban  2022-05-06   \n",
              "2             103133     100.560119        Married         Urban  2017-08-28   \n",
              "3              10351      92.317781        Married         Rural  2018-04-11   \n",
              "4             105402      85.572665      Separated         Urban  2021-08-09   \n",
              "\n",
              "         Time  \n",
              "0  12:26:07.0  \n",
              "1  07:13:46.0  \n",
              "2  17:22:05.0  \n",
              "3  03:34:37.0  \n",
              "4  19:25:16.0  "
            ],
            "text/html": [
              "\n",
              "  <div id=\"df-49b3826a-721b-43b0-bf80-e893553f1fc6\">\n",
              "    <div class=\"colab-df-container\">\n",
              "      <div>\n",
              "<style scoped>\n",
              "    .dataframe tbody tr th:only-of-type {\n",
              "        vertical-align: middle;\n",
              "    }\n",
              "\n",
              "    .dataframe tbody tr th {\n",
              "        vertical-align: top;\n",
              "    }\n",
              "\n",
              "    .dataframe thead th {\n",
              "        text-align: right;\n",
              "    }\n",
              "</style>\n",
              "<table border=\"1\" class=\"dataframe\">\n",
              "  <thead>\n",
              "    <tr style=\"text-align: right;\">\n",
              "      <th></th>\n",
              "      <th>Internalpatientid</th>\n",
              "      <th>Age at update</th>\n",
              "      <th>Marital status</th>\n",
              "      <th>Ruca category</th>\n",
              "      <th>Date</th>\n",
              "      <th>Time</th>\n",
              "    </tr>\n",
              "  </thead>\n",
              "  <tbody>\n",
              "    <tr>\n",
              "      <th>0</th>\n",
              "      <td>101984</td>\n",
              "      <td>64.882403</td>\n",
              "      <td>Married</td>\n",
              "      <td>Urban</td>\n",
              "      <td>2020-07-30</td>\n",
              "      <td>12:26:07.0</td>\n",
              "    </tr>\n",
              "    <tr>\n",
              "      <th>1</th>\n",
              "      <td>102905</td>\n",
              "      <td>79.456365</td>\n",
              "      <td>Married</td>\n",
              "      <td>Urban</td>\n",
              "      <td>2022-05-06</td>\n",
              "      <td>07:13:46.0</td>\n",
              "    </tr>\n",
              "    <tr>\n",
              "      <th>2</th>\n",
              "      <td>103133</td>\n",
              "      <td>100.560119</td>\n",
              "      <td>Married</td>\n",
              "      <td>Urban</td>\n",
              "      <td>2017-08-28</td>\n",
              "      <td>17:22:05.0</td>\n",
              "    </tr>\n",
              "    <tr>\n",
              "      <th>3</th>\n",
              "      <td>10351</td>\n",
              "      <td>92.317781</td>\n",
              "      <td>Married</td>\n",
              "      <td>Rural</td>\n",
              "      <td>2018-04-11</td>\n",
              "      <td>03:34:37.0</td>\n",
              "    </tr>\n",
              "    <tr>\n",
              "      <th>4</th>\n",
              "      <td>105402</td>\n",
              "      <td>85.572665</td>\n",
              "      <td>Separated</td>\n",
              "      <td>Urban</td>\n",
              "      <td>2021-08-09</td>\n",
              "      <td>19:25:16.0</td>\n",
              "    </tr>\n",
              "  </tbody>\n",
              "</table>\n",
              "</div>\n",
              "      <button class=\"colab-df-convert\" onclick=\"convertToInteractive('df-49b3826a-721b-43b0-bf80-e893553f1fc6')\"\n",
              "              title=\"Convert this dataframe to an interactive table.\"\n",
              "              style=\"display:none;\">\n",
              "        \n",
              "  <svg xmlns=\"http://www.w3.org/2000/svg\" height=\"24px\"viewBox=\"0 0 24 24\"\n",
              "       width=\"24px\">\n",
              "    <path d=\"M0 0h24v24H0V0z\" fill=\"none\"/>\n",
              "    <path d=\"M18.56 5.44l.94 2.06.94-2.06 2.06-.94-2.06-.94-.94-2.06-.94 2.06-2.06.94zm-11 1L8.5 8.5l.94-2.06 2.06-.94-2.06-.94L8.5 2.5l-.94 2.06-2.06.94zm10 10l.94 2.06.94-2.06 2.06-.94-2.06-.94-.94-2.06-.94 2.06-2.06.94z\"/><path d=\"M17.41 7.96l-1.37-1.37c-.4-.4-.92-.59-1.43-.59-.52 0-1.04.2-1.43.59L10.3 9.45l-7.72 7.72c-.78.78-.78 2.05 0 2.83L4 21.41c.39.39.9.59 1.41.59.51 0 1.02-.2 1.41-.59l7.78-7.78 2.81-2.81c.8-.78.8-2.07 0-2.86zM5.41 20L4 18.59l7.72-7.72 1.47 1.35L5.41 20z\"/>\n",
              "  </svg>\n",
              "      </button>\n",
              "      \n",
              "  <style>\n",
              "    .colab-df-container {\n",
              "      display:flex;\n",
              "      flex-wrap:wrap;\n",
              "      gap: 12px;\n",
              "    }\n",
              "\n",
              "    .colab-df-convert {\n",
              "      background-color: #E8F0FE;\n",
              "      border: none;\n",
              "      border-radius: 50%;\n",
              "      cursor: pointer;\n",
              "      display: none;\n",
              "      fill: #1967D2;\n",
              "      height: 32px;\n",
              "      padding: 0 0 0 0;\n",
              "      width: 32px;\n",
              "    }\n",
              "\n",
              "    .colab-df-convert:hover {\n",
              "      background-color: #E2EBFA;\n",
              "      box-shadow: 0px 1px 2px rgba(60, 64, 67, 0.3), 0px 1px 3px 1px rgba(60, 64, 67, 0.15);\n",
              "      fill: #174EA6;\n",
              "    }\n",
              "\n",
              "    [theme=dark] .colab-df-convert {\n",
              "      background-color: #3B4455;\n",
              "      fill: #D2E3FC;\n",
              "    }\n",
              "\n",
              "    [theme=dark] .colab-df-convert:hover {\n",
              "      background-color: #434B5C;\n",
              "      box-shadow: 0px 1px 3px 1px rgba(0, 0, 0, 0.15);\n",
              "      filter: drop-shadow(0px 1px 2px rgba(0, 0, 0, 0.3));\n",
              "      fill: #FFFFFF;\n",
              "    }\n",
              "  </style>\n",
              "\n",
              "      <script>\n",
              "        const buttonEl =\n",
              "          document.querySelector('#df-49b3826a-721b-43b0-bf80-e893553f1fc6 button.colab-df-convert');\n",
              "        buttonEl.style.display =\n",
              "          google.colab.kernel.accessAllowed ? 'block' : 'none';\n",
              "\n",
              "        async function convertToInteractive(key) {\n",
              "          const element = document.querySelector('#df-49b3826a-721b-43b0-bf80-e893553f1fc6');\n",
              "          const dataTable =\n",
              "            await google.colab.kernel.invokeFunction('convertToInteractive',\n",
              "                                                     [key], {});\n",
              "          if (!dataTable) return;\n",
              "\n",
              "          const docLinkHtml = 'Like what you see? Visit the ' +\n",
              "            '<a target=\"_blank\" href=https://colab.research.google.com/notebooks/data_table.ipynb>data table notebook</a>'\n",
              "            + ' to learn more about interactive tables.';\n",
              "          element.innerHTML = '';\n",
              "          dataTable['output_type'] = 'display_data';\n",
              "          await google.colab.output.renderOutput(dataTable, element);\n",
              "          const docLink = document.createElement('div');\n",
              "          docLink.innerHTML = docLinkHtml;\n",
              "          element.appendChild(docLink);\n",
              "        }\n",
              "      </script>\n",
              "    </div>\n",
              "  </div>\n",
              "  "
            ]
          },
          "metadata": {},
          "execution_count": 53
        }
      ]
    },
    {
      "cell_type": "code",
      "source": [
        "df1.shape"
      ],
      "metadata": {
        "colab": {
          "base_uri": "https://localhost:8080/"
        },
        "id": "20blhGcZPt_g",
        "outputId": "51b8195c-7641-4387-9593-d04ea37447f1"
      },
      "execution_count": 54,
      "outputs": [
        {
          "output_type": "execute_result",
          "data": {
            "text/plain": [
              "(1000, 6)"
            ]
          },
          "metadata": {},
          "execution_count": 54
        }
      ]
    },
    {
      "cell_type": "code",
      "source": [
        "df1.rename(columns={'Marital status': 'Marital_status', 'Age at update':'Age_at_update','Ruca category':'Ruca_category'},inplace = True)\n",
        "df1.head()\n",
        "     "
      ],
      "metadata": {
        "colab": {
          "base_uri": "https://localhost:8080/",
          "height": 206
        },
        "id": "ZumQx_K0P4Uf",
        "outputId": "a5523a44-3a15-41c0-ffd2-7a48a438c5f9"
      },
      "execution_count": 55,
      "outputs": [
        {
          "output_type": "execute_result",
          "data": {
            "text/plain": [
              "   Internalpatientid  Age_at_update Marital_status Ruca_category        Date  \\\n",
              "0             101984      64.882403        Married         Urban  2020-07-30   \n",
              "1             102905      79.456365        Married         Urban  2022-05-06   \n",
              "2             103133     100.560119        Married         Urban  2017-08-28   \n",
              "3              10351      92.317781        Married         Rural  2018-04-11   \n",
              "4             105402      85.572665      Separated         Urban  2021-08-09   \n",
              "\n",
              "         Time  \n",
              "0  12:26:07.0  \n",
              "1  07:13:46.0  \n",
              "2  17:22:05.0  \n",
              "3  03:34:37.0  \n",
              "4  19:25:16.0  "
            ],
            "text/html": [
              "\n",
              "  <div id=\"df-5c35d85e-ff13-4e0b-b27f-28a2ce955cae\">\n",
              "    <div class=\"colab-df-container\">\n",
              "      <div>\n",
              "<style scoped>\n",
              "    .dataframe tbody tr th:only-of-type {\n",
              "        vertical-align: middle;\n",
              "    }\n",
              "\n",
              "    .dataframe tbody tr th {\n",
              "        vertical-align: top;\n",
              "    }\n",
              "\n",
              "    .dataframe thead th {\n",
              "        text-align: right;\n",
              "    }\n",
              "</style>\n",
              "<table border=\"1\" class=\"dataframe\">\n",
              "  <thead>\n",
              "    <tr style=\"text-align: right;\">\n",
              "      <th></th>\n",
              "      <th>Internalpatientid</th>\n",
              "      <th>Age_at_update</th>\n",
              "      <th>Marital_status</th>\n",
              "      <th>Ruca_category</th>\n",
              "      <th>Date</th>\n",
              "      <th>Time</th>\n",
              "    </tr>\n",
              "  </thead>\n",
              "  <tbody>\n",
              "    <tr>\n",
              "      <th>0</th>\n",
              "      <td>101984</td>\n",
              "      <td>64.882403</td>\n",
              "      <td>Married</td>\n",
              "      <td>Urban</td>\n",
              "      <td>2020-07-30</td>\n",
              "      <td>12:26:07.0</td>\n",
              "    </tr>\n",
              "    <tr>\n",
              "      <th>1</th>\n",
              "      <td>102905</td>\n",
              "      <td>79.456365</td>\n",
              "      <td>Married</td>\n",
              "      <td>Urban</td>\n",
              "      <td>2022-05-06</td>\n",
              "      <td>07:13:46.0</td>\n",
              "    </tr>\n",
              "    <tr>\n",
              "      <th>2</th>\n",
              "      <td>103133</td>\n",
              "      <td>100.560119</td>\n",
              "      <td>Married</td>\n",
              "      <td>Urban</td>\n",
              "      <td>2017-08-28</td>\n",
              "      <td>17:22:05.0</td>\n",
              "    </tr>\n",
              "    <tr>\n",
              "      <th>3</th>\n",
              "      <td>10351</td>\n",
              "      <td>92.317781</td>\n",
              "      <td>Married</td>\n",
              "      <td>Rural</td>\n",
              "      <td>2018-04-11</td>\n",
              "      <td>03:34:37.0</td>\n",
              "    </tr>\n",
              "    <tr>\n",
              "      <th>4</th>\n",
              "      <td>105402</td>\n",
              "      <td>85.572665</td>\n",
              "      <td>Separated</td>\n",
              "      <td>Urban</td>\n",
              "      <td>2021-08-09</td>\n",
              "      <td>19:25:16.0</td>\n",
              "    </tr>\n",
              "  </tbody>\n",
              "</table>\n",
              "</div>\n",
              "      <button class=\"colab-df-convert\" onclick=\"convertToInteractive('df-5c35d85e-ff13-4e0b-b27f-28a2ce955cae')\"\n",
              "              title=\"Convert this dataframe to an interactive table.\"\n",
              "              style=\"display:none;\">\n",
              "        \n",
              "  <svg xmlns=\"http://www.w3.org/2000/svg\" height=\"24px\"viewBox=\"0 0 24 24\"\n",
              "       width=\"24px\">\n",
              "    <path d=\"M0 0h24v24H0V0z\" fill=\"none\"/>\n",
              "    <path d=\"M18.56 5.44l.94 2.06.94-2.06 2.06-.94-2.06-.94-.94-2.06-.94 2.06-2.06.94zm-11 1L8.5 8.5l.94-2.06 2.06-.94-2.06-.94L8.5 2.5l-.94 2.06-2.06.94zm10 10l.94 2.06.94-2.06 2.06-.94-2.06-.94-.94-2.06-.94 2.06-2.06.94z\"/><path d=\"M17.41 7.96l-1.37-1.37c-.4-.4-.92-.59-1.43-.59-.52 0-1.04.2-1.43.59L10.3 9.45l-7.72 7.72c-.78.78-.78 2.05 0 2.83L4 21.41c.39.39.9.59 1.41.59.51 0 1.02-.2 1.41-.59l7.78-7.78 2.81-2.81c.8-.78.8-2.07 0-2.86zM5.41 20L4 18.59l7.72-7.72 1.47 1.35L5.41 20z\"/>\n",
              "  </svg>\n",
              "      </button>\n",
              "      \n",
              "  <style>\n",
              "    .colab-df-container {\n",
              "      display:flex;\n",
              "      flex-wrap:wrap;\n",
              "      gap: 12px;\n",
              "    }\n",
              "\n",
              "    .colab-df-convert {\n",
              "      background-color: #E8F0FE;\n",
              "      border: none;\n",
              "      border-radius: 50%;\n",
              "      cursor: pointer;\n",
              "      display: none;\n",
              "      fill: #1967D2;\n",
              "      height: 32px;\n",
              "      padding: 0 0 0 0;\n",
              "      width: 32px;\n",
              "    }\n",
              "\n",
              "    .colab-df-convert:hover {\n",
              "      background-color: #E2EBFA;\n",
              "      box-shadow: 0px 1px 2px rgba(60, 64, 67, 0.3), 0px 1px 3px 1px rgba(60, 64, 67, 0.15);\n",
              "      fill: #174EA6;\n",
              "    }\n",
              "\n",
              "    [theme=dark] .colab-df-convert {\n",
              "      background-color: #3B4455;\n",
              "      fill: #D2E3FC;\n",
              "    }\n",
              "\n",
              "    [theme=dark] .colab-df-convert:hover {\n",
              "      background-color: #434B5C;\n",
              "      box-shadow: 0px 1px 3px 1px rgba(0, 0, 0, 0.15);\n",
              "      filter: drop-shadow(0px 1px 2px rgba(0, 0, 0, 0.3));\n",
              "      fill: #FFFFFF;\n",
              "    }\n",
              "  </style>\n",
              "\n",
              "      <script>\n",
              "        const buttonEl =\n",
              "          document.querySelector('#df-5c35d85e-ff13-4e0b-b27f-28a2ce955cae button.colab-df-convert');\n",
              "        buttonEl.style.display =\n",
              "          google.colab.kernel.accessAllowed ? 'block' : 'none';\n",
              "\n",
              "        async function convertToInteractive(key) {\n",
              "          const element = document.querySelector('#df-5c35d85e-ff13-4e0b-b27f-28a2ce955cae');\n",
              "          const dataTable =\n",
              "            await google.colab.kernel.invokeFunction('convertToInteractive',\n",
              "                                                     [key], {});\n",
              "          if (!dataTable) return;\n",
              "\n",
              "          const docLinkHtml = 'Like what you see? Visit the ' +\n",
              "            '<a target=\"_blank\" href=https://colab.research.google.com/notebooks/data_table.ipynb>data table notebook</a>'\n",
              "            + ' to learn more about interactive tables.';\n",
              "          element.innerHTML = '';\n",
              "          dataTable['output_type'] = 'display_data';\n",
              "          await google.colab.output.renderOutput(dataTable, element);\n",
              "          const docLink = document.createElement('div');\n",
              "          docLink.innerHTML = docLinkHtml;\n",
              "          element.appendChild(docLink);\n",
              "        }\n",
              "      </script>\n",
              "    </div>\n",
              "  </div>\n",
              "  "
            ]
          },
          "metadata": {},
          "execution_count": 55
        }
      ]
    },
    {
      "cell_type": "code",
      "source": [
        "\n",
        "df1.Marital_status.unique()"
      ],
      "metadata": {
        "colab": {
          "base_uri": "https://localhost:8080/"
        },
        "id": "E1JFXZh6QADn",
        "outputId": "aefccff2-2fac-4db1-b43e-66e386b8dba8"
      },
      "execution_count": 56,
      "outputs": [
        {
          "output_type": "execute_result",
          "data": {
            "text/plain": [
              "array(['Married', 'Separated', 'Unknown', 'Widowed', 'Never married',\n",
              "       'Divorced', 'Single', 'Not specified (no value)'], dtype=object)"
            ]
          },
          "metadata": {},
          "execution_count": 56
        }
      ]
    },
    {
      "cell_type": "code",
      "source": [
        "df1.Marital_status.value_counts()"
      ],
      "metadata": {
        "colab": {
          "base_uri": "https://localhost:8080/"
        },
        "id": "y0tM-8fQQDZC",
        "outputId": "d456724e-d351-4f6a-9403-9247cfaedf39"
      },
      "execution_count": 57,
      "outputs": [
        {
          "output_type": "execute_result",
          "data": {
            "text/plain": [
              "Married                     569\n",
              "Divorced                    184\n",
              "Widowed                     132\n",
              "Never married                86\n",
              "Separated                    21\n",
              "Unknown                       5\n",
              "Not specified (no value)      2\n",
              "Single                        1\n",
              "Name: Marital_status, dtype: int64"
            ]
          },
          "metadata": {},
          "execution_count": 57
        }
      ]
    },
    {
      "cell_type": "code",
      "source": [
        "\n",
        "df1.Ruca_category.value_counts()"
      ],
      "metadata": {
        "colab": {
          "base_uri": "https://localhost:8080/"
        },
        "id": "vS3MwSxwQGfU",
        "outputId": "7907fe1e-f489-4649-d32e-8474f258ca6e"
      },
      "execution_count": 58,
      "outputs": [
        {
          "output_type": "execute_result",
          "data": {
            "text/plain": [
              "Urban            650\n",
              "Rural            330\n",
              "Highly rural      14\n",
              "Not specified      6\n",
              "Name: Ruca_category, dtype: int64"
            ]
          },
          "metadata": {},
          "execution_count": 58
        }
      ]
    },
    {
      "cell_type": "code",
      "source": [
        "# Create the countplot\n",
        "plt.figure(figsize=(20,4))\n",
        "sns.countplot(x=\"Marital_status\", data=df1)\n",
        "\n",
        "# Add labels and title\n",
        "plt.xlabel(\"MARITAL STATUS\")\n",
        "plt.ylabel(\"COUNT\")\n",
        "plt.title(\"Countplot of Marital Status \")\n",
        "# Adjust the width between variables\n",
        "\n",
        "\n",
        "# Show the plot\n",
        "plt.show()"
      ],
      "metadata": {
        "colab": {
          "base_uri": "https://localhost:8080/",
          "height": 259
        },
        "id": "-qreJQvHQJWX",
        "outputId": "209c2013-5b6d-4121-f3f8-8af9c9de04ce"
      },
      "execution_count": 59,
      "outputs": [
        {
          "output_type": "display_data",
          "data": {
            "text/plain": [
              "<Figure size 2000x400 with 1 Axes>"
            ],
            "image/png": "[encoded data removed]"
          },
          "metadata": {}
        }
      ]
    },
    {
      "cell_type": "code",
      "source": [
        "# Create the countplot\n",
        "sns.countplot(x=\"Ruca_category\", data=df1)\n",
        "\n",
        "# Add labels and title\n",
        "plt.xlabel(\"Ruca_categories\t\")\n",
        "plt.ylabel(\"Count\")\n",
        "plt.title(\"Countplot of RUca category\")\n",
        "\n",
        "# Show the plot\n",
        "plt.show()"
      ],
      "metadata": {
        "colab": {
          "base_uri": "https://localhost:8080/",
          "height": 508
        },
        "id": "zPfGsAWbQOhv",
        "outputId": "ebabce9c-75e4-4c96-b417-916a36aeb3b3"
      },
      "execution_count": 60,
      "outputs": [
        {
          "output_type": "stream",
          "name": "stderr",
          "text": [
            "/usr/local/lib/python3.10/dist-packages/IPython/core/pylabtools.py:151: UserWarning: Glyph 9 (\t) missing from current font.\n",
            "  fig.canvas.print_figure(bytes_io, **kw)\n"
          ]
        },
        {
          "output_type": "display_data",
          "data": {
            "text/plain": [
              "<Figure size 640x480 with 1 Axes>"
            ],
            "image/png": "[encoded data removed]"
          },
          "metadata": {}
        }
      ]
    },
    {
      "cell_type": "code",
      "source": [
        "sns.boxplot(x='Ruca_category', y='Age_at_update', data=df1)\n",
        "plt.show()\n",
        "     "
      ],
      "metadata": {
        "colab": {
          "base_uri": "https://localhost:8080/",
          "height": 449
        },
        "id": "RmQUY56LQR1V",
        "outputId": "66317f0c-1a52-4dcd-bb2e-60bed2ecfd86"
      },
      "execution_count": 61,
      "outputs": [
        {
          "output_type": "display_data",
          "data": {
            "text/plain": [
              "<Figure size 640x480 with 1 Axes>"
            ],
            "image/png": "[encoded data removed]"
          },
          "metadata": {}
        }
      ]
    },
    {
      "cell_type": "code",
      "source": [
        "sns.boxplot(x='Marital_status', y='Age_at_update', data=df1)\n",
        "plt.show()"
      ],
      "metadata": {
        "colab": {
          "base_uri": "https://localhost:8080/",
          "height": 450
        },
        "id": "-ulPyt7OQUaM",
        "outputId": "5a201eb4-68f5-4e0c-cb1c-aa061318032a"
      },
      "execution_count": 62,
      "outputs": [
        {
          "output_type": "display_data",
          "data": {
            "text/plain": [
              "<Figure size 640x480 with 1 Axes>"
            ],
            "image/png": "[encoded data removed]"
          },
          "metadata": {}
        }
      ]
    },
    {
      "cell_type": "code",
      "source": [
        "# Create a density plot\n",
        "sns.kdeplot(data=df1, x=\"Age_at_update\")"
      ],
      "metadata": {
        "colab": {
          "base_uri": "https://localhost:8080/",
          "height": 468
        },
        "id": "oEGeB2hvQuuz",
        "outputId": "1afac4bc-03d9-41cd-d584-c1e056fda8f8"
      },
      "execution_count": 63,
      "outputs": [
        {
          "output_type": "execute_result",
          "data": {
            "text/plain": [
              "<Axes: xlabel='Age_at_update', ylabel='Density'>"
            ]
          },
          "metadata": {},
          "execution_count": 63
        },
        {
          "output_type": "display_data",
          "data": {
            "text/plain": [
              "<Figure size 640x480 with 1 Axes>"
            ],
            "image/png": "[encoded data removed]"
          },
          "metadata": {}
        }
      ]
    },
    {
      "cell_type": "markdown",
      "source": [
        "## **DEMOGRAPHIC STATIC**"
      ],
      "metadata": {
        "id": "PQJ3TxFNTnUD"
      }
    },
    {
      "cell_type": "code",
      "source": [
        "df2.head()"
      ],
      "metadata": {
        "colab": {
          "base_uri": "https://localhost:8080/",
          "height": 206
        },
        "id": "ZCfM5H39OrTM",
        "outputId": "321acd02-c63d-475e-9820-083b16c747ad"
      },
      "execution_count": 64,
      "outputs": [
        {
          "output_type": "execute_result",
          "data": {
            "text/plain": [
              "   Internalpatientid               Ethnicity Gender  \\\n",
              "0             168899           Not specified   Male   \n",
              "1              22214  Not Hispanic or Latino   Male   \n",
              "2              24552  Not Hispanic or Latino   Male   \n",
              "3              27878           Not specified   Male   \n",
              "4              29798  Not Hispanic or Latino   Male   \n",
              "\n",
              "                       Races Veteran flag  \n",
              "0                      Other          Yes  \n",
              "1                      White          Yes  \n",
              "2  Black or African American          Yes  \n",
              "3   Not specified (no value)          Yes  \n",
              "4                      White          Yes  "
            ],
            "text/html": [
              "\n",
              "  <div id=\"df-bf15b4ba-8db0-43fd-8ab8-387fe16ba672\">\n",
              "    <div class=\"colab-df-container\">\n",
              "      <div>\n",
              "<style scoped>\n",
              "    .dataframe tbody tr th:only-of-type {\n",
              "        vertical-align: middle;\n",
              "    }\n",
              "\n",
              "    .dataframe tbody tr th {\n",
              "        vertical-align: top;\n",
              "    }\n",
              "\n",
              "    .dataframe thead th {\n",
              "        text-align: right;\n",
              "    }\n",
              "</style>\n",
              "<table border=\"1\" class=\"dataframe\">\n",
              "  <thead>\n",
              "    <tr style=\"text-align: right;\">\n",
              "      <th></th>\n",
              "      <th>Internalpatientid</th>\n",
              "      <th>Ethnicity</th>\n",
              "      <th>Gender</th>\n",
              "      <th>Races</th>\n",
              "      <th>Veteran flag</th>\n",
              "    </tr>\n",
              "  </thead>\n",
              "  <tbody>\n",
              "    <tr>\n",
              "      <th>0</th>\n",
              "      <td>168899</td>\n",
              "      <td>Not specified</td>\n",
              "      <td>Male</td>\n",
              "      <td>Other</td>\n",
              "      <td>Yes</td>\n",
              "    </tr>\n",
              "    <tr>\n",
              "      <th>1</th>\n",
              "      <td>22214</td>\n",
              "      <td>Not Hispanic or Latino</td>\n",
              "      <td>Male</td>\n",
              "      <td>White</td>\n",
              "      <td>Yes</td>\n",
              "    </tr>\n",
              "    <tr>\n",
              "      <th>2</th>\n",
              "      <td>24552</td>\n",
              "      <td>Not Hispanic or Latino</td>\n",
              "      <td>Male</td>\n",
              "      <td>Black or African American</td>\n",
              "      <td>Yes</td>\n",
              "    </tr>\n",
              "    <tr>\n",
              "      <th>3</th>\n",
              "      <td>27878</td>\n",
              "      <td>Not specified</td>\n",
              "      <td>Male</td>\n",
              "      <td>Not specified (no value)</td>\n",
              "      <td>Yes</td>\n",
              "    </tr>\n",
              "    <tr>\n",
              "      <th>4</th>\n",
              "      <td>29798</td>\n",
              "      <td>Not Hispanic or Latino</td>\n",
              "      <td>Male</td>\n",
              "      <td>White</td>\n",
              "      <td>Yes</td>\n",
              "    </tr>\n",
              "  </tbody>\n",
              "</table>\n",
              "</div>\n",
              "      <button class=\"colab-df-convert\" onclick=\"convertToInteractive('df-bf15b4ba-8db0-43fd-8ab8-387fe16ba672')\"\n",
              "              title=\"Convert this dataframe to an interactive table.\"\n",
              "              style=\"display:none;\">\n",
              "        \n",
              "  <svg xmlns=\"http://www.w3.org/2000/svg\" height=\"24px\"viewBox=\"0 0 24 24\"\n",
              "       width=\"24px\">\n",
              "    <path d=\"M0 0h24v24H0V0z\" fill=\"none\"/>\n",
              "    <path d=\"M18.56 5.44l.94 2.06.94-2.06 2.06-.94-2.06-.94-.94-2.06-.94 2.06-2.06.94zm-11 1L8.5 8.5l.94-2.06 2.06-.94-2.06-.94L8.5 2.5l-.94 2.06-2.06.94zm10 10l.94 2.06.94-2.06 2.06-.94-2.06-.94-.94-2.06-.94 2.06-2.06.94z\"/><path d=\"M17.41 7.96l-1.37-1.37c-.4-.4-.92-.59-1.43-.59-.52 0-1.04.2-1.43.59L10.3 9.45l-7.72 7.72c-.78.78-.78 2.05 0 2.83L4 21.41c.39.39.9.59 1.41.59.51 0 1.02-.2 1.41-.59l7.78-7.78 2.81-2.81c.8-.78.8-2.07 0-2.86zM5.41 20L4 18.59l7.72-7.72 1.47 1.35L5.41 20z\"/>\n",
              "  </svg>\n",
              "      </button>\n",
              "      \n",
              "  <style>\n",
              "    .colab-df-container {\n",
              "      display:flex;\n",
              "      flex-wrap:wrap;\n",
              "      gap: 12px;\n",
              "    }\n",
              "\n",
              "    .colab-df-convert {\n",
              "      background-color: #E8F0FE;\n",
              "      border: none;\n",
              "      border-radius: 50%;\n",
              "      cursor: pointer;\n",
              "      display: none;\n",
              "      fill: #1967D2;\n",
              "      height: 32px;\n",
              "      padding: 0 0 0 0;\n",
              "      width: 32px;\n",
              "    }\n",
              "\n",
              "    .colab-df-convert:hover {\n",
              "      background-color: #E2EBFA;\n",
              "      box-shadow: 0px 1px 2px rgba(60, 64, 67, 0.3), 0px 1px 3px 1px rgba(60, 64, 67, 0.15);\n",
              "      fill: #174EA6;\n",
              "    }\n",
              "\n",
              "    [theme=dark] .colab-df-convert {\n",
              "      background-color: #3B4455;\n",
              "      fill: #D2E3FC;\n",
              "    }\n",
              "\n",
              "    [theme=dark] .colab-df-convert:hover {\n",
              "      background-color: #434B5C;\n",
              "      box-shadow: 0px 1px 3px 1px rgba(0, 0, 0, 0.15);\n",
              "      filter: drop-shadow(0px 1px 2px rgba(0, 0, 0, 0.3));\n",
              "      fill: #FFFFFF;\n",
              "    }\n",
              "  </style>\n",
              "\n",
              "      <script>\n",
              "        const buttonEl =\n",
              "          document.querySelector('#df-bf15b4ba-8db0-43fd-8ab8-387fe16ba672 button.colab-df-convert');\n",
              "        buttonEl.style.display =\n",
              "          google.colab.kernel.accessAllowed ? 'block' : 'none';\n",
              "\n",
              "        async function convertToInteractive(key) {\n",
              "          const element = document.querySelector('#df-bf15b4ba-8db0-43fd-8ab8-387fe16ba672');\n",
              "          const dataTable =\n",
              "            await google.colab.kernel.invokeFunction('convertToInteractive',\n",
              "                                                     [key], {});\n",
              "          if (!dataTable) return;\n",
              "\n",
              "          const docLinkHtml = 'Like what you see? Visit the ' +\n",
              "            '<a target=\"_blank\" href=https://colab.research.google.com/notebooks/data_table.ipynb>data table notebook</a>'\n",
              "            + ' to learn more about interactive tables.';\n",
              "          element.innerHTML = '';\n",
              "          dataTable['output_type'] = 'display_data';\n",
              "          await google.colab.output.renderOutput(dataTable, element);\n",
              "          const docLink = document.createElement('div');\n",
              "          docLink.innerHTML = docLinkHtml;\n",
              "          element.appendChild(docLink);\n",
              "        }\n",
              "      </script>\n",
              "    </div>\n",
              "  </div>\n",
              "  "
            ]
          },
          "metadata": {},
          "execution_count": 64
        }
      ]
    },
    {
      "cell_type": "code",
      "source": [
        "df2.info()"
      ],
      "metadata": {
        "colab": {
          "base_uri": "https://localhost:8080/"
        },
        "id": "K6E4LS79RpzC",
        "outputId": "0ede593c-e7da-4d96-a885-ea43aea954f3"
      },
      "execution_count": 65,
      "outputs": [
        {
          "output_type": "stream",
          "name": "stdout",
          "text": [
            "<class 'pandas.core.frame.DataFrame'>\n",
            "RangeIndex: 1000 entries, 0 to 999\n",
            "Data columns (total 5 columns):\n",
            " #   Column             Non-Null Count  Dtype \n",
            "---  ------             --------------  ----- \n",
            " 0   Internalpatientid  1000 non-null   int64 \n",
            " 1   Ethnicity          1000 non-null   object\n",
            " 2   Gender             1000 non-null   object\n",
            " 3   Races              1000 non-null   object\n",
            " 4   Veteran flag       1000 non-null   object\n",
            "dtypes: int64(1), object(4)\n",
            "memory usage: 39.2+ KB\n"
          ]
        }
      ]
    },
    {
      "cell_type": "code",
      "source": [
        "df2.shape"
      ],
      "metadata": {
        "colab": {
          "base_uri": "https://localhost:8080/"
        },
        "id": "nOP7xVMtRuL6",
        "outputId": "a072f275-5aa4-40b2-c6af-2b81ef10f7d7"
      },
      "execution_count": 66,
      "outputs": [
        {
          "output_type": "execute_result",
          "data": {
            "text/plain": [
              "(1000, 5)"
            ]
          },
          "metadata": {},
          "execution_count": 66
        }
      ]
    },
    {
      "cell_type": "code",
      "source": [
        "# rename two of the columns by using the 'rename' method\n",
        "df2.rename(columns={'Veteran flag':'Veteran_flag'}, inplace=True)\n",
        "df2.columns"
      ],
      "metadata": {
        "colab": {
          "base_uri": "https://localhost:8080/"
        },
        "id": "wPtAxN2lRxwx",
        "outputId": "138df231-1c2e-4c32-e680-fe0cf87d648f"
      },
      "execution_count": 67,
      "outputs": [
        {
          "output_type": "execute_result",
          "data": {
            "text/plain": [
              "Index(['Internalpatientid', 'Ethnicity', 'Gender', 'Races', 'Veteran_flag'], dtype='object')"
            ]
          },
          "metadata": {},
          "execution_count": 67
        }
      ]
    },
    {
      "cell_type": "code",
      "source": [
        "\n",
        "df2.Veteran_flag.value_counts()"
      ],
      "metadata": {
        "colab": {
          "base_uri": "https://localhost:8080/"
        },
        "id": "xL8jxCPVR2NC",
        "outputId": "393f3dfe-a273-443e-cf5a-a63404e9100c"
      },
      "execution_count": 68,
      "outputs": [
        {
          "output_type": "execute_result",
          "data": {
            "text/plain": [
              "Yes    998\n",
              "No       2\n",
              "Name: Veteran_flag, dtype: int64"
            ]
          },
          "metadata": {},
          "execution_count": 68
        }
      ]
    },
    {
      "cell_type": "code",
      "source": [
        "\n",
        "df2.Races.value_counts()\n",
        "     "
      ],
      "metadata": {
        "colab": {
          "base_uri": "https://localhost:8080/"
        },
        "id": "j3adfakPR8Eb",
        "outputId": "de5c5aa9-b1f9-4c7a-bbab-a69425dbde84"
      },
      "execution_count": 69,
      "outputs": [
        {
          "output_type": "execute_result",
          "data": {
            "text/plain": [
              "White                                645\n",
              "Not specified (no value)             168\n",
              "Black or African American            117\n",
              "Other                                 55\n",
              "White ; Other                          7\n",
              "Asian                                  5\n",
              "Black or African American ; White      2\n",
              "Black or African American ; Other      1\n",
              "Name: Races, dtype: int64"
            ]
          },
          "metadata": {},
          "execution_count": 69
        }
      ]
    },
    {
      "cell_type": "code",
      "source": [
        "df2.Gender.value_counts()"
      ],
      "metadata": {
        "colab": {
          "base_uri": "https://localhost:8080/"
        },
        "id": "e2MYFO_mXZjQ",
        "outputId": "1b460863-bac0-4c6b-b8a4-c7de432f2b27"
      },
      "execution_count": 70,
      "outputs": [
        {
          "output_type": "execute_result",
          "data": {
            "text/plain": [
              "Male      976\n",
              "Female     24\n",
              "Name: Gender, dtype: int64"
            ]
          },
          "metadata": {},
          "execution_count": 70
        }
      ]
    },
    {
      "cell_type": "code",
      "source": [
        "# Create the countplot\n",
        "sns.countplot(x=\"Gender\", data=df2)\n",
        "\n",
        "# Add labels and title\n",
        "plt.xlabel(\"Gender\")\n",
        "plt.ylabel(\"Count\")\n",
        "plt.title(\"Male & Female countplot\")\n",
        "\n",
        "# Show the plot\n",
        "plt.show()\n",
        "     "
      ],
      "metadata": {
        "colab": {
          "base_uri": "https://localhost:8080/",
          "height": 472
        },
        "id": "TPGJ0H4CSAKU",
        "outputId": "a6f2467e-6069-4623-cc93-d8cbb6c510e8"
      },
      "execution_count": 71,
      "outputs": [
        {
          "output_type": "display_data",
          "data": {
            "text/plain": [
              "<Figure size 640x480 with 1 Axes>"
            ],
            "image/png": "[encoded data removed]"
          },
          "metadata": {}
        }
      ]
    },
    {
      "cell_type": "code",
      "source": [
        "df2.Races.unique()\n",
        "     "
      ],
      "metadata": {
        "colab": {
          "base_uri": "https://localhost:8080/"
        },
        "id": "FaoTmQhySCAr",
        "outputId": "fa657eaf-93f6-4993-a328-26c833924460"
      },
      "execution_count": 72,
      "outputs": [
        {
          "output_type": "execute_result",
          "data": {
            "text/plain": [
              "array(['Other', 'White', 'Black or African American',\n",
              "       'Not specified (no value)', 'Asian', 'White ; Other',\n",
              "       'Black or African American ; White',\n",
              "       'Black or African American ; Other'], dtype=object)"
            ]
          },
          "metadata": {},
          "execution_count": 72
        }
      ]
    },
    {
      "cell_type": "code",
      "source": [
        "# Create the countplot\n",
        "plt.figure(figsize=(30,6))\n",
        "sns.countplot(x=\"Races\", data=df2)\n",
        "\n",
        "# Add labels and title\n",
        "plt.xlabel(\"Races\")\n",
        "plt.ylabel(\"Count\")\n",
        "plt.title(\"Races countplot\")\n",
        "\n",
        "# Show the plot\n",
        "plt.show()"
      ],
      "metadata": {
        "id": "e2GtylHcRVbQ",
        "outputId": "c06f8730-2d21-4cdd-ba1d-6a4dec489171",
        "colab": {
          "base_uri": "https://localhost:8080/",
          "height": 245
        }
      },
      "execution_count": 137,
      "outputs": [
        {
          "output_type": "display_data",
          "data": {
            "text/plain": [
              "<Figure size 3000x600 with 1 Axes>"
            ],
            "image/png": "[encoded data removed]"
          },
          "metadata": {}
        }
      ]
    },
    {
      "cell_type": "code",
      "source": [
        "\n",
        "df2.Races.nunique()"
      ],
      "metadata": {
        "colab": {
          "base_uri": "https://localhost:8080/"
        },
        "id": "oCe5qA_jSFWo",
        "outputId": "55620e95-7bb7-45a2-a67f-da64ae5f3e8b"
      },
      "execution_count": 73,
      "outputs": [
        {
          "output_type": "execute_result",
          "data": {
            "text/plain": [
              "8"
            ]
          },
          "metadata": {},
          "execution_count": 73
        }
      ]
    },
    {
      "cell_type": "code",
      "source": [
        "# Create the countplot\n",
        "sns.countplot(x=\"Veteran_flag\", data=df2)\n",
        "\n",
        "# Add labels and title\n",
        "plt.xlabel(\"Veteran_flag\")\n",
        "plt.ylabel(\"Count\")\n",
        "plt.title(\"Number of Veterans\")\n",
        "\n",
        "# Show the plot\n",
        "plt.show()\n",
        "     "
      ],
      "metadata": {
        "colab": {
          "base_uri": "https://localhost:8080/",
          "height": 472
        },
        "id": "1wnnOVasSI60",
        "outputId": "5c83f1bd-0b7c-4b6a-baac-81a290e3d30e"
      },
      "execution_count": 74,
      "outputs": [
        {
          "output_type": "display_data",
          "data": {
            "text/plain": [
              "<Figure size 640x480 with 1 Axes>"
            ],
            "image/png": "[encoded data removed]"
          },
          "metadata": {}
        }
      ]
    },
    {
      "cell_type": "code",
      "source": [
        "df2.Ethnicity.nunique()"
      ],
      "metadata": {
        "colab": {
          "base_uri": "https://localhost:8080/"
        },
        "id": "3cQwf_cKS5Pf",
        "outputId": "d373cb48-c8ec-4e12-8ac1-b51671e4d8ed"
      },
      "execution_count": 75,
      "outputs": [
        {
          "output_type": "execute_result",
          "data": {
            "text/plain": [
              "3"
            ]
          },
          "metadata": {},
          "execution_count": 75
        }
      ]
    },
    {
      "cell_type": "code",
      "source": [
        "# Create the countplot\n",
        "sns.countplot(x=\"Ethnicity\", data=df2)\n",
        "\n",
        "# Add labels and title\n",
        "plt.xlabel(\"Ethnicity\")\n",
        "plt.ylabel(\"Count\")\n",
        "plt.title(\"Types of Ethnicity\")\n",
        "\n",
        "# Show the plot\n",
        "plt.show()"
      ],
      "metadata": {
        "colab": {
          "base_uri": "https://localhost:8080/",
          "height": 472
        },
        "id": "pZjBGolZTDsR",
        "outputId": "ccdce608-a618-4ee7-8109-6a6add637ec8"
      },
      "execution_count": 76,
      "outputs": [
        {
          "output_type": "display_data",
          "data": {
            "text/plain": [
              "<Figure size 640x480 with 1 Axes>"
            ],
            "image/png": "[encoded data removed]"
          },
          "metadata": {}
        }
      ]
    },
    {
      "cell_type": "markdown",
      "source": [
        "## **ED VISITS**"
      ],
      "metadata": {
        "id": "gLyBTTUgT6OY"
      }
    },
    {
      "cell_type": "code",
      "source": [
        "df3.head()"
      ],
      "metadata": {
        "colab": {
          "base_uri": "https://localhost:8080/",
          "height": 389
        },
        "id": "r8MKdElTOtwN",
        "outputId": "e5a13e94-70eb-4842-c234-a839905267eb"
      },
      "execution_count": 77,
      "outputs": [
        {
          "output_type": "execute_result",
          "data": {
            "text/plain": [
              "   Internalpatientid  Age at ed visit Ed visit start date Discharge date ed  \\\n",
              "0             106440        64.954978             04:13.0           50:26.0   \n",
              "1             129977        82.745838             29:29.0           16:32.0   \n",
              "2             106440        63.700552             14:25.0           19:09.0   \n",
              "3             131548        81.817275             08:00.0           07:39.0   \n",
              "4             129977        84.977907             11:58.0           08:41.0   \n",
              "\n",
              "   Died during ed visit           First listed diagnosis icd10 subcategory  \\\n",
              "0                   NaN                             Pressure ulcer of heel   \n",
              "1                   NaN                       Sepsis, unspecified organism   \n",
              "2                   NaN  Cellulitis and acute lymphangitis of other par...   \n",
              "3                   NaN                     Abdominal distension (gaseous)   \n",
              "4                   NaN                                       Constipation   \n",
              "\n",
              "     Second listed diagnosis icd10 subcategory     State  \n",
              "0          Chronic kidney disease, unspecified     Texas  \n",
              "1  Urinary tract infection, site not specified  Oklahoma  \n",
              "2                       Hematuria, unspecified     Texas  \n",
              "3                   Unspecified abdominal pain  Illinois  \n",
              "4  Urinary tract infection, site not specified  Oklahoma  "
            ],
            "text/html": [
              "\n",
              "  <div id=\"df-8ae8967d-0059-42ae-8635-21a1babeda9f\">\n",
              "    <div class=\"colab-df-container\">\n",
              "      <div>\n",
              "<style scoped>\n",
              "    .dataframe tbody tr th:only-of-type {\n",
              "        vertical-align: middle;\n",
              "    }\n",
              "\n",
              "    .dataframe tbody tr th {\n",
              "        vertical-align: top;\n",
              "    }\n",
              "\n",
              "    .dataframe thead th {\n",
              "        text-align: right;\n",
              "    }\n",
              "</style>\n",
              "<table border=\"1\" class=\"dataframe\">\n",
              "  <thead>\n",
              "    <tr style=\"text-align: right;\">\n",
              "      <th></th>\n",
              "      <th>Internalpatientid</th>\n",
              "      <th>Age at ed visit</th>\n",
              "      <th>Ed visit start date</th>\n",
              "      <th>Discharge date ed</th>\n",
              "      <th>Died during ed visit</th>\n",
              "      <th>First listed diagnosis icd10 subcategory</th>\n",
              "      <th>Second listed diagnosis icd10 subcategory</th>\n",
              "      <th>State</th>\n",
              "    </tr>\n",
              "  </thead>\n",
              "  <tbody>\n",
              "    <tr>\n",
              "      <th>0</th>\n",
              "      <td>106440</td>\n",
              "      <td>64.954978</td>\n",
              "      <td>04:13.0</td>\n",
              "      <td>50:26.0</td>\n",
              "      <td>NaN</td>\n",
              "      <td>Pressure ulcer of heel</td>\n",
              "      <td>Chronic kidney disease, unspecified</td>\n",
              "      <td>Texas</td>\n",
              "    </tr>\n",
              "    <tr>\n",
              "      <th>1</th>\n",
              "      <td>129977</td>\n",
              "      <td>82.745838</td>\n",
              "      <td>29:29.0</td>\n",
              "      <td>16:32.0</td>\n",
              "      <td>NaN</td>\n",
              "      <td>Sepsis, unspecified organism</td>\n",
              "      <td>Urinary tract infection, site not specified</td>\n",
              "      <td>Oklahoma</td>\n",
              "    </tr>\n",
              "    <tr>\n",
              "      <th>2</th>\n",
              "      <td>106440</td>\n",
              "      <td>63.700552</td>\n",
              "      <td>14:25.0</td>\n",
              "      <td>19:09.0</td>\n",
              "      <td>NaN</td>\n",
              "      <td>Cellulitis and acute lymphangitis of other par...</td>\n",
              "      <td>Hematuria, unspecified</td>\n",
              "      <td>Texas</td>\n",
              "    </tr>\n",
              "    <tr>\n",
              "      <th>3</th>\n",
              "      <td>131548</td>\n",
              "      <td>81.817275</td>\n",
              "      <td>08:00.0</td>\n",
              "      <td>07:39.0</td>\n",
              "      <td>NaN</td>\n",
              "      <td>Abdominal distension (gaseous)</td>\n",
              "      <td>Unspecified abdominal pain</td>\n",
              "      <td>Illinois</td>\n",
              "    </tr>\n",
              "    <tr>\n",
              "      <th>4</th>\n",
              "      <td>129977</td>\n",
              "      <td>84.977907</td>\n",
              "      <td>11:58.0</td>\n",
              "      <td>08:41.0</td>\n",
              "      <td>NaN</td>\n",
              "      <td>Constipation</td>\n",
              "      <td>Urinary tract infection, site not specified</td>\n",
              "      <td>Oklahoma</td>\n",
              "    </tr>\n",
              "  </tbody>\n",
              "</table>\n",
              "</div>\n",
              "      <button class=\"colab-df-convert\" onclick=\"convertToInteractive('df-8ae8967d-0059-42ae-8635-21a1babeda9f')\"\n",
              "              title=\"Convert this dataframe to an interactive table.\"\n",
              "              style=\"display:none;\">\n",
              "        \n",
              "  <svg xmlns=\"http://www.w3.org/2000/svg\" height=\"24px\"viewBox=\"0 0 24 24\"\n",
              "       width=\"24px\">\n",
              "    <path d=\"M0 0h24v24H0V0z\" fill=\"none\"/>\n",
              "    <path d=\"M18.56 5.44l.94 2.06.94-2.06 2.06-.94-2.06-.94-.94-2.06-.94 2.06-2.06.94zm-11 1L8.5 8.5l.94-2.06 2.06-.94-2.06-.94L8.5 2.5l-.94 2.06-2.06.94zm10 10l.94 2.06.94-2.06 2.06-.94-2.06-.94-.94-2.06-.94 2.06-2.06.94z\"/><path d=\"M17.41 7.96l-1.37-1.37c-.4-.4-.92-.59-1.43-.59-.52 0-1.04.2-1.43.59L10.3 9.45l-7.72 7.72c-.78.78-.78 2.05 0 2.83L4 21.41c.39.39.9.59 1.41.59.51 0 1.02-.2 1.41-.59l7.78-7.78 2.81-2.81c.8-.78.8-2.07 0-2.86zM5.41 20L4 18.59l7.72-7.72 1.47 1.35L5.41 20z\"/>\n",
              "  </svg>\n",
              "      </button>\n",
              "      \n",
              "  <style>\n",
              "    .colab-df-container {\n",
              "      display:flex;\n",
              "      flex-wrap:wrap;\n",
              "      gap: 12px;\n",
              "    }\n",
              "\n",
              "    .colab-df-convert {\n",
              "      background-color: #E8F0FE;\n",
              "      border: none;\n",
              "      border-radius: 50%;\n",
              "      cursor: pointer;\n",
              "      display: none;\n",
              "      fill: #1967D2;\n",
              "      height: 32px;\n",
              "      padding: 0 0 0 0;\n",
              "      width: 32px;\n",
              "    }\n",
              "\n",
              "    .colab-df-convert:hover {\n",
              "      background-color: #E2EBFA;\n",
              "      box-shadow: 0px 1px 2px rgba(60, 64, 67, 0.3), 0px 1px 3px 1px rgba(60, 64, 67, 0.15);\n",
              "      fill: #174EA6;\n",
              "    }\n",
              "\n",
              "    [theme=dark] .colab-df-convert {\n",
              "      background-color: #3B4455;\n",
              "      fill: #D2E3FC;\n",
              "    }\n",
              "\n",
              "    [theme=dark] .colab-df-convert:hover {\n",
              "      background-color: #434B5C;\n",
              "      box-shadow: 0px 1px 3px 1px rgba(0, 0, 0, 0.15);\n",
              "      filter: drop-shadow(0px 1px 2px rgba(0, 0, 0, 0.3));\n",
              "      fill: #FFFFFF;\n",
              "    }\n",
              "  </style>\n",
              "\n",
              "      <script>\n",
              "        const buttonEl =\n",
              "          document.querySelector('#df-8ae8967d-0059-42ae-8635-21a1babeda9f button.colab-df-convert');\n",
              "        buttonEl.style.display =\n",
              "          google.colab.kernel.accessAllowed ? 'block' : 'none';\n",
              "\n",
              "        async function convertToInteractive(key) {\n",
              "          const element = document.querySelector('#df-8ae8967d-0059-42ae-8635-21a1babeda9f');\n",
              "          const dataTable =\n",
              "            await google.colab.kernel.invokeFunction('convertToInteractive',\n",
              "                                                     [key], {});\n",
              "          if (!dataTable) return;\n",
              "\n",
              "          const docLinkHtml = 'Like what you see? Visit the ' +\n",
              "            '<a target=\"_blank\" href=https://colab.research.google.com/notebooks/data_table.ipynb>data table notebook</a>'\n",
              "            + ' to learn more about interactive tables.';\n",
              "          element.innerHTML = '';\n",
              "          dataTable['output_type'] = 'display_data';\n",
              "          await google.colab.output.renderOutput(dataTable, element);\n",
              "          const docLink = document.createElement('div');\n",
              "          docLink.innerHTML = docLinkHtml;\n",
              "          element.appendChild(docLink);\n",
              "        }\n",
              "      </script>\n",
              "    </div>\n",
              "  </div>\n",
              "  "
            ]
          },
          "metadata": {},
          "execution_count": 77
        }
      ]
    },
    {
      "cell_type": "code",
      "source": [
        "# rename two of the columns by using the 'rename' method\n",
        "df3.rename(columns={'Age at ed visit':'Age_at_ed_visit','Ed visit start date':'Ed_visit_start_date',\n",
        "                    'Discharge date ed':'Discharge_date_ed','Died during ed visit':'Died_during_ed_visit',\n",
        "                    'First listed diagnosis icd10 subcategory':'First_listed_diagnosis_icd10_subcategory',\n",
        "                    'Second listed diagnosis icd10 subcategory':'Second_listed_diagnosis_icd10_subcategory'}, inplace=True)"
      ],
      "metadata": {
        "id": "FNqxHyJTYfbc"
      },
      "execution_count": 78,
      "outputs": []
    },
    {
      "cell_type": "code",
      "source": [
        "\n",
        "df3.isnull().sum()"
      ],
      "metadata": {
        "colab": {
          "base_uri": "https://localhost:8080/"
        },
        "id": "jDGarrqaULsN",
        "outputId": "6e0a9289-a79f-4f73-95fa-94af92cba168"
      },
      "execution_count": 79,
      "outputs": [
        {
          "output_type": "execute_result",
          "data": {
            "text/plain": [
              "Internalpatientid                               0\n",
              "Age_at_ed_visit                                 0\n",
              "Ed_visit_start_date                             0\n",
              "Discharge_date_ed                               1\n",
              "Died_during_ed_visit                         4431\n",
              "First_listed_diagnosis_icd10_subcategory        0\n",
              "Second_listed_diagnosis_icd10_subcategory       0\n",
              "State                                           0\n",
              "dtype: int64"
            ]
          },
          "metadata": {},
          "execution_count": 79
        }
      ]
    },
    {
      "cell_type": "code",
      "source": [
        "df3.head()"
      ],
      "metadata": {
        "colab": {
          "base_uri": "https://localhost:8080/",
          "height": 270
        },
        "id": "6UhQLO89ZAYm",
        "outputId": "e5ee095e-ef84-477f-cb57-1cfe04a23363"
      },
      "execution_count": 80,
      "outputs": [
        {
          "output_type": "execute_result",
          "data": {
            "text/plain": [
              "   Internalpatientid  Age_at_ed_visit Ed_visit_start_date Discharge_date_ed  \\\n",
              "0             106440        64.954978             04:13.0           50:26.0   \n",
              "1             129977        82.745838             29:29.0           16:32.0   \n",
              "2             106440        63.700552             14:25.0           19:09.0   \n",
              "3             131548        81.817275             08:00.0           07:39.0   \n",
              "4             129977        84.977907             11:58.0           08:41.0   \n",
              "\n",
              "   Died_during_ed_visit           First_listed_diagnosis_icd10_subcategory  \\\n",
              "0                   NaN                             Pressure ulcer of heel   \n",
              "1                   NaN                       Sepsis, unspecified organism   \n",
              "2                   NaN  Cellulitis and acute lymphangitis of other par...   \n",
              "3                   NaN                     Abdominal distension (gaseous)   \n",
              "4                   NaN                                       Constipation   \n",
              "\n",
              "     Second_listed_diagnosis_icd10_subcategory     State  \n",
              "0          Chronic kidney disease, unspecified     Texas  \n",
              "1  Urinary tract infection, site not specified  Oklahoma  \n",
              "2                       Hematuria, unspecified     Texas  \n",
              "3                   Unspecified abdominal pain  Illinois  \n",
              "4  Urinary tract infection, site not specified  Oklahoma  "
            ],
            "text/html": [
              "\n",
              "  <div id=\"df-f8b1c8b7-68c7-4d00-afae-fb9436f52e2a\">\n",
              "    <div class=\"colab-df-container\">\n",
              "      <div>\n",
              "<style scoped>\n",
              "    .dataframe tbody tr th:only-of-type {\n",
              "        vertical-align: middle;\n",
              "    }\n",
              "\n",
              "    .dataframe tbody tr th {\n",
              "        vertical-align: top;\n",
              "    }\n",
              "\n",
              "    .dataframe thead th {\n",
              "        text-align: right;\n",
              "    }\n",
              "</style>\n",
              "<table border=\"1\" class=\"dataframe\">\n",
              "  <thead>\n",
              "    <tr style=\"text-align: right;\">\n",
              "      <th></th>\n",
              "      <th>Internalpatientid</th>\n",
              "      <th>Age_at_ed_visit</th>\n",
              "      <th>Ed_visit_start_date</th>\n",
              "      <th>Discharge_date_ed</th>\n",
              "      <th>Died_during_ed_visit</th>\n",
              "      <th>First_listed_diagnosis_icd10_subcategory</th>\n",
              "      <th>Second_listed_diagnosis_icd10_subcategory</th>\n",
              "      <th>State</th>\n",
              "    </tr>\n",
              "  </thead>\n",
              "  <tbody>\n",
              "    <tr>\n",
              "      <th>0</th>\n",
              "      <td>106440</td>\n",
              "      <td>64.954978</td>\n",
              "      <td>04:13.0</td>\n",
              "      <td>50:26.0</td>\n",
              "      <td>NaN</td>\n",
              "      <td>Pressure ulcer of heel</td>\n",
              "      <td>Chronic kidney disease, unspecified</td>\n",
              "      <td>Texas</td>\n",
              "    </tr>\n",
              "    <tr>\n",
              "      <th>1</th>\n",
              "      <td>129977</td>\n",
              "      <td>82.745838</td>\n",
              "      <td>29:29.0</td>\n",
              "      <td>16:32.0</td>\n",
              "      <td>NaN</td>\n",
              "      <td>Sepsis, unspecified organism</td>\n",
              "      <td>Urinary tract infection, site not specified</td>\n",
              "      <td>Oklahoma</td>\n",
              "    </tr>\n",
              "    <tr>\n",
              "      <th>2</th>\n",
              "      <td>106440</td>\n",
              "      <td>63.700552</td>\n",
              "      <td>14:25.0</td>\n",
              "      <td>19:09.0</td>\n",
              "      <td>NaN</td>\n",
              "      <td>Cellulitis and acute lymphangitis of other par...</td>\n",
              "      <td>Hematuria, unspecified</td>\n",
              "      <td>Texas</td>\n",
              "    </tr>\n",
              "    <tr>\n",
              "      <th>3</th>\n",
              "      <td>131548</td>\n",
              "      <td>81.817275</td>\n",
              "      <td>08:00.0</td>\n",
              "      <td>07:39.0</td>\n",
              "      <td>NaN</td>\n",
              "      <td>Abdominal distension (gaseous)</td>\n",
              "      <td>Unspecified abdominal pain</td>\n",
              "      <td>Illinois</td>\n",
              "    </tr>\n",
              "    <tr>\n",
              "      <th>4</th>\n",
              "      <td>129977</td>\n",
              "      <td>84.977907</td>\n",
              "      <td>11:58.0</td>\n",
              "      <td>08:41.0</td>\n",
              "      <td>NaN</td>\n",
              "      <td>Constipation</td>\n",
              "      <td>Urinary tract infection, site not specified</td>\n",
              "      <td>Oklahoma</td>\n",
              "    </tr>\n",
              "  </tbody>\n",
              "</table>\n",
              "</div>\n",
              "      <button class=\"colab-df-convert\" onclick=\"convertToInteractive('df-f8b1c8b7-68c7-4d00-afae-fb9436f52e2a')\"\n",
              "              title=\"Convert this dataframe to an interactive table.\"\n",
              "              style=\"display:none;\">\n",
              "        \n",
              "  <svg xmlns=\"http://www.w3.org/2000/svg\" height=\"24px\"viewBox=\"0 0 24 24\"\n",
              "       width=\"24px\">\n",
              "    <path d=\"M0 0h24v24H0V0z\" fill=\"none\"/>\n",
              "    <path d=\"M18.56 5.44l.94 2.06.94-2.06 2.06-.94-2.06-.94-.94-2.06-.94 2.06-2.06.94zm-11 1L8.5 8.5l.94-2.06 2.06-.94-2.06-.94L8.5 2.5l-.94 2.06-2.06.94zm10 10l.94 2.06.94-2.06 2.06-.94-2.06-.94-.94-2.06-.94 2.06-2.06.94z\"/><path d=\"M17.41 7.96l-1.37-1.37c-.4-.4-.92-.59-1.43-.59-.52 0-1.04.2-1.43.59L10.3 9.45l-7.72 7.72c-.78.78-.78 2.05 0 2.83L4 21.41c.39.39.9.59 1.41.59.51 0 1.02-.2 1.41-.59l7.78-7.78 2.81-2.81c.8-.78.8-2.07 0-2.86zM5.41 20L4 18.59l7.72-7.72 1.47 1.35L5.41 20z\"/>\n",
              "  </svg>\n",
              "      </button>\n",
              "      \n",
              "  <style>\n",
              "    .colab-df-container {\n",
              "      display:flex;\n",
              "      flex-wrap:wrap;\n",
              "      gap: 12px;\n",
              "    }\n",
              "\n",
              "    .colab-df-convert {\n",
              "      background-color: #E8F0FE;\n",
              "      border: none;\n",
              "      border-radius: 50%;\n",
              "      cursor: pointer;\n",
              "      display: none;\n",
              "      fill: #1967D2;\n",
              "      height: 32px;\n",
              "      padding: 0 0 0 0;\n",
              "      width: 32px;\n",
              "    }\n",
              "\n",
              "    .colab-df-convert:hover {\n",
              "      background-color: #E2EBFA;\n",
              "      box-shadow: 0px 1px 2px rgba(60, 64, 67, 0.3), 0px 1px 3px 1px rgba(60, 64, 67, 0.15);\n",
              "      fill: #174EA6;\n",
              "    }\n",
              "\n",
              "    [theme=dark] .colab-df-convert {\n",
              "      background-color: #3B4455;\n",
              "      fill: #D2E3FC;\n",
              "    }\n",
              "\n",
              "    [theme=dark] .colab-df-convert:hover {\n",
              "      background-color: #434B5C;\n",
              "      box-shadow: 0px 1px 3px 1px rgba(0, 0, 0, 0.15);\n",
              "      filter: drop-shadow(0px 1px 2px rgba(0, 0, 0, 0.3));\n",
              "      fill: #FFFFFF;\n",
              "    }\n",
              "  </style>\n",
              "\n",
              "      <script>\n",
              "        const buttonEl =\n",
              "          document.querySelector('#df-f8b1c8b7-68c7-4d00-afae-fb9436f52e2a button.colab-df-convert');\n",
              "        buttonEl.style.display =\n",
              "          google.colab.kernel.accessAllowed ? 'block' : 'none';\n",
              "\n",
              "        async function convertToInteractive(key) {\n",
              "          const element = document.querySelector('#df-f8b1c8b7-68c7-4d00-afae-fb9436f52e2a');\n",
              "          const dataTable =\n",
              "            await google.colab.kernel.invokeFunction('convertToInteractive',\n",
              "                                                     [key], {});\n",
              "          if (!dataTable) return;\n",
              "\n",
              "          const docLinkHtml = 'Like what you see? Visit the ' +\n",
              "            '<a target=\"_blank\" href=https://colab.research.google.com/notebooks/data_table.ipynb>data table notebook</a>'\n",
              "            + ' to learn more about interactive tables.';\n",
              "          element.innerHTML = '';\n",
              "          dataTable['output_type'] = 'display_data';\n",
              "          await google.colab.output.renderOutput(dataTable, element);\n",
              "          const docLink = document.createElement('div');\n",
              "          docLink.innerHTML = docLinkHtml;\n",
              "          element.appendChild(docLink);\n",
              "        }\n",
              "      </script>\n",
              "    </div>\n",
              "  </div>\n",
              "  "
            ]
          },
          "metadata": {},
          "execution_count": 80
        }
      ]
    },
    {
      "cell_type": "code",
      "source": [
        "df3.shape"
      ],
      "metadata": {
        "colab": {
          "base_uri": "https://localhost:8080/"
        },
        "id": "3UJ6TVzpZgIY",
        "outputId": "013e4338-6301-4457-aca1-55a3fb38ee91"
      },
      "execution_count": 81,
      "outputs": [
        {
          "output_type": "execute_result",
          "data": {
            "text/plain": [
              "(4431, 8)"
            ]
          },
          "metadata": {},
          "execution_count": 81
        }
      ]
    },
    {
      "cell_type": "markdown",
      "source": [
        "All the data in Died during visit is missing in quality check data."
      ],
      "metadata": {
        "id": "iz7KBRHKZomQ"
      }
    },
    {
      "cell_type": "code",
      "source": [
        "#df3.First_listed_diagnosis_icd10_subcategory.unique()"
      ],
      "metadata": {
        "id": "Od2EInz8PsIW"
      },
      "execution_count": 133,
      "outputs": []
    },
    {
      "cell_type": "code",
      "source": [
        "\n",
        "df3.First_listed_diagnosis_icd10_subcategory.nunique()"
      ],
      "metadata": {
        "colab": {
          "base_uri": "https://localhost:8080/"
        },
        "id": "sU4CxE_1YPbz",
        "outputId": "b0a140f0-f353-43d9-b7ad-ed4be1c45c40"
      },
      "execution_count": 82,
      "outputs": [
        {
          "output_type": "execute_result",
          "data": {
            "text/plain": [
              "601"
            ]
          },
          "metadata": {},
          "execution_count": 82
        }
      ]
    },
    {
      "cell_type": "code",
      "source": [
        "\n",
        "df3.Second_listed_diagnosis_icd10_subcategory.nunique()"
      ],
      "metadata": {
        "colab": {
          "base_uri": "https://localhost:8080/"
        },
        "id": "CMFgc3U-ZN2R",
        "outputId": "920b94cf-9ec7-4ad6-9584-fe13e9cf4ff0"
      },
      "execution_count": 83,
      "outputs": [
        {
          "output_type": "execute_result",
          "data": {
            "text/plain": [
              "409"
            ]
          },
          "metadata": {},
          "execution_count": 83
        }
      ]
    },
    {
      "cell_type": "code",
      "source": [
        "df3.First_listed_diagnosis_icd10_subcategory.value_counts()"
      ],
      "metadata": {
        "colab": {
          "base_uri": "https://localhost:8080/"
        },
        "id": "nU54qo1VaI6f",
        "outputId": "02008c70-11ab-479e-fcac-b117788dedf9"
      },
      "execution_count": 84,
      "outputs": [
        {
          "output_type": "execute_result",
          "data": {
            "text/plain": [
              "Not specified                                                      2155\n",
              "Chest pain, unspecified                                              79\n",
              "Pain in joint                                                        76\n",
              "Dyspnea                                                              63\n",
              "Systolic (congestive) heart failure                                  62\n",
              "                                                                   ... \n",
              "Injury of conjunctiva and corneal abrasion without foreign body       1\n",
              "Intestinal adhesions [bands] with obstruction (postinfection)         1\n",
              "Fracture of upper end of humerus                                      1\n",
              "Viral pneumonia, unspecified                                          1\n",
              "Wheezing                                                              1\n",
              "Name: First_listed_diagnosis_icd10_subcategory, Length: 601, dtype: int64"
            ]
          },
          "metadata": {},
          "execution_count": 84
        }
      ]
    },
    {
      "cell_type": "code",
      "source": [
        "df3.Second_listed_diagnosis_icd10_subcategory.value_counts()"
      ],
      "metadata": {
        "colab": {
          "base_uri": "https://localhost:8080/"
        },
        "id": "Al3UhcilZvqu",
        "outputId": "a7fc97ff-5672-4d78-8075-22757eb751d8"
      },
      "execution_count": 85,
      "outputs": [
        {
          "output_type": "execute_result",
          "data": {
            "text/plain": [
              "Not specified                                                                                                        3521\n",
              "Urinary tract infection, site not specified                                                                            29\n",
              "Dyspnea                                                                                                                18\n",
              "Systolic (congestive) heart failure                                                                                    16\n",
              "Dehydration                                                                                                            15\n",
              "                                                                                                                     ... \n",
              "Driver injured in collision with other and unspecified motor vehicles in traffic accident                               1\n",
              "Other specified heart block                                                                                             1\n",
              "Atherosclerosis of coronary artery bypass graft(s) and coronary artery of transplanted heart with angina pectoris       1\n",
              "Other and unspecified disorders of binocular vision                                                                     1\n",
              "Plantar fascial fibromatosis                                                                                            1\n",
              "Name: Second_listed_diagnosis_icd10_subcategory, Length: 409, dtype: int64"
            ]
          },
          "metadata": {},
          "execution_count": 85
        }
      ]
    },
    {
      "cell_type": "code",
      "source": [
        "\n",
        "df3.State.value_counts()"
      ],
      "metadata": {
        "colab": {
          "base_uri": "https://localhost:8080/"
        },
        "id": "833jc0MNZTb0",
        "outputId": "a784b5e1-d4ab-4db9-9c22-14b94f84f759"
      },
      "execution_count": 86,
      "outputs": [
        {
          "output_type": "execute_result",
          "data": {
            "text/plain": [
              "California              366\n",
              "New York                300\n",
              "Florida                 295\n",
              "Texas                   288\n",
              "Missouri                244\n",
              "Wisconsin               222\n",
              "Ohio                    219\n",
              "Tennessee               190\n",
              "Arizona                 153\n",
              "Michigan                149\n",
              "North Carolina          136\n",
              "Pennsylvania            132\n",
              "Illinois                116\n",
              "Minnesota               114\n",
              "Louisiana               113\n",
              "Georgia                 104\n",
              "Oklahoma                104\n",
              "Alabama                  89\n",
              "Virginia                 85\n",
              "Kentucky                 72\n",
              "Arkansas                 66\n",
              "District of Columbia     63\n",
              "West Virginia            59\n",
              "Nebraska                 58\n",
              "South Carolina           56\n",
              "New Mexico               49\n",
              "Washington               48\n",
              "South Dakota             47\n",
              "Puerto Rico              45\n",
              "Idaho                    43\n",
              "Oregon                   43\n",
              "Utah                     42\n",
              "Maryland                 40\n",
              "Rhode Island             40\n",
              "Massachusetts            34\n",
              "Connecticut              31\n",
              "New Hampshire            30\n",
              "Mississippi              28\n",
              "Nevada                   22\n",
              "Indiana                  17\n",
              "North Dakota             13\n",
              "Colorado                 13\n",
              "Wyoming                  13\n",
              "Maine                    11\n",
              "Vermont                  11\n",
              "Delaware                  8\n",
              "New Jersey                7\n",
              "Montana                   3\n",
              "Name: State, dtype: int64"
            ]
          },
          "metadata": {},
          "execution_count": 86
        }
      ]
    },
    {
      "cell_type": "code",
      "source": [
        "# Create a density plot\n",
        "sns.kdeplot(data=df3, x=\"Age_at_ed_visit\")"
      ],
      "metadata": {
        "colab": {
          "base_uri": "https://localhost:8080/",
          "height": 468
        },
        "id": "upz1g_lLZYiJ",
        "outputId": "98b8c78b-f4fb-4e6f-d96b-933149450254"
      },
      "execution_count": 87,
      "outputs": [
        {
          "output_type": "execute_result",
          "data": {
            "text/plain": [
              "<Axes: xlabel='Age_at_ed_visit', ylabel='Density'>"
            ]
          },
          "metadata": {},
          "execution_count": 87
        },
        {
          "output_type": "display_data",
          "data": {
            "text/plain": [
              "<Figure size 640x480 with 1 Axes>"
            ],
            "image/png": "[encoded data removed]"
          },
          "metadata": {}
        }
      ]
    },
    {
      "cell_type": "code",
      "source": [
        "# Extract rows related to heart or heart failure\n",
        "heart_df = df3[df3['First_listed_diagnosis_icd10_subcategory'].str.contains('heart|heart failure|Systolic (congestive)', case=False)]"
      ],
      "metadata": {
        "id": "lasgPwSQFFc-",
        "outputId": "c92dd4be-5be5-4d39-c2c6-a53be257a6c4",
        "colab": {
          "base_uri": "https://localhost:8080/"
        }
      },
      "execution_count": 138,
      "outputs": [
        {
          "output_type": "stream",
          "name": "stderr",
          "text": [
            "<ipython-input-138-eae865d5286a>:2: UserWarning: This pattern is interpreted as a regular expression, and has match groups. To actually get the groups, use str.extract.\n",
            "  heart_df = df3[df3['First_listed_diagnosis_icd10_subcategory'].str.contains('heart|heart failure|Systolic (congestive)', case=False)]\n"
          ]
        }
      ]
    },
    {
      "cell_type": "code",
      "source": [
        "heart_df.head()"
      ],
      "metadata": {
        "id": "CfKT9uRlTGM5",
        "outputId": "64255429-1b42-4e41-8aa9-5f048290400f",
        "colab": {
          "base_uri": "https://localhost:8080/",
          "height": 287
        }
      },
      "execution_count": 141,
      "outputs": [
        {
          "output_type": "execute_result",
          "data": {
            "text/plain": [
              "    Internalpatientid  Age_at_ed_visit Ed_visit_start_date Discharge_date_ed  \\\n",
              "21             114689        71.763118             04:01.0           51:00.0   \n",
              "62             114689        72.006942             53:35.0           33:10.0   \n",
              "69             133752        75.669655             12:54.0           01:56.0   \n",
              "70             106818        50.741882             47:12.0           21:08.0   \n",
              "88             114689        71.705361             25:23.0           31:17.0   \n",
              "\n",
              "    Died_during_ed_visit First_listed_diagnosis_icd10_subcategory  \\\n",
              "21                   NaN     Diastolic (congestive) heart failure   \n",
              "62                   NaN      Systolic (congestive) heart failure   \n",
              "69                   NaN     Diastolic (congestive) heart failure   \n",
              "70                   NaN      Systolic (congestive) heart failure   \n",
              "88                   NaN     Diastolic (congestive) heart failure   \n",
              "\n",
              "            Second_listed_diagnosis_icd10_subcategory           State  \n",
              "21                                      Not specified        Nebraska  \n",
              "62                                           Weakness        Nebraska  \n",
              "69           Other specified pulmonary heart diseases       Tennessee  \n",
              "70  Combined systolic (congestive) and diastolic (...  South Carolina  \n",
              "88              Acute and chronic respiratory failure        Nebraska  "
            ],
            "text/html": [
              "\n",
              "  <div id=\"df-54917818-7d0f-416f-bc2f-dc2c816b3185\">\n",
              "    <div class=\"colab-df-container\">\n",
              "      <div>\n",
              "<style scoped>\n",
              "    .dataframe tbody tr th:only-of-type {\n",
              "        vertical-align: middle;\n",
              "    }\n",
              "\n",
              "    .dataframe tbody tr th {\n",
              "        vertical-align: top;\n",
              "    }\n",
              "\n",
              "    .dataframe thead th {\n",
              "        text-align: right;\n",
              "    }\n",
              "</style>\n",
              "<table border=\"1\" class=\"dataframe\">\n",
              "  <thead>\n",
              "    <tr style=\"text-align: right;\">\n",
              "      <th></th>\n",
              "      <th>Internalpatientid</th>\n",
              "      <th>Age_at_ed_visit</th>\n",
              "      <th>Ed_visit_start_date</th>\n",
              "      <th>Discharge_date_ed</th>\n",
              "      <th>Died_during_ed_visit</th>\n",
              "      <th>First_listed_diagnosis_icd10_subcategory</th>\n",
              "      <th>Second_listed_diagnosis_icd10_subcategory</th>\n",
              "      <th>State</th>\n",
              "    </tr>\n",
              "  </thead>\n",
              "  <tbody>\n",
              "    <tr>\n",
              "      <th>21</th>\n",
              "      <td>114689</td>\n",
              "      <td>71.763118</td>\n",
              "      <td>04:01.0</td>\n",
              "      <td>51:00.0</td>\n",
              "      <td>NaN</td>\n",
              "      <td>Diastolic (congestive) heart failure</td>\n",
              "      <td>Not specified</td>\n",
              "      <td>Nebraska</td>\n",
              "    </tr>\n",
              "    <tr>\n",
              "      <th>62</th>\n",
              "      <td>114689</td>\n",
              "      <td>72.006942</td>\n",
              "      <td>53:35.0</td>\n",
              "      <td>33:10.0</td>\n",
              "      <td>NaN</td>\n",
              "      <td>Systolic (congestive) heart failure</td>\n",
              "      <td>Weakness</td>\n",
              "      <td>Nebraska</td>\n",
              "    </tr>\n",
              "    <tr>\n",
              "      <th>69</th>\n",
              "      <td>133752</td>\n",
              "      <td>75.669655</td>\n",
              "      <td>12:54.0</td>\n",
              "      <td>01:56.0</td>\n",
              "      <td>NaN</td>\n",
              "      <td>Diastolic (congestive) heart failure</td>\n",
              "      <td>Other specified pulmonary heart diseases</td>\n",
              "      <td>Tennessee</td>\n",
              "    </tr>\n",
              "    <tr>\n",
              "      <th>70</th>\n",
              "      <td>106818</td>\n",
              "      <td>50.741882</td>\n",
              "      <td>47:12.0</td>\n",
              "      <td>21:08.0</td>\n",
              "      <td>NaN</td>\n",
              "      <td>Systolic (congestive) heart failure</td>\n",
              "      <td>Combined systolic (congestive) and diastolic (...</td>\n",
              "      <td>South Carolina</td>\n",
              "    </tr>\n",
              "    <tr>\n",
              "      <th>88</th>\n",
              "      <td>114689</td>\n",
              "      <td>71.705361</td>\n",
              "      <td>25:23.0</td>\n",
              "      <td>31:17.0</td>\n",
              "      <td>NaN</td>\n",
              "      <td>Diastolic (congestive) heart failure</td>\n",
              "      <td>Acute and chronic respiratory failure</td>\n",
              "      <td>Nebraska</td>\n",
              "    </tr>\n",
              "  </tbody>\n",
              "</table>\n",
              "</div>\n",
              "      <button class=\"colab-df-convert\" onclick=\"convertToInteractive('df-54917818-7d0f-416f-bc2f-dc2c816b3185')\"\n",
              "              title=\"Convert this dataframe to an interactive table.\"\n",
              "              style=\"display:none;\">\n",
              "        \n",
              "  <svg xmlns=\"http://www.w3.org/2000/svg\" height=\"24px\"viewBox=\"0 0 24 24\"\n",
              "       width=\"24px\">\n",
              "    <path d=\"M0 0h24v24H0V0z\" fill=\"none\"/>\n",
              "    <path d=\"M18.56 5.44l.94 2.06.94-2.06 2.06-.94-2.06-.94-.94-2.06-.94 2.06-2.06.94zm-11 1L8.5 8.5l.94-2.06 2.06-.94-2.06-.94L8.5 2.5l-.94 2.06-2.06.94zm10 10l.94 2.06.94-2.06 2.06-.94-2.06-.94-.94-2.06-.94 2.06-2.06.94z\"/><path d=\"M17.41 7.96l-1.37-1.37c-.4-.4-.92-.59-1.43-.59-.52 0-1.04.2-1.43.59L10.3 9.45l-7.72 7.72c-.78.78-.78 2.05 0 2.83L4 21.41c.39.39.9.59 1.41.59.51 0 1.02-.2 1.41-.59l7.78-7.78 2.81-2.81c.8-.78.8-2.07 0-2.86zM5.41 20L4 18.59l7.72-7.72 1.47 1.35L5.41 20z\"/>\n",
              "  </svg>\n",
              "      </button>\n",
              "      \n",
              "  <style>\n",
              "    .colab-df-container {\n",
              "      display:flex;\n",
              "      flex-wrap:wrap;\n",
              "      gap: 12px;\n",
              "    }\n",
              "\n",
              "    .colab-df-convert {\n",
              "      background-color: #E8F0FE;\n",
              "      border: none;\n",
              "      border-radius: 50%;\n",
              "      cursor: pointer;\n",
              "      display: none;\n",
              "      fill: #1967D2;\n",
              "      height: 32px;\n",
              "      padding: 0 0 0 0;\n",
              "      width: 32px;\n",
              "    }\n",
              "\n",
              "    .colab-df-convert:hover {\n",
              "      background-color: #E2EBFA;\n",
              "      box-shadow: 0px 1px 2px rgba(60, 64, 67, 0.3), 0px 1px 3px 1px rgba(60, 64, 67, 0.15);\n",
              "      fill: #174EA6;\n",
              "    }\n",
              "\n",
              "    [theme=dark] .colab-df-convert {\n",
              "      background-color: #3B4455;\n",
              "      fill: #D2E3FC;\n",
              "    }\n",
              "\n",
              "    [theme=dark] .colab-df-convert:hover {\n",
              "      background-color: #434B5C;\n",
              "      box-shadow: 0px 1px 3px 1px rgba(0, 0, 0, 0.15);\n",
              "      filter: drop-shadow(0px 1px 2px rgba(0, 0, 0, 0.3));\n",
              "      fill: #FFFFFF;\n",
              "    }\n",
              "  </style>\n",
              "\n",
              "      <script>\n",
              "        const buttonEl =\n",
              "          document.querySelector('#df-54917818-7d0f-416f-bc2f-dc2c816b3185 button.colab-df-convert');\n",
              "        buttonEl.style.display =\n",
              "          google.colab.kernel.accessAllowed ? 'block' : 'none';\n",
              "\n",
              "        async function convertToInteractive(key) {\n",
              "          const element = document.querySelector('#df-54917818-7d0f-416f-bc2f-dc2c816b3185');\n",
              "          const dataTable =\n",
              "            await google.colab.kernel.invokeFunction('convertToInteractive',\n",
              "                                                     [key], {});\n",
              "          if (!dataTable) return;\n",
              "\n",
              "          const docLinkHtml = 'Like what you see? Visit the ' +\n",
              "            '<a target=\"_blank\" href=https://colab.research.google.com/notebooks/data_table.ipynb>data table notebook</a>'\n",
              "            + ' to learn more about interactive tables.';\n",
              "          element.innerHTML = '';\n",
              "          dataTable['output_type'] = 'display_data';\n",
              "          await google.colab.output.renderOutput(dataTable, element);\n",
              "          const docLink = document.createElement('div');\n",
              "          docLink.innerHTML = docLinkHtml;\n",
              "          element.appendChild(docLink);\n",
              "        }\n",
              "      </script>\n",
              "    </div>\n",
              "  </div>\n",
              "  "
            ]
          },
          "metadata": {},
          "execution_count": 141
        }
      ]
    },
    {
      "cell_type": "code",
      "source": [
        "heart_df.shape"
      ],
      "metadata": {
        "id": "Eu-d_aA1U719",
        "outputId": "9de978b5-f812-4114-9c85-9a12d0665c7a",
        "colab": {
          "base_uri": "https://localhost:8080/"
        }
      },
      "execution_count": 143,
      "outputs": [
        {
          "output_type": "execute_result",
          "data": {
            "text/plain": [
              "(133, 8)"
            ]
          },
          "metadata": {},
          "execution_count": 143
        }
      ]
    },
    {
      "cell_type": "markdown",
      "source": [
        "## **MEDICATIONS ORDERED**"
      ],
      "metadata": {
        "id": "vpS37c8lZ9h1"
      }
    },
    {
      "cell_type": "code",
      "source": [
        "df4.head()"
      ],
      "metadata": {
        "colab": {
          "base_uri": "https://localhost:8080/",
          "height": 458
        },
        "id": "eC9XVt3DPFNE",
        "outputId": "20ffbe9e-0416-48ea-d543-c7f1cd57e175"
      },
      "execution_count": 89,
      "outputs": [
        {
          "output_type": "execute_result",
          "data": {
            "text/plain": [
              "   Internalpatientid  Age at med ordered             Order date  \\\n",
              "0             100012           52.169740  2001-09-01 00:57:34.0   \n",
              "1             100012           52.188357  2001-09-07 20:15:48.0   \n",
              "2             100012           52.767740  2002-04-07 14:37:01.0   \n",
              "3             100012           52.934562  2002-06-07 13:58:52.0   \n",
              "4             100012           53.011336  2002-07-05 15:26:15.0   \n",
              "\n",
              "   Medication start date   Medication stop date Order discontinue date  \\\n",
              "0  2001-09-01 00:57:34.0  2003-10-16 07:08:34.0  2002-01-06 16:07:34.0   \n",
              "1  2001-09-07 20:15:48.0  2001-11-07 07:08:48.0  2001-11-07 07:08:48.0   \n",
              "2  2002-04-10 09:55:01.0  2002-04-11 11:34:01.0  2002-04-11 11:34:01.0   \n",
              "3  2002-06-07 13:58:52.0  2002-07-07 13:58:52.0                    NaN   \n",
              "4  2002-07-05 15:26:15.0  2002-08-04 15:26:15.0                    NaN   \n",
              "\n",
              "                  Ordered medication atc 5  Order status  \\\n",
              "0                             lansoprazole  discontinued   \n",
              "1                                celecoxib  discontinued   \n",
              "2                             benzalkonium     cancelled   \n",
              "3  oxycodone ; paracetamol (acetaminophen)       expired   \n",
              "4                         Not a medication       expired   \n",
              "\n",
              "                Stop reason       State  \n",
              "0  Not specified (no value)       Texas  \n",
              "1  Not specified (no value)       Texas  \n",
              "2  Not specified (no value)  New Mexico  \n",
              "3  Not specified (no value)  New Mexico  \n",
              "4  Not specified (no value)  New Mexico  "
            ],
            "text/html": [
              "\n",
              "  <div id=\"df-d36d9084-c3e0-48a7-b125-8fc6138d689a\">\n",
              "    <div class=\"colab-df-container\">\n",
              "      <div>\n",
              "<style scoped>\n",
              "    .dataframe tbody tr th:only-of-type {\n",
              "        vertical-align: middle;\n",
              "    }\n",
              "\n",
              "    .dataframe tbody tr th {\n",
              "        vertical-align: top;\n",
              "    }\n",
              "\n",
              "    .dataframe thead th {\n",
              "        text-align: right;\n",
              "    }\n",
              "</style>\n",
              "<table border=\"1\" class=\"dataframe\">\n",
              "  <thead>\n",
              "    <tr style=\"text-align: right;\">\n",
              "      <th></th>\n",
              "      <th>Internalpatientid</th>\n",
              "      <th>Age at med ordered</th>\n",
              "      <th>Order date</th>\n",
              "      <th>Medication start date</th>\n",
              "      <th>Medication stop date</th>\n",
              "      <th>Order discontinue date</th>\n",
              "      <th>Ordered medication atc 5</th>\n",
              "      <th>Order status</th>\n",
              "      <th>Stop reason</th>\n",
              "      <th>State</th>\n",
              "    </tr>\n",
              "  </thead>\n",
              "  <tbody>\n",
              "    <tr>\n",
              "      <th>0</th>\n",
              "      <td>100012</td>\n",
              "      <td>52.169740</td>\n",
              "      <td>2001-09-01 00:57:34.0</td>\n",
              "      <td>2001-09-01 00:57:34.0</td>\n",
              "      <td>2003-10-16 07:08:34.0</td>\n",
              "      <td>2002-01-06 16:07:34.0</td>\n",
              "      <td>lansoprazole</td>\n",
              "      <td>discontinued</td>\n",
              "      <td>Not specified (no value)</td>\n",
              "      <td>Texas</td>\n",
              "    </tr>\n",
              "    <tr>\n",
              "      <th>1</th>\n",
              "      <td>100012</td>\n",
              "      <td>52.188357</td>\n",
              "      <td>2001-09-07 20:15:48.0</td>\n",
              "      <td>2001-09-07 20:15:48.0</td>\n",
              "      <td>2001-11-07 07:08:48.0</td>\n",
              "      <td>2001-11-07 07:08:48.0</td>\n",
              "      <td>celecoxib</td>\n",
              "      <td>discontinued</td>\n",
              "      <td>Not specified (no value)</td>\n",
              "      <td>Texas</td>\n",
              "    </tr>\n",
              "    <tr>\n",
              "      <th>2</th>\n",
              "      <td>100012</td>\n",
              "      <td>52.767740</td>\n",
              "      <td>2002-04-07 14:37:01.0</td>\n",
              "      <td>2002-04-10 09:55:01.0</td>\n",
              "      <td>2002-04-11 11:34:01.0</td>\n",
              "      <td>2002-04-11 11:34:01.0</td>\n",
              "      <td>benzalkonium</td>\n",
              "      <td>cancelled</td>\n",
              "      <td>Not specified (no value)</td>\n",
              "      <td>New Mexico</td>\n",
              "    </tr>\n",
              "    <tr>\n",
              "      <th>3</th>\n",
              "      <td>100012</td>\n",
              "      <td>52.934562</td>\n",
              "      <td>2002-06-07 13:58:52.0</td>\n",
              "      <td>2002-06-07 13:58:52.0</td>\n",
              "      <td>2002-07-07 13:58:52.0</td>\n",
              "      <td>NaN</td>\n",
              "      <td>oxycodone ; paracetamol (acetaminophen)</td>\n",
              "      <td>expired</td>\n",
              "      <td>Not specified (no value)</td>\n",
              "      <td>New Mexico</td>\n",
              "    </tr>\n",
              "    <tr>\n",
              "      <th>4</th>\n",
              "      <td>100012</td>\n",
              "      <td>53.011336</td>\n",
              "      <td>2002-07-05 15:26:15.0</td>\n",
              "      <td>2002-07-05 15:26:15.0</td>\n",
              "      <td>2002-08-04 15:26:15.0</td>\n",
              "      <td>NaN</td>\n",
              "      <td>Not a medication</td>\n",
              "      <td>expired</td>\n",
              "      <td>Not specified (no value)</td>\n",
              "      <td>New Mexico</td>\n",
              "    </tr>\n",
              "  </tbody>\n",
              "</table>\n",
              "</div>\n",
              "      <button class=\"colab-df-convert\" onclick=\"convertToInteractive('df-d36d9084-c3e0-48a7-b125-8fc6138d689a')\"\n",
              "              title=\"Convert this dataframe to an interactive table.\"\n",
              "              style=\"display:none;\">\n",
              "        \n",
              "  <svg xmlns=\"http://www.w3.org/2000/svg\" height=\"24px\"viewBox=\"0 0 24 24\"\n",
              "       width=\"24px\">\n",
              "    <path d=\"M0 0h24v24H0V0z\" fill=\"none\"/>\n",
              "    <path d=\"M18.56 5.44l.94 2.06.94-2.06 2.06-.94-2.06-.94-.94-2.06-.94 2.06-2.06.94zm-11 1L8.5 8.5l.94-2.06 2.06-.94-2.06-.94L8.5 2.5l-.94 2.06-2.06.94zm10 10l.94 2.06.94-2.06 2.06-.94-2.06-.94-.94-2.06-.94 2.06-2.06.94z\"/><path d=\"M17.41 7.96l-1.37-1.37c-.4-.4-.92-.59-1.43-.59-.52 0-1.04.2-1.43.59L10.3 9.45l-7.72 7.72c-.78.78-.78 2.05 0 2.83L4 21.41c.39.39.9.59 1.41.59.51 0 1.02-.2 1.41-.59l7.78-7.78 2.81-2.81c.8-.78.8-2.07 0-2.86zM5.41 20L4 18.59l7.72-7.72 1.47 1.35L5.41 20z\"/>\n",
              "  </svg>\n",
              "      </button>\n",
              "      \n",
              "  <style>\n",
              "    .colab-df-container {\n",
              "      display:flex;\n",
              "      flex-wrap:wrap;\n",
              "      gap: 12px;\n",
              "    }\n",
              "\n",
              "    .colab-df-convert {\n",
              "      background-color: #E8F0FE;\n",
              "      border: none;\n",
              "      border-radius: 50%;\n",
              "      cursor: pointer;\n",
              "      display: none;\n",
              "      fill: #1967D2;\n",
              "      height: 32px;\n",
              "      padding: 0 0 0 0;\n",
              "      width: 32px;\n",
              "    }\n",
              "\n",
              "    .colab-df-convert:hover {\n",
              "      background-color: #E2EBFA;\n",
              "      box-shadow: 0px 1px 2px rgba(60, 64, 67, 0.3), 0px 1px 3px 1px rgba(60, 64, 67, 0.15);\n",
              "      fill: #174EA6;\n",
              "    }\n",
              "\n",
              "    [theme=dark] .colab-df-convert {\n",
              "      background-color: #3B4455;\n",
              "      fill: #D2E3FC;\n",
              "    }\n",
              "\n",
              "    [theme=dark] .colab-df-convert:hover {\n",
              "      background-color: #434B5C;\n",
              "      box-shadow: 0px 1px 3px 1px rgba(0, 0, 0, 0.15);\n",
              "      filter: drop-shadow(0px 1px 2px rgba(0, 0, 0, 0.3));\n",
              "      fill: #FFFFFF;\n",
              "    }\n",
              "  </style>\n",
              "\n",
              "      <script>\n",
              "        const buttonEl =\n",
              "          document.querySelector('#df-d36d9084-c3e0-48a7-b125-8fc6138d689a button.colab-df-convert');\n",
              "        buttonEl.style.display =\n",
              "          google.colab.kernel.accessAllowed ? 'block' : 'none';\n",
              "\n",
              "        async function convertToInteractive(key) {\n",
              "          const element = document.querySelector('#df-d36d9084-c3e0-48a7-b125-8fc6138d689a');\n",
              "          const dataTable =\n",
              "            await google.colab.kernel.invokeFunction('convertToInteractive',\n",
              "                                                     [key], {});\n",
              "          if (!dataTable) return;\n",
              "\n",
              "          const docLinkHtml = 'Like what you see? Visit the ' +\n",
              "            '<a target=\"_blank\" href=https://colab.research.google.com/notebooks/data_table.ipynb>data table notebook</a>'\n",
              "            + ' to learn more about interactive tables.';\n",
              "          element.innerHTML = '';\n",
              "          dataTable['output_type'] = 'display_data';\n",
              "          await google.colab.output.renderOutput(dataTable, element);\n",
              "          const docLink = document.createElement('div');\n",
              "          docLink.innerHTML = docLinkHtml;\n",
              "          element.appendChild(docLink);\n",
              "        }\n",
              "      </script>\n",
              "    </div>\n",
              "  </div>\n",
              "  "
            ]
          },
          "metadata": {},
          "execution_count": 89
        }
      ]
    },
    {
      "cell_type": "code",
      "source": [
        "# split the DateTime column into separate Date and Time columns\n",
        "df4[['Order_date', 'Order_time']] = df4['Order date'].str.split(' ', expand=True)\n",
        "df4[['Medication_start_date', 'Medication_start_time']] = df4['Medication start date'].str.split(' ', expand=True)\n",
        "df4[['Medication_stop_date', 'Medication_stop_time']] = df4['Medication stop date'].str.split(' ', expand=True)\n",
        "df4[['Order_discontinue_date', 'Order_discontinue_time']] = df4['Order discontinue date'].str.split(' ', expand=True)\n",
        "     "
      ],
      "metadata": {
        "id": "PaV33mZsPGN5"
      },
      "execution_count": 90,
      "outputs": []
    },
    {
      "cell_type": "code",
      "source": [
        "df4.head()"
      ],
      "metadata": {
        "colab": {
          "base_uri": "https://localhost:8080/",
          "height": 565
        },
        "id": "Z-XmtPwtc6-V",
        "outputId": "9059c5bd-3af4-42c3-d347-c8b39bf786cf"
      },
      "execution_count": 91,
      "outputs": [
        {
          "output_type": "execute_result",
          "data": {
            "text/plain": [
              "   Internalpatientid  Age at med ordered             Order date  \\\n",
              "0             100012           52.169740  2001-09-01 00:57:34.0   \n",
              "1             100012           52.188357  2001-09-07 20:15:48.0   \n",
              "2             100012           52.767740  2002-04-07 14:37:01.0   \n",
              "3             100012           52.934562  2002-06-07 13:58:52.0   \n",
              "4             100012           53.011336  2002-07-05 15:26:15.0   \n",
              "\n",
              "   Medication start date   Medication stop date Order discontinue date  \\\n",
              "0  2001-09-01 00:57:34.0  2003-10-16 07:08:34.0  2002-01-06 16:07:34.0   \n",
              "1  2001-09-07 20:15:48.0  2001-11-07 07:08:48.0  2001-11-07 07:08:48.0   \n",
              "2  2002-04-10 09:55:01.0  2002-04-11 11:34:01.0  2002-04-11 11:34:01.0   \n",
              "3  2002-06-07 13:58:52.0  2002-07-07 13:58:52.0                    NaN   \n",
              "4  2002-07-05 15:26:15.0  2002-08-04 15:26:15.0                    NaN   \n",
              "\n",
              "                  Ordered medication atc 5  Order status  \\\n",
              "0                             lansoprazole  discontinued   \n",
              "1                                celecoxib  discontinued   \n",
              "2                             benzalkonium     cancelled   \n",
              "3  oxycodone ; paracetamol (acetaminophen)       expired   \n",
              "4                         Not a medication       expired   \n",
              "\n",
              "                Stop reason       State  Order_date  Order_time  \\\n",
              "0  Not specified (no value)       Texas  2001-09-01  00:57:34.0   \n",
              "1  Not specified (no value)       Texas  2001-09-07  20:15:48.0   \n",
              "2  Not specified (no value)  New Mexico  2002-04-07  14:37:01.0   \n",
              "3  Not specified (no value)  New Mexico  2002-06-07  13:58:52.0   \n",
              "4  Not specified (no value)  New Mexico  2002-07-05  15:26:15.0   \n",
              "\n",
              "  Medication_start_date Medication_start_time Medication_stop_date  \\\n",
              "0            2001-09-01            00:57:34.0           2003-10-16   \n",
              "1            2001-09-07            20:15:48.0           2001-11-07   \n",
              "2            2002-04-10            09:55:01.0           2002-04-11   \n",
              "3            2002-06-07            13:58:52.0           2002-07-07   \n",
              "4            2002-07-05            15:26:15.0           2002-08-04   \n",
              "\n",
              "  Medication_stop_time Order_discontinue_date Order_discontinue_time  \n",
              "0           07:08:34.0             2002-01-06             16:07:34.0  \n",
              "1           07:08:48.0             2001-11-07             07:08:48.0  \n",
              "2           11:34:01.0             2002-04-11             11:34:01.0  \n",
              "3           13:58:52.0                    NaN                    NaN  \n",
              "4           15:26:15.0                    NaN                    NaN  "
            ],
            "text/html": [
              "\n",
              "  <div id=\"df-542d9f30-6c40-432b-9986-63802a5ad64b\">\n",
              "    <div class=\"colab-df-container\">\n",
              "      <div>\n",
              "<style scoped>\n",
              "    .dataframe tbody tr th:only-of-type {\n",
              "        vertical-align: middle;\n",
              "    }\n",
              "\n",
              "    .dataframe tbody tr th {\n",
              "        vertical-align: top;\n",
              "    }\n",
              "\n",
              "    .dataframe thead th {\n",
              "        text-align: right;\n",
              "    }\n",
              "</style>\n",
              "<table border=\"1\" class=\"dataframe\">\n",
              "  <thead>\n",
              "    <tr style=\"text-align: right;\">\n",
              "      <th></th>\n",
              "      <th>Internalpatientid</th>\n",
              "      <th>Age at med ordered</th>\n",
              "      <th>Order date</th>\n",
              "      <th>Medication start date</th>\n",
              "      <th>Medication stop date</th>\n",
              "      <th>Order discontinue date</th>\n",
              "      <th>Ordered medication atc 5</th>\n",
              "      <th>Order status</th>\n",
              "      <th>Stop reason</th>\n",
              "      <th>State</th>\n",
              "      <th>Order_date</th>\n",
              "      <th>Order_time</th>\n",
              "      <th>Medication_start_date</th>\n",
              "      <th>Medication_start_time</th>\n",
              "      <th>Medication_stop_date</th>\n",
              "      <th>Medication_stop_time</th>\n",
              "      <th>Order_discontinue_date</th>\n",
              "      <th>Order_discontinue_time</th>\n",
              "    </tr>\n",
              "  </thead>\n",
              "  <tbody>\n",
              "    <tr>\n",
              "      <th>0</th>\n",
              "      <td>100012</td>\n",
              "      <td>52.169740</td>\n",
              "      <td>2001-09-01 00:57:34.0</td>\n",
              "      <td>2001-09-01 00:57:34.0</td>\n",
              "      <td>2003-10-16 07:08:34.0</td>\n",
              "      <td>2002-01-06 16:07:34.0</td>\n",
              "      <td>lansoprazole</td>\n",
              "      <td>discontinued</td>\n",
              "      <td>Not specified (no value)</td>\n",
              "      <td>Texas</td>\n",
              "      <td>2001-09-01</td>\n",
              "      <td>00:57:34.0</td>\n",
              "      <td>2001-09-01</td>\n",
              "      <td>00:57:34.0</td>\n",
              "      <td>2003-10-16</td>\n",
              "      <td>07:08:34.0</td>\n",
              "      <td>2002-01-06</td>\n",
              "      <td>16:07:34.0</td>\n",
              "    </tr>\n",
              "    <tr>\n",
              "      <th>1</th>\n",
              "      <td>100012</td>\n",
              "      <td>52.188357</td>\n",
              "      <td>2001-09-07 20:15:48.0</td>\n",
              "      <td>2001-09-07 20:15:48.0</td>\n",
              "      <td>2001-11-07 07:08:48.0</td>\n",
              "      <td>2001-11-07 07:08:48.0</td>\n",
              "      <td>celecoxib</td>\n",
              "      <td>discontinued</td>\n",
              "      <td>Not specified (no value)</td>\n",
              "      <td>Texas</td>\n",
              "      <td>2001-09-07</td>\n",
              "      <td>20:15:48.0</td>\n",
              "      <td>2001-09-07</td>\n",
              "      <td>20:15:48.0</td>\n",
              "      <td>2001-11-07</td>\n",
              "      <td>07:08:48.0</td>\n",
              "      <td>2001-11-07</td>\n",
              "      <td>07:08:48.0</td>\n",
              "    </tr>\n",
              "    <tr>\n",
              "      <th>2</th>\n",
              "      <td>100012</td>\n",
              "      <td>52.767740</td>\n",
              "      <td>2002-04-07 14:37:01.0</td>\n",
              "      <td>2002-04-10 09:55:01.0</td>\n",
              "      <td>2002-04-11 11:34:01.0</td>\n",
              "      <td>2002-04-11 11:34:01.0</td>\n",
              "      <td>benzalkonium</td>\n",
              "      <td>cancelled</td>\n",
              "      <td>Not specified (no value)</td>\n",
              "      <td>New Mexico</td>\n",
              "      <td>2002-04-07</td>\n",
              "      <td>14:37:01.0</td>\n",
              "      <td>2002-04-10</td>\n",
              "      <td>09:55:01.0</td>\n",
              "      <td>2002-04-11</td>\n",
              "      <td>11:34:01.0</td>\n",
              "      <td>2002-04-11</td>\n",
              "      <td>11:34:01.0</td>\n",
              "    </tr>\n",
              "    <tr>\n",
              "      <th>3</th>\n",
              "      <td>100012</td>\n",
              "      <td>52.934562</td>\n",
              "      <td>2002-06-07 13:58:52.0</td>\n",
              "      <td>2002-06-07 13:58:52.0</td>\n",
              "      <td>2002-07-07 13:58:52.0</td>\n",
              "      <td>NaN</td>\n",
              "      <td>oxycodone ; paracetamol (acetaminophen)</td>\n",
              "      <td>expired</td>\n",
              "      <td>Not specified (no value)</td>\n",
              "      <td>New Mexico</td>\n",
              "      <td>2002-06-07</td>\n",
              "      <td>13:58:52.0</td>\n",
              "      <td>2002-06-07</td>\n",
              "      <td>13:58:52.0</td>\n",
              "      <td>2002-07-07</td>\n",
              "      <td>13:58:52.0</td>\n",
              "      <td>NaN</td>\n",
              "      <td>NaN</td>\n",
              "    </tr>\n",
              "    <tr>\n",
              "      <th>4</th>\n",
              "      <td>100012</td>\n",
              "      <td>53.011336</td>\n",
              "      <td>2002-07-05 15:26:15.0</td>\n",
              "      <td>2002-07-05 15:26:15.0</td>\n",
              "      <td>2002-08-04 15:26:15.0</td>\n",
              "      <td>NaN</td>\n",
              "      <td>Not a medication</td>\n",
              "      <td>expired</td>\n",
              "      <td>Not specified (no value)</td>\n",
              "      <td>New Mexico</td>\n",
              "      <td>2002-07-05</td>\n",
              "      <td>15:26:15.0</td>\n",
              "      <td>2002-07-05</td>\n",
              "      <td>15:26:15.0</td>\n",
              "      <td>2002-08-04</td>\n",
              "      <td>15:26:15.0</td>\n",
              "      <td>NaN</td>\n",
              "      <td>NaN</td>\n",
              "    </tr>\n",
              "  </tbody>\n",
              "</table>\n",
              "</div>\n",
              "      <button class=\"colab-df-convert\" onclick=\"convertToInteractive('df-542d9f30-6c40-432b-9986-63802a5ad64b')\"\n",
              "              title=\"Convert this dataframe to an interactive table.\"\n",
              "              style=\"display:none;\">\n",
              "        \n",
              "  <svg xmlns=\"http://www.w3.org/2000/svg\" height=\"24px\"viewBox=\"0 0 24 24\"\n",
              "       width=\"24px\">\n",
              "    <path d=\"M0 0h24v24H0V0z\" fill=\"none\"/>\n",
              "    <path d=\"M18.56 5.44l.94 2.06.94-2.06 2.06-.94-2.06-.94-.94-2.06-.94 2.06-2.06.94zm-11 1L8.5 8.5l.94-2.06 2.06-.94-2.06-.94L8.5 2.5l-.94 2.06-2.06.94zm10 10l.94 2.06.94-2.06 2.06-.94-2.06-.94-.94-2.06-.94 2.06-2.06.94z\"/><path d=\"M17.41 7.96l-1.37-1.37c-.4-.4-.92-.59-1.43-.59-.52 0-1.04.2-1.43.59L10.3 9.45l-7.72 7.72c-.78.78-.78 2.05 0 2.83L4 21.41c.39.39.9.59 1.41.59.51 0 1.02-.2 1.41-.59l7.78-7.78 2.81-2.81c.8-.78.8-2.07 0-2.86zM5.41 20L4 18.59l7.72-7.72 1.47 1.35L5.41 20z\"/>\n",
              "  </svg>\n",
              "      </button>\n",
              "      \n",
              "  <style>\n",
              "    .colab-df-container {\n",
              "      display:flex;\n",
              "      flex-wrap:wrap;\n",
              "      gap: 12px;\n",
              "    }\n",
              "\n",
              "    .colab-df-convert {\n",
              "      background-color: #E8F0FE;\n",
              "      border: none;\n",
              "      border-radius: 50%;\n",
              "      cursor: pointer;\n",
              "      display: none;\n",
              "      fill: #1967D2;\n",
              "      height: 32px;\n",
              "      padding: 0 0 0 0;\n",
              "      width: 32px;\n",
              "    }\n",
              "\n",
              "    .colab-df-convert:hover {\n",
              "      background-color: #E2EBFA;\n",
              "      box-shadow: 0px 1px 2px rgba(60, 64, 67, 0.3), 0px 1px 3px 1px rgba(60, 64, 67, 0.15);\n",
              "      fill: #174EA6;\n",
              "    }\n",
              "\n",
              "    [theme=dark] .colab-df-convert {\n",
              "      background-color: #3B4455;\n",
              "      fill: #D2E3FC;\n",
              "    }\n",
              "\n",
              "    [theme=dark] .colab-df-convert:hover {\n",
              "      background-color: #434B5C;\n",
              "      box-shadow: 0px 1px 3px 1px rgba(0, 0, 0, 0.15);\n",
              "      filter: drop-shadow(0px 1px 2px rgba(0, 0, 0, 0.3));\n",
              "      fill: #FFFFFF;\n",
              "    }\n",
              "  </style>\n",
              "\n",
              "      <script>\n",
              "        const buttonEl =\n",
              "          document.querySelector('#df-542d9f30-6c40-432b-9986-63802a5ad64b button.colab-df-convert');\n",
              "        buttonEl.style.display =\n",
              "          google.colab.kernel.accessAllowed ? 'block' : 'none';\n",
              "\n",
              "        async function convertToInteractive(key) {\n",
              "          const element = document.querySelector('#df-542d9f30-6c40-432b-9986-63802a5ad64b');\n",
              "          const dataTable =\n",
              "            await google.colab.kernel.invokeFunction('convertToInteractive',\n",
              "                                                     [key], {});\n",
              "          if (!dataTable) return;\n",
              "\n",
              "          const docLinkHtml = 'Like what you see? Visit the ' +\n",
              "            '<a target=\"_blank\" href=https://colab.research.google.com/notebooks/data_table.ipynb>data table notebook</a>'\n",
              "            + ' to learn more about interactive tables.';\n",
              "          element.innerHTML = '';\n",
              "          dataTable['output_type'] = 'display_data';\n",
              "          await google.colab.output.renderOutput(dataTable, element);\n",
              "          const docLink = document.createElement('div');\n",
              "          docLink.innerHTML = docLinkHtml;\n",
              "          element.appendChild(docLink);\n",
              "        }\n",
              "      </script>\n",
              "    </div>\n",
              "  </div>\n",
              "  "
            ]
          },
          "metadata": {},
          "execution_count": 91
        }
      ]
    },
    {
      "cell_type": "code",
      "source": [
        "df4.drop(['Order date','Medication start date','Medication stop date','Order discontinue date'],axis = 1,inplace = True)\n",
        "df4.head()"
      ],
      "metadata": {
        "colab": {
          "base_uri": "https://localhost:8080/",
          "height": 565
        },
        "id": "iL6LcwZoc72m",
        "outputId": "c6ef2143-d395-493a-ed8c-77e5b18b19c0"
      },
      "execution_count": 92,
      "outputs": [
        {
          "output_type": "execute_result",
          "data": {
            "text/plain": [
              "   Internalpatientid  Age at med ordered  \\\n",
              "0             100012           52.169740   \n",
              "1             100012           52.188357   \n",
              "2             100012           52.767740   \n",
              "3             100012           52.934562   \n",
              "4             100012           53.011336   \n",
              "\n",
              "                  Ordered medication atc 5  Order status  \\\n",
              "0                             lansoprazole  discontinued   \n",
              "1                                celecoxib  discontinued   \n",
              "2                             benzalkonium     cancelled   \n",
              "3  oxycodone ; paracetamol (acetaminophen)       expired   \n",
              "4                         Not a medication       expired   \n",
              "\n",
              "                Stop reason       State  Order_date  Order_time  \\\n",
              "0  Not specified (no value)       Texas  2001-09-01  00:57:34.0   \n",
              "1  Not specified (no value)       Texas  2001-09-07  20:15:48.0   \n",
              "2  Not specified (no value)  New Mexico  2002-04-07  14:37:01.0   \n",
              "3  Not specified (no value)  New Mexico  2002-06-07  13:58:52.0   \n",
              "4  Not specified (no value)  New Mexico  2002-07-05  15:26:15.0   \n",
              "\n",
              "  Medication_start_date Medication_start_time Medication_stop_date  \\\n",
              "0            2001-09-01            00:57:34.0           2003-10-16   \n",
              "1            2001-09-07            20:15:48.0           2001-11-07   \n",
              "2            2002-04-10            09:55:01.0           2002-04-11   \n",
              "3            2002-06-07            13:58:52.0           2002-07-07   \n",
              "4            2002-07-05            15:26:15.0           2002-08-04   \n",
              "\n",
              "  Medication_stop_time Order_discontinue_date Order_discontinue_time  \n",
              "0           07:08:34.0             2002-01-06             16:07:34.0  \n",
              "1           07:08:48.0             2001-11-07             07:08:48.0  \n",
              "2           11:34:01.0             2002-04-11             11:34:01.0  \n",
              "3           13:58:52.0                    NaN                    NaN  \n",
              "4           15:26:15.0                    NaN                    NaN  "
            ],
            "text/html": [
              "\n",
              "  <div id=\"df-c64fb898-f44e-4220-a93b-21dcbf37930d\">\n",
              "    <div class=\"colab-df-container\">\n",
              "      <div>\n",
              "<style scoped>\n",
              "    .dataframe tbody tr th:only-of-type {\n",
              "        vertical-align: middle;\n",
              "    }\n",
              "\n",
              "    .dataframe tbody tr th {\n",
              "        vertical-align: top;\n",
              "    }\n",
              "\n",
              "    .dataframe thead th {\n",
              "        text-align: right;\n",
              "    }\n",
              "</style>\n",
              "<table border=\"1\" class=\"dataframe\">\n",
              "  <thead>\n",
              "    <tr style=\"text-align: right;\">\n",
              "      <th></th>\n",
              "      <th>Internalpatientid</th>\n",
              "      <th>Age at med ordered</th>\n",
              "      <th>Ordered medication atc 5</th>\n",
              "      <th>Order status</th>\n",
              "      <th>Stop reason</th>\n",
              "      <th>State</th>\n",
              "      <th>Order_date</th>\n",
              "      <th>Order_time</th>\n",
              "      <th>Medication_start_date</th>\n",
              "      <th>Medication_start_time</th>\n",
              "      <th>Medication_stop_date</th>\n",
              "      <th>Medication_stop_time</th>\n",
              "      <th>Order_discontinue_date</th>\n",
              "      <th>Order_discontinue_time</th>\n",
              "    </tr>\n",
              "  </thead>\n",
              "  <tbody>\n",
              "    <tr>\n",
              "      <th>0</th>\n",
              "      <td>100012</td>\n",
              "      <td>52.169740</td>\n",
              "      <td>lansoprazole</td>\n",
              "      <td>discontinued</td>\n",
              "      <td>Not specified (no value)</td>\n",
              "      <td>Texas</td>\n",
              "      <td>2001-09-01</td>\n",
              "      <td>00:57:34.0</td>\n",
              "      <td>2001-09-01</td>\n",
              "      <td>00:57:34.0</td>\n",
              "      <td>2003-10-16</td>\n",
              "      <td>07:08:34.0</td>\n",
              "      <td>2002-01-06</td>\n",
              "      <td>16:07:34.0</td>\n",
              "    </tr>\n",
              "    <tr>\n",
              "      <th>1</th>\n",
              "      <td>100012</td>\n",
              "      <td>52.188357</td>\n",
              "      <td>celecoxib</td>\n",
              "      <td>discontinued</td>\n",
              "      <td>Not specified (no value)</td>\n",
              "      <td>Texas</td>\n",
              "      <td>2001-09-07</td>\n",
              "      <td>20:15:48.0</td>\n",
              "      <td>2001-09-07</td>\n",
              "      <td>20:15:48.0</td>\n",
              "      <td>2001-11-07</td>\n",
              "      <td>07:08:48.0</td>\n",
              "      <td>2001-11-07</td>\n",
              "      <td>07:08:48.0</td>\n",
              "    </tr>\n",
              "    <tr>\n",
              "      <th>2</th>\n",
              "      <td>100012</td>\n",
              "      <td>52.767740</td>\n",
              "      <td>benzalkonium</td>\n",
              "      <td>cancelled</td>\n",
              "      <td>Not specified (no value)</td>\n",
              "      <td>New Mexico</td>\n",
              "      <td>2002-04-07</td>\n",
              "      <td>14:37:01.0</td>\n",
              "      <td>2002-04-10</td>\n",
              "      <td>09:55:01.0</td>\n",
              "      <td>2002-04-11</td>\n",
              "      <td>11:34:01.0</td>\n",
              "      <td>2002-04-11</td>\n",
              "      <td>11:34:01.0</td>\n",
              "    </tr>\n",
              "    <tr>\n",
              "      <th>3</th>\n",
              "      <td>100012</td>\n",
              "      <td>52.934562</td>\n",
              "      <td>oxycodone ; paracetamol (acetaminophen)</td>\n",
              "      <td>expired</td>\n",
              "      <td>Not specified (no value)</td>\n",
              "      <td>New Mexico</td>\n",
              "      <td>2002-06-07</td>\n",
              "      <td>13:58:52.0</td>\n",
              "      <td>2002-06-07</td>\n",
              "      <td>13:58:52.0</td>\n",
              "      <td>2002-07-07</td>\n",
              "      <td>13:58:52.0</td>\n",
              "      <td>NaN</td>\n",
              "      <td>NaN</td>\n",
              "    </tr>\n",
              "    <tr>\n",
              "      <th>4</th>\n",
              "      <td>100012</td>\n",
              "      <td>53.011336</td>\n",
              "      <td>Not a medication</td>\n",
              "      <td>expired</td>\n",
              "      <td>Not specified (no value)</td>\n",
              "      <td>New Mexico</td>\n",
              "      <td>2002-07-05</td>\n",
              "      <td>15:26:15.0</td>\n",
              "      <td>2002-07-05</td>\n",
              "      <td>15:26:15.0</td>\n",
              "      <td>2002-08-04</td>\n",
              "      <td>15:26:15.0</td>\n",
              "      <td>NaN</td>\n",
              "      <td>NaN</td>\n",
              "    </tr>\n",
              "  </tbody>\n",
              "</table>\n",
              "</div>\n",
              "      <button class=\"colab-df-convert\" onclick=\"convertToInteractive('df-c64fb898-f44e-4220-a93b-21dcbf37930d')\"\n",
              "              title=\"Convert this dataframe to an interactive table.\"\n",
              "              style=\"display:none;\">\n",
              "        \n",
              "  <svg xmlns=\"http://www.w3.org/2000/svg\" height=\"24px\"viewBox=\"0 0 24 24\"\n",
              "       width=\"24px\">\n",
              "    <path d=\"M0 0h24v24H0V0z\" fill=\"none\"/>\n",
              "    <path d=\"M18.56 5.44l.94 2.06.94-2.06 2.06-.94-2.06-.94-.94-2.06-.94 2.06-2.06.94zm-11 1L8.5 8.5l.94-2.06 2.06-.94-2.06-.94L8.5 2.5l-.94 2.06-2.06.94zm10 10l.94 2.06.94-2.06 2.06-.94-2.06-.94-.94-2.06-.94 2.06-2.06.94z\"/><path d=\"M17.41 7.96l-1.37-1.37c-.4-.4-.92-.59-1.43-.59-.52 0-1.04.2-1.43.59L10.3 9.45l-7.72 7.72c-.78.78-.78 2.05 0 2.83L4 21.41c.39.39.9.59 1.41.59.51 0 1.02-.2 1.41-.59l7.78-7.78 2.81-2.81c.8-.78.8-2.07 0-2.86zM5.41 20L4 18.59l7.72-7.72 1.47 1.35L5.41 20z\"/>\n",
              "  </svg>\n",
              "      </button>\n",
              "      \n",
              "  <style>\n",
              "    .colab-df-container {\n",
              "      display:flex;\n",
              "      flex-wrap:wrap;\n",
              "      gap: 12px;\n",
              "    }\n",
              "\n",
              "    .colab-df-convert {\n",
              "      background-color: #E8F0FE;\n",
              "      border: none;\n",
              "      border-radius: 50%;\n",
              "      cursor: pointer;\n",
              "      display: none;\n",
              "      fill: #1967D2;\n",
              "      height: 32px;\n",
              "      padding: 0 0 0 0;\n",
              "      width: 32px;\n",
              "    }\n",
              "\n",
              "    .colab-df-convert:hover {\n",
              "      background-color: #E2EBFA;\n",
              "      box-shadow: 0px 1px 2px rgba(60, 64, 67, 0.3), 0px 1px 3px 1px rgba(60, 64, 67, 0.15);\n",
              "      fill: #174EA6;\n",
              "    }\n",
              "\n",
              "    [theme=dark] .colab-df-convert {\n",
              "      background-color: #3B4455;\n",
              "      fill: #D2E3FC;\n",
              "    }\n",
              "\n",
              "    [theme=dark] .colab-df-convert:hover {\n",
              "      background-color: #434B5C;\n",
              "      box-shadow: 0px 1px 3px 1px rgba(0, 0, 0, 0.15);\n",
              "      filter: drop-shadow(0px 1px 2px rgba(0, 0, 0, 0.3));\n",
              "      fill: #FFFFFF;\n",
              "    }\n",
              "  </style>\n",
              "\n",
              "      <script>\n",
              "        const buttonEl =\n",
              "          document.querySelector('#df-c64fb898-f44e-4220-a93b-21dcbf37930d button.colab-df-convert');\n",
              "        buttonEl.style.display =\n",
              "          google.colab.kernel.accessAllowed ? 'block' : 'none';\n",
              "\n",
              "        async function convertToInteractive(key) {\n",
              "          const element = document.querySelector('#df-c64fb898-f44e-4220-a93b-21dcbf37930d');\n",
              "          const dataTable =\n",
              "            await google.colab.kernel.invokeFunction('convertToInteractive',\n",
              "                                                     [key], {});\n",
              "          if (!dataTable) return;\n",
              "\n",
              "          const docLinkHtml = 'Like what you see? Visit the ' +\n",
              "            '<a target=\"_blank\" href=https://colab.research.google.com/notebooks/data_table.ipynb>data table notebook</a>'\n",
              "            + ' to learn more about interactive tables.';\n",
              "          element.innerHTML = '';\n",
              "          dataTable['output_type'] = 'display_data';\n",
              "          await google.colab.output.renderOutput(dataTable, element);\n",
              "          const docLink = document.createElement('div');\n",
              "          docLink.innerHTML = docLinkHtml;\n",
              "          element.appendChild(docLink);\n",
              "        }\n",
              "      </script>\n",
              "    </div>\n",
              "  </div>\n",
              "  "
            ]
          },
          "metadata": {},
          "execution_count": 92
        }
      ]
    },
    {
      "cell_type": "code",
      "source": [
        "df4.rename(columns = {'Age at med ordered':'Age_at_med_ordered','Ordered medication atc 5':'Ordered_medication_atc_5','Order status':'Order_status',\n",
        "                      'Stop reason':'Stop_reason'},inplace = True)"
      ],
      "metadata": {
        "id": "NZJdbHiXaUmN"
      },
      "execution_count": 93,
      "outputs": []
    },
    {
      "cell_type": "code",
      "source": [
        "df4.head()"
      ],
      "metadata": {
        "colab": {
          "base_uri": "https://localhost:8080/",
          "height": 357
        },
        "id": "_Hk6K1DybKEM",
        "outputId": "e10f1ce2-ff03-471e-fc55-02d56964b901"
      },
      "execution_count": 94,
      "outputs": [
        {
          "output_type": "execute_result",
          "data": {
            "text/plain": [
              "   Internalpatientid  Age_at_med_ordered  \\\n",
              "0             100012           52.169740   \n",
              "1             100012           52.188357   \n",
              "2             100012           52.767740   \n",
              "3             100012           52.934562   \n",
              "4             100012           53.011336   \n",
              "\n",
              "                  Ordered_medication_atc_5  Order_status  \\\n",
              "0                             lansoprazole  discontinued   \n",
              "1                                celecoxib  discontinued   \n",
              "2                             benzalkonium     cancelled   \n",
              "3  oxycodone ; paracetamol (acetaminophen)       expired   \n",
              "4                         Not a medication       expired   \n",
              "\n",
              "                Stop_reason       State  Order_date  Order_time  \\\n",
              "0  Not specified (no value)       Texas  2001-09-01  00:57:34.0   \n",
              "1  Not specified (no value)       Texas  2001-09-07  20:15:48.0   \n",
              "2  Not specified (no value)  New Mexico  2002-04-07  14:37:01.0   \n",
              "3  Not specified (no value)  New Mexico  2002-06-07  13:58:52.0   \n",
              "4  Not specified (no value)  New Mexico  2002-07-05  15:26:15.0   \n",
              "\n",
              "  Medication_start_date Medication_start_time Medication_stop_date  \\\n",
              "0            2001-09-01            00:57:34.0           2003-10-16   \n",
              "1            2001-09-07            20:15:48.0           2001-11-07   \n",
              "2            2002-04-10            09:55:01.0           2002-04-11   \n",
              "3            2002-06-07            13:58:52.0           2002-07-07   \n",
              "4            2002-07-05            15:26:15.0           2002-08-04   \n",
              "\n",
              "  Medication_stop_time Order_discontinue_date Order_discontinue_time  \n",
              "0           07:08:34.0             2002-01-06             16:07:34.0  \n",
              "1           07:08:48.0             2001-11-07             07:08:48.0  \n",
              "2           11:34:01.0             2002-04-11             11:34:01.0  \n",
              "3           13:58:52.0                    NaN                    NaN  \n",
              "4           15:26:15.0                    NaN                    NaN  "
            ],
            "text/html": [
              "\n",
              "  <div id=\"df-fa69788b-14b7-4d3a-99d6-3cf5364736fb\">\n",
              "    <div class=\"colab-df-container\">\n",
              "      <div>\n",
              "<style scoped>\n",
              "    .dataframe tbody tr th:only-of-type {\n",
              "        vertical-align: middle;\n",
              "    }\n",
              "\n",
              "    .dataframe tbody tr th {\n",
              "        vertical-align: top;\n",
              "    }\n",
              "\n",
              "    .dataframe thead th {\n",
              "        text-align: right;\n",
              "    }\n",
              "</style>\n",
              "<table border=\"1\" class=\"dataframe\">\n",
              "  <thead>\n",
              "    <tr style=\"text-align: right;\">\n",
              "      <th></th>\n",
              "      <th>Internalpatientid</th>\n",
              "      <th>Age_at_med_ordered</th>\n",
              "      <th>Ordered_medication_atc_5</th>\n",
              "      <th>Order_status</th>\n",
              "      <th>Stop_reason</th>\n",
              "      <th>State</th>\n",
              "      <th>Order_date</th>\n",
              "      <th>Order_time</th>\n",
              "      <th>Medication_start_date</th>\n",
              "      <th>Medication_start_time</th>\n",
              "      <th>Medication_stop_date</th>\n",
              "      <th>Medication_stop_time</th>\n",
              "      <th>Order_discontinue_date</th>\n",
              "      <th>Order_discontinue_time</th>\n",
              "    </tr>\n",
              "  </thead>\n",
              "  <tbody>\n",
              "    <tr>\n",
              "      <th>0</th>\n",
              "      <td>100012</td>\n",
              "      <td>52.169740</td>\n",
              "      <td>lansoprazole</td>\n",
              "      <td>discontinued</td>\n",
              "      <td>Not specified (no value)</td>\n",
              "      <td>Texas</td>\n",
              "      <td>2001-09-01</td>\n",
              "      <td>00:57:34.0</td>\n",
              "      <td>2001-09-01</td>\n",
              "      <td>00:57:34.0</td>\n",
              "      <td>2003-10-16</td>\n",
              "      <td>07:08:34.0</td>\n",
              "      <td>2002-01-06</td>\n",
              "      <td>16:07:34.0</td>\n",
              "    </tr>\n",
              "    <tr>\n",
              "      <th>1</th>\n",
              "      <td>100012</td>\n",
              "      <td>52.188357</td>\n",
              "      <td>celecoxib</td>\n",
              "      <td>discontinued</td>\n",
              "      <td>Not specified (no value)</td>\n",
              "      <td>Texas</td>\n",
              "      <td>2001-09-07</td>\n",
              "      <td>20:15:48.0</td>\n",
              "      <td>2001-09-07</td>\n",
              "      <td>20:15:48.0</td>\n",
              "      <td>2001-11-07</td>\n",
              "      <td>07:08:48.0</td>\n",
              "      <td>2001-11-07</td>\n",
              "      <td>07:08:48.0</td>\n",
              "    </tr>\n",
              "    <tr>\n",
              "      <th>2</th>\n",
              "      <td>100012</td>\n",
              "      <td>52.767740</td>\n",
              "      <td>benzalkonium</td>\n",
              "      <td>cancelled</td>\n",
              "      <td>Not specified (no value)</td>\n",
              "      <td>New Mexico</td>\n",
              "      <td>2002-04-07</td>\n",
              "      <td>14:37:01.0</td>\n",
              "      <td>2002-04-10</td>\n",
              "      <td>09:55:01.0</td>\n",
              "      <td>2002-04-11</td>\n",
              "      <td>11:34:01.0</td>\n",
              "      <td>2002-04-11</td>\n",
              "      <td>11:34:01.0</td>\n",
              "    </tr>\n",
              "    <tr>\n",
              "      <th>3</th>\n",
              "      <td>100012</td>\n",
              "      <td>52.934562</td>\n",
              "      <td>oxycodone ; paracetamol (acetaminophen)</td>\n",
              "      <td>expired</td>\n",
              "      <td>Not specified (no value)</td>\n",
              "      <td>New Mexico</td>\n",
              "      <td>2002-06-07</td>\n",
              "      <td>13:58:52.0</td>\n",
              "      <td>2002-06-07</td>\n",
              "      <td>13:58:52.0</td>\n",
              "      <td>2002-07-07</td>\n",
              "      <td>13:58:52.0</td>\n",
              "      <td>NaN</td>\n",
              "      <td>NaN</td>\n",
              "    </tr>\n",
              "    <tr>\n",
              "      <th>4</th>\n",
              "      <td>100012</td>\n",
              "      <td>53.011336</td>\n",
              "      <td>Not a medication</td>\n",
              "      <td>expired</td>\n",
              "      <td>Not specified (no value)</td>\n",
              "      <td>New Mexico</td>\n",
              "      <td>2002-07-05</td>\n",
              "      <td>15:26:15.0</td>\n",
              "      <td>2002-07-05</td>\n",
              "      <td>15:26:15.0</td>\n",
              "      <td>2002-08-04</td>\n",
              "      <td>15:26:15.0</td>\n",
              "      <td>NaN</td>\n",
              "      <td>NaN</td>\n",
              "    </tr>\n",
              "  </tbody>\n",
              "</table>\n",
              "</div>\n",
              "      <button class=\"colab-df-convert\" onclick=\"convertToInteractive('df-fa69788b-14b7-4d3a-99d6-3cf5364736fb')\"\n",
              "              title=\"Convert this dataframe to an interactive table.\"\n",
              "              style=\"display:none;\">\n",
              "        \n",
              "  <svg xmlns=\"http://www.w3.org/2000/svg\" height=\"24px\"viewBox=\"0 0 24 24\"\n",
              "       width=\"24px\">\n",
              "    <path d=\"M0 0h24v24H0V0z\" fill=\"none\"/>\n",
              "    <path d=\"M18.56 5.44l.94 2.06.94-2.06 2.06-.94-2.06-.94-.94-2.06-.94 2.06-2.06.94zm-11 1L8.5 8.5l.94-2.06 2.06-.94-2.06-.94L8.5 2.5l-.94 2.06-2.06.94zm10 10l.94 2.06.94-2.06 2.06-.94-2.06-.94-.94-2.06-.94 2.06-2.06.94z\"/><path d=\"M17.41 7.96l-1.37-1.37c-.4-.4-.92-.59-1.43-.59-.52 0-1.04.2-1.43.59L10.3 9.45l-7.72 7.72c-.78.78-.78 2.05 0 2.83L4 21.41c.39.39.9.59 1.41.59.51 0 1.02-.2 1.41-.59l7.78-7.78 2.81-2.81c.8-.78.8-2.07 0-2.86zM5.41 20L4 18.59l7.72-7.72 1.47 1.35L5.41 20z\"/>\n",
              "  </svg>\n",
              "      </button>\n",
              "      \n",
              "  <style>\n",
              "    .colab-df-container {\n",
              "      display:flex;\n",
              "      flex-wrap:wrap;\n",
              "      gap: 12px;\n",
              "    }\n",
              "\n",
              "    .colab-df-convert {\n",
              "      background-color: #E8F0FE;\n",
              "      border: none;\n",
              "      border-radius: 50%;\n",
              "      cursor: pointer;\n",
              "      display: none;\n",
              "      fill: #1967D2;\n",
              "      height: 32px;\n",
              "      padding: 0 0 0 0;\n",
              "      width: 32px;\n",
              "    }\n",
              "\n",
              "    .colab-df-convert:hover {\n",
              "      background-color: #E2EBFA;\n",
              "      box-shadow: 0px 1px 2px rgba(60, 64, 67, 0.3), 0px 1px 3px 1px rgba(60, 64, 67, 0.15);\n",
              "      fill: #174EA6;\n",
              "    }\n",
              "\n",
              "    [theme=dark] .colab-df-convert {\n",
              "      background-color: #3B4455;\n",
              "      fill: #D2E3FC;\n",
              "    }\n",
              "\n",
              "    [theme=dark] .colab-df-convert:hover {\n",
              "      background-color: #434B5C;\n",
              "      box-shadow: 0px 1px 3px 1px rgba(0, 0, 0, 0.15);\n",
              "      filter: drop-shadow(0px 1px 2px rgba(0, 0, 0, 0.3));\n",
              "      fill: #FFFFFF;\n",
              "    }\n",
              "  </style>\n",
              "\n",
              "      <script>\n",
              "        const buttonEl =\n",
              "          document.querySelector('#df-fa69788b-14b7-4d3a-99d6-3cf5364736fb button.colab-df-convert');\n",
              "        buttonEl.style.display =\n",
              "          google.colab.kernel.accessAllowed ? 'block' : 'none';\n",
              "\n",
              "        async function convertToInteractive(key) {\n",
              "          const element = document.querySelector('#df-fa69788b-14b7-4d3a-99d6-3cf5364736fb');\n",
              "          const dataTable =\n",
              "            await google.colab.kernel.invokeFunction('convertToInteractive',\n",
              "                                                     [key], {});\n",
              "          if (!dataTable) return;\n",
              "\n",
              "          const docLinkHtml = 'Like what you see? Visit the ' +\n",
              "            '<a target=\"_blank\" href=https://colab.research.google.com/notebooks/data_table.ipynb>data table notebook</a>'\n",
              "            + ' to learn more about interactive tables.';\n",
              "          element.innerHTML = '';\n",
              "          dataTable['output_type'] = 'display_data';\n",
              "          await google.colab.output.renderOutput(dataTable, element);\n",
              "          const docLink = document.createElement('div');\n",
              "          docLink.innerHTML = docLinkHtml;\n",
              "          element.appendChild(docLink);\n",
              "        }\n",
              "      </script>\n",
              "    </div>\n",
              "  </div>\n",
              "  "
            ]
          },
          "metadata": {},
          "execution_count": 94
        }
      ]
    },
    {
      "cell_type": "code",
      "source": [
        "sns.kdeplot(x = 'Age_at_med_ordered', data = df4)"
      ],
      "metadata": {
        "colab": {
          "base_uri": "https://localhost:8080/",
          "height": 472
        },
        "id": "sbsgGn1PbNyK",
        "outputId": "e9be8cef-9213-42dd-8acf-1120dc562d64"
      },
      "execution_count": 95,
      "outputs": [
        {
          "output_type": "execute_result",
          "data": {
            "text/plain": [
              "<Axes: xlabel='Age_at_med_ordered', ylabel='Density'>"
            ]
          },
          "metadata": {},
          "execution_count": 95
        },
        {
          "output_type": "display_data",
          "data": {
            "text/plain": [
              "<Figure size 640x480 with 1 Axes>"
            ],
            "image/png": "[encoded data removed]"
          },
          "metadata": {}
        }
      ]
    },
    {
      "cell_type": "code",
      "source": [
        "df4.shape"
      ],
      "metadata": {
        "colab": {
          "base_uri": "https://localhost:8080/"
        },
        "id": "dCryssvgdxzu",
        "outputId": "be480b5a-acb9-42ea-d222-7971c5c3576c"
      },
      "execution_count": 96,
      "outputs": [
        {
          "output_type": "execute_result",
          "data": {
            "text/plain": [
              "(452479, 14)"
            ]
          },
          "metadata": {},
          "execution_count": 96
        }
      ]
    },
    {
      "cell_type": "code",
      "source": [
        "df4.info()"
      ],
      "metadata": {
        "colab": {
          "base_uri": "https://localhost:8080/"
        },
        "id": "X3rgvgYSdy3o",
        "outputId": "faca278b-9b40-4ab0-c5cc-5e570e716494"
      },
      "execution_count": 97,
      "outputs": [
        {
          "output_type": "stream",
          "name": "stdout",
          "text": [
            "<class 'pandas.core.frame.DataFrame'>\n",
            "RangeIndex: 452479 entries, 0 to 452478\n",
            "Data columns (total 14 columns):\n",
            " #   Column                    Non-Null Count   Dtype  \n",
            "---  ------                    --------------   -----  \n",
            " 0   Internalpatientid         452479 non-null  int64  \n",
            " 1   Age_at_med_ordered        452479 non-null  float64\n",
            " 2   Ordered_medication_atc_5  452479 non-null  object \n",
            " 3   Order_status              452479 non-null  object \n",
            " 4   Stop_reason               452479 non-null  object \n",
            " 5   State                     452479 non-null  object \n",
            " 6   Order_date                452479 non-null  object \n",
            " 7   Order_time                452479 non-null  object \n",
            " 8   Medication_start_date     433404 non-null  object \n",
            " 9   Medication_start_time     433404 non-null  object \n",
            " 10  Medication_stop_date      444066 non-null  object \n",
            " 11  Medication_stop_time      444066 non-null  object \n",
            " 12  Order_discontinue_date    316477 non-null  object \n",
            " 13  Order_discontinue_time    316477 non-null  object \n",
            "dtypes: float64(1), int64(1), object(12)\n",
            "memory usage: 48.3+ MB\n"
          ]
        }
      ]
    },
    {
      "cell_type": "code",
      "source": [
        "df4.Ordered_medication_atc_5.nunique()"
      ],
      "metadata": {
        "colab": {
          "base_uri": "https://localhost:8080/"
        },
        "id": "NfcIa7rWbeOZ",
        "outputId": "88bb8d3e-a7d2-4c69-ac43-2434ba5a7599"
      },
      "execution_count": 98,
      "outputs": [
        {
          "output_type": "execute_result",
          "data": {
            "text/plain": [
              "1566"
            ]
          },
          "metadata": {},
          "execution_count": 98
        }
      ]
    },
    {
      "cell_type": "code",
      "source": [
        "df4.Ordered_medication_atc_5.value_counts()"
      ],
      "metadata": {
        "colab": {
          "base_uri": "https://localhost:8080/"
        },
        "id": "FItffoKsd11y",
        "outputId": "903f3c8d-8421-4099-c6b1-b9b6714d3e29"
      },
      "execution_count": 99,
      "outputs": [
        {
          "output_type": "execute_result",
          "data": {
            "text/plain": [
              "Not specified                                                        32633\n",
              "furosemide                                                           12430\n",
              "metoprolol                                                           11201\n",
              "lisinopril                                                            9720\n",
              "Not a medication                                                      9139\n",
              "                                                                     ...  \n",
              "degarelix                                                                1\n",
              "aluminium hydroxide ; lidocaine ; magnesium hydroxide ; silicones        1\n",
              "ethanol ; morphine                                                       1\n",
              "glecaprevir, pibrentasvir                                                1\n",
              "silver                                                                   1\n",
              "Name: Ordered_medication_atc_5, Length: 1566, dtype: int64"
            ]
          },
          "metadata": {},
          "execution_count": 99
        }
      ]
    },
    {
      "cell_type": "code",
      "source": [
        "df4.Order_status.unique()"
      ],
      "metadata": {
        "colab": {
          "base_uri": "https://localhost:8080/"
        },
        "id": "kkIUvsihbcRo",
        "outputId": "3ce370df-1ab6-41bd-9145-0d0b9a773c12"
      },
      "execution_count": 100,
      "outputs": [
        {
          "output_type": "execute_result",
          "data": {
            "text/plain": [
              "array(['discontinued', 'cancelled', 'expired', 'discontinued/edit',\n",
              "       'active', 'complete', 'hold', 'lapsed', 'delayed', 'pending',\n",
              "       'unreleased', 'renewed'], dtype=object)"
            ]
          },
          "metadata": {},
          "execution_count": 100
        }
      ]
    },
    {
      "cell_type": "code",
      "source": [
        "df4.Order_status.value_counts()"
      ],
      "metadata": {
        "colab": {
          "base_uri": "https://localhost:8080/"
        },
        "id": "PWqDxLPZbvBV",
        "outputId": "848ff8b2-1482-44d7-e815-857de2b4099c"
      },
      "execution_count": 101,
      "outputs": [
        {
          "output_type": "execute_result",
          "data": {
            "text/plain": [
              "discontinued         259953\n",
              "expired              115868\n",
              "discontinued/edit     48102\n",
              "cancelled             15742\n",
              "complete               7406\n",
              "active                 4250\n",
              "lapsed                 1031\n",
              "unreleased               52\n",
              "hold                     38\n",
              "pending                  24\n",
              "delayed                  11\n",
              "renewed                   2\n",
              "Name: Order_status, dtype: int64"
            ]
          },
          "metadata": {},
          "execution_count": 101
        }
      ]
    },
    {
      "cell_type": "code",
      "source": [
        "plt.figure(figsize=(15,4))\n",
        "sns.countplot(data=df4, x=\"Order_status\")\n"
      ],
      "metadata": {
        "colab": {
          "base_uri": "https://localhost:8080/",
          "height": 328
        },
        "id": "8ZQPKni2clJp",
        "outputId": "c7939e72-2c7f-4f8a-d873-9877e38c07ff"
      },
      "execution_count": 102,
      "outputs": [
        {
          "output_type": "execute_result",
          "data": {
            "text/plain": [
              "<Axes: xlabel='Order_status', ylabel='count'>"
            ]
          },
          "metadata": {},
          "execution_count": 102
        },
        {
          "output_type": "display_data",
          "data": {
            "text/plain": [
              "<Figure size 1500x400 with 1 Axes>"
            ],
            "image/png": "[encoded data removed]"
          },
          "metadata": {}
        }
      ]
    },
    {
      "cell_type": "code",
      "source": [
        "df4.Stop_reason.unique()"
      ],
      "metadata": {
        "colab": {
          "base_uri": "https://localhost:8080/"
        },
        "id": "rJXAvHMwbzQy",
        "outputId": "6867136d-ad78-449a-8236-39fa096ab750"
      },
      "execution_count": 103,
      "outputs": [
        {
          "output_type": "execute_result",
          "data": {
            "text/plain": [
              "array(['Not specified (no value)', 'Requesting Physician Cancelled',\n",
              "       'Duplicate Order', 'No Longer Indicated',\n",
              "       'Treating Specialty Change', 'Physician Cancelled', 'Surgery',\n",
              "       'Entered in error', 'Cancelled By Provider',\n",
              "       'Discontinued by Ordering Provider',\n",
              "       'Discontinued by Current Provider', 'No Longer Needed',\n",
              "       'Entered In Error', 'Obsolete Order', 'PATIENT REFUSED',\n",
              "       'VIONE-Patient reported no longer taking', 'Order completed',\n",
              "       'Adverse Drug Reaction', 'Transfer', 'Duplicate order',\n",
              "       'MD/Provider Cancelled', 'Order Cancelled',\n",
              "       \"Obsolete orders d/c'd per policy\", 'Order Not Required',\n",
              "       'Cancelled by Requesting Clinician', 'Therapeutic Failure',\n",
              "       'VIONE-Not indicated/Tx complete', 'Order is complete',\n",
              "       'Deprescribed - See Progress Note',\n",
              "       'VIONE-D/C Alternate Med Prescribed', '3.Duplicate Order',\n",
              "       '1.Requesting Physician Cancelled', 'Patient cancelled',\n",
              "       'Course of Medication Completed',\n",
              "       '8. Patient not taking medication', 'Not specified',\n",
              "       'Changed to NonVA medication', 'No longer indicated',\n",
              "       'Failure to Respond', 'No Longer Appropriate',\n",
              "       'Treatment Complete', 'Per Service Policy', 'Per Patient request',\n",
              "       'Discharge', 'Cancelled by Requesting Physician',\n",
              "       'Requesting Provider Cancelled', 'Obsolete/Out of Date Order',\n",
              "       'VIONE-Dose Decrease', 'Provider Cancelled', 'Medication Changed',\n",
              "       'Cancelled pre-op/Physician order', '4.Obsolete Order',\n",
              "       'Patient Unwilling to Take Med', 'Patient Request',\n",
              "       'MED:Developed Side Effects', 'Patient to OR', 'ADR to therapy',\n",
              "       '5.Patient Refuses', 'A Requesting Physician Cancelled',\n",
              "       'PT Refuses to Take', 'Obsolete medication', 'Admit',\n",
              "       'Change of Therapy see progress notes',\n",
              "       'VIONE-DC/Alternate Med Prescribed',\n",
              "       'Discontinue by Patient Choice', 'PT Will Obtain Privately',\n",
              "       'ADR to Medication', 'Patient Refuses/Declines',\n",
              "       'Non-VA med no longer taken', 'Patient refuses',\n",
              "       'Per cancellation policy', 'Patient requested',\n",
              "       'Other Cancel Reason', 'DEATH REPORTED', 'Completed',\n",
              "       'Non-Compliance', 'Non-VA pharmacy used',\n",
              "       'Patient declined medical therapy', 'Clinician Cancelled',\n",
              "       'Possible Adverse Reaction', 'MED:Buying on Own',\n",
              "       'Therapy Completed', 'Cancelled by Patient', 'Provider cancelled',\n",
              "       'Service Policy', 'Provider reviewed No Longer Indicated',\n",
              "       'Inadequate Clinical history provided',\n",
              "       'Patient refused or declined', '2.Entered in error',\n",
              "       'MED:Private Sector discontinued', 'Allergic Reaction',\n",
              "       'Provider Discontinued', 'Pt. refuses or cannot tolerate',\n",
              "       'Patient Expired', 'Patient Refused Medication Order',\n",
              "       'Current Provider Cancelled', 'Order clarification needed',\n",
              "       'Allergy/ADR', 'Patient Refuse/Request Cancelled', 'Duplicate',\n",
              "       'Entered in Error', 'Therapeutic failure', 'Adverse Reaction',\n",
              "       'Patient declined', 'A Replacement Order was Entered',\n",
              "       'Order is Old/Inactive', 'Order Already Acted on', 'Per Policy',\n",
              "       'Dosage Changed', 'VA Formulary Agent Trial',\n",
              "       'Per Patient Request', 'Rescheduled', 'Service no longer Required',\n",
              "       'Consulting Physician Cancelled', 'MED:Treatment Completed',\n",
              "       'Actively Discontinued by Provider', 'Requestor Cancelled',\n",
              "       'Obsolete (Admin Clean Up Only) Order', 'Expired Delayed Order',\n",
              "       'Policy', 'Ordering Provider Cancelled', 'MED:Therapeutic Failure',\n",
              "       '3. VIONE-Optional', 'Order Completed (No Print to Nurses)',\n",
              "       'Obsolete Order (No Print to Nurses)',\n",
              "       'Patient Cancelled or No Show to Exam', 'Per patient request',\n",
              "       'Patient to obtain outside VA', 'Deceased',\n",
              "       'Pt reports medication ineffective', 'Medication Not Tolerated',\n",
              "       'Requested by Patient', 'Cancelled Per Patient',\n",
              "       'Contraindication', 'VIONE-Patient states no longer taking',\n",
              "       'VIONE-Optional', 'Patient requests/refuses', 'MED:Dosage Changed',\n",
              "       'Cancelled per patient request', 'Dose Change',\n",
              "       'Med adjustment based on clinical need',\n",
              "       'VIONE-D/C Alternte Med Prescribed', 'Patient cancelled/no showed',\n",
              "       'Pt Request/Pt Self-Discontinued', 'RequestingPhysicianCancelled',\n",
              "       'REQUESTING PHYSICIAN CANCELLED', 'ORDER CANCELLED', 'Death',\n",
              "       'Other', 'No Longer Required', 'Discontinued By Patient',\n",
              "       'Cancelled by Provider', 'Patient refused', 'Treatment Completed',\n",
              "       'Service Correction', 'Patient refused/declined consult',\n",
              "       'Patient Completed Treatment', 'Per patient',\n",
              "       'Discontinued/Cancelled by other site',\n",
              "       'NonVA Med now supplied by VA', 'VIONE-No diagnosis',\n",
              "       'PHYSICIAN CANCELLED', 'DUPLICATE ORDER', 'ADR/Adverse Event',\n",
              "       'Obsolete Order-Will Not Print', 'Patient/Caregiver Request',\n",
              "       'MED:Non-Formulary medication', 'See Order Details-Ward Comments',\n",
              "       'Discontinued', 'Change to Non VA medication', \"Patient's Request\",\n",
              "       'Patient No-Showed', 'Protocol',\n",
              "       'VIONE-D/C alternate med prescribed', 'Patient Requests DC',\n",
              "       'Treatment Failure', 'CONTRAINDICATED',\n",
              "       'D/C Alternate Med Prescribed-VIONE', 'Drug no longer needed',\n",
              "       'ORDER COMPLETED', 'TO OPERATING ROOM', 'ENTERED IN ERROR',\n",
              "       'VIONE-NOT INDICATED/TX COMPLETE',\n",
              "       'VIONE-PATIENT REPORTED NO LONGER TAKING', 'VIONE-DUPLICATE',\n",
              "       'Patient Discontinued Medication', 'Pharmacy policy',\n",
              "       'Patient Refuses', 'Obsolete Order-For Nursing Use ONLY',\n",
              "       'VIONE-Duplicate Medication',\n",
              "       'Patient deceased; not related to order', 'Transfer to another VA',\n",
              "       'Patient No Longer Taking Med', 'No Current Indication',\n",
              "       'VIONE Not indicated/Tx complete',\n",
              "       'VIONE DC/Alternate Med Prescribed',\n",
              "       'VIONE-Patient Reported No Longer Taking',\n",
              "       'No longer indicated/Tx complete-VIONE', 'Patient Declines',\n",
              "       'Medication allergy or ADR', 'Veteran Refused',\n",
              "       'VIONE-Pt reported no longer taking', 'MED:Excess Amount',\n",
              "       'VIONE Dose Decrease', 'Obsolete (NURSING ORDERS ONLY)',\n",
              "       'VIONE Patient reported no longer taking', 'Patient refusal',\n",
              "       'Medication not effective', 'MED:Abnormal Lab', 'Order Complete',\n",
              "       'Adverse Reaction (Add to allergy file)', 'Report Completed',\n",
              "       'Pt no longer taking medication', 'Patient Refused',\n",
              "       'Entered in error-IF MED CALL PHARM@67553', 'Patient expired',\n",
              "       'Obtain at outside pharmacy', 'Developed ADR to Medication',\n",
              "       'Patient Cancelled', 'Patient Movement Interruption',\n",
              "       'Service not available', 'Unable to contact veteran',\n",
              "       'Change to Non VA Medication',\n",
              "       'Inadequate Clinical History Provided',\n",
              "       'Administrative Correction',\n",
              "       'Non-Adherence to follow-up/monitoring',\n",
              "       'MED:Not Clinically Indicated', 'Patient rescheduled',\n",
              "       'ALERGY TO CONTRAST', 'VIONE-OPTIONAL',\n",
              "       'Treatment completed/No longer required', 'X: Death (Outpatient)',\n",
              "       'Service/Product Unavailable', 'Allergy/Adverse Reaction',\n",
              "       'Inadequate clinical history provided', 'VIONE-Duplicate',\n",
              "       'Replaced with New Order', 'NF Consult Approval Required',\n",
              "       \"D/c'd old orders on admission\", 'Given in Prep/Recovery',\n",
              "       '7.Patient no-showed appointment',\n",
              "       'GEC-VIONE-Not indicated/Tx complete',\n",
              "       'RTC Order Outreach Exhausted', 'MUE Required',\n",
              "       'No longer taking Non-VA Med', 'ADR to Therapy'], dtype=object)"
            ]
          },
          "metadata": {},
          "execution_count": 103
        }
      ]
    },
    {
      "cell_type": "code",
      "source": [
        "df4.Stop_reason.nunique()"
      ],
      "metadata": {
        "colab": {
          "base_uri": "https://localhost:8080/"
        },
        "id": "1_bB66tvcGIA",
        "outputId": "c36fa2be-f31f-4bb1-8dd4-19a04b80732c"
      },
      "execution_count": 104,
      "outputs": [
        {
          "output_type": "execute_result",
          "data": {
            "text/plain": [
              "246"
            ]
          },
          "metadata": {},
          "execution_count": 104
        }
      ]
    },
    {
      "cell_type": "markdown",
      "source": [
        "## **MEDICATIONS ADMINISTERED**"
      ],
      "metadata": {
        "id": "mgctVBZLeQ_z"
      }
    },
    {
      "cell_type": "code",
      "source": [
        "df5.head()"
      ],
      "metadata": {
        "colab": {
          "base_uri": "https://localhost:8080/",
          "height": 391
        },
        "id": "ZS2pV3Aidnzz",
        "outputId": "3f9e3517-7dc1-49e8-b6c9-e6869b3dedd7"
      },
      "execution_count": 105,
      "outputs": [
        {
          "output_type": "execute_result",
          "data": {
            "text/plain": [
              "   Internalpatientid  Age at med administration    Administration date  \\\n",
              "0             100012                  53.970919  2003-06-21 08:54:13.0   \n",
              "1             100012                  55.317773  2004-10-25 15:30:14.0   \n",
              "2             100012                  57.656417  2007-02-27 10:05:30.0   \n",
              "3             100012                  58.151333  2007-08-27 07:29:42.0   \n",
              "4             100012                  58.151362  2007-08-27 07:44:54.0   \n",
              "\n",
              "  Administration end date Administered medication atc 5 Administration status  \\\n",
              "0                     NaN                   venlafaxine                 Given   \n",
              "1                     NaN                   gemfibrozil                 Given   \n",
              "2                     NaN                      morphine                  Held   \n",
              "3                     NaN                    omeprazole                 Given   \n",
              "4                     NaN        insulins and analogues                  Held   \n",
              "\n",
              "  Dose form  Dose administered Dose unit administered       State  \n",
              "0       tab                1.0                    tab  New Mexico  \n",
              "1  tab,oral                1.0               tab,oral  New Mexico  \n",
              "2       inj                0.0                    NaN  New Mexico  \n",
              "3    cap,sa                1.0                 cap,sa  New Mexico  \n",
              "4       inj                0.0                    NaN  New Mexico  "
            ],
            "text/html": [
              "\n",
              "  <div id=\"df-6b354796-64d5-481e-9d80-87f3199d41ad\">\n",
              "    <div class=\"colab-df-container\">\n",
              "      <div>\n",
              "<style scoped>\n",
              "    .dataframe tbody tr th:only-of-type {\n",
              "        vertical-align: middle;\n",
              "    }\n",
              "\n",
              "    .dataframe tbody tr th {\n",
              "        vertical-align: top;\n",
              "    }\n",
              "\n",
              "    .dataframe thead th {\n",
              "        text-align: right;\n",
              "    }\n",
              "</style>\n",
              "<table border=\"1\" class=\"dataframe\">\n",
              "  <thead>\n",
              "    <tr style=\"text-align: right;\">\n",
              "      <th></th>\n",
              "      <th>Internalpatientid</th>\n",
              "      <th>Age at med administration</th>\n",
              "      <th>Administration date</th>\n",
              "      <th>Administration end date</th>\n",
              "      <th>Administered medication atc 5</th>\n",
              "      <th>Administration status</th>\n",
              "      <th>Dose form</th>\n",
              "      <th>Dose administered</th>\n",
              "      <th>Dose unit administered</th>\n",
              "      <th>State</th>\n",
              "    </tr>\n",
              "  </thead>\n",
              "  <tbody>\n",
              "    <tr>\n",
              "      <th>0</th>\n",
              "      <td>100012</td>\n",
              "      <td>53.970919</td>\n",
              "      <td>2003-06-21 08:54:13.0</td>\n",
              "      <td>NaN</td>\n",
              "      <td>venlafaxine</td>\n",
              "      <td>Given</td>\n",
              "      <td>tab</td>\n",
              "      <td>1.0</td>\n",
              "      <td>tab</td>\n",
              "      <td>New Mexico</td>\n",
              "    </tr>\n",
              "    <tr>\n",
              "      <th>1</th>\n",
              "      <td>100012</td>\n",
              "      <td>55.317773</td>\n",
              "      <td>2004-10-25 15:30:14.0</td>\n",
              "      <td>NaN</td>\n",
              "      <td>gemfibrozil</td>\n",
              "      <td>Given</td>\n",
              "      <td>tab,oral</td>\n",
              "      <td>1.0</td>\n",
              "      <td>tab,oral</td>\n",
              "      <td>New Mexico</td>\n",
              "    </tr>\n",
              "    <tr>\n",
              "      <th>2</th>\n",
              "      <td>100012</td>\n",
              "      <td>57.656417</td>\n",
              "      <td>2007-02-27 10:05:30.0</td>\n",
              "      <td>NaN</td>\n",
              "      <td>morphine</td>\n",
              "      <td>Held</td>\n",
              "      <td>inj</td>\n",
              "      <td>0.0</td>\n",
              "      <td>NaN</td>\n",
              "      <td>New Mexico</td>\n",
              "    </tr>\n",
              "    <tr>\n",
              "      <th>3</th>\n",
              "      <td>100012</td>\n",
              "      <td>58.151333</td>\n",
              "      <td>2007-08-27 07:29:42.0</td>\n",
              "      <td>NaN</td>\n",
              "      <td>omeprazole</td>\n",
              "      <td>Given</td>\n",
              "      <td>cap,sa</td>\n",
              "      <td>1.0</td>\n",
              "      <td>cap,sa</td>\n",
              "      <td>New Mexico</td>\n",
              "    </tr>\n",
              "    <tr>\n",
              "      <th>4</th>\n",
              "      <td>100012</td>\n",
              "      <td>58.151362</td>\n",
              "      <td>2007-08-27 07:44:54.0</td>\n",
              "      <td>NaN</td>\n",
              "      <td>insulins and analogues</td>\n",
              "      <td>Held</td>\n",
              "      <td>inj</td>\n",
              "      <td>0.0</td>\n",
              "      <td>NaN</td>\n",
              "      <td>New Mexico</td>\n",
              "    </tr>\n",
              "  </tbody>\n",
              "</table>\n",
              "</div>\n",
              "      <button class=\"colab-df-convert\" onclick=\"convertToInteractive('df-6b354796-64d5-481e-9d80-87f3199d41ad')\"\n",
              "              title=\"Convert this dataframe to an interactive table.\"\n",
              "              style=\"display:none;\">\n",
              "        \n",
              "  <svg xmlns=\"http://www.w3.org/2000/svg\" height=\"24px\"viewBox=\"0 0 24 24\"\n",
              "       width=\"24px\">\n",
              "    <path d=\"M0 0h24v24H0V0z\" fill=\"none\"/>\n",
              "    <path d=\"M18.56 5.44l.94 2.06.94-2.06 2.06-.94-2.06-.94-.94-2.06-.94 2.06-2.06.94zm-11 1L8.5 8.5l.94-2.06 2.06-.94-2.06-.94L8.5 2.5l-.94 2.06-2.06.94zm10 10l.94 2.06.94-2.06 2.06-.94-2.06-.94-.94-2.06-.94 2.06-2.06.94z\"/><path d=\"M17.41 7.96l-1.37-1.37c-.4-.4-.92-.59-1.43-.59-.52 0-1.04.2-1.43.59L10.3 9.45l-7.72 7.72c-.78.78-.78 2.05 0 2.83L4 21.41c.39.39.9.59 1.41.59.51 0 1.02-.2 1.41-.59l7.78-7.78 2.81-2.81c.8-.78.8-2.07 0-2.86zM5.41 20L4 18.59l7.72-7.72 1.47 1.35L5.41 20z\"/>\n",
              "  </svg>\n",
              "      </button>\n",
              "      \n",
              "  <style>\n",
              "    .colab-df-container {\n",
              "      display:flex;\n",
              "      flex-wrap:wrap;\n",
              "      gap: 12px;\n",
              "    }\n",
              "\n",
              "    .colab-df-convert {\n",
              "      background-color: #E8F0FE;\n",
              "      border: none;\n",
              "      border-radius: 50%;\n",
              "      cursor: pointer;\n",
              "      display: none;\n",
              "      fill: #1967D2;\n",
              "      height: 32px;\n",
              "      padding: 0 0 0 0;\n",
              "      width: 32px;\n",
              "    }\n",
              "\n",
              "    .colab-df-convert:hover {\n",
              "      background-color: #E2EBFA;\n",
              "      box-shadow: 0px 1px 2px rgba(60, 64, 67, 0.3), 0px 1px 3px 1px rgba(60, 64, 67, 0.15);\n",
              "      fill: #174EA6;\n",
              "    }\n",
              "\n",
              "    [theme=dark] .colab-df-convert {\n",
              "      background-color: #3B4455;\n",
              "      fill: #D2E3FC;\n",
              "    }\n",
              "\n",
              "    [theme=dark] .colab-df-convert:hover {\n",
              "      background-color: #434B5C;\n",
              "      box-shadow: 0px 1px 3px 1px rgba(0, 0, 0, 0.15);\n",
              "      filter: drop-shadow(0px 1px 2px rgba(0, 0, 0, 0.3));\n",
              "      fill: #FFFFFF;\n",
              "    }\n",
              "  </style>\n",
              "\n",
              "      <script>\n",
              "        const buttonEl =\n",
              "          document.querySelector('#df-6b354796-64d5-481e-9d80-87f3199d41ad button.colab-df-convert');\n",
              "        buttonEl.style.display =\n",
              "          google.colab.kernel.accessAllowed ? 'block' : 'none';\n",
              "\n",
              "        async function convertToInteractive(key) {\n",
              "          const element = document.querySelector('#df-6b354796-64d5-481e-9d80-87f3199d41ad');\n",
              "          const dataTable =\n",
              "            await google.colab.kernel.invokeFunction('convertToInteractive',\n",
              "                                                     [key], {});\n",
              "          if (!dataTable) return;\n",
              "\n",
              "          const docLinkHtml = 'Like what you see? Visit the ' +\n",
              "            '<a target=\"_blank\" href=https://colab.research.google.com/notebooks/data_table.ipynb>data table notebook</a>'\n",
              "            + ' to learn more about interactive tables.';\n",
              "          element.innerHTML = '';\n",
              "          dataTable['output_type'] = 'display_data';\n",
              "          await google.colab.output.renderOutput(dataTable, element);\n",
              "          const docLink = document.createElement('div');\n",
              "          docLink.innerHTML = docLinkHtml;\n",
              "          element.appendChild(docLink);\n",
              "        }\n",
              "      </script>\n",
              "    </div>\n",
              "  </div>\n",
              "  "
            ]
          },
          "metadata": {},
          "execution_count": 105
        }
      ]
    },
    {
      "cell_type": "code",
      "source": [
        "df5.info()"
      ],
      "metadata": {
        "colab": {
          "base_uri": "https://localhost:8080/"
        },
        "id": "-pYwJ2creZWk",
        "outputId": "f650c931-75d7-4cb4-9279-a64d76a512fe"
      },
      "execution_count": 106,
      "outputs": [
        {
          "output_type": "stream",
          "name": "stdout",
          "text": [
            "<class 'pandas.core.frame.DataFrame'>\n",
            "RangeIndex: 1328800 entries, 0 to 1328799\n",
            "Data columns (total 10 columns):\n",
            " #   Column                         Non-Null Count    Dtype  \n",
            "---  ------                         --------------    -----  \n",
            " 0   Internalpatientid              1328800 non-null  int64  \n",
            " 1   Age at med administration      1328800 non-null  float64\n",
            " 2   Administration date            1328800 non-null  object \n",
            " 3   Administration end date        15505 non-null    object \n",
            " 4   Administered medication atc 5  1328800 non-null  object \n",
            " 5   Administration status          1328800 non-null  object \n",
            " 6   Dose form                      1328800 non-null  object \n",
            " 7   Dose administered              1291375 non-null  float64\n",
            " 8   Dose unit administered         1252773 non-null  object \n",
            " 9   State                          1328800 non-null  object \n",
            "dtypes: float64(2), int64(1), object(7)\n",
            "memory usage: 101.4+ MB\n"
          ]
        }
      ]
    },
    {
      "cell_type": "code",
      "source": [
        "df5[['Administration_date', 'Administration_time']] = df5['Administration date'].str.split(' ', expand=True)"
      ],
      "metadata": {
        "id": "uXEbm8xTqmZd"
      },
      "execution_count": 107,
      "outputs": []
    },
    {
      "cell_type": "code",
      "source": [
        "df5.drop('Administration date', axis = 1, inplace = True)"
      ],
      "metadata": {
        "id": "QQ4lD5dwq2DJ"
      },
      "execution_count": 108,
      "outputs": []
    },
    {
      "cell_type": "code",
      "source": [
        "df5.rename(columns = {'Age at med administration':'Age_at_med_administration','Administration end date':'Administration_end_date',\n",
        "                      'Administered medication atc 5':'Administered_medication_atc_5','Administration status':'Administration_status',\n",
        "                      'Dose form':'Dose_form','Dose administered':'Dose_administered','Dose unit administered':'Dose_unit_administered'}, inplace = True)\n",
        "df5.head()"
      ],
      "metadata": {
        "colab": {
          "base_uri": "https://localhost:8080/",
          "height": 357
        },
        "id": "9wJtf3vJrKSF",
        "outputId": "237838c1-e592-49c5-da1d-3d7e17dc2b90"
      },
      "execution_count": 109,
      "outputs": [
        {
          "output_type": "execute_result",
          "data": {
            "text/plain": [
              "   Internalpatientid  Age_at_med_administration Administration_end_date  \\\n",
              "0             100012                  53.970919                     NaN   \n",
              "1             100012                  55.317773                     NaN   \n",
              "2             100012                  57.656417                     NaN   \n",
              "3             100012                  58.151333                     NaN   \n",
              "4             100012                  58.151362                     NaN   \n",
              "\n",
              "  Administered_medication_atc_5 Administration_status Dose_form  \\\n",
              "0                   venlafaxine                 Given       tab   \n",
              "1                   gemfibrozil                 Given  tab,oral   \n",
              "2                      morphine                  Held       inj   \n",
              "3                    omeprazole                 Given    cap,sa   \n",
              "4        insulins and analogues                  Held       inj   \n",
              "\n",
              "   Dose_administered Dose_unit_administered       State Administration_date  \\\n",
              "0                1.0                    tab  New Mexico          2003-06-21   \n",
              "1                1.0               tab,oral  New Mexico          2004-10-25   \n",
              "2                0.0                    NaN  New Mexico          2007-02-27   \n",
              "3                1.0                 cap,sa  New Mexico          2007-08-27   \n",
              "4                0.0                    NaN  New Mexico          2007-08-27   \n",
              "\n",
              "  Administration_time  \n",
              "0          08:54:13.0  \n",
              "1          15:30:14.0  \n",
              "2          10:05:30.0  \n",
              "3          07:29:42.0  \n",
              "4          07:44:54.0  "
            ],
            "text/html": [
              "\n",
              "  <div id=\"df-4df1e533-df9f-47f7-aaa6-d7d3bf81bf05\">\n",
              "    <div class=\"colab-df-container\">\n",
              "      <div>\n",
              "<style scoped>\n",
              "    .dataframe tbody tr th:only-of-type {\n",
              "        vertical-align: middle;\n",
              "    }\n",
              "\n",
              "    .dataframe tbody tr th {\n",
              "        vertical-align: top;\n",
              "    }\n",
              "\n",
              "    .dataframe thead th {\n",
              "        text-align: right;\n",
              "    }\n",
              "</style>\n",
              "<table border=\"1\" class=\"dataframe\">\n",
              "  <thead>\n",
              "    <tr style=\"text-align: right;\">\n",
              "      <th></th>\n",
              "      <th>Internalpatientid</th>\n",
              "      <th>Age_at_med_administration</th>\n",
              "      <th>Administration_end_date</th>\n",
              "      <th>Administered_medication_atc_5</th>\n",
              "      <th>Administration_status</th>\n",
              "      <th>Dose_form</th>\n",
              "      <th>Dose_administered</th>\n",
              "      <th>Dose_unit_administered</th>\n",
              "      <th>State</th>\n",
              "      <th>Administration_date</th>\n",
              "      <th>Administration_time</th>\n",
              "    </tr>\n",
              "  </thead>\n",
              "  <tbody>\n",
              "    <tr>\n",
              "      <th>0</th>\n",
              "      <td>100012</td>\n",
              "      <td>53.970919</td>\n",
              "      <td>NaN</td>\n",
              "      <td>venlafaxine</td>\n",
              "      <td>Given</td>\n",
              "      <td>tab</td>\n",
              "      <td>1.0</td>\n",
              "      <td>tab</td>\n",
              "      <td>New Mexico</td>\n",
              "      <td>2003-06-21</td>\n",
              "      <td>08:54:13.0</td>\n",
              "    </tr>\n",
              "    <tr>\n",
              "      <th>1</th>\n",
              "      <td>100012</td>\n",
              "      <td>55.317773</td>\n",
              "      <td>NaN</td>\n",
              "      <td>gemfibrozil</td>\n",
              "      <td>Given</td>\n",
              "      <td>tab,oral</td>\n",
              "      <td>1.0</td>\n",
              "      <td>tab,oral</td>\n",
              "      <td>New Mexico</td>\n",
              "      <td>2004-10-25</td>\n",
              "      <td>15:30:14.0</td>\n",
              "    </tr>\n",
              "    <tr>\n",
              "      <th>2</th>\n",
              "      <td>100012</td>\n",
              "      <td>57.656417</td>\n",
              "      <td>NaN</td>\n",
              "      <td>morphine</td>\n",
              "      <td>Held</td>\n",
              "      <td>inj</td>\n",
              "      <td>0.0</td>\n",
              "      <td>NaN</td>\n",
              "      <td>New Mexico</td>\n",
              "      <td>2007-02-27</td>\n",
              "      <td>10:05:30.0</td>\n",
              "    </tr>\n",
              "    <tr>\n",
              "      <th>3</th>\n",
              "      <td>100012</td>\n",
              "      <td>58.151333</td>\n",
              "      <td>NaN</td>\n",
              "      <td>omeprazole</td>\n",
              "      <td>Given</td>\n",
              "      <td>cap,sa</td>\n",
              "      <td>1.0</td>\n",
              "      <td>cap,sa</td>\n",
              "      <td>New Mexico</td>\n",
              "      <td>2007-08-27</td>\n",
              "      <td>07:29:42.0</td>\n",
              "    </tr>\n",
              "    <tr>\n",
              "      <th>4</th>\n",
              "      <td>100012</td>\n",
              "      <td>58.151362</td>\n",
              "      <td>NaN</td>\n",
              "      <td>insulins and analogues</td>\n",
              "      <td>Held</td>\n",
              "      <td>inj</td>\n",
              "      <td>0.0</td>\n",
              "      <td>NaN</td>\n",
              "      <td>New Mexico</td>\n",
              "      <td>2007-08-27</td>\n",
              "      <td>07:44:54.0</td>\n",
              "    </tr>\n",
              "  </tbody>\n",
              "</table>\n",
              "</div>\n",
              "      <button class=\"colab-df-convert\" onclick=\"convertToInteractive('df-4df1e533-df9f-47f7-aaa6-d7d3bf81bf05')\"\n",
              "              title=\"Convert this dataframe to an interactive table.\"\n",
              "              style=\"display:none;\">\n",
              "        \n",
              "  <svg xmlns=\"http://www.w3.org/2000/svg\" height=\"24px\"viewBox=\"0 0 24 24\"\n",
              "       width=\"24px\">\n",
              "    <path d=\"M0 0h24v24H0V0z\" fill=\"none\"/>\n",
              "    <path d=\"M18.56 5.44l.94 2.06.94-2.06 2.06-.94-2.06-.94-.94-2.06-.94 2.06-2.06.94zm-11 1L8.5 8.5l.94-2.06 2.06-.94-2.06-.94L8.5 2.5l-.94 2.06-2.06.94zm10 10l.94 2.06.94-2.06 2.06-.94-2.06-.94-.94-2.06-.94 2.06-2.06.94z\"/><path d=\"M17.41 7.96l-1.37-1.37c-.4-.4-.92-.59-1.43-.59-.52 0-1.04.2-1.43.59L10.3 9.45l-7.72 7.72c-.78.78-.78 2.05 0 2.83L4 21.41c.39.39.9.59 1.41.59.51 0 1.02-.2 1.41-.59l7.78-7.78 2.81-2.81c.8-.78.8-2.07 0-2.86zM5.41 20L4 18.59l7.72-7.72 1.47 1.35L5.41 20z\"/>\n",
              "  </svg>\n",
              "      </button>\n",
              "      \n",
              "  <style>\n",
              "    .colab-df-container {\n",
              "      display:flex;\n",
              "      flex-wrap:wrap;\n",
              "      gap: 12px;\n",
              "    }\n",
              "\n",
              "    .colab-df-convert {\n",
              "      background-color: #E8F0FE;\n",
              "      border: none;\n",
              "      border-radius: 50%;\n",
              "      cursor: pointer;\n",
              "      display: none;\n",
              "      fill: #1967D2;\n",
              "      height: 32px;\n",
              "      padding: 0 0 0 0;\n",
              "      width: 32px;\n",
              "    }\n",
              "\n",
              "    .colab-df-convert:hover {\n",
              "      background-color: #E2EBFA;\n",
              "      box-shadow: 0px 1px 2px rgba(60, 64, 67, 0.3), 0px 1px 3px 1px rgba(60, 64, 67, 0.15);\n",
              "      fill: #174EA6;\n",
              "    }\n",
              "\n",
              "    [theme=dark] .colab-df-convert {\n",
              "      background-color: #3B4455;\n",
              "      fill: #D2E3FC;\n",
              "    }\n",
              "\n",
              "    [theme=dark] .colab-df-convert:hover {\n",
              "      background-color: #434B5C;\n",
              "      box-shadow: 0px 1px 3px 1px rgba(0, 0, 0, 0.15);\n",
              "      filter: drop-shadow(0px 1px 2px rgba(0, 0, 0, 0.3));\n",
              "      fill: #FFFFFF;\n",
              "    }\n",
              "  </style>\n",
              "\n",
              "      <script>\n",
              "        const buttonEl =\n",
              "          document.querySelector('#df-4df1e533-df9f-47f7-aaa6-d7d3bf81bf05 button.colab-df-convert');\n",
              "        buttonEl.style.display =\n",
              "          google.colab.kernel.accessAllowed ? 'block' : 'none';\n",
              "\n",
              "        async function convertToInteractive(key) {\n",
              "          const element = document.querySelector('#df-4df1e533-df9f-47f7-aaa6-d7d3bf81bf05');\n",
              "          const dataTable =\n",
              "            await google.colab.kernel.invokeFunction('convertToInteractive',\n",
              "                                                     [key], {});\n",
              "          if (!dataTable) return;\n",
              "\n",
              "          const docLinkHtml = 'Like what you see? Visit the ' +\n",
              "            '<a target=\"_blank\" href=https://colab.research.google.com/notebooks/data_table.ipynb>data table notebook</a>'\n",
              "            + ' to learn more about interactive tables.';\n",
              "          element.innerHTML = '';\n",
              "          dataTable['output_type'] = 'display_data';\n",
              "          await google.colab.output.renderOutput(dataTable, element);\n",
              "          const docLink = document.createElement('div');\n",
              "          docLink.innerHTML = docLinkHtml;\n",
              "          element.appendChild(docLink);\n",
              "        }\n",
              "      </script>\n",
              "    </div>\n",
              "  </div>\n",
              "  "
            ]
          },
          "metadata": {},
          "execution_count": 109
        }
      ]
    },
    {
      "cell_type": "code",
      "source": [
        "df5.isnull().sum()"
      ],
      "metadata": {
        "colab": {
          "base_uri": "https://localhost:8080/"
        },
        "id": "Wlyed8oAr8T9",
        "outputId": "f111c457-c31d-442d-9ef5-313b7555f843"
      },
      "execution_count": 110,
      "outputs": [
        {
          "output_type": "execute_result",
          "data": {
            "text/plain": [
              "Internalpatientid                      0\n",
              "Age_at_med_administration              0\n",
              "Administration_end_date          1313295\n",
              "Administered_medication_atc_5          0\n",
              "Administration_status                  0\n",
              "Dose_form                              0\n",
              "Dose_administered                  37425\n",
              "Dose_unit_administered             76027\n",
              "State                                  0\n",
              "Administration_date                    0\n",
              "Administration_time                    0\n",
              "dtype: int64"
            ]
          },
          "metadata": {},
          "execution_count": 110
        }
      ]
    },
    {
      "cell_type": "code",
      "source": [
        "df5.shape"
      ],
      "metadata": {
        "colab": {
          "base_uri": "https://localhost:8080/"
        },
        "id": "X6ZdW07_sSNj",
        "outputId": "a79196fd-bd10-42e5-f74a-dbe56b102bcc"
      },
      "execution_count": 111,
      "outputs": [
        {
          "output_type": "execute_result",
          "data": {
            "text/plain": [
              "(1328800, 11)"
            ]
          },
          "metadata": {},
          "execution_count": 111
        }
      ]
    },
    {
      "cell_type": "code",
      "source": [
        "sns.kdeplot(x = 'Age_at_med_administration', data = df5)"
      ],
      "metadata": {
        "colab": {
          "base_uri": "https://localhost:8080/",
          "height": 468
        },
        "id": "DDC-PN5OsWlB",
        "outputId": "bed56309-e8ea-4cf9-863e-5a5e65765097"
      },
      "execution_count": 112,
      "outputs": [
        {
          "output_type": "execute_result",
          "data": {
            "text/plain": [
              "<Axes: xlabel='Age_at_med_administration', ylabel='Density'>"
            ]
          },
          "metadata": {},
          "execution_count": 112
        },
        {
          "output_type": "display_data",
          "data": {
            "text/plain": [
              "<Figure size 640x480 with 1 Axes>"
            ],
            "image/png": "[encoded data removed]"
          },
          "metadata": {}
        }
      ]
    },
    {
      "cell_type": "code",
      "source": [
        "df5.Age_at_med_administration.mean()"
      ],
      "metadata": {
        "colab": {
          "base_uri": "https://localhost:8080/"
        },
        "id": "kUyWzKEQuGvx",
        "outputId": "c809b744-7d83-4534-ebb7-1796e9d2c623"
      },
      "execution_count": 113,
      "outputs": [
        {
          "output_type": "execute_result",
          "data": {
            "text/plain": [
              "68.94713608192716"
            ]
          },
          "metadata": {},
          "execution_count": 113
        }
      ]
    },
    {
      "cell_type": "code",
      "source": [
        "#df5.Administered_medication_atc_5.unique()\n",
        "df5.Administered_medication_atc_5.nunique()"
      ],
      "metadata": {
        "colab": {
          "base_uri": "https://localhost:8080/"
        },
        "id": "1BcD3Bj5se3b",
        "outputId": "eaf37c0a-f35c-478c-ccc4-04057ca71200"
      },
      "execution_count": 114,
      "outputs": [
        {
          "output_type": "execute_result",
          "data": {
            "text/plain": [
              "977"
            ]
          },
          "metadata": {},
          "execution_count": 114
        }
      ]
    },
    {
      "cell_type": "code",
      "source": [
        "df5.Administered_medication_atc_5.value_counts()"
      ],
      "metadata": {
        "colab": {
          "base_uri": "https://localhost:8080/"
        },
        "id": "I5EJ7bFntA7f",
        "outputId": "7ee69c92-7cc3-4384-ace9-e72fee547d82"
      },
      "execution_count": 115,
      "outputs": [
        {
          "output_type": "execute_result",
          "data": {
            "text/plain": [
              "Not specified                                                                                                                                                                                                                                                   68439\n",
              "paracetamol (acetaminophen)                                                                                                                                                                                                                                     45800\n",
              "metoprolol                                                                                                                                                                                                                                                      42230\n",
              "baclofen                                                                                                                                                                                                                                                        34185\n",
              "salbutamol                                                                                                                                                                                                                                                      33102\n",
              "                                                                                                                                                                                                                                                                ...  \n",
              "entecavir                                                                                                                                                                                                                                                           1\n",
              "sofosbuvir, velpatasvir                                                                                                                                                                                                                                             1\n",
              "ascorbic acid (vitamin c) ; biotin ; colecalciferol ; cyanocobalamin ; dexpanthenol ; folic acid ; nicotinamide ; phytomenadione (vitamin k1) ; pyridoxine (vitamin b6) ; retinol ; riboflavin (vitamin b2) ; thiamine (vitamin b1) ; tocopherol (vitamin e)        1\n",
              "acetylsalicylic acid ; caffeine ; paracetamol (acetaminophen)                                                                                                                                                                                                       1\n",
              "flumazenil                                                                                                                                                                                                                                                          1\n",
              "Name: Administered_medication_atc_5, Length: 977, dtype: int64"
            ]
          },
          "metadata": {},
          "execution_count": 115
        }
      ]
    },
    {
      "cell_type": "code",
      "source": [
        "df5.Administration_status.unique()"
      ],
      "metadata": {
        "colab": {
          "base_uri": "https://localhost:8080/"
        },
        "id": "52E-S1-asqEG",
        "outputId": "bcab9864-3520-4440-da5d-a468a58b52f4"
      },
      "execution_count": 116,
      "outputs": [
        {
          "output_type": "execute_result",
          "data": {
            "text/plain": [
              "array(['Given', 'Held', 'Infusing (infusion orders)', 'Refused',\n",
              "       'Completed (infusion orders)', 'Not given', 'Missing dose',\n",
              "       'Removed (patch taken off)', 'Not specified (no value)',\n",
              "       'Stopped (infusion orders)'], dtype=object)"
            ]
          },
          "metadata": {},
          "execution_count": 116
        }
      ]
    },
    {
      "cell_type": "code",
      "source": [
        "df5.Administration_status.value_counts()"
      ],
      "metadata": {
        "colab": {
          "base_uri": "https://localhost:8080/"
        },
        "id": "XP-mFsVCs48H",
        "outputId": "6fb886d2-4855-404b-b2ed-10876ba00fa6"
      },
      "execution_count": 117,
      "outputs": [
        {
          "output_type": "execute_result",
          "data": {
            "text/plain": [
              "Given                          1209025\n",
              "Held                             63353\n",
              "Refused                          33058\n",
              "Completed (infusion orders)      12413\n",
              "Infusing (infusion orders)        3517\n",
              "Missing dose                      3406\n",
              "Removed (patch taken off)         3025\n",
              "Not given                          639\n",
              "Not specified (no value)           297\n",
              "Stopped (infusion orders)           67\n",
              "Name: Administration_status, dtype: int64"
            ]
          },
          "metadata": {},
          "execution_count": 117
        }
      ]
    },
    {
      "cell_type": "code",
      "source": [
        "plt.figure(figsize=(25,4))\n",
        "sns.countplot(x = 'Administration_status', data = df5)"
      ],
      "metadata": {
        "colab": {
          "base_uri": "https://localhost:8080/",
          "height": 227
        },
        "id": "gVVzD9sBuPuE",
        "outputId": "38860907-0284-4aaf-a8ca-c526885ee214"
      },
      "execution_count": 118,
      "outputs": [
        {
          "output_type": "execute_result",
          "data": {
            "text/plain": [
              "<Axes: xlabel='Administration_status', ylabel='count'>"
            ]
          },
          "metadata": {},
          "execution_count": 118
        },
        {
          "output_type": "display_data",
          "data": {
            "text/plain": [
              "<Figure size 2500x400 with 1 Axes>"
            ],
            "image/png": "[encoded data removed]"
          },
          "metadata": {}
        }
      ]
    },
    {
      "cell_type": "code",
      "source": [
        "df5.Dose_form.unique()"
      ],
      "metadata": {
        "colab": {
          "base_uri": "https://localhost:8080/"
        },
        "id": "nya-QZMas9kg",
        "outputId": "208bfedb-c6cf-441f-bc33-7d9487b473f0"
      },
      "execution_count": 119,
      "outputs": [
        {
          "output_type": "execute_result",
          "data": {
            "text/plain": [
              "array(['tab', 'tab,oral', 'inj', 'cap,sa', 'susp,oph', 'soln,spray,nasal',\n",
              "       'cap,oral', 'tab,ec', 'inj,soln', 'inhalant', 'tab,sa',\n",
              "       'test strip', 'cap,ec', 'inhl,nasal', 'soln,inhl/oral',\n",
              "       'cream,top', 'susp', 'inhl,oral', 'wipe', 'liquid,oral',\n",
              "       'tab,oral disintegrating,sa', 'soln,top', 'soln,inhl',\n",
              "       'pwdr,renst-oral', 'unit/test', 'supp,rtl', 'soln,oral',\n",
              "       'powder,oral', 'oint,top', 'rinse,oral', 'tab,chewable',\n",
              "       'inj,pwdr', 'syrup', 'tab,sublingual', 'mouthwash', 'jelly,top',\n",
              "       'syrup,oral', 'gel,top', 'patch', 'inj,conc', 'soln,oph',\n",
              "       'susp,oral', 'powder,top', 'soln,dialysis', 'jelly', 'liquid',\n",
              "       'enema', 'miscellaneous', 'cap/tab', 'inj,conc-soln', 'gel,oph',\n",
              "       'emulsion,oph', 'oint,oph', 'tab,sa (extended release)',\n",
              "       'cap,inhl', 'shampoo', 'soln,nasal', 'lotion', 'inj,lyphl',\n",
              "       'elixir', 'lozenge', 'spray,oral', 'gauze', 'soln,otic',\n",
              "       'susp,otic', 'liquid,top', 'spray,top', '*missing*',\n",
              "       'tab,ec (delayed release)', 'inj,susp', 'fluid extract', 'device',\n",
              "       'cream', 'enema,rtl', 'soln,irrg', 'dressing,top', 'lotion,top',\n",
              "       'soln,conc', 'tab,rapid disintegrate', 'aerosol,top',\n",
              "       'gum,chewable', 'tab,ir', 'troche', 'oil', 'paste', 'cream,oral',\n",
              "       'gel,dent', 'inj,susp,sa', 'tab,sa,24hr (extended release)', 'gel',\n",
              "       'powder', 'chamber', 'liquid,nutritional supplement', 'pad',\n",
              "       'stick,top', 'cream,rtl', 'granules', 'oint,rtl', 'crusher',\n",
              "       'tab,effervsc', 'cream,vag', 'tab,oral disintegrating', 'gel,oral',\n",
              "       'soln', 'aerosol', 'strip', 'inj,colloidal', 'kit', 'cap,sprinkle',\n",
              "       'inj,susp,la', 'stocking', 'liquid(sf)', 'gel,transdermal',\n",
              "       'aerosol,oral', 'grnl,rcnst-oral', 'gas', 'syringe', 'susp,inhl',\n",
              "       'aerosol,rtl', 'applicator', 'dressing', 'tab (delayed release)',\n",
              "       'bag', 'inj,emulsion', 'ointment', 'tincture,top', 'tab,soluble',\n",
              "       'bar,top', 'foam,top', 'powder,intrapleural', 'container',\n",
              "       'soap/detergent'], dtype=object)"
            ]
          },
          "metadata": {},
          "execution_count": 119
        }
      ]
    },
    {
      "cell_type": "code",
      "source": [
        "df5.Dose_form.value_counts()"
      ],
      "metadata": {
        "colab": {
          "base_uri": "https://localhost:8080/"
        },
        "id": "N6YT3jlHtOgn",
        "outputId": "1d3e1547-a49f-4da8-e2f0-35307aaaa59b"
      },
      "execution_count": 120,
      "outputs": [
        {
          "output_type": "execute_result",
          "data": {
            "text/plain": [
              "tab                542703\n",
              "inj                128119\n",
              "cap,oral            78145\n",
              "soln,inhl           69711\n",
              "inj,soln            51894\n",
              "                    ...  \n",
              "fluid extract           1\n",
              "gel,transdermal         1\n",
              "ointment                1\n",
              "unit/test               1\n",
              "soap/detergent          1\n",
              "Name: Dose_form, Length: 132, dtype: int64"
            ]
          },
          "metadata": {},
          "execution_count": 120
        }
      ]
    },
    {
      "cell_type": "code",
      "source": [
        "df5.Dose_administered.nunique()"
      ],
      "metadata": {
        "colab": {
          "base_uri": "https://localhost:8080/"
        },
        "id": "XbpQJ-5btpYV",
        "outputId": "d39b1f15-15ae-4f05-a14f-e33d2d3c8ebf"
      },
      "execution_count": 121,
      "outputs": [
        {
          "output_type": "execute_result",
          "data": {
            "text/plain": [
              "24429"
            ]
          },
          "metadata": {},
          "execution_count": 121
        }
      ]
    },
    {
      "cell_type": "code",
      "source": [
        "df5.Dose_administered.value_counts()"
      ],
      "metadata": {
        "colab": {
          "base_uri": "https://localhost:8080/"
        },
        "id": "2tisppUVtU50",
        "outputId": "c212df4e-04f7-4e2b-e861-34b24c2606c8"
      },
      "execution_count": 122,
      "outputs": [
        {
          "output_type": "execute_result",
          "data": {
            "text/plain": [
              "1.000000    986519\n",
              "2.000000    130786\n",
              "0.000000     63871\n",
              "3.000000     29062\n",
              "4.000000      3516\n",
              "             ...  \n",
              "3.471234         1\n",
              "3.419373         1\n",
              "3.304501         1\n",
              "3.263469         1\n",
              "4.592077         1\n",
              "Name: Dose_administered, Length: 24429, dtype: int64"
            ]
          },
          "metadata": {},
          "execution_count": 122
        }
      ]
    },
    {
      "cell_type": "code",
      "source": [
        "df5.Dose_unit_administered.value_counts()"
      ],
      "metadata": {
        "colab": {
          "base_uri": "https://localhost:8080/"
        },
        "id": "P4Fp2jvxtgIH",
        "outputId": "2ee9bb18-9a91-43c8-ce8a-85a01c020475"
      },
      "execution_count": 123,
      "outputs": [
        {
          "output_type": "execute_result",
          "data": {
            "text/plain": [
              "tab                542721\n",
              "cap,oral            78127\n",
              "ML                  37136\n",
              "tab,sa              34634\n",
              "tab,oral            29366\n",
              "                    ...  \n",
              "305485900006            1\n",
              "2 units for 247         1\n",
              "60mg=1ml                1\n",
              "bs 170 1 unit           1\n",
              "2 units bs 213          1\n",
              "Name: Dose_unit_administered, Length: 15467, dtype: int64"
            ]
          },
          "metadata": {},
          "execution_count": 123
        }
      ]
    },
    {
      "cell_type": "code",
      "source": [
        "df5.Dose_unit_administered.nunique()"
      ],
      "metadata": {
        "colab": {
          "base_uri": "https://localhost:8080/"
        },
        "id": "U9ZCUW-7t5Om",
        "outputId": "2cde1f81-b33a-4f85-bc02-926fb10715e2"
      },
      "execution_count": 124,
      "outputs": [
        {
          "output_type": "execute_result",
          "data": {
            "text/plain": [
              "15467"
            ]
          },
          "metadata": {},
          "execution_count": 124
        }
      ]
    },
    {
      "cell_type": "markdown",
      "source": [
        "## **DEATH**"
      ],
      "metadata": {
        "id": "tb69eKakwnPm"
      }
    },
    {
      "cell_type": "code",
      "source": [
        "df6.head()"
      ],
      "metadata": {
        "colab": {
          "base_uri": "https://localhost:8080/",
          "height": 206
        },
        "id": "Oxmrt6H-t1_P",
        "outputId": "41ef4131-82a7-413f-8a53-abb1e2113be9"
      },
      "execution_count": 125,
      "outputs": [
        {
          "output_type": "execute_result",
          "data": {
            "text/plain": [
              "   Unnamed: 0  Internalpatientid  Age at death             Death date\n",
              "0           0             100036     72.412770  2015-01-18 20:49:10.0\n",
              "1           1             100037     75.241135  2008-10-16 15:14:26.0\n",
              "2           2             100045     85.399403  2019-01-26 11:33:52.0\n",
              "3           3             100095     84.136551  2004-08-10 21:49:35.0\n",
              "4           6              10013     68.372126  2007-06-11 00:17:06.0"
            ],
            "text/html": [
              "\n",
              "  <div id=\"df-bf6e8ba2-f017-4ea2-b6ab-12cd354f5b78\">\n",
              "    <div class=\"colab-df-container\">\n",
              "      <div>\n",
              "<style scoped>\n",
              "    .dataframe tbody tr th:only-of-type {\n",
              "        vertical-align: middle;\n",
              "    }\n",
              "\n",
              "    .dataframe tbody tr th {\n",
              "        vertical-align: top;\n",
              "    }\n",
              "\n",
              "    .dataframe thead th {\n",
              "        text-align: right;\n",
              "    }\n",
              "</style>\n",
              "<table border=\"1\" class=\"dataframe\">\n",
              "  <thead>\n",
              "    <tr style=\"text-align: right;\">\n",
              "      <th></th>\n",
              "      <th>Unnamed: 0</th>\n",
              "      <th>Internalpatientid</th>\n",
              "      <th>Age at death</th>\n",
              "      <th>Death date</th>\n",
              "    </tr>\n",
              "  </thead>\n",
              "  <tbody>\n",
              "    <tr>\n",
              "      <th>0</th>\n",
              "      <td>0</td>\n",
              "      <td>100036</td>\n",
              "      <td>72.412770</td>\n",
              "      <td>2015-01-18 20:49:10.0</td>\n",
              "    </tr>\n",
              "    <tr>\n",
              "      <th>1</th>\n",
              "      <td>1</td>\n",
              "      <td>100037</td>\n",
              "      <td>75.241135</td>\n",
              "      <td>2008-10-16 15:14:26.0</td>\n",
              "    </tr>\n",
              "    <tr>\n",
              "      <th>2</th>\n",
              "      <td>2</td>\n",
              "      <td>100045</td>\n",
              "      <td>85.399403</td>\n",
              "      <td>2019-01-26 11:33:52.0</td>\n",
              "    </tr>\n",
              "    <tr>\n",
              "      <th>3</th>\n",
              "      <td>3</td>\n",
              "      <td>100095</td>\n",
              "      <td>84.136551</td>\n",
              "      <td>2004-08-10 21:49:35.0</td>\n",
              "    </tr>\n",
              "    <tr>\n",
              "      <th>4</th>\n",
              "      <td>6</td>\n",
              "      <td>10013</td>\n",
              "      <td>68.372126</td>\n",
              "      <td>2007-06-11 00:17:06.0</td>\n",
              "    </tr>\n",
              "  </tbody>\n",
              "</table>\n",
              "</div>\n",
              "      <button class=\"colab-df-convert\" onclick=\"convertToInteractive('df-bf6e8ba2-f017-4ea2-b6ab-12cd354f5b78')\"\n",
              "              title=\"Convert this dataframe to an interactive table.\"\n",
              "              style=\"display:none;\">\n",
              "        \n",
              "  <svg xmlns=\"http://www.w3.org/2000/svg\" height=\"24px\"viewBox=\"0 0 24 24\"\n",
              "       width=\"24px\">\n",
              "    <path d=\"M0 0h24v24H0V0z\" fill=\"none\"/>\n",
              "    <path d=\"M18.56 5.44l.94 2.06.94-2.06 2.06-.94-2.06-.94-.94-2.06-.94 2.06-2.06.94zm-11 1L8.5 8.5l.94-2.06 2.06-.94-2.06-.94L8.5 2.5l-.94 2.06-2.06.94zm10 10l.94 2.06.94-2.06 2.06-.94-2.06-.94-.94-2.06-.94 2.06-2.06.94z\"/><path d=\"M17.41 7.96l-1.37-1.37c-.4-.4-.92-.59-1.43-.59-.52 0-1.04.2-1.43.59L10.3 9.45l-7.72 7.72c-.78.78-.78 2.05 0 2.83L4 21.41c.39.39.9.59 1.41.59.51 0 1.02-.2 1.41-.59l7.78-7.78 2.81-2.81c.8-.78.8-2.07 0-2.86zM5.41 20L4 18.59l7.72-7.72 1.47 1.35L5.41 20z\"/>\n",
              "  </svg>\n",
              "      </button>\n",
              "      \n",
              "  <style>\n",
              "    .colab-df-container {\n",
              "      display:flex;\n",
              "      flex-wrap:wrap;\n",
              "      gap: 12px;\n",
              "    }\n",
              "\n",
              "    .colab-df-convert {\n",
              "      background-color: #E8F0FE;\n",
              "      border: none;\n",
              "      border-radius: 50%;\n",
              "      cursor: pointer;\n",
              "      display: none;\n",
              "      fill: #1967D2;\n",
              "      height: 32px;\n",
              "      padding: 0 0 0 0;\n",
              "      width: 32px;\n",
              "    }\n",
              "\n",
              "    .colab-df-convert:hover {\n",
              "      background-color: #E2EBFA;\n",
              "      box-shadow: 0px 1px 2px rgba(60, 64, 67, 0.3), 0px 1px 3px 1px rgba(60, 64, 67, 0.15);\n",
              "      fill: #174EA6;\n",
              "    }\n",
              "\n",
              "    [theme=dark] .colab-df-convert {\n",
              "      background-color: #3B4455;\n",
              "      fill: #D2E3FC;\n",
              "    }\n",
              "\n",
              "    [theme=dark] .colab-df-convert:hover {\n",
              "      background-color: #434B5C;\n",
              "      box-shadow: 0px 1px 3px 1px rgba(0, 0, 0, 0.15);\n",
              "      filter: drop-shadow(0px 1px 2px rgba(0, 0, 0, 0.3));\n",
              "      fill: #FFFFFF;\n",
              "    }\n",
              "  </style>\n",
              "\n",
              "      <script>\n",
              "        const buttonEl =\n",
              "          document.querySelector('#df-bf6e8ba2-f017-4ea2-b6ab-12cd354f5b78 button.colab-df-convert');\n",
              "        buttonEl.style.display =\n",
              "          google.colab.kernel.accessAllowed ? 'block' : 'none';\n",
              "\n",
              "        async function convertToInteractive(key) {\n",
              "          const element = document.querySelector('#df-bf6e8ba2-f017-4ea2-b6ab-12cd354f5b78');\n",
              "          const dataTable =\n",
              "            await google.colab.kernel.invokeFunction('convertToInteractive',\n",
              "                                                     [key], {});\n",
              "          if (!dataTable) return;\n",
              "\n",
              "          const docLinkHtml = 'Like what you see? Visit the ' +\n",
              "            '<a target=\"_blank\" href=https://colab.research.google.com/notebooks/data_table.ipynb>data table notebook</a>'\n",
              "            + ' to learn more about interactive tables.';\n",
              "          element.innerHTML = '';\n",
              "          dataTable['output_type'] = 'display_data';\n",
              "          await google.colab.output.renderOutput(dataTable, element);\n",
              "          const docLink = document.createElement('div');\n",
              "          docLink.innerHTML = docLinkHtml;\n",
              "          element.appendChild(docLink);\n",
              "        }\n",
              "      </script>\n",
              "    </div>\n",
              "  </div>\n",
              "  "
            ]
          },
          "metadata": {},
          "execution_count": 125
        }
      ]
    },
    {
      "cell_type": "code",
      "source": [
        "\n",
        "# split the DateTime column into separate Date and Time columns\n",
        "df6[['Death_Date', 'Death_Time']] = df6['Death date'].str.split(' ', expand=True)"
      ],
      "metadata": {
        "id": "Vb74LiFfwzPg"
      },
      "execution_count": 126,
      "outputs": []
    },
    {
      "cell_type": "code",
      "source": [
        "df6.drop('Unnamed: 0', axis = 1, inplace = True)"
      ],
      "metadata": {
        "id": "MNtkzOw3xFf-"
      },
      "execution_count": 127,
      "outputs": []
    },
    {
      "cell_type": "code",
      "source": [
        "df6.head()"
      ],
      "metadata": {
        "colab": {
          "base_uri": "https://localhost:8080/",
          "height": 206
        },
        "id": "AKiwpWgcxZbs",
        "outputId": "4833ec4b-ae08-4a04-f215-de7bfb9f81a2"
      },
      "execution_count": 128,
      "outputs": [
        {
          "output_type": "execute_result",
          "data": {
            "text/plain": [
              "   Internalpatientid  Age at death             Death date  Death_Date  \\\n",
              "0             100036     72.412770  2015-01-18 20:49:10.0  2015-01-18   \n",
              "1             100037     75.241135  2008-10-16 15:14:26.0  2008-10-16   \n",
              "2             100045     85.399403  2019-01-26 11:33:52.0  2019-01-26   \n",
              "3             100095     84.136551  2004-08-10 21:49:35.0  2004-08-10   \n",
              "4              10013     68.372126  2007-06-11 00:17:06.0  2007-06-11   \n",
              "\n",
              "   Death_Time  \n",
              "0  20:49:10.0  \n",
              "1  15:14:26.0  \n",
              "2  11:33:52.0  \n",
              "3  21:49:35.0  \n",
              "4  00:17:06.0  "
            ],
            "text/html": [
              "\n",
              "  <div id=\"df-aa000b8c-c3ba-412f-b1cc-237285645ffc\">\n",
              "    <div class=\"colab-df-container\">\n",
              "      <div>\n",
              "<style scoped>\n",
              "    .dataframe tbody tr th:only-of-type {\n",
              "        vertical-align: middle;\n",
              "    }\n",
              "\n",
              "    .dataframe tbody tr th {\n",
              "        vertical-align: top;\n",
              "    }\n",
              "\n",
              "    .dataframe thead th {\n",
              "        text-align: right;\n",
              "    }\n",
              "</style>\n",
              "<table border=\"1\" class=\"dataframe\">\n",
              "  <thead>\n",
              "    <tr style=\"text-align: right;\">\n",
              "      <th></th>\n",
              "      <th>Internalpatientid</th>\n",
              "      <th>Age at death</th>\n",
              "      <th>Death date</th>\n",
              "      <th>Death_Date</th>\n",
              "      <th>Death_Time</th>\n",
              "    </tr>\n",
              "  </thead>\n",
              "  <tbody>\n",
              "    <tr>\n",
              "      <th>0</th>\n",
              "      <td>100036</td>\n",
              "      <td>72.412770</td>\n",
              "      <td>2015-01-18 20:49:10.0</td>\n",
              "      <td>2015-01-18</td>\n",
              "      <td>20:49:10.0</td>\n",
              "    </tr>\n",
              "    <tr>\n",
              "      <th>1</th>\n",
              "      <td>100037</td>\n",
              "      <td>75.241135</td>\n",
              "      <td>2008-10-16 15:14:26.0</td>\n",
              "      <td>2008-10-16</td>\n",
              "      <td>15:14:26.0</td>\n",
              "    </tr>\n",
              "    <tr>\n",
              "      <th>2</th>\n",
              "      <td>100045</td>\n",
              "      <td>85.399403</td>\n",
              "      <td>2019-01-26 11:33:52.0</td>\n",
              "      <td>2019-01-26</td>\n",
              "      <td>11:33:52.0</td>\n",
              "    </tr>\n",
              "    <tr>\n",
              "      <th>3</th>\n",
              "      <td>100095</td>\n",
              "      <td>84.136551</td>\n",
              "      <td>2004-08-10 21:49:35.0</td>\n",
              "      <td>2004-08-10</td>\n",
              "      <td>21:49:35.0</td>\n",
              "    </tr>\n",
              "    <tr>\n",
              "      <th>4</th>\n",
              "      <td>10013</td>\n",
              "      <td>68.372126</td>\n",
              "      <td>2007-06-11 00:17:06.0</td>\n",
              "      <td>2007-06-11</td>\n",
              "      <td>00:17:06.0</td>\n",
              "    </tr>\n",
              "  </tbody>\n",
              "</table>\n",
              "</div>\n",
              "      <button class=\"colab-df-convert\" onclick=\"convertToInteractive('df-aa000b8c-c3ba-412f-b1cc-237285645ffc')\"\n",
              "              title=\"Convert this dataframe to an interactive table.\"\n",
              "              style=\"display:none;\">\n",
              "        \n",
              "  <svg xmlns=\"http://www.w3.org/2000/svg\" height=\"24px\"viewBox=\"0 0 24 24\"\n",
              "       width=\"24px\">\n",
              "    <path d=\"M0 0h24v24H0V0z\" fill=\"none\"/>\n",
              "    <path d=\"M18.56 5.44l.94 2.06.94-2.06 2.06-.94-2.06-.94-.94-2.06-.94 2.06-2.06.94zm-11 1L8.5 8.5l.94-2.06 2.06-.94-2.06-.94L8.5 2.5l-.94 2.06-2.06.94zm10 10l.94 2.06.94-2.06 2.06-.94-2.06-.94-.94-2.06-.94 2.06-2.06.94z\"/><path d=\"M17.41 7.96l-1.37-1.37c-.4-.4-.92-.59-1.43-.59-.52 0-1.04.2-1.43.59L10.3 9.45l-7.72 7.72c-.78.78-.78 2.05 0 2.83L4 21.41c.39.39.9.59 1.41.59.51 0 1.02-.2 1.41-.59l7.78-7.78 2.81-2.81c.8-.78.8-2.07 0-2.86zM5.41 20L4 18.59l7.72-7.72 1.47 1.35L5.41 20z\"/>\n",
              "  </svg>\n",
              "      </button>\n",
              "      \n",
              "  <style>\n",
              "    .colab-df-container {\n",
              "      display:flex;\n",
              "      flex-wrap:wrap;\n",
              "      gap: 12px;\n",
              "    }\n",
              "\n",
              "    .colab-df-convert {\n",
              "      background-color: #E8F0FE;\n",
              "      border: none;\n",
              "      border-radius: 50%;\n",
              "      cursor: pointer;\n",
              "      display: none;\n",
              "      fill: #1967D2;\n",
              "      height: 32px;\n",
              "      padding: 0 0 0 0;\n",
              "      width: 32px;\n",
              "    }\n",
              "\n",
              "    .colab-df-convert:hover {\n",
              "      background-color: #E2EBFA;\n",
              "      box-shadow: 0px 1px 2px rgba(60, 64, 67, 0.3), 0px 1px 3px 1px rgba(60, 64, 67, 0.15);\n",
              "      fill: #174EA6;\n",
              "    }\n",
              "\n",
              "    [theme=dark] .colab-df-convert {\n",
              "      background-color: #3B4455;\n",
              "      fill: #D2E3FC;\n",
              "    }\n",
              "\n",
              "    [theme=dark] .colab-df-convert:hover {\n",
              "      background-color: #434B5C;\n",
              "      box-shadow: 0px 1px 3px 1px rgba(0, 0, 0, 0.15);\n",
              "      filter: drop-shadow(0px 1px 2px rgba(0, 0, 0, 0.3));\n",
              "      fill: #FFFFFF;\n",
              "    }\n",
              "  </style>\n",
              "\n",
              "      <script>\n",
              "        const buttonEl =\n",
              "          document.querySelector('#df-aa000b8c-c3ba-412f-b1cc-237285645ffc button.colab-df-convert');\n",
              "        buttonEl.style.display =\n",
              "          google.colab.kernel.accessAllowed ? 'block' : 'none';\n",
              "\n",
              "        async function convertToInteractive(key) {\n",
              "          const element = document.querySelector('#df-aa000b8c-c3ba-412f-b1cc-237285645ffc');\n",
              "          const dataTable =\n",
              "            await google.colab.kernel.invokeFunction('convertToInteractive',\n",
              "                                                     [key], {});\n",
              "          if (!dataTable) return;\n",
              "\n",
              "          const docLinkHtml = 'Like what you see? Visit the ' +\n",
              "            '<a target=\"_blank\" href=https://colab.research.google.com/notebooks/data_table.ipynb>data table notebook</a>'\n",
              "            + ' to learn more about interactive tables.';\n",
              "          element.innerHTML = '';\n",
              "          dataTable['output_type'] = 'display_data';\n",
              "          await google.colab.output.renderOutput(dataTable, element);\n",
              "          const docLink = document.createElement('div');\n",
              "          docLink.innerHTML = docLinkHtml;\n",
              "          element.appendChild(docLink);\n",
              "        }\n",
              "      </script>\n",
              "    </div>\n",
              "  </div>\n",
              "  "
            ]
          },
          "metadata": {},
          "execution_count": 128
        }
      ]
    },
    {
      "cell_type": "code",
      "source": [
        "df6['Age at death'].mean()"
      ],
      "metadata": {
        "colab": {
          "base_uri": "https://localhost:8080/"
        },
        "id": "9o2nwv8Txcys",
        "outputId": "5774b3e7-e8f1-4ada-9b9f-3f9bc62a5006"
      },
      "execution_count": 129,
      "outputs": [
        {
          "output_type": "execute_result",
          "data": {
            "text/plain": [
              "78.3606613225899"
            ]
          },
          "metadata": {},
          "execution_count": 129
        }
      ]
    },
    {
      "cell_type": "code",
      "source": [
        "df6.rename(columns={'Age at death':'Age_at_death'},inplace = True)"
      ],
      "metadata": {
        "id": "GNBK2fxrxq9x"
      },
      "execution_count": 130,
      "outputs": []
    },
    {
      "cell_type": "code",
      "source": [
        "sns.kdeplot(x = 'Age_at_death', data = df6)"
      ],
      "metadata": {
        "colab": {
          "base_uri": "https://localhost:8080/",
          "height": 468
        },
        "id": "MXoYWZCExiDE",
        "outputId": "1c674d72-1333-4b0d-cd42-6bb6f9450158"
      },
      "execution_count": 131,
      "outputs": [
        {
          "output_type": "execute_result",
          "data": {
            "text/plain": [
              "<Axes: xlabel='Age_at_death', ylabel='Density'>"
            ]
          },
          "metadata": {},
          "execution_count": 131
        },
        {
          "output_type": "display_data",
          "data": {
            "text/plain": [
              "<Figure size 640x480 with 1 Axes>"
            ],
            "image/png": "[encoded data removed]"
          },
          "metadata": {}
        }
      ]
    }
  ]
}