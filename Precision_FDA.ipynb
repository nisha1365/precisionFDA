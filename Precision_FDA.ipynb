{
  "nbformat": 4,
  "nbformat_minor": 0,
  "metadata": {
    "colab": {
      "provenance": [],
      "authorship_tag": "ABX9TyP2xdSYc4vOh+msM39Ra7nd",
      "include_colab_link": true
    },
    "kernelspec": {
      "name": "python3",
      "display_name": "Python 3"
    },
    "language_info": {
      "name": "python"
    }
  },
  "cells": [
    {
      "cell_type": "markdown",
      "metadata": {
        "id": "view-in-github",
        "colab_type": "text"
      },
      "source": [
        "<a href=\"https://colab.research.google.com/github/nisha1365/precisionFDA/blob/main/Precision_FDA.ipynb\" target=\"_parent\"><img src=\"https://colab.research.google.com/assets/colab-badge.svg\" alt=\"Open In Colab\"/></a>"
      ]
    },
    {
      "cell_type": "code",
      "execution_count": 110,
      "metadata": {
        "id": "0YcJiAo6Jl_N"
      },
      "outputs": [],
      "source": [
        "import pandas as pd\n",
        "import numpy as np\n",
        "import matplotlib.pyplot as plt\n",
        "import seaborn as sns\n"
      ]
    },
    {
      "cell_type": "markdown",
      "source": [
        "df1 = Demographic event train\n",
        "\n",
        "df2 = Demographic static train\n",
        "\n",
        "df3 = Death train"
      ],
      "metadata": {
        "id": "H_KMxJLaXl02"
      }
    },
    {
      "cell_type": "code",
      "source": [
        "# Read CSV files into dataframes\n",
        "df1 = pd.read_csv('/content/demographics_event_train.csv')\n",
        "df2 = pd.read_csv('/content/demographics_static_train.csv')\n",
        "df3 = pd.read_csv('/content/death_train.csv')\n",
        "\n",
        "\n"
      ],
      "metadata": {
        "id": "u7HB88lPXNFg"
      },
      "execution_count": 111,
      "outputs": []
    },
    {
      "cell_type": "code",
      "source": [
        "df1.head()"
      ],
      "metadata": {
        "colab": {
          "base_uri": "https://localhost:8080/",
          "height": 206
        },
        "id": "qWLeoCgmXyKK",
        "outputId": "0cabad0d-70fe-4d31-8a7c-58b993c7be3f"
      },
      "execution_count": 112,
      "outputs": [
        {
          "output_type": "execute_result",
          "data": {
            "text/plain": [
              "   Unnamed: 0  Internalpatientid  Age at update             Event date  \\\n",
              "0           1             100028      78.990830  2020-08-24 03:33:32.0   \n",
              "1           2             100032      91.357622  2008-02-07 05:03:27.0   \n",
              "2           4             100046      72.961415  2003-09-14 09:32:12.0   \n",
              "3           5             100071      75.221222  2019-04-25 08:33:42.0   \n",
              "4           6             100091      80.955929  2022-02-09 09:24:20.0   \n",
              "\n",
              "  Marital status Ruca category  \n",
              "0        Married         Urban  \n",
              "1        Married         Rural  \n",
              "2        Married         Urban  \n",
              "3        Widowed         Urban  \n",
              "4  Never married         Urban  "
            ],
            "text/html": [
              "\n",
              "  <div id=\"df-19fdf51a-2495-431b-9736-205aca8fd2ef\">\n",
              "    <div class=\"colab-df-container\">\n",
              "      <div>\n",
              "<style scoped>\n",
              "    .dataframe tbody tr th:only-of-type {\n",
              "        vertical-align: middle;\n",
              "    }\n",
              "\n",
              "    .dataframe tbody tr th {\n",
              "        vertical-align: top;\n",
              "    }\n",
              "\n",
              "    .dataframe thead th {\n",
              "        text-align: right;\n",
              "    }\n",
              "</style>\n",
              "<table border=\"1\" class=\"dataframe\">\n",
              "  <thead>\n",
              "    <tr style=\"text-align: right;\">\n",
              "      <th></th>\n",
              "      <th>Unnamed: 0</th>\n",
              "      <th>Internalpatientid</th>\n",
              "      <th>Age at update</th>\n",
              "      <th>Event date</th>\n",
              "      <th>Marital status</th>\n",
              "      <th>Ruca category</th>\n",
              "    </tr>\n",
              "  </thead>\n",
              "  <tbody>\n",
              "    <tr>\n",
              "      <th>0</th>\n",
              "      <td>1</td>\n",
              "      <td>100028</td>\n",
              "      <td>78.990830</td>\n",
              "      <td>2020-08-24 03:33:32.0</td>\n",
              "      <td>Married</td>\n",
              "      <td>Urban</td>\n",
              "    </tr>\n",
              "    <tr>\n",
              "      <th>1</th>\n",
              "      <td>2</td>\n",
              "      <td>100032</td>\n",
              "      <td>91.357622</td>\n",
              "      <td>2008-02-07 05:03:27.0</td>\n",
              "      <td>Married</td>\n",
              "      <td>Rural</td>\n",
              "    </tr>\n",
              "    <tr>\n",
              "      <th>2</th>\n",
              "      <td>4</td>\n",
              "      <td>100046</td>\n",
              "      <td>72.961415</td>\n",
              "      <td>2003-09-14 09:32:12.0</td>\n",
              "      <td>Married</td>\n",
              "      <td>Urban</td>\n",
              "    </tr>\n",
              "    <tr>\n",
              "      <th>3</th>\n",
              "      <td>5</td>\n",
              "      <td>100071</td>\n",
              "      <td>75.221222</td>\n",
              "      <td>2019-04-25 08:33:42.0</td>\n",
              "      <td>Widowed</td>\n",
              "      <td>Urban</td>\n",
              "    </tr>\n",
              "    <tr>\n",
              "      <th>4</th>\n",
              "      <td>6</td>\n",
              "      <td>100091</td>\n",
              "      <td>80.955929</td>\n",
              "      <td>2022-02-09 09:24:20.0</td>\n",
              "      <td>Never married</td>\n",
              "      <td>Urban</td>\n",
              "    </tr>\n",
              "  </tbody>\n",
              "</table>\n",
              "</div>\n",
              "      <button class=\"colab-df-convert\" onclick=\"convertToInteractive('df-19fdf51a-2495-431b-9736-205aca8fd2ef')\"\n",
              "              title=\"Convert this dataframe to an interactive table.\"\n",
              "              style=\"display:none;\">\n",
              "        \n",
              "  <svg xmlns=\"http://www.w3.org/2000/svg\" height=\"24px\"viewBox=\"0 0 24 24\"\n",
              "       width=\"24px\">\n",
              "    <path d=\"M0 0h24v24H0V0z\" fill=\"none\"/>\n",
              "    <path d=\"M18.56 5.44l.94 2.06.94-2.06 2.06-.94-2.06-.94-.94-2.06-.94 2.06-2.06.94zm-11 1L8.5 8.5l.94-2.06 2.06-.94-2.06-.94L8.5 2.5l-.94 2.06-2.06.94zm10 10l.94 2.06.94-2.06 2.06-.94-2.06-.94-.94-2.06-.94 2.06-2.06.94z\"/><path d=\"M17.41 7.96l-1.37-1.37c-.4-.4-.92-.59-1.43-.59-.52 0-1.04.2-1.43.59L10.3 9.45l-7.72 7.72c-.78.78-.78 2.05 0 2.83L4 21.41c.39.39.9.59 1.41.59.51 0 1.02-.2 1.41-.59l7.78-7.78 2.81-2.81c.8-.78.8-2.07 0-2.86zM5.41 20L4 18.59l7.72-7.72 1.47 1.35L5.41 20z\"/>\n",
              "  </svg>\n",
              "      </button>\n",
              "      \n",
              "  <style>\n",
              "    .colab-df-container {\n",
              "      display:flex;\n",
              "      flex-wrap:wrap;\n",
              "      gap: 12px;\n",
              "    }\n",
              "\n",
              "    .colab-df-convert {\n",
              "      background-color: #E8F0FE;\n",
              "      border: none;\n",
              "      border-radius: 50%;\n",
              "      cursor: pointer;\n",
              "      display: none;\n",
              "      fill: #1967D2;\n",
              "      height: 32px;\n",
              "      padding: 0 0 0 0;\n",
              "      width: 32px;\n",
              "    }\n",
              "\n",
              "    .colab-df-convert:hover {\n",
              "      background-color: #E2EBFA;\n",
              "      box-shadow: 0px 1px 2px rgba(60, 64, 67, 0.3), 0px 1px 3px 1px rgba(60, 64, 67, 0.15);\n",
              "      fill: #174EA6;\n",
              "    }\n",
              "\n",
              "    [theme=dark] .colab-df-convert {\n",
              "      background-color: #3B4455;\n",
              "      fill: #D2E3FC;\n",
              "    }\n",
              "\n",
              "    [theme=dark] .colab-df-convert:hover {\n",
              "      background-color: #434B5C;\n",
              "      box-shadow: 0px 1px 3px 1px rgba(0, 0, 0, 0.15);\n",
              "      filter: drop-shadow(0px 1px 2px rgba(0, 0, 0, 0.3));\n",
              "      fill: #FFFFFF;\n",
              "    }\n",
              "  </style>\n",
              "\n",
              "      <script>\n",
              "        const buttonEl =\n",
              "          document.querySelector('#df-19fdf51a-2495-431b-9736-205aca8fd2ef button.colab-df-convert');\n",
              "        buttonEl.style.display =\n",
              "          google.colab.kernel.accessAllowed ? 'block' : 'none';\n",
              "\n",
              "        async function convertToInteractive(key) {\n",
              "          const element = document.querySelector('#df-19fdf51a-2495-431b-9736-205aca8fd2ef');\n",
              "          const dataTable =\n",
              "            await google.colab.kernel.invokeFunction('convertToInteractive',\n",
              "                                                     [key], {});\n",
              "          if (!dataTable) return;\n",
              "\n",
              "          const docLinkHtml = 'Like what you see? Visit the ' +\n",
              "            '<a target=\"_blank\" href=https://colab.research.google.com/notebooks/data_table.ipynb>data table notebook</a>'\n",
              "            + ' to learn more about interactive tables.';\n",
              "          element.innerHTML = '';\n",
              "          dataTable['output_type'] = 'display_data';\n",
              "          await google.colab.output.renderOutput(dataTable, element);\n",
              "          const docLink = document.createElement('div');\n",
              "          docLink.innerHTML = docLinkHtml;\n",
              "          element.appendChild(docLink);\n",
              "        }\n",
              "      </script>\n",
              "    </div>\n",
              "  </div>\n",
              "  "
            ]
          },
          "metadata": {},
          "execution_count": 112
        }
      ]
    },
    {
      "cell_type": "code",
      "source": [
        "df1.drop('Unnamed: 0',axis = 1,inplace = True)\n",
        "df2.drop('Unnamed: 0',axis = 1,inplace = True)\n",
        "df3.drop('Unnamed: 0',axis = 1,inplace = True)"
      ],
      "metadata": {
        "id": "T4n_SjoWYpio"
      },
      "execution_count": 113,
      "outputs": []
    },
    {
      "cell_type": "code",
      "source": [
        "df1.info()"
      ],
      "metadata": {
        "colab": {
          "base_uri": "https://localhost:8080/"
        },
        "id": "Yr1EI9qPZYsA",
        "outputId": "2154ea77-a1c9-422f-f70f-f5a4d66c1b15"
      },
      "execution_count": 114,
      "outputs": [
        {
          "output_type": "stream",
          "name": "stdout",
          "text": [
            "<class 'pandas.core.frame.DataFrame'>\n",
            "RangeIndex: 133252 entries, 0 to 133251\n",
            "Data columns (total 5 columns):\n",
            " #   Column             Non-Null Count   Dtype  \n",
            "---  ------             --------------   -----  \n",
            " 0   Internalpatientid  133252 non-null  int64  \n",
            " 1   Age at update      133252 non-null  float64\n",
            " 2   Event date         133252 non-null  object \n",
            " 3   Marital status     133252 non-null  object \n",
            " 4   Ruca category      133252 non-null  object \n",
            "dtypes: float64(1), int64(1), object(3)\n",
            "memory usage: 5.1+ MB\n"
          ]
        }
      ]
    },
    {
      "cell_type": "code",
      "source": [
        "# split the DateTime column into separate Date and Time columns\n",
        "df1[['Date', 'Time']] = df1['Event date'].str.split(' ', expand=True)"
      ],
      "metadata": {
        "id": "Q_M_X-bBZwMH"
      },
      "execution_count": 115,
      "outputs": []
    },
    {
      "cell_type": "code",
      "source": [
        "df1.head()"
      ],
      "metadata": {
        "colab": {
          "base_uri": "https://localhost:8080/",
          "height": 206
        },
        "id": "A21VC0hNZ6cS",
        "outputId": "4a7228fa-affd-417d-a970-78484c6fc0cb"
      },
      "execution_count": 116,
      "outputs": [
        {
          "output_type": "execute_result",
          "data": {
            "text/plain": [
              "   Internalpatientid  Age at update             Event date Marital status  \\\n",
              "0             100028      78.990830  2020-08-24 03:33:32.0        Married   \n",
              "1             100032      91.357622  2008-02-07 05:03:27.0        Married   \n",
              "2             100046      72.961415  2003-09-14 09:32:12.0        Married   \n",
              "3             100071      75.221222  2019-04-25 08:33:42.0        Widowed   \n",
              "4             100091      80.955929  2022-02-09 09:24:20.0  Never married   \n",
              "\n",
              "  Ruca category        Date        Time  \n",
              "0         Urban  2020-08-24  03:33:32.0  \n",
              "1         Rural  2008-02-07  05:03:27.0  \n",
              "2         Urban  2003-09-14  09:32:12.0  \n",
              "3         Urban  2019-04-25  08:33:42.0  \n",
              "4         Urban  2022-02-09  09:24:20.0  "
            ],
            "text/html": [
              "\n",
              "  <div id=\"df-c2c64f4b-5a2d-4b35-ba6a-5b23004d2923\">\n",
              "    <div class=\"colab-df-container\">\n",
              "      <div>\n",
              "<style scoped>\n",
              "    .dataframe tbody tr th:only-of-type {\n",
              "        vertical-align: middle;\n",
              "    }\n",
              "\n",
              "    .dataframe tbody tr th {\n",
              "        vertical-align: top;\n",
              "    }\n",
              "\n",
              "    .dataframe thead th {\n",
              "        text-align: right;\n",
              "    }\n",
              "</style>\n",
              "<table border=\"1\" class=\"dataframe\">\n",
              "  <thead>\n",
              "    <tr style=\"text-align: right;\">\n",
              "      <th></th>\n",
              "      <th>Internalpatientid</th>\n",
              "      <th>Age at update</th>\n",
              "      <th>Event date</th>\n",
              "      <th>Marital status</th>\n",
              "      <th>Ruca category</th>\n",
              "      <th>Date</th>\n",
              "      <th>Time</th>\n",
              "    </tr>\n",
              "  </thead>\n",
              "  <tbody>\n",
              "    <tr>\n",
              "      <th>0</th>\n",
              "      <td>100028</td>\n",
              "      <td>78.990830</td>\n",
              "      <td>2020-08-24 03:33:32.0</td>\n",
              "      <td>Married</td>\n",
              "      <td>Urban</td>\n",
              "      <td>2020-08-24</td>\n",
              "      <td>03:33:32.0</td>\n",
              "    </tr>\n",
              "    <tr>\n",
              "      <th>1</th>\n",
              "      <td>100032</td>\n",
              "      <td>91.357622</td>\n",
              "      <td>2008-02-07 05:03:27.0</td>\n",
              "      <td>Married</td>\n",
              "      <td>Rural</td>\n",
              "      <td>2008-02-07</td>\n",
              "      <td>05:03:27.0</td>\n",
              "    </tr>\n",
              "    <tr>\n",
              "      <th>2</th>\n",
              "      <td>100046</td>\n",
              "      <td>72.961415</td>\n",
              "      <td>2003-09-14 09:32:12.0</td>\n",
              "      <td>Married</td>\n",
              "      <td>Urban</td>\n",
              "      <td>2003-09-14</td>\n",
              "      <td>09:32:12.0</td>\n",
              "    </tr>\n",
              "    <tr>\n",
              "      <th>3</th>\n",
              "      <td>100071</td>\n",
              "      <td>75.221222</td>\n",
              "      <td>2019-04-25 08:33:42.0</td>\n",
              "      <td>Widowed</td>\n",
              "      <td>Urban</td>\n",
              "      <td>2019-04-25</td>\n",
              "      <td>08:33:42.0</td>\n",
              "    </tr>\n",
              "    <tr>\n",
              "      <th>4</th>\n",
              "      <td>100091</td>\n",
              "      <td>80.955929</td>\n",
              "      <td>2022-02-09 09:24:20.0</td>\n",
              "      <td>Never married</td>\n",
              "      <td>Urban</td>\n",
              "      <td>2022-02-09</td>\n",
              "      <td>09:24:20.0</td>\n",
              "    </tr>\n",
              "  </tbody>\n",
              "</table>\n",
              "</div>\n",
              "      <button class=\"colab-df-convert\" onclick=\"convertToInteractive('df-c2c64f4b-5a2d-4b35-ba6a-5b23004d2923')\"\n",
              "              title=\"Convert this dataframe to an interactive table.\"\n",
              "              style=\"display:none;\">\n",
              "        \n",
              "  <svg xmlns=\"http://www.w3.org/2000/svg\" height=\"24px\"viewBox=\"0 0 24 24\"\n",
              "       width=\"24px\">\n",
              "    <path d=\"M0 0h24v24H0V0z\" fill=\"none\"/>\n",
              "    <path d=\"M18.56 5.44l.94 2.06.94-2.06 2.06-.94-2.06-.94-.94-2.06-.94 2.06-2.06.94zm-11 1L8.5 8.5l.94-2.06 2.06-.94-2.06-.94L8.5 2.5l-.94 2.06-2.06.94zm10 10l.94 2.06.94-2.06 2.06-.94-2.06-.94-.94-2.06-.94 2.06-2.06.94z\"/><path d=\"M17.41 7.96l-1.37-1.37c-.4-.4-.92-.59-1.43-.59-.52 0-1.04.2-1.43.59L10.3 9.45l-7.72 7.72c-.78.78-.78 2.05 0 2.83L4 21.41c.39.39.9.59 1.41.59.51 0 1.02-.2 1.41-.59l7.78-7.78 2.81-2.81c.8-.78.8-2.07 0-2.86zM5.41 20L4 18.59l7.72-7.72 1.47 1.35L5.41 20z\"/>\n",
              "  </svg>\n",
              "      </button>\n",
              "      \n",
              "  <style>\n",
              "    .colab-df-container {\n",
              "      display:flex;\n",
              "      flex-wrap:wrap;\n",
              "      gap: 12px;\n",
              "    }\n",
              "\n",
              "    .colab-df-convert {\n",
              "      background-color: #E8F0FE;\n",
              "      border: none;\n",
              "      border-radius: 50%;\n",
              "      cursor: pointer;\n",
              "      display: none;\n",
              "      fill: #1967D2;\n",
              "      height: 32px;\n",
              "      padding: 0 0 0 0;\n",
              "      width: 32px;\n",
              "    }\n",
              "\n",
              "    .colab-df-convert:hover {\n",
              "      background-color: #E2EBFA;\n",
              "      box-shadow: 0px 1px 2px rgba(60, 64, 67, 0.3), 0px 1px 3px 1px rgba(60, 64, 67, 0.15);\n",
              "      fill: #174EA6;\n",
              "    }\n",
              "\n",
              "    [theme=dark] .colab-df-convert {\n",
              "      background-color: #3B4455;\n",
              "      fill: #D2E3FC;\n",
              "    }\n",
              "\n",
              "    [theme=dark] .colab-df-convert:hover {\n",
              "      background-color: #434B5C;\n",
              "      box-shadow: 0px 1px 3px 1px rgba(0, 0, 0, 0.15);\n",
              "      filter: drop-shadow(0px 1px 2px rgba(0, 0, 0, 0.3));\n",
              "      fill: #FFFFFF;\n",
              "    }\n",
              "  </style>\n",
              "\n",
              "      <script>\n",
              "        const buttonEl =\n",
              "          document.querySelector('#df-c2c64f4b-5a2d-4b35-ba6a-5b23004d2923 button.colab-df-convert');\n",
              "        buttonEl.style.display =\n",
              "          google.colab.kernel.accessAllowed ? 'block' : 'none';\n",
              "\n",
              "        async function convertToInteractive(key) {\n",
              "          const element = document.querySelector('#df-c2c64f4b-5a2d-4b35-ba6a-5b23004d2923');\n",
              "          const dataTable =\n",
              "            await google.colab.kernel.invokeFunction('convertToInteractive',\n",
              "                                                     [key], {});\n",
              "          if (!dataTable) return;\n",
              "\n",
              "          const docLinkHtml = 'Like what you see? Visit the ' +\n",
              "            '<a target=\"_blank\" href=https://colab.research.google.com/notebooks/data_table.ipynb>data table notebook</a>'\n",
              "            + ' to learn more about interactive tables.';\n",
              "          element.innerHTML = '';\n",
              "          dataTable['output_type'] = 'display_data';\n",
              "          await google.colab.output.renderOutput(dataTable, element);\n",
              "          const docLink = document.createElement('div');\n",
              "          docLink.innerHTML = docLinkHtml;\n",
              "          element.appendChild(docLink);\n",
              "        }\n",
              "      </script>\n",
              "    </div>\n",
              "  </div>\n",
              "  "
            ]
          },
          "metadata": {},
          "execution_count": 116
        }
      ]
    },
    {
      "cell_type": "code",
      "source": [
        "df1.drop('Event date',axis = 1,inplace = True)"
      ],
      "metadata": {
        "id": "420SbgwgaRbS"
      },
      "execution_count": 117,
      "outputs": []
    },
    {
      "cell_type": "code",
      "source": [
        "df1.head()"
      ],
      "metadata": {
        "colab": {
          "base_uri": "https://localhost:8080/",
          "height": 206
        },
        "id": "n7ZWvKW5Z-iv",
        "outputId": "f5da5dfc-ea1a-4ffa-8ca4-4443422e25be"
      },
      "execution_count": 118,
      "outputs": [
        {
          "output_type": "execute_result",
          "data": {
            "text/plain": [
              "   Internalpatientid  Age at update Marital status Ruca category        Date  \\\n",
              "0             100028      78.990830        Married         Urban  2020-08-24   \n",
              "1             100032      91.357622        Married         Rural  2008-02-07   \n",
              "2             100046      72.961415        Married         Urban  2003-09-14   \n",
              "3             100071      75.221222        Widowed         Urban  2019-04-25   \n",
              "4             100091      80.955929  Never married         Urban  2022-02-09   \n",
              "\n",
              "         Time  \n",
              "0  03:33:32.0  \n",
              "1  05:03:27.0  \n",
              "2  09:32:12.0  \n",
              "3  08:33:42.0  \n",
              "4  09:24:20.0  "
            ],
            "text/html": [
              "\n",
              "  <div id=\"df-b3892a29-5ca7-424c-a916-c84c1527c176\">\n",
              "    <div class=\"colab-df-container\">\n",
              "      <div>\n",
              "<style scoped>\n",
              "    .dataframe tbody tr th:only-of-type {\n",
              "        vertical-align: middle;\n",
              "    }\n",
              "\n",
              "    .dataframe tbody tr th {\n",
              "        vertical-align: top;\n",
              "    }\n",
              "\n",
              "    .dataframe thead th {\n",
              "        text-align: right;\n",
              "    }\n",
              "</style>\n",
              "<table border=\"1\" class=\"dataframe\">\n",
              "  <thead>\n",
              "    <tr style=\"text-align: right;\">\n",
              "      <th></th>\n",
              "      <th>Internalpatientid</th>\n",
              "      <th>Age at update</th>\n",
              "      <th>Marital status</th>\n",
              "      <th>Ruca category</th>\n",
              "      <th>Date</th>\n",
              "      <th>Time</th>\n",
              "    </tr>\n",
              "  </thead>\n",
              "  <tbody>\n",
              "    <tr>\n",
              "      <th>0</th>\n",
              "      <td>100028</td>\n",
              "      <td>78.990830</td>\n",
              "      <td>Married</td>\n",
              "      <td>Urban</td>\n",
              "      <td>2020-08-24</td>\n",
              "      <td>03:33:32.0</td>\n",
              "    </tr>\n",
              "    <tr>\n",
              "      <th>1</th>\n",
              "      <td>100032</td>\n",
              "      <td>91.357622</td>\n",
              "      <td>Married</td>\n",
              "      <td>Rural</td>\n",
              "      <td>2008-02-07</td>\n",
              "      <td>05:03:27.0</td>\n",
              "    </tr>\n",
              "    <tr>\n",
              "      <th>2</th>\n",
              "      <td>100046</td>\n",
              "      <td>72.961415</td>\n",
              "      <td>Married</td>\n",
              "      <td>Urban</td>\n",
              "      <td>2003-09-14</td>\n",
              "      <td>09:32:12.0</td>\n",
              "    </tr>\n",
              "    <tr>\n",
              "      <th>3</th>\n",
              "      <td>100071</td>\n",
              "      <td>75.221222</td>\n",
              "      <td>Widowed</td>\n",
              "      <td>Urban</td>\n",
              "      <td>2019-04-25</td>\n",
              "      <td>08:33:42.0</td>\n",
              "    </tr>\n",
              "    <tr>\n",
              "      <th>4</th>\n",
              "      <td>100091</td>\n",
              "      <td>80.955929</td>\n",
              "      <td>Never married</td>\n",
              "      <td>Urban</td>\n",
              "      <td>2022-02-09</td>\n",
              "      <td>09:24:20.0</td>\n",
              "    </tr>\n",
              "  </tbody>\n",
              "</table>\n",
              "</div>\n",
              "      <button class=\"colab-df-convert\" onclick=\"convertToInteractive('df-b3892a29-5ca7-424c-a916-c84c1527c176')\"\n",
              "              title=\"Convert this dataframe to an interactive table.\"\n",
              "              style=\"display:none;\">\n",
              "        \n",
              "  <svg xmlns=\"http://www.w3.org/2000/svg\" height=\"24px\"viewBox=\"0 0 24 24\"\n",
              "       width=\"24px\">\n",
              "    <path d=\"M0 0h24v24H0V0z\" fill=\"none\"/>\n",
              "    <path d=\"M18.56 5.44l.94 2.06.94-2.06 2.06-.94-2.06-.94-.94-2.06-.94 2.06-2.06.94zm-11 1L8.5 8.5l.94-2.06 2.06-.94-2.06-.94L8.5 2.5l-.94 2.06-2.06.94zm10 10l.94 2.06.94-2.06 2.06-.94-2.06-.94-.94-2.06-.94 2.06-2.06.94z\"/><path d=\"M17.41 7.96l-1.37-1.37c-.4-.4-.92-.59-1.43-.59-.52 0-1.04.2-1.43.59L10.3 9.45l-7.72 7.72c-.78.78-.78 2.05 0 2.83L4 21.41c.39.39.9.59 1.41.59.51 0 1.02-.2 1.41-.59l7.78-7.78 2.81-2.81c.8-.78.8-2.07 0-2.86zM5.41 20L4 18.59l7.72-7.72 1.47 1.35L5.41 20z\"/>\n",
              "  </svg>\n",
              "      </button>\n",
              "      \n",
              "  <style>\n",
              "    .colab-df-container {\n",
              "      display:flex;\n",
              "      flex-wrap:wrap;\n",
              "      gap: 12px;\n",
              "    }\n",
              "\n",
              "    .colab-df-convert {\n",
              "      background-color: #E8F0FE;\n",
              "      border: none;\n",
              "      border-radius: 50%;\n",
              "      cursor: pointer;\n",
              "      display: none;\n",
              "      fill: #1967D2;\n",
              "      height: 32px;\n",
              "      padding: 0 0 0 0;\n",
              "      width: 32px;\n",
              "    }\n",
              "\n",
              "    .colab-df-convert:hover {\n",
              "      background-color: #E2EBFA;\n",
              "      box-shadow: 0px 1px 2px rgba(60, 64, 67, 0.3), 0px 1px 3px 1px rgba(60, 64, 67, 0.15);\n",
              "      fill: #174EA6;\n",
              "    }\n",
              "\n",
              "    [theme=dark] .colab-df-convert {\n",
              "      background-color: #3B4455;\n",
              "      fill: #D2E3FC;\n",
              "    }\n",
              "\n",
              "    [theme=dark] .colab-df-convert:hover {\n",
              "      background-color: #434B5C;\n",
              "      box-shadow: 0px 1px 3px 1px rgba(0, 0, 0, 0.15);\n",
              "      filter: drop-shadow(0px 1px 2px rgba(0, 0, 0, 0.3));\n",
              "      fill: #FFFFFF;\n",
              "    }\n",
              "  </style>\n",
              "\n",
              "      <script>\n",
              "        const buttonEl =\n",
              "          document.querySelector('#df-b3892a29-5ca7-424c-a916-c84c1527c176 button.colab-df-convert');\n",
              "        buttonEl.style.display =\n",
              "          google.colab.kernel.accessAllowed ? 'block' : 'none';\n",
              "\n",
              "        async function convertToInteractive(key) {\n",
              "          const element = document.querySelector('#df-b3892a29-5ca7-424c-a916-c84c1527c176');\n",
              "          const dataTable =\n",
              "            await google.colab.kernel.invokeFunction('convertToInteractive',\n",
              "                                                     [key], {});\n",
              "          if (!dataTable) return;\n",
              "\n",
              "          const docLinkHtml = 'Like what you see? Visit the ' +\n",
              "            '<a target=\"_blank\" href=https://colab.research.google.com/notebooks/data_table.ipynb>data table notebook</a>'\n",
              "            + ' to learn more about interactive tables.';\n",
              "          element.innerHTML = '';\n",
              "          dataTable['output_type'] = 'display_data';\n",
              "          await google.colab.output.renderOutput(dataTable, element);\n",
              "          const docLink = document.createElement('div');\n",
              "          docLink.innerHTML = docLinkHtml;\n",
              "          element.appendChild(docLink);\n",
              "        }\n",
              "      </script>\n",
              "    </div>\n",
              "  </div>\n",
              "  "
            ]
          },
          "metadata": {},
          "execution_count": 118
        }
      ]
    },
    {
      "cell_type": "code",
      "source": [
        "df1.shape"
      ],
      "metadata": {
        "colab": {
          "base_uri": "https://localhost:8080/"
        },
        "id": "XjFeJYWHav4Y",
        "outputId": "736c4d27-5d6a-4ec7-c191-61c0f955e023"
      },
      "execution_count": 119,
      "outputs": [
        {
          "output_type": "execute_result",
          "data": {
            "text/plain": [
              "(133252, 6)"
            ]
          },
          "metadata": {},
          "execution_count": 119
        }
      ]
    },
    {
      "cell_type": "code",
      "source": [
        "df1.rename(columns={'Marital status': 'Marital_status', 'Age at update':'Age_at_update','Ruca category':'Ruca_category'},inplace = True)\n",
        "df1.head()"
      ],
      "metadata": {
        "colab": {
          "base_uri": "https://localhost:8080/",
          "height": 206
        },
        "id": "i0BJ5dq7xGx_",
        "outputId": "32279465-eef1-4753-baf7-301bf1fada6b"
      },
      "execution_count": 120,
      "outputs": [
        {
          "output_type": "execute_result",
          "data": {
            "text/plain": [
              "   Internalpatientid  Age_at_update Marital_status Ruca_category        Date  \\\n",
              "0             100028      78.990830        Married         Urban  2020-08-24   \n",
              "1             100032      91.357622        Married         Rural  2008-02-07   \n",
              "2             100046      72.961415        Married         Urban  2003-09-14   \n",
              "3             100071      75.221222        Widowed         Urban  2019-04-25   \n",
              "4             100091      80.955929  Never married         Urban  2022-02-09   \n",
              "\n",
              "         Time  \n",
              "0  03:33:32.0  \n",
              "1  05:03:27.0  \n",
              "2  09:32:12.0  \n",
              "3  08:33:42.0  \n",
              "4  09:24:20.0  "
            ],
            "text/html": [
              "\n",
              "  <div id=\"df-94dc5a04-365c-4242-93a8-c810ca7ee639\">\n",
              "    <div class=\"colab-df-container\">\n",
              "      <div>\n",
              "<style scoped>\n",
              "    .dataframe tbody tr th:only-of-type {\n",
              "        vertical-align: middle;\n",
              "    }\n",
              "\n",
              "    .dataframe tbody tr th {\n",
              "        vertical-align: top;\n",
              "    }\n",
              "\n",
              "    .dataframe thead th {\n",
              "        text-align: right;\n",
              "    }\n",
              "</style>\n",
              "<table border=\"1\" class=\"dataframe\">\n",
              "  <thead>\n",
              "    <tr style=\"text-align: right;\">\n",
              "      <th></th>\n",
              "      <th>Internalpatientid</th>\n",
              "      <th>Age_at_update</th>\n",
              "      <th>Marital_status</th>\n",
              "      <th>Ruca_category</th>\n",
              "      <th>Date</th>\n",
              "      <th>Time</th>\n",
              "    </tr>\n",
              "  </thead>\n",
              "  <tbody>\n",
              "    <tr>\n",
              "      <th>0</th>\n",
              "      <td>100028</td>\n",
              "      <td>78.990830</td>\n",
              "      <td>Married</td>\n",
              "      <td>Urban</td>\n",
              "      <td>2020-08-24</td>\n",
              "      <td>03:33:32.0</td>\n",
              "    </tr>\n",
              "    <tr>\n",
              "      <th>1</th>\n",
              "      <td>100032</td>\n",
              "      <td>91.357622</td>\n",
              "      <td>Married</td>\n",
              "      <td>Rural</td>\n",
              "      <td>2008-02-07</td>\n",
              "      <td>05:03:27.0</td>\n",
              "    </tr>\n",
              "    <tr>\n",
              "      <th>2</th>\n",
              "      <td>100046</td>\n",
              "      <td>72.961415</td>\n",
              "      <td>Married</td>\n",
              "      <td>Urban</td>\n",
              "      <td>2003-09-14</td>\n",
              "      <td>09:32:12.0</td>\n",
              "    </tr>\n",
              "    <tr>\n",
              "      <th>3</th>\n",
              "      <td>100071</td>\n",
              "      <td>75.221222</td>\n",
              "      <td>Widowed</td>\n",
              "      <td>Urban</td>\n",
              "      <td>2019-04-25</td>\n",
              "      <td>08:33:42.0</td>\n",
              "    </tr>\n",
              "    <tr>\n",
              "      <th>4</th>\n",
              "      <td>100091</td>\n",
              "      <td>80.955929</td>\n",
              "      <td>Never married</td>\n",
              "      <td>Urban</td>\n",
              "      <td>2022-02-09</td>\n",
              "      <td>09:24:20.0</td>\n",
              "    </tr>\n",
              "  </tbody>\n",
              "</table>\n",
              "</div>\n",
              "      <button class=\"colab-df-convert\" onclick=\"convertToInteractive('df-94dc5a04-365c-4242-93a8-c810ca7ee639')\"\n",
              "              title=\"Convert this dataframe to an interactive table.\"\n",
              "              style=\"display:none;\">\n",
              "        \n",
              "  <svg xmlns=\"http://www.w3.org/2000/svg\" height=\"24px\"viewBox=\"0 0 24 24\"\n",
              "       width=\"24px\">\n",
              "    <path d=\"M0 0h24v24H0V0z\" fill=\"none\"/>\n",
              "    <path d=\"M18.56 5.44l.94 2.06.94-2.06 2.06-.94-2.06-.94-.94-2.06-.94 2.06-2.06.94zm-11 1L8.5 8.5l.94-2.06 2.06-.94-2.06-.94L8.5 2.5l-.94 2.06-2.06.94zm10 10l.94 2.06.94-2.06 2.06-.94-2.06-.94-.94-2.06-.94 2.06-2.06.94z\"/><path d=\"M17.41 7.96l-1.37-1.37c-.4-.4-.92-.59-1.43-.59-.52 0-1.04.2-1.43.59L10.3 9.45l-7.72 7.72c-.78.78-.78 2.05 0 2.83L4 21.41c.39.39.9.59 1.41.59.51 0 1.02-.2 1.41-.59l7.78-7.78 2.81-2.81c.8-.78.8-2.07 0-2.86zM5.41 20L4 18.59l7.72-7.72 1.47 1.35L5.41 20z\"/>\n",
              "  </svg>\n",
              "      </button>\n",
              "      \n",
              "  <style>\n",
              "    .colab-df-container {\n",
              "      display:flex;\n",
              "      flex-wrap:wrap;\n",
              "      gap: 12px;\n",
              "    }\n",
              "\n",
              "    .colab-df-convert {\n",
              "      background-color: #E8F0FE;\n",
              "      border: none;\n",
              "      border-radius: 50%;\n",
              "      cursor: pointer;\n",
              "      display: none;\n",
              "      fill: #1967D2;\n",
              "      height: 32px;\n",
              "      padding: 0 0 0 0;\n",
              "      width: 32px;\n",
              "    }\n",
              "\n",
              "    .colab-df-convert:hover {\n",
              "      background-color: #E2EBFA;\n",
              "      box-shadow: 0px 1px 2px rgba(60, 64, 67, 0.3), 0px 1px 3px 1px rgba(60, 64, 67, 0.15);\n",
              "      fill: #174EA6;\n",
              "    }\n",
              "\n",
              "    [theme=dark] .colab-df-convert {\n",
              "      background-color: #3B4455;\n",
              "      fill: #D2E3FC;\n",
              "    }\n",
              "\n",
              "    [theme=dark] .colab-df-convert:hover {\n",
              "      background-color: #434B5C;\n",
              "      box-shadow: 0px 1px 3px 1px rgba(0, 0, 0, 0.15);\n",
              "      filter: drop-shadow(0px 1px 2px rgba(0, 0, 0, 0.3));\n",
              "      fill: #FFFFFF;\n",
              "    }\n",
              "  </style>\n",
              "\n",
              "      <script>\n",
              "        const buttonEl =\n",
              "          document.querySelector('#df-94dc5a04-365c-4242-93a8-c810ca7ee639 button.colab-df-convert');\n",
              "        buttonEl.style.display =\n",
              "          google.colab.kernel.accessAllowed ? 'block' : 'none';\n",
              "\n",
              "        async function convertToInteractive(key) {\n",
              "          const element = document.querySelector('#df-94dc5a04-365c-4242-93a8-c810ca7ee639');\n",
              "          const dataTable =\n",
              "            await google.colab.kernel.invokeFunction('convertToInteractive',\n",
              "                                                     [key], {});\n",
              "          if (!dataTable) return;\n",
              "\n",
              "          const docLinkHtml = 'Like what you see? Visit the ' +\n",
              "            '<a target=\"_blank\" href=https://colab.research.google.com/notebooks/data_table.ipynb>data table notebook</a>'\n",
              "            + ' to learn more about interactive tables.';\n",
              "          element.innerHTML = '';\n",
              "          dataTable['output_type'] = 'display_data';\n",
              "          await google.colab.output.renderOutput(dataTable, element);\n",
              "          const docLink = document.createElement('div');\n",
              "          docLink.innerHTML = docLinkHtml;\n",
              "          element.appendChild(docLink);\n",
              "        }\n",
              "      </script>\n",
              "    </div>\n",
              "  </div>\n",
              "  "
            ]
          },
          "metadata": {},
          "execution_count": 120
        }
      ]
    },
    {
      "cell_type": "code",
      "source": [
        "df1.Marital_status.unique()"
      ],
      "metadata": {
        "colab": {
          "base_uri": "https://localhost:8080/"
        },
        "id": "gfmvbM5mx3eN",
        "outputId": "f44fb0f0-cf82-4300-8037-565a7ee245c7"
      },
      "execution_count": 121,
      "outputs": [
        {
          "output_type": "execute_result",
          "data": {
            "text/plain": [
              "array(['Married', 'Widowed', 'Never married', 'Divorced',\n",
              "       'Not specified (no value)', 'Separated', 'Unknown', 'Single'],\n",
              "      dtype=object)"
            ]
          },
          "metadata": {},
          "execution_count": 121
        }
      ]
    },
    {
      "cell_type": "code",
      "source": [
        "df1.Marital_status.value_counts()"
      ],
      "metadata": {
        "colab": {
          "base_uri": "https://localhost:8080/"
        },
        "id": "onpfxfNQ9OI-",
        "outputId": "9b2c5c69-ef24-444a-aecf-f97843eda57d"
      },
      "execution_count": 167,
      "outputs": [
        {
          "output_type": "execute_result",
          "data": {
            "text/plain": [
              "Married                     73020\n",
              "Divorced                    26856\n",
              "Widowed                     19378\n",
              "Never married                9352\n",
              "Separated                    3708\n",
              "Unknown                       534\n",
              "Not specified (no value)      286\n",
              "Single                        118\n",
              "Name: Marital_status, dtype: int64"
            ]
          },
          "metadata": {},
          "execution_count": 167
        }
      ]
    },
    {
      "cell_type": "code",
      "source": [
        "df1.Ruca_category.value_counts()"
      ],
      "metadata": {
        "colab": {
          "base_uri": "https://localhost:8080/"
        },
        "id": "NcnS27bd9a3x",
        "outputId": "8ae173b1-b663-4400-e89f-34e214f97223"
      },
      "execution_count": 168,
      "outputs": [
        {
          "output_type": "execute_result",
          "data": {
            "text/plain": [
              "Urban            84092\n",
              "Rural            46614\n",
              "Highly rural      2034\n",
              "Not specified      512\n",
              "Name: Ruca_category, dtype: int64"
            ]
          },
          "metadata": {},
          "execution_count": 168
        }
      ]
    },
    {
      "cell_type": "code",
      "source": [
        "# Create the countplot\n",
        "sns.countplot(x=\"Marital_status\", data=df1)\n",
        "\n",
        "# Add labels and title\n",
        "plt.xlabel(\"MARITAL STATUS\")\n",
        "plt.ylabel(\"COUNT\")\n",
        "plt.title(\"Countplot of Marital Status \")\n",
        "# Adjust the width between variables\n",
        "\n",
        "\n",
        "# Show the plot\n",
        "plt.show()"
      ],
      "metadata": {
        "colab": {
          "base_uri": "https://localhost:8080/",
          "height": 472
        },
        "id": "OkwEVlusxlzE",
        "outputId": "508fa0ff-7fdd-444a-de2a-1a2461c12bb1"
      },
      "execution_count": 122,
      "outputs": [
        {
          "output_type": "display_data",
          "data": {
            "text/plain": [
              "<Figure size 640x480 with 1 Axes>"
            ],
            "image/png": "[encoded data removed]"
          },
          "metadata": {}
        }
      ]
    },
    {
      "cell_type": "code",
      "source": [
        "df1.Ruca_category.unique()"
      ],
      "metadata": {
        "colab": {
          "base_uri": "https://localhost:8080/"
        },
        "id": "9k-6OeZyyyKx",
        "outputId": "2f9a6458-c491-4966-ba30-89e258546e1f"
      },
      "execution_count": 123,
      "outputs": [
        {
          "output_type": "execute_result",
          "data": {
            "text/plain": [
              "array(['Urban', 'Rural', 'Highly rural', 'Not specified'], dtype=object)"
            ]
          },
          "metadata": {},
          "execution_count": 123
        }
      ]
    },
    {
      "cell_type": "code",
      "source": [
        "# Create the countplot\n",
        "sns.countplot(x=\"Ruca_category\", data=df1)\n",
        "\n",
        "# Add labels and title\n",
        "plt.xlabel(\"Ruca_categories\t\")\n",
        "plt.ylabel(\"Count\")\n",
        "plt.title(\"Countplot of RUca category\")\n",
        "\n",
        "# Show the plot\n",
        "plt.show()"
      ],
      "metadata": {
        "colab": {
          "base_uri": "https://localhost:8080/",
          "height": 508
        },
        "id": "YPXTCRrixBKB",
        "outputId": "bae22079-6e24-4dae-8394-aa7cc569a0f7"
      },
      "execution_count": 124,
      "outputs": [
        {
          "output_type": "stream",
          "name": "stderr",
          "text": [
            "/usr/local/lib/python3.10/dist-packages/IPython/core/pylabtools.py:151: UserWarning: Glyph 9 (\t) missing from current font.\n",
            "  fig.canvas.print_figure(bytes_io, **kw)\n"
          ]
        },
        {
          "output_type": "display_data",
          "data": {
            "text/plain": [
              "<Figure size 640x480 with 1 Axes>"
            ],
            "image/png": "[encoded data removed]"
          },
          "metadata": {}
        }
      ]
    },
    {
      "cell_type": "code",
      "source": [
        "sns.boxplot(x='Ruca_category', y='Age_at_update', data=df1)\n",
        "plt.show()"
      ],
      "metadata": {
        "colab": {
          "base_uri": "https://localhost:8080/",
          "height": 449
        },
        "id": "9t1lSOZJy7N-",
        "outputId": "627dee36-5087-4cdb-910f-9a46cd221ec8"
      },
      "execution_count": 125,
      "outputs": [
        {
          "output_type": "display_data",
          "data": {
            "text/plain": [
              "<Figure size 640x480 with 1 Axes>"
            ],
            "image/png": "[encoded data removed]"
          },
          "metadata": {}
        }
      ]
    },
    {
      "cell_type": "code",
      "source": [
        "sns.boxplot(x='Marital_status', y='Age_at_update', data=df1)\n",
        "plt.show()"
      ],
      "metadata": {
        "colab": {
          "base_uri": "https://localhost:8080/",
          "height": 450
        },
        "id": "AOHn73QD07SF",
        "outputId": "70b82a9a-7f35-4755-90fa-6f24efb2ba61"
      },
      "execution_count": 126,
      "outputs": [
        {
          "output_type": "display_data",
          "data": {
            "text/plain": [
              "<Figure size 640x480 with 1 Axes>"
            ],
            "image/png": "[encoded data removed]"
          },
          "metadata": {}
        }
      ]
    },
    {
      "cell_type": "code",
      "source": [
        "df2.head()"
      ],
      "metadata": {
        "colab": {
          "base_uri": "https://localhost:8080/",
          "height": 206
        },
        "id": "VfnlNaAGX4M_",
        "outputId": "ac001dcd-83f8-4dc8-bcf0-76c80c0886bf"
      },
      "execution_count": 127,
      "outputs": [
        {
          "output_type": "execute_result",
          "data": {
            "text/plain": [
              "   Internalpatientid               Ethnicity  Gender  \\\n",
              "0             168674      Hispanic or Latino    Male   \n",
              "1             168681  Not Hispanic or Latino    Male   \n",
              "2             168696  Not Hispanic or Latino  Female   \n",
              "3             168711  Not Hispanic or Latino    Male   \n",
              "4             168720  Not Hispanic or Latino    Male   \n",
              "\n",
              "                      Races Veteran flag  \n",
              "0                     White          Yes  \n",
              "1                     White          Yes  \n",
              "2  Not specified (no value)          Yes  \n",
              "3                     Other          Yes  \n",
              "4                     White          Yes  "
            ],
            "text/html": [
              "\n",
              "  <div id=\"df-c22b470a-beb3-4617-81d6-d9dcb3bb6745\">\n",
              "    <div class=\"colab-df-container\">\n",
              "      <div>\n",
              "<style scoped>\n",
              "    .dataframe tbody tr th:only-of-type {\n",
              "        vertical-align: middle;\n",
              "    }\n",
              "\n",
              "    .dataframe tbody tr th {\n",
              "        vertical-align: top;\n",
              "    }\n",
              "\n",
              "    .dataframe thead th {\n",
              "        text-align: right;\n",
              "    }\n",
              "</style>\n",
              "<table border=\"1\" class=\"dataframe\">\n",
              "  <thead>\n",
              "    <tr style=\"text-align: right;\">\n",
              "      <th></th>\n",
              "      <th>Internalpatientid</th>\n",
              "      <th>Ethnicity</th>\n",
              "      <th>Gender</th>\n",
              "      <th>Races</th>\n",
              "      <th>Veteran flag</th>\n",
              "    </tr>\n",
              "  </thead>\n",
              "  <tbody>\n",
              "    <tr>\n",
              "      <th>0</th>\n",
              "      <td>168674</td>\n",
              "      <td>Hispanic or Latino</td>\n",
              "      <td>Male</td>\n",
              "      <td>White</td>\n",
              "      <td>Yes</td>\n",
              "    </tr>\n",
              "    <tr>\n",
              "      <th>1</th>\n",
              "      <td>168681</td>\n",
              "      <td>Not Hispanic or Latino</td>\n",
              "      <td>Male</td>\n",
              "      <td>White</td>\n",
              "      <td>Yes</td>\n",
              "    </tr>\n",
              "    <tr>\n",
              "      <th>2</th>\n",
              "      <td>168696</td>\n",
              "      <td>Not Hispanic or Latino</td>\n",
              "      <td>Female</td>\n",
              "      <td>Not specified (no value)</td>\n",
              "      <td>Yes</td>\n",
              "    </tr>\n",
              "    <tr>\n",
              "      <th>3</th>\n",
              "      <td>168711</td>\n",
              "      <td>Not Hispanic or Latino</td>\n",
              "      <td>Male</td>\n",
              "      <td>Other</td>\n",
              "      <td>Yes</td>\n",
              "    </tr>\n",
              "    <tr>\n",
              "      <th>4</th>\n",
              "      <td>168720</td>\n",
              "      <td>Not Hispanic or Latino</td>\n",
              "      <td>Male</td>\n",
              "      <td>White</td>\n",
              "      <td>Yes</td>\n",
              "    </tr>\n",
              "  </tbody>\n",
              "</table>\n",
              "</div>\n",
              "      <button class=\"colab-df-convert\" onclick=\"convertToInteractive('df-c22b470a-beb3-4617-81d6-d9dcb3bb6745')\"\n",
              "              title=\"Convert this dataframe to an interactive table.\"\n",
              "              style=\"display:none;\">\n",
              "        \n",
              "  <svg xmlns=\"http://www.w3.org/2000/svg\" height=\"24px\"viewBox=\"0 0 24 24\"\n",
              "       width=\"24px\">\n",
              "    <path d=\"M0 0h24v24H0V0z\" fill=\"none\"/>\n",
              "    <path d=\"M18.56 5.44l.94 2.06.94-2.06 2.06-.94-2.06-.94-.94-2.06-.94 2.06-2.06.94zm-11 1L8.5 8.5l.94-2.06 2.06-.94-2.06-.94L8.5 2.5l-.94 2.06-2.06.94zm10 10l.94 2.06.94-2.06 2.06-.94-2.06-.94-.94-2.06-.94 2.06-2.06.94z\"/><path d=\"M17.41 7.96l-1.37-1.37c-.4-.4-.92-.59-1.43-.59-.52 0-1.04.2-1.43.59L10.3 9.45l-7.72 7.72c-.78.78-.78 2.05 0 2.83L4 21.41c.39.39.9.59 1.41.59.51 0 1.02-.2 1.41-.59l7.78-7.78 2.81-2.81c.8-.78.8-2.07 0-2.86zM5.41 20L4 18.59l7.72-7.72 1.47 1.35L5.41 20z\"/>\n",
              "  </svg>\n",
              "      </button>\n",
              "      \n",
              "  <style>\n",
              "    .colab-df-container {\n",
              "      display:flex;\n",
              "      flex-wrap:wrap;\n",
              "      gap: 12px;\n",
              "    }\n",
              "\n",
              "    .colab-df-convert {\n",
              "      background-color: #E8F0FE;\n",
              "      border: none;\n",
              "      border-radius: 50%;\n",
              "      cursor: pointer;\n",
              "      display: none;\n",
              "      fill: #1967D2;\n",
              "      height: 32px;\n",
              "      padding: 0 0 0 0;\n",
              "      width: 32px;\n",
              "    }\n",
              "\n",
              "    .colab-df-convert:hover {\n",
              "      background-color: #E2EBFA;\n",
              "      box-shadow: 0px 1px 2px rgba(60, 64, 67, 0.3), 0px 1px 3px 1px rgba(60, 64, 67, 0.15);\n",
              "      fill: #174EA6;\n",
              "    }\n",
              "\n",
              "    [theme=dark] .colab-df-convert {\n",
              "      background-color: #3B4455;\n",
              "      fill: #D2E3FC;\n",
              "    }\n",
              "\n",
              "    [theme=dark] .colab-df-convert:hover {\n",
              "      background-color: #434B5C;\n",
              "      box-shadow: 0px 1px 3px 1px rgba(0, 0, 0, 0.15);\n",
              "      filter: drop-shadow(0px 1px 2px rgba(0, 0, 0, 0.3));\n",
              "      fill: #FFFFFF;\n",
              "    }\n",
              "  </style>\n",
              "\n",
              "      <script>\n",
              "        const buttonEl =\n",
              "          document.querySelector('#df-c22b470a-beb3-4617-81d6-d9dcb3bb6745 button.colab-df-convert');\n",
              "        buttonEl.style.display =\n",
              "          google.colab.kernel.accessAllowed ? 'block' : 'none';\n",
              "\n",
              "        async function convertToInteractive(key) {\n",
              "          const element = document.querySelector('#df-c22b470a-beb3-4617-81d6-d9dcb3bb6745');\n",
              "          const dataTable =\n",
              "            await google.colab.kernel.invokeFunction('convertToInteractive',\n",
              "                                                     [key], {});\n",
              "          if (!dataTable) return;\n",
              "\n",
              "          const docLinkHtml = 'Like what you see? Visit the ' +\n",
              "            '<a target=\"_blank\" href=https://colab.research.google.com/notebooks/data_table.ipynb>data table notebook</a>'\n",
              "            + ' to learn more about interactive tables.';\n",
              "          element.innerHTML = '';\n",
              "          dataTable['output_type'] = 'display_data';\n",
              "          await google.colab.output.renderOutput(dataTable, element);\n",
              "          const docLink = document.createElement('div');\n",
              "          docLink.innerHTML = docLinkHtml;\n",
              "          element.appendChild(docLink);\n",
              "        }\n",
              "      </script>\n",
              "    </div>\n",
              "  </div>\n",
              "  "
            ]
          },
          "metadata": {},
          "execution_count": 127
        }
      ]
    },
    {
      "cell_type": "code",
      "source": [
        "df2.shape"
      ],
      "metadata": {
        "colab": {
          "base_uri": "https://localhost:8080/"
        },
        "id": "y0qE595osyFr",
        "outputId": "0deb8e29-747c-4de1-efb4-4f8cfa4dedb5"
      },
      "execution_count": 128,
      "outputs": [
        {
          "output_type": "execute_result",
          "data": {
            "text/plain": [
              "(133252, 5)"
            ]
          },
          "metadata": {},
          "execution_count": 128
        }
      ]
    },
    {
      "cell_type": "code",
      "source": [
        "# rename two of the columns by using the 'rename' method\n",
        "df2.rename(columns={'Veteran flag':'Veteran_flag'}, inplace=True)\n",
        "df2.columns"
      ],
      "metadata": {
        "colab": {
          "base_uri": "https://localhost:8080/"
        },
        "id": "8giEnp6-tbg5",
        "outputId": "b0f31790-3ab2-4554-f3c6-dd14b781b446"
      },
      "execution_count": 129,
      "outputs": [
        {
          "output_type": "execute_result",
          "data": {
            "text/plain": [
              "Index(['Internalpatientid', 'Ethnicity', 'Gender', 'Races', 'Veteran_flag'], dtype='object')"
            ]
          },
          "metadata": {},
          "execution_count": 129
        }
      ]
    },
    {
      "cell_type": "code",
      "source": [
        "df2.Veteran_flag.value_counts()"
      ],
      "metadata": {
        "colab": {
          "base_uri": "https://localhost:8080/"
        },
        "id": "9gh7r2l19o8s",
        "outputId": "1ff61711-4d31-41a5-b856-401bb1c8365a"
      },
      "execution_count": 169,
      "outputs": [
        {
          "output_type": "execute_result",
          "data": {
            "text/plain": [
              "Yes    133093\n",
              "No        159\n",
              "Name: Veteran_flag, dtype: int64"
            ]
          },
          "metadata": {},
          "execution_count": 169
        }
      ]
    },
    {
      "cell_type": "code",
      "source": [
        "df2.Races.value_counts()"
      ],
      "metadata": {
        "colab": {
          "base_uri": "https://localhost:8080/"
        },
        "id": "R2Y4zm609zm-",
        "outputId": "5b539342-da0c-4e46-d562-8dd35a82ff31"
      },
      "execution_count": 170,
      "outputs": [
        {
          "output_type": "execute_result",
          "data": {
            "text/plain": [
              "White                                        85159\n",
              "Not specified (no value)                     22501\n",
              "Black or African American                    16699\n",
              "Other                                         6513\n",
              "White ; Other                                 1431\n",
              "Asian                                          431\n",
              "Black or African American ; Other              267\n",
              "Black or African American ; White              198\n",
              "Asian ; Other                                   17\n",
              "White ; Asian                                   16\n",
              "Black or African American ; White ; Other       11\n",
              "White ; Asian ; Other                            5\n",
              "Black or African American ; Asian                2\n",
              "(Censored)                                       1\n",
              "Black or African American ; White ; Asian        1\n",
              "Name: Races, dtype: int64"
            ]
          },
          "metadata": {},
          "execution_count": 170
        }
      ]
    },
    {
      "cell_type": "code",
      "source": [
        "# Create the countplot\n",
        "sns.countplot(x=\"Gender\", data=df2)\n",
        "\n",
        "# Add labels and title\n",
        "plt.xlabel(\"Gender\")\n",
        "plt.ylabel(\"Count\")\n",
        "plt.title(\"Male & Female countplot\")\n",
        "\n",
        "# Show the plot\n",
        "plt.show()"
      ],
      "metadata": {
        "colab": {
          "base_uri": "https://localhost:8080/",
          "height": 472
        },
        "id": "kM-7j0ECs7-r",
        "outputId": "5b0b9741-1a0d-4539-8d6c-60615349985d"
      },
      "execution_count": 130,
      "outputs": [
        {
          "output_type": "display_data",
          "data": {
            "text/plain": [
              "<Figure size 640x480 with 1 Axes>"
            ],
            "image/png": "[encoded data removed]"
          },
          "metadata": {}
        }
      ]
    },
    {
      "cell_type": "code",
      "source": [
        "df2.Races.unique()"
      ],
      "metadata": {
        "colab": {
          "base_uri": "https://localhost:8080/"
        },
        "id": "BFUryBimwkMx",
        "outputId": "ebc94fb5-b289-49ed-c8ed-f9125a8483a8"
      },
      "execution_count": 131,
      "outputs": [
        {
          "output_type": "execute_result",
          "data": {
            "text/plain": [
              "array(['White', 'Not specified (no value)', 'Other',\n",
              "       'Black or African American', 'Asian', 'White ; Other',\n",
              "       'Black or African American ; White',\n",
              "       'Black or African American ; Other', 'Asian ; Other',\n",
              "       'Black or African American ; White ; Other', 'White ; Asian',\n",
              "       'White ; Asian ; Other', 'Black or African American ; Asian',\n",
              "       '(Censored)', 'Black or African American ; White ; Asian'],\n",
              "      dtype=object)"
            ]
          },
          "metadata": {},
          "execution_count": 131
        }
      ]
    },
    {
      "cell_type": "code",
      "source": [
        "df2.Races.nunique()"
      ],
      "metadata": {
        "colab": {
          "base_uri": "https://localhost:8080/"
        },
        "id": "3siQu9zbw5NV",
        "outputId": "f2bb12b3-0fc4-4d9c-e682-12edaede2390"
      },
      "execution_count": 132,
      "outputs": [
        {
          "output_type": "execute_result",
          "data": {
            "text/plain": [
              "15"
            ]
          },
          "metadata": {},
          "execution_count": 132
        }
      ]
    },
    {
      "cell_type": "code",
      "source": [
        "# Create the countplot\n",
        "sns.countplot(x=\"Veteran_flag\", data=df2)\n",
        "\n",
        "# Add labels and title\n",
        "plt.xlabel(\"Veteran_flag\")\n",
        "plt.ylabel(\"Count\")\n",
        "plt.title(\"Number of Veterans\")\n",
        "\n",
        "# Show the plot\n",
        "plt.show()"
      ],
      "metadata": {
        "colab": {
          "base_uri": "https://localhost:8080/",
          "height": 472
        },
        "id": "0m_dTKhRwJWk",
        "outputId": "1d281ebf-b90a-439d-d257-91120553ab56"
      },
      "execution_count": 133,
      "outputs": [
        {
          "output_type": "display_data",
          "data": {
            "text/plain": [
              "<Figure size 640x480 with 1 Axes>"
            ],
            "image/png": "[encoded data removed]"
          },
          "metadata": {}
        }
      ]
    },
    {
      "cell_type": "code",
      "source": [
        "df3.head()"
      ],
      "metadata": {
        "colab": {
          "base_uri": "https://localhost:8080/",
          "height": 206
        },
        "id": "UTfWGbQrX8iE",
        "outputId": "3965e4a6-2993-492e-9598-498fad88979b"
      },
      "execution_count": 134,
      "outputs": [
        {
          "output_type": "execute_result",
          "data": {
            "text/plain": [
              "   Internalpatientid  Age at death             Death date\n",
              "0             100036     72.412770  2015-01-18 20:49:10.0\n",
              "1             100037     75.241135  2008-10-16 15:14:26.0\n",
              "2             100045     85.399403  2019-01-26 11:33:52.0\n",
              "3             100095     84.136551  2004-08-10 21:49:35.0\n",
              "4              10013     68.372126  2007-06-11 00:17:06.0"
            ],
            "text/html": [
              "\n",
              "  <div id=\"df-96804d12-16a4-411c-962c-2de718b5ddf1\">\n",
              "    <div class=\"colab-df-container\">\n",
              "      <div>\n",
              "<style scoped>\n",
              "    .dataframe tbody tr th:only-of-type {\n",
              "        vertical-align: middle;\n",
              "    }\n",
              "\n",
              "    .dataframe tbody tr th {\n",
              "        vertical-align: top;\n",
              "    }\n",
              "\n",
              "    .dataframe thead th {\n",
              "        text-align: right;\n",
              "    }\n",
              "</style>\n",
              "<table border=\"1\" class=\"dataframe\">\n",
              "  <thead>\n",
              "    <tr style=\"text-align: right;\">\n",
              "      <th></th>\n",
              "      <th>Internalpatientid</th>\n",
              "      <th>Age at death</th>\n",
              "      <th>Death date</th>\n",
              "    </tr>\n",
              "  </thead>\n",
              "  <tbody>\n",
              "    <tr>\n",
              "      <th>0</th>\n",
              "      <td>100036</td>\n",
              "      <td>72.412770</td>\n",
              "      <td>2015-01-18 20:49:10.0</td>\n",
              "    </tr>\n",
              "    <tr>\n",
              "      <th>1</th>\n",
              "      <td>100037</td>\n",
              "      <td>75.241135</td>\n",
              "      <td>2008-10-16 15:14:26.0</td>\n",
              "    </tr>\n",
              "    <tr>\n",
              "      <th>2</th>\n",
              "      <td>100045</td>\n",
              "      <td>85.399403</td>\n",
              "      <td>2019-01-26 11:33:52.0</td>\n",
              "    </tr>\n",
              "    <tr>\n",
              "      <th>3</th>\n",
              "      <td>100095</td>\n",
              "      <td>84.136551</td>\n",
              "      <td>2004-08-10 21:49:35.0</td>\n",
              "    </tr>\n",
              "    <tr>\n",
              "      <th>4</th>\n",
              "      <td>10013</td>\n",
              "      <td>68.372126</td>\n",
              "      <td>2007-06-11 00:17:06.0</td>\n",
              "    </tr>\n",
              "  </tbody>\n",
              "</table>\n",
              "</div>\n",
              "      <button class=\"colab-df-convert\" onclick=\"convertToInteractive('df-96804d12-16a4-411c-962c-2de718b5ddf1')\"\n",
              "              title=\"Convert this dataframe to an interactive table.\"\n",
              "              style=\"display:none;\">\n",
              "        \n",
              "  <svg xmlns=\"http://www.w3.org/2000/svg\" height=\"24px\"viewBox=\"0 0 24 24\"\n",
              "       width=\"24px\">\n",
              "    <path d=\"M0 0h24v24H0V0z\" fill=\"none\"/>\n",
              "    <path d=\"M18.56 5.44l.94 2.06.94-2.06 2.06-.94-2.06-.94-.94-2.06-.94 2.06-2.06.94zm-11 1L8.5 8.5l.94-2.06 2.06-.94-2.06-.94L8.5 2.5l-.94 2.06-2.06.94zm10 10l.94 2.06.94-2.06 2.06-.94-2.06-.94-.94-2.06-.94 2.06-2.06.94z\"/><path d=\"M17.41 7.96l-1.37-1.37c-.4-.4-.92-.59-1.43-.59-.52 0-1.04.2-1.43.59L10.3 9.45l-7.72 7.72c-.78.78-.78 2.05 0 2.83L4 21.41c.39.39.9.59 1.41.59.51 0 1.02-.2 1.41-.59l7.78-7.78 2.81-2.81c.8-.78.8-2.07 0-2.86zM5.41 20L4 18.59l7.72-7.72 1.47 1.35L5.41 20z\"/>\n",
              "  </svg>\n",
              "      </button>\n",
              "      \n",
              "  <style>\n",
              "    .colab-df-container {\n",
              "      display:flex;\n",
              "      flex-wrap:wrap;\n",
              "      gap: 12px;\n",
              "    }\n",
              "\n",
              "    .colab-df-convert {\n",
              "      background-color: #E8F0FE;\n",
              "      border: none;\n",
              "      border-radius: 50%;\n",
              "      cursor: pointer;\n",
              "      display: none;\n",
              "      fill: #1967D2;\n",
              "      height: 32px;\n",
              "      padding: 0 0 0 0;\n",
              "      width: 32px;\n",
              "    }\n",
              "\n",
              "    .colab-df-convert:hover {\n",
              "      background-color: #E2EBFA;\n",
              "      box-shadow: 0px 1px 2px rgba(60, 64, 67, 0.3), 0px 1px 3px 1px rgba(60, 64, 67, 0.15);\n",
              "      fill: #174EA6;\n",
              "    }\n",
              "\n",
              "    [theme=dark] .colab-df-convert {\n",
              "      background-color: #3B4455;\n",
              "      fill: #D2E3FC;\n",
              "    }\n",
              "\n",
              "    [theme=dark] .colab-df-convert:hover {\n",
              "      background-color: #434B5C;\n",
              "      box-shadow: 0px 1px 3px 1px rgba(0, 0, 0, 0.15);\n",
              "      filter: drop-shadow(0px 1px 2px rgba(0, 0, 0, 0.3));\n",
              "      fill: #FFFFFF;\n",
              "    }\n",
              "  </style>\n",
              "\n",
              "      <script>\n",
              "        const buttonEl =\n",
              "          document.querySelector('#df-96804d12-16a4-411c-962c-2de718b5ddf1 button.colab-df-convert');\n",
              "        buttonEl.style.display =\n",
              "          google.colab.kernel.accessAllowed ? 'block' : 'none';\n",
              "\n",
              "        async function convertToInteractive(key) {\n",
              "          const element = document.querySelector('#df-96804d12-16a4-411c-962c-2de718b5ddf1');\n",
              "          const dataTable =\n",
              "            await google.colab.kernel.invokeFunction('convertToInteractive',\n",
              "                                                     [key], {});\n",
              "          if (!dataTable) return;\n",
              "\n",
              "          const docLinkHtml = 'Like what you see? Visit the ' +\n",
              "            '<a target=\"_blank\" href=https://colab.research.google.com/notebooks/data_table.ipynb>data table notebook</a>'\n",
              "            + ' to learn more about interactive tables.';\n",
              "          element.innerHTML = '';\n",
              "          dataTable['output_type'] = 'display_data';\n",
              "          await google.colab.output.renderOutput(dataTable, element);\n",
              "          const docLink = document.createElement('div');\n",
              "          docLink.innerHTML = docLinkHtml;\n",
              "          element.appendChild(docLink);\n",
              "        }\n",
              "      </script>\n",
              "    </div>\n",
              "  </div>\n",
              "  "
            ]
          },
          "metadata": {},
          "execution_count": 134
        }
      ]
    },
    {
      "cell_type": "code",
      "source": [
        "# split the DateTime column into separate Date and Time columns\n",
        "df3[['Death_Date', 'Death_Time']] = df3['Death date'].str.split(' ', expand=True)"
      ],
      "metadata": {
        "id": "cRyFkdWm2HuT"
      },
      "execution_count": 135,
      "outputs": []
    },
    {
      "cell_type": "code",
      "source": [
        "df3.head()"
      ],
      "metadata": {
        "colab": {
          "base_uri": "https://localhost:8080/",
          "height": 206
        },
        "id": "6MvmtxWU2bX-",
        "outputId": "71f0d89c-7af5-408c-c3b1-cab67d5d489e"
      },
      "execution_count": 136,
      "outputs": [
        {
          "output_type": "execute_result",
          "data": {
            "text/plain": [
              "   Internalpatientid  Age at death             Death date  Death_Date  \\\n",
              "0             100036     72.412770  2015-01-18 20:49:10.0  2015-01-18   \n",
              "1             100037     75.241135  2008-10-16 15:14:26.0  2008-10-16   \n",
              "2             100045     85.399403  2019-01-26 11:33:52.0  2019-01-26   \n",
              "3             100095     84.136551  2004-08-10 21:49:35.0  2004-08-10   \n",
              "4              10013     68.372126  2007-06-11 00:17:06.0  2007-06-11   \n",
              "\n",
              "   Death_Time  \n",
              "0  20:49:10.0  \n",
              "1  15:14:26.0  \n",
              "2  11:33:52.0  \n",
              "3  21:49:35.0  \n",
              "4  00:17:06.0  "
            ],
            "text/html": [
              "\n",
              "  <div id=\"df-5ec75b67-b7e2-4287-8548-cf6047a961f5\">\n",
              "    <div class=\"colab-df-container\">\n",
              "      <div>\n",
              "<style scoped>\n",
              "    .dataframe tbody tr th:only-of-type {\n",
              "        vertical-align: middle;\n",
              "    }\n",
              "\n",
              "    .dataframe tbody tr th {\n",
              "        vertical-align: top;\n",
              "    }\n",
              "\n",
              "    .dataframe thead th {\n",
              "        text-align: right;\n",
              "    }\n",
              "</style>\n",
              "<table border=\"1\" class=\"dataframe\">\n",
              "  <thead>\n",
              "    <tr style=\"text-align: right;\">\n",
              "      <th></th>\n",
              "      <th>Internalpatientid</th>\n",
              "      <th>Age at death</th>\n",
              "      <th>Death date</th>\n",
              "      <th>Death_Date</th>\n",
              "      <th>Death_Time</th>\n",
              "    </tr>\n",
              "  </thead>\n",
              "  <tbody>\n",
              "    <tr>\n",
              "      <th>0</th>\n",
              "      <td>100036</td>\n",
              "      <td>72.412770</td>\n",
              "      <td>2015-01-18 20:49:10.0</td>\n",
              "      <td>2015-01-18</td>\n",
              "      <td>20:49:10.0</td>\n",
              "    </tr>\n",
              "    <tr>\n",
              "      <th>1</th>\n",
              "      <td>100037</td>\n",
              "      <td>75.241135</td>\n",
              "      <td>2008-10-16 15:14:26.0</td>\n",
              "      <td>2008-10-16</td>\n",
              "      <td>15:14:26.0</td>\n",
              "    </tr>\n",
              "    <tr>\n",
              "      <th>2</th>\n",
              "      <td>100045</td>\n",
              "      <td>85.399403</td>\n",
              "      <td>2019-01-26 11:33:52.0</td>\n",
              "      <td>2019-01-26</td>\n",
              "      <td>11:33:52.0</td>\n",
              "    </tr>\n",
              "    <tr>\n",
              "      <th>3</th>\n",
              "      <td>100095</td>\n",
              "      <td>84.136551</td>\n",
              "      <td>2004-08-10 21:49:35.0</td>\n",
              "      <td>2004-08-10</td>\n",
              "      <td>21:49:35.0</td>\n",
              "    </tr>\n",
              "    <tr>\n",
              "      <th>4</th>\n",
              "      <td>10013</td>\n",
              "      <td>68.372126</td>\n",
              "      <td>2007-06-11 00:17:06.0</td>\n",
              "      <td>2007-06-11</td>\n",
              "      <td>00:17:06.0</td>\n",
              "    </tr>\n",
              "  </tbody>\n",
              "</table>\n",
              "</div>\n",
              "      <button class=\"colab-df-convert\" onclick=\"convertToInteractive('df-5ec75b67-b7e2-4287-8548-cf6047a961f5')\"\n",
              "              title=\"Convert this dataframe to an interactive table.\"\n",
              "              style=\"display:none;\">\n",
              "        \n",
              "  <svg xmlns=\"http://www.w3.org/2000/svg\" height=\"24px\"viewBox=\"0 0 24 24\"\n",
              "       width=\"24px\">\n",
              "    <path d=\"M0 0h24v24H0V0z\" fill=\"none\"/>\n",
              "    <path d=\"M18.56 5.44l.94 2.06.94-2.06 2.06-.94-2.06-.94-.94-2.06-.94 2.06-2.06.94zm-11 1L8.5 8.5l.94-2.06 2.06-.94-2.06-.94L8.5 2.5l-.94 2.06-2.06.94zm10 10l.94 2.06.94-2.06 2.06-.94-2.06-.94-.94-2.06-.94 2.06-2.06.94z\"/><path d=\"M17.41 7.96l-1.37-1.37c-.4-.4-.92-.59-1.43-.59-.52 0-1.04.2-1.43.59L10.3 9.45l-7.72 7.72c-.78.78-.78 2.05 0 2.83L4 21.41c.39.39.9.59 1.41.59.51 0 1.02-.2 1.41-.59l7.78-7.78 2.81-2.81c.8-.78.8-2.07 0-2.86zM5.41 20L4 18.59l7.72-7.72 1.47 1.35L5.41 20z\"/>\n",
              "  </svg>\n",
              "      </button>\n",
              "      \n",
              "  <style>\n",
              "    .colab-df-container {\n",
              "      display:flex;\n",
              "      flex-wrap:wrap;\n",
              "      gap: 12px;\n",
              "    }\n",
              "\n",
              "    .colab-df-convert {\n",
              "      background-color: #E8F0FE;\n",
              "      border: none;\n",
              "      border-radius: 50%;\n",
              "      cursor: pointer;\n",
              "      display: none;\n",
              "      fill: #1967D2;\n",
              "      height: 32px;\n",
              "      padding: 0 0 0 0;\n",
              "      width: 32px;\n",
              "    }\n",
              "\n",
              "    .colab-df-convert:hover {\n",
              "      background-color: #E2EBFA;\n",
              "      box-shadow: 0px 1px 2px rgba(60, 64, 67, 0.3), 0px 1px 3px 1px rgba(60, 64, 67, 0.15);\n",
              "      fill: #174EA6;\n",
              "    }\n",
              "\n",
              "    [theme=dark] .colab-df-convert {\n",
              "      background-color: #3B4455;\n",
              "      fill: #D2E3FC;\n",
              "    }\n",
              "\n",
              "    [theme=dark] .colab-df-convert:hover {\n",
              "      background-color: #434B5C;\n",
              "      box-shadow: 0px 1px 3px 1px rgba(0, 0, 0, 0.15);\n",
              "      filter: drop-shadow(0px 1px 2px rgba(0, 0, 0, 0.3));\n",
              "      fill: #FFFFFF;\n",
              "    }\n",
              "  </style>\n",
              "\n",
              "      <script>\n",
              "        const buttonEl =\n",
              "          document.querySelector('#df-5ec75b67-b7e2-4287-8548-cf6047a961f5 button.colab-df-convert');\n",
              "        buttonEl.style.display =\n",
              "          google.colab.kernel.accessAllowed ? 'block' : 'none';\n",
              "\n",
              "        async function convertToInteractive(key) {\n",
              "          const element = document.querySelector('#df-5ec75b67-b7e2-4287-8548-cf6047a961f5');\n",
              "          const dataTable =\n",
              "            await google.colab.kernel.invokeFunction('convertToInteractive',\n",
              "                                                     [key], {});\n",
              "          if (!dataTable) return;\n",
              "\n",
              "          const docLinkHtml = 'Like what you see? Visit the ' +\n",
              "            '<a target=\"_blank\" href=https://colab.research.google.com/notebooks/data_table.ipynb>data table notebook</a>'\n",
              "            + ' to learn more about interactive tables.';\n",
              "          element.innerHTML = '';\n",
              "          dataTable['output_type'] = 'display_data';\n",
              "          await google.colab.output.renderOutput(dataTable, element);\n",
              "          const docLink = document.createElement('div');\n",
              "          docLink.innerHTML = docLinkHtml;\n",
              "          element.appendChild(docLink);\n",
              "        }\n",
              "      </script>\n",
              "    </div>\n",
              "  </div>\n",
              "  "
            ]
          },
          "metadata": {},
          "execution_count": 136
        }
      ]
    },
    {
      "cell_type": "code",
      "source": [
        "df3.drop('Death date',axis = 1,inplace = True)"
      ],
      "metadata": {
        "id": "OZ2WvzVw2edm"
      },
      "execution_count": 137,
      "outputs": []
    },
    {
      "cell_type": "code",
      "source": [
        "df3.head()"
      ],
      "metadata": {
        "colab": {
          "base_uri": "https://localhost:8080/",
          "height": 206
        },
        "id": "lU1W-5YK2_2v",
        "outputId": "c7659285-ce17-4eb0-8c2c-a05beecf1aec"
      },
      "execution_count": 138,
      "outputs": [
        {
          "output_type": "execute_result",
          "data": {
            "text/plain": [
              "   Internalpatientid  Age at death  Death_Date  Death_Time\n",
              "0             100036     72.412770  2015-01-18  20:49:10.0\n",
              "1             100037     75.241135  2008-10-16  15:14:26.0\n",
              "2             100045     85.399403  2019-01-26  11:33:52.0\n",
              "3             100095     84.136551  2004-08-10  21:49:35.0\n",
              "4              10013     68.372126  2007-06-11  00:17:06.0"
            ],
            "text/html": [
              "\n",
              "  <div id=\"df-31048612-f227-4709-be51-c63aac03baaa\">\n",
              "    <div class=\"colab-df-container\">\n",
              "      <div>\n",
              "<style scoped>\n",
              "    .dataframe tbody tr th:only-of-type {\n",
              "        vertical-align: middle;\n",
              "    }\n",
              "\n",
              "    .dataframe tbody tr th {\n",
              "        vertical-align: top;\n",
              "    }\n",
              "\n",
              "    .dataframe thead th {\n",
              "        text-align: right;\n",
              "    }\n",
              "</style>\n",
              "<table border=\"1\" class=\"dataframe\">\n",
              "  <thead>\n",
              "    <tr style=\"text-align: right;\">\n",
              "      <th></th>\n",
              "      <th>Internalpatientid</th>\n",
              "      <th>Age at death</th>\n",
              "      <th>Death_Date</th>\n",
              "      <th>Death_Time</th>\n",
              "    </tr>\n",
              "  </thead>\n",
              "  <tbody>\n",
              "    <tr>\n",
              "      <th>0</th>\n",
              "      <td>100036</td>\n",
              "      <td>72.412770</td>\n",
              "      <td>2015-01-18</td>\n",
              "      <td>20:49:10.0</td>\n",
              "    </tr>\n",
              "    <tr>\n",
              "      <th>1</th>\n",
              "      <td>100037</td>\n",
              "      <td>75.241135</td>\n",
              "      <td>2008-10-16</td>\n",
              "      <td>15:14:26.0</td>\n",
              "    </tr>\n",
              "    <tr>\n",
              "      <th>2</th>\n",
              "      <td>100045</td>\n",
              "      <td>85.399403</td>\n",
              "      <td>2019-01-26</td>\n",
              "      <td>11:33:52.0</td>\n",
              "    </tr>\n",
              "    <tr>\n",
              "      <th>3</th>\n",
              "      <td>100095</td>\n",
              "      <td>84.136551</td>\n",
              "      <td>2004-08-10</td>\n",
              "      <td>21:49:35.0</td>\n",
              "    </tr>\n",
              "    <tr>\n",
              "      <th>4</th>\n",
              "      <td>10013</td>\n",
              "      <td>68.372126</td>\n",
              "      <td>2007-06-11</td>\n",
              "      <td>00:17:06.0</td>\n",
              "    </tr>\n",
              "  </tbody>\n",
              "</table>\n",
              "</div>\n",
              "      <button class=\"colab-df-convert\" onclick=\"convertToInteractive('df-31048612-f227-4709-be51-c63aac03baaa')\"\n",
              "              title=\"Convert this dataframe to an interactive table.\"\n",
              "              style=\"display:none;\">\n",
              "        \n",
              "  <svg xmlns=\"http://www.w3.org/2000/svg\" height=\"24px\"viewBox=\"0 0 24 24\"\n",
              "       width=\"24px\">\n",
              "    <path d=\"M0 0h24v24H0V0z\" fill=\"none\"/>\n",
              "    <path d=\"M18.56 5.44l.94 2.06.94-2.06 2.06-.94-2.06-.94-.94-2.06-.94 2.06-2.06.94zm-11 1L8.5 8.5l.94-2.06 2.06-.94-2.06-.94L8.5 2.5l-.94 2.06-2.06.94zm10 10l.94 2.06.94-2.06 2.06-.94-2.06-.94-.94-2.06-.94 2.06-2.06.94z\"/><path d=\"M17.41 7.96l-1.37-1.37c-.4-.4-.92-.59-1.43-.59-.52 0-1.04.2-1.43.59L10.3 9.45l-7.72 7.72c-.78.78-.78 2.05 0 2.83L4 21.41c.39.39.9.59 1.41.59.51 0 1.02-.2 1.41-.59l7.78-7.78 2.81-2.81c.8-.78.8-2.07 0-2.86zM5.41 20L4 18.59l7.72-7.72 1.47 1.35L5.41 20z\"/>\n",
              "  </svg>\n",
              "      </button>\n",
              "      \n",
              "  <style>\n",
              "    .colab-df-container {\n",
              "      display:flex;\n",
              "      flex-wrap:wrap;\n",
              "      gap: 12px;\n",
              "    }\n",
              "\n",
              "    .colab-df-convert {\n",
              "      background-color: #E8F0FE;\n",
              "      border: none;\n",
              "      border-radius: 50%;\n",
              "      cursor: pointer;\n",
              "      display: none;\n",
              "      fill: #1967D2;\n",
              "      height: 32px;\n",
              "      padding: 0 0 0 0;\n",
              "      width: 32px;\n",
              "    }\n",
              "\n",
              "    .colab-df-convert:hover {\n",
              "      background-color: #E2EBFA;\n",
              "      box-shadow: 0px 1px 2px rgba(60, 64, 67, 0.3), 0px 1px 3px 1px rgba(60, 64, 67, 0.15);\n",
              "      fill: #174EA6;\n",
              "    }\n",
              "\n",
              "    [theme=dark] .colab-df-convert {\n",
              "      background-color: #3B4455;\n",
              "      fill: #D2E3FC;\n",
              "    }\n",
              "\n",
              "    [theme=dark] .colab-df-convert:hover {\n",
              "      background-color: #434B5C;\n",
              "      box-shadow: 0px 1px 3px 1px rgba(0, 0, 0, 0.15);\n",
              "      filter: drop-shadow(0px 1px 2px rgba(0, 0, 0, 0.3));\n",
              "      fill: #FFFFFF;\n",
              "    }\n",
              "  </style>\n",
              "\n",
              "      <script>\n",
              "        const buttonEl =\n",
              "          document.querySelector('#df-31048612-f227-4709-be51-c63aac03baaa button.colab-df-convert');\n",
              "        buttonEl.style.display =\n",
              "          google.colab.kernel.accessAllowed ? 'block' : 'none';\n",
              "\n",
              "        async function convertToInteractive(key) {\n",
              "          const element = document.querySelector('#df-31048612-f227-4709-be51-c63aac03baaa');\n",
              "          const dataTable =\n",
              "            await google.colab.kernel.invokeFunction('convertToInteractive',\n",
              "                                                     [key], {});\n",
              "          if (!dataTable) return;\n",
              "\n",
              "          const docLinkHtml = 'Like what you see? Visit the ' +\n",
              "            '<a target=\"_blank\" href=https://colab.research.google.com/notebooks/data_table.ipynb>data table notebook</a>'\n",
              "            + ' to learn more about interactive tables.';\n",
              "          element.innerHTML = '';\n",
              "          dataTable['output_type'] = 'display_data';\n",
              "          await google.colab.output.renderOutput(dataTable, element);\n",
              "          const docLink = document.createElement('div');\n",
              "          docLink.innerHTML = docLinkHtml;\n",
              "          element.appendChild(docLink);\n",
              "        }\n",
              "      </script>\n",
              "    </div>\n",
              "  </div>\n",
              "  "
            ]
          },
          "metadata": {},
          "execution_count": 138
        }
      ]
    },
    {
      "cell_type": "code",
      "source": [
        "df4 = pd.read_csv('/content/ed_visits_train.csv')"
      ],
      "metadata": {
        "id": "KZ_SFvLbYdDF"
      },
      "execution_count": 139,
      "outputs": []
    },
    {
      "cell_type": "code",
      "source": [
        "df4.head()"
      ],
      "metadata": {
        "colab": {
          "base_uri": "https://localhost:8080/",
          "height": 354
        },
        "id": "C8WP7qU2gecG",
        "outputId": "ee5cfa93-59f6-47a5-c9d3-3c4487ec55d6"
      },
      "execution_count": 140,
      "outputs": [
        {
          "output_type": "execute_result",
          "data": {
            "text/plain": [
              "   Unnamed: 0  Internalpatientid  Age at ed visit    Ed visit start date  \\\n",
              "0           0             101689        64.361251  2021-08-26 00:53:30.0   \n",
              "1           3             107210        71.317300  2022-05-18 11:21:28.0   \n",
              "2           4             107866        61.164579  2017-06-26 15:41:11.0   \n",
              "3           5             107906        66.101996  2017-02-17 06:42:34.0   \n",
              "4           6             108522        73.598130  2018-09-30 02:47:49.0   \n",
              "\n",
              "       Discharge date ed Died during ed visit  \\\n",
              "0  2021-08-26 04:24:27.0                   No   \n",
              "1  2022-05-18 18:30:21.0                   No   \n",
              "2  2017-06-26 23:33:50.0                   No   \n",
              "3  2017-02-17 08:08:28.0                   No   \n",
              "4  2018-09-30 04:28:57.0                   No   \n",
              "\n",
              "            First listed diagnosis icd10 subcategory  \\\n",
              "0                Systolic (congestive) heart failure   \n",
              "1                       Sepsis, unspecified organism   \n",
              "2   Other nonspecific abnormal finding of lung field   \n",
              "3                                            Dysuria   \n",
              "4  Type 2 diabetes mellitus with circulatory comp...   \n",
              "\n",
              "           Second listed diagnosis icd10 subcategory          State  \n",
              "0                Chronic kidney disease, unspecified       Virginia  \n",
              "1                           Hypotension, unspecified  West Virginia  \n",
              "2                           Hypotension, unspecified   Pennsylvania  \n",
              "3                Chronic kidney disease, unspecified       New York  \n",
              "4  Type 2 diabetes mellitus with unspecified comp...       Illinois  "
            ],
            "text/html": [
              "\n",
              "  <div id=\"df-641163c6-ee04-4b19-9584-c223b87738f1\">\n",
              "    <div class=\"colab-df-container\">\n",
              "      <div>\n",
              "<style scoped>\n",
              "    .dataframe tbody tr th:only-of-type {\n",
              "        vertical-align: middle;\n",
              "    }\n",
              "\n",
              "    .dataframe tbody tr th {\n",
              "        vertical-align: top;\n",
              "    }\n",
              "\n",
              "    .dataframe thead th {\n",
              "        text-align: right;\n",
              "    }\n",
              "</style>\n",
              "<table border=\"1\" class=\"dataframe\">\n",
              "  <thead>\n",
              "    <tr style=\"text-align: right;\">\n",
              "      <th></th>\n",
              "      <th>Unnamed: 0</th>\n",
              "      <th>Internalpatientid</th>\n",
              "      <th>Age at ed visit</th>\n",
              "      <th>Ed visit start date</th>\n",
              "      <th>Discharge date ed</th>\n",
              "      <th>Died during ed visit</th>\n",
              "      <th>First listed diagnosis icd10 subcategory</th>\n",
              "      <th>Second listed diagnosis icd10 subcategory</th>\n",
              "      <th>State</th>\n",
              "    </tr>\n",
              "  </thead>\n",
              "  <tbody>\n",
              "    <tr>\n",
              "      <th>0</th>\n",
              "      <td>0</td>\n",
              "      <td>101689</td>\n",
              "      <td>64.361251</td>\n",
              "      <td>2021-08-26 00:53:30.0</td>\n",
              "      <td>2021-08-26 04:24:27.0</td>\n",
              "      <td>No</td>\n",
              "      <td>Systolic (congestive) heart failure</td>\n",
              "      <td>Chronic kidney disease, unspecified</td>\n",
              "      <td>Virginia</td>\n",
              "    </tr>\n",
              "    <tr>\n",
              "      <th>1</th>\n",
              "      <td>3</td>\n",
              "      <td>107210</td>\n",
              "      <td>71.317300</td>\n",
              "      <td>2022-05-18 11:21:28.0</td>\n",
              "      <td>2022-05-18 18:30:21.0</td>\n",
              "      <td>No</td>\n",
              "      <td>Sepsis, unspecified organism</td>\n",
              "      <td>Hypotension, unspecified</td>\n",
              "      <td>West Virginia</td>\n",
              "    </tr>\n",
              "    <tr>\n",
              "      <th>2</th>\n",
              "      <td>4</td>\n",
              "      <td>107866</td>\n",
              "      <td>61.164579</td>\n",
              "      <td>2017-06-26 15:41:11.0</td>\n",
              "      <td>2017-06-26 23:33:50.0</td>\n",
              "      <td>No</td>\n",
              "      <td>Other nonspecific abnormal finding of lung field</td>\n",
              "      <td>Hypotension, unspecified</td>\n",
              "      <td>Pennsylvania</td>\n",
              "    </tr>\n",
              "    <tr>\n",
              "      <th>3</th>\n",
              "      <td>5</td>\n",
              "      <td>107906</td>\n",
              "      <td>66.101996</td>\n",
              "      <td>2017-02-17 06:42:34.0</td>\n",
              "      <td>2017-02-17 08:08:28.0</td>\n",
              "      <td>No</td>\n",
              "      <td>Dysuria</td>\n",
              "      <td>Chronic kidney disease, unspecified</td>\n",
              "      <td>New York</td>\n",
              "    </tr>\n",
              "    <tr>\n",
              "      <th>4</th>\n",
              "      <td>6</td>\n",
              "      <td>108522</td>\n",
              "      <td>73.598130</td>\n",
              "      <td>2018-09-30 02:47:49.0</td>\n",
              "      <td>2018-09-30 04:28:57.0</td>\n",
              "      <td>No</td>\n",
              "      <td>Type 2 diabetes mellitus with circulatory comp...</td>\n",
              "      <td>Type 2 diabetes mellitus with unspecified comp...</td>\n",
              "      <td>Illinois</td>\n",
              "    </tr>\n",
              "  </tbody>\n",
              "</table>\n",
              "</div>\n",
              "      <button class=\"colab-df-convert\" onclick=\"convertToInteractive('df-641163c6-ee04-4b19-9584-c223b87738f1')\"\n",
              "              title=\"Convert this dataframe to an interactive table.\"\n",
              "              style=\"display:none;\">\n",
              "        \n",
              "  <svg xmlns=\"http://www.w3.org/2000/svg\" height=\"24px\"viewBox=\"0 0 24 24\"\n",
              "       width=\"24px\">\n",
              "    <path d=\"M0 0h24v24H0V0z\" fill=\"none\"/>\n",
              "    <path d=\"M18.56 5.44l.94 2.06.94-2.06 2.06-.94-2.06-.94-.94-2.06-.94 2.06-2.06.94zm-11 1L8.5 8.5l.94-2.06 2.06-.94-2.06-.94L8.5 2.5l-.94 2.06-2.06.94zm10 10l.94 2.06.94-2.06 2.06-.94-2.06-.94-.94-2.06-.94 2.06-2.06.94z\"/><path d=\"M17.41 7.96l-1.37-1.37c-.4-.4-.92-.59-1.43-.59-.52 0-1.04.2-1.43.59L10.3 9.45l-7.72 7.72c-.78.78-.78 2.05 0 2.83L4 21.41c.39.39.9.59 1.41.59.51 0 1.02-.2 1.41-.59l7.78-7.78 2.81-2.81c.8-.78.8-2.07 0-2.86zM5.41 20L4 18.59l7.72-7.72 1.47 1.35L5.41 20z\"/>\n",
              "  </svg>\n",
              "      </button>\n",
              "      \n",
              "  <style>\n",
              "    .colab-df-container {\n",
              "      display:flex;\n",
              "      flex-wrap:wrap;\n",
              "      gap: 12px;\n",
              "    }\n",
              "\n",
              "    .colab-df-convert {\n",
              "      background-color: #E8F0FE;\n",
              "      border: none;\n",
              "      border-radius: 50%;\n",
              "      cursor: pointer;\n",
              "      display: none;\n",
              "      fill: #1967D2;\n",
              "      height: 32px;\n",
              "      padding: 0 0 0 0;\n",
              "      width: 32px;\n",
              "    }\n",
              "\n",
              "    .colab-df-convert:hover {\n",
              "      background-color: #E2EBFA;\n",
              "      box-shadow: 0px 1px 2px rgba(60, 64, 67, 0.3), 0px 1px 3px 1px rgba(60, 64, 67, 0.15);\n",
              "      fill: #174EA6;\n",
              "    }\n",
              "\n",
              "    [theme=dark] .colab-df-convert {\n",
              "      background-color: #3B4455;\n",
              "      fill: #D2E3FC;\n",
              "    }\n",
              "\n",
              "    [theme=dark] .colab-df-convert:hover {\n",
              "      background-color: #434B5C;\n",
              "      box-shadow: 0px 1px 3px 1px rgba(0, 0, 0, 0.15);\n",
              "      filter: drop-shadow(0px 1px 2px rgba(0, 0, 0, 0.3));\n",
              "      fill: #FFFFFF;\n",
              "    }\n",
              "  </style>\n",
              "\n",
              "      <script>\n",
              "        const buttonEl =\n",
              "          document.querySelector('#df-641163c6-ee04-4b19-9584-c223b87738f1 button.colab-df-convert');\n",
              "        buttonEl.style.display =\n",
              "          google.colab.kernel.accessAllowed ? 'block' : 'none';\n",
              "\n",
              "        async function convertToInteractive(key) {\n",
              "          const element = document.querySelector('#df-641163c6-ee04-4b19-9584-c223b87738f1');\n",
              "          const dataTable =\n",
              "            await google.colab.kernel.invokeFunction('convertToInteractive',\n",
              "                                                     [key], {});\n",
              "          if (!dataTable) return;\n",
              "\n",
              "          const docLinkHtml = 'Like what you see? Visit the ' +\n",
              "            '<a target=\"_blank\" href=https://colab.research.google.com/notebooks/data_table.ipynb>data table notebook</a>'\n",
              "            + ' to learn more about interactive tables.';\n",
              "          element.innerHTML = '';\n",
              "          dataTable['output_type'] = 'display_data';\n",
              "          await google.colab.output.renderOutput(dataTable, element);\n",
              "          const docLink = document.createElement('div');\n",
              "          docLink.innerHTML = docLinkHtml;\n",
              "          element.appendChild(docLink);\n",
              "        }\n",
              "      </script>\n",
              "    </div>\n",
              "  </div>\n",
              "  "
            ]
          },
          "metadata": {},
          "execution_count": 140
        }
      ]
    },
    {
      "cell_type": "code",
      "source": [
        "# split the DateTime column into separate Date and Time columns\n",
        "df4[['Discharge_ed_Date', 'Discharge_ed_Time']] = df4['Discharge date ed'].str.split(' ', expand=True)"
      ],
      "metadata": {
        "id": "7OcrAQhJghkF"
      },
      "execution_count": 141,
      "outputs": []
    },
    {
      "cell_type": "code",
      "source": [
        "# split the DateTime column into separate Date and Time columns\n",
        "df4[['ed_visit_start_Date', 'ed_visit_start_Time']] = df4['Ed visit start date'].str.split(' ', expand=True)"
      ],
      "metadata": {
        "id": "kO8I5Uh53juN"
      },
      "execution_count": 142,
      "outputs": []
    },
    {
      "cell_type": "code",
      "source": [
        "df4.head()"
      ],
      "metadata": {
        "colab": {
          "base_uri": "https://localhost:8080/",
          "height": 617
        },
        "id": "O-iYSYxs3zd7",
        "outputId": "5011c417-04b3-4e76-c80f-3e8c25486453"
      },
      "execution_count": 143,
      "outputs": [
        {
          "output_type": "execute_result",
          "data": {
            "text/plain": [
              "   Unnamed: 0  Internalpatientid  Age at ed visit    Ed visit start date  \\\n",
              "0           0             101689        64.361251  2021-08-26 00:53:30.0   \n",
              "1           3             107210        71.317300  2022-05-18 11:21:28.0   \n",
              "2           4             107866        61.164579  2017-06-26 15:41:11.0   \n",
              "3           5             107906        66.101996  2017-02-17 06:42:34.0   \n",
              "4           6             108522        73.598130  2018-09-30 02:47:49.0   \n",
              "\n",
              "       Discharge date ed Died during ed visit  \\\n",
              "0  2021-08-26 04:24:27.0                   No   \n",
              "1  2022-05-18 18:30:21.0                   No   \n",
              "2  2017-06-26 23:33:50.0                   No   \n",
              "3  2017-02-17 08:08:28.0                   No   \n",
              "4  2018-09-30 04:28:57.0                   No   \n",
              "\n",
              "            First listed diagnosis icd10 subcategory  \\\n",
              "0                Systolic (congestive) heart failure   \n",
              "1                       Sepsis, unspecified organism   \n",
              "2   Other nonspecific abnormal finding of lung field   \n",
              "3                                            Dysuria   \n",
              "4  Type 2 diabetes mellitus with circulatory comp...   \n",
              "\n",
              "           Second listed diagnosis icd10 subcategory          State  \\\n",
              "0                Chronic kidney disease, unspecified       Virginia   \n",
              "1                           Hypotension, unspecified  West Virginia   \n",
              "2                           Hypotension, unspecified   Pennsylvania   \n",
              "3                Chronic kidney disease, unspecified       New York   \n",
              "4  Type 2 diabetes mellitus with unspecified comp...       Illinois   \n",
              "\n",
              "  Discharge_ed_Date Discharge_ed_Time ed_visit_start_Date ed_visit_start_Time  \n",
              "0        2021-08-26        04:24:27.0          2021-08-26          00:53:30.0  \n",
              "1        2022-05-18        18:30:21.0          2022-05-18          11:21:28.0  \n",
              "2        2017-06-26        23:33:50.0          2017-06-26          15:41:11.0  \n",
              "3        2017-02-17        08:08:28.0          2017-02-17          06:42:34.0  \n",
              "4        2018-09-30        04:28:57.0          2018-09-30          02:47:49.0  "
            ],
            "text/html": [
              "\n",
              "  <div id=\"df-f8a1c1d8-10b6-4364-8c5e-78ab64ae4472\">\n",
              "    <div class=\"colab-df-container\">\n",
              "      <div>\n",
              "<style scoped>\n",
              "    .dataframe tbody tr th:only-of-type {\n",
              "        vertical-align: middle;\n",
              "    }\n",
              "\n",
              "    .dataframe tbody tr th {\n",
              "        vertical-align: top;\n",
              "    }\n",
              "\n",
              "    .dataframe thead th {\n",
              "        text-align: right;\n",
              "    }\n",
              "</style>\n",
              "<table border=\"1\" class=\"dataframe\">\n",
              "  <thead>\n",
              "    <tr style=\"text-align: right;\">\n",
              "      <th></th>\n",
              "      <th>Unnamed: 0</th>\n",
              "      <th>Internalpatientid</th>\n",
              "      <th>Age at ed visit</th>\n",
              "      <th>Ed visit start date</th>\n",
              "      <th>Discharge date ed</th>\n",
              "      <th>Died during ed visit</th>\n",
              "      <th>First listed diagnosis icd10 subcategory</th>\n",
              "      <th>Second listed diagnosis icd10 subcategory</th>\n",
              "      <th>State</th>\n",
              "      <th>Discharge_ed_Date</th>\n",
              "      <th>Discharge_ed_Time</th>\n",
              "      <th>ed_visit_start_Date</th>\n",
              "      <th>ed_visit_start_Time</th>\n",
              "    </tr>\n",
              "  </thead>\n",
              "  <tbody>\n",
              "    <tr>\n",
              "      <th>0</th>\n",
              "      <td>0</td>\n",
              "      <td>101689</td>\n",
              "      <td>64.361251</td>\n",
              "      <td>2021-08-26 00:53:30.0</td>\n",
              "      <td>2021-08-26 04:24:27.0</td>\n",
              "      <td>No</td>\n",
              "      <td>Systolic (congestive) heart failure</td>\n",
              "      <td>Chronic kidney disease, unspecified</td>\n",
              "      <td>Virginia</td>\n",
              "      <td>2021-08-26</td>\n",
              "      <td>04:24:27.0</td>\n",
              "      <td>2021-08-26</td>\n",
              "      <td>00:53:30.0</td>\n",
              "    </tr>\n",
              "    <tr>\n",
              "      <th>1</th>\n",
              "      <td>3</td>\n",
              "      <td>107210</td>\n",
              "      <td>71.317300</td>\n",
              "      <td>2022-05-18 11:21:28.0</td>\n",
              "      <td>2022-05-18 18:30:21.0</td>\n",
              "      <td>No</td>\n",
              "      <td>Sepsis, unspecified organism</td>\n",
              "      <td>Hypotension, unspecified</td>\n",
              "      <td>West Virginia</td>\n",
              "      <td>2022-05-18</td>\n",
              "      <td>18:30:21.0</td>\n",
              "      <td>2022-05-18</td>\n",
              "      <td>11:21:28.0</td>\n",
              "    </tr>\n",
              "    <tr>\n",
              "      <th>2</th>\n",
              "      <td>4</td>\n",
              "      <td>107866</td>\n",
              "      <td>61.164579</td>\n",
              "      <td>2017-06-26 15:41:11.0</td>\n",
              "      <td>2017-06-26 23:33:50.0</td>\n",
              "      <td>No</td>\n",
              "      <td>Other nonspecific abnormal finding of lung field</td>\n",
              "      <td>Hypotension, unspecified</td>\n",
              "      <td>Pennsylvania</td>\n",
              "      <td>2017-06-26</td>\n",
              "      <td>23:33:50.0</td>\n",
              "      <td>2017-06-26</td>\n",
              "      <td>15:41:11.0</td>\n",
              "    </tr>\n",
              "    <tr>\n",
              "      <th>3</th>\n",
              "      <td>5</td>\n",
              "      <td>107906</td>\n",
              "      <td>66.101996</td>\n",
              "      <td>2017-02-17 06:42:34.0</td>\n",
              "      <td>2017-02-17 08:08:28.0</td>\n",
              "      <td>No</td>\n",
              "      <td>Dysuria</td>\n",
              "      <td>Chronic kidney disease, unspecified</td>\n",
              "      <td>New York</td>\n",
              "      <td>2017-02-17</td>\n",
              "      <td>08:08:28.0</td>\n",
              "      <td>2017-02-17</td>\n",
              "      <td>06:42:34.0</td>\n",
              "    </tr>\n",
              "    <tr>\n",
              "      <th>4</th>\n",
              "      <td>6</td>\n",
              "      <td>108522</td>\n",
              "      <td>73.598130</td>\n",
              "      <td>2018-09-30 02:47:49.0</td>\n",
              "      <td>2018-09-30 04:28:57.0</td>\n",
              "      <td>No</td>\n",
              "      <td>Type 2 diabetes mellitus with circulatory comp...</td>\n",
              "      <td>Type 2 diabetes mellitus with unspecified comp...</td>\n",
              "      <td>Illinois</td>\n",
              "      <td>2018-09-30</td>\n",
              "      <td>04:28:57.0</td>\n",
              "      <td>2018-09-30</td>\n",
              "      <td>02:47:49.0</td>\n",
              "    </tr>\n",
              "  </tbody>\n",
              "</table>\n",
              "</div>\n",
              "      <button class=\"colab-df-convert\" onclick=\"convertToInteractive('df-f8a1c1d8-10b6-4364-8c5e-78ab64ae4472')\"\n",
              "              title=\"Convert this dataframe to an interactive table.\"\n",
              "              style=\"display:none;\">\n",
              "        \n",
              "  <svg xmlns=\"http://www.w3.org/2000/svg\" height=\"24px\"viewBox=\"0 0 24 24\"\n",
              "       width=\"24px\">\n",
              "    <path d=\"M0 0h24v24H0V0z\" fill=\"none\"/>\n",
              "    <path d=\"M18.56 5.44l.94 2.06.94-2.06 2.06-.94-2.06-.94-.94-2.06-.94 2.06-2.06.94zm-11 1L8.5 8.5l.94-2.06 2.06-.94-2.06-.94L8.5 2.5l-.94 2.06-2.06.94zm10 10l.94 2.06.94-2.06 2.06-.94-2.06-.94-.94-2.06-.94 2.06-2.06.94z\"/><path d=\"M17.41 7.96l-1.37-1.37c-.4-.4-.92-.59-1.43-.59-.52 0-1.04.2-1.43.59L10.3 9.45l-7.72 7.72c-.78.78-.78 2.05 0 2.83L4 21.41c.39.39.9.59 1.41.59.51 0 1.02-.2 1.41-.59l7.78-7.78 2.81-2.81c.8-.78.8-2.07 0-2.86zM5.41 20L4 18.59l7.72-7.72 1.47 1.35L5.41 20z\"/>\n",
              "  </svg>\n",
              "      </button>\n",
              "      \n",
              "  <style>\n",
              "    .colab-df-container {\n",
              "      display:flex;\n",
              "      flex-wrap:wrap;\n",
              "      gap: 12px;\n",
              "    }\n",
              "\n",
              "    .colab-df-convert {\n",
              "      background-color: #E8F0FE;\n",
              "      border: none;\n",
              "      border-radius: 50%;\n",
              "      cursor: pointer;\n",
              "      display: none;\n",
              "      fill: #1967D2;\n",
              "      height: 32px;\n",
              "      padding: 0 0 0 0;\n",
              "      width: 32px;\n",
              "    }\n",
              "\n",
              "    .colab-df-convert:hover {\n",
              "      background-color: #E2EBFA;\n",
              "      box-shadow: 0px 1px 2px rgba(60, 64, 67, 0.3), 0px 1px 3px 1px rgba(60, 64, 67, 0.15);\n",
              "      fill: #174EA6;\n",
              "    }\n",
              "\n",
              "    [theme=dark] .colab-df-convert {\n",
              "      background-color: #3B4455;\n",
              "      fill: #D2E3FC;\n",
              "    }\n",
              "\n",
              "    [theme=dark] .colab-df-convert:hover {\n",
              "      background-color: #434B5C;\n",
              "      box-shadow: 0px 1px 3px 1px rgba(0, 0, 0, 0.15);\n",
              "      filter: drop-shadow(0px 1px 2px rgba(0, 0, 0, 0.3));\n",
              "      fill: #FFFFFF;\n",
              "    }\n",
              "  </style>\n",
              "\n",
              "      <script>\n",
              "        const buttonEl =\n",
              "          document.querySelector('#df-f8a1c1d8-10b6-4364-8c5e-78ab64ae4472 button.colab-df-convert');\n",
              "        buttonEl.style.display =\n",
              "          google.colab.kernel.accessAllowed ? 'block' : 'none';\n",
              "\n",
              "        async function convertToInteractive(key) {\n",
              "          const element = document.querySelector('#df-f8a1c1d8-10b6-4364-8c5e-78ab64ae4472');\n",
              "          const dataTable =\n",
              "            await google.colab.kernel.invokeFunction('convertToInteractive',\n",
              "                                                     [key], {});\n",
              "          if (!dataTable) return;\n",
              "\n",
              "          const docLinkHtml = 'Like what you see? Visit the ' +\n",
              "            '<a target=\"_blank\" href=https://colab.research.google.com/notebooks/data_table.ipynb>data table notebook</a>'\n",
              "            + ' to learn more about interactive tables.';\n",
              "          element.innerHTML = '';\n",
              "          dataTable['output_type'] = 'display_data';\n",
              "          await google.colab.output.renderOutput(dataTable, element);\n",
              "          const docLink = document.createElement('div');\n",
              "          docLink.innerHTML = docLinkHtml;\n",
              "          element.appendChild(docLink);\n",
              "        }\n",
              "      </script>\n",
              "    </div>\n",
              "  </div>\n",
              "  "
            ]
          },
          "metadata": {},
          "execution_count": 143
        }
      ]
    },
    {
      "cell_type": "code",
      "source": [
        "df4.drop('Unnamed: 0',axis = 1,inplace = True)\n",
        "\n"
      ],
      "metadata": {
        "id": "v-AR3Hju3zpr"
      },
      "execution_count": 144,
      "outputs": []
    },
    {
      "cell_type": "code",
      "source": [
        "df4.drop('Ed visit start date',axis = 1,inplace = True)\n",
        "df4.drop('Discharge date ed',axis = 1,inplace = True)"
      ],
      "metadata": {
        "id": "jnonzumR5HOE"
      },
      "execution_count": 145,
      "outputs": []
    },
    {
      "cell_type": "code",
      "source": [
        "df4.head()"
      ],
      "metadata": {
        "colab": {
          "base_uri": "https://localhost:8080/",
          "height": 475
        },
        "id": "rSGOOVUy4Tlc",
        "outputId": "b9a928e4-8a3e-41d1-d953-8b1e817f81e5"
      },
      "execution_count": 146,
      "outputs": [
        {
          "output_type": "execute_result",
          "data": {
            "text/plain": [
              "   Internalpatientid  Age at ed visit Died during ed visit  \\\n",
              "0             101689        64.361251                   No   \n",
              "1             107210        71.317300                   No   \n",
              "2             107866        61.164579                   No   \n",
              "3             107906        66.101996                   No   \n",
              "4             108522        73.598130                   No   \n",
              "\n",
              "            First listed diagnosis icd10 subcategory  \\\n",
              "0                Systolic (congestive) heart failure   \n",
              "1                       Sepsis, unspecified organism   \n",
              "2   Other nonspecific abnormal finding of lung field   \n",
              "3                                            Dysuria   \n",
              "4  Type 2 diabetes mellitus with circulatory comp...   \n",
              "\n",
              "           Second listed diagnosis icd10 subcategory          State  \\\n",
              "0                Chronic kidney disease, unspecified       Virginia   \n",
              "1                           Hypotension, unspecified  West Virginia   \n",
              "2                           Hypotension, unspecified   Pennsylvania   \n",
              "3                Chronic kidney disease, unspecified       New York   \n",
              "4  Type 2 diabetes mellitus with unspecified comp...       Illinois   \n",
              "\n",
              "  Discharge_ed_Date Discharge_ed_Time ed_visit_start_Date ed_visit_start_Time  \n",
              "0        2021-08-26        04:24:27.0          2021-08-26          00:53:30.0  \n",
              "1        2022-05-18        18:30:21.0          2022-05-18          11:21:28.0  \n",
              "2        2017-06-26        23:33:50.0          2017-06-26          15:41:11.0  \n",
              "3        2017-02-17        08:08:28.0          2017-02-17          06:42:34.0  \n",
              "4        2018-09-30        04:28:57.0          2018-09-30          02:47:49.0  "
            ],
            "text/html": [
              "\n",
              "  <div id=\"df-4b64abea-5195-4e0c-948b-b9770ce23058\">\n",
              "    <div class=\"colab-df-container\">\n",
              "      <div>\n",
              "<style scoped>\n",
              "    .dataframe tbody tr th:only-of-type {\n",
              "        vertical-align: middle;\n",
              "    }\n",
              "\n",
              "    .dataframe tbody tr th {\n",
              "        vertical-align: top;\n",
              "    }\n",
              "\n",
              "    .dataframe thead th {\n",
              "        text-align: right;\n",
              "    }\n",
              "</style>\n",
              "<table border=\"1\" class=\"dataframe\">\n",
              "  <thead>\n",
              "    <tr style=\"text-align: right;\">\n",
              "      <th></th>\n",
              "      <th>Internalpatientid</th>\n",
              "      <th>Age at ed visit</th>\n",
              "      <th>Died during ed visit</th>\n",
              "      <th>First listed diagnosis icd10 subcategory</th>\n",
              "      <th>Second listed diagnosis icd10 subcategory</th>\n",
              "      <th>State</th>\n",
              "      <th>Discharge_ed_Date</th>\n",
              "      <th>Discharge_ed_Time</th>\n",
              "      <th>ed_visit_start_Date</th>\n",
              "      <th>ed_visit_start_Time</th>\n",
              "    </tr>\n",
              "  </thead>\n",
              "  <tbody>\n",
              "    <tr>\n",
              "      <th>0</th>\n",
              "      <td>101689</td>\n",
              "      <td>64.361251</td>\n",
              "      <td>No</td>\n",
              "      <td>Systolic (congestive) heart failure</td>\n",
              "      <td>Chronic kidney disease, unspecified</td>\n",
              "      <td>Virginia</td>\n",
              "      <td>2021-08-26</td>\n",
              "      <td>04:24:27.0</td>\n",
              "      <td>2021-08-26</td>\n",
              "      <td>00:53:30.0</td>\n",
              "    </tr>\n",
              "    <tr>\n",
              "      <th>1</th>\n",
              "      <td>107210</td>\n",
              "      <td>71.317300</td>\n",
              "      <td>No</td>\n",
              "      <td>Sepsis, unspecified organism</td>\n",
              "      <td>Hypotension, unspecified</td>\n",
              "      <td>West Virginia</td>\n",
              "      <td>2022-05-18</td>\n",
              "      <td>18:30:21.0</td>\n",
              "      <td>2022-05-18</td>\n",
              "      <td>11:21:28.0</td>\n",
              "    </tr>\n",
              "    <tr>\n",
              "      <th>2</th>\n",
              "      <td>107866</td>\n",
              "      <td>61.164579</td>\n",
              "      <td>No</td>\n",
              "      <td>Other nonspecific abnormal finding of lung field</td>\n",
              "      <td>Hypotension, unspecified</td>\n",
              "      <td>Pennsylvania</td>\n",
              "      <td>2017-06-26</td>\n",
              "      <td>23:33:50.0</td>\n",
              "      <td>2017-06-26</td>\n",
              "      <td>15:41:11.0</td>\n",
              "    </tr>\n",
              "    <tr>\n",
              "      <th>3</th>\n",
              "      <td>107906</td>\n",
              "      <td>66.101996</td>\n",
              "      <td>No</td>\n",
              "      <td>Dysuria</td>\n",
              "      <td>Chronic kidney disease, unspecified</td>\n",
              "      <td>New York</td>\n",
              "      <td>2017-02-17</td>\n",
              "      <td>08:08:28.0</td>\n",
              "      <td>2017-02-17</td>\n",
              "      <td>06:42:34.0</td>\n",
              "    </tr>\n",
              "    <tr>\n",
              "      <th>4</th>\n",
              "      <td>108522</td>\n",
              "      <td>73.598130</td>\n",
              "      <td>No</td>\n",
              "      <td>Type 2 diabetes mellitus with circulatory comp...</td>\n",
              "      <td>Type 2 diabetes mellitus with unspecified comp...</td>\n",
              "      <td>Illinois</td>\n",
              "      <td>2018-09-30</td>\n",
              "      <td>04:28:57.0</td>\n",
              "      <td>2018-09-30</td>\n",
              "      <td>02:47:49.0</td>\n",
              "    </tr>\n",
              "  </tbody>\n",
              "</table>\n",
              "</div>\n",
              "      <button class=\"colab-df-convert\" onclick=\"convertToInteractive('df-4b64abea-5195-4e0c-948b-b9770ce23058')\"\n",
              "              title=\"Convert this dataframe to an interactive table.\"\n",
              "              style=\"display:none;\">\n",
              "        \n",
              "  <svg xmlns=\"http://www.w3.org/2000/svg\" height=\"24px\"viewBox=\"0 0 24 24\"\n",
              "       width=\"24px\">\n",
              "    <path d=\"M0 0h24v24H0V0z\" fill=\"none\"/>\n",
              "    <path d=\"M18.56 5.44l.94 2.06.94-2.06 2.06-.94-2.06-.94-.94-2.06-.94 2.06-2.06.94zm-11 1L8.5 8.5l.94-2.06 2.06-.94-2.06-.94L8.5 2.5l-.94 2.06-2.06.94zm10 10l.94 2.06.94-2.06 2.06-.94-2.06-.94-.94-2.06-.94 2.06-2.06.94z\"/><path d=\"M17.41 7.96l-1.37-1.37c-.4-.4-.92-.59-1.43-.59-.52 0-1.04.2-1.43.59L10.3 9.45l-7.72 7.72c-.78.78-.78 2.05 0 2.83L4 21.41c.39.39.9.59 1.41.59.51 0 1.02-.2 1.41-.59l7.78-7.78 2.81-2.81c.8-.78.8-2.07 0-2.86zM5.41 20L4 18.59l7.72-7.72 1.47 1.35L5.41 20z\"/>\n",
              "  </svg>\n",
              "      </button>\n",
              "      \n",
              "  <style>\n",
              "    .colab-df-container {\n",
              "      display:flex;\n",
              "      flex-wrap:wrap;\n",
              "      gap: 12px;\n",
              "    }\n",
              "\n",
              "    .colab-df-convert {\n",
              "      background-color: #E8F0FE;\n",
              "      border: none;\n",
              "      border-radius: 50%;\n",
              "      cursor: pointer;\n",
              "      display: none;\n",
              "      fill: #1967D2;\n",
              "      height: 32px;\n",
              "      padding: 0 0 0 0;\n",
              "      width: 32px;\n",
              "    }\n",
              "\n",
              "    .colab-df-convert:hover {\n",
              "      background-color: #E2EBFA;\n",
              "      box-shadow: 0px 1px 2px rgba(60, 64, 67, 0.3), 0px 1px 3px 1px rgba(60, 64, 67, 0.15);\n",
              "      fill: #174EA6;\n",
              "    }\n",
              "\n",
              "    [theme=dark] .colab-df-convert {\n",
              "      background-color: #3B4455;\n",
              "      fill: #D2E3FC;\n",
              "    }\n",
              "\n",
              "    [theme=dark] .colab-df-convert:hover {\n",
              "      background-color: #434B5C;\n",
              "      box-shadow: 0px 1px 3px 1px rgba(0, 0, 0, 0.15);\n",
              "      filter: drop-shadow(0px 1px 2px rgba(0, 0, 0, 0.3));\n",
              "      fill: #FFFFFF;\n",
              "    }\n",
              "  </style>\n",
              "\n",
              "      <script>\n",
              "        const buttonEl =\n",
              "          document.querySelector('#df-4b64abea-5195-4e0c-948b-b9770ce23058 button.colab-df-convert');\n",
              "        buttonEl.style.display =\n",
              "          google.colab.kernel.accessAllowed ? 'block' : 'none';\n",
              "\n",
              "        async function convertToInteractive(key) {\n",
              "          const element = document.querySelector('#df-4b64abea-5195-4e0c-948b-b9770ce23058');\n",
              "          const dataTable =\n",
              "            await google.colab.kernel.invokeFunction('convertToInteractive',\n",
              "                                                     [key], {});\n",
              "          if (!dataTable) return;\n",
              "\n",
              "          const docLinkHtml = 'Like what you see? Visit the ' +\n",
              "            '<a target=\"_blank\" href=https://colab.research.google.com/notebooks/data_table.ipynb>data table notebook</a>'\n",
              "            + ' to learn more about interactive tables.';\n",
              "          element.innerHTML = '';\n",
              "          dataTable['output_type'] = 'display_data';\n",
              "          await google.colab.output.renderOutput(dataTable, element);\n",
              "          const docLink = document.createElement('div');\n",
              "          docLink.innerHTML = docLinkHtml;\n",
              "          element.appendChild(docLink);\n",
              "        }\n",
              "      </script>\n",
              "    </div>\n",
              "  </div>\n",
              "  "
            ]
          },
          "metadata": {},
          "execution_count": 146
        }
      ]
    },
    {
      "cell_type": "code",
      "source": [
        "# rename two of the columns by using the 'rename' method\n",
        "df4.rename(columns={'Age at ed visit':'Age_at_ed_visit','Died during ed visit':'Died_during_ed_visit',\n",
        "                    'First listed diagnosis icd10 subcategory':'First_listed_diagnosis_icd10_subcategory',\n",
        "                    'Second listed diagnosis icd10 subcategory':'Second_listed_diagnosis_icd10_subcategory'}, inplace=True)"
      ],
      "metadata": {
        "id": "HboJqObi5Q6-"
      },
      "execution_count": 147,
      "outputs": []
    },
    {
      "cell_type": "code",
      "source": [
        "df4.head()"
      ],
      "metadata": {
        "colab": {
          "base_uri": "https://localhost:8080/",
          "height": 270
        },
        "id": "A7gRWQZ_6CYj",
        "outputId": "31062c5b-60cc-4577-98b0-df116bcb91d8"
      },
      "execution_count": 148,
      "outputs": [
        {
          "output_type": "execute_result",
          "data": {
            "text/plain": [
              "   Internalpatientid  Age_at_ed_visit Died_during_ed_visit  \\\n",
              "0             101689        64.361251                   No   \n",
              "1             107210        71.317300                   No   \n",
              "2             107866        61.164579                   No   \n",
              "3             107906        66.101996                   No   \n",
              "4             108522        73.598130                   No   \n",
              "\n",
              "            First_listed_diagnosis_icd10_subcategory  \\\n",
              "0                Systolic (congestive) heart failure   \n",
              "1                       Sepsis, unspecified organism   \n",
              "2   Other nonspecific abnormal finding of lung field   \n",
              "3                                            Dysuria   \n",
              "4  Type 2 diabetes mellitus with circulatory comp...   \n",
              "\n",
              "           Second_listed_diagnosis_icd10_subcategory          State  \\\n",
              "0                Chronic kidney disease, unspecified       Virginia   \n",
              "1                           Hypotension, unspecified  West Virginia   \n",
              "2                           Hypotension, unspecified   Pennsylvania   \n",
              "3                Chronic kidney disease, unspecified       New York   \n",
              "4  Type 2 diabetes mellitus with unspecified comp...       Illinois   \n",
              "\n",
              "  Discharge_ed_Date Discharge_ed_Time ed_visit_start_Date ed_visit_start_Time  \n",
              "0        2021-08-26        04:24:27.0          2021-08-26          00:53:30.0  \n",
              "1        2022-05-18        18:30:21.0          2022-05-18          11:21:28.0  \n",
              "2        2017-06-26        23:33:50.0          2017-06-26          15:41:11.0  \n",
              "3        2017-02-17        08:08:28.0          2017-02-17          06:42:34.0  \n",
              "4        2018-09-30        04:28:57.0          2018-09-30          02:47:49.0  "
            ],
            "text/html": [
              "\n",
              "  <div id=\"df-2fb46e55-2691-41c2-9eca-097259b5fa87\">\n",
              "    <div class=\"colab-df-container\">\n",
              "      <div>\n",
              "<style scoped>\n",
              "    .dataframe tbody tr th:only-of-type {\n",
              "        vertical-align: middle;\n",
              "    }\n",
              "\n",
              "    .dataframe tbody tr th {\n",
              "        vertical-align: top;\n",
              "    }\n",
              "\n",
              "    .dataframe thead th {\n",
              "        text-align: right;\n",
              "    }\n",
              "</style>\n",
              "<table border=\"1\" class=\"dataframe\">\n",
              "  <thead>\n",
              "    <tr style=\"text-align: right;\">\n",
              "      <th></th>\n",
              "      <th>Internalpatientid</th>\n",
              "      <th>Age_at_ed_visit</th>\n",
              "      <th>Died_during_ed_visit</th>\n",
              "      <th>First_listed_diagnosis_icd10_subcategory</th>\n",
              "      <th>Second_listed_diagnosis_icd10_subcategory</th>\n",
              "      <th>State</th>\n",
              "      <th>Discharge_ed_Date</th>\n",
              "      <th>Discharge_ed_Time</th>\n",
              "      <th>ed_visit_start_Date</th>\n",
              "      <th>ed_visit_start_Time</th>\n",
              "    </tr>\n",
              "  </thead>\n",
              "  <tbody>\n",
              "    <tr>\n",
              "      <th>0</th>\n",
              "      <td>101689</td>\n",
              "      <td>64.361251</td>\n",
              "      <td>No</td>\n",
              "      <td>Systolic (congestive) heart failure</td>\n",
              "      <td>Chronic kidney disease, unspecified</td>\n",
              "      <td>Virginia</td>\n",
              "      <td>2021-08-26</td>\n",
              "      <td>04:24:27.0</td>\n",
              "      <td>2021-08-26</td>\n",
              "      <td>00:53:30.0</td>\n",
              "    </tr>\n",
              "    <tr>\n",
              "      <th>1</th>\n",
              "      <td>107210</td>\n",
              "      <td>71.317300</td>\n",
              "      <td>No</td>\n",
              "      <td>Sepsis, unspecified organism</td>\n",
              "      <td>Hypotension, unspecified</td>\n",
              "      <td>West Virginia</td>\n",
              "      <td>2022-05-18</td>\n",
              "      <td>18:30:21.0</td>\n",
              "      <td>2022-05-18</td>\n",
              "      <td>11:21:28.0</td>\n",
              "    </tr>\n",
              "    <tr>\n",
              "      <th>2</th>\n",
              "      <td>107866</td>\n",
              "      <td>61.164579</td>\n",
              "      <td>No</td>\n",
              "      <td>Other nonspecific abnormal finding of lung field</td>\n",
              "      <td>Hypotension, unspecified</td>\n",
              "      <td>Pennsylvania</td>\n",
              "      <td>2017-06-26</td>\n",
              "      <td>23:33:50.0</td>\n",
              "      <td>2017-06-26</td>\n",
              "      <td>15:41:11.0</td>\n",
              "    </tr>\n",
              "    <tr>\n",
              "      <th>3</th>\n",
              "      <td>107906</td>\n",
              "      <td>66.101996</td>\n",
              "      <td>No</td>\n",
              "      <td>Dysuria</td>\n",
              "      <td>Chronic kidney disease, unspecified</td>\n",
              "      <td>New York</td>\n",
              "      <td>2017-02-17</td>\n",
              "      <td>08:08:28.0</td>\n",
              "      <td>2017-02-17</td>\n",
              "      <td>06:42:34.0</td>\n",
              "    </tr>\n",
              "    <tr>\n",
              "      <th>4</th>\n",
              "      <td>108522</td>\n",
              "      <td>73.598130</td>\n",
              "      <td>No</td>\n",
              "      <td>Type 2 diabetes mellitus with circulatory comp...</td>\n",
              "      <td>Type 2 diabetes mellitus with unspecified comp...</td>\n",
              "      <td>Illinois</td>\n",
              "      <td>2018-09-30</td>\n",
              "      <td>04:28:57.0</td>\n",
              "      <td>2018-09-30</td>\n",
              "      <td>02:47:49.0</td>\n",
              "    </tr>\n",
              "  </tbody>\n",
              "</table>\n",
              "</div>\n",
              "      <button class=\"colab-df-convert\" onclick=\"convertToInteractive('df-2fb46e55-2691-41c2-9eca-097259b5fa87')\"\n",
              "              title=\"Convert this dataframe to an interactive table.\"\n",
              "              style=\"display:none;\">\n",
              "        \n",
              "  <svg xmlns=\"http://www.w3.org/2000/svg\" height=\"24px\"viewBox=\"0 0 24 24\"\n",
              "       width=\"24px\">\n",
              "    <path d=\"M0 0h24v24H0V0z\" fill=\"none\"/>\n",
              "    <path d=\"M18.56 5.44l.94 2.06.94-2.06 2.06-.94-2.06-.94-.94-2.06-.94 2.06-2.06.94zm-11 1L8.5 8.5l.94-2.06 2.06-.94-2.06-.94L8.5 2.5l-.94 2.06-2.06.94zm10 10l.94 2.06.94-2.06 2.06-.94-2.06-.94-.94-2.06-.94 2.06-2.06.94z\"/><path d=\"M17.41 7.96l-1.37-1.37c-.4-.4-.92-.59-1.43-.59-.52 0-1.04.2-1.43.59L10.3 9.45l-7.72 7.72c-.78.78-.78 2.05 0 2.83L4 21.41c.39.39.9.59 1.41.59.51 0 1.02-.2 1.41-.59l7.78-7.78 2.81-2.81c.8-.78.8-2.07 0-2.86zM5.41 20L4 18.59l7.72-7.72 1.47 1.35L5.41 20z\"/>\n",
              "  </svg>\n",
              "      </button>\n",
              "      \n",
              "  <style>\n",
              "    .colab-df-container {\n",
              "      display:flex;\n",
              "      flex-wrap:wrap;\n",
              "      gap: 12px;\n",
              "    }\n",
              "\n",
              "    .colab-df-convert {\n",
              "      background-color: #E8F0FE;\n",
              "      border: none;\n",
              "      border-radius: 50%;\n",
              "      cursor: pointer;\n",
              "      display: none;\n",
              "      fill: #1967D2;\n",
              "      height: 32px;\n",
              "      padding: 0 0 0 0;\n",
              "      width: 32px;\n",
              "    }\n",
              "\n",
              "    .colab-df-convert:hover {\n",
              "      background-color: #E2EBFA;\n",
              "      box-shadow: 0px 1px 2px rgba(60, 64, 67, 0.3), 0px 1px 3px 1px rgba(60, 64, 67, 0.15);\n",
              "      fill: #174EA6;\n",
              "    }\n",
              "\n",
              "    [theme=dark] .colab-df-convert {\n",
              "      background-color: #3B4455;\n",
              "      fill: #D2E3FC;\n",
              "    }\n",
              "\n",
              "    [theme=dark] .colab-df-convert:hover {\n",
              "      background-color: #434B5C;\n",
              "      box-shadow: 0px 1px 3px 1px rgba(0, 0, 0, 0.15);\n",
              "      filter: drop-shadow(0px 1px 2px rgba(0, 0, 0, 0.3));\n",
              "      fill: #FFFFFF;\n",
              "    }\n",
              "  </style>\n",
              "\n",
              "      <script>\n",
              "        const buttonEl =\n",
              "          document.querySelector('#df-2fb46e55-2691-41c2-9eca-097259b5fa87 button.colab-df-convert');\n",
              "        buttonEl.style.display =\n",
              "          google.colab.kernel.accessAllowed ? 'block' : 'none';\n",
              "\n",
              "        async function convertToInteractive(key) {\n",
              "          const element = document.querySelector('#df-2fb46e55-2691-41c2-9eca-097259b5fa87');\n",
              "          const dataTable =\n",
              "            await google.colab.kernel.invokeFunction('convertToInteractive',\n",
              "                                                     [key], {});\n",
              "          if (!dataTable) return;\n",
              "\n",
              "          const docLinkHtml = 'Like what you see? Visit the ' +\n",
              "            '<a target=\"_blank\" href=https://colab.research.google.com/notebooks/data_table.ipynb>data table notebook</a>'\n",
              "            + ' to learn more about interactive tables.';\n",
              "          element.innerHTML = '';\n",
              "          dataTable['output_type'] = 'display_data';\n",
              "          await google.colab.output.renderOutput(dataTable, element);\n",
              "          const docLink = document.createElement('div');\n",
              "          docLink.innerHTML = docLinkHtml;\n",
              "          element.appendChild(docLink);\n",
              "        }\n",
              "      </script>\n",
              "    </div>\n",
              "  </div>\n",
              "  "
            ]
          },
          "metadata": {},
          "execution_count": 148
        }
      ]
    },
    {
      "cell_type": "code",
      "source": [
        "df4.First_listed_diagnosis_icd10_subcategory.nunique()"
      ],
      "metadata": {
        "colab": {
          "base_uri": "https://localhost:8080/"
        },
        "id": "fcTemF-f6_nO",
        "outputId": "5a24968b-9ac5-4c3c-ae6b-f578eea9b8ed"
      },
      "execution_count": 150,
      "outputs": [
        {
          "output_type": "execute_result",
          "data": {
            "text/plain": [
              "3645"
            ]
          },
          "metadata": {},
          "execution_count": 150
        }
      ]
    },
    {
      "cell_type": "code",
      "source": [
        "df4.Second_listed_diagnosis_icd10_subcategory.nunique()"
      ],
      "metadata": {
        "colab": {
          "base_uri": "https://localhost:8080/"
        },
        "id": "MZJOqeaN7EHR",
        "outputId": "df01234b-496d-4342-b02a-5e4e8c49819f"
      },
      "execution_count": 152,
      "outputs": [
        {
          "output_type": "execute_result",
          "data": {
            "text/plain": [
              "3060"
            ]
          },
          "metadata": {},
          "execution_count": 152
        }
      ]
    },
    {
      "cell_type": "code",
      "source": [
        "df4.State.unique()"
      ],
      "metadata": {
        "colab": {
          "base_uri": "https://localhost:8080/"
        },
        "id": "PKwsftkt7K97",
        "outputId": "4d25daec-48cc-4bc0-f252-fcb4893c4671"
      },
      "execution_count": 153,
      "outputs": [
        {
          "output_type": "execute_result",
          "data": {
            "text/plain": [
              "array(['Virginia', 'West Virginia', 'Pennsylvania', 'New York',\n",
              "       'Illinois', 'Michigan', 'Missouri', 'Georgia', 'Arizona',\n",
              "       'South Carolina', 'California', 'South Dakota', 'Indiana',\n",
              "       'Louisiana', 'Kentucky', 'Alabama', 'Oregon', 'Nebraska', 'Idaho',\n",
              "       'Delaware', 'Maryland', 'Arkansas', 'New Jersey', 'Tennessee',\n",
              "       'Florida', 'Wisconsin', 'Connecticut', 'Colorado', 'Texas', 'Utah',\n",
              "       'New Mexico', 'North Carolina', 'North Dakota', 'Oklahoma',\n",
              "       'Maine', 'District of Columbia', 'Nevada', 'Ohio', 'Mississippi',\n",
              "       'Montana', 'New Hampshire', 'Minnesota', 'Puerto Rico',\n",
              "       'Rhode Island', 'Washington', 'Vermont', 'Massachusetts',\n",
              "       'Wyoming'], dtype=object)"
            ]
          },
          "metadata": {},
          "execution_count": 153
        }
      ]
    },
    {
      "cell_type": "code",
      "source": [
        "df4.State.value_counts()"
      ],
      "metadata": {
        "colab": {
          "base_uri": "https://localhost:8080/"
        },
        "id": "dM6fGT8h829I",
        "outputId": "44228bce-3706-4565-ace8-8fc8bd2fa51e"
      },
      "execution_count": 165,
      "outputs": [
        {
          "output_type": "execute_result",
          "data": {
            "text/plain": [
              "California              44354\n",
              "Florida                 38942\n",
              "Texas                   32191\n",
              "New York                29624\n",
              "Missouri                26752\n",
              "Tennessee               23794\n",
              "Ohio                    20286\n",
              "Pennsylvania            18317\n",
              "North Carolina          17412\n",
              "Arizona                 16875\n",
              "Illinois                16077\n",
              "Michigan                15923\n",
              "Virginia                15456\n",
              "Georgia                 14740\n",
              "West Virginia           13858\n",
              "Louisiana               12544\n",
              "Wisconsin               11385\n",
              "Kentucky                11171\n",
              "South Carolina          11138\n",
              "Indiana                 10385\n",
              "Puerto Rico             10327\n",
              "Arkansas                 9931\n",
              "Oklahoma                 9865\n",
              "Nevada                   9655\n",
              "Minnesota                9329\n",
              "Nebraska                 9028\n",
              "Massachusetts            8486\n",
              "Oregon                   8349\n",
              "Alabama                  6178\n",
              "Washington               6139\n",
              "Mississippi              5934\n",
              "Colorado                 5642\n",
              "Utah                     5571\n",
              "Maryland                 5334\n",
              "District of Columbia     4525\n",
              "South Dakota             4492\n",
              "New Mexico               4056\n",
              "Connecticut              3959\n",
              "New Jersey               3322\n",
              "Rhode Island             3131\n",
              "Idaho                    2818\n",
              "Maine                    2521\n",
              "New Hampshire            2450\n",
              "Wyoming                  1999\n",
              "North Dakota             1611\n",
              "Delaware                 1603\n",
              "Montana                  1411\n",
              "Vermont                   967\n",
              "Name: State, dtype: int64"
            ]
          },
          "metadata": {},
          "execution_count": 165
        }
      ]
    },
    {
      "cell_type": "code",
      "source": [
        "# Create the countplot\n",
        "sns.countplot(x=\"Died_during_ed_visit\", data=df4)\n",
        "\n",
        "# Add labels and title\n",
        "plt.xlabel(\"Died_during_ed_visit\")\n",
        "plt.ylabel(\"Count\")\n",
        "plt.title(\"Died during the visits\")\n",
        "\n",
        "# Show the plot\n",
        "plt.show()"
      ],
      "metadata": {
        "colab": {
          "base_uri": "https://localhost:8080/",
          "height": 472
        },
        "id": "gsWimBs87TJr",
        "outputId": "ebdd42bb-c2d7-4d1c-b759-288bf6c03991"
      },
      "execution_count": 154,
      "outputs": [
        {
          "output_type": "display_data",
          "data": {
            "text/plain": [
              "<Figure size 640x480 with 1 Axes>"
            ],
            "image/png": "[encoded data removed]"
          },
          "metadata": {}
        }
      ]
    },
    {
      "cell_type": "code",
      "source": [
        "df4.Died_during_ed_visit.value_counts()"
      ],
      "metadata": {
        "colab": {
          "base_uri": "https://localhost:8080/"
        },
        "id": "d7IqpnTP7vmO",
        "outputId": "ae354e10-5107-440f-c8fb-5b489f1ea3a2"
      },
      "execution_count": 163,
      "outputs": [
        {
          "output_type": "execute_result",
          "data": {
            "text/plain": [
              "No     549746\n",
              "Yes       111\n",
              "Name: Died_during_ed_visit, dtype: int64"
            ]
          },
          "metadata": {},
          "execution_count": 163
        }
      ]
    },
    {
      "cell_type": "code",
      "source": [],
      "metadata": {
        "id": "Ww5J7p5h8H4N"
      },
      "execution_count": null,
      "outputs": []
    }
  ]
}