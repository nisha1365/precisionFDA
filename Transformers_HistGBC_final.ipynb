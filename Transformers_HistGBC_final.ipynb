{
  "cells": [
    {
      "cell_type": "markdown",
      "metadata": {
        "id": "view-in-github",
        "colab_type": "text"
      },
      "source": [
        "<a href=\"https://colab.research.google.com/github/nisha1365/precisionFDA/blob/main/Transformers_HistGBC_final.ipynb\" target=\"_parent\"><img src=\"https://colab.research.google.com/assets/colab-badge.svg\" alt=\"Open In Colab\"/></a>"
      ]
    },
    {
      "cell_type": "code",
      "source": [
        "import pandas as pd\n",
        "import numpy as np"
      ],
      "outputs": [],
      "execution_count": null,
      "metadata": {
        "gather": {
          "logged": 1689764868695
        },
        "id": "By8Bbr-cXR0w"
      }
    },
    {
      "cell_type": "code",
      "source": [
        "sample_df = pd.read_csv('/mnt/batch/tasks/shared/LS_root/mounts/clusters/nisha-gpu3/code/Users/900379/Final_data_frames/Sample_train_30K.csv')\n",
        "sample_df"
      ],
      "outputs": [
        {
          "output_type": "execute_result",
          "execution_count": 3,
          "data": {
            "text/plain": "       Unnamed: 0  Internalpatientid  \\\n0          112422             143813   \n1           37897              48430   \n2           17169              21949   \n3           71014              90695   \n4          108915             139292   \n...           ...                ...   \n29995      111856             143087   \n29996       65325              83441   \n29997      128669             164680   \n29998       13864              17711   \n29999      104231             133230   \n\n                        Condition_code_icd10_subcategory  \\\n0      69_Dental caries on smooth surface,69_Dental c...   \n1      76_Low back pain,76_Cervicalgia,76_Other stres...   \n2      85_Problem related to unspecified psychosocial...   \n3      74_Type 2 diabetes mellitus with neurological ...   \n4      93_Sleep apnea,93_Presence of cardiac pacemake...   \n...                                                  ...   \n29995  69_Long term (current) use of anticoagulants a...   \n29996                      85_Other specified counseling   \n29997  58_Alcohol dependence,58_Alcohol dependence,58...   \n29998                      65_Encounter for immunization   \n29999  82_Encounter for immunization,82_Hematuria, un...   \n\n                                            immunization  \\\n0      68_TD (ADULT), 2 LF TETANUS TOXOID, PRESERVATI...   \n1      75_COVID-19 (PFIZER), MRNA, LNP-S, PF, 30 MCG/...   \n2      84_INFLUENZA, INJECTABLE, QUADRIVALENT, PRESER...   \n3      71_FLU,3 YRS (HISTORICAL),71_INFLUENZA, UNSPEC...   \n4                       92_INFLUENZA, HIGH DOSE SEASONAL   \n...                                                  ...   \n29995  68_INFLUENZA, UNSPECIFIED FORMULATION,68_INFLU...   \n29996              85_INFLUENZA, UNSPECIFIED FORMULATION   \n29997              57_INFLUENZA, UNSPECIFIED FORMULATION   \n29998  65_COVID-19 (MODERNA), MRNA, LNP-S, PF, 100 MC...   \n29999  82_INFLUENZA, HIGH DOSE SEASONAL,82_PNEUMOCOCC...   \n\n                             Lab_test_description_Result  Diastolic bp  \\\n0      69_WBC_9.69,69_Hct_36.51,69_MPV_8.67,69_PLT_19...          69.0   \n1      75_A1c_8.24,75_AST_12.0,75_A/G RATIO_1.0,75_PO...          63.0   \n2      84_Mcv_88.08,84_CBC COMPLETED_Y,84_NUCLEATED R...          75.0   \n3      73_LDL (CALC.)_27.0,73_SODIUM (LAB USE ONLY)_1...          79.0   \n4      93_ABSOLUTE LYMPHOCYTE COUNT_1.7,93_RDW_15.27,...          79.0   \n...                                                  ...           ...   \n29995                                        69_INR_1.03          74.0   \n29996  85_CHLORIDE (FV)_86.0,85_TOTAL BILIRUBIN (FV)_...          62.0   \n29997  57_TOTAL PROTEIN (URINE)*_7.82,57_ALBUMIN *_4....          99.0   \n29998  63_HEPATITIS B SURFACE ANTIBODY, QUANT_6.63,63...          81.0   \n29999  82_URINE BILIRUBIN_NEG,82_AUTOMATED MICROSCOPI...          60.0   \n\n       Systolic bp  Pain  Pulse  Respiratory rate  Temperature  death  \n0            120.0   7.0   86.0              18.0    93.482373      1  \n1             89.0   9.0   95.0              21.0    99.936185      0  \n2            154.0   0.0   78.0              16.0    99.815148      1  \n3            112.0   1.0    1.0               1.0     1.000000      1  \n4            134.0   0.0   61.0              16.0    98.868134      1  \n...            ...   ...    ...               ...          ...    ...  \n29995        113.0   0.0   93.0              20.0    92.916039      1  \n29996        140.0   3.0   66.0              20.0   100.179957      1  \n29997        170.0   0.0  107.0              21.0    96.000000      1  \n29998        160.0   0.0   77.0              18.0   101.672149      1  \n29999        191.0   2.0   67.0              21.0    94.704138      1  \n\n[30000 rows x 12 columns]",
            "text/html": "<div>\n<style scoped>\n    .dataframe tbody tr th:only-of-type {\n        vertical-align: middle;\n    }\n\n    .dataframe tbody tr th {\n        vertical-align: top;\n    }\n\n    .dataframe thead th {\n        text-align: right;\n    }\n</style>\n<table border=\"1\" class=\"dataframe\">\n  <thead>\n    <tr style=\"text-align: right;\">\n      <th></th>\n      <th>Unnamed: 0</th>\n      <th>Internalpatientid</th>\n      <th>Condition_code_icd10_subcategory</th>\n      <th>immunization</th>\n      <th>Lab_test_description_Result</th>\n      <th>Diastolic bp</th>\n      <th>Systolic bp</th>\n      <th>Pain</th>\n      <th>Pulse</th>\n      <th>Respiratory rate</th>\n      <th>Temperature</th>\n      <th>death</th>\n    </tr>\n  </thead>\n  <tbody>\n    <tr>\n      <th>0</th>\n      <td>112422</td>\n      <td>143813</td>\n      <td>69_Dental caries on smooth surface,69_Dental c...</td>\n      <td>68_TD (ADULT), 2 LF TETANUS TOXOID, PRESERVATI...</td>\n      <td>69_WBC_9.69,69_Hct_36.51,69_MPV_8.67,69_PLT_19...</td>\n      <td>69.0</td>\n      <td>120.0</td>\n      <td>7.0</td>\n      <td>86.0</td>\n      <td>18.0</td>\n      <td>93.482373</td>\n      <td>1</td>\n    </tr>\n    <tr>\n      <th>1</th>\n      <td>37897</td>\n      <td>48430</td>\n      <td>76_Low back pain,76_Cervicalgia,76_Other stres...</td>\n      <td>75_COVID-19 (PFIZER), MRNA, LNP-S, PF, 30 MCG/...</td>\n      <td>75_A1c_8.24,75_AST_12.0,75_A/G RATIO_1.0,75_PO...</td>\n      <td>63.0</td>\n      <td>89.0</td>\n      <td>9.0</td>\n      <td>95.0</td>\n      <td>21.0</td>\n      <td>99.936185</td>\n      <td>0</td>\n    </tr>\n    <tr>\n      <th>2</th>\n      <td>17169</td>\n      <td>21949</td>\n      <td>85_Problem related to unspecified psychosocial...</td>\n      <td>84_INFLUENZA, INJECTABLE, QUADRIVALENT, PRESER...</td>\n      <td>84_Mcv_88.08,84_CBC COMPLETED_Y,84_NUCLEATED R...</td>\n      <td>75.0</td>\n      <td>154.0</td>\n      <td>0.0</td>\n      <td>78.0</td>\n      <td>16.0</td>\n      <td>99.815148</td>\n      <td>1</td>\n    </tr>\n    <tr>\n      <th>3</th>\n      <td>71014</td>\n      <td>90695</td>\n      <td>74_Type 2 diabetes mellitus with neurological ...</td>\n      <td>71_FLU,3 YRS (HISTORICAL),71_INFLUENZA, UNSPEC...</td>\n      <td>73_LDL (CALC.)_27.0,73_SODIUM (LAB USE ONLY)_1...</td>\n      <td>79.0</td>\n      <td>112.0</td>\n      <td>1.0</td>\n      <td>1.0</td>\n      <td>1.0</td>\n      <td>1.000000</td>\n      <td>1</td>\n    </tr>\n    <tr>\n      <th>4</th>\n      <td>108915</td>\n      <td>139292</td>\n      <td>93_Sleep apnea,93_Presence of cardiac pacemake...</td>\n      <td>92_INFLUENZA, HIGH DOSE SEASONAL</td>\n      <td>93_ABSOLUTE LYMPHOCYTE COUNT_1.7,93_RDW_15.27,...</td>\n      <td>79.0</td>\n      <td>134.0</td>\n      <td>0.0</td>\n      <td>61.0</td>\n      <td>16.0</td>\n      <td>98.868134</td>\n      <td>1</td>\n    </tr>\n    <tr>\n      <th>...</th>\n      <td>...</td>\n      <td>...</td>\n      <td>...</td>\n      <td>...</td>\n      <td>...</td>\n      <td>...</td>\n      <td>...</td>\n      <td>...</td>\n      <td>...</td>\n      <td>...</td>\n      <td>...</td>\n      <td>...</td>\n    </tr>\n    <tr>\n      <th>29995</th>\n      <td>111856</td>\n      <td>143087</td>\n      <td>69_Long term (current) use of anticoagulants a...</td>\n      <td>68_INFLUENZA, UNSPECIFIED FORMULATION,68_INFLU...</td>\n      <td>69_INR_1.03</td>\n      <td>74.0</td>\n      <td>113.0</td>\n      <td>0.0</td>\n      <td>93.0</td>\n      <td>20.0</td>\n      <td>92.916039</td>\n      <td>1</td>\n    </tr>\n    <tr>\n      <th>29996</th>\n      <td>65325</td>\n      <td>83441</td>\n      <td>85_Other specified counseling</td>\n      <td>85_INFLUENZA, UNSPECIFIED FORMULATION</td>\n      <td>85_CHLORIDE (FV)_86.0,85_TOTAL BILIRUBIN (FV)_...</td>\n      <td>62.0</td>\n      <td>140.0</td>\n      <td>3.0</td>\n      <td>66.0</td>\n      <td>20.0</td>\n      <td>100.179957</td>\n      <td>1</td>\n    </tr>\n    <tr>\n      <th>29997</th>\n      <td>128669</td>\n      <td>164680</td>\n      <td>58_Alcohol dependence,58_Alcohol dependence,58...</td>\n      <td>57_INFLUENZA, UNSPECIFIED FORMULATION</td>\n      <td>57_TOTAL PROTEIN (URINE)*_7.82,57_ALBUMIN *_4....</td>\n      <td>99.0</td>\n      <td>170.0</td>\n      <td>0.0</td>\n      <td>107.0</td>\n      <td>21.0</td>\n      <td>96.000000</td>\n      <td>1</td>\n    </tr>\n    <tr>\n      <th>29998</th>\n      <td>13864</td>\n      <td>17711</td>\n      <td>65_Encounter for immunization</td>\n      <td>65_COVID-19 (MODERNA), MRNA, LNP-S, PF, 100 MC...</td>\n      <td>63_HEPATITIS B SURFACE ANTIBODY, QUANT_6.63,63...</td>\n      <td>81.0</td>\n      <td>160.0</td>\n      <td>0.0</td>\n      <td>77.0</td>\n      <td>18.0</td>\n      <td>101.672149</td>\n      <td>1</td>\n    </tr>\n    <tr>\n      <th>29999</th>\n      <td>104231</td>\n      <td>133230</td>\n      <td>82_Encounter for immunization,82_Hematuria, un...</td>\n      <td>82_INFLUENZA, HIGH DOSE SEASONAL,82_PNEUMOCOCC...</td>\n      <td>82_URINE BILIRUBIN_NEG,82_AUTOMATED MICROSCOPI...</td>\n      <td>60.0</td>\n      <td>191.0</td>\n      <td>2.0</td>\n      <td>67.0</td>\n      <td>21.0</td>\n      <td>94.704138</td>\n      <td>1</td>\n    </tr>\n  </tbody>\n</table>\n<p>30000 rows × 12 columns</p>\n</div>"
          },
          "metadata": {}
        }
      ],
      "execution_count": null,
      "metadata": {
        "jupyter": {
          "source_hidden": false,
          "outputs_hidden": false
        },
        "nteract": {
          "transient": {
            "deleting": false
          }
        },
        "gather": {
          "logged": 1689764871037
        },
        "id": "WFwoaZ3EXR00",
        "outputId": "3f29c204-edb2-47d9-f8e8-70d765d146b0"
      }
    },
    {
      "cell_type": "code",
      "source": [
        "sample_df.drop('Unnamed: 0', axis = 1, inplace = True)\n",
        "sample_df.head()"
      ],
      "outputs": [
        {
          "output_type": "execute_result",
          "execution_count": 4,
          "data": {
            "text/plain": "   Internalpatientid                   Condition_code_icd10_subcategory  \\\n0             143813  69_Dental caries on smooth surface,69_Dental c...   \n1              48430  76_Low back pain,76_Cervicalgia,76_Other stres...   \n2              21949  85_Problem related to unspecified psychosocial...   \n3              90695  74_Type 2 diabetes mellitus with neurological ...   \n4             139292  93_Sleep apnea,93_Presence of cardiac pacemake...   \n\n                                        immunization  \\\n0  68_TD (ADULT), 2 LF TETANUS TOXOID, PRESERVATI...   \n1  75_COVID-19 (PFIZER), MRNA, LNP-S, PF, 30 MCG/...   \n2  84_INFLUENZA, INJECTABLE, QUADRIVALENT, PRESER...   \n3  71_FLU,3 YRS (HISTORICAL),71_INFLUENZA, UNSPEC...   \n4                   92_INFLUENZA, HIGH DOSE SEASONAL   \n\n                         Lab_test_description_Result  Diastolic bp  \\\n0  69_WBC_9.69,69_Hct_36.51,69_MPV_8.67,69_PLT_19...          69.0   \n1  75_A1c_8.24,75_AST_12.0,75_A/G RATIO_1.0,75_PO...          63.0   \n2  84_Mcv_88.08,84_CBC COMPLETED_Y,84_NUCLEATED R...          75.0   \n3  73_LDL (CALC.)_27.0,73_SODIUM (LAB USE ONLY)_1...          79.0   \n4  93_ABSOLUTE LYMPHOCYTE COUNT_1.7,93_RDW_15.27,...          79.0   \n\n   Systolic bp  Pain  Pulse  Respiratory rate  Temperature  death  \n0        120.0   7.0   86.0              18.0    93.482373      1  \n1         89.0   9.0   95.0              21.0    99.936185      0  \n2        154.0   0.0   78.0              16.0    99.815148      1  \n3        112.0   1.0    1.0               1.0     1.000000      1  \n4        134.0   0.0   61.0              16.0    98.868134      1  ",
            "text/html": "<div>\n<style scoped>\n    .dataframe tbody tr th:only-of-type {\n        vertical-align: middle;\n    }\n\n    .dataframe tbody tr th {\n        vertical-align: top;\n    }\n\n    .dataframe thead th {\n        text-align: right;\n    }\n</style>\n<table border=\"1\" class=\"dataframe\">\n  <thead>\n    <tr style=\"text-align: right;\">\n      <th></th>\n      <th>Internalpatientid</th>\n      <th>Condition_code_icd10_subcategory</th>\n      <th>immunization</th>\n      <th>Lab_test_description_Result</th>\n      <th>Diastolic bp</th>\n      <th>Systolic bp</th>\n      <th>Pain</th>\n      <th>Pulse</th>\n      <th>Respiratory rate</th>\n      <th>Temperature</th>\n      <th>death</th>\n    </tr>\n  </thead>\n  <tbody>\n    <tr>\n      <th>0</th>\n      <td>143813</td>\n      <td>69_Dental caries on smooth surface,69_Dental c...</td>\n      <td>68_TD (ADULT), 2 LF TETANUS TOXOID, PRESERVATI...</td>\n      <td>69_WBC_9.69,69_Hct_36.51,69_MPV_8.67,69_PLT_19...</td>\n      <td>69.0</td>\n      <td>120.0</td>\n      <td>7.0</td>\n      <td>86.0</td>\n      <td>18.0</td>\n      <td>93.482373</td>\n      <td>1</td>\n    </tr>\n    <tr>\n      <th>1</th>\n      <td>48430</td>\n      <td>76_Low back pain,76_Cervicalgia,76_Other stres...</td>\n      <td>75_COVID-19 (PFIZER), MRNA, LNP-S, PF, 30 MCG/...</td>\n      <td>75_A1c_8.24,75_AST_12.0,75_A/G RATIO_1.0,75_PO...</td>\n      <td>63.0</td>\n      <td>89.0</td>\n      <td>9.0</td>\n      <td>95.0</td>\n      <td>21.0</td>\n      <td>99.936185</td>\n      <td>0</td>\n    </tr>\n    <tr>\n      <th>2</th>\n      <td>21949</td>\n      <td>85_Problem related to unspecified psychosocial...</td>\n      <td>84_INFLUENZA, INJECTABLE, QUADRIVALENT, PRESER...</td>\n      <td>84_Mcv_88.08,84_CBC COMPLETED_Y,84_NUCLEATED R...</td>\n      <td>75.0</td>\n      <td>154.0</td>\n      <td>0.0</td>\n      <td>78.0</td>\n      <td>16.0</td>\n      <td>99.815148</td>\n      <td>1</td>\n    </tr>\n    <tr>\n      <th>3</th>\n      <td>90695</td>\n      <td>74_Type 2 diabetes mellitus with neurological ...</td>\n      <td>71_FLU,3 YRS (HISTORICAL),71_INFLUENZA, UNSPEC...</td>\n      <td>73_LDL (CALC.)_27.0,73_SODIUM (LAB USE ONLY)_1...</td>\n      <td>79.0</td>\n      <td>112.0</td>\n      <td>1.0</td>\n      <td>1.0</td>\n      <td>1.0</td>\n      <td>1.000000</td>\n      <td>1</td>\n    </tr>\n    <tr>\n      <th>4</th>\n      <td>139292</td>\n      <td>93_Sleep apnea,93_Presence of cardiac pacemake...</td>\n      <td>92_INFLUENZA, HIGH DOSE SEASONAL</td>\n      <td>93_ABSOLUTE LYMPHOCYTE COUNT_1.7,93_RDW_15.27,...</td>\n      <td>79.0</td>\n      <td>134.0</td>\n      <td>0.0</td>\n      <td>61.0</td>\n      <td>16.0</td>\n      <td>98.868134</td>\n      <td>1</td>\n    </tr>\n  </tbody>\n</table>\n</div>"
          },
          "metadata": {}
        }
      ],
      "execution_count": null,
      "metadata": {
        "jupyter": {
          "source_hidden": false,
          "outputs_hidden": false
        },
        "nteract": {
          "transient": {
            "deleting": false
          }
        },
        "gather": {
          "logged": 1689764874282
        },
        "id": "zoGG8e0qXR03",
        "outputId": "a740fa64-5770-4235-a2bc-9cdf59b39416"
      }
    },
    {
      "cell_type": "code",
      "source": [
        "df_train_text = sample_df[['Condition_code_icd10_subcategory', 'Lab_test_description_Result', 'immunization']]\n",
        "df_train_num = sample_df[['Pain', 'Pulse', 'Respiratory rate', 'Temperature', 'Diastolic bp', 'Systolic bp']]\n",
        "target_train = sample_df[['death']]"
      ],
      "outputs": [],
      "execution_count": null,
      "metadata": {
        "jupyter": {
          "source_hidden": false,
          "outputs_hidden": false
        },
        "nteract": {
          "transient": {
            "deleting": false
          }
        },
        "gather": {
          "logged": 1689764878168
        },
        "id": "dsfSphI6XR03"
      }
    },
    {
      "cell_type": "code",
      "source": [
        "target_train['death'].value_counts()"
      ],
      "outputs": [
        {
          "output_type": "execute_result",
          "execution_count": 6,
          "data": {
            "text/plain": "1    21984\n0     8016\nName: death, dtype: int64"
          },
          "metadata": {}
        }
      ],
      "execution_count": null,
      "metadata": {
        "jupyter": {
          "source_hidden": false,
          "outputs_hidden": false
        },
        "nteract": {
          "transient": {
            "deleting": false
          }
        },
        "gather": {
          "logged": 1689764881214
        },
        "id": "dC6U3bvoXR04",
        "outputId": "e973ecfb-8be3-4715-bb91-3d73689fff3d"
      }
    },
    {
      "cell_type": "code",
      "source": [
        "df_train_text"
      ],
      "outputs": [
        {
          "output_type": "execute_result",
          "execution_count": 7,
          "data": {
            "text/plain": "                        Condition_code_icd10_subcategory  \\\n0      69_Dental caries on smooth surface,69_Dental c...   \n1      76_Low back pain,76_Cervicalgia,76_Other stres...   \n2      85_Problem related to unspecified psychosocial...   \n3      74_Type 2 diabetes mellitus with neurological ...   \n4      93_Sleep apnea,93_Presence of cardiac pacemake...   \n...                                                  ...   \n29995  69_Long term (current) use of anticoagulants a...   \n29996                      85_Other specified counseling   \n29997  58_Alcohol dependence,58_Alcohol dependence,58...   \n29998                      65_Encounter for immunization   \n29999  82_Encounter for immunization,82_Hematuria, un...   \n\n                             Lab_test_description_Result  \\\n0      69_WBC_9.69,69_Hct_36.51,69_MPV_8.67,69_PLT_19...   \n1      75_A1c_8.24,75_AST_12.0,75_A/G RATIO_1.0,75_PO...   \n2      84_Mcv_88.08,84_CBC COMPLETED_Y,84_NUCLEATED R...   \n3      73_LDL (CALC.)_27.0,73_SODIUM (LAB USE ONLY)_1...   \n4      93_ABSOLUTE LYMPHOCYTE COUNT_1.7,93_RDW_15.27,...   \n...                                                  ...   \n29995                                        69_INR_1.03   \n29996  85_CHLORIDE (FV)_86.0,85_TOTAL BILIRUBIN (FV)_...   \n29997  57_TOTAL PROTEIN (URINE)*_7.82,57_ALBUMIN *_4....   \n29998  63_HEPATITIS B SURFACE ANTIBODY, QUANT_6.63,63...   \n29999  82_URINE BILIRUBIN_NEG,82_AUTOMATED MICROSCOPI...   \n\n                                            immunization  \n0      68_TD (ADULT), 2 LF TETANUS TOXOID, PRESERVATI...  \n1      75_COVID-19 (PFIZER), MRNA, LNP-S, PF, 30 MCG/...  \n2      84_INFLUENZA, INJECTABLE, QUADRIVALENT, PRESER...  \n3      71_FLU,3 YRS (HISTORICAL),71_INFLUENZA, UNSPEC...  \n4                       92_INFLUENZA, HIGH DOSE SEASONAL  \n...                                                  ...  \n29995  68_INFLUENZA, UNSPECIFIED FORMULATION,68_INFLU...  \n29996              85_INFLUENZA, UNSPECIFIED FORMULATION  \n29997              57_INFLUENZA, UNSPECIFIED FORMULATION  \n29998  65_COVID-19 (MODERNA), MRNA, LNP-S, PF, 100 MC...  \n29999  82_INFLUENZA, HIGH DOSE SEASONAL,82_PNEUMOCOCC...  \n\n[30000 rows x 3 columns]",
            "text/html": "<div>\n<style scoped>\n    .dataframe tbody tr th:only-of-type {\n        vertical-align: middle;\n    }\n\n    .dataframe tbody tr th {\n        vertical-align: top;\n    }\n\n    .dataframe thead th {\n        text-align: right;\n    }\n</style>\n<table border=\"1\" class=\"dataframe\">\n  <thead>\n    <tr style=\"text-align: right;\">\n      <th></th>\n      <th>Condition_code_icd10_subcategory</th>\n      <th>Lab_test_description_Result</th>\n      <th>immunization</th>\n    </tr>\n  </thead>\n  <tbody>\n    <tr>\n      <th>0</th>\n      <td>69_Dental caries on smooth surface,69_Dental c...</td>\n      <td>69_WBC_9.69,69_Hct_36.51,69_MPV_8.67,69_PLT_19...</td>\n      <td>68_TD (ADULT), 2 LF TETANUS TOXOID, PRESERVATI...</td>\n    </tr>\n    <tr>\n      <th>1</th>\n      <td>76_Low back pain,76_Cervicalgia,76_Other stres...</td>\n      <td>75_A1c_8.24,75_AST_12.0,75_A/G RATIO_1.0,75_PO...</td>\n      <td>75_COVID-19 (PFIZER), MRNA, LNP-S, PF, 30 MCG/...</td>\n    </tr>\n    <tr>\n      <th>2</th>\n      <td>85_Problem related to unspecified psychosocial...</td>\n      <td>84_Mcv_88.08,84_CBC COMPLETED_Y,84_NUCLEATED R...</td>\n      <td>84_INFLUENZA, INJECTABLE, QUADRIVALENT, PRESER...</td>\n    </tr>\n    <tr>\n      <th>3</th>\n      <td>74_Type 2 diabetes mellitus with neurological ...</td>\n      <td>73_LDL (CALC.)_27.0,73_SODIUM (LAB USE ONLY)_1...</td>\n      <td>71_FLU,3 YRS (HISTORICAL),71_INFLUENZA, UNSPEC...</td>\n    </tr>\n    <tr>\n      <th>4</th>\n      <td>93_Sleep apnea,93_Presence of cardiac pacemake...</td>\n      <td>93_ABSOLUTE LYMPHOCYTE COUNT_1.7,93_RDW_15.27,...</td>\n      <td>92_INFLUENZA, HIGH DOSE SEASONAL</td>\n    </tr>\n    <tr>\n      <th>...</th>\n      <td>...</td>\n      <td>...</td>\n      <td>...</td>\n    </tr>\n    <tr>\n      <th>29995</th>\n      <td>69_Long term (current) use of anticoagulants a...</td>\n      <td>69_INR_1.03</td>\n      <td>68_INFLUENZA, UNSPECIFIED FORMULATION,68_INFLU...</td>\n    </tr>\n    <tr>\n      <th>29996</th>\n      <td>85_Other specified counseling</td>\n      <td>85_CHLORIDE (FV)_86.0,85_TOTAL BILIRUBIN (FV)_...</td>\n      <td>85_INFLUENZA, UNSPECIFIED FORMULATION</td>\n    </tr>\n    <tr>\n      <th>29997</th>\n      <td>58_Alcohol dependence,58_Alcohol dependence,58...</td>\n      <td>57_TOTAL PROTEIN (URINE)*_7.82,57_ALBUMIN *_4....</td>\n      <td>57_INFLUENZA, UNSPECIFIED FORMULATION</td>\n    </tr>\n    <tr>\n      <th>29998</th>\n      <td>65_Encounter for immunization</td>\n      <td>63_HEPATITIS B SURFACE ANTIBODY, QUANT_6.63,63...</td>\n      <td>65_COVID-19 (MODERNA), MRNA, LNP-S, PF, 100 MC...</td>\n    </tr>\n    <tr>\n      <th>29999</th>\n      <td>82_Encounter for immunization,82_Hematuria, un...</td>\n      <td>82_URINE BILIRUBIN_NEG,82_AUTOMATED MICROSCOPI...</td>\n      <td>82_INFLUENZA, HIGH DOSE SEASONAL,82_PNEUMOCOCC...</td>\n    </tr>\n  </tbody>\n</table>\n<p>30000 rows × 3 columns</p>\n</div>"
          },
          "metadata": {}
        }
      ],
      "execution_count": null,
      "metadata": {
        "jupyter": {
          "source_hidden": false,
          "outputs_hidden": false
        },
        "nteract": {
          "transient": {
            "deleting": false
          }
        },
        "gather": {
          "logged": 1689764884461
        },
        "id": "bzmALWtaXR05",
        "outputId": "e8c58e8c-ddd8-4855-ed05-589fc29f07cb"
      }
    },
    {
      "cell_type": "code",
      "source": [
        "pip install sentence-transformers"
      ],
      "outputs": [
        {
          "output_type": "stream",
          "name": "stdout",
          "text": "Collecting sentence-transformers\n  Using cached sentence-transformers-2.2.2.tar.gz (85 kB)\nRequirement already satisfied: transformers<5.0.0,>=4.6.0 in /anaconda/envs/azureml_py38/lib/python3.8/site-packages (from sentence-transformers) (4.30.2)\nRequirement already satisfied: tqdm in /anaconda/envs/azureml_py38/lib/python3.8/site-packages (from sentence-transformers) (4.64.1)\nRequirement already satisfied: torch>=1.6.0 in /anaconda/envs/azureml_py38/lib/python3.8/site-packages (from sentence-transformers) (1.12.0)\nRequirement already satisfied: torchvision in /anaconda/envs/azureml_py38/lib/python3.8/site-packages (from sentence-transformers) (0.9.1)\nRequirement already satisfied: numpy in /anaconda/envs/azureml_py38/lib/python3.8/site-packages (from sentence-transformers) (1.21.6)\nRequirement already satisfied: scikit-learn in /anaconda/envs/azureml_py38/lib/python3.8/site-packages (from sentence-transformers) (1.3.0)\nRequirement already satisfied: scipy in /anaconda/envs/azureml_py38/lib/python3.8/site-packages (from sentence-transformers) (1.10.1)\nRequirement already satisfied: nltk in /anaconda/envs/azureml_py38/lib/python3.8/site-packages (from sentence-transformers) (3.8.1)\nRequirement already satisfied: sentencepiece in /anaconda/envs/azureml_py38/lib/python3.8/site-packages (from sentence-transformers) (0.1.97)\nRequirement already satisfied: huggingface-hub>=0.4.0 in /anaconda/envs/azureml_py38/lib/python3.8/site-packages (from sentence-transformers) (0.12.0)\nRequirement already satisfied: regex!=2019.12.17 in /anaconda/envs/azureml_py38/lib/python3.8/site-packages (from transformers<5.0.0,>=4.6.0->sentence-transformers) (2022.10.31)\nRequirement already satisfied: tokenizers!=0.11.3,<0.14,>=0.11.1 in /anaconda/envs/azureml_py38/lib/python3.8/site-packages (from transformers<5.0.0,>=4.6.0->sentence-transformers) (0.13.2)\nRequirement already satisfied: pyyaml>=5.1 in /anaconda/envs/azureml_py38/lib/python3.8/site-packages (from transformers<5.0.0,>=4.6.0->sentence-transformers) (6.0)\nRequirement already satisfied: filelock in /anaconda/envs/azureml_py38/lib/python3.8/site-packages (from transformers<5.0.0,>=4.6.0->sentence-transformers) (3.7.1)\nRequirement already satisfied: safetensors>=0.3.1 in /anaconda/envs/azureml_py38/lib/python3.8/site-packages (from transformers<5.0.0,>=4.6.0->sentence-transformers) (0.3.1)\nRequirement already satisfied: packaging>=20.0 in /anaconda/envs/azureml_py38/lib/python3.8/site-packages (from transformers<5.0.0,>=4.6.0->sentence-transformers) (21.3)\nRequirement already satisfied: requests in /anaconda/envs/azureml_py38/lib/python3.8/site-packages (from transformers<5.0.0,>=4.6.0->sentence-transformers) (2.28.2)\nRequirement already satisfied: typing-extensions in /anaconda/envs/azureml_py38/lib/python3.8/site-packages (from torch>=1.6.0->sentence-transformers) (4.4.0)\nRequirement already satisfied: pillow>=4.1.1 in /anaconda/envs/azureml_py38/lib/python3.8/site-packages (from torchvision->sentence-transformers) (9.2.0)\nRequirement already satisfied: joblib>=1.1.1 in /anaconda/envs/azureml_py38/lib/python3.8/site-packages (from scikit-learn->sentence-transformers) (1.3.1)\nRequirement already satisfied: threadpoolctl>=2.0.0 in /anaconda/envs/azureml_py38/lib/python3.8/site-packages (from scikit-learn->sentence-transformers) (2.2.0)\nRequirement already satisfied: click in /anaconda/envs/azureml_py38/lib/python3.8/site-packages (from nltk->sentence-transformers) (8.1.3)\nRequirement already satisfied: pyparsing!=3.0.5,>=2.0.2 in /anaconda/envs/azureml_py38/lib/python3.8/site-packages (from packaging>=20.0->transformers<5.0.0,>=4.6.0->sentence-transformers) (3.0.9)\nRequirement already satisfied: charset-normalizer<4,>=2 in /anaconda/envs/azureml_py38/lib/python3.8/site-packages (from requests->transformers<5.0.0,>=4.6.0->sentence-transformers) (3.0.1)\nRequirement already satisfied: idna<4,>=2.5 in /anaconda/envs/azureml_py38/lib/python3.8/site-packages (from requests->transformers<5.0.0,>=4.6.0->sentence-transformers) (3.4)\nRequirement already satisfied: certifi>=2017.4.17 in /anaconda/envs/azureml_py38/lib/python3.8/site-packages (from requests->transformers<5.0.0,>=4.6.0->sentence-transformers) (2022.9.24)\nRequirement already satisfied: urllib3<1.27,>=1.21.1 in /anaconda/envs/azureml_py38/lib/python3.8/site-packages (from requests->transformers<5.0.0,>=4.6.0->sentence-transformers) (1.26.14)\nBuilding wheels for collected packages: sentence-transformers\n  Building wheel for sentence-transformers (setup.py) ... \u001b[?25l-\b \b\\\b \bdone\n\u001b[?25h  Created wheel for sentence-transformers: filename=sentence_transformers-2.2.2-py3-none-any.whl size=125919 sha256=bb0c15885b15b0ee3cb5307015344ee36f095c29ea3308aa51421adcd6ca959e\n  Stored in directory: /home/azureuser/.cache/pip/wheels/5e/6f/8c/d88aec621f3f542d26fac0342bef5e693335d125f4e54aeffe\nSuccessfully built sentence-transformers\nInstalling collected packages: sentence-transformers\nSuccessfully installed sentence-transformers-2.2.2\nNote: you may need to restart the kernel to use updated packages.\n"
        }
      ],
      "execution_count": null,
      "metadata": {
        "jupyter": {
          "source_hidden": false,
          "outputs_hidden": false
        },
        "nteract": {
          "transient": {
            "deleting": false
          }
        },
        "gather": {
          "logged": 1689764895335
        },
        "id": "xjEqLS7WXR06",
        "outputId": "0d9399e4-c818-49d8-af1a-581b2155b41e"
      }
    },
    {
      "cell_type": "code",
      "source": [
        "from sentence_transformers import SentenceTransformer\n",
        "\n",
        "model_name = 'paraphrase-MiniLM-L6-v2'\n",
        "model = SentenceTransformer(model_name)"
      ],
      "outputs": [],
      "execution_count": null,
      "metadata": {
        "jupyter": {
          "source_hidden": false,
          "outputs_hidden": false
        },
        "nteract": {
          "transient": {
            "deleting": false
          }
        },
        "gather": {
          "logged": 1689764941061
        },
        "id": "FIjLKeJOXR07"
      }
    },
    {
      "cell_type": "code",
      "source": [
        "# Define the desired vector size\n",
        "vector_size = 25  # Change this to your desired size\n",
        "\n",
        "# Define a padding function\n",
        "def pad_or_truncate(embeddings, vector_size):\n",
        "    num_embeddings = len(embeddings)\n",
        "    if num_embeddings < vector_size:\n",
        "        # Pad the embeddings with zero vectors\n",
        "        padding = np.zeros((vector_size - num_embeddings, embeddings.shape[1]))\n",
        "        embeddings = np.concatenate((embeddings, padding))\n",
        "    elif num_embeddings > vector_size:\n",
        "        # Truncate the embeddings\n",
        "        embeddings = embeddings[:vector_size]\n",
        "    return embeddings\n",
        "\n",
        "# Define a function to get embeddings for comma-separated text\n",
        "def get_embeddings(text, model):\n",
        "    # Split the comma-separated text into individual items\n",
        "    items = text.split(',')\n",
        "    # Get embeddings for each item using the Sentence Transformer model\n",
        "    embeddings = model.encode(items)\n",
        "    # Pad or truncate the embeddings to ensure consistent size\n",
        "    embeddings = pad_or_truncate(embeddings, vector_size)\n",
        "    # Return the embeddings as a list\n",
        "    return embeddings.tolist()\n",
        "\n",
        "# Assuming df_train_text is your DataFrame with the 'condition', 'lab', and 'immunization' columns\n",
        "\n",
        "# Apply the function to the 'condition' column\n",
        "df_train_text['condition_embeddings'] = df_train_text['Condition_code_icd10_subcategory'].apply(lambda x: get_embeddings(x,model))\n",
        "\n",
        "# Apply the function to the 'lab' column\n",
        "df_train_text['lab_embeddings'] = df_train_text['Lab_test_description_Result'].apply(lambda x: get_embeddings(x,model))\n",
        "\n",
        "# Apply the function to the 'immunization' column\n",
        "df_train_text['immunization_embeddings'] = df_train_text['immunization'].apply(lambda x: get_embeddings(x,model))\n",
        "\n",
        "# Now you have three new columns in the DataFrame, each containing the word embeddings for the respective comma-separated text,\n",
        "# with the vectors having the same size of `vector_size`.\n",
        "# You can save this DataFrame or use it for further analysis."
      ],
      "outputs": [
        {
          "output_type": "stream",
          "name": "stderr",
          "text": "/tmp/ipykernel_39960/506314678.py:30: SettingWithCopyWarning: \nA value is trying to be set on a copy of a slice from a DataFrame.\nTry using .loc[row_indexer,col_indexer] = value instead\n\nSee the caveats in the documentation: https://pandas.pydata.org/pandas-docs/stable/user_guide/indexing.html#returning-a-view-versus-a-copy\n  df_train_text['condition_embeddings'] = df_train_text['Condition_code_icd10_subcategory'].apply(lambda x: get_embeddings(x,model))\n/tmp/ipykernel_39960/506314678.py:33: SettingWithCopyWarning: \nA value is trying to be set on a copy of a slice from a DataFrame.\nTry using .loc[row_indexer,col_indexer] = value instead\n\nSee the caveats in the documentation: https://pandas.pydata.org/pandas-docs/stable/user_guide/indexing.html#returning-a-view-versus-a-copy\n  df_train_text['lab_embeddings'] = df_train_text['Lab_test_description_Result'].apply(lambda x: get_embeddings(x,model))\n/tmp/ipykernel_39960/506314678.py:36: SettingWithCopyWarning: \nA value is trying to be set on a copy of a slice from a DataFrame.\nTry using .loc[row_indexer,col_indexer] = value instead\n\nSee the caveats in the documentation: https://pandas.pydata.org/pandas-docs/stable/user_guide/indexing.html#returning-a-view-versus-a-copy\n  df_train_text['immunization_embeddings'] = df_train_text['immunization'].apply(lambda x: get_embeddings(x,model))\n"
        }
      ],
      "execution_count": null,
      "metadata": {
        "jupyter": {
          "source_hidden": false,
          "outputs_hidden": false
        },
        "nteract": {
          "transient": {
            "deleting": false
          }
        },
        "gather": {
          "logged": 1689766312684
        },
        "id": "xuBfnvHmXR08",
        "outputId": "8af2e6a6-a6d3-41d9-9732-7fcd6f0d4642"
      }
    },
    {
      "cell_type": "code",
      "source": [
        "# Save the model for each column seperatly\n",
        "condition_model = SentenceTransformer(model_name)\n",
        "condition_model.save(\"condition_model\")\n",
        "\n",
        "lab_model = SentenceTransformer(model_name)\n",
        "lab_model.save(\"lab_model\")\n",
        "\n",
        "immunization_model = SentenceTransformer(model_name)\n",
        "immunization_model.save(\"immunization_model\")"
      ],
      "outputs": [],
      "execution_count": null,
      "metadata": {
        "jupyter": {
          "source_hidden": false,
          "outputs_hidden": false
        },
        "nteract": {
          "transient": {
            "deleting": false
          }
        },
        "gather": {
          "logged": 1689766462466
        },
        "id": "yaf28eLlXR09"
      }
    },
    {
      "cell_type": "code",
      "source": [
        "df_train_text"
      ],
      "outputs": [
        {
          "output_type": "execute_result",
          "execution_count": 13,
          "data": {
            "text/plain": "                        Condition_code_icd10_subcategory  \\\n0      69_Dental caries on smooth surface,69_Dental c...   \n1      76_Low back pain,76_Cervicalgia,76_Other stres...   \n2      85_Problem related to unspecified psychosocial...   \n3      74_Type 2 diabetes mellitus with neurological ...   \n4      93_Sleep apnea,93_Presence of cardiac pacemake...   \n...                                                  ...   \n29995  69_Long term (current) use of anticoagulants a...   \n29996                      85_Other specified counseling   \n29997  58_Alcohol dependence,58_Alcohol dependence,58...   \n29998                      65_Encounter for immunization   \n29999  82_Encounter for immunization,82_Hematuria, un...   \n\n                             Lab_test_description_Result  \\\n0      69_WBC_9.69,69_Hct_36.51,69_MPV_8.67,69_PLT_19...   \n1      75_A1c_8.24,75_AST_12.0,75_A/G RATIO_1.0,75_PO...   \n2      84_Mcv_88.08,84_CBC COMPLETED_Y,84_NUCLEATED R...   \n3      73_LDL (CALC.)_27.0,73_SODIUM (LAB USE ONLY)_1...   \n4      93_ABSOLUTE LYMPHOCYTE COUNT_1.7,93_RDW_15.27,...   \n...                                                  ...   \n29995                                        69_INR_1.03   \n29996  85_CHLORIDE (FV)_86.0,85_TOTAL BILIRUBIN (FV)_...   \n29997  57_TOTAL PROTEIN (URINE)*_7.82,57_ALBUMIN *_4....   \n29998  63_HEPATITIS B SURFACE ANTIBODY, QUANT_6.63,63...   \n29999  82_URINE BILIRUBIN_NEG,82_AUTOMATED MICROSCOPI...   \n\n                                            immunization  \\\n0      68_TD (ADULT), 2 LF TETANUS TOXOID, PRESERVATI...   \n1      75_COVID-19 (PFIZER), MRNA, LNP-S, PF, 30 MCG/...   \n2      84_INFLUENZA, INJECTABLE, QUADRIVALENT, PRESER...   \n3      71_FLU,3 YRS (HISTORICAL),71_INFLUENZA, UNSPEC...   \n4                       92_INFLUENZA, HIGH DOSE SEASONAL   \n...                                                  ...   \n29995  68_INFLUENZA, UNSPECIFIED FORMULATION,68_INFLU...   \n29996              85_INFLUENZA, UNSPECIFIED FORMULATION   \n29997              57_INFLUENZA, UNSPECIFIED FORMULATION   \n29998  65_COVID-19 (MODERNA), MRNA, LNP-S, PF, 100 MC...   \n29999  82_INFLUENZA, HIGH DOSE SEASONAL,82_PNEUMOCOCC...   \n\n                                    condition_embeddings  \\\n0      [[-0.21708104014396667, 0.03796498849987984, 0...   \n1      [[-0.04970243200659752, 0.11041482537984848, 0...   \n2      [[0.6252766251564026, 0.04844518378376961, 0.4...   \n3      [[0.008645305410027504, 0.3546537160873413, -0...   \n4      [[0.1178533062338829, -0.12091274559497833, 0....   \n...                                                  ...   \n29995  [[-0.6363993287086487, 0.1632065623998642, 0.0...   \n29996  [[0.2826520502567291, 0.14784608781337738, 0.1...   \n29997  [[0.030693212524056435, 0.18372924625873566, 0...   \n29998  [[-0.38614755868911743, 0.6568415760993958, 0....   \n29999  [[-0.44135332107543945, 0.7358298897743225, 0....   \n\n                                          lab_embeddings  \\\n0      [[-0.6257778406143188, 0.8007684946060181, -0....   \n1      [[-0.14167293906211853, 0.7223513722419739, -0...   \n2      [[-0.47003641724586487, 0.5753830075263977, -0...   \n3      [[-0.5125254392623901, 0.1042684018611908, -0....   \n4      [[0.11260022968053818, 0.01711287908256054, 0....   \n...                                                  ...   \n29995  [[-0.39120781421661377, 0.17473061382770538, -...   \n29996  [[-0.23238526284694672, 0.6080105900764465, -0...   \n29997  [[-0.021385665982961655, 0.07671085745096207, ...   \n29998  [[-0.3651110529899597, 0.1857205480337143, -0....   \n29999  [[-0.36228981614112854, 0.6128115653991699, -0...   \n\n                                 immunization_embeddings  \n0      [[0.1913083791732788, 0.055047109723091125, 0....  \n1      [[-0.20271024107933044, -0.033898599445819855,...  \n2      [[-0.18550683557987213, 0.6562936902046204, -0...  \n3      [[-0.06549470126628876, 0.1921929121017456, -0...  \n4      [[-0.31085139513015747, 0.6327782273292542, -0...  \n...                                                  ...  \n29995  [[-0.21500973403453827, 0.7048530578613281, -0...  \n29996  [[0.020157674327492714, 0.6216462254524231, -0...  \n29997  [[-0.07106530666351318, 0.5603832006454468, -0...  \n29998  [[-0.36554667353630066, 0.20162393152713776, -...  \n29999  [[-0.15120014548301697, 0.8036032915115356, -0...  \n\n[30000 rows x 6 columns]",
            "text/html": "<div>\n<style scoped>\n    .dataframe tbody tr th:only-of-type {\n        vertical-align: middle;\n    }\n\n    .dataframe tbody tr th {\n        vertical-align: top;\n    }\n\n    .dataframe thead th {\n        text-align: right;\n    }\n</style>\n<table border=\"1\" class=\"dataframe\">\n  <thead>\n    <tr style=\"text-align: right;\">\n      <th></th>\n      <th>Condition_code_icd10_subcategory</th>\n      <th>Lab_test_description_Result</th>\n      <th>immunization</th>\n      <th>condition_embeddings</th>\n      <th>lab_embeddings</th>\n      <th>immunization_embeddings</th>\n    </tr>\n  </thead>\n  <tbody>\n    <tr>\n      <th>0</th>\n      <td>69_Dental caries on smooth surface,69_Dental c...</td>\n      <td>69_WBC_9.69,69_Hct_36.51,69_MPV_8.67,69_PLT_19...</td>\n      <td>68_TD (ADULT), 2 LF TETANUS TOXOID, PRESERVATI...</td>\n      <td>[[-0.21708104014396667, 0.03796498849987984, 0...</td>\n      <td>[[-0.6257778406143188, 0.8007684946060181, -0....</td>\n      <td>[[0.1913083791732788, 0.055047109723091125, 0....</td>\n    </tr>\n    <tr>\n      <th>1</th>\n      <td>76_Low back pain,76_Cervicalgia,76_Other stres...</td>\n      <td>75_A1c_8.24,75_AST_12.0,75_A/G RATIO_1.0,75_PO...</td>\n      <td>75_COVID-19 (PFIZER), MRNA, LNP-S, PF, 30 MCG/...</td>\n      <td>[[-0.04970243200659752, 0.11041482537984848, 0...</td>\n      <td>[[-0.14167293906211853, 0.7223513722419739, -0...</td>\n      <td>[[-0.20271024107933044, -0.033898599445819855,...</td>\n    </tr>\n    <tr>\n      <th>2</th>\n      <td>85_Problem related to unspecified psychosocial...</td>\n      <td>84_Mcv_88.08,84_CBC COMPLETED_Y,84_NUCLEATED R...</td>\n      <td>84_INFLUENZA, INJECTABLE, QUADRIVALENT, PRESER...</td>\n      <td>[[0.6252766251564026, 0.04844518378376961, 0.4...</td>\n      <td>[[-0.47003641724586487, 0.5753830075263977, -0...</td>\n      <td>[[-0.18550683557987213, 0.6562936902046204, -0...</td>\n    </tr>\n    <tr>\n      <th>3</th>\n      <td>74_Type 2 diabetes mellitus with neurological ...</td>\n      <td>73_LDL (CALC.)_27.0,73_SODIUM (LAB USE ONLY)_1...</td>\n      <td>71_FLU,3 YRS (HISTORICAL),71_INFLUENZA, UNSPEC...</td>\n      <td>[[0.008645305410027504, 0.3546537160873413, -0...</td>\n      <td>[[-0.5125254392623901, 0.1042684018611908, -0....</td>\n      <td>[[-0.06549470126628876, 0.1921929121017456, -0...</td>\n    </tr>\n    <tr>\n      <th>4</th>\n      <td>93_Sleep apnea,93_Presence of cardiac pacemake...</td>\n      <td>93_ABSOLUTE LYMPHOCYTE COUNT_1.7,93_RDW_15.27,...</td>\n      <td>92_INFLUENZA, HIGH DOSE SEASONAL</td>\n      <td>[[0.1178533062338829, -0.12091274559497833, 0....</td>\n      <td>[[0.11260022968053818, 0.01711287908256054, 0....</td>\n      <td>[[-0.31085139513015747, 0.6327782273292542, -0...</td>\n    </tr>\n    <tr>\n      <th>...</th>\n      <td>...</td>\n      <td>...</td>\n      <td>...</td>\n      <td>...</td>\n      <td>...</td>\n      <td>...</td>\n    </tr>\n    <tr>\n      <th>29995</th>\n      <td>69_Long term (current) use of anticoagulants a...</td>\n      <td>69_INR_1.03</td>\n      <td>68_INFLUENZA, UNSPECIFIED FORMULATION,68_INFLU...</td>\n      <td>[[-0.6363993287086487, 0.1632065623998642, 0.0...</td>\n      <td>[[-0.39120781421661377, 0.17473061382770538, -...</td>\n      <td>[[-0.21500973403453827, 0.7048530578613281, -0...</td>\n    </tr>\n    <tr>\n      <th>29996</th>\n      <td>85_Other specified counseling</td>\n      <td>85_CHLORIDE (FV)_86.0,85_TOTAL BILIRUBIN (FV)_...</td>\n      <td>85_INFLUENZA, UNSPECIFIED FORMULATION</td>\n      <td>[[0.2826520502567291, 0.14784608781337738, 0.1...</td>\n      <td>[[-0.23238526284694672, 0.6080105900764465, -0...</td>\n      <td>[[0.020157674327492714, 0.6216462254524231, -0...</td>\n    </tr>\n    <tr>\n      <th>29997</th>\n      <td>58_Alcohol dependence,58_Alcohol dependence,58...</td>\n      <td>57_TOTAL PROTEIN (URINE)*_7.82,57_ALBUMIN *_4....</td>\n      <td>57_INFLUENZA, UNSPECIFIED FORMULATION</td>\n      <td>[[0.030693212524056435, 0.18372924625873566, 0...</td>\n      <td>[[-0.021385665982961655, 0.07671085745096207, ...</td>\n      <td>[[-0.07106530666351318, 0.5603832006454468, -0...</td>\n    </tr>\n    <tr>\n      <th>29998</th>\n      <td>65_Encounter for immunization</td>\n      <td>63_HEPATITIS B SURFACE ANTIBODY, QUANT_6.63,63...</td>\n      <td>65_COVID-19 (MODERNA), MRNA, LNP-S, PF, 100 MC...</td>\n      <td>[[-0.38614755868911743, 0.6568415760993958, 0....</td>\n      <td>[[-0.3651110529899597, 0.1857205480337143, -0....</td>\n      <td>[[-0.36554667353630066, 0.20162393152713776, -...</td>\n    </tr>\n    <tr>\n      <th>29999</th>\n      <td>82_Encounter for immunization,82_Hematuria, un...</td>\n      <td>82_URINE BILIRUBIN_NEG,82_AUTOMATED MICROSCOPI...</td>\n      <td>82_INFLUENZA, HIGH DOSE SEASONAL,82_PNEUMOCOCC...</td>\n      <td>[[-0.44135332107543945, 0.7358298897743225, 0....</td>\n      <td>[[-0.36228981614112854, 0.6128115653991699, -0...</td>\n      <td>[[-0.15120014548301697, 0.8036032915115356, -0...</td>\n    </tr>\n  </tbody>\n</table>\n<p>30000 rows × 6 columns</p>\n</div>"
          },
          "metadata": {}
        }
      ],
      "execution_count": null,
      "metadata": {
        "jupyter": {
          "source_hidden": false,
          "outputs_hidden": false
        },
        "nteract": {
          "transient": {
            "deleting": false
          }
        },
        "gather": {
          "logged": 1689766485159
        },
        "id": "JViPrdI1XR0-",
        "outputId": "ec79bc10-a55f-485f-b3e1-b74ceed11c54"
      }
    },
    {
      "cell_type": "code",
      "source": [
        "df_train_text.drop(['Condition_code_icd10_subcategory','Lab_test_description_Result','immunization'], axis = 1, inplace=True)\n",
        "df_train_text"
      ],
      "outputs": [
        {
          "output_type": "stream",
          "name": "stderr",
          "text": "/anaconda/envs/azureml_py38/lib/python3.8/site-packages/pandas/core/frame.py:4167: SettingWithCopyWarning: \nA value is trying to be set on a copy of a slice from a DataFrame\n\nSee the caveats in the documentation: https://pandas.pydata.org/pandas-docs/stable/user_guide/indexing.html#returning-a-view-versus-a-copy\n  return super().drop(\n"
        },
        {
          "output_type": "execute_result",
          "execution_count": 14,
          "data": {
            "text/plain": "                                    condition_embeddings  \\\n0      [[-0.21708104014396667, 0.03796498849987984, 0...   \n1      [[-0.04970243200659752, 0.11041482537984848, 0...   \n2      [[0.6252766251564026, 0.04844518378376961, 0.4...   \n3      [[0.008645305410027504, 0.3546537160873413, -0...   \n4      [[0.1178533062338829, -0.12091274559497833, 0....   \n...                                                  ...   \n29995  [[-0.6363993287086487, 0.1632065623998642, 0.0...   \n29996  [[0.2826520502567291, 0.14784608781337738, 0.1...   \n29997  [[0.030693212524056435, 0.18372924625873566, 0...   \n29998  [[-0.38614755868911743, 0.6568415760993958, 0....   \n29999  [[-0.44135332107543945, 0.7358298897743225, 0....   \n\n                                          lab_embeddings  \\\n0      [[-0.6257778406143188, 0.8007684946060181, -0....   \n1      [[-0.14167293906211853, 0.7223513722419739, -0...   \n2      [[-0.47003641724586487, 0.5753830075263977, -0...   \n3      [[-0.5125254392623901, 0.1042684018611908, -0....   \n4      [[0.11260022968053818, 0.01711287908256054, 0....   \n...                                                  ...   \n29995  [[-0.39120781421661377, 0.17473061382770538, -...   \n29996  [[-0.23238526284694672, 0.6080105900764465, -0...   \n29997  [[-0.021385665982961655, 0.07671085745096207, ...   \n29998  [[-0.3651110529899597, 0.1857205480337143, -0....   \n29999  [[-0.36228981614112854, 0.6128115653991699, -0...   \n\n                                 immunization_embeddings  \n0      [[0.1913083791732788, 0.055047109723091125, 0....  \n1      [[-0.20271024107933044, -0.033898599445819855,...  \n2      [[-0.18550683557987213, 0.6562936902046204, -0...  \n3      [[-0.06549470126628876, 0.1921929121017456, -0...  \n4      [[-0.31085139513015747, 0.6327782273292542, -0...  \n...                                                  ...  \n29995  [[-0.21500973403453827, 0.7048530578613281, -0...  \n29996  [[0.020157674327492714, 0.6216462254524231, -0...  \n29997  [[-0.07106530666351318, 0.5603832006454468, -0...  \n29998  [[-0.36554667353630066, 0.20162393152713776, -...  \n29999  [[-0.15120014548301697, 0.8036032915115356, -0...  \n\n[30000 rows x 3 columns]",
            "text/html": "<div>\n<style scoped>\n    .dataframe tbody tr th:only-of-type {\n        vertical-align: middle;\n    }\n\n    .dataframe tbody tr th {\n        vertical-align: top;\n    }\n\n    .dataframe thead th {\n        text-align: right;\n    }\n</style>\n<table border=\"1\" class=\"dataframe\">\n  <thead>\n    <tr style=\"text-align: right;\">\n      <th></th>\n      <th>condition_embeddings</th>\n      <th>lab_embeddings</th>\n      <th>immunization_embeddings</th>\n    </tr>\n  </thead>\n  <tbody>\n    <tr>\n      <th>0</th>\n      <td>[[-0.21708104014396667, 0.03796498849987984, 0...</td>\n      <td>[[-0.6257778406143188, 0.8007684946060181, -0....</td>\n      <td>[[0.1913083791732788, 0.055047109723091125, 0....</td>\n    </tr>\n    <tr>\n      <th>1</th>\n      <td>[[-0.04970243200659752, 0.11041482537984848, 0...</td>\n      <td>[[-0.14167293906211853, 0.7223513722419739, -0...</td>\n      <td>[[-0.20271024107933044, -0.033898599445819855,...</td>\n    </tr>\n    <tr>\n      <th>2</th>\n      <td>[[0.6252766251564026, 0.04844518378376961, 0.4...</td>\n      <td>[[-0.47003641724586487, 0.5753830075263977, -0...</td>\n      <td>[[-0.18550683557987213, 0.6562936902046204, -0...</td>\n    </tr>\n    <tr>\n      <th>3</th>\n      <td>[[0.008645305410027504, 0.3546537160873413, -0...</td>\n      <td>[[-0.5125254392623901, 0.1042684018611908, -0....</td>\n      <td>[[-0.06549470126628876, 0.1921929121017456, -0...</td>\n    </tr>\n    <tr>\n      <th>4</th>\n      <td>[[0.1178533062338829, -0.12091274559497833, 0....</td>\n      <td>[[0.11260022968053818, 0.01711287908256054, 0....</td>\n      <td>[[-0.31085139513015747, 0.6327782273292542, -0...</td>\n    </tr>\n    <tr>\n      <th>...</th>\n      <td>...</td>\n      <td>...</td>\n      <td>...</td>\n    </tr>\n    <tr>\n      <th>29995</th>\n      <td>[[-0.6363993287086487, 0.1632065623998642, 0.0...</td>\n      <td>[[-0.39120781421661377, 0.17473061382770538, -...</td>\n      <td>[[-0.21500973403453827, 0.7048530578613281, -0...</td>\n    </tr>\n    <tr>\n      <th>29996</th>\n      <td>[[0.2826520502567291, 0.14784608781337738, 0.1...</td>\n      <td>[[-0.23238526284694672, 0.6080105900764465, -0...</td>\n      <td>[[0.020157674327492714, 0.6216462254524231, -0...</td>\n    </tr>\n    <tr>\n      <th>29997</th>\n      <td>[[0.030693212524056435, 0.18372924625873566, 0...</td>\n      <td>[[-0.021385665982961655, 0.07671085745096207, ...</td>\n      <td>[[-0.07106530666351318, 0.5603832006454468, -0...</td>\n    </tr>\n    <tr>\n      <th>29998</th>\n      <td>[[-0.38614755868911743, 0.6568415760993958, 0....</td>\n      <td>[[-0.3651110529899597, 0.1857205480337143, -0....</td>\n      <td>[[-0.36554667353630066, 0.20162393152713776, -...</td>\n    </tr>\n    <tr>\n      <th>29999</th>\n      <td>[[-0.44135332107543945, 0.7358298897743225, 0....</td>\n      <td>[[-0.36228981614112854, 0.6128115653991699, -0...</td>\n      <td>[[-0.15120014548301697, 0.8036032915115356, -0...</td>\n    </tr>\n  </tbody>\n</table>\n<p>30000 rows × 3 columns</p>\n</div>"
          },
          "metadata": {}
        }
      ],
      "execution_count": null,
      "metadata": {
        "jupyter": {
          "source_hidden": false,
          "outputs_hidden": false
        },
        "nteract": {
          "transient": {
            "deleting": false
          }
        },
        "gather": {
          "logged": 1689766642269
        },
        "id": "z-UQB7eqXR0-",
        "outputId": "92b10972-24b4-47c9-c3fd-50659087eaf0"
      }
    },
    {
      "cell_type": "code",
      "source": [
        "df_train_text['condition_embeddings'].iloc[0][0]"
      ],
      "outputs": [
        {
          "output_type": "execute_result",
          "execution_count": 15,
          "data": {
            "text/plain": "[-0.21708104014396667,\n 0.03796498849987984,\n 0.027890676632523537,\n 0.026605388149619102,\n -0.6357978582382202,\n 0.05181480571627617,\n -0.05071750283241272,\n 0.40406543016433716,\n -0.1778538078069687,\n -0.23510107398033142,\n -0.3821970820426941,\n 0.023508453741669655,\n 0.15535488724708557,\n 0.29758161306381226,\n -0.15003721415996552,\n -0.23255690932273865,\n 0.19087843596935272,\n 0.3369009792804718,\n 0.02436969242990017,\n 0.4191008508205414,\n 0.14915910363197327,\n 0.022186756134033203,\n -0.3433443009853363,\n -0.23296883702278137,\n 0.1716795265674591,\n 0.1153641939163208,\n -0.34537914395332336,\n 0.14285261929035187,\n 0.39010733366012573,\n 0.09360846132040024,\n -0.17672213912010193,\n 0.24787120521068573,\n 0.982832133769989,\n -0.7353166341781616,\n 0.46780315041542053,\n -0.5387336015701294,\n -0.3386891186237335,\n -0.6744917631149292,\n 0.4154077470302582,\n -0.007425052113831043,\n -0.4070691466331482,\n 0.1532440483570099,\n -0.21261635422706604,\n 0.2474946528673172,\n 0.5919739007949829,\n 0.2493337094783783,\n 0.45714202523231506,\n 0.03454995155334473,\n 0.2617049217224121,\n 0.546416163444519,\n 0.4463977813720703,\n 0.3230648934841156,\n -0.12775135040283203,\n -0.17456528544425964,\n -0.6366821527481079,\n 0.1254548579454422,\n -0.5262566804885864,\n -0.18911926448345184,\n 0.22442245483398438,\n 0.09123118966817856,\n 0.6886082887649536,\n -0.1813778579235077,\n -0.30413979291915894,\n 0.6571244597434998,\n -0.15688882768154144,\n 0.29987555742263794,\n -0.23508891463279724,\n -0.13093556463718414,\n -0.4765315055847168,\n 0.41834789514541626,\n -0.2313907891511917,\n -0.17311179637908936,\n 0.0956052616238594,\n 0.06779341399669647,\n 0.6246682405471802,\n -0.25697770714759827,\n 0.31127646565437317,\n -0.6458330750465393,\n -1.311908483505249,\n 0.20305971801280975,\n -0.4981825351715088,\n -0.29834991693496704,\n -0.007112774066627026,\n 0.1395624577999115,\n -0.4891158640384674,\n 0.12144394218921661,\n 0.20657244324684143,\n 0.1994829624891281,\n -0.6671603918075562,\n -0.07865183055400848,\n 0.3331880569458008,\n 0.5938571095466614,\n 0.0055297790095210075,\n 0.25383684039115906,\n -0.08236227184534073,\n -0.24810917675495148,\n 0.44448596239089966,\n 0.135659858584404,\n 0.15947286784648895,\n 0.3186231851577759,\n -0.014894065447151661,\n 0.05844711512327194,\n 0.01161799393594265,\n -0.4284084439277649,\n 0.17078900337219238,\n -0.22895941138267517,\n -0.35484686493873596,\n -0.12650743126869202,\n 0.09522540867328644,\n 0.17497852444648743,\n -0.0296669639647007,\n -0.08367963135242462,\n 0.07857877761125565,\n 0.2300652265548706,\n -0.31524956226348877,\n -0.5008609294891357,\n -0.01870754174888134,\n -0.0984223261475563,\n -0.09826048463582993,\n 0.42895299196243286,\n -0.04127083346247673,\n 0.024620477110147476,\n -0.17587311565876007,\n -0.41975101828575134,\n -0.29007357358932495,\n 0.05183105543255806,\n 0.7170935869216919,\n 0.27168259024620056,\n -0.30733221769332886,\n -0.01255769096314907,\n 0.45605045557022095,\n -0.4766502380371094,\n 0.15042105317115784,\n 0.5022688508033752,\n -0.31170564889907837,\n 0.1804237812757492,\n 0.004073645919561386,\n 0.6324381828308105,\n 0.3824780285358429,\n 0.1886630654335022,\n -0.6404224634170532,\n -0.48651257157325745,\n 0.054692648351192474,\n -0.03190828487277031,\n -0.1357586532831192,\n -0.03370160982012749,\n -0.7576465010643005,\n 0.16078904271125793,\n -0.46779918670654297,\n 0.2527647018432617,\n -0.1668388545513153,\n 0.5856755375862122,\n -0.3181837201118469,\n -0.33272677659988403,\n 0.14877969026565552,\n -0.27760741114616394,\n 0.7074326276779175,\n -0.07751981168985367,\n -0.5841774940490723,\n 0.3591017723083496,\n 0.18620581924915314,\n -0.7341879606246948,\n -0.8047965168952942,\n 0.32679715752601624,\n -0.615782618522644,\n 0.1323719471693039,\n 0.03801941126585007,\n -0.3955180048942566,\n 0.4393162727355957,\n 0.3327620029449463,\n 0.47205933928489685,\n 0.23913124203681946,\n 0.3017812967300415,\n -0.13139303028583527,\n -0.28895696997642517,\n 0.6705507636070251,\n -0.4526326656341553,\n 0.2757377624511719,\n -0.09122230857610703,\n 0.028607625514268875,\n -0.5661044120788574,\n 0.4152553975582123,\n -0.4860343039035797,\n -0.31159600615501404,\n -0.5044422149658203,\n -0.09679310768842697,\n -0.03286184370517731,\n 0.19916486740112305,\n -0.4478705823421478,\n -0.052577774971723557,\n 0.5447211265563965,\n -0.48301059007644653,\n -0.23041363060474396,\n 0.8105102777481079,\n -0.47165125608444214,\n -0.539611279964447,\n 0.10601760447025299,\n -0.5472356081008911,\n -0.6614974737167358,\n 0.35893598198890686,\n -0.23325172066688538,\n 0.046216681599617004,\n 0.6275423765182495,\n 0.029632430523633957,\n 0.8647775650024414,\n 0.6458257436752319,\n -0.43691253662109375,\n 0.1380542814731598,\n -0.11419037729501724,\n 0.08611178398132324,\n -0.06816965341567993,\n -0.19376833736896515,\n -0.11838017404079437,\n 0.40547165274620056,\n -0.1678282916545868,\n 0.18195196986198425,\n 0.8218520283699036,\n 0.15922054648399353,\n -0.5462445020675659,\n -0.03614964336156845,\n -0.4033716320991516,\n 0.01955341175198555,\n -0.14639271795749664,\n -0.2777320444583893,\n 0.0951000526547432,\n -0.8841713666915894,\n -0.020706187933683395,\n 0.8277546763420105,\n 0.023695142939686775,\n 0.10549501329660416,\n -0.36242660880088806,\n 0.18200936913490295,\n -0.36833661794662476,\n -0.6296510696411133,\n 0.6686453819274902,\n 0.33967775106430054,\n 0.30212312936782837,\n -0.012691083364188671,\n -0.23044967651367188,\n 0.6861473917961121,\n 0.3088400363922119,\n 0.10821185261011124,\n 0.001416885876096785,\n -0.3755669593811035,\n -0.41462379693984985,\n -0.28027769923210144,\n 0.2233770340681076,\n 0.20515784621238708,\n -0.2616996169090271,\n 0.3368209898471832,\n -0.7181192636489868,\n -0.10933540016412735,\n 0.23303647339344025,\n 0.21276065707206726,\n 0.12069650739431381,\n -0.2398468255996704,\n -0.47521939873695374,\n 0.15660342574119568,\n -0.15936939418315887,\n -0.1306944191455841,\n 0.1568884253501892,\n -0.35461148619651794,\n -0.5951629877090454,\n 0.5289516448974609,\n 0.3388761878013611,\n -0.325884610414505,\n -0.11815489828586578,\n 0.28925859928131104,\n 0.215599924325943,\n -0.5214925408363342,\n -0.3199714422225952,\n -0.9266177415847778,\n -0.5868886113166809,\n 0.2491517961025238,\n 0.7233866453170776,\n 0.1683010458946228,\n -0.4352714419364929,\n 0.1347769796848297,\n -0.20642432570457458,\n 0.21877029538154602,\n 0.4609624445438385,\n -0.6007542610168457,\n -0.153915137052536,\n 0.08907441049814224,\n 0.2833530306816101,\n 0.6999629735946655,\n -0.48133668303489685,\n -0.19156759977340698,\n 0.4365364611148834,\n -0.41423124074935913,\n 0.23203067481517792,\n 0.15363678336143494,\n 0.1642506867647171,\n 0.06493787467479706,\n 0.47547778487205505,\n 0.1928761750459671,\n 0.4511781334877014,\n 0.2971133887767792,\n 0.314753919839859,\n -0.15099790692329407,\n 0.01889701560139656,\n -0.24383826553821564,\n -0.5963984131813049,\n 0.17427876591682434,\n -0.9539693593978882,\n 0.015654295682907104,\n 0.45877426862716675,\n 0.9611173868179321,\n -0.04325864464044571,\n -0.04240161180496216,\n -0.14365404844284058,\n 0.15997926890850067,\n 0.10071840137243271,\n 0.6934040784835815,\n -0.08584005385637283,\n 0.41408491134643555,\n 0.5252310037612915,\n 0.24504521489143372,\n 0.7011480331420898,\n 0.3224766254425049,\n 0.4466628134250641,\n -0.2548986077308655,\n -0.2596047520637512,\n 0.39989444613456726,\n -0.24655921757221222,\n -0.3008667528629303,\n -0.2644124925136566,\n -0.03550633788108826,\n -0.08743958920240402,\n -0.28067800402641296,\n 0.318023681640625,\n 0.09130465984344482,\n -0.6757458448410034,\n 0.06425952911376953,\n -0.45718154311180115,\n 0.39597755670547485,\n -0.09153886884450912,\n -0.28698354959487915,\n -0.3201845586299896,\n -0.2908087372779846,\n -0.2587653696537018,\n -0.02080979011952877,\n 0.8207084536552429,\n -0.5599602460861206,\n -0.17232349514961243,\n -0.5164815783500671,\n 0.010997814126312733,\n 0.5710631608963013,\n -0.4717634320259094,\n -0.39689958095550537,\n 0.21933996677398682,\n 0.3519373834133148,\n 0.2789248824119568,\n 0.1401994526386261,\n 0.3716626763343811,\n -0.6560243368148804,\n 0.047237563878297806,\n 0.09491231292486191,\n -0.395900160074234,\n -0.3663025498390198,\n -0.25166788697242737,\n -0.6506057977676392,\n -0.2675155997276306,\n -0.046559907495975494,\n -0.10088939964771271,\n -0.18336695432662964,\n 0.3608188033103943,\n 0.31263217329978943,\n 0.026000548154115677,\n 0.03724461793899536,\n 0.5666815042495728,\n 0.5503627061843872,\n -0.23592309653759003,\n 0.6578882932662964,\n -0.4844965934753418,\n -0.005753317382186651,\n 0.3980867266654968,\n 0.6862540245056152,\n 0.33867117762565613,\n 0.24978382885456085,\n -0.5991414785385132,\n 0.0796860009431839,\n 0.28796201944351196,\n 0.14857709407806396]"
          },
          "metadata": {}
        }
      ],
      "execution_count": null,
      "metadata": {
        "jupyter": {
          "source_hidden": false,
          "outputs_hidden": false
        },
        "nteract": {
          "transient": {
            "deleting": false
          }
        },
        "gather": {
          "logged": 1689766645859
        },
        "id": "yUzPcr0RXR0_",
        "outputId": "917a976c-b5d6-4fe0-de45-ea22ad9fb9fc"
      }
    },
    {
      "cell_type": "code",
      "source": [
        "len(df_train_text['lab_embeddings'].iloc[0][4])"
      ],
      "outputs": [
        {
          "output_type": "execute_result",
          "execution_count": 16,
          "data": {
            "text/plain": "384"
          },
          "metadata": {}
        }
      ],
      "execution_count": null,
      "metadata": {
        "jupyter": {
          "source_hidden": false,
          "outputs_hidden": false
        },
        "nteract": {
          "transient": {
            "deleting": false
          }
        },
        "gather": {
          "logged": 1689766650651
        },
        "id": "3WHADq4BXR0_",
        "outputId": "5487cd27-ab7c-4f24-f069-00f23c135635"
      }
    },
    {
      "cell_type": "code",
      "source": [
        "empty_counts =df_train_text.applymap(lambda x: len(x) == 0).sum()\n",
        "empty_counts"
      ],
      "outputs": [
        {
          "output_type": "execute_result",
          "execution_count": 17,
          "data": {
            "text/plain": "condition_embeddings       0\nlab_embeddings             0\nimmunization_embeddings    0\ndtype: int64"
          },
          "metadata": {}
        }
      ],
      "execution_count": null,
      "metadata": {
        "jupyter": {
          "source_hidden": false,
          "outputs_hidden": false
        },
        "nteract": {
          "transient": {
            "deleting": false
          }
        },
        "gather": {
          "logged": 1689766652201
        },
        "id": "0mq3A_rSXR1A",
        "outputId": "59e7a21e-2795-48c4-b406-39191328e6df"
      }
    },
    {
      "cell_type": "code",
      "source": [
        "mean_vectors_condition = []\n",
        "mean_vectors_lab_test = []\n",
        "mean_vectors_immunization = []\n",
        "\n",
        "for index, row in df_train_text.iterrows():\n",
        "    condition_vectors = row['condition_embeddings']\n",
        "    lab_test_vectors = row['lab_embeddings']\n",
        "    immunization_vectors = row['immunization_embeddings']\n",
        "\n",
        "    # Calculate the mean vector for each column\n",
        "    mean_vector_condition = np.mean(condition_vectors, axis=0)\n",
        "    mean_vector_lab_test = np.mean(lab_test_vectors, axis=0)\n",
        "    mean_vector_immunization = np.mean(immunization_vectors, axis=0)\n",
        "\n",
        "    # Append the mean vectors to the respective lists\n",
        "    mean_vectors_condition.append(mean_vector_condition)\n",
        "    mean_vectors_lab_test.append(mean_vector_lab_test)\n",
        "    mean_vectors_immunization.append(mean_vector_immunization)\n",
        "\n",
        "# Create a DataFrame for the mean vectors\n",
        "mean_vectors_df_train = pd.DataFrame({\n",
        "    'Condition_code_icd10_subcategory': mean_vectors_condition,\n",
        "    'Lab_test_description_Result': mean_vectors_lab_test,\n",
        "    'immunization': mean_vectors_immunization\n",
        "})"
      ],
      "outputs": [],
      "execution_count": null,
      "metadata": {
        "jupyter": {
          "source_hidden": false,
          "outputs_hidden": false
        },
        "nteract": {
          "transient": {
            "deleting": false
          }
        },
        "gather": {
          "logged": 1689766724447
        },
        "id": "tX2X_4UzXR1A"
      }
    },
    {
      "cell_type": "code",
      "source": [
        "mean_vectors_df_train"
      ],
      "outputs": [
        {
          "output_type": "execute_result",
          "execution_count": 19,
          "data": {
            "text/plain": "                        Condition_code_icd10_subcategory  \\\n0      [-0.017366483211517333, 0.003037199079990387, ...   \n1      [0.004204686433076858, 0.007342205941677093, 0...   \n2      [0.025011065006256102, 0.0019378073513507843, ...   \n3      [-0.032162702530622485, 0.09579411633312702, 0...   \n4      [-0.0952738507091999, 0.0065325327962636945, 0...   \n...                                                  ...   \n29995  [-0.025455973148345946, 0.006528262495994568, ...   \n29996  [0.011306082010269164, 0.005913843512535095, 0...   \n29997  [0.004910914003849029, 0.029396679401397705, 0...   \n29998  [-0.015445902347564697, 0.02627366304397583, 0...   \n29999  [-0.003351234272122383, 0.16848768740892411, 0...   \n\n                             Lab_test_description_Result  \\\n0      [-0.47930544465780256, 0.38803591281175615, -0...   \n1      [-0.18428385078907014, 0.3341594913601875, -0....   \n2      [-0.3306388858705759, 0.350494344048202, 0.083...   \n3      [-0.2941217628493905, 0.40902471750974656, 0.0...   \n4      [-0.3392115433514118, 0.3505941965803504, -0.0...   \n...                                                  ...   \n29995  [-0.01564831256866455, 0.006989224553108215, -...   \n29996  [-0.1495333231985569, 0.4501739479601383, 0.01...   \n29997  [-0.24483009554445745, 0.3080739136040211, 0.0...   \n29998  [-0.054646440744400025, 0.033910083770751956, ...   \n29999  [-0.2888441050052643, 0.5201492282189428, 0.05...   \n\n                                            immunization  \n0      [-0.049707164764404295, 0.01936510369181633, -...  \n1      [-0.05648137897253037, -0.01219500869512558, -...  \n2      [-0.08037377297878265, 0.03318602859973908, -0...  \n3      [-0.02249548614025116, 0.0620588743686676, -0....  \n4      [-0.009101245403289795, 0.019963232278823854, ...  \n...                                                  ...  \n29995  [-0.04609080970287323, 0.06953858733177185, -0...  \n29996  [-0.024177201613783835, 0.03381288170814514, -...  \n29997  [-0.027826120853424074, 0.03136236071586609, -...  \n29998  [-0.05201736569404602, -0.003939645290374756, ...  \n29999  [-0.01423408031463623, 0.02834130197763443, -0...  \n\n[30000 rows x 3 columns]",
            "text/html": "<div>\n<style scoped>\n    .dataframe tbody tr th:only-of-type {\n        vertical-align: middle;\n    }\n\n    .dataframe tbody tr th {\n        vertical-align: top;\n    }\n\n    .dataframe thead th {\n        text-align: right;\n    }\n</style>\n<table border=\"1\" class=\"dataframe\">\n  <thead>\n    <tr style=\"text-align: right;\">\n      <th></th>\n      <th>Condition_code_icd10_subcategory</th>\n      <th>Lab_test_description_Result</th>\n      <th>immunization</th>\n    </tr>\n  </thead>\n  <tbody>\n    <tr>\n      <th>0</th>\n      <td>[-0.017366483211517333, 0.003037199079990387, ...</td>\n      <td>[-0.47930544465780256, 0.38803591281175615, -0...</td>\n      <td>[-0.049707164764404295, 0.01936510369181633, -...</td>\n    </tr>\n    <tr>\n      <th>1</th>\n      <td>[0.004204686433076858, 0.007342205941677093, 0...</td>\n      <td>[-0.18428385078907014, 0.3341594913601875, -0....</td>\n      <td>[-0.05648137897253037, -0.01219500869512558, -...</td>\n    </tr>\n    <tr>\n      <th>2</th>\n      <td>[0.025011065006256102, 0.0019378073513507843, ...</td>\n      <td>[-0.3306388858705759, 0.350494344048202, 0.083...</td>\n      <td>[-0.08037377297878265, 0.03318602859973908, -0...</td>\n    </tr>\n    <tr>\n      <th>3</th>\n      <td>[-0.032162702530622485, 0.09579411633312702, 0...</td>\n      <td>[-0.2941217628493905, 0.40902471750974656, 0.0...</td>\n      <td>[-0.02249548614025116, 0.0620588743686676, -0....</td>\n    </tr>\n    <tr>\n      <th>4</th>\n      <td>[-0.0952738507091999, 0.0065325327962636945, 0...</td>\n      <td>[-0.3392115433514118, 0.3505941965803504, -0.0...</td>\n      <td>[-0.009101245403289795, 0.019963232278823854, ...</td>\n    </tr>\n    <tr>\n      <th>...</th>\n      <td>...</td>\n      <td>...</td>\n      <td>...</td>\n    </tr>\n    <tr>\n      <th>29995</th>\n      <td>[-0.025455973148345946, 0.006528262495994568, ...</td>\n      <td>[-0.01564831256866455, 0.006989224553108215, -...</td>\n      <td>[-0.04609080970287323, 0.06953858733177185, -0...</td>\n    </tr>\n    <tr>\n      <th>29996</th>\n      <td>[0.011306082010269164, 0.005913843512535095, 0...</td>\n      <td>[-0.1495333231985569, 0.4501739479601383, 0.01...</td>\n      <td>[-0.024177201613783835, 0.03381288170814514, -...</td>\n    </tr>\n    <tr>\n      <th>29997</th>\n      <td>[0.004910914003849029, 0.029396679401397705, 0...</td>\n      <td>[-0.24483009554445745, 0.3080739136040211, 0.0...</td>\n      <td>[-0.027826120853424074, 0.03136236071586609, -...</td>\n    </tr>\n    <tr>\n      <th>29998</th>\n      <td>[-0.015445902347564697, 0.02627366304397583, 0...</td>\n      <td>[-0.054646440744400025, 0.033910083770751956, ...</td>\n      <td>[-0.05201736569404602, -0.003939645290374756, ...</td>\n    </tr>\n    <tr>\n      <th>29999</th>\n      <td>[-0.003351234272122383, 0.16848768740892411, 0...</td>\n      <td>[-0.2888441050052643, 0.5201492282189428, 0.05...</td>\n      <td>[-0.01423408031463623, 0.02834130197763443, -0...</td>\n    </tr>\n  </tbody>\n</table>\n<p>30000 rows × 3 columns</p>\n</div>"
          },
          "metadata": {}
        }
      ],
      "execution_count": null,
      "metadata": {
        "jupyter": {
          "source_hidden": false,
          "outputs_hidden": false
        },
        "nteract": {
          "transient": {
            "deleting": false
          }
        },
        "gather": {
          "logged": 1689766736566
        },
        "id": "ZW9NZoKYXR1B",
        "outputId": "d7fb1012-64c7-44ee-f85d-c0171334f15e"
      }
    },
    {
      "cell_type": "code",
      "source": [
        "# Create a new DataFrame to store the split vectors\n",
        "df1_train_split = pd.DataFrame()\n",
        "\n",
        "# Iterate over each column\n",
        "for column in ['Condition_code_icd10_subcategory', 'Lab_test_description_Result', 'immunization']:\n",
        "    # Expand the column into separate columns for each vector value\n",
        "    expanded_columns = mean_vectors_df_train[column].apply(lambda x: pd.Series(x) if len(x) > 0 else pd.Series([0] * vector_size))\n",
        "\n",
        "    # Rename the expanded columns to have meaningful names\n",
        "    expanded_columns = expanded_columns.rename(columns=lambda x: f'{column}_{x+1}')\n",
        "\n",
        "    # Concatenate the expanded columns with the new DataFrame\n",
        "    df1_train_split = pd.concat([df1_train_split, expanded_columns], axis=1)\n"
      ],
      "outputs": [],
      "execution_count": null,
      "metadata": {
        "jupyter": {
          "source_hidden": false,
          "outputs_hidden": false
        },
        "nteract": {
          "transient": {
            "deleting": false
          }
        },
        "gather": {
          "logged": 1689766777694
        },
        "id": "xwgw1gHkXR1B"
      }
    },
    {
      "cell_type": "code",
      "source": [
        "df1_train_split"
      ],
      "outputs": [
        {
          "output_type": "execute_result",
          "execution_count": 21,
          "data": {
            "text/plain": "       Condition_code_icd10_subcategory_1  Condition_code_icd10_subcategory_2  \\\n0                               -0.017366                            0.003037   \n1                                0.004205                            0.007342   \n2                                0.025011                            0.001938   \n3                               -0.032163                            0.095794   \n4                               -0.095274                            0.006533   \n...                                   ...                                 ...   \n29995                           -0.025456                            0.006528   \n29996                            0.011306                            0.005914   \n29997                            0.004911                            0.029397   \n29998                           -0.015446                            0.026274   \n29999                           -0.003351                            0.168488   \n\n       Condition_code_icd10_subcategory_3  Condition_code_icd10_subcategory_4  \\\n0                                0.002231                            0.002128   \n1                                0.034012                           -0.010250   \n2                                0.019945                            0.003415   \n3                                0.044017                            0.070280   \n4                                0.027504                            0.016621   \n...                                   ...                                 ...   \n29995                            0.000404                           -0.000488   \n29996                            0.004154                            0.012038   \n29997                            0.045820                            0.092142   \n29998                            0.011866                           -0.008752   \n29999                            0.111461                            0.008948   \n\n       Condition_code_icd10_subcategory_5  Condition_code_icd10_subcategory_6  \\\n0                               -0.050864                            0.004145   \n1                               -0.061574                           -0.061187   \n2                               -0.005157                            0.005085   \n3                                0.064118                           -0.032749   \n4                               -0.050905                            0.073470   \n...                                   ...                                 ...   \n29995                            0.001541                           -0.004563   \n29996                           -0.009262                            0.025867   \n29997                            0.028850                            0.083012   \n29998                           -0.009355                            0.003647   \n29999                           -0.016129                           -0.055117   \n\n       Condition_code_icd10_subcategory_7  Condition_code_icd10_subcategory_8  \\\n0                               -0.004057                            0.032325   \n1                               -0.037517                            0.033733   \n2                                0.027793                           -0.008179   \n3                               -0.017461                            0.106380   \n4                               -0.088379                            0.142815   \n...                                   ...                                 ...   \n29995                           -0.005807                            0.019124   \n29996                            0.003533                            0.000154   \n29997                            0.102367                            0.058000   \n29998                            0.035259                           -0.003794   \n29999                            0.055800                            0.104430   \n\n       Condition_code_icd10_subcategory_9  \\\n0                               -0.014228   \n1                                0.001891   \n2                                0.004094   \n3                                0.035805   \n4                                0.072036   \n...                                   ...   \n29995                           -0.016453   \n29996                            0.009271   \n29997                           -0.072349   \n29998                           -0.009217   \n29999                            0.078254   \n\n       Condition_code_icd10_subcategory_10  ...  immunization_375  \\\n0                                -0.018808  ...         -0.021174   \n1                                 0.005912  ...         -0.043684   \n2                                 0.012151  ...         -0.033776   \n3                                -0.050519  ...         -0.049147   \n4                                -0.068763  ...         -0.052315   \n...                                    ...  ...               ...   \n29995                            -0.003226  ...         -0.077013   \n29996                             0.014961  ...         -0.038567   \n29997                            -0.010240  ...         -0.042241   \n29998                             0.010590  ...         -0.052505   \n29999                            -0.041092  ...         -0.066163   \n\n       immunization_376  immunization_377  immunization_378  immunization_379  \\\n0             -0.036378          0.015020          0.015844          0.007156   \n1             -0.029666         -0.053432          0.023058         -0.020576   \n2             -0.008194         -0.006383         -0.004473          0.035922   \n3             -0.044210         -0.009355         -0.002766          0.016037   \n4             -0.026243          0.003003         -0.012672          0.023148   \n...                 ...               ...               ...               ...   \n29995         -0.039435         -0.004185         -0.028569          0.039703   \n29996         -0.009912         -0.004851         -0.005398          0.018763   \n29997         -0.007046         -0.007558         -0.004535          0.018564   \n29998         -0.021005         -0.045039          0.033169         -0.012997   \n29999         -0.034429         -0.008288         -0.012018          0.012898   \n\n       immunization_380  immunization_381  immunization_382  immunization_383  \\\n0              0.026650         -0.044259          0.005946          0.094992   \n1             -0.035878          0.031517          0.033349          0.104835   \n2              0.022184         -0.004948          0.005042          0.075084   \n3             -0.032093          0.045791         -0.009878          0.012744   \n4             -0.026685          0.004231         -0.030956         -0.043704   \n...                 ...               ...               ...               ...   \n29995         -0.028372          0.031778          0.000088          0.007788   \n29996         -0.011120          0.025785         -0.002486          0.022058   \n29997         -0.007613          0.039152         -0.006917          0.023072   \n29998         -0.027775          0.032945          0.030401          0.099312   \n29999         -0.046362          0.026137         -0.052496         -0.029291   \n\n       immunization_384  \n0              0.010534  \n1             -0.076060  \n2              0.011393  \n3              0.008077  \n4              0.017414  \n...                 ...  \n29995          0.021906  \n29996          0.017961  \n29997          0.021335  \n29998         -0.062291  \n29999          0.034592  \n\n[30000 rows x 1152 columns]",
            "text/html": "<div>\n<style scoped>\n    .dataframe tbody tr th:only-of-type {\n        vertical-align: middle;\n    }\n\n    .dataframe tbody tr th {\n        vertical-align: top;\n    }\n\n    .dataframe thead th {\n        text-align: right;\n    }\n</style>\n<table border=\"1\" class=\"dataframe\">\n  <thead>\n    <tr style=\"text-align: right;\">\n      <th></th>\n      <th>Condition_code_icd10_subcategory_1</th>\n      <th>Condition_code_icd10_subcategory_2</th>\n      <th>Condition_code_icd10_subcategory_3</th>\n      <th>Condition_code_icd10_subcategory_4</th>\n      <th>Condition_code_icd10_subcategory_5</th>\n      <th>Condition_code_icd10_subcategory_6</th>\n      <th>Condition_code_icd10_subcategory_7</th>\n      <th>Condition_code_icd10_subcategory_8</th>\n      <th>Condition_code_icd10_subcategory_9</th>\n      <th>Condition_code_icd10_subcategory_10</th>\n      <th>...</th>\n      <th>immunization_375</th>\n      <th>immunization_376</th>\n      <th>immunization_377</th>\n      <th>immunization_378</th>\n      <th>immunization_379</th>\n      <th>immunization_380</th>\n      <th>immunization_381</th>\n      <th>immunization_382</th>\n      <th>immunization_383</th>\n      <th>immunization_384</th>\n    </tr>\n  </thead>\n  <tbody>\n    <tr>\n      <th>0</th>\n      <td>-0.017366</td>\n      <td>0.003037</td>\n      <td>0.002231</td>\n      <td>0.002128</td>\n      <td>-0.050864</td>\n      <td>0.004145</td>\n      <td>-0.004057</td>\n      <td>0.032325</td>\n      <td>-0.014228</td>\n      <td>-0.018808</td>\n      <td>...</td>\n      <td>-0.021174</td>\n      <td>-0.036378</td>\n      <td>0.015020</td>\n      <td>0.015844</td>\n      <td>0.007156</td>\n      <td>0.026650</td>\n      <td>-0.044259</td>\n      <td>0.005946</td>\n      <td>0.094992</td>\n      <td>0.010534</td>\n    </tr>\n    <tr>\n      <th>1</th>\n      <td>0.004205</td>\n      <td>0.007342</td>\n      <td>0.034012</td>\n      <td>-0.010250</td>\n      <td>-0.061574</td>\n      <td>-0.061187</td>\n      <td>-0.037517</td>\n      <td>0.033733</td>\n      <td>0.001891</td>\n      <td>0.005912</td>\n      <td>...</td>\n      <td>-0.043684</td>\n      <td>-0.029666</td>\n      <td>-0.053432</td>\n      <td>0.023058</td>\n      <td>-0.020576</td>\n      <td>-0.035878</td>\n      <td>0.031517</td>\n      <td>0.033349</td>\n      <td>0.104835</td>\n      <td>-0.076060</td>\n    </tr>\n    <tr>\n      <th>2</th>\n      <td>0.025011</td>\n      <td>0.001938</td>\n      <td>0.019945</td>\n      <td>0.003415</td>\n      <td>-0.005157</td>\n      <td>0.005085</td>\n      <td>0.027793</td>\n      <td>-0.008179</td>\n      <td>0.004094</td>\n      <td>0.012151</td>\n      <td>...</td>\n      <td>-0.033776</td>\n      <td>-0.008194</td>\n      <td>-0.006383</td>\n      <td>-0.004473</td>\n      <td>0.035922</td>\n      <td>0.022184</td>\n      <td>-0.004948</td>\n      <td>0.005042</td>\n      <td>0.075084</td>\n      <td>0.011393</td>\n    </tr>\n    <tr>\n      <th>3</th>\n      <td>-0.032163</td>\n      <td>0.095794</td>\n      <td>0.044017</td>\n      <td>0.070280</td>\n      <td>0.064118</td>\n      <td>-0.032749</td>\n      <td>-0.017461</td>\n      <td>0.106380</td>\n      <td>0.035805</td>\n      <td>-0.050519</td>\n      <td>...</td>\n      <td>-0.049147</td>\n      <td>-0.044210</td>\n      <td>-0.009355</td>\n      <td>-0.002766</td>\n      <td>0.016037</td>\n      <td>-0.032093</td>\n      <td>0.045791</td>\n      <td>-0.009878</td>\n      <td>0.012744</td>\n      <td>0.008077</td>\n    </tr>\n    <tr>\n      <th>4</th>\n      <td>-0.095274</td>\n      <td>0.006533</td>\n      <td>0.027504</td>\n      <td>0.016621</td>\n      <td>-0.050905</td>\n      <td>0.073470</td>\n      <td>-0.088379</td>\n      <td>0.142815</td>\n      <td>0.072036</td>\n      <td>-0.068763</td>\n      <td>...</td>\n      <td>-0.052315</td>\n      <td>-0.026243</td>\n      <td>0.003003</td>\n      <td>-0.012672</td>\n      <td>0.023148</td>\n      <td>-0.026685</td>\n      <td>0.004231</td>\n      <td>-0.030956</td>\n      <td>-0.043704</td>\n      <td>0.017414</td>\n    </tr>\n    <tr>\n      <th>...</th>\n      <td>...</td>\n      <td>...</td>\n      <td>...</td>\n      <td>...</td>\n      <td>...</td>\n      <td>...</td>\n      <td>...</td>\n      <td>...</td>\n      <td>...</td>\n      <td>...</td>\n      <td>...</td>\n      <td>...</td>\n      <td>...</td>\n      <td>...</td>\n      <td>...</td>\n      <td>...</td>\n      <td>...</td>\n      <td>...</td>\n      <td>...</td>\n      <td>...</td>\n      <td>...</td>\n    </tr>\n    <tr>\n      <th>29995</th>\n      <td>-0.025456</td>\n      <td>0.006528</td>\n      <td>0.000404</td>\n      <td>-0.000488</td>\n      <td>0.001541</td>\n      <td>-0.004563</td>\n      <td>-0.005807</td>\n      <td>0.019124</td>\n      <td>-0.016453</td>\n      <td>-0.003226</td>\n      <td>...</td>\n      <td>-0.077013</td>\n      <td>-0.039435</td>\n      <td>-0.004185</td>\n      <td>-0.028569</td>\n      <td>0.039703</td>\n      <td>-0.028372</td>\n      <td>0.031778</td>\n      <td>0.000088</td>\n      <td>0.007788</td>\n      <td>0.021906</td>\n    </tr>\n    <tr>\n      <th>29996</th>\n      <td>0.011306</td>\n      <td>0.005914</td>\n      <td>0.004154</td>\n      <td>0.012038</td>\n      <td>-0.009262</td>\n      <td>0.025867</td>\n      <td>0.003533</td>\n      <td>0.000154</td>\n      <td>0.009271</td>\n      <td>0.014961</td>\n      <td>...</td>\n      <td>-0.038567</td>\n      <td>-0.009912</td>\n      <td>-0.004851</td>\n      <td>-0.005398</td>\n      <td>0.018763</td>\n      <td>-0.011120</td>\n      <td>0.025785</td>\n      <td>-0.002486</td>\n      <td>0.022058</td>\n      <td>0.017961</td>\n    </tr>\n    <tr>\n      <th>29997</th>\n      <td>0.004911</td>\n      <td>0.029397</td>\n      <td>0.045820</td>\n      <td>0.092142</td>\n      <td>0.028850</td>\n      <td>0.083012</td>\n      <td>0.102367</td>\n      <td>0.058000</td>\n      <td>-0.072349</td>\n      <td>-0.010240</td>\n      <td>...</td>\n      <td>-0.042241</td>\n      <td>-0.007046</td>\n      <td>-0.007558</td>\n      <td>-0.004535</td>\n      <td>0.018564</td>\n      <td>-0.007613</td>\n      <td>0.039152</td>\n      <td>-0.006917</td>\n      <td>0.023072</td>\n      <td>0.021335</td>\n    </tr>\n    <tr>\n      <th>29998</th>\n      <td>-0.015446</td>\n      <td>0.026274</td>\n      <td>0.011866</td>\n      <td>-0.008752</td>\n      <td>-0.009355</td>\n      <td>0.003647</td>\n      <td>0.035259</td>\n      <td>-0.003794</td>\n      <td>-0.009217</td>\n      <td>0.010590</td>\n      <td>...</td>\n      <td>-0.052505</td>\n      <td>-0.021005</td>\n      <td>-0.045039</td>\n      <td>0.033169</td>\n      <td>-0.012997</td>\n      <td>-0.027775</td>\n      <td>0.032945</td>\n      <td>0.030401</td>\n      <td>0.099312</td>\n      <td>-0.062291</td>\n    </tr>\n    <tr>\n      <th>29999</th>\n      <td>-0.003351</td>\n      <td>0.168488</td>\n      <td>0.111461</td>\n      <td>0.008948</td>\n      <td>-0.016129</td>\n      <td>-0.055117</td>\n      <td>0.055800</td>\n      <td>0.104430</td>\n      <td>0.078254</td>\n      <td>-0.041092</td>\n      <td>...</td>\n      <td>-0.066163</td>\n      <td>-0.034429</td>\n      <td>-0.008288</td>\n      <td>-0.012018</td>\n      <td>0.012898</td>\n      <td>-0.046362</td>\n      <td>0.026137</td>\n      <td>-0.052496</td>\n      <td>-0.029291</td>\n      <td>0.034592</td>\n    </tr>\n  </tbody>\n</table>\n<p>30000 rows × 1152 columns</p>\n</div>"
          },
          "metadata": {}
        }
      ],
      "execution_count": null,
      "metadata": {
        "jupyter": {
          "source_hidden": false,
          "outputs_hidden": false
        },
        "nteract": {
          "transient": {
            "deleting": false
          }
        },
        "gather": {
          "logged": 1689766781518
        },
        "id": "jdMU9OXBXR1B",
        "outputId": "4a136bcc-5a2f-4fa3-fbe7-4b839e8091ed"
      }
    },
    {
      "cell_type": "code",
      "source": [
        "from sklearn.preprocessing import StandardScaler\n",
        "\n",
        "scaler = StandardScaler()\n",
        "num_df_train = pd.DataFrame(scaler.fit_transform(df_train_num), columns=df_train_num.columns)"
      ],
      "outputs": [],
      "execution_count": null,
      "metadata": {
        "jupyter": {
          "source_hidden": false,
          "outputs_hidden": false
        },
        "nteract": {
          "transient": {
            "deleting": false
          }
        },
        "gather": {
          "logged": 1689766785569
        },
        "id": "czAGZZf4XR1C"
      }
    },
    {
      "cell_type": "code",
      "source": [
        "num_df_train"
      ],
      "outputs": [
        {
          "output_type": "execute_result",
          "execution_count": 23,
          "data": {
            "text/plain": "           Pain     Pulse  Respiratory rate  Temperature  Diastolic bp  \\\n0      1.883792  0.505296         -0.046615    -0.107612     -0.027003   \n1      2.595485  0.945192          0.718815     0.303917     -0.480465   \n2     -0.607133  0.114277         -0.556901     0.296199      0.426459   \n3     -0.251287 -3.649279         -4.384047    -6.004774      0.728767   \n4     -0.607133 -0.716638         -0.556901     0.235812      0.728767   \n...         ...       ...               ...          ...           ...   \n29995 -0.607133  0.847437          0.463672    -0.143725      0.350882   \n29996  0.460406 -0.472251          0.463672     0.319461     -0.556041   \n29997 -0.607133  1.531720          0.718815     0.052925      2.240305   \n29998 -0.607133  0.065400         -0.046615     0.414611      0.879920   \n29999  0.104560 -0.423374          0.718815    -0.029706     -0.707195   \n\n       Systolic bp  \n0        -0.197402  \n1        -1.501723  \n2         1.233144  \n3        -0.534001  \n4         0.391647  \n...            ...  \n29995    -0.491926  \n29996     0.644096  \n29997     1.906342  \n29998     1.485594  \n29999     2.789915  \n\n[30000 rows x 6 columns]",
            "text/html": "<div>\n<style scoped>\n    .dataframe tbody tr th:only-of-type {\n        vertical-align: middle;\n    }\n\n    .dataframe tbody tr th {\n        vertical-align: top;\n    }\n\n    .dataframe thead th {\n        text-align: right;\n    }\n</style>\n<table border=\"1\" class=\"dataframe\">\n  <thead>\n    <tr style=\"text-align: right;\">\n      <th></th>\n      <th>Pain</th>\n      <th>Pulse</th>\n      <th>Respiratory rate</th>\n      <th>Temperature</th>\n      <th>Diastolic bp</th>\n      <th>Systolic bp</th>\n    </tr>\n  </thead>\n  <tbody>\n    <tr>\n      <th>0</th>\n      <td>1.883792</td>\n      <td>0.505296</td>\n      <td>-0.046615</td>\n      <td>-0.107612</td>\n      <td>-0.027003</td>\n      <td>-0.197402</td>\n    </tr>\n    <tr>\n      <th>1</th>\n      <td>2.595485</td>\n      <td>0.945192</td>\n      <td>0.718815</td>\n      <td>0.303917</td>\n      <td>-0.480465</td>\n      <td>-1.501723</td>\n    </tr>\n    <tr>\n      <th>2</th>\n      <td>-0.607133</td>\n      <td>0.114277</td>\n      <td>-0.556901</td>\n      <td>0.296199</td>\n      <td>0.426459</td>\n      <td>1.233144</td>\n    </tr>\n    <tr>\n      <th>3</th>\n      <td>-0.251287</td>\n      <td>-3.649279</td>\n      <td>-4.384047</td>\n      <td>-6.004774</td>\n      <td>0.728767</td>\n      <td>-0.534001</td>\n    </tr>\n    <tr>\n      <th>4</th>\n      <td>-0.607133</td>\n      <td>-0.716638</td>\n      <td>-0.556901</td>\n      <td>0.235812</td>\n      <td>0.728767</td>\n      <td>0.391647</td>\n    </tr>\n    <tr>\n      <th>...</th>\n      <td>...</td>\n      <td>...</td>\n      <td>...</td>\n      <td>...</td>\n      <td>...</td>\n      <td>...</td>\n    </tr>\n    <tr>\n      <th>29995</th>\n      <td>-0.607133</td>\n      <td>0.847437</td>\n      <td>0.463672</td>\n      <td>-0.143725</td>\n      <td>0.350882</td>\n      <td>-0.491926</td>\n    </tr>\n    <tr>\n      <th>29996</th>\n      <td>0.460406</td>\n      <td>-0.472251</td>\n      <td>0.463672</td>\n      <td>0.319461</td>\n      <td>-0.556041</td>\n      <td>0.644096</td>\n    </tr>\n    <tr>\n      <th>29997</th>\n      <td>-0.607133</td>\n      <td>1.531720</td>\n      <td>0.718815</td>\n      <td>0.052925</td>\n      <td>2.240305</td>\n      <td>1.906342</td>\n    </tr>\n    <tr>\n      <th>29998</th>\n      <td>-0.607133</td>\n      <td>0.065400</td>\n      <td>-0.046615</td>\n      <td>0.414611</td>\n      <td>0.879920</td>\n      <td>1.485594</td>\n    </tr>\n    <tr>\n      <th>29999</th>\n      <td>0.104560</td>\n      <td>-0.423374</td>\n      <td>0.718815</td>\n      <td>-0.029706</td>\n      <td>-0.707195</td>\n      <td>2.789915</td>\n    </tr>\n  </tbody>\n</table>\n<p>30000 rows × 6 columns</p>\n</div>"
          },
          "metadata": {}
        }
      ],
      "execution_count": null,
      "metadata": {
        "jupyter": {
          "source_hidden": false,
          "outputs_hidden": false
        },
        "nteract": {
          "transient": {
            "deleting": false
          }
        },
        "gather": {
          "logged": 1689766787201
        },
        "id": "ywxjy6fpXR1C",
        "outputId": "89689b3a-fbdd-477f-a128-e2494438836c"
      }
    },
    {
      "cell_type": "code",
      "source": [
        "whole_train = pd.concat([df1_train_split, num_df_train], axis=1)\n",
        "\n",
        "# Display the concatenated dataframe\n",
        "whole_train"
      ],
      "outputs": [
        {
          "output_type": "execute_result",
          "execution_count": 24,
          "data": {
            "text/plain": "       Condition_code_icd10_subcategory_1  Condition_code_icd10_subcategory_2  \\\n0                               -0.017366                            0.003037   \n1                                0.004205                            0.007342   \n2                                0.025011                            0.001938   \n3                               -0.032163                            0.095794   \n4                               -0.095274                            0.006533   \n...                                   ...                                 ...   \n29995                           -0.025456                            0.006528   \n29996                            0.011306                            0.005914   \n29997                            0.004911                            0.029397   \n29998                           -0.015446                            0.026274   \n29999                           -0.003351                            0.168488   \n\n       Condition_code_icd10_subcategory_3  Condition_code_icd10_subcategory_4  \\\n0                                0.002231                            0.002128   \n1                                0.034012                           -0.010250   \n2                                0.019945                            0.003415   \n3                                0.044017                            0.070280   \n4                                0.027504                            0.016621   \n...                                   ...                                 ...   \n29995                            0.000404                           -0.000488   \n29996                            0.004154                            0.012038   \n29997                            0.045820                            0.092142   \n29998                            0.011866                           -0.008752   \n29999                            0.111461                            0.008948   \n\n       Condition_code_icd10_subcategory_5  Condition_code_icd10_subcategory_6  \\\n0                               -0.050864                            0.004145   \n1                               -0.061574                           -0.061187   \n2                               -0.005157                            0.005085   \n3                                0.064118                           -0.032749   \n4                               -0.050905                            0.073470   \n...                                   ...                                 ...   \n29995                            0.001541                           -0.004563   \n29996                           -0.009262                            0.025867   \n29997                            0.028850                            0.083012   \n29998                           -0.009355                            0.003647   \n29999                           -0.016129                           -0.055117   \n\n       Condition_code_icd10_subcategory_7  Condition_code_icd10_subcategory_8  \\\n0                               -0.004057                            0.032325   \n1                               -0.037517                            0.033733   \n2                                0.027793                           -0.008179   \n3                               -0.017461                            0.106380   \n4                               -0.088379                            0.142815   \n...                                   ...                                 ...   \n29995                           -0.005807                            0.019124   \n29996                            0.003533                            0.000154   \n29997                            0.102367                            0.058000   \n29998                            0.035259                           -0.003794   \n29999                            0.055800                            0.104430   \n\n       Condition_code_icd10_subcategory_9  \\\n0                               -0.014228   \n1                                0.001891   \n2                                0.004094   \n3                                0.035805   \n4                                0.072036   \n...                                   ...   \n29995                           -0.016453   \n29996                            0.009271   \n29997                           -0.072349   \n29998                           -0.009217   \n29999                            0.078254   \n\n       Condition_code_icd10_subcategory_10  ...  immunization_381  \\\n0                                -0.018808  ...         -0.044259   \n1                                 0.005912  ...          0.031517   \n2                                 0.012151  ...         -0.004948   \n3                                -0.050519  ...          0.045791   \n4                                -0.068763  ...          0.004231   \n...                                    ...  ...               ...   \n29995                            -0.003226  ...          0.031778   \n29996                             0.014961  ...          0.025785   \n29997                            -0.010240  ...          0.039152   \n29998                             0.010590  ...          0.032945   \n29999                            -0.041092  ...          0.026137   \n\n       immunization_382  immunization_383  immunization_384      Pain  \\\n0              0.005946          0.094992          0.010534  1.883792   \n1              0.033349          0.104835         -0.076060  2.595485   \n2              0.005042          0.075084          0.011393 -0.607133   \n3             -0.009878          0.012744          0.008077 -0.251287   \n4             -0.030956         -0.043704          0.017414 -0.607133   \n...                 ...               ...               ...       ...   \n29995          0.000088          0.007788          0.021906 -0.607133   \n29996         -0.002486          0.022058          0.017961  0.460406   \n29997         -0.006917          0.023072          0.021335 -0.607133   \n29998          0.030401          0.099312         -0.062291 -0.607133   \n29999         -0.052496         -0.029291          0.034592  0.104560   \n\n          Pulse  Respiratory rate  Temperature  Diastolic bp  Systolic bp  \n0      0.505296         -0.046615    -0.107612     -0.027003    -0.197402  \n1      0.945192          0.718815     0.303917     -0.480465    -1.501723  \n2      0.114277         -0.556901     0.296199      0.426459     1.233144  \n3     -3.649279         -4.384047    -6.004774      0.728767    -0.534001  \n4     -0.716638         -0.556901     0.235812      0.728767     0.391647  \n...         ...               ...          ...           ...          ...  \n29995  0.847437          0.463672    -0.143725      0.350882    -0.491926  \n29996 -0.472251          0.463672     0.319461     -0.556041     0.644096  \n29997  1.531720          0.718815     0.052925      2.240305     1.906342  \n29998  0.065400         -0.046615     0.414611      0.879920     1.485594  \n29999 -0.423374          0.718815    -0.029706     -0.707195     2.789915  \n\n[30000 rows x 1158 columns]",
            "text/html": "<div>\n<style scoped>\n    .dataframe tbody tr th:only-of-type {\n        vertical-align: middle;\n    }\n\n    .dataframe tbody tr th {\n        vertical-align: top;\n    }\n\n    .dataframe thead th {\n        text-align: right;\n    }\n</style>\n<table border=\"1\" class=\"dataframe\">\n  <thead>\n    <tr style=\"text-align: right;\">\n      <th></th>\n      <th>Condition_code_icd10_subcategory_1</th>\n      <th>Condition_code_icd10_subcategory_2</th>\n      <th>Condition_code_icd10_subcategory_3</th>\n      <th>Condition_code_icd10_subcategory_4</th>\n      <th>Condition_code_icd10_subcategory_5</th>\n      <th>Condition_code_icd10_subcategory_6</th>\n      <th>Condition_code_icd10_subcategory_7</th>\n      <th>Condition_code_icd10_subcategory_8</th>\n      <th>Condition_code_icd10_subcategory_9</th>\n      <th>Condition_code_icd10_subcategory_10</th>\n      <th>...</th>\n      <th>immunization_381</th>\n      <th>immunization_382</th>\n      <th>immunization_383</th>\n      <th>immunization_384</th>\n      <th>Pain</th>\n      <th>Pulse</th>\n      <th>Respiratory rate</th>\n      <th>Temperature</th>\n      <th>Diastolic bp</th>\n      <th>Systolic bp</th>\n    </tr>\n  </thead>\n  <tbody>\n    <tr>\n      <th>0</th>\n      <td>-0.017366</td>\n      <td>0.003037</td>\n      <td>0.002231</td>\n      <td>0.002128</td>\n      <td>-0.050864</td>\n      <td>0.004145</td>\n      <td>-0.004057</td>\n      <td>0.032325</td>\n      <td>-0.014228</td>\n      <td>-0.018808</td>\n      <td>...</td>\n      <td>-0.044259</td>\n      <td>0.005946</td>\n      <td>0.094992</td>\n      <td>0.010534</td>\n      <td>1.883792</td>\n      <td>0.505296</td>\n      <td>-0.046615</td>\n      <td>-0.107612</td>\n      <td>-0.027003</td>\n      <td>-0.197402</td>\n    </tr>\n    <tr>\n      <th>1</th>\n      <td>0.004205</td>\n      <td>0.007342</td>\n      <td>0.034012</td>\n      <td>-0.010250</td>\n      <td>-0.061574</td>\n      <td>-0.061187</td>\n      <td>-0.037517</td>\n      <td>0.033733</td>\n      <td>0.001891</td>\n      <td>0.005912</td>\n      <td>...</td>\n      <td>0.031517</td>\n      <td>0.033349</td>\n      <td>0.104835</td>\n      <td>-0.076060</td>\n      <td>2.595485</td>\n      <td>0.945192</td>\n      <td>0.718815</td>\n      <td>0.303917</td>\n      <td>-0.480465</td>\n      <td>-1.501723</td>\n    </tr>\n    <tr>\n      <th>2</th>\n      <td>0.025011</td>\n      <td>0.001938</td>\n      <td>0.019945</td>\n      <td>0.003415</td>\n      <td>-0.005157</td>\n      <td>0.005085</td>\n      <td>0.027793</td>\n      <td>-0.008179</td>\n      <td>0.004094</td>\n      <td>0.012151</td>\n      <td>...</td>\n      <td>-0.004948</td>\n      <td>0.005042</td>\n      <td>0.075084</td>\n      <td>0.011393</td>\n      <td>-0.607133</td>\n      <td>0.114277</td>\n      <td>-0.556901</td>\n      <td>0.296199</td>\n      <td>0.426459</td>\n      <td>1.233144</td>\n    </tr>\n    <tr>\n      <th>3</th>\n      <td>-0.032163</td>\n      <td>0.095794</td>\n      <td>0.044017</td>\n      <td>0.070280</td>\n      <td>0.064118</td>\n      <td>-0.032749</td>\n      <td>-0.017461</td>\n      <td>0.106380</td>\n      <td>0.035805</td>\n      <td>-0.050519</td>\n      <td>...</td>\n      <td>0.045791</td>\n      <td>-0.009878</td>\n      <td>0.012744</td>\n      <td>0.008077</td>\n      <td>-0.251287</td>\n      <td>-3.649279</td>\n      <td>-4.384047</td>\n      <td>-6.004774</td>\n      <td>0.728767</td>\n      <td>-0.534001</td>\n    </tr>\n    <tr>\n      <th>4</th>\n      <td>-0.095274</td>\n      <td>0.006533</td>\n      <td>0.027504</td>\n      <td>0.016621</td>\n      <td>-0.050905</td>\n      <td>0.073470</td>\n      <td>-0.088379</td>\n      <td>0.142815</td>\n      <td>0.072036</td>\n      <td>-0.068763</td>\n      <td>...</td>\n      <td>0.004231</td>\n      <td>-0.030956</td>\n      <td>-0.043704</td>\n      <td>0.017414</td>\n      <td>-0.607133</td>\n      <td>-0.716638</td>\n      <td>-0.556901</td>\n      <td>0.235812</td>\n      <td>0.728767</td>\n      <td>0.391647</td>\n    </tr>\n    <tr>\n      <th>...</th>\n      <td>...</td>\n      <td>...</td>\n      <td>...</td>\n      <td>...</td>\n      <td>...</td>\n      <td>...</td>\n      <td>...</td>\n      <td>...</td>\n      <td>...</td>\n      <td>...</td>\n      <td>...</td>\n      <td>...</td>\n      <td>...</td>\n      <td>...</td>\n      <td>...</td>\n      <td>...</td>\n      <td>...</td>\n      <td>...</td>\n      <td>...</td>\n      <td>...</td>\n      <td>...</td>\n    </tr>\n    <tr>\n      <th>29995</th>\n      <td>-0.025456</td>\n      <td>0.006528</td>\n      <td>0.000404</td>\n      <td>-0.000488</td>\n      <td>0.001541</td>\n      <td>-0.004563</td>\n      <td>-0.005807</td>\n      <td>0.019124</td>\n      <td>-0.016453</td>\n      <td>-0.003226</td>\n      <td>...</td>\n      <td>0.031778</td>\n      <td>0.000088</td>\n      <td>0.007788</td>\n      <td>0.021906</td>\n      <td>-0.607133</td>\n      <td>0.847437</td>\n      <td>0.463672</td>\n      <td>-0.143725</td>\n      <td>0.350882</td>\n      <td>-0.491926</td>\n    </tr>\n    <tr>\n      <th>29996</th>\n      <td>0.011306</td>\n      <td>0.005914</td>\n      <td>0.004154</td>\n      <td>0.012038</td>\n      <td>-0.009262</td>\n      <td>0.025867</td>\n      <td>0.003533</td>\n      <td>0.000154</td>\n      <td>0.009271</td>\n      <td>0.014961</td>\n      <td>...</td>\n      <td>0.025785</td>\n      <td>-0.002486</td>\n      <td>0.022058</td>\n      <td>0.017961</td>\n      <td>0.460406</td>\n      <td>-0.472251</td>\n      <td>0.463672</td>\n      <td>0.319461</td>\n      <td>-0.556041</td>\n      <td>0.644096</td>\n    </tr>\n    <tr>\n      <th>29997</th>\n      <td>0.004911</td>\n      <td>0.029397</td>\n      <td>0.045820</td>\n      <td>0.092142</td>\n      <td>0.028850</td>\n      <td>0.083012</td>\n      <td>0.102367</td>\n      <td>0.058000</td>\n      <td>-0.072349</td>\n      <td>-0.010240</td>\n      <td>...</td>\n      <td>0.039152</td>\n      <td>-0.006917</td>\n      <td>0.023072</td>\n      <td>0.021335</td>\n      <td>-0.607133</td>\n      <td>1.531720</td>\n      <td>0.718815</td>\n      <td>0.052925</td>\n      <td>2.240305</td>\n      <td>1.906342</td>\n    </tr>\n    <tr>\n      <th>29998</th>\n      <td>-0.015446</td>\n      <td>0.026274</td>\n      <td>0.011866</td>\n      <td>-0.008752</td>\n      <td>-0.009355</td>\n      <td>0.003647</td>\n      <td>0.035259</td>\n      <td>-0.003794</td>\n      <td>-0.009217</td>\n      <td>0.010590</td>\n      <td>...</td>\n      <td>0.032945</td>\n      <td>0.030401</td>\n      <td>0.099312</td>\n      <td>-0.062291</td>\n      <td>-0.607133</td>\n      <td>0.065400</td>\n      <td>-0.046615</td>\n      <td>0.414611</td>\n      <td>0.879920</td>\n      <td>1.485594</td>\n    </tr>\n    <tr>\n      <th>29999</th>\n      <td>-0.003351</td>\n      <td>0.168488</td>\n      <td>0.111461</td>\n      <td>0.008948</td>\n      <td>-0.016129</td>\n      <td>-0.055117</td>\n      <td>0.055800</td>\n      <td>0.104430</td>\n      <td>0.078254</td>\n      <td>-0.041092</td>\n      <td>...</td>\n      <td>0.026137</td>\n      <td>-0.052496</td>\n      <td>-0.029291</td>\n      <td>0.034592</td>\n      <td>0.104560</td>\n      <td>-0.423374</td>\n      <td>0.718815</td>\n      <td>-0.029706</td>\n      <td>-0.707195</td>\n      <td>2.789915</td>\n    </tr>\n  </tbody>\n</table>\n<p>30000 rows × 1158 columns</p>\n</div>"
          },
          "metadata": {}
        }
      ],
      "execution_count": null,
      "metadata": {
        "jupyter": {
          "source_hidden": false,
          "outputs_hidden": false
        },
        "nteract": {
          "transient": {
            "deleting": false
          }
        },
        "gather": {
          "logged": 1689766791386
        },
        "id": "Lw9RDLMXXR1C",
        "outputId": "38cd3634-22ac-4444-de16-5783dc76098b"
      }
    },
    {
      "cell_type": "markdown",
      "source": [
        "## **Training data is Done**"
      ],
      "metadata": {
        "nteract": {
          "transient": {
            "deleting": false
          }
        },
        "id": "nPrhXC6mXR1D"
      }
    },
    {
      "cell_type": "code",
      "source": [
        "test_df = pd.read_csv('/mnt/batch/tasks/shared/LS_root/mounts/clusters/nisha-gpu3/code/Users/900379/Final_data_frames/Whole_df_test.csv')\n",
        "test_df"
      ],
      "outputs": [
        {
          "output_type": "execute_result",
          "execution_count": 25,
          "data": {
            "text/plain": "       Unnamed: 0  Internalpatientid  \\\n0               0                  6   \n1               1                  7   \n2               2                  9   \n3               3                 12   \n4               4                 17   \n...           ...                ...   \n34808       34808              64432   \n34809       34809             106205   \n34810       34810             138129   \n34811       34811             145401   \n34812       34812             163322   \n\n                        Condition_code_icd10_subcategory  \\\n0                          88_Other specified counseling   \n1                     74_Dental caries on smooth surface   \n2      52_Hypertensive heart disease with heart failu...   \n3      74_Polyosteoarthritis, unspecified ; Osteoarth...   \n4      82_Encounter for other specified aftercare,82_...   \n...                                                  ...   \n34808                                  positive/negative   \n34809                                  positive/negative   \n34810                                  positive/negative   \n34811                                  positive/negative   \n34812                                  positive/negative   \n\n                                            immunization  \\\n0                              88_FLU,3 YRS (HISTORICAL)   \n1      73_INFLUENZA, INJECTABLE, QUADRIVALENT, PRESER...   \n2                                      positive/negative   \n3                              71_FLU,3 YRS (HISTORICAL)   \n4          82_INFLUENZA (HISTORICAL),82_INFLUENZA, WHOLE   \n...                                                  ...   \n34808                                  positive/negative   \n34809                                  positive/negative   \n34810                                  positive/negative   \n34811                                  positive/negative   \n34812                                  positive/negative   \n\n                             Lab_test_description_Result  Diastolic bp  \\\n0      88_FINGERSTICK INR (COAGUCHEK)_2.57,88_FINGERS...          67.0   \n1      74_RBC_4.79,74_ABS MONOCYTE_0.71,74_BASOPHIL %...          72.0   \n2      52_Bands_3.0,52_RDW_21.2*,52_ZZZAUTO ANISO_++,...          52.0   \n3      74_LDL-CHOL CALCULATION_69.74,74_SODIUM (blood...          67.0   \n4      82_HCO3-_12.0,82_ICTERUS INDEX_2.0,82_SODIUM_1...          61.0   \n...                                                  ...           ...   \n34808  71_CK/CPK_25.0,71_IONIZED CALCIUM (dc'd 022321...          50.0   \n34809  79_B2 GLYCOPROTEIN I (IGM)AB_3.72,79_B2 GLYCOP...          69.0   \n34810  54_PROCALCITONIN (PCT)_7.08,54_LDH_9582.0,54_L...          64.0   \n34811                  75_MRSA SURVL NARES AGAR_Negative          56.0   \n34812  62_BUN/CREATININE RATIO_19.0,62_eGFR (DC'd 2/1...          65.0   \n\n       Systolic bp  Pain  Pulse  Respiratory rate  Temperature  death  \n0            126.0   0.0   51.0              16.0    97.030389    1.0  \n1            116.0   0.0   67.0              19.0    97.567325    0.0  \n2            105.0   0.0   91.0              21.0    98.600910    1.0  \n3            104.0   3.0   64.0              24.0    97.693046    1.0  \n4             86.0   0.0   63.0              25.0   101.122904    1.0  \n...            ...   ...    ...               ...          ...    ...  \n34808        132.0   0.0   41.0              25.0    99.396176    1.0  \n34809        132.0   0.0  114.0              23.0   102.395419    1.0  \n34810         84.0   0.0   94.0              29.0    93.109955    1.0  \n34811        103.0   4.0   77.0              20.0   100.525257    1.0  \n34812        102.0   0.0  123.0              22.0    97.000000    1.0  \n\n[34813 rows x 12 columns]",
            "text/html": "<div>\n<style scoped>\n    .dataframe tbody tr th:only-of-type {\n        vertical-align: middle;\n    }\n\n    .dataframe tbody tr th {\n        vertical-align: top;\n    }\n\n    .dataframe thead th {\n        text-align: right;\n    }\n</style>\n<table border=\"1\" class=\"dataframe\">\n  <thead>\n    <tr style=\"text-align: right;\">\n      <th></th>\n      <th>Unnamed: 0</th>\n      <th>Internalpatientid</th>\n      <th>Condition_code_icd10_subcategory</th>\n      <th>immunization</th>\n      <th>Lab_test_description_Result</th>\n      <th>Diastolic bp</th>\n      <th>Systolic bp</th>\n      <th>Pain</th>\n      <th>Pulse</th>\n      <th>Respiratory rate</th>\n      <th>Temperature</th>\n      <th>death</th>\n    </tr>\n  </thead>\n  <tbody>\n    <tr>\n      <th>0</th>\n      <td>0</td>\n      <td>6</td>\n      <td>88_Other specified counseling</td>\n      <td>88_FLU,3 YRS (HISTORICAL)</td>\n      <td>88_FINGERSTICK INR (COAGUCHEK)_2.57,88_FINGERS...</td>\n      <td>67.0</td>\n      <td>126.0</td>\n      <td>0.0</td>\n      <td>51.0</td>\n      <td>16.0</td>\n      <td>97.030389</td>\n      <td>1.0</td>\n    </tr>\n    <tr>\n      <th>1</th>\n      <td>1</td>\n      <td>7</td>\n      <td>74_Dental caries on smooth surface</td>\n      <td>73_INFLUENZA, INJECTABLE, QUADRIVALENT, PRESER...</td>\n      <td>74_RBC_4.79,74_ABS MONOCYTE_0.71,74_BASOPHIL %...</td>\n      <td>72.0</td>\n      <td>116.0</td>\n      <td>0.0</td>\n      <td>67.0</td>\n      <td>19.0</td>\n      <td>97.567325</td>\n      <td>0.0</td>\n    </tr>\n    <tr>\n      <th>2</th>\n      <td>2</td>\n      <td>9</td>\n      <td>52_Hypertensive heart disease with heart failu...</td>\n      <td>positive/negative</td>\n      <td>52_Bands_3.0,52_RDW_21.2*,52_ZZZAUTO ANISO_++,...</td>\n      <td>52.0</td>\n      <td>105.0</td>\n      <td>0.0</td>\n      <td>91.0</td>\n      <td>21.0</td>\n      <td>98.600910</td>\n      <td>1.0</td>\n    </tr>\n    <tr>\n      <th>3</th>\n      <td>3</td>\n      <td>12</td>\n      <td>74_Polyosteoarthritis, unspecified ; Osteoarth...</td>\n      <td>71_FLU,3 YRS (HISTORICAL)</td>\n      <td>74_LDL-CHOL CALCULATION_69.74,74_SODIUM (blood...</td>\n      <td>67.0</td>\n      <td>104.0</td>\n      <td>3.0</td>\n      <td>64.0</td>\n      <td>24.0</td>\n      <td>97.693046</td>\n      <td>1.0</td>\n    </tr>\n    <tr>\n      <th>4</th>\n      <td>4</td>\n      <td>17</td>\n      <td>82_Encounter for other specified aftercare,82_...</td>\n      <td>82_INFLUENZA (HISTORICAL),82_INFLUENZA, WHOLE</td>\n      <td>82_HCO3-_12.0,82_ICTERUS INDEX_2.0,82_SODIUM_1...</td>\n      <td>61.0</td>\n      <td>86.0</td>\n      <td>0.0</td>\n      <td>63.0</td>\n      <td>25.0</td>\n      <td>101.122904</td>\n      <td>1.0</td>\n    </tr>\n    <tr>\n      <th>...</th>\n      <td>...</td>\n      <td>...</td>\n      <td>...</td>\n      <td>...</td>\n      <td>...</td>\n      <td>...</td>\n      <td>...</td>\n      <td>...</td>\n      <td>...</td>\n      <td>...</td>\n      <td>...</td>\n      <td>...</td>\n    </tr>\n    <tr>\n      <th>34808</th>\n      <td>34808</td>\n      <td>64432</td>\n      <td>positive/negative</td>\n      <td>positive/negative</td>\n      <td>71_CK/CPK_25.0,71_IONIZED CALCIUM (dc'd 022321...</td>\n      <td>50.0</td>\n      <td>132.0</td>\n      <td>0.0</td>\n      <td>41.0</td>\n      <td>25.0</td>\n      <td>99.396176</td>\n      <td>1.0</td>\n    </tr>\n    <tr>\n      <th>34809</th>\n      <td>34809</td>\n      <td>106205</td>\n      <td>positive/negative</td>\n      <td>positive/negative</td>\n      <td>79_B2 GLYCOPROTEIN I (IGM)AB_3.72,79_B2 GLYCOP...</td>\n      <td>69.0</td>\n      <td>132.0</td>\n      <td>0.0</td>\n      <td>114.0</td>\n      <td>23.0</td>\n      <td>102.395419</td>\n      <td>1.0</td>\n    </tr>\n    <tr>\n      <th>34810</th>\n      <td>34810</td>\n      <td>138129</td>\n      <td>positive/negative</td>\n      <td>positive/negative</td>\n      <td>54_PROCALCITONIN (PCT)_7.08,54_LDH_9582.0,54_L...</td>\n      <td>64.0</td>\n      <td>84.0</td>\n      <td>0.0</td>\n      <td>94.0</td>\n      <td>29.0</td>\n      <td>93.109955</td>\n      <td>1.0</td>\n    </tr>\n    <tr>\n      <th>34811</th>\n      <td>34811</td>\n      <td>145401</td>\n      <td>positive/negative</td>\n      <td>positive/negative</td>\n      <td>75_MRSA SURVL NARES AGAR_Negative</td>\n      <td>56.0</td>\n      <td>103.0</td>\n      <td>4.0</td>\n      <td>77.0</td>\n      <td>20.0</td>\n      <td>100.525257</td>\n      <td>1.0</td>\n    </tr>\n    <tr>\n      <th>34812</th>\n      <td>34812</td>\n      <td>163322</td>\n      <td>positive/negative</td>\n      <td>positive/negative</td>\n      <td>62_BUN/CREATININE RATIO_19.0,62_eGFR (DC'd 2/1...</td>\n      <td>65.0</td>\n      <td>102.0</td>\n      <td>0.0</td>\n      <td>123.0</td>\n      <td>22.0</td>\n      <td>97.000000</td>\n      <td>1.0</td>\n    </tr>\n  </tbody>\n</table>\n<p>34813 rows × 12 columns</p>\n</div>"
          },
          "metadata": {}
        }
      ],
      "execution_count": null,
      "metadata": {
        "jupyter": {
          "source_hidden": false,
          "outputs_hidden": false
        },
        "nteract": {
          "transient": {
            "deleting": false
          }
        },
        "gather": {
          "logged": 1689766803419
        },
        "id": "OruqLhbRXR1E",
        "outputId": "87526d29-4e0c-405e-a2d3-2a713fa4a715"
      }
    },
    {
      "cell_type": "code",
      "source": [
        "test_df.drop('Unnamed: 0', axis = 1, inplace=True)\n",
        "test_df.head()"
      ],
      "outputs": [
        {
          "output_type": "execute_result",
          "execution_count": 26,
          "data": {
            "text/plain": "   Internalpatientid                   Condition_code_icd10_subcategory  \\\n0                  6                      88_Other specified counseling   \n1                  7                 74_Dental caries on smooth surface   \n2                  9  52_Hypertensive heart disease with heart failu...   \n3                 12  74_Polyosteoarthritis, unspecified ; Osteoarth...   \n4                 17  82_Encounter for other specified aftercare,82_...   \n\n                                        immunization  \\\n0                          88_FLU,3 YRS (HISTORICAL)   \n1  73_INFLUENZA, INJECTABLE, QUADRIVALENT, PRESER...   \n2                                  positive/negative   \n3                          71_FLU,3 YRS (HISTORICAL)   \n4      82_INFLUENZA (HISTORICAL),82_INFLUENZA, WHOLE   \n\n                         Lab_test_description_Result  Diastolic bp  \\\n0  88_FINGERSTICK INR (COAGUCHEK)_2.57,88_FINGERS...          67.0   \n1  74_RBC_4.79,74_ABS MONOCYTE_0.71,74_BASOPHIL %...          72.0   \n2  52_Bands_3.0,52_RDW_21.2*,52_ZZZAUTO ANISO_++,...          52.0   \n3  74_LDL-CHOL CALCULATION_69.74,74_SODIUM (blood...          67.0   \n4  82_HCO3-_12.0,82_ICTERUS INDEX_2.0,82_SODIUM_1...          61.0   \n\n   Systolic bp  Pain  Pulse  Respiratory rate  Temperature  death  \n0        126.0   0.0   51.0              16.0    97.030389    1.0  \n1        116.0   0.0   67.0              19.0    97.567325    0.0  \n2        105.0   0.0   91.0              21.0    98.600910    1.0  \n3        104.0   3.0   64.0              24.0    97.693046    1.0  \n4         86.0   0.0   63.0              25.0   101.122904    1.0  ",
            "text/html": "<div>\n<style scoped>\n    .dataframe tbody tr th:only-of-type {\n        vertical-align: middle;\n    }\n\n    .dataframe tbody tr th {\n        vertical-align: top;\n    }\n\n    .dataframe thead th {\n        text-align: right;\n    }\n</style>\n<table border=\"1\" class=\"dataframe\">\n  <thead>\n    <tr style=\"text-align: right;\">\n      <th></th>\n      <th>Internalpatientid</th>\n      <th>Condition_code_icd10_subcategory</th>\n      <th>immunization</th>\n      <th>Lab_test_description_Result</th>\n      <th>Diastolic bp</th>\n      <th>Systolic bp</th>\n      <th>Pain</th>\n      <th>Pulse</th>\n      <th>Respiratory rate</th>\n      <th>Temperature</th>\n      <th>death</th>\n    </tr>\n  </thead>\n  <tbody>\n    <tr>\n      <th>0</th>\n      <td>6</td>\n      <td>88_Other specified counseling</td>\n      <td>88_FLU,3 YRS (HISTORICAL)</td>\n      <td>88_FINGERSTICK INR (COAGUCHEK)_2.57,88_FINGERS...</td>\n      <td>67.0</td>\n      <td>126.0</td>\n      <td>0.0</td>\n      <td>51.0</td>\n      <td>16.0</td>\n      <td>97.030389</td>\n      <td>1.0</td>\n    </tr>\n    <tr>\n      <th>1</th>\n      <td>7</td>\n      <td>74_Dental caries on smooth surface</td>\n      <td>73_INFLUENZA, INJECTABLE, QUADRIVALENT, PRESER...</td>\n      <td>74_RBC_4.79,74_ABS MONOCYTE_0.71,74_BASOPHIL %...</td>\n      <td>72.0</td>\n      <td>116.0</td>\n      <td>0.0</td>\n      <td>67.0</td>\n      <td>19.0</td>\n      <td>97.567325</td>\n      <td>0.0</td>\n    </tr>\n    <tr>\n      <th>2</th>\n      <td>9</td>\n      <td>52_Hypertensive heart disease with heart failu...</td>\n      <td>positive/negative</td>\n      <td>52_Bands_3.0,52_RDW_21.2*,52_ZZZAUTO ANISO_++,...</td>\n      <td>52.0</td>\n      <td>105.0</td>\n      <td>0.0</td>\n      <td>91.0</td>\n      <td>21.0</td>\n      <td>98.600910</td>\n      <td>1.0</td>\n    </tr>\n    <tr>\n      <th>3</th>\n      <td>12</td>\n      <td>74_Polyosteoarthritis, unspecified ; Osteoarth...</td>\n      <td>71_FLU,3 YRS (HISTORICAL)</td>\n      <td>74_LDL-CHOL CALCULATION_69.74,74_SODIUM (blood...</td>\n      <td>67.0</td>\n      <td>104.0</td>\n      <td>3.0</td>\n      <td>64.0</td>\n      <td>24.0</td>\n      <td>97.693046</td>\n      <td>1.0</td>\n    </tr>\n    <tr>\n      <th>4</th>\n      <td>17</td>\n      <td>82_Encounter for other specified aftercare,82_...</td>\n      <td>82_INFLUENZA (HISTORICAL),82_INFLUENZA, WHOLE</td>\n      <td>82_HCO3-_12.0,82_ICTERUS INDEX_2.0,82_SODIUM_1...</td>\n      <td>61.0</td>\n      <td>86.0</td>\n      <td>0.0</td>\n      <td>63.0</td>\n      <td>25.0</td>\n      <td>101.122904</td>\n      <td>1.0</td>\n    </tr>\n  </tbody>\n</table>\n</div>"
          },
          "metadata": {}
        }
      ],
      "execution_count": null,
      "metadata": {
        "jupyter": {
          "source_hidden": false,
          "outputs_hidden": false
        },
        "nteract": {
          "transient": {
            "deleting": false
          }
        },
        "gather": {
          "logged": 1689766807380
        },
        "id": "mc5FAYR6XR1E",
        "outputId": "62e464b3-f6d0-4653-a762-ec90c42a814c"
      }
    },
    {
      "cell_type": "code",
      "source": [
        "df_test_text = test_df[['Condition_code_icd10_subcategory', 'Lab_test_description_Result', 'immunization']]\n",
        "df_test_num = test_df[['Pain', 'Pulse', 'Respiratory rate', 'Temperature', 'Diastolic bp', 'Systolic bp']]\n",
        "target_test = test_df[['death']]"
      ],
      "outputs": [],
      "execution_count": null,
      "metadata": {
        "jupyter": {
          "source_hidden": false,
          "outputs_hidden": false
        },
        "nteract": {
          "transient": {
            "deleting": false
          }
        },
        "gather": {
          "logged": 1689766811564
        },
        "id": "oEjOK1eeXR1F"
      }
    },
    {
      "cell_type": "code",
      "source": [
        "target_test['death'] = target_test['death'].astype(int)\n",
        "target_test"
      ],
      "outputs": [
        {
          "output_type": "stream",
          "name": "stderr",
          "text": "/tmp/ipykernel_39960/3643095031.py:1: SettingWithCopyWarning: \nA value is trying to be set on a copy of a slice from a DataFrame.\nTry using .loc[row_indexer,col_indexer] = value instead\n\nSee the caveats in the documentation: https://pandas.pydata.org/pandas-docs/stable/user_guide/indexing.html#returning-a-view-versus-a-copy\n  target_test['death'] = target_test['death'].astype(int)\n"
        },
        {
          "output_type": "execute_result",
          "execution_count": 28,
          "data": {
            "text/plain": "       death\n0          1\n1          0\n2          1\n3          1\n4          1\n...      ...\n34808      1\n34809      1\n34810      1\n34811      1\n34812      1\n\n[34813 rows x 1 columns]",
            "text/html": "<div>\n<style scoped>\n    .dataframe tbody tr th:only-of-type {\n        vertical-align: middle;\n    }\n\n    .dataframe tbody tr th {\n        vertical-align: top;\n    }\n\n    .dataframe thead th {\n        text-align: right;\n    }\n</style>\n<table border=\"1\" class=\"dataframe\">\n  <thead>\n    <tr style=\"text-align: right;\">\n      <th></th>\n      <th>death</th>\n    </tr>\n  </thead>\n  <tbody>\n    <tr>\n      <th>0</th>\n      <td>1</td>\n    </tr>\n    <tr>\n      <th>1</th>\n      <td>0</td>\n    </tr>\n    <tr>\n      <th>2</th>\n      <td>1</td>\n    </tr>\n    <tr>\n      <th>3</th>\n      <td>1</td>\n    </tr>\n    <tr>\n      <th>4</th>\n      <td>1</td>\n    </tr>\n    <tr>\n      <th>...</th>\n      <td>...</td>\n    </tr>\n    <tr>\n      <th>34808</th>\n      <td>1</td>\n    </tr>\n    <tr>\n      <th>34809</th>\n      <td>1</td>\n    </tr>\n    <tr>\n      <th>34810</th>\n      <td>1</td>\n    </tr>\n    <tr>\n      <th>34811</th>\n      <td>1</td>\n    </tr>\n    <tr>\n      <th>34812</th>\n      <td>1</td>\n    </tr>\n  </tbody>\n</table>\n<p>34813 rows × 1 columns</p>\n</div>"
          },
          "metadata": {}
        }
      ],
      "execution_count": null,
      "metadata": {
        "jupyter": {
          "source_hidden": false,
          "outputs_hidden": false
        },
        "nteract": {
          "transient": {
            "deleting": false
          }
        },
        "gather": {
          "logged": 1689766813170
        },
        "id": "qmHq7yA-XR1F",
        "outputId": "732814b0-94cd-4272-a61a-505334dc1496"
      }
    },
    {
      "cell_type": "code",
      "source": [
        "target_test['death'].value_counts()"
      ],
      "outputs": [
        {
          "output_type": "execute_result",
          "execution_count": 29,
          "data": {
            "text/plain": "1    25328\n0     9485\nName: death, dtype: int64"
          },
          "metadata": {}
        }
      ],
      "execution_count": null,
      "metadata": {
        "jupyter": {
          "source_hidden": false,
          "outputs_hidden": false
        },
        "nteract": {
          "transient": {
            "deleting": false
          }
        },
        "gather": {
          "logged": 1689766817284
        },
        "id": "GZHggWAcXR1F",
        "outputId": "308c500e-675b-4922-87fc-adddd7c44a75"
      }
    },
    {
      "cell_type": "code",
      "source": [
        "df_test_num"
      ],
      "outputs": [
        {
          "output_type": "execute_result",
          "execution_count": 30,
          "data": {
            "text/plain": "       Pain  Pulse  Respiratory rate  Temperature  Diastolic bp  Systolic bp\n0       0.0   51.0              16.0    97.030389          67.0        126.0\n1       0.0   67.0              19.0    97.567325          72.0        116.0\n2       0.0   91.0              21.0    98.600910          52.0        105.0\n3       3.0   64.0              24.0    97.693046          67.0        104.0\n4       0.0   63.0              25.0   101.122904          61.0         86.0\n...     ...    ...               ...          ...           ...          ...\n34808   0.0   41.0              25.0    99.396176          50.0        132.0\n34809   0.0  114.0              23.0   102.395419          69.0        132.0\n34810   0.0   94.0              29.0    93.109955          64.0         84.0\n34811   4.0   77.0              20.0   100.525257          56.0        103.0\n34812   0.0  123.0              22.0    97.000000          65.0        102.0\n\n[34813 rows x 6 columns]",
            "text/html": "<div>\n<style scoped>\n    .dataframe tbody tr th:only-of-type {\n        vertical-align: middle;\n    }\n\n    .dataframe tbody tr th {\n        vertical-align: top;\n    }\n\n    .dataframe thead th {\n        text-align: right;\n    }\n</style>\n<table border=\"1\" class=\"dataframe\">\n  <thead>\n    <tr style=\"text-align: right;\">\n      <th></th>\n      <th>Pain</th>\n      <th>Pulse</th>\n      <th>Respiratory rate</th>\n      <th>Temperature</th>\n      <th>Diastolic bp</th>\n      <th>Systolic bp</th>\n    </tr>\n  </thead>\n  <tbody>\n    <tr>\n      <th>0</th>\n      <td>0.0</td>\n      <td>51.0</td>\n      <td>16.0</td>\n      <td>97.030389</td>\n      <td>67.0</td>\n      <td>126.0</td>\n    </tr>\n    <tr>\n      <th>1</th>\n      <td>0.0</td>\n      <td>67.0</td>\n      <td>19.0</td>\n      <td>97.567325</td>\n      <td>72.0</td>\n      <td>116.0</td>\n    </tr>\n    <tr>\n      <th>2</th>\n      <td>0.0</td>\n      <td>91.0</td>\n      <td>21.0</td>\n      <td>98.600910</td>\n      <td>52.0</td>\n      <td>105.0</td>\n    </tr>\n    <tr>\n      <th>3</th>\n      <td>3.0</td>\n      <td>64.0</td>\n      <td>24.0</td>\n      <td>97.693046</td>\n      <td>67.0</td>\n      <td>104.0</td>\n    </tr>\n    <tr>\n      <th>4</th>\n      <td>0.0</td>\n      <td>63.0</td>\n      <td>25.0</td>\n      <td>101.122904</td>\n      <td>61.0</td>\n      <td>86.0</td>\n    </tr>\n    <tr>\n      <th>...</th>\n      <td>...</td>\n      <td>...</td>\n      <td>...</td>\n      <td>...</td>\n      <td>...</td>\n      <td>...</td>\n    </tr>\n    <tr>\n      <th>34808</th>\n      <td>0.0</td>\n      <td>41.0</td>\n      <td>25.0</td>\n      <td>99.396176</td>\n      <td>50.0</td>\n      <td>132.0</td>\n    </tr>\n    <tr>\n      <th>34809</th>\n      <td>0.0</td>\n      <td>114.0</td>\n      <td>23.0</td>\n      <td>102.395419</td>\n      <td>69.0</td>\n      <td>132.0</td>\n    </tr>\n    <tr>\n      <th>34810</th>\n      <td>0.0</td>\n      <td>94.0</td>\n      <td>29.0</td>\n      <td>93.109955</td>\n      <td>64.0</td>\n      <td>84.0</td>\n    </tr>\n    <tr>\n      <th>34811</th>\n      <td>4.0</td>\n      <td>77.0</td>\n      <td>20.0</td>\n      <td>100.525257</td>\n      <td>56.0</td>\n      <td>103.0</td>\n    </tr>\n    <tr>\n      <th>34812</th>\n      <td>0.0</td>\n      <td>123.0</td>\n      <td>22.0</td>\n      <td>97.000000</td>\n      <td>65.0</td>\n      <td>102.0</td>\n    </tr>\n  </tbody>\n</table>\n<p>34813 rows × 6 columns</p>\n</div>"
          },
          "metadata": {}
        }
      ],
      "execution_count": null,
      "metadata": {
        "jupyter": {
          "source_hidden": false,
          "outputs_hidden": false
        },
        "nteract": {
          "transient": {
            "deleting": false
          }
        },
        "gather": {
          "logged": 1689766819443
        },
        "id": "IFmgT32wXR1F",
        "outputId": "7649f247-3cd1-4d8d-8e81-6781c41cb874"
      }
    },
    {
      "cell_type": "code",
      "source": [
        "from sklearn.preprocessing import StandardScaler\n",
        "\n",
        "scaler = StandardScaler()\n",
        "df_test_num = pd.DataFrame(scaler.fit_transform(df_test_num), columns=df_test_num.columns)"
      ],
      "outputs": [],
      "execution_count": null,
      "metadata": {
        "jupyter": {
          "source_hidden": false,
          "outputs_hidden": false
        },
        "nteract": {
          "transient": {
            "deleting": false
          }
        },
        "gather": {
          "logged": 1689766823458
        },
        "id": "wekvNJORXR1G"
      }
    },
    {
      "cell_type": "code",
      "source": [
        "df_test_num"
      ],
      "outputs": [
        {
          "output_type": "execute_result",
          "execution_count": 32,
          "data": {
            "text/plain": "           Pain     Pulse  Respiratory rate  Temperature  Diastolic bp  \\\n0     -0.602408 -1.232983         -0.567447     0.111686     -0.185609   \n1     -0.602408 -0.438079          0.215376     0.147267      0.196787   \n2     -0.602408  0.754278          0.737258     0.215760     -1.332796   \n3      0.467482 -0.587123          1.520081     0.155599     -0.185609   \n4     -0.602408 -0.636805          1.781022     0.382885     -0.644484   \n...         ...       ...               ...          ...           ...   \n34808 -0.602408 -1.729799          1.781022     0.268460     -1.485754   \n34809 -0.602408  1.896953          1.259140     0.467211     -0.032651   \n34810 -0.602408  0.903323          2.824786    -0.148109     -0.415046   \n34811  0.824112  0.058736          0.476317     0.343281     -1.026879   \n34812 -0.602408  2.344087          0.998199     0.109673     -0.338567   \n\n       Systolic bp  \n0         0.052023  \n1        -0.369938  \n2        -0.834096  \n3        -0.876292  \n4        -1.635823  \n...            ...  \n34808     0.305200  \n34809     0.305200  \n34810    -1.720215  \n34811    -0.918488  \n34812    -0.960684  \n\n[34813 rows x 6 columns]",
            "text/html": "<div>\n<style scoped>\n    .dataframe tbody tr th:only-of-type {\n        vertical-align: middle;\n    }\n\n    .dataframe tbody tr th {\n        vertical-align: top;\n    }\n\n    .dataframe thead th {\n        text-align: right;\n    }\n</style>\n<table border=\"1\" class=\"dataframe\">\n  <thead>\n    <tr style=\"text-align: right;\">\n      <th></th>\n      <th>Pain</th>\n      <th>Pulse</th>\n      <th>Respiratory rate</th>\n      <th>Temperature</th>\n      <th>Diastolic bp</th>\n      <th>Systolic bp</th>\n    </tr>\n  </thead>\n  <tbody>\n    <tr>\n      <th>0</th>\n      <td>-0.602408</td>\n      <td>-1.232983</td>\n      <td>-0.567447</td>\n      <td>0.111686</td>\n      <td>-0.185609</td>\n      <td>0.052023</td>\n    </tr>\n    <tr>\n      <th>1</th>\n      <td>-0.602408</td>\n      <td>-0.438079</td>\n      <td>0.215376</td>\n      <td>0.147267</td>\n      <td>0.196787</td>\n      <td>-0.369938</td>\n    </tr>\n    <tr>\n      <th>2</th>\n      <td>-0.602408</td>\n      <td>0.754278</td>\n      <td>0.737258</td>\n      <td>0.215760</td>\n      <td>-1.332796</td>\n      <td>-0.834096</td>\n    </tr>\n    <tr>\n      <th>3</th>\n      <td>0.467482</td>\n      <td>-0.587123</td>\n      <td>1.520081</td>\n      <td>0.155599</td>\n      <td>-0.185609</td>\n      <td>-0.876292</td>\n    </tr>\n    <tr>\n      <th>4</th>\n      <td>-0.602408</td>\n      <td>-0.636805</td>\n      <td>1.781022</td>\n      <td>0.382885</td>\n      <td>-0.644484</td>\n      <td>-1.635823</td>\n    </tr>\n    <tr>\n      <th>...</th>\n      <td>...</td>\n      <td>...</td>\n      <td>...</td>\n      <td>...</td>\n      <td>...</td>\n      <td>...</td>\n    </tr>\n    <tr>\n      <th>34808</th>\n      <td>-0.602408</td>\n      <td>-1.729799</td>\n      <td>1.781022</td>\n      <td>0.268460</td>\n      <td>-1.485754</td>\n      <td>0.305200</td>\n    </tr>\n    <tr>\n      <th>34809</th>\n      <td>-0.602408</td>\n      <td>1.896953</td>\n      <td>1.259140</td>\n      <td>0.467211</td>\n      <td>-0.032651</td>\n      <td>0.305200</td>\n    </tr>\n    <tr>\n      <th>34810</th>\n      <td>-0.602408</td>\n      <td>0.903323</td>\n      <td>2.824786</td>\n      <td>-0.148109</td>\n      <td>-0.415046</td>\n      <td>-1.720215</td>\n    </tr>\n    <tr>\n      <th>34811</th>\n      <td>0.824112</td>\n      <td>0.058736</td>\n      <td>0.476317</td>\n      <td>0.343281</td>\n      <td>-1.026879</td>\n      <td>-0.918488</td>\n    </tr>\n    <tr>\n      <th>34812</th>\n      <td>-0.602408</td>\n      <td>2.344087</td>\n      <td>0.998199</td>\n      <td>0.109673</td>\n      <td>-0.338567</td>\n      <td>-0.960684</td>\n    </tr>\n  </tbody>\n</table>\n<p>34813 rows × 6 columns</p>\n</div>"
          },
          "metadata": {}
        }
      ],
      "execution_count": null,
      "metadata": {
        "jupyter": {
          "source_hidden": false,
          "outputs_hidden": false
        },
        "nteract": {
          "transient": {
            "deleting": false
          }
        },
        "gather": {
          "logged": 1689766825372
        },
        "id": "FhVZVsjIXR1G",
        "outputId": "9adf4414-23dc-48a8-9f3f-29eceaf44581"
      }
    },
    {
      "cell_type": "code",
      "source": [
        "df_test_text"
      ],
      "outputs": [
        {
          "output_type": "execute_result",
          "execution_count": 33,
          "data": {
            "text/plain": "                        Condition_code_icd10_subcategory  \\\n0                          88_Other specified counseling   \n1                     74_Dental caries on smooth surface   \n2      52_Hypertensive heart disease with heart failu...   \n3      74_Polyosteoarthritis, unspecified ; Osteoarth...   \n4      82_Encounter for other specified aftercare,82_...   \n...                                                  ...   \n34808                                  positive/negative   \n34809                                  positive/negative   \n34810                                  positive/negative   \n34811                                  positive/negative   \n34812                                  positive/negative   \n\n                             Lab_test_description_Result  \\\n0      88_FINGERSTICK INR (COAGUCHEK)_2.57,88_FINGERS...   \n1      74_RBC_4.79,74_ABS MONOCYTE_0.71,74_BASOPHIL %...   \n2      52_Bands_3.0,52_RDW_21.2*,52_ZZZAUTO ANISO_++,...   \n3      74_LDL-CHOL CALCULATION_69.74,74_SODIUM (blood...   \n4      82_HCO3-_12.0,82_ICTERUS INDEX_2.0,82_SODIUM_1...   \n...                                                  ...   \n34808  71_CK/CPK_25.0,71_IONIZED CALCIUM (dc'd 022321...   \n34809  79_B2 GLYCOPROTEIN I (IGM)AB_3.72,79_B2 GLYCOP...   \n34810  54_PROCALCITONIN (PCT)_7.08,54_LDH_9582.0,54_L...   \n34811                  75_MRSA SURVL NARES AGAR_Negative   \n34812  62_BUN/CREATININE RATIO_19.0,62_eGFR (DC'd 2/1...   \n\n                                            immunization  \n0                              88_FLU,3 YRS (HISTORICAL)  \n1      73_INFLUENZA, INJECTABLE, QUADRIVALENT, PRESER...  \n2                                      positive/negative  \n3                              71_FLU,3 YRS (HISTORICAL)  \n4          82_INFLUENZA (HISTORICAL),82_INFLUENZA, WHOLE  \n...                                                  ...  \n34808                                  positive/negative  \n34809                                  positive/negative  \n34810                                  positive/negative  \n34811                                  positive/negative  \n34812                                  positive/negative  \n\n[34813 rows x 3 columns]",
            "text/html": "<div>\n<style scoped>\n    .dataframe tbody tr th:only-of-type {\n        vertical-align: middle;\n    }\n\n    .dataframe tbody tr th {\n        vertical-align: top;\n    }\n\n    .dataframe thead th {\n        text-align: right;\n    }\n</style>\n<table border=\"1\" class=\"dataframe\">\n  <thead>\n    <tr style=\"text-align: right;\">\n      <th></th>\n      <th>Condition_code_icd10_subcategory</th>\n      <th>Lab_test_description_Result</th>\n      <th>immunization</th>\n    </tr>\n  </thead>\n  <tbody>\n    <tr>\n      <th>0</th>\n      <td>88_Other specified counseling</td>\n      <td>88_FINGERSTICK INR (COAGUCHEK)_2.57,88_FINGERS...</td>\n      <td>88_FLU,3 YRS (HISTORICAL)</td>\n    </tr>\n    <tr>\n      <th>1</th>\n      <td>74_Dental caries on smooth surface</td>\n      <td>74_RBC_4.79,74_ABS MONOCYTE_0.71,74_BASOPHIL %...</td>\n      <td>73_INFLUENZA, INJECTABLE, QUADRIVALENT, PRESER...</td>\n    </tr>\n    <tr>\n      <th>2</th>\n      <td>52_Hypertensive heart disease with heart failu...</td>\n      <td>52_Bands_3.0,52_RDW_21.2*,52_ZZZAUTO ANISO_++,...</td>\n      <td>positive/negative</td>\n    </tr>\n    <tr>\n      <th>3</th>\n      <td>74_Polyosteoarthritis, unspecified ; Osteoarth...</td>\n      <td>74_LDL-CHOL CALCULATION_69.74,74_SODIUM (blood...</td>\n      <td>71_FLU,3 YRS (HISTORICAL)</td>\n    </tr>\n    <tr>\n      <th>4</th>\n      <td>82_Encounter for other specified aftercare,82_...</td>\n      <td>82_HCO3-_12.0,82_ICTERUS INDEX_2.0,82_SODIUM_1...</td>\n      <td>82_INFLUENZA (HISTORICAL),82_INFLUENZA, WHOLE</td>\n    </tr>\n    <tr>\n      <th>...</th>\n      <td>...</td>\n      <td>...</td>\n      <td>...</td>\n    </tr>\n    <tr>\n      <th>34808</th>\n      <td>positive/negative</td>\n      <td>71_CK/CPK_25.0,71_IONIZED CALCIUM (dc'd 022321...</td>\n      <td>positive/negative</td>\n    </tr>\n    <tr>\n      <th>34809</th>\n      <td>positive/negative</td>\n      <td>79_B2 GLYCOPROTEIN I (IGM)AB_3.72,79_B2 GLYCOP...</td>\n      <td>positive/negative</td>\n    </tr>\n    <tr>\n      <th>34810</th>\n      <td>positive/negative</td>\n      <td>54_PROCALCITONIN (PCT)_7.08,54_LDH_9582.0,54_L...</td>\n      <td>positive/negative</td>\n    </tr>\n    <tr>\n      <th>34811</th>\n      <td>positive/negative</td>\n      <td>75_MRSA SURVL NARES AGAR_Negative</td>\n      <td>positive/negative</td>\n    </tr>\n    <tr>\n      <th>34812</th>\n      <td>positive/negative</td>\n      <td>62_BUN/CREATININE RATIO_19.0,62_eGFR (DC'd 2/1...</td>\n      <td>positive/negative</td>\n    </tr>\n  </tbody>\n</table>\n<p>34813 rows × 3 columns</p>\n</div>"
          },
          "metadata": {}
        }
      ],
      "execution_count": null,
      "metadata": {
        "jupyter": {
          "source_hidden": false,
          "outputs_hidden": false
        },
        "nteract": {
          "transient": {
            "deleting": false
          }
        },
        "gather": {
          "logged": 1689766829442
        },
        "id": "-qzCTxRXXR1G",
        "outputId": "4a9284d2-fdea-45ad-971a-83b65cb2eba6"
      }
    },
    {
      "cell_type": "code",
      "source": [
        "# Load the saved models for each column\n",
        "condition_model = SentenceTransformer(\"condition_model\")\n",
        "lab_model = SentenceTransformer(\"lab_model\")\n",
        "immunization_model = SentenceTransformer(\"immunization_model\")\n",
        "\n",
        "\n",
        "df_test_text['condition_embeddings'] = df_test_text['Condition_code_icd10_subcategory'].apply(lambda x: get_embeddings(x, condition_model))\n",
        "df_test_text['lab_embeddings'] = df_test_text['Lab_test_description_Result'].apply(lambda x: get_embeddings(x, lab_model))\n",
        "df_test_text['immunization_embeddings'] = df_test_text['immunization'].apply(lambda x: get_embeddings(x, immunization_model))"
      ],
      "outputs": [
        {
          "output_type": "stream",
          "name": "stderr",
          "text": "/tmp/ipykernel_39960/4229522174.py:7: SettingWithCopyWarning: \nA value is trying to be set on a copy of a slice from a DataFrame.\nTry using .loc[row_indexer,col_indexer] = value instead\n\nSee the caveats in the documentation: https://pandas.pydata.org/pandas-docs/stable/user_guide/indexing.html#returning-a-view-versus-a-copy\n  df_test_text['condition_embeddings'] = df_test_text['Condition_code_icd10_subcategory'].apply(lambda x: get_embeddings(x, condition_model))\n/tmp/ipykernel_39960/4229522174.py:8: SettingWithCopyWarning: \nA value is trying to be set on a copy of a slice from a DataFrame.\nTry using .loc[row_indexer,col_indexer] = value instead\n\nSee the caveats in the documentation: https://pandas.pydata.org/pandas-docs/stable/user_guide/indexing.html#returning-a-view-versus-a-copy\n  df_test_text['lab_embeddings'] = df_test_text['Lab_test_description_Result'].apply(lambda x: get_embeddings(x, lab_model))\n/tmp/ipykernel_39960/4229522174.py:9: SettingWithCopyWarning: \nA value is trying to be set on a copy of a slice from a DataFrame.\nTry using .loc[row_indexer,col_indexer] = value instead\n\nSee the caveats in the documentation: https://pandas.pydata.org/pandas-docs/stable/user_guide/indexing.html#returning-a-view-versus-a-copy\n  df_test_text['immunization_embeddings'] = df_test_text['immunization'].apply(lambda x: get_embeddings(x, immunization_model))\n"
        }
      ],
      "execution_count": null,
      "metadata": {
        "jupyter": {
          "source_hidden": false,
          "outputs_hidden": false
        },
        "nteract": {
          "transient": {
            "deleting": false
          }
        },
        "gather": {
          "logged": 1689768118189
        },
        "id": "Yy6RUWYMXR1G",
        "outputId": "7c08550f-87b4-4a0e-c993-8a839323f964"
      }
    },
    {
      "cell_type": "code",
      "source": [
        "df_test_text"
      ],
      "outputs": [
        {
          "output_type": "execute_result",
          "execution_count": 35,
          "data": {
            "text/plain": "                        Condition_code_icd10_subcategory  \\\n0                          88_Other specified counseling   \n1                     74_Dental caries on smooth surface   \n2      52_Hypertensive heart disease with heart failu...   \n3      74_Polyosteoarthritis, unspecified ; Osteoarth...   \n4      82_Encounter for other specified aftercare,82_...   \n...                                                  ...   \n34808                                  positive/negative   \n34809                                  positive/negative   \n34810                                  positive/negative   \n34811                                  positive/negative   \n34812                                  positive/negative   \n\n                             Lab_test_description_Result  \\\n0      88_FINGERSTICK INR (COAGUCHEK)_2.57,88_FINGERS...   \n1      74_RBC_4.79,74_ABS MONOCYTE_0.71,74_BASOPHIL %...   \n2      52_Bands_3.0,52_RDW_21.2*,52_ZZZAUTO ANISO_++,...   \n3      74_LDL-CHOL CALCULATION_69.74,74_SODIUM (blood...   \n4      82_HCO3-_12.0,82_ICTERUS INDEX_2.0,82_SODIUM_1...   \n...                                                  ...   \n34808  71_CK/CPK_25.0,71_IONIZED CALCIUM (dc'd 022321...   \n34809  79_B2 GLYCOPROTEIN I (IGM)AB_3.72,79_B2 GLYCOP...   \n34810  54_PROCALCITONIN (PCT)_7.08,54_LDH_9582.0,54_L...   \n34811                  75_MRSA SURVL NARES AGAR_Negative   \n34812  62_BUN/CREATININE RATIO_19.0,62_eGFR (DC'd 2/1...   \n\n                                            immunization  \\\n0                              88_FLU,3 YRS (HISTORICAL)   \n1      73_INFLUENZA, INJECTABLE, QUADRIVALENT, PRESER...   \n2                                      positive/negative   \n3                              71_FLU,3 YRS (HISTORICAL)   \n4          82_INFLUENZA (HISTORICAL),82_INFLUENZA, WHOLE   \n...                                                  ...   \n34808                                  positive/negative   \n34809                                  positive/negative   \n34810                                  positive/negative   \n34811                                  positive/negative   \n34812                                  positive/negative   \n\n                                    condition_embeddings  \\\n0      [[-0.028602752834558487, 0.08323972672224045, ...   \n1      [[-0.11217323690652847, 0.10697056353092194, 0...   \n2      [[-0.1846536248922348, 0.43586266040802, 0.537...   \n3      [[0.08549321442842484, -0.4892202317714691, 1....   \n4      [[0.10413440316915512, 0.585283637046814, -0.1...   \n...                                                  ...   \n34808  [[-0.06231273338198662, 0.006395852658897638, ...   \n34809  [[-0.06231273338198662, 0.006395852658897638, ...   \n34810  [[-0.06231273338198662, 0.006395852658897638, ...   \n34811  [[-0.06231273338198662, 0.006395852658897638, ...   \n34812  [[-0.06231273338198662, 0.006395852658897638, ...   \n\n                                          lab_embeddings  \\\n0      [[-0.41884085536003113, -0.007306674961000681,...   \n1      [[-0.3821377158164978, 0.45177435874938965, -0...   \n2      [[-0.4042739272117615, 0.43476831912994385, 0....   \n3      [[-0.6105774641036987, 0.21081458032131195, -0...   \n4      [[-0.7062051296234131, 0.6313633322715759, -0....   \n...                                                  ...   \n34808  [[-0.6981671452522278, 0.6584269404411316, -0....   \n34809  [[-0.33330413699150085, 0.07661372423171997, -...   \n34810  [[-0.08290505409240723, 0.11589507758617401, -...   \n34811  [[-0.28359752893447876, 0.15218384563922882, 0...   \n34812  [[-0.37682732939720154, -0.08884617686271667, ...   \n\n                                 immunization_embeddings  \n0      [[-0.4640640318393707, -0.025361906737089157, ...  \n1      [[-0.243887260556221, 0.7173411250114441, -0.5...  \n2      [[-0.06231273338198662, 0.006395852658897638, ...  \n3      [[-0.06549470126628876, 0.1921929121017456, -0...  \n4      [[-0.3048655092716217, 0.9243533611297607, -0....  \n...                                                  ...  \n34808  [[-0.06231273338198662, 0.006395852658897638, ...  \n34809  [[-0.06231273338198662, 0.006395852658897638, ...  \n34810  [[-0.06231273338198662, 0.006395852658897638, ...  \n34811  [[-0.06231273338198662, 0.006395852658897638, ...  \n34812  [[-0.06231273338198662, 0.006395852658897638, ...  \n\n[34813 rows x 6 columns]",
            "text/html": "<div>\n<style scoped>\n    .dataframe tbody tr th:only-of-type {\n        vertical-align: middle;\n    }\n\n    .dataframe tbody tr th {\n        vertical-align: top;\n    }\n\n    .dataframe thead th {\n        text-align: right;\n    }\n</style>\n<table border=\"1\" class=\"dataframe\">\n  <thead>\n    <tr style=\"text-align: right;\">\n      <th></th>\n      <th>Condition_code_icd10_subcategory</th>\n      <th>Lab_test_description_Result</th>\n      <th>immunization</th>\n      <th>condition_embeddings</th>\n      <th>lab_embeddings</th>\n      <th>immunization_embeddings</th>\n    </tr>\n  </thead>\n  <tbody>\n    <tr>\n      <th>0</th>\n      <td>88_Other specified counseling</td>\n      <td>88_FINGERSTICK INR (COAGUCHEK)_2.57,88_FINGERS...</td>\n      <td>88_FLU,3 YRS (HISTORICAL)</td>\n      <td>[[-0.028602752834558487, 0.08323972672224045, ...</td>\n      <td>[[-0.41884085536003113, -0.007306674961000681,...</td>\n      <td>[[-0.4640640318393707, -0.025361906737089157, ...</td>\n    </tr>\n    <tr>\n      <th>1</th>\n      <td>74_Dental caries on smooth surface</td>\n      <td>74_RBC_4.79,74_ABS MONOCYTE_0.71,74_BASOPHIL %...</td>\n      <td>73_INFLUENZA, INJECTABLE, QUADRIVALENT, PRESER...</td>\n      <td>[[-0.11217323690652847, 0.10697056353092194, 0...</td>\n      <td>[[-0.3821377158164978, 0.45177435874938965, -0...</td>\n      <td>[[-0.243887260556221, 0.7173411250114441, -0.5...</td>\n    </tr>\n    <tr>\n      <th>2</th>\n      <td>52_Hypertensive heart disease with heart failu...</td>\n      <td>52_Bands_3.0,52_RDW_21.2*,52_ZZZAUTO ANISO_++,...</td>\n      <td>positive/negative</td>\n      <td>[[-0.1846536248922348, 0.43586266040802, 0.537...</td>\n      <td>[[-0.4042739272117615, 0.43476831912994385, 0....</td>\n      <td>[[-0.06231273338198662, 0.006395852658897638, ...</td>\n    </tr>\n    <tr>\n      <th>3</th>\n      <td>74_Polyosteoarthritis, unspecified ; Osteoarth...</td>\n      <td>74_LDL-CHOL CALCULATION_69.74,74_SODIUM (blood...</td>\n      <td>71_FLU,3 YRS (HISTORICAL)</td>\n      <td>[[0.08549321442842484, -0.4892202317714691, 1....</td>\n      <td>[[-0.6105774641036987, 0.21081458032131195, -0...</td>\n      <td>[[-0.06549470126628876, 0.1921929121017456, -0...</td>\n    </tr>\n    <tr>\n      <th>4</th>\n      <td>82_Encounter for other specified aftercare,82_...</td>\n      <td>82_HCO3-_12.0,82_ICTERUS INDEX_2.0,82_SODIUM_1...</td>\n      <td>82_INFLUENZA (HISTORICAL),82_INFLUENZA, WHOLE</td>\n      <td>[[0.10413440316915512, 0.585283637046814, -0.1...</td>\n      <td>[[-0.7062051296234131, 0.6313633322715759, -0....</td>\n      <td>[[-0.3048655092716217, 0.9243533611297607, -0....</td>\n    </tr>\n    <tr>\n      <th>...</th>\n      <td>...</td>\n      <td>...</td>\n      <td>...</td>\n      <td>...</td>\n      <td>...</td>\n      <td>...</td>\n    </tr>\n    <tr>\n      <th>34808</th>\n      <td>positive/negative</td>\n      <td>71_CK/CPK_25.0,71_IONIZED CALCIUM (dc'd 022321...</td>\n      <td>positive/negative</td>\n      <td>[[-0.06231273338198662, 0.006395852658897638, ...</td>\n      <td>[[-0.6981671452522278, 0.6584269404411316, -0....</td>\n      <td>[[-0.06231273338198662, 0.006395852658897638, ...</td>\n    </tr>\n    <tr>\n      <th>34809</th>\n      <td>positive/negative</td>\n      <td>79_B2 GLYCOPROTEIN I (IGM)AB_3.72,79_B2 GLYCOP...</td>\n      <td>positive/negative</td>\n      <td>[[-0.06231273338198662, 0.006395852658897638, ...</td>\n      <td>[[-0.33330413699150085, 0.07661372423171997, -...</td>\n      <td>[[-0.06231273338198662, 0.006395852658897638, ...</td>\n    </tr>\n    <tr>\n      <th>34810</th>\n      <td>positive/negative</td>\n      <td>54_PROCALCITONIN (PCT)_7.08,54_LDH_9582.0,54_L...</td>\n      <td>positive/negative</td>\n      <td>[[-0.06231273338198662, 0.006395852658897638, ...</td>\n      <td>[[-0.08290505409240723, 0.11589507758617401, -...</td>\n      <td>[[-0.06231273338198662, 0.006395852658897638, ...</td>\n    </tr>\n    <tr>\n      <th>34811</th>\n      <td>positive/negative</td>\n      <td>75_MRSA SURVL NARES AGAR_Negative</td>\n      <td>positive/negative</td>\n      <td>[[-0.06231273338198662, 0.006395852658897638, ...</td>\n      <td>[[-0.28359752893447876, 0.15218384563922882, 0...</td>\n      <td>[[-0.06231273338198662, 0.006395852658897638, ...</td>\n    </tr>\n    <tr>\n      <th>34812</th>\n      <td>positive/negative</td>\n      <td>62_BUN/CREATININE RATIO_19.0,62_eGFR (DC'd 2/1...</td>\n      <td>positive/negative</td>\n      <td>[[-0.06231273338198662, 0.006395852658897638, ...</td>\n      <td>[[-0.37682732939720154, -0.08884617686271667, ...</td>\n      <td>[[-0.06231273338198662, 0.006395852658897638, ...</td>\n    </tr>\n  </tbody>\n</table>\n<p>34813 rows × 6 columns</p>\n</div>"
          },
          "metadata": {}
        }
      ],
      "execution_count": null,
      "metadata": {
        "jupyter": {
          "source_hidden": false,
          "outputs_hidden": false
        },
        "nteract": {
          "transient": {
            "deleting": false
          }
        },
        "gather": {
          "logged": 1689768136172
        },
        "id": "VKdz43x4XR1H",
        "outputId": "9a75cca3-eba9-4a2c-c8be-5a12ed4ee6c1"
      }
    },
    {
      "cell_type": "code",
      "source": [
        "df_test_text.drop(['Condition_code_icd10_subcategory','Lab_test_description_Result','immunization'], axis = 1, inplace=True)\n",
        "df_test_text"
      ],
      "outputs": [
        {
          "output_type": "stream",
          "name": "stderr",
          "text": "/anaconda/envs/azureml_py38/lib/python3.8/site-packages/pandas/core/frame.py:4167: SettingWithCopyWarning: \nA value is trying to be set on a copy of a slice from a DataFrame\n\nSee the caveats in the documentation: https://pandas.pydata.org/pandas-docs/stable/user_guide/indexing.html#returning-a-view-versus-a-copy\n  return super().drop(\n"
        },
        {
          "output_type": "execute_result",
          "execution_count": 36,
          "data": {
            "text/plain": "                                    condition_embeddings  \\\n0      [[-0.028602752834558487, 0.08323972672224045, ...   \n1      [[-0.11217323690652847, 0.10697056353092194, 0...   \n2      [[-0.1846536248922348, 0.43586266040802, 0.537...   \n3      [[0.08549321442842484, -0.4892202317714691, 1....   \n4      [[0.10413440316915512, 0.585283637046814, -0.1...   \n...                                                  ...   \n34808  [[-0.06231273338198662, 0.006395852658897638, ...   \n34809  [[-0.06231273338198662, 0.006395852658897638, ...   \n34810  [[-0.06231273338198662, 0.006395852658897638, ...   \n34811  [[-0.06231273338198662, 0.006395852658897638, ...   \n34812  [[-0.06231273338198662, 0.006395852658897638, ...   \n\n                                          lab_embeddings  \\\n0      [[-0.41884085536003113, -0.007306674961000681,...   \n1      [[-0.3821377158164978, 0.45177435874938965, -0...   \n2      [[-0.4042739272117615, 0.43476831912994385, 0....   \n3      [[-0.6105774641036987, 0.21081458032131195, -0...   \n4      [[-0.7062051296234131, 0.6313633322715759, -0....   \n...                                                  ...   \n34808  [[-0.6981671452522278, 0.6584269404411316, -0....   \n34809  [[-0.33330413699150085, 0.07661372423171997, -...   \n34810  [[-0.08290505409240723, 0.11589507758617401, -...   \n34811  [[-0.28359752893447876, 0.15218384563922882, 0...   \n34812  [[-0.37682732939720154, -0.08884617686271667, ...   \n\n                                 immunization_embeddings  \n0      [[-0.4640640318393707, -0.025361906737089157, ...  \n1      [[-0.243887260556221, 0.7173411250114441, -0.5...  \n2      [[-0.06231273338198662, 0.006395852658897638, ...  \n3      [[-0.06549470126628876, 0.1921929121017456, -0...  \n4      [[-0.3048655092716217, 0.9243533611297607, -0....  \n...                                                  ...  \n34808  [[-0.06231273338198662, 0.006395852658897638, ...  \n34809  [[-0.06231273338198662, 0.006395852658897638, ...  \n34810  [[-0.06231273338198662, 0.006395852658897638, ...  \n34811  [[-0.06231273338198662, 0.006395852658897638, ...  \n34812  [[-0.06231273338198662, 0.006395852658897638, ...  \n\n[34813 rows x 3 columns]",
            "text/html": "<div>\n<style scoped>\n    .dataframe tbody tr th:only-of-type {\n        vertical-align: middle;\n    }\n\n    .dataframe tbody tr th {\n        vertical-align: top;\n    }\n\n    .dataframe thead th {\n        text-align: right;\n    }\n</style>\n<table border=\"1\" class=\"dataframe\">\n  <thead>\n    <tr style=\"text-align: right;\">\n      <th></th>\n      <th>condition_embeddings</th>\n      <th>lab_embeddings</th>\n      <th>immunization_embeddings</th>\n    </tr>\n  </thead>\n  <tbody>\n    <tr>\n      <th>0</th>\n      <td>[[-0.028602752834558487, 0.08323972672224045, ...</td>\n      <td>[[-0.41884085536003113, -0.007306674961000681,...</td>\n      <td>[[-0.4640640318393707, -0.025361906737089157, ...</td>\n    </tr>\n    <tr>\n      <th>1</th>\n      <td>[[-0.11217323690652847, 0.10697056353092194, 0...</td>\n      <td>[[-0.3821377158164978, 0.45177435874938965, -0...</td>\n      <td>[[-0.243887260556221, 0.7173411250114441, -0.5...</td>\n    </tr>\n    <tr>\n      <th>2</th>\n      <td>[[-0.1846536248922348, 0.43586266040802, 0.537...</td>\n      <td>[[-0.4042739272117615, 0.43476831912994385, 0....</td>\n      <td>[[-0.06231273338198662, 0.006395852658897638, ...</td>\n    </tr>\n    <tr>\n      <th>3</th>\n      <td>[[0.08549321442842484, -0.4892202317714691, 1....</td>\n      <td>[[-0.6105774641036987, 0.21081458032131195, -0...</td>\n      <td>[[-0.06549470126628876, 0.1921929121017456, -0...</td>\n    </tr>\n    <tr>\n      <th>4</th>\n      <td>[[0.10413440316915512, 0.585283637046814, -0.1...</td>\n      <td>[[-0.7062051296234131, 0.6313633322715759, -0....</td>\n      <td>[[-0.3048655092716217, 0.9243533611297607, -0....</td>\n    </tr>\n    <tr>\n      <th>...</th>\n      <td>...</td>\n      <td>...</td>\n      <td>...</td>\n    </tr>\n    <tr>\n      <th>34808</th>\n      <td>[[-0.06231273338198662, 0.006395852658897638, ...</td>\n      <td>[[-0.6981671452522278, 0.6584269404411316, -0....</td>\n      <td>[[-0.06231273338198662, 0.006395852658897638, ...</td>\n    </tr>\n    <tr>\n      <th>34809</th>\n      <td>[[-0.06231273338198662, 0.006395852658897638, ...</td>\n      <td>[[-0.33330413699150085, 0.07661372423171997, -...</td>\n      <td>[[-0.06231273338198662, 0.006395852658897638, ...</td>\n    </tr>\n    <tr>\n      <th>34810</th>\n      <td>[[-0.06231273338198662, 0.006395852658897638, ...</td>\n      <td>[[-0.08290505409240723, 0.11589507758617401, -...</td>\n      <td>[[-0.06231273338198662, 0.006395852658897638, ...</td>\n    </tr>\n    <tr>\n      <th>34811</th>\n      <td>[[-0.06231273338198662, 0.006395852658897638, ...</td>\n      <td>[[-0.28359752893447876, 0.15218384563922882, 0...</td>\n      <td>[[-0.06231273338198662, 0.006395852658897638, ...</td>\n    </tr>\n    <tr>\n      <th>34812</th>\n      <td>[[-0.06231273338198662, 0.006395852658897638, ...</td>\n      <td>[[-0.37682732939720154, -0.08884617686271667, ...</td>\n      <td>[[-0.06231273338198662, 0.006395852658897638, ...</td>\n    </tr>\n  </tbody>\n</table>\n<p>34813 rows × 3 columns</p>\n</div>"
          },
          "metadata": {}
        }
      ],
      "execution_count": null,
      "metadata": {
        "jupyter": {
          "source_hidden": false,
          "outputs_hidden": false
        },
        "nteract": {
          "transient": {
            "deleting": false
          }
        },
        "gather": {
          "logged": 1689768152528
        },
        "id": "GXV1wW-qXR1H",
        "outputId": "e6b349b3-d28d-452c-9c27-c43ca71aaabe"
      }
    },
    {
      "cell_type": "code",
      "source": [
        "len(df_train_text['condition_embeddings'].iloc[3000][5])"
      ],
      "outputs": [
        {
          "output_type": "execute_result",
          "execution_count": 37,
          "data": {
            "text/plain": "384"
          },
          "metadata": {}
        }
      ],
      "execution_count": null,
      "metadata": {
        "jupyter": {
          "source_hidden": false,
          "outputs_hidden": false
        },
        "nteract": {
          "transient": {
            "deleting": false
          }
        },
        "gather": {
          "logged": 1689768161308
        },
        "id": "jwDRBwEPXR1H",
        "outputId": "48dbb280-fe2b-41e9-9005-b935be9000b0"
      }
    },
    {
      "cell_type": "code",
      "source": [
        "empty_counts =df_test_text.applymap(lambda x: len(x) == 0).sum()\n",
        "empty_counts"
      ],
      "outputs": [
        {
          "output_type": "execute_result",
          "execution_count": 38,
          "data": {
            "text/plain": "condition_embeddings       0\nlab_embeddings             0\nimmunization_embeddings    0\ndtype: int64"
          },
          "metadata": {}
        }
      ],
      "execution_count": null,
      "metadata": {
        "jupyter": {
          "source_hidden": false,
          "outputs_hidden": false
        },
        "nteract": {
          "transient": {
            "deleting": false
          }
        },
        "gather": {
          "logged": 1689768163562
        },
        "id": "qlHqO2yyXR1H",
        "outputId": "269da3a2-6a04-45e1-ac07-13af605f1a1f"
      }
    },
    {
      "cell_type": "code",
      "source": [
        "mean_vectors_condition = []\n",
        "mean_vectors_lab_test = []\n",
        "mean_vectors_immunization = []\n",
        "\n",
        "for index, row in df_test_text.iterrows():\n",
        "    condition_vectors = row['condition_embeddings']\n",
        "    lab_test_vectors = row['lab_embeddings']\n",
        "    immunization_vectors = row['immunization_embeddings']\n",
        "\n",
        "    # Calculate the mean vector for each column\n",
        "    mean_vector_condition = np.mean(condition_vectors, axis=0)\n",
        "    mean_vector_lab_test = np.mean(lab_test_vectors, axis=0)\n",
        "    mean_vector_immunization = np.mean(immunization_vectors, axis=0)\n",
        "\n",
        "    # Append the mean vectors to the respective lists\n",
        "    mean_vectors_condition.append(mean_vector_condition)\n",
        "    mean_vectors_lab_test.append(mean_vector_lab_test)\n",
        "    mean_vectors_immunization.append(mean_vector_immunization)\n",
        "\n",
        "# Create a DataFrame for the mean vectors\n",
        "mean_vectors_df_test = pd.DataFrame({\n",
        "    'Condition_code_icd10_subcategory': mean_vectors_condition,\n",
        "    'Lab_test_description_Result': mean_vectors_lab_test,\n",
        "    'immunization': mean_vectors_immunization\n",
        "})"
      ],
      "outputs": [],
      "execution_count": null,
      "metadata": {
        "jupyter": {
          "source_hidden": false,
          "outputs_hidden": false
        },
        "nteract": {
          "transient": {
            "deleting": false
          }
        },
        "gather": {
          "logged": 1689768250444
        },
        "id": "gRqvqjnHXR1H"
      }
    },
    {
      "cell_type": "code",
      "source": [
        "mean_vectors_df_test"
      ],
      "outputs": [
        {
          "output_type": "execute_result",
          "execution_count": 40,
          "data": {
            "text/plain": "                        Condition_code_icd10_subcategory  \\\n0      [-0.0011441101133823394, 0.003329589068889618,...   \n1      [-0.004486929476261139, 0.004278822541236877, ...   \n2      [-0.020220533423125745, 0.13177353233098985, 0...   \n3      [-0.011351503431797028, -0.023618932962417603,...   \n4      [-0.11811755299568176, 0.1792069888114929, 0.1...   \n...                                                  ...   \n34808  [-0.0024925093352794647, 0.0002558341063559055...   \n34809  [-0.0024925093352794647, 0.0002558341063559055...   \n34810  [-0.0024925093352794647, 0.0002558341063559055...   \n34811  [-0.0024925093352794647, 0.0002558341063559055...   \n34812  [-0.0024925093352794647, 0.0002558341063559055...   \n\n                             Lab_test_description_Result  \\\n0      [-0.037716983556747435, -0.004617853555828333,...   \n1      [-0.20745106880553066, 0.4631126879155636, -0....   \n2      [-0.36045344099402427, 0.46755232006311415, 0....   \n3      [-0.3696697946637869, 0.5087524166703224, -0.0...   \n4      [-0.30012819580733774, 0.5786219465732575, 0.0...   \n...                                                  ...   \n34808  [-0.2502444500103593, 0.32802541375160216, -0....   \n34809  [-0.030917387008666992, 0.01345721960067749, -...   \n34810  [-0.616600016951561, 0.2707131153345108, -0.18...   \n34811  [-0.01134390115737915, 0.006087353825569153, 0...   \n34812  [-0.2741364938020706, 0.1848017144203186, -0.0...   \n\n                                            immunization  \n0      [-0.010424725413322448, 0.008869025260210037, ...  \n1      [-0.08270898997783661, 0.035627925992012026, -...  \n2      [-0.0024925093352794647, 0.0002558341063559055...  \n3      [0.00551804780960083, 0.017571218013763427, -0...  \n4      [-0.0018667459487915039, 0.08566139578819275, ...  \n...                                                  ...  \n34808  [-0.0024925093352794647, 0.0002558341063559055...  \n34809  [-0.0024925093352794647, 0.0002558341063559055...  \n34810  [-0.0024925093352794647, 0.0002558341063559055...  \n34811  [-0.0024925093352794647, 0.0002558341063559055...  \n34812  [-0.0024925093352794647, 0.0002558341063559055...  \n\n[34813 rows x 3 columns]",
            "text/html": "<div>\n<style scoped>\n    .dataframe tbody tr th:only-of-type {\n        vertical-align: middle;\n    }\n\n    .dataframe tbody tr th {\n        vertical-align: top;\n    }\n\n    .dataframe thead th {\n        text-align: right;\n    }\n</style>\n<table border=\"1\" class=\"dataframe\">\n  <thead>\n    <tr style=\"text-align: right;\">\n      <th></th>\n      <th>Condition_code_icd10_subcategory</th>\n      <th>Lab_test_description_Result</th>\n      <th>immunization</th>\n    </tr>\n  </thead>\n  <tbody>\n    <tr>\n      <th>0</th>\n      <td>[-0.0011441101133823394, 0.003329589068889618,...</td>\n      <td>[-0.037716983556747435, -0.004617853555828333,...</td>\n      <td>[-0.010424725413322448, 0.008869025260210037, ...</td>\n    </tr>\n    <tr>\n      <th>1</th>\n      <td>[-0.004486929476261139, 0.004278822541236877, ...</td>\n      <td>[-0.20745106880553066, 0.4631126879155636, -0....</td>\n      <td>[-0.08270898997783661, 0.035627925992012026, -...</td>\n    </tr>\n    <tr>\n      <th>2</th>\n      <td>[-0.020220533423125745, 0.13177353233098985, 0...</td>\n      <td>[-0.36045344099402427, 0.46755232006311415, 0....</td>\n      <td>[-0.0024925093352794647, 0.0002558341063559055...</td>\n    </tr>\n    <tr>\n      <th>3</th>\n      <td>[-0.011351503431797028, -0.023618932962417603,...</td>\n      <td>[-0.3696697946637869, 0.5087524166703224, -0.0...</td>\n      <td>[0.00551804780960083, 0.017571218013763427, -0...</td>\n    </tr>\n    <tr>\n      <th>4</th>\n      <td>[-0.11811755299568176, 0.1792069888114929, 0.1...</td>\n      <td>[-0.30012819580733774, 0.5786219465732575, 0.0...</td>\n      <td>[-0.0018667459487915039, 0.08566139578819275, ...</td>\n    </tr>\n    <tr>\n      <th>...</th>\n      <td>...</td>\n      <td>...</td>\n      <td>...</td>\n    </tr>\n    <tr>\n      <th>34808</th>\n      <td>[-0.0024925093352794647, 0.0002558341063559055...</td>\n      <td>[-0.2502444500103593, 0.32802541375160216, -0....</td>\n      <td>[-0.0024925093352794647, 0.0002558341063559055...</td>\n    </tr>\n    <tr>\n      <th>34809</th>\n      <td>[-0.0024925093352794647, 0.0002558341063559055...</td>\n      <td>[-0.030917387008666992, 0.01345721960067749, -...</td>\n      <td>[-0.0024925093352794647, 0.0002558341063559055...</td>\n    </tr>\n    <tr>\n      <th>34810</th>\n      <td>[-0.0024925093352794647, 0.0002558341063559055...</td>\n      <td>[-0.616600016951561, 0.2707131153345108, -0.18...</td>\n      <td>[-0.0024925093352794647, 0.0002558341063559055...</td>\n    </tr>\n    <tr>\n      <th>34811</th>\n      <td>[-0.0024925093352794647, 0.0002558341063559055...</td>\n      <td>[-0.01134390115737915, 0.006087353825569153, 0...</td>\n      <td>[-0.0024925093352794647, 0.0002558341063559055...</td>\n    </tr>\n    <tr>\n      <th>34812</th>\n      <td>[-0.0024925093352794647, 0.0002558341063559055...</td>\n      <td>[-0.2741364938020706, 0.1848017144203186, -0.0...</td>\n      <td>[-0.0024925093352794647, 0.0002558341063559055...</td>\n    </tr>\n  </tbody>\n</table>\n<p>34813 rows × 3 columns</p>\n</div>"
          },
          "metadata": {}
        }
      ],
      "execution_count": null,
      "metadata": {
        "jupyter": {
          "source_hidden": false,
          "outputs_hidden": false
        },
        "nteract": {
          "transient": {
            "deleting": false
          }
        },
        "gather": {
          "logged": 1689768258483
        },
        "id": "oR2_QAmzXR1I",
        "outputId": "c6a86ea6-3eb2-4774-d456-6d4d94790cf0"
      }
    },
    {
      "cell_type": "code",
      "source": [
        "# Create a new DataFrame to store the split vectors\n",
        "df1_test_split = pd.DataFrame()\n",
        "\n",
        "# Iterate over each column\n",
        "for column in ['Condition_code_icd10_subcategory', 'Lab_test_description_Result', 'immunization']:\n",
        "    # Expand the column into separate columns for each vector value\n",
        "    expanded_columns = mean_vectors_df_test[column].apply(lambda x: pd.Series(x) if len(x) > 0 else pd.Series([0] * vector_size))\n",
        "\n",
        "    # Rename the expanded columns to have meaningful names\n",
        "    expanded_columns = expanded_columns.rename(columns=lambda x: f'{column}_{x+1}')\n",
        "\n",
        "    # Concatenate the expanded columns with the new DataFrame\n",
        "    df1_test_split = pd.concat([df1_test_split, expanded_columns], axis=1)"
      ],
      "outputs": [],
      "execution_count": null,
      "metadata": {
        "jupyter": {
          "source_hidden": false,
          "outputs_hidden": false
        },
        "nteract": {
          "transient": {
            "deleting": false
          }
        },
        "gather": {
          "logged": 1689768284323
        },
        "id": "u0nbzsU1XR1Y"
      }
    },
    {
      "cell_type": "code",
      "source": [
        "df1_test_split"
      ],
      "outputs": [
        {
          "output_type": "execute_result",
          "execution_count": 42,
          "data": {
            "text/plain": "       Condition_code_icd10_subcategory_1  Condition_code_icd10_subcategory_2  \\\n0                               -0.001144                            0.003330   \n1                               -0.004487                            0.004279   \n2                               -0.020221                            0.131774   \n3                               -0.011352                           -0.023619   \n4                               -0.118118                            0.179207   \n...                                   ...                                 ...   \n34808                           -0.002493                            0.000256   \n34809                           -0.002493                            0.000256   \n34810                           -0.002493                            0.000256   \n34811                           -0.002493                            0.000256   \n34812                           -0.002493                            0.000256   \n\n       Condition_code_icd10_subcategory_3  Condition_code_icd10_subcategory_4  \\\n0                               -0.000838                            0.015848   \n1                                0.001930                            0.001646   \n2                                0.117754                           -0.000199   \n3                               -0.001686                           -0.006667   \n4                                0.196713                           -0.026689   \n...                                   ...                                 ...   \n34808                            0.017181                            0.005268   \n34809                            0.017181                            0.005268   \n34810                            0.017181                            0.005268   \n34811                            0.017181                            0.005268   \n34812                            0.017181                            0.005268   \n\n       Condition_code_icd10_subcategory_5  Condition_code_icd10_subcategory_6  \\\n0                               -0.012121                            0.024801   \n1                               -0.023302                            0.001373   \n2                               -0.091936                           -0.018072   \n3                                0.009222                           -0.029115   \n4                               -0.275056                           -0.103088   \n...                                   ...                                 ...   \n34808                           -0.002803                            0.003885   \n34809                           -0.002803                            0.003885   \n34810                           -0.002803                            0.003885   \n34811                           -0.002803                            0.003885   \n34812                           -0.002803                            0.003885   \n\n       Condition_code_icd10_subcategory_7  Condition_code_icd10_subcategory_8  \\\n0                               -0.001196                           -0.000043   \n1                                0.002385                            0.012676   \n2                               -0.006114                            0.125409   \n3                               -0.007223                            0.013686   \n4                                0.068239                            0.115887   \n...                                   ...                                 ...   \n34808                            0.018779                            0.007095   \n34809                            0.018779                            0.007095   \n34810                            0.018779                            0.007095   \n34811                            0.018779                            0.007095   \n34812                            0.018779                            0.007095   \n\n       Condition_code_icd10_subcategory_9  \\\n0                                0.014389   \n1                               -0.007774   \n2                                0.025759   \n3                                0.083559   \n4                                0.203064   \n...                                   ...   \n34808                            0.012557   \n34809                            0.012557   \n34810                            0.012557   \n34811                            0.012557   \n34812                            0.012557   \n\n       Condition_code_icd10_subcategory_10  ...  immunization_375  \\\n0                                 0.013045  ...         -0.010804   \n1                                -0.009500  ...         -0.030295   \n2                                 0.033629  ...         -0.013710   \n3                                 0.007821  ...         -0.009745   \n4                                -0.030168  ...         -0.079715   \n...                                    ...  ...               ...   \n34808                             0.028014  ...         -0.013710   \n34809                             0.028014  ...         -0.013710   \n34810                             0.028014  ...         -0.013710   \n34811                             0.028014  ...         -0.013710   \n34812                             0.028014  ...         -0.013710   \n\n       immunization_376  immunization_377  immunization_378  immunization_379  \\\n0             -0.043248         -0.007210         -0.003036          0.006060   \n1             -0.006014         -0.012549         -0.002380          0.026288   \n2             -0.032459         -0.000757          0.013207          0.009573   \n3             -0.031162         -0.006206          0.004196          0.004412   \n4             -0.054633         -0.020454         -0.006263          0.042001   \n...                 ...               ...               ...               ...   \n34808         -0.032459         -0.000757          0.013207          0.009573   \n34809         -0.032459         -0.000757          0.013207          0.009573   \n34810         -0.032459         -0.000757          0.013207          0.009573   \n34811         -0.032459         -0.000757          0.013207          0.009573   \n34812         -0.032459         -0.000757          0.013207          0.009573   \n\n       immunization_380  immunization_381  immunization_382  immunization_383  \\\n0             -0.005848          0.002086          0.003631         -0.012630   \n1              0.016339          0.009159          0.007969          0.080220   \n2             -0.022158          0.039599         -0.003452          0.017028   \n3             -0.017734          0.012041         -0.003752         -0.008850   \n4             -0.020566          0.044386         -0.021996         -0.034940   \n...                 ...               ...               ...               ...   \n34808         -0.022158          0.039599         -0.003452          0.017028   \n34809         -0.022158          0.039599         -0.003452          0.017028   \n34810         -0.022158          0.039599         -0.003452          0.017028   \n34811         -0.022158          0.039599         -0.003452          0.017028   \n34812         -0.022158          0.039599         -0.003452          0.017028   \n\n       immunization_384  \n0              0.004525  \n1              0.019278  \n2              0.000392  \n3             -0.000964  \n4              0.032543  \n...                 ...  \n34808          0.000392  \n34809          0.000392  \n34810          0.000392  \n34811          0.000392  \n34812          0.000392  \n\n[34813 rows x 1152 columns]",
            "text/html": "<div>\n<style scoped>\n    .dataframe tbody tr th:only-of-type {\n        vertical-align: middle;\n    }\n\n    .dataframe tbody tr th {\n        vertical-align: top;\n    }\n\n    .dataframe thead th {\n        text-align: right;\n    }\n</style>\n<table border=\"1\" class=\"dataframe\">\n  <thead>\n    <tr style=\"text-align: right;\">\n      <th></th>\n      <th>Condition_code_icd10_subcategory_1</th>\n      <th>Condition_code_icd10_subcategory_2</th>\n      <th>Condition_code_icd10_subcategory_3</th>\n      <th>Condition_code_icd10_subcategory_4</th>\n      <th>Condition_code_icd10_subcategory_5</th>\n      <th>Condition_code_icd10_subcategory_6</th>\n      <th>Condition_code_icd10_subcategory_7</th>\n      <th>Condition_code_icd10_subcategory_8</th>\n      <th>Condition_code_icd10_subcategory_9</th>\n      <th>Condition_code_icd10_subcategory_10</th>\n      <th>...</th>\n      <th>immunization_375</th>\n      <th>immunization_376</th>\n      <th>immunization_377</th>\n      <th>immunization_378</th>\n      <th>immunization_379</th>\n      <th>immunization_380</th>\n      <th>immunization_381</th>\n      <th>immunization_382</th>\n      <th>immunization_383</th>\n      <th>immunization_384</th>\n    </tr>\n  </thead>\n  <tbody>\n    <tr>\n      <th>0</th>\n      <td>-0.001144</td>\n      <td>0.003330</td>\n      <td>-0.000838</td>\n      <td>0.015848</td>\n      <td>-0.012121</td>\n      <td>0.024801</td>\n      <td>-0.001196</td>\n      <td>-0.000043</td>\n      <td>0.014389</td>\n      <td>0.013045</td>\n      <td>...</td>\n      <td>-0.010804</td>\n      <td>-0.043248</td>\n      <td>-0.007210</td>\n      <td>-0.003036</td>\n      <td>0.006060</td>\n      <td>-0.005848</td>\n      <td>0.002086</td>\n      <td>0.003631</td>\n      <td>-0.012630</td>\n      <td>0.004525</td>\n    </tr>\n    <tr>\n      <th>1</th>\n      <td>-0.004487</td>\n      <td>0.004279</td>\n      <td>0.001930</td>\n      <td>0.001646</td>\n      <td>-0.023302</td>\n      <td>0.001373</td>\n      <td>0.002385</td>\n      <td>0.012676</td>\n      <td>-0.007774</td>\n      <td>-0.009500</td>\n      <td>...</td>\n      <td>-0.030295</td>\n      <td>-0.006014</td>\n      <td>-0.012549</td>\n      <td>-0.002380</td>\n      <td>0.026288</td>\n      <td>0.016339</td>\n      <td>0.009159</td>\n      <td>0.007969</td>\n      <td>0.080220</td>\n      <td>0.019278</td>\n    </tr>\n    <tr>\n      <th>2</th>\n      <td>-0.020221</td>\n      <td>0.131774</td>\n      <td>0.117754</td>\n      <td>-0.000199</td>\n      <td>-0.091936</td>\n      <td>-0.018072</td>\n      <td>-0.006114</td>\n      <td>0.125409</td>\n      <td>0.025759</td>\n      <td>0.033629</td>\n      <td>...</td>\n      <td>-0.013710</td>\n      <td>-0.032459</td>\n      <td>-0.000757</td>\n      <td>0.013207</td>\n      <td>0.009573</td>\n      <td>-0.022158</td>\n      <td>0.039599</td>\n      <td>-0.003452</td>\n      <td>0.017028</td>\n      <td>0.000392</td>\n    </tr>\n    <tr>\n      <th>3</th>\n      <td>-0.011352</td>\n      <td>-0.023619</td>\n      <td>-0.001686</td>\n      <td>-0.006667</td>\n      <td>0.009222</td>\n      <td>-0.029115</td>\n      <td>-0.007223</td>\n      <td>0.013686</td>\n      <td>0.083559</td>\n      <td>0.007821</td>\n      <td>...</td>\n      <td>-0.009745</td>\n      <td>-0.031162</td>\n      <td>-0.006206</td>\n      <td>0.004196</td>\n      <td>0.004412</td>\n      <td>-0.017734</td>\n      <td>0.012041</td>\n      <td>-0.003752</td>\n      <td>-0.008850</td>\n      <td>-0.000964</td>\n    </tr>\n    <tr>\n      <th>4</th>\n      <td>-0.118118</td>\n      <td>0.179207</td>\n      <td>0.196713</td>\n      <td>-0.026689</td>\n      <td>-0.275056</td>\n      <td>-0.103088</td>\n      <td>0.068239</td>\n      <td>0.115887</td>\n      <td>0.203064</td>\n      <td>-0.030168</td>\n      <td>...</td>\n      <td>-0.079715</td>\n      <td>-0.054633</td>\n      <td>-0.020454</td>\n      <td>-0.006263</td>\n      <td>0.042001</td>\n      <td>-0.020566</td>\n      <td>0.044386</td>\n      <td>-0.021996</td>\n      <td>-0.034940</td>\n      <td>0.032543</td>\n    </tr>\n    <tr>\n      <th>...</th>\n      <td>...</td>\n      <td>...</td>\n      <td>...</td>\n      <td>...</td>\n      <td>...</td>\n      <td>...</td>\n      <td>...</td>\n      <td>...</td>\n      <td>...</td>\n      <td>...</td>\n      <td>...</td>\n      <td>...</td>\n      <td>...</td>\n      <td>...</td>\n      <td>...</td>\n      <td>...</td>\n      <td>...</td>\n      <td>...</td>\n      <td>...</td>\n      <td>...</td>\n      <td>...</td>\n    </tr>\n    <tr>\n      <th>34808</th>\n      <td>-0.002493</td>\n      <td>0.000256</td>\n      <td>0.017181</td>\n      <td>0.005268</td>\n      <td>-0.002803</td>\n      <td>0.003885</td>\n      <td>0.018779</td>\n      <td>0.007095</td>\n      <td>0.012557</td>\n      <td>0.028014</td>\n      <td>...</td>\n      <td>-0.013710</td>\n      <td>-0.032459</td>\n      <td>-0.000757</td>\n      <td>0.013207</td>\n      <td>0.009573</td>\n      <td>-0.022158</td>\n      <td>0.039599</td>\n      <td>-0.003452</td>\n      <td>0.017028</td>\n      <td>0.000392</td>\n    </tr>\n    <tr>\n      <th>34809</th>\n      <td>-0.002493</td>\n      <td>0.000256</td>\n      <td>0.017181</td>\n      <td>0.005268</td>\n      <td>-0.002803</td>\n      <td>0.003885</td>\n      <td>0.018779</td>\n      <td>0.007095</td>\n      <td>0.012557</td>\n      <td>0.028014</td>\n      <td>...</td>\n      <td>-0.013710</td>\n      <td>-0.032459</td>\n      <td>-0.000757</td>\n      <td>0.013207</td>\n      <td>0.009573</td>\n      <td>-0.022158</td>\n      <td>0.039599</td>\n      <td>-0.003452</td>\n      <td>0.017028</td>\n      <td>0.000392</td>\n    </tr>\n    <tr>\n      <th>34810</th>\n      <td>-0.002493</td>\n      <td>0.000256</td>\n      <td>0.017181</td>\n      <td>0.005268</td>\n      <td>-0.002803</td>\n      <td>0.003885</td>\n      <td>0.018779</td>\n      <td>0.007095</td>\n      <td>0.012557</td>\n      <td>0.028014</td>\n      <td>...</td>\n      <td>-0.013710</td>\n      <td>-0.032459</td>\n      <td>-0.000757</td>\n      <td>0.013207</td>\n      <td>0.009573</td>\n      <td>-0.022158</td>\n      <td>0.039599</td>\n      <td>-0.003452</td>\n      <td>0.017028</td>\n      <td>0.000392</td>\n    </tr>\n    <tr>\n      <th>34811</th>\n      <td>-0.002493</td>\n      <td>0.000256</td>\n      <td>0.017181</td>\n      <td>0.005268</td>\n      <td>-0.002803</td>\n      <td>0.003885</td>\n      <td>0.018779</td>\n      <td>0.007095</td>\n      <td>0.012557</td>\n      <td>0.028014</td>\n      <td>...</td>\n      <td>-0.013710</td>\n      <td>-0.032459</td>\n      <td>-0.000757</td>\n      <td>0.013207</td>\n      <td>0.009573</td>\n      <td>-0.022158</td>\n      <td>0.039599</td>\n      <td>-0.003452</td>\n      <td>0.017028</td>\n      <td>0.000392</td>\n    </tr>\n    <tr>\n      <th>34812</th>\n      <td>-0.002493</td>\n      <td>0.000256</td>\n      <td>0.017181</td>\n      <td>0.005268</td>\n      <td>-0.002803</td>\n      <td>0.003885</td>\n      <td>0.018779</td>\n      <td>0.007095</td>\n      <td>0.012557</td>\n      <td>0.028014</td>\n      <td>...</td>\n      <td>-0.013710</td>\n      <td>-0.032459</td>\n      <td>-0.000757</td>\n      <td>0.013207</td>\n      <td>0.009573</td>\n      <td>-0.022158</td>\n      <td>0.039599</td>\n      <td>-0.003452</td>\n      <td>0.017028</td>\n      <td>0.000392</td>\n    </tr>\n  </tbody>\n</table>\n<p>34813 rows × 1152 columns</p>\n</div>"
          },
          "metadata": {}
        }
      ],
      "execution_count": null,
      "metadata": {
        "jupyter": {
          "source_hidden": false,
          "outputs_hidden": false
        },
        "nteract": {
          "transient": {
            "deleting": false
          }
        },
        "gather": {
          "logged": 1689768292403
        },
        "id": "XMz-DndzXR1Y",
        "outputId": "af210c29-b2c4-4c33-f98e-20d5e211c485"
      }
    },
    {
      "cell_type": "code",
      "source": [
        "whole_test = pd.concat([df1_test_split, df_test_num], axis=1)\n",
        "\n",
        "# Display the concatenated dataframe\n",
        "whole_test"
      ],
      "outputs": [
        {
          "output_type": "execute_result",
          "execution_count": 43,
          "data": {
            "text/plain": "       Condition_code_icd10_subcategory_1  Condition_code_icd10_subcategory_2  \\\n0                               -0.001144                            0.003330   \n1                               -0.004487                            0.004279   \n2                               -0.020221                            0.131774   \n3                               -0.011352                           -0.023619   \n4                               -0.118118                            0.179207   \n...                                   ...                                 ...   \n34808                           -0.002493                            0.000256   \n34809                           -0.002493                            0.000256   \n34810                           -0.002493                            0.000256   \n34811                           -0.002493                            0.000256   \n34812                           -0.002493                            0.000256   \n\n       Condition_code_icd10_subcategory_3  Condition_code_icd10_subcategory_4  \\\n0                               -0.000838                            0.015848   \n1                                0.001930                            0.001646   \n2                                0.117754                           -0.000199   \n3                               -0.001686                           -0.006667   \n4                                0.196713                           -0.026689   \n...                                   ...                                 ...   \n34808                            0.017181                            0.005268   \n34809                            0.017181                            0.005268   \n34810                            0.017181                            0.005268   \n34811                            0.017181                            0.005268   \n34812                            0.017181                            0.005268   \n\n       Condition_code_icd10_subcategory_5  Condition_code_icd10_subcategory_6  \\\n0                               -0.012121                            0.024801   \n1                               -0.023302                            0.001373   \n2                               -0.091936                           -0.018072   \n3                                0.009222                           -0.029115   \n4                               -0.275056                           -0.103088   \n...                                   ...                                 ...   \n34808                           -0.002803                            0.003885   \n34809                           -0.002803                            0.003885   \n34810                           -0.002803                            0.003885   \n34811                           -0.002803                            0.003885   \n34812                           -0.002803                            0.003885   \n\n       Condition_code_icd10_subcategory_7  Condition_code_icd10_subcategory_8  \\\n0                               -0.001196                           -0.000043   \n1                                0.002385                            0.012676   \n2                               -0.006114                            0.125409   \n3                               -0.007223                            0.013686   \n4                                0.068239                            0.115887   \n...                                   ...                                 ...   \n34808                            0.018779                            0.007095   \n34809                            0.018779                            0.007095   \n34810                            0.018779                            0.007095   \n34811                            0.018779                            0.007095   \n34812                            0.018779                            0.007095   \n\n       Condition_code_icd10_subcategory_9  \\\n0                                0.014389   \n1                               -0.007774   \n2                                0.025759   \n3                                0.083559   \n4                                0.203064   \n...                                   ...   \n34808                            0.012557   \n34809                            0.012557   \n34810                            0.012557   \n34811                            0.012557   \n34812                            0.012557   \n\n       Condition_code_icd10_subcategory_10  ...  immunization_381  \\\n0                                 0.013045  ...          0.002086   \n1                                -0.009500  ...          0.009159   \n2                                 0.033629  ...          0.039599   \n3                                 0.007821  ...          0.012041   \n4                                -0.030168  ...          0.044386   \n...                                    ...  ...               ...   \n34808                             0.028014  ...          0.039599   \n34809                             0.028014  ...          0.039599   \n34810                             0.028014  ...          0.039599   \n34811                             0.028014  ...          0.039599   \n34812                             0.028014  ...          0.039599   \n\n       immunization_382  immunization_383  immunization_384      Pain  \\\n0              0.003631         -0.012630          0.004525 -0.602408   \n1              0.007969          0.080220          0.019278 -0.602408   \n2             -0.003452          0.017028          0.000392 -0.602408   \n3             -0.003752         -0.008850         -0.000964  0.467482   \n4             -0.021996         -0.034940          0.032543 -0.602408   \n...                 ...               ...               ...       ...   \n34808         -0.003452          0.017028          0.000392 -0.602408   \n34809         -0.003452          0.017028          0.000392 -0.602408   \n34810         -0.003452          0.017028          0.000392 -0.602408   \n34811         -0.003452          0.017028          0.000392  0.824112   \n34812         -0.003452          0.017028          0.000392 -0.602408   \n\n          Pulse  Respiratory rate  Temperature  Diastolic bp  Systolic bp  \n0     -1.232983         -0.567447     0.111686     -0.185609     0.052023  \n1     -0.438079          0.215376     0.147267      0.196787    -0.369938  \n2      0.754278          0.737258     0.215760     -1.332796    -0.834096  \n3     -0.587123          1.520081     0.155599     -0.185609    -0.876292  \n4     -0.636805          1.781022     0.382885     -0.644484    -1.635823  \n...         ...               ...          ...           ...          ...  \n34808 -1.729799          1.781022     0.268460     -1.485754     0.305200  \n34809  1.896953          1.259140     0.467211     -0.032651     0.305200  \n34810  0.903323          2.824786    -0.148109     -0.415046    -1.720215  \n34811  0.058736          0.476317     0.343281     -1.026879    -0.918488  \n34812  2.344087          0.998199     0.109673     -0.338567    -0.960684  \n\n[34813 rows x 1158 columns]",
            "text/html": "<div>\n<style scoped>\n    .dataframe tbody tr th:only-of-type {\n        vertical-align: middle;\n    }\n\n    .dataframe tbody tr th {\n        vertical-align: top;\n    }\n\n    .dataframe thead th {\n        text-align: right;\n    }\n</style>\n<table border=\"1\" class=\"dataframe\">\n  <thead>\n    <tr style=\"text-align: right;\">\n      <th></th>\n      <th>Condition_code_icd10_subcategory_1</th>\n      <th>Condition_code_icd10_subcategory_2</th>\n      <th>Condition_code_icd10_subcategory_3</th>\n      <th>Condition_code_icd10_subcategory_4</th>\n      <th>Condition_code_icd10_subcategory_5</th>\n      <th>Condition_code_icd10_subcategory_6</th>\n      <th>Condition_code_icd10_subcategory_7</th>\n      <th>Condition_code_icd10_subcategory_8</th>\n      <th>Condition_code_icd10_subcategory_9</th>\n      <th>Condition_code_icd10_subcategory_10</th>\n      <th>...</th>\n      <th>immunization_381</th>\n      <th>immunization_382</th>\n      <th>immunization_383</th>\n      <th>immunization_384</th>\n      <th>Pain</th>\n      <th>Pulse</th>\n      <th>Respiratory rate</th>\n      <th>Temperature</th>\n      <th>Diastolic bp</th>\n      <th>Systolic bp</th>\n    </tr>\n  </thead>\n  <tbody>\n    <tr>\n      <th>0</th>\n      <td>-0.001144</td>\n      <td>0.003330</td>\n      <td>-0.000838</td>\n      <td>0.015848</td>\n      <td>-0.012121</td>\n      <td>0.024801</td>\n      <td>-0.001196</td>\n      <td>-0.000043</td>\n      <td>0.014389</td>\n      <td>0.013045</td>\n      <td>...</td>\n      <td>0.002086</td>\n      <td>0.003631</td>\n      <td>-0.012630</td>\n      <td>0.004525</td>\n      <td>-0.602408</td>\n      <td>-1.232983</td>\n      <td>-0.567447</td>\n      <td>0.111686</td>\n      <td>-0.185609</td>\n      <td>0.052023</td>\n    </tr>\n    <tr>\n      <th>1</th>\n      <td>-0.004487</td>\n      <td>0.004279</td>\n      <td>0.001930</td>\n      <td>0.001646</td>\n      <td>-0.023302</td>\n      <td>0.001373</td>\n      <td>0.002385</td>\n      <td>0.012676</td>\n      <td>-0.007774</td>\n      <td>-0.009500</td>\n      <td>...</td>\n      <td>0.009159</td>\n      <td>0.007969</td>\n      <td>0.080220</td>\n      <td>0.019278</td>\n      <td>-0.602408</td>\n      <td>-0.438079</td>\n      <td>0.215376</td>\n      <td>0.147267</td>\n      <td>0.196787</td>\n      <td>-0.369938</td>\n    </tr>\n    <tr>\n      <th>2</th>\n      <td>-0.020221</td>\n      <td>0.131774</td>\n      <td>0.117754</td>\n      <td>-0.000199</td>\n      <td>-0.091936</td>\n      <td>-0.018072</td>\n      <td>-0.006114</td>\n      <td>0.125409</td>\n      <td>0.025759</td>\n      <td>0.033629</td>\n      <td>...</td>\n      <td>0.039599</td>\n      <td>-0.003452</td>\n      <td>0.017028</td>\n      <td>0.000392</td>\n      <td>-0.602408</td>\n      <td>0.754278</td>\n      <td>0.737258</td>\n      <td>0.215760</td>\n      <td>-1.332796</td>\n      <td>-0.834096</td>\n    </tr>\n    <tr>\n      <th>3</th>\n      <td>-0.011352</td>\n      <td>-0.023619</td>\n      <td>-0.001686</td>\n      <td>-0.006667</td>\n      <td>0.009222</td>\n      <td>-0.029115</td>\n      <td>-0.007223</td>\n      <td>0.013686</td>\n      <td>0.083559</td>\n      <td>0.007821</td>\n      <td>...</td>\n      <td>0.012041</td>\n      <td>-0.003752</td>\n      <td>-0.008850</td>\n      <td>-0.000964</td>\n      <td>0.467482</td>\n      <td>-0.587123</td>\n      <td>1.520081</td>\n      <td>0.155599</td>\n      <td>-0.185609</td>\n      <td>-0.876292</td>\n    </tr>\n    <tr>\n      <th>4</th>\n      <td>-0.118118</td>\n      <td>0.179207</td>\n      <td>0.196713</td>\n      <td>-0.026689</td>\n      <td>-0.275056</td>\n      <td>-0.103088</td>\n      <td>0.068239</td>\n      <td>0.115887</td>\n      <td>0.203064</td>\n      <td>-0.030168</td>\n      <td>...</td>\n      <td>0.044386</td>\n      <td>-0.021996</td>\n      <td>-0.034940</td>\n      <td>0.032543</td>\n      <td>-0.602408</td>\n      <td>-0.636805</td>\n      <td>1.781022</td>\n      <td>0.382885</td>\n      <td>-0.644484</td>\n      <td>-1.635823</td>\n    </tr>\n    <tr>\n      <th>...</th>\n      <td>...</td>\n      <td>...</td>\n      <td>...</td>\n      <td>...</td>\n      <td>...</td>\n      <td>...</td>\n      <td>...</td>\n      <td>...</td>\n      <td>...</td>\n      <td>...</td>\n      <td>...</td>\n      <td>...</td>\n      <td>...</td>\n      <td>...</td>\n      <td>...</td>\n      <td>...</td>\n      <td>...</td>\n      <td>...</td>\n      <td>...</td>\n      <td>...</td>\n      <td>...</td>\n    </tr>\n    <tr>\n      <th>34808</th>\n      <td>-0.002493</td>\n      <td>0.000256</td>\n      <td>0.017181</td>\n      <td>0.005268</td>\n      <td>-0.002803</td>\n      <td>0.003885</td>\n      <td>0.018779</td>\n      <td>0.007095</td>\n      <td>0.012557</td>\n      <td>0.028014</td>\n      <td>...</td>\n      <td>0.039599</td>\n      <td>-0.003452</td>\n      <td>0.017028</td>\n      <td>0.000392</td>\n      <td>-0.602408</td>\n      <td>-1.729799</td>\n      <td>1.781022</td>\n      <td>0.268460</td>\n      <td>-1.485754</td>\n      <td>0.305200</td>\n    </tr>\n    <tr>\n      <th>34809</th>\n      <td>-0.002493</td>\n      <td>0.000256</td>\n      <td>0.017181</td>\n      <td>0.005268</td>\n      <td>-0.002803</td>\n      <td>0.003885</td>\n      <td>0.018779</td>\n      <td>0.007095</td>\n      <td>0.012557</td>\n      <td>0.028014</td>\n      <td>...</td>\n      <td>0.039599</td>\n      <td>-0.003452</td>\n      <td>0.017028</td>\n      <td>0.000392</td>\n      <td>-0.602408</td>\n      <td>1.896953</td>\n      <td>1.259140</td>\n      <td>0.467211</td>\n      <td>-0.032651</td>\n      <td>0.305200</td>\n    </tr>\n    <tr>\n      <th>34810</th>\n      <td>-0.002493</td>\n      <td>0.000256</td>\n      <td>0.017181</td>\n      <td>0.005268</td>\n      <td>-0.002803</td>\n      <td>0.003885</td>\n      <td>0.018779</td>\n      <td>0.007095</td>\n      <td>0.012557</td>\n      <td>0.028014</td>\n      <td>...</td>\n      <td>0.039599</td>\n      <td>-0.003452</td>\n      <td>0.017028</td>\n      <td>0.000392</td>\n      <td>-0.602408</td>\n      <td>0.903323</td>\n      <td>2.824786</td>\n      <td>-0.148109</td>\n      <td>-0.415046</td>\n      <td>-1.720215</td>\n    </tr>\n    <tr>\n      <th>34811</th>\n      <td>-0.002493</td>\n      <td>0.000256</td>\n      <td>0.017181</td>\n      <td>0.005268</td>\n      <td>-0.002803</td>\n      <td>0.003885</td>\n      <td>0.018779</td>\n      <td>0.007095</td>\n      <td>0.012557</td>\n      <td>0.028014</td>\n      <td>...</td>\n      <td>0.039599</td>\n      <td>-0.003452</td>\n      <td>0.017028</td>\n      <td>0.000392</td>\n      <td>0.824112</td>\n      <td>0.058736</td>\n      <td>0.476317</td>\n      <td>0.343281</td>\n      <td>-1.026879</td>\n      <td>-0.918488</td>\n    </tr>\n    <tr>\n      <th>34812</th>\n      <td>-0.002493</td>\n      <td>0.000256</td>\n      <td>0.017181</td>\n      <td>0.005268</td>\n      <td>-0.002803</td>\n      <td>0.003885</td>\n      <td>0.018779</td>\n      <td>0.007095</td>\n      <td>0.012557</td>\n      <td>0.028014</td>\n      <td>...</td>\n      <td>0.039599</td>\n      <td>-0.003452</td>\n      <td>0.017028</td>\n      <td>0.000392</td>\n      <td>-0.602408</td>\n      <td>2.344087</td>\n      <td>0.998199</td>\n      <td>0.109673</td>\n      <td>-0.338567</td>\n      <td>-0.960684</td>\n    </tr>\n  </tbody>\n</table>\n<p>34813 rows × 1158 columns</p>\n</div>"
          },
          "metadata": {}
        }
      ],
      "execution_count": null,
      "metadata": {
        "jupyter": {
          "source_hidden": false,
          "outputs_hidden": false
        },
        "nteract": {
          "transient": {
            "deleting": false
          }
        },
        "gather": {
          "logged": 1689768300374
        },
        "id": "jsqC3jeBXR1Z",
        "outputId": "2fbafd45-4767-44b0-a08b-a54120128161"
      }
    },
    {
      "cell_type": "code",
      "source": [
        "whole_test"
      ],
      "outputs": [
        {
          "output_type": "execute_result",
          "execution_count": 44,
          "data": {
            "text/plain": "       Condition_code_icd10_subcategory_1  Condition_code_icd10_subcategory_2  \\\n0                               -0.001144                            0.003330   \n1                               -0.004487                            0.004279   \n2                               -0.020221                            0.131774   \n3                               -0.011352                           -0.023619   \n4                               -0.118118                            0.179207   \n...                                   ...                                 ...   \n34808                           -0.002493                            0.000256   \n34809                           -0.002493                            0.000256   \n34810                           -0.002493                            0.000256   \n34811                           -0.002493                            0.000256   \n34812                           -0.002493                            0.000256   \n\n       Condition_code_icd10_subcategory_3  Condition_code_icd10_subcategory_4  \\\n0                               -0.000838                            0.015848   \n1                                0.001930                            0.001646   \n2                                0.117754                           -0.000199   \n3                               -0.001686                           -0.006667   \n4                                0.196713                           -0.026689   \n...                                   ...                                 ...   \n34808                            0.017181                            0.005268   \n34809                            0.017181                            0.005268   \n34810                            0.017181                            0.005268   \n34811                            0.017181                            0.005268   \n34812                            0.017181                            0.005268   \n\n       Condition_code_icd10_subcategory_5  Condition_code_icd10_subcategory_6  \\\n0                               -0.012121                            0.024801   \n1                               -0.023302                            0.001373   \n2                               -0.091936                           -0.018072   \n3                                0.009222                           -0.029115   \n4                               -0.275056                           -0.103088   \n...                                   ...                                 ...   \n34808                           -0.002803                            0.003885   \n34809                           -0.002803                            0.003885   \n34810                           -0.002803                            0.003885   \n34811                           -0.002803                            0.003885   \n34812                           -0.002803                            0.003885   \n\n       Condition_code_icd10_subcategory_7  Condition_code_icd10_subcategory_8  \\\n0                               -0.001196                           -0.000043   \n1                                0.002385                            0.012676   \n2                               -0.006114                            0.125409   \n3                               -0.007223                            0.013686   \n4                                0.068239                            0.115887   \n...                                   ...                                 ...   \n34808                            0.018779                            0.007095   \n34809                            0.018779                            0.007095   \n34810                            0.018779                            0.007095   \n34811                            0.018779                            0.007095   \n34812                            0.018779                            0.007095   \n\n       Condition_code_icd10_subcategory_9  \\\n0                                0.014389   \n1                               -0.007774   \n2                                0.025759   \n3                                0.083559   \n4                                0.203064   \n...                                   ...   \n34808                            0.012557   \n34809                            0.012557   \n34810                            0.012557   \n34811                            0.012557   \n34812                            0.012557   \n\n       Condition_code_icd10_subcategory_10  ...  immunization_381  \\\n0                                 0.013045  ...          0.002086   \n1                                -0.009500  ...          0.009159   \n2                                 0.033629  ...          0.039599   \n3                                 0.007821  ...          0.012041   \n4                                -0.030168  ...          0.044386   \n...                                    ...  ...               ...   \n34808                             0.028014  ...          0.039599   \n34809                             0.028014  ...          0.039599   \n34810                             0.028014  ...          0.039599   \n34811                             0.028014  ...          0.039599   \n34812                             0.028014  ...          0.039599   \n\n       immunization_382  immunization_383  immunization_384      Pain  \\\n0              0.003631         -0.012630          0.004525 -0.602408   \n1              0.007969          0.080220          0.019278 -0.602408   \n2             -0.003452          0.017028          0.000392 -0.602408   \n3             -0.003752         -0.008850         -0.000964  0.467482   \n4             -0.021996         -0.034940          0.032543 -0.602408   \n...                 ...               ...               ...       ...   \n34808         -0.003452          0.017028          0.000392 -0.602408   \n34809         -0.003452          0.017028          0.000392 -0.602408   \n34810         -0.003452          0.017028          0.000392 -0.602408   \n34811         -0.003452          0.017028          0.000392  0.824112   \n34812         -0.003452          0.017028          0.000392 -0.602408   \n\n          Pulse  Respiratory rate  Temperature  Diastolic bp  Systolic bp  \n0     -1.232983         -0.567447     0.111686     -0.185609     0.052023  \n1     -0.438079          0.215376     0.147267      0.196787    -0.369938  \n2      0.754278          0.737258     0.215760     -1.332796    -0.834096  \n3     -0.587123          1.520081     0.155599     -0.185609    -0.876292  \n4     -0.636805          1.781022     0.382885     -0.644484    -1.635823  \n...         ...               ...          ...           ...          ...  \n34808 -1.729799          1.781022     0.268460     -1.485754     0.305200  \n34809  1.896953          1.259140     0.467211     -0.032651     0.305200  \n34810  0.903323          2.824786    -0.148109     -0.415046    -1.720215  \n34811  0.058736          0.476317     0.343281     -1.026879    -0.918488  \n34812  2.344087          0.998199     0.109673     -0.338567    -0.960684  \n\n[34813 rows x 1158 columns]",
            "text/html": "<div>\n<style scoped>\n    .dataframe tbody tr th:only-of-type {\n        vertical-align: middle;\n    }\n\n    .dataframe tbody tr th {\n        vertical-align: top;\n    }\n\n    .dataframe thead th {\n        text-align: right;\n    }\n</style>\n<table border=\"1\" class=\"dataframe\">\n  <thead>\n    <tr style=\"text-align: right;\">\n      <th></th>\n      <th>Condition_code_icd10_subcategory_1</th>\n      <th>Condition_code_icd10_subcategory_2</th>\n      <th>Condition_code_icd10_subcategory_3</th>\n      <th>Condition_code_icd10_subcategory_4</th>\n      <th>Condition_code_icd10_subcategory_5</th>\n      <th>Condition_code_icd10_subcategory_6</th>\n      <th>Condition_code_icd10_subcategory_7</th>\n      <th>Condition_code_icd10_subcategory_8</th>\n      <th>Condition_code_icd10_subcategory_9</th>\n      <th>Condition_code_icd10_subcategory_10</th>\n      <th>...</th>\n      <th>immunization_381</th>\n      <th>immunization_382</th>\n      <th>immunization_383</th>\n      <th>immunization_384</th>\n      <th>Pain</th>\n      <th>Pulse</th>\n      <th>Respiratory rate</th>\n      <th>Temperature</th>\n      <th>Diastolic bp</th>\n      <th>Systolic bp</th>\n    </tr>\n  </thead>\n  <tbody>\n    <tr>\n      <th>0</th>\n      <td>-0.001144</td>\n      <td>0.003330</td>\n      <td>-0.000838</td>\n      <td>0.015848</td>\n      <td>-0.012121</td>\n      <td>0.024801</td>\n      <td>-0.001196</td>\n      <td>-0.000043</td>\n      <td>0.014389</td>\n      <td>0.013045</td>\n      <td>...</td>\n      <td>0.002086</td>\n      <td>0.003631</td>\n      <td>-0.012630</td>\n      <td>0.004525</td>\n      <td>-0.602408</td>\n      <td>-1.232983</td>\n      <td>-0.567447</td>\n      <td>0.111686</td>\n      <td>-0.185609</td>\n      <td>0.052023</td>\n    </tr>\n    <tr>\n      <th>1</th>\n      <td>-0.004487</td>\n      <td>0.004279</td>\n      <td>0.001930</td>\n      <td>0.001646</td>\n      <td>-0.023302</td>\n      <td>0.001373</td>\n      <td>0.002385</td>\n      <td>0.012676</td>\n      <td>-0.007774</td>\n      <td>-0.009500</td>\n      <td>...</td>\n      <td>0.009159</td>\n      <td>0.007969</td>\n      <td>0.080220</td>\n      <td>0.019278</td>\n      <td>-0.602408</td>\n      <td>-0.438079</td>\n      <td>0.215376</td>\n      <td>0.147267</td>\n      <td>0.196787</td>\n      <td>-0.369938</td>\n    </tr>\n    <tr>\n      <th>2</th>\n      <td>-0.020221</td>\n      <td>0.131774</td>\n      <td>0.117754</td>\n      <td>-0.000199</td>\n      <td>-0.091936</td>\n      <td>-0.018072</td>\n      <td>-0.006114</td>\n      <td>0.125409</td>\n      <td>0.025759</td>\n      <td>0.033629</td>\n      <td>...</td>\n      <td>0.039599</td>\n      <td>-0.003452</td>\n      <td>0.017028</td>\n      <td>0.000392</td>\n      <td>-0.602408</td>\n      <td>0.754278</td>\n      <td>0.737258</td>\n      <td>0.215760</td>\n      <td>-1.332796</td>\n      <td>-0.834096</td>\n    </tr>\n    <tr>\n      <th>3</th>\n      <td>-0.011352</td>\n      <td>-0.023619</td>\n      <td>-0.001686</td>\n      <td>-0.006667</td>\n      <td>0.009222</td>\n      <td>-0.029115</td>\n      <td>-0.007223</td>\n      <td>0.013686</td>\n      <td>0.083559</td>\n      <td>0.007821</td>\n      <td>...</td>\n      <td>0.012041</td>\n      <td>-0.003752</td>\n      <td>-0.008850</td>\n      <td>-0.000964</td>\n      <td>0.467482</td>\n      <td>-0.587123</td>\n      <td>1.520081</td>\n      <td>0.155599</td>\n      <td>-0.185609</td>\n      <td>-0.876292</td>\n    </tr>\n    <tr>\n      <th>4</th>\n      <td>-0.118118</td>\n      <td>0.179207</td>\n      <td>0.196713</td>\n      <td>-0.026689</td>\n      <td>-0.275056</td>\n      <td>-0.103088</td>\n      <td>0.068239</td>\n      <td>0.115887</td>\n      <td>0.203064</td>\n      <td>-0.030168</td>\n      <td>...</td>\n      <td>0.044386</td>\n      <td>-0.021996</td>\n      <td>-0.034940</td>\n      <td>0.032543</td>\n      <td>-0.602408</td>\n      <td>-0.636805</td>\n      <td>1.781022</td>\n      <td>0.382885</td>\n      <td>-0.644484</td>\n      <td>-1.635823</td>\n    </tr>\n    <tr>\n      <th>...</th>\n      <td>...</td>\n      <td>...</td>\n      <td>...</td>\n      <td>...</td>\n      <td>...</td>\n      <td>...</td>\n      <td>...</td>\n      <td>...</td>\n      <td>...</td>\n      <td>...</td>\n      <td>...</td>\n      <td>...</td>\n      <td>...</td>\n      <td>...</td>\n      <td>...</td>\n      <td>...</td>\n      <td>...</td>\n      <td>...</td>\n      <td>...</td>\n      <td>...</td>\n      <td>...</td>\n    </tr>\n    <tr>\n      <th>34808</th>\n      <td>-0.002493</td>\n      <td>0.000256</td>\n      <td>0.017181</td>\n      <td>0.005268</td>\n      <td>-0.002803</td>\n      <td>0.003885</td>\n      <td>0.018779</td>\n      <td>0.007095</td>\n      <td>0.012557</td>\n      <td>0.028014</td>\n      <td>...</td>\n      <td>0.039599</td>\n      <td>-0.003452</td>\n      <td>0.017028</td>\n      <td>0.000392</td>\n      <td>-0.602408</td>\n      <td>-1.729799</td>\n      <td>1.781022</td>\n      <td>0.268460</td>\n      <td>-1.485754</td>\n      <td>0.305200</td>\n    </tr>\n    <tr>\n      <th>34809</th>\n      <td>-0.002493</td>\n      <td>0.000256</td>\n      <td>0.017181</td>\n      <td>0.005268</td>\n      <td>-0.002803</td>\n      <td>0.003885</td>\n      <td>0.018779</td>\n      <td>0.007095</td>\n      <td>0.012557</td>\n      <td>0.028014</td>\n      <td>...</td>\n      <td>0.039599</td>\n      <td>-0.003452</td>\n      <td>0.017028</td>\n      <td>0.000392</td>\n      <td>-0.602408</td>\n      <td>1.896953</td>\n      <td>1.259140</td>\n      <td>0.467211</td>\n      <td>-0.032651</td>\n      <td>0.305200</td>\n    </tr>\n    <tr>\n      <th>34810</th>\n      <td>-0.002493</td>\n      <td>0.000256</td>\n      <td>0.017181</td>\n      <td>0.005268</td>\n      <td>-0.002803</td>\n      <td>0.003885</td>\n      <td>0.018779</td>\n      <td>0.007095</td>\n      <td>0.012557</td>\n      <td>0.028014</td>\n      <td>...</td>\n      <td>0.039599</td>\n      <td>-0.003452</td>\n      <td>0.017028</td>\n      <td>0.000392</td>\n      <td>-0.602408</td>\n      <td>0.903323</td>\n      <td>2.824786</td>\n      <td>-0.148109</td>\n      <td>-0.415046</td>\n      <td>-1.720215</td>\n    </tr>\n    <tr>\n      <th>34811</th>\n      <td>-0.002493</td>\n      <td>0.000256</td>\n      <td>0.017181</td>\n      <td>0.005268</td>\n      <td>-0.002803</td>\n      <td>0.003885</td>\n      <td>0.018779</td>\n      <td>0.007095</td>\n      <td>0.012557</td>\n      <td>0.028014</td>\n      <td>...</td>\n      <td>0.039599</td>\n      <td>-0.003452</td>\n      <td>0.017028</td>\n      <td>0.000392</td>\n      <td>0.824112</td>\n      <td>0.058736</td>\n      <td>0.476317</td>\n      <td>0.343281</td>\n      <td>-1.026879</td>\n      <td>-0.918488</td>\n    </tr>\n    <tr>\n      <th>34812</th>\n      <td>-0.002493</td>\n      <td>0.000256</td>\n      <td>0.017181</td>\n      <td>0.005268</td>\n      <td>-0.002803</td>\n      <td>0.003885</td>\n      <td>0.018779</td>\n      <td>0.007095</td>\n      <td>0.012557</td>\n      <td>0.028014</td>\n      <td>...</td>\n      <td>0.039599</td>\n      <td>-0.003452</td>\n      <td>0.017028</td>\n      <td>0.000392</td>\n      <td>-0.602408</td>\n      <td>2.344087</td>\n      <td>0.998199</td>\n      <td>0.109673</td>\n      <td>-0.338567</td>\n      <td>-0.960684</td>\n    </tr>\n  </tbody>\n</table>\n<p>34813 rows × 1158 columns</p>\n</div>"
          },
          "metadata": {}
        }
      ],
      "execution_count": null,
      "metadata": {
        "jupyter": {
          "source_hidden": false,
          "outputs_hidden": false
        },
        "nteract": {
          "transient": {
            "deleting": false
          }
        },
        "gather": {
          "logged": 1689768309971
        },
        "id": "yE6kbPjNXR1Z",
        "outputId": "6894d8b6-ee6a-4ae1-e9d6-3ed8817bf8b4"
      }
    },
    {
      "cell_type": "code",
      "source": [
        "X_train = whole_train\n",
        "X_test = whole_test\n",
        "y_train = target_train\n",
        "y_test = target_test"
      ],
      "outputs": [],
      "execution_count": null,
      "metadata": {
        "jupyter": {
          "source_hidden": false,
          "outputs_hidden": false
        },
        "nteract": {
          "transient": {
            "deleting": false
          }
        },
        "gather": {
          "logged": 1689768316712
        },
        "id": "Fy4clH__XR1Z"
      }
    },
    {
      "cell_type": "code",
      "source": [
        "X_train.shape, y_train.shape"
      ],
      "outputs": [
        {
          "output_type": "execute_result",
          "execution_count": 46,
          "data": {
            "text/plain": "((30000, 1158), (30000, 1))"
          },
          "metadata": {}
        }
      ],
      "execution_count": null,
      "metadata": {
        "jupyter": {
          "source_hidden": false,
          "outputs_hidden": false
        },
        "nteract": {
          "transient": {
            "deleting": false
          }
        },
        "gather": {
          "logged": 1689768319139
        },
        "id": "Afo_LZflXR1a",
        "outputId": "a05c8ca4-569d-4d31-817b-27373cfc73b4"
      }
    },
    {
      "cell_type": "code",
      "source": [
        "X_test.shape, y_test.shape"
      ],
      "outputs": [
        {
          "output_type": "execute_result",
          "execution_count": 47,
          "data": {
            "text/plain": "((34813, 1158), (34813, 1))"
          },
          "metadata": {}
        }
      ],
      "execution_count": null,
      "metadata": {
        "jupyter": {
          "source_hidden": false,
          "outputs_hidden": false
        },
        "nteract": {
          "transient": {
            "deleting": false
          }
        },
        "gather": {
          "logged": 1689768325199
        },
        "id": "dOTOcYX7XR1a",
        "outputId": "07ef4893-ee96-4f9b-a609-3328e35c8434"
      }
    },
    {
      "cell_type": "code",
      "source": [
        "import pandas as pd\n",
        "from sklearn.metrics import accuracy_score, precision_score, recall_score, classification_report\n",
        "from sklearn.metrics import accuracy_score\n",
        "from sklearn.ensemble import RandomForestClassifier\n",
        "from sklearn.experimental import enable_hist_gradient_boosting\n",
        "from sklearn.ensemble import HistGradientBoostingClassifier"
      ],
      "outputs": [
        {
          "output_type": "stream",
          "name": "stderr",
          "text": "/anaconda/envs/azureml_py38/lib/python3.8/site-packages/sklearn/experimental/enable_hist_gradient_boosting.py:15: UserWarning: Since version 1.0, it is not needed to import enable_hist_gradient_boosting anymore. HistGradientBoostingClassifier and HistGradientBoostingRegressor are now stable and can be normally imported from sklearn.ensemble.\n  warnings.warn(\n"
        }
      ],
      "execution_count": null,
      "metadata": {
        "jupyter": {
          "source_hidden": false,
          "outputs_hidden": false
        },
        "nteract": {
          "transient": {
            "deleting": false
          }
        },
        "gather": {
          "logged": 1689768328992
        },
        "id": "RQI4zn1pXR1a",
        "outputId": "1a2ecb0e-6428-403d-b1da-9b8718034d78"
      }
    },
    {
      "cell_type": "code",
      "source": [
        "# HistGradientBoosting\n",
        "hist_classifier = HistGradientBoostingClassifier()\n",
        "hist_classifier.fit(X_train, y_train)\n",
        "\n",
        "y_pred = hist_classifier.predict(X_test)"
      ],
      "outputs": [
        {
          "output_type": "stream",
          "name": "stderr",
          "text": "/anaconda/envs/azureml_py38/lib/python3.8/site-packages/sklearn/utils/validation.py:1184: DataConversionWarning: A column-vector y was passed when a 1d array was expected. Please change the shape of y to (n_samples, ), for example using ravel().\n  y = column_or_1d(y, warn=True)\n"
        }
      ],
      "execution_count": null,
      "metadata": {
        "jupyter": {
          "source_hidden": false,
          "outputs_hidden": false
        },
        "nteract": {
          "transient": {
            "deleting": false
          }
        },
        "gather": {
          "logged": 1689769258506
        },
        "id": "XawrEL7NXR1a",
        "outputId": "d494f19a-4523-42f7-f138-f63ff285489b"
      }
    },
    {
      "cell_type": "code",
      "source": [
        "print(\"Classification Report: \")\n",
        "print(classification_report(y_test,y_pred))"
      ],
      "outputs": [
        {
          "output_type": "stream",
          "name": "stdout",
          "text": "Classification Report: \n              precision    recall  f1-score   support\n\n           0       0.82      0.78      0.80      9485\n           1       0.92      0.94      0.93     25328\n\n    accuracy                           0.89     34813\n   macro avg       0.87      0.86      0.86     34813\nweighted avg       0.89      0.89      0.89     34813\n\n"
        }
      ],
      "execution_count": null,
      "metadata": {
        "jupyter": {
          "source_hidden": false,
          "outputs_hidden": false
        },
        "nteract": {
          "transient": {
            "deleting": false
          }
        },
        "gather": {
          "logged": 1689769267323
        },
        "id": "-0rUm3usXR1b",
        "outputId": "321c0c46-eadd-488f-f153-90c05bf3d410"
      }
    },
    {
      "cell_type": "code",
      "source": [
        "import seaborn as sns\n",
        "import matplotlib.pyplot as plt\n",
        "confusion = confusion_matrix(y_test, y_pred)\n",
        "print(\"Confusion MAtrix:\")\n",
        "print(confusion)\n",
        "sns.set(font_scale=1.4)\n",
        "plt.figure(figsize=(7,5))\n",
        "sns.heatmap(confusion, annot= True, fmt = 'd',cmap = 'Blues', annot_kws = {'size':16},\n",
        "            xticklabels = ['Predicted Negative', 'Predicted Positive'],\n",
        "            yticklabels = ['True Negative', 'True Positive'])\n",
        "\n",
        "plt.xlabel('Predicted Label')\n",
        "plt.ylabel('True Label')\n",
        "plt.title('confusion Matrix')\n",
        "plt.show()"
      ],
      "outputs": [
        {
          "output_type": "stream",
          "name": "stdout",
          "text": "Confusion MAtrix:\n[[ 7364  2121]\n [ 1636 23692]]\n"
        },
        {
          "output_type": "display_data",
          "data": {
            "text/plain": "<Figure size 700x500 with 2 Axes>",
            "image/png": "[encoded data removed]"
          },
          "metadata": {}
        }
      ],
      "execution_count": null,
      "metadata": {
        "jupyter": {
          "source_hidden": false,
          "outputs_hidden": false
        },
        "nteract": {
          "transient": {
            "deleting": false
          }
        },
        "gather": {
          "logged": 1689769327055
        },
        "id": "EjtlMIQhXR1b",
        "outputId": "5633570a-e39b-45c2-a387-fbb2b46fed86"
      }
    },
    {
      "cell_type": "code",
      "source": [
        "from sklearn.metrics import roc_auc_score, roc_curve\n",
        "\n",
        "y_pred_proba = hist_classifier.predict(X_test)\n",
        "auc = roc_auc_score(y_test, y_pred_proba)\n",
        "fpr, tpr, thresholds = roc_curve(y_test, y_pred_proba)"
      ],
      "outputs": [],
      "execution_count": null,
      "metadata": {
        "jupyter": {
          "source_hidden": false,
          "outputs_hidden": false
        },
        "nteract": {
          "transient": {
            "deleting": false
          }
        },
        "gather": {
          "logged": 1689769546259
        },
        "id": "GwGInaqZXR1b"
      }
    },
    {
      "cell_type": "code",
      "source": [
        "print(\"AUC:\", auc)"
      ],
      "outputs": [
        {
          "output_type": "stream",
          "name": "stdout",
          "text": "AUC: 0.8558956090192615\n"
        }
      ],
      "execution_count": null,
      "metadata": {
        "jupyter": {
          "source_hidden": false,
          "outputs_hidden": false
        },
        "nteract": {
          "transient": {
            "deleting": false
          }
        },
        "gather": {
          "logged": 1689769556393
        },
        "id": "4N66m4whXR1b",
        "outputId": "42d26a7b-da12-4ff4-f3aa-1dc5b27e1190"
      }
    },
    {
      "cell_type": "code",
      "source": [
        "import matplotlib.pyplot as plt\n",
        "plt.plot(fpr, tpr, label = 'ROC Curve (AUC = {:.2f})'.format(auc))\n",
        "plt.plot([0,1],[0,1], 'k--')\n",
        "plt.xlabel('False Positive Rate')\n",
        "plt.ylabel('True Positive Rate')\n",
        "plt.title('Receiver Operating Characteristic (ROC) curve')\n",
        "plt.legend(loc='lower right')\n",
        "plt.show()"
      ],
      "outputs": [
        {
          "output_type": "display_data",
          "data": {
            "text/plain": "<Figure size 640x480 with 1 Axes>",
            "image/png": "[encoded data removed]"
          },
          "metadata": {}
        }
      ],
      "execution_count": null,
      "metadata": {
        "jupyter": {
          "source_hidden": false,
          "outputs_hidden": false
        },
        "nteract": {
          "transient": {
            "deleting": false
          }
        },
        "gather": {
          "logged": 1689769578109
        },
        "id": "MQRojgXKXR1b",
        "outputId": "46c32d35-31f0-4391-b5d7-6cb1085a683b"
      }
    },
    {
      "cell_type": "code",
      "source": [
        "from sklearn.metrics import matthews_corrcoef\n",
        "\n",
        "# Calculate the Matthew Correaltion Coeffient\n",
        "mcc = matthews_corrcoef(y_test, y_pred)\n",
        "print((\"Matthew Correlation Coefficient(MCC):\", mcc))"
      ],
      "outputs": [
        {
          "output_type": "stream",
          "name": "stdout",
          "text": "('Matthew Correlation Coefficient(MCC):', 0.7238211123140351)\n"
        }
      ],
      "execution_count": null,
      "metadata": {
        "jupyter": {
          "source_hidden": false,
          "outputs_hidden": false
        },
        "nteract": {
          "transient": {
            "deleting": false
          }
        },
        "gather": {
          "logged": 1689769614184
        },
        "id": "fGmIb0wLXR1b",
        "outputId": "5c749d3c-4397-4386-d8da-49ac4d4fd703"
      }
    },
    {
      "cell_type": "code",
      "source": [
        "\n",
        "from sklearn.ensemble import RandomForestClassifier\n",
        "classifier= RandomForestClassifier(n_estimators= 200, criterion=\"entropy\",class_weight='balanced',random_state=42)\n",
        "classifier.fit(X_train, y_train)\n",
        "y_pred = classifier.predict(X_test)"
      ],
      "outputs": [
        {
          "output_type": "stream",
          "name": "stderr",
          "text": "/anaconda/envs/azureml_py38/lib/python3.8/site-packages/sklearn/base.py:1151: DataConversionWarning: A column-vector y was passed when a 1d array was expected. Please change the shape of y to (n_samples,), for example using ravel().\n  return fit_method(estimator, *args, **kwargs)\n"
        }
      ],
      "execution_count": null,
      "metadata": {
        "jupyter": {
          "source_hidden": false,
          "outputs_hidden": false
        },
        "nteract": {
          "transient": {
            "deleting": false
          }
        },
        "gather": {
          "logged": 1689768658159
        },
        "id": "nzk6qv46XR1c",
        "outputId": "bdbd3afd-d489-4438-e0a0-4f402d7b3477"
      }
    },
    {
      "cell_type": "code",
      "source": [
        "from sklearn.metrics import classification_report, confusion_matrix\n",
        "print(classification_report(y_test,y_pred))"
      ],
      "outputs": [
        {
          "output_type": "stream",
          "name": "stdout",
          "text": "              precision    recall  f1-score   support\n\n           0       0.82      0.74      0.78      9485\n           1       0.91      0.94      0.92     25328\n\n    accuracy                           0.89     34813\n   macro avg       0.86      0.84      0.85     34813\nweighted avg       0.88      0.89      0.88     34813\n\n"
        }
      ],
      "execution_count": null,
      "metadata": {
        "jupyter": {
          "source_hidden": false,
          "outputs_hidden": false
        },
        "nteract": {
          "transient": {
            "deleting": false
          }
        },
        "gather": {
          "logged": 1689768713509
        },
        "id": "MrhRa6qlXR1c",
        "outputId": "7f9ba80f-a3f8-4fe0-a7af-05b58c77f1df"
      }
    },
    {
      "cell_type": "code",
      "source": [
        "pip install xgboost"
      ],
      "outputs": [
        {
          "output_type": "stream",
          "name": "stdout",
          "text": "huggingface/tokenizers: The current process just got forked, after parallelism has already been used. Disabling parallelism to avoid deadlocks...\nTo disable this warning, you can either:\n\t- Avoid using `tokenizers` before the fork if possible\n\t- Explicitly set the environment variable TOKENIZERS_PARALLELISM=(true | false)\nRequirement already satisfied: xgboost in /anaconda/envs/azureml_py38/lib/python3.8/site-packages (1.3.3)\nRequirement already satisfied: numpy in /anaconda/envs/azureml_py38/lib/python3.8/site-packages (from xgboost) (1.21.6)\nRequirement already satisfied: scipy in /anaconda/envs/azureml_py38/lib/python3.8/site-packages (from xgboost) (1.10.1)\nNote: you may need to restart the kernel to use updated packages.\n"
        }
      ],
      "execution_count": null,
      "metadata": {
        "jupyter": {
          "source_hidden": false,
          "outputs_hidden": false
        },
        "nteract": {
          "transient": {
            "deleting": false
          }
        },
        "gather": {
          "logged": 1689768725142
        },
        "id": "uvzMMmRPXR1c",
        "outputId": "8f6fff9d-7ee9-4733-fa5f-971fb67c824b"
      }
    },
    {
      "cell_type": "code",
      "source": [
        "from xgboost import XGBClassifier\n",
        "XG = XGBClassifier(n_estimators=100,random_state=48)\n",
        "XG.fit(X_train, y_train)\n",
        "y_pred_xg = XG.predict(X_test)"
      ],
      "outputs": [
        {
          "output_type": "stream",
          "name": "stderr",
          "text": "/anaconda/envs/azureml_py38/lib/python3.8/site-packages/xgboost/sklearn.py:888: UserWarning: The use of label encoder in XGBClassifier is deprecated and will be removed in a future release. To remove this warning, do the following: 1) Pass option use_label_encoder=False when constructing XGBClassifier object; and 2) Encode your labels (y) as integers starting with 0, i.e. 0, 1, 2, ..., [num_class - 1].\n  warnings.warn(label_encoder_deprecation_msg, UserWarning)\n/anaconda/envs/azureml_py38/lib/python3.8/site-packages/sklearn/preprocessing/_label.py:97: DataConversionWarning: A column-vector y was passed when a 1d array was expected. Please change the shape of y to (n_samples, ), for example using ravel().\n  y = column_or_1d(y, warn=True)\n/anaconda/envs/azureml_py38/lib/python3.8/site-packages/sklearn/preprocessing/_label.py:132: DataConversionWarning: A column-vector y was passed when a 1d array was expected. Please change the shape of y to (n_samples, ), for example using ravel().\n  y = column_or_1d(y, dtype=self.classes_.dtype, warn=True)\n"
        },
        {
          "output_type": "stream",
          "name": "stdout",
          "text": "[12:12:17] WARNING: /mnt/xgboost/src/learner.cc:1061: Starting in XGBoost 1.3.0, the default evaluation metric used with the objective 'binary:logistic' was changed from 'error' to 'logloss'. Explicitly set eval_metric if you'd like to restore the old behavior.\n"
        }
      ],
      "execution_count": null,
      "metadata": {
        "jupyter": {
          "source_hidden": false,
          "outputs_hidden": false
        },
        "nteract": {
          "transient": {
            "deleting": false
          }
        },
        "gather": {
          "logged": 1689768765413
        },
        "id": "VBQlVwpsXR1c",
        "outputId": "c22c2692-640d-4e56-db22-6d0d74d86af1"
      }
    },
    {
      "cell_type": "code",
      "source": [
        "print(classification_report(y_test, y_pred_xg))"
      ],
      "outputs": [
        {
          "output_type": "stream",
          "name": "stdout",
          "text": "              precision    recall  f1-score   support\n\n           0       0.82      0.76      0.79      9485\n           1       0.91      0.94      0.92     25328\n\n    accuracy                           0.89     34813\n   macro avg       0.86      0.85      0.86     34813\nweighted avg       0.89      0.89      0.89     34813\n\n"
        }
      ],
      "execution_count": null,
      "metadata": {
        "jupyter": {
          "source_hidden": false,
          "outputs_hidden": false
        },
        "nteract": {
          "transient": {
            "deleting": false
          }
        },
        "gather": {
          "logged": 1689768769207
        },
        "id": "X9rZVwJtXR1d",
        "outputId": "ac6d6c87-695e-4b70-ceec-a7b133299eec"
      }
    },
    {
      "cell_type": "code",
      "source": [
        "\n",
        "import seaborn as sns\n",
        "import matplotlib.pyplot as plt\n",
        "confusion = confusion_matrix(y_test, y_pred)\n",
        "print(\"Confusion MAtrix:\")\n",
        "print(confusion)\n",
        "sns.set(font_scale=1.4)\n",
        "plt.figure(figsize=(7,5))\n",
        "sns.heatmap(confusion, annot= True, fmt = 'd',cmap = 'Blues', annot_kws = {'size':16},\n",
        "            xticklabels = ['Predicted Negative', 'Predicted Positive'],\n",
        "            yticklabels = ['True Negative', 'True Positive'])\n",
        "\n",
        "plt.xlabel('Predicted Label')\n",
        "plt.ylabel('True Label')\n",
        "plt.title('confusion Matrix')\n",
        "plt.show()"
      ],
      "outputs": [],
      "execution_count": null,
      "metadata": {
        "jupyter": {
          "source_hidden": false,
          "outputs_hidden": false
        },
        "nteract": {
          "transient": {
            "deleting": false
          }
        },
        "id": "F9USgacwXR1d"
      }
    }
  ],
  "metadata": {
    "kernelspec": {
      "name": "python38-azureml",
      "language": "python",
      "display_name": "Python 3.8 - AzureML"
    },
    "language_info": {
      "name": "python",
      "version": "3.8.5",
      "mimetype": "text/x-python",
      "codemirror_mode": {
        "name": "ipython",
        "version": 3
      },
      "pygments_lexer": "ipython3",
      "nbconvert_exporter": "python",
      "file_extension": ".py"
    },
    "microsoft": {
      "ms_spell_check": {
        "ms_spell_check_language": "en"
      },
      "host": {
        "AzureML": {
          "notebookHasBeenCompleted": true
        }
      }
    },
    "kernel_info": {
      "name": "python38-azureml"
    },
    "nteract": {
      "version": "nteract-front-end@1.0.0"
    },
    "colab": {
      "provenance": [],
      "include_colab_link": true
    }
  },
  "nbformat": 4,
  "nbformat_minor": 0
}